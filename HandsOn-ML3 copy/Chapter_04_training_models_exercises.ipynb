{
 "cells": [
  {
   "cell_type": "code",
   "execution_count": 1,
   "id": "0412aab9",
   "metadata": {
    "_cell_guid": "b1076dfc-b9ad-4769-8c92-a6c4dae69d19",
    "_uuid": "8f2839f25d086af736a60e9eeb907d3b93b6e0e5",
    "execution": {
     "iopub.execute_input": "2022-10-28T02:16:45.316216Z",
     "iopub.status.busy": "2022-10-28T02:16:45.315581Z",
     "iopub.status.idle": "2022-10-28T02:16:45.329633Z",
     "shell.execute_reply": "2022-10-28T02:16:45.328664Z"
    },
    "papermill": {
     "duration": 0.027748,
     "end_time": "2022-10-28T02:16:45.332064",
     "exception": false,
     "start_time": "2022-10-28T02:16:45.304316",
     "status": "completed"
    },
    "tags": []
   },
   "outputs": [],
   "source": [
    "# This Python 3 environment comes with many helpful analytics libraries installed\n",
    "# It is defined by the kaggle/python Docker image: https://github.com/kaggle/docker-python\n",
    "# For example, here's several helpful packages to load\n",
    "\n",
    "import numpy as np # linear algebra\n",
    "import pandas as pd # data processing, CSV file I/O (e.g. pd.read_csv)\n",
    "\n",
    "# Input data files are available in the read-only \"../input/\" directory\n",
    "# For example, running this (by clicking run or pressing Shift+Enter) will list all files under the input directory\n",
    "\n",
    "import os\n",
    "for dirname, _, filenames in os.walk('/kaggle/input'):\n",
    "    for filename in filenames:\n",
    "        print(os.path.join(dirname, filename))\n",
    "\n",
    "# You can write up to 20GB to the current directory (/kaggle/working/) that gets preserved as output when you create a version using \"Save & Run All\" \n",
    "# You can also write temporary files to /kaggle/temp/, but they won't be saved outside of the current session"
   ]
  },
  {
   "cell_type": "markdown",
   "id": "f99493f6",
   "metadata": {
    "papermill": {
     "duration": 0.00745,
     "end_time": "2022-10-28T02:16:45.349000",
     "exception": false,
     "start_time": "2022-10-28T02:16:45.341550",
     "status": "completed"
    },
    "tags": []
   },
   "source": [
    "1. Which linear regression training algorithm can you use if you have a training set with millions of features?\n",
    "        \n",
    "        Batch/Stochastic/Mini-batch GD"
   ]
  },
  {
   "cell_type": "markdown",
   "id": "b75efbbe",
   "metadata": {
    "papermill": {
     "duration": 0.007092,
     "end_time": "2022-10-28T02:16:45.363561",
     "exception": false,
     "start_time": "2022-10-28T02:16:45.356469",
     "status": "completed"
    },
    "tags": []
   },
   "source": [
    "2. Suppose the features in your training set have very diﬀerent scales. Which algorithms might suﬀer from this, and how? What can you do about it?\n",
    "        \n",
    "        GD algos too\n",
    "        Ridge regression, because it's sensitive to the scale of the input features, which is the case for most regularized models. Use a scaler such as StandardScaler."
   ]
  },
  {
   "cell_type": "markdown",
   "id": "2f8d94ca",
   "metadata": {
    "papermill": {
     "duration": 0.007549,
     "end_time": "2022-10-28T02:16:45.378419",
     "exception": false,
     "start_time": "2022-10-28T02:16:45.370870",
     "status": "completed"
    },
    "tags": []
   },
   "source": [
    "3. Can gradient descent get stuck in a local minimum when training a logistic regression model?\n",
    "        \n",
    "        No because the cost function is convex"
   ]
  },
  {
   "cell_type": "markdown",
   "id": "b3e45bfd",
   "metadata": {
    "papermill": {
     "duration": 0.007147,
     "end_time": "2022-10-28T02:16:45.393006",
     "exception": false,
     "start_time": "2022-10-28T02:16:45.385859",
     "status": "completed"
    },
    "tags": []
   },
   "source": [
    "4. Do all gradient descent algorithms lead to the same model, provided you let them run long enough?\n",
    "        \n",
    "        No, e.g., stochastic GD will neve reach the exact global minimum\n",
    "        If the optimization problem is convex (such as Linear Regression or Logistic Regression), and assuming the learning rate is not too high, then all Gradient Descent algorithms will approach the global optimum and end up producing fairly similar models"
   ]
  },
  {
   "cell_type": "markdown",
   "id": "b37d2ae7",
   "metadata": {
    "papermill": {
     "duration": 0.008706,
     "end_time": "2022-10-28T02:16:45.409201",
     "exception": false,
     "start_time": "2022-10-28T02:16:45.400495",
     "status": "completed"
    },
    "tags": []
   },
   "source": [
    "5. Suppose you use batch gradient descent and you plot the validation error at every epoch. If you notice that the validation error consistently goes up, what is likely going on? How can you ﬁx this?\n",
    "\n",
    "        If training error is going up too, the learning rate is too high and the algorithm is diverging\n",
    "        If the training error doesn't go up, overfitiing. Reduce model complexity."
   ]
  },
  {
   "cell_type": "markdown",
   "id": "a33e43b0",
   "metadata": {
    "papermill": {
     "duration": 0.007145,
     "end_time": "2022-10-28T02:16:45.423826",
     "exception": false,
     "start_time": "2022-10-28T02:16:45.416681",
     "status": "completed"
    },
    "tags": []
   },
   "source": [
    "6. Is it a good idea to stop mini-batch gradient descent immediately when the validation error goes up?\n",
    "\n",
    "        No. It might be a local minimum.\n",
    "        A better option is to save the model at regular intervals; then, when it has not improved for a long time (meaning it will probably never beat the record), you can revert to the best saved model."
   ]
  },
  {
   "cell_type": "markdown",
   "id": "572bfb1c",
   "metadata": {
    "papermill": {
     "duration": 0.00747,
     "end_time": "2022-10-28T02:16:45.438699",
     "exception": false,
     "start_time": "2022-10-28T02:16:45.431229",
     "status": "completed"
    },
    "tags": []
   },
   "source": [
    "7. Which gradient descent algorithm (among those we discussed) will reach the vicinity of the optimal solution the fastest? Which will actually converge? How can you make the others converge as well?\n",
    "\n",
    "    Stochastic Gradient Descent has the fastest training iteration since it considers only one training instance at a time, so it is generally the first to reach the vicinity of the global optimum (or Mini-batch GD with a very small mini-batch size). \n",
    "    However, only Batch Gradient Descent will actually converge, given enough training time. As mentioned, Stochastic GD and Mini-batch GD will bounce around the optimum, unless you gradually reduce the learning rate."
   ]
  },
  {
   "cell_type": "markdown",
   "id": "fab22269",
   "metadata": {
    "papermill": {
     "duration": 0.007126,
     "end_time": "2022-10-28T02:16:45.454956",
     "exception": false,
     "start_time": "2022-10-28T02:16:45.447830",
     "status": "completed"
    },
    "tags": []
   },
   "source": [
    "8. Suppose you are using polynomial regression. You plot the learning curves and you notice that there is a large gap between the training error and the validation error. What is happening? What are three ways to solve this?\n",
    "\n",
    "        Most likely that the validation error is much higher than the training error\n",
    "        Probably overfitting\n",
    "        1. reduce model complexity\n",
    "        2. feed more training data\n",
    "        3. use regularized cost function"
   ]
  },
  {
   "cell_type": "markdown",
   "id": "7938e6d5",
   "metadata": {
    "papermill": {
     "duration": 0.007099,
     "end_time": "2022-10-28T02:16:45.469673",
     "exception": false,
     "start_time": "2022-10-28T02:16:45.462574",
     "status": "completed"
    },
    "tags": []
   },
   "source": [
    "9. Suppose you are using ridge regression and you notice that the training error and the validation error are almost equal and fairly high. Would you say that the model suﬀers from high bias or high variance? Should you increase the regularization hyperparameter α or reduce it?\n",
    "\n",
    "        High bias. Need to reduce the regularization."
   ]
  },
  {
   "cell_type": "markdown",
   "id": "75e2a32d",
   "metadata": {
    "papermill": {
     "duration": 0.007204,
     "end_time": "2022-10-28T02:16:45.484457",
     "exception": false,
     "start_time": "2022-10-28T02:16:45.477253",
     "status": "completed"
    },
    "tags": []
   },
   "source": [
    "10. Why would you want to use:\n",
    "\n",
    "    a. Ridge regression instead of plain linear regression (i.e., without any regularization)?\n",
    "        A model with some regularization typically performs better than a model without any regularization\n",
    "        To avoid overfitting data (noisy data)\n",
    "\n",
    "\n",
    "    b. Lasso instead of ridge regression?\n",
    "        Lasso Regression uses an ℓ₁ penalty, which tends to push the weights down to exactly zero. This leads to sparse models, where all weights are zero except for the most important weights. This is a way to perform feature selection automatically, which is good if you suspect that only a few features actually matter. When you are not sure, you should prefer Ridge Regression.\n",
    "\n",
    "    c. Elastic net instead of lasso regression?\n",
    "        More choices over the amount of regularization applied\n",
    "        Elastic Net is generally preferred over Lasso since Lasso may behave erratically in some cases"
   ]
  },
  {
   "cell_type": "markdown",
   "id": "881812cf",
   "metadata": {
    "papermill": {
     "duration": 0.00705,
     "end_time": "2022-10-28T02:16:45.498835",
     "exception": false,
     "start_time": "2022-10-28T02:16:45.491785",
     "status": "completed"
    },
    "tags": []
   },
   "source": [
    "11. Suppose you want to classify pictures as outdoor/indoor and daytime/nighttime. Should you implement two logistic regression classiﬁers or one softmax regression classiﬁer?\n",
    "\n",
    "    Two logi because there are overlapping situations"
   ]
  },
  {
   "cell_type": "markdown",
   "id": "19847213",
   "metadata": {
    "papermill": {
     "duration": 0.007119,
     "end_time": "2022-10-28T02:16:45.513415",
     "exception": false,
     "start_time": "2022-10-28T02:16:45.506296",
     "status": "completed"
    },
    "tags": []
   },
   "source": [
    "12. Implement batch gradient descent with early stopping for softmax regression without using Scikit-Learn, only NumPy. Use it on a classiﬁcation task such as the iris dataset."
   ]
  },
  {
   "cell_type": "code",
   "execution_count": 2,
   "id": "07bded9f",
   "metadata": {
    "execution": {
     "iopub.execute_input": "2022-10-28T02:16:45.530108Z",
     "iopub.status.busy": "2022-10-28T02:16:45.529747Z",
     "iopub.status.idle": "2022-10-28T02:16:46.759944Z",
     "shell.execute_reply": "2022-10-28T02:16:46.758640Z"
    },
    "papermill": {
     "duration": 1.241916,
     "end_time": "2022-10-28T02:16:46.762713",
     "exception": false,
     "start_time": "2022-10-28T02:16:45.520797",
     "status": "completed"
    },
    "tags": []
   },
   "outputs": [],
   "source": [
    "from sklearn.datasets import load_iris\n",
    "iris = load_iris(as_frame=True)\n",
    "X = iris.data[[\"petal length (cm)\", \"petal width (cm)\"]].values\n",
    "y = iris[\"target\"].values"
   ]
  },
  {
   "cell_type": "code",
   "execution_count": 3,
   "id": "e26ff057",
   "metadata": {
    "execution": {
     "iopub.execute_input": "2022-10-28T02:16:46.779506Z",
     "iopub.status.busy": "2022-10-28T02:16:46.779070Z",
     "iopub.status.idle": "2022-10-28T02:16:46.784459Z",
     "shell.execute_reply": "2022-10-28T02:16:46.783308Z"
    },
    "papermill": {
     "duration": 0.016336,
     "end_time": "2022-10-28T02:16:46.786594",
     "exception": false,
     "start_time": "2022-10-28T02:16:46.770258",
     "status": "completed"
    },
    "tags": []
   },
   "outputs": [],
   "source": [
    "X_with_bias = np.c_[np.ones(len(X)), X]"
   ]
  },
  {
   "cell_type": "code",
   "execution_count": 4,
   "id": "f705dfd9",
   "metadata": {
    "execution": {
     "iopub.execute_input": "2022-10-28T02:16:46.803826Z",
     "iopub.status.busy": "2022-10-28T02:16:46.803218Z",
     "iopub.status.idle": "2022-10-28T02:16:46.810930Z",
     "shell.execute_reply": "2022-10-28T02:16:46.810162Z"
    },
    "papermill": {
     "duration": 0.018973,
     "end_time": "2022-10-28T02:16:46.813161",
     "exception": false,
     "start_time": "2022-10-28T02:16:46.794188",
     "status": "completed"
    },
    "tags": []
   },
   "outputs": [],
   "source": [
    "test_ratio = 0.2\n",
    "validation_ratio = 0.2\n",
    "total_size = len(X_with_bias)\n",
    "\n",
    "test_size = int(total_size * test_ratio)\n",
    "validation_size = int(total_size * validation_ratio)\n",
    "train_size = total_size - test_size - validation_size\n",
    "\n",
    "np.random.seed(42)\n",
    "rnd_indices = np.random.permutation(total_size)\n",
    "\n",
    "X_train = X_with_bias[rnd_indices[:train_size]]\n",
    "y_train = y[rnd_indices[:train_size]]\n",
    "X_valid = X_with_bias[rnd_indices[train_size:-test_size]]\n",
    "y_valid = y[rnd_indices[train_size:-test_size]]\n",
    "X_test = X_with_bias[rnd_indices[-test_size:]]\n",
    "y_test = y[rnd_indices[-test_size:]]"
   ]
  },
  {
   "cell_type": "code",
   "execution_count": 5,
   "id": "ebfe1d76",
   "metadata": {
    "execution": {
     "iopub.execute_input": "2022-10-28T02:16:46.830540Z",
     "iopub.status.busy": "2022-10-28T02:16:46.829559Z",
     "iopub.status.idle": "2022-10-28T02:16:46.834702Z",
     "shell.execute_reply": "2022-10-28T02:16:46.833834Z"
    },
    "papermill": {
     "duration": 0.016238,
     "end_time": "2022-10-28T02:16:46.836964",
     "exception": false,
     "start_time": "2022-10-28T02:16:46.820726",
     "status": "completed"
    },
    "tags": []
   },
   "outputs": [],
   "source": [
    "def to_one_hot(y):\n",
    "    return np.diag(np.ones(y.max() + 1))[y]"
   ]
  },
  {
   "cell_type": "code",
   "execution_count": 6,
   "id": "4d96a920",
   "metadata": {
    "execution": {
     "iopub.execute_input": "2022-10-28T02:16:46.854802Z",
     "iopub.status.busy": "2022-10-28T02:16:46.854186Z",
     "iopub.status.idle": "2022-10-28T02:16:46.862608Z",
     "shell.execute_reply": "2022-10-28T02:16:46.861580Z"
    },
    "papermill": {
     "duration": 0.019924,
     "end_time": "2022-10-28T02:16:46.865041",
     "exception": false,
     "start_time": "2022-10-28T02:16:46.845117",
     "status": "completed"
    },
    "tags": []
   },
   "outputs": [
    {
     "data": {
      "text/plain": [
       "array([[0., 1., 0.],\n",
       "       [1., 0., 0.],\n",
       "       [0., 0., 1.],\n",
       "       [0., 1., 0.],\n",
       "       [0., 1., 0.],\n",
       "       [1., 0., 0.],\n",
       "       [0., 1., 0.],\n",
       "       [0., 0., 1.],\n",
       "       [0., 1., 0.],\n",
       "       [0., 1., 0.]])"
      ]
     },
     "execution_count": 6,
     "metadata": {},
     "output_type": "execute_result"
    }
   ],
   "source": [
    "y_train[:10]\n",
    "to_one_hot(y_train[:10])"
   ]
  },
  {
   "cell_type": "code",
   "execution_count": 7,
   "id": "c9c7777e",
   "metadata": {
    "execution": {
     "iopub.execute_input": "2022-10-28T02:16:46.882594Z",
     "iopub.status.busy": "2022-10-28T02:16:46.882213Z",
     "iopub.status.idle": "2022-10-28T02:16:46.887253Z",
     "shell.execute_reply": "2022-10-28T02:16:46.886070Z"
    },
    "papermill": {
     "duration": 0.016313,
     "end_time": "2022-10-28T02:16:46.889324",
     "exception": false,
     "start_time": "2022-10-28T02:16:46.873011",
     "status": "completed"
    },
    "tags": []
   },
   "outputs": [],
   "source": [
    "Y_train_one_hot = to_one_hot(y_train)\n",
    "Y_valid_one_hot = to_one_hot(y_valid)\n",
    "Y_test_one_hot = to_one_hot(y_test)"
   ]
  },
  {
   "cell_type": "code",
   "execution_count": 8,
   "id": "2d21d159",
   "metadata": {
    "execution": {
     "iopub.execute_input": "2022-10-28T02:16:46.906682Z",
     "iopub.status.busy": "2022-10-28T02:16:46.906304Z",
     "iopub.status.idle": "2022-10-28T02:16:46.913417Z",
     "shell.execute_reply": "2022-10-28T02:16:46.912229Z"
    },
    "papermill": {
     "duration": 0.018724,
     "end_time": "2022-10-28T02:16:46.915733",
     "exception": false,
     "start_time": "2022-10-28T02:16:46.897009",
     "status": "completed"
    },
    "tags": []
   },
   "outputs": [],
   "source": [
    "mean = X_train[:, 1:].mean(axis=0)\n",
    "std = X_train[:, 1:].std(axis=0)\n",
    "X_train[:, 1:] = (X_train[:, 1:] - mean) / std\n",
    "X_valid[:, 1:] = (X_valid[:, 1:] - mean) / std\n",
    "X_test[:, 1:] = (X_test[:, 1:] - mean) / std"
   ]
  },
  {
   "cell_type": "code",
   "execution_count": 9,
   "id": "7c0be09a",
   "metadata": {
    "execution": {
     "iopub.execute_input": "2022-10-28T02:16:46.933490Z",
     "iopub.status.busy": "2022-10-28T02:16:46.932866Z",
     "iopub.status.idle": "2022-10-28T02:16:46.938194Z",
     "shell.execute_reply": "2022-10-28T02:16:46.937206Z"
    },
    "papermill": {
     "duration": 0.016743,
     "end_time": "2022-10-28T02:16:46.940206",
     "exception": false,
     "start_time": "2022-10-28T02:16:46.923463",
     "status": "completed"
    },
    "tags": []
   },
   "outputs": [],
   "source": [
    "def softmax(logits):\n",
    "    exps = np.exp(logits)\n",
    "    exp_sums = exps.sum(axis=1, keepdims=True)\n",
    "    return exps / exp_sums"
   ]
  },
  {
   "cell_type": "code",
   "execution_count": 10,
   "id": "7e5c4e42",
   "metadata": {
    "execution": {
     "iopub.execute_input": "2022-10-28T02:16:46.957693Z",
     "iopub.status.busy": "2022-10-28T02:16:46.956992Z",
     "iopub.status.idle": "2022-10-28T02:16:46.961841Z",
     "shell.execute_reply": "2022-10-28T02:16:46.960763Z"
    },
    "papermill": {
     "duration": 0.016389,
     "end_time": "2022-10-28T02:16:46.964373",
     "exception": false,
     "start_time": "2022-10-28T02:16:46.947984",
     "status": "completed"
    },
    "tags": []
   },
   "outputs": [],
   "source": [
    "n_inputs = X_train.shape[1]  # == 3 (2 features plus the bias term)\n",
    "n_outputs = len(np.unique(y_train))  # == 3 (there are 3 iris classes)"
   ]
  },
  {
   "cell_type": "code",
   "execution_count": 11,
   "id": "7874d497",
   "metadata": {
    "execution": {
     "iopub.execute_input": "2022-10-28T02:16:46.981973Z",
     "iopub.status.busy": "2022-10-28T02:16:46.981284Z",
     "iopub.status.idle": "2022-10-28T02:16:47.112910Z",
     "shell.execute_reply": "2022-10-28T02:16:47.111194Z"
    },
    "papermill": {
     "duration": 0.143406,
     "end_time": "2022-10-28T02:16:47.115587",
     "exception": false,
     "start_time": "2022-10-28T02:16:46.972181",
     "status": "completed"
    },
    "tags": []
   },
   "outputs": [
    {
     "name": "stdout",
     "output_type": "stream",
     "text": [
      "0 3.7085808486476917\n",
      "1000 0.14519367480830644\n",
      "2000 0.1301309575504088\n",
      "3000 0.12009639326384539\n",
      "4000 0.11372961364786884\n",
      "5000 0.11002459532472425\n"
     ]
    }
   ],
   "source": [
    "eta = 0.5\n",
    "n_epochs = 5001\n",
    "m = len(X_train)\n",
    "epsilon = 1e-5\n",
    "\n",
    "np.random.seed(42)\n",
    "Theta = np.random.randn(n_inputs, n_outputs)\n",
    "\n",
    "for epoch in range(n_epochs):\n",
    "    logits = X_train @ Theta\n",
    "    Y_proba = softmax(logits)\n",
    "    if epoch % 1000 == 0:\n",
    "        Y_proba_valid = softmax(X_valid @ Theta)\n",
    "        xentropy_losses = -(Y_valid_one_hot * np.log(Y_proba_valid + epsilon))\n",
    "        print(epoch, xentropy_losses.sum(axis=1).mean())\n",
    "    error = Y_proba - Y_train_one_hot\n",
    "    gradients = 1 / m * X_train.T @ error\n",
    "    Theta = Theta - eta * gradients"
   ]
  },
  {
   "cell_type": "code",
   "execution_count": 12,
   "id": "638cc50f",
   "metadata": {
    "execution": {
     "iopub.execute_input": "2022-10-28T02:16:47.133114Z",
     "iopub.status.busy": "2022-10-28T02:16:47.132668Z",
     "iopub.status.idle": "2022-10-28T02:16:47.140197Z",
     "shell.execute_reply": "2022-10-28T02:16:47.139163Z"
    },
    "papermill": {
     "duration": 0.018727,
     "end_time": "2022-10-28T02:16:47.142316",
     "exception": false,
     "start_time": "2022-10-28T02:16:47.123589",
     "status": "completed"
    },
    "tags": []
   },
   "outputs": [
    {
     "data": {
      "text/plain": [
       "array([[ 0.41931626,  6.11112089, -5.52429876],\n",
       "       [-6.53054533, -0.74608616,  8.33137102],\n",
       "       [-5.28115784,  0.25152675,  6.90680425]])"
      ]
     },
     "execution_count": 12,
     "metadata": {},
     "output_type": "execute_result"
    }
   ],
   "source": [
    "Theta"
   ]
  },
  {
   "cell_type": "code",
   "execution_count": 13,
   "id": "5f4bdab2",
   "metadata": {
    "execution": {
     "iopub.execute_input": "2022-10-28T02:16:47.160192Z",
     "iopub.status.busy": "2022-10-28T02:16:47.159311Z",
     "iopub.status.idle": "2022-10-28T02:16:47.167331Z",
     "shell.execute_reply": "2022-10-28T02:16:47.166214Z"
    },
    "papermill": {
     "duration": 0.01936,
     "end_time": "2022-10-28T02:16:47.169586",
     "exception": false,
     "start_time": "2022-10-28T02:16:47.150226",
     "status": "completed"
    },
    "tags": []
   },
   "outputs": [
    {
     "data": {
      "text/plain": [
       "0.9333333333333333"
      ]
     },
     "execution_count": 13,
     "metadata": {},
     "output_type": "execute_result"
    }
   ],
   "source": [
    "logits = X_valid @ Theta\n",
    "Y_proba = softmax(logits)\n",
    "y_predict = Y_proba.argmax(axis=1)\n",
    "\n",
    "accuracy_score = (y_predict == y_valid).mean()\n",
    "accuracy_score"
   ]
  },
  {
   "cell_type": "code",
   "execution_count": 14,
   "id": "ae52b746",
   "metadata": {
    "execution": {
     "iopub.execute_input": "2022-10-28T02:16:47.187609Z",
     "iopub.status.busy": "2022-10-28T02:16:47.187209Z",
     "iopub.status.idle": "2022-10-28T02:16:47.519460Z",
     "shell.execute_reply": "2022-10-28T02:16:47.517850Z"
    },
    "papermill": {
     "duration": 0.345941,
     "end_time": "2022-10-28T02:16:47.523733",
     "exception": false,
     "start_time": "2022-10-28T02:16:47.177792",
     "status": "completed"
    },
    "tags": []
   },
   "outputs": [
    {
     "name": "stdout",
     "output_type": "stream",
     "text": [
      "0 3.7372\n",
      "1000 0.3259\n",
      "2000 0.3259\n",
      "3000 0.3259\n",
      "4000 0.3259\n",
      "5000 0.3259\n"
     ]
    }
   ],
   "source": [
    "eta = 0.5\n",
    "n_epochs = 5001\n",
    "m = len(X_train)\n",
    "epsilon = 1e-5\n",
    "alpha = 0.01  # regularization hyperparameter\n",
    "\n",
    "np.random.seed(42)\n",
    "Theta = np.random.randn(n_inputs, n_outputs)\n",
    "\n",
    "for epoch in range(n_epochs):\n",
    "    logits = X_train @ Theta\n",
    "    Y_proba = softmax(logits)\n",
    "    if epoch % 1000 == 0:\n",
    "        Y_proba_valid = softmax(X_valid @ Theta)\n",
    "        xentropy_losses = -(Y_valid_one_hot * np.log(Y_proba_valid + epsilon))\n",
    "        l2_loss = 1 / 2 * (Theta[1:] ** 2).sum()\n",
    "        total_loss = xentropy_losses.sum(axis=1).mean() + alpha * l2_loss\n",
    "        print(epoch, total_loss.round(4))\n",
    "    error = Y_proba - Y_train_one_hot\n",
    "    gradients = 1 / m * X_train.T @ error\n",
    "    gradients += np.r_[np.zeros([1, n_outputs]), alpha * Theta[1:]]\n",
    "    Theta = Theta - eta * gradients"
   ]
  },
  {
   "cell_type": "code",
   "execution_count": 15,
   "id": "737b090b",
   "metadata": {
    "execution": {
     "iopub.execute_input": "2022-10-28T02:16:47.542524Z",
     "iopub.status.busy": "2022-10-28T02:16:47.542089Z",
     "iopub.status.idle": "2022-10-28T02:16:47.550074Z",
     "shell.execute_reply": "2022-10-28T02:16:47.549227Z"
    },
    "papermill": {
     "duration": 0.019705,
     "end_time": "2022-10-28T02:16:47.552222",
     "exception": false,
     "start_time": "2022-10-28T02:16:47.532517",
     "status": "completed"
    },
    "tags": []
   },
   "outputs": [
    {
     "data": {
      "text/plain": [
       "0.9333333333333333"
      ]
     },
     "execution_count": 15,
     "metadata": {},
     "output_type": "execute_result"
    }
   ],
   "source": [
    "logits = X_valid @ Theta\n",
    "Y_proba = softmax(logits)\n",
    "y_predict = Y_proba.argmax(axis=1)\n",
    "\n",
    "accuracy_score = (y_predict == y_valid).mean()\n",
    "accuracy_score"
   ]
  },
  {
   "cell_type": "code",
   "execution_count": 16,
   "id": "cd62b319",
   "metadata": {
    "execution": {
     "iopub.execute_input": "2022-10-28T02:16:47.570783Z",
     "iopub.status.busy": "2022-10-28T02:16:47.570357Z",
     "iopub.status.idle": "2022-10-28T02:16:47.627996Z",
     "shell.execute_reply": "2022-10-28T02:16:47.626587Z"
    },
    "papermill": {
     "duration": 0.069892,
     "end_time": "2022-10-28T02:16:47.630624",
     "exception": false,
     "start_time": "2022-10-28T02:16:47.560732",
     "status": "completed"
    },
    "tags": []
   },
   "outputs": [
    {
     "name": "stdout",
     "output_type": "stream",
     "text": [
      "0 3.7372\n",
      "281 0.3256\n",
      "282 0.3256 early stopping!\n"
     ]
    }
   ],
   "source": [
    "eta = 0.5\n",
    "n_epochs = 50_001\n",
    "m = len(X_train)\n",
    "epsilon = 1e-5\n",
    "C = 100  # regularization hyperparameter\n",
    "best_loss = np.infty\n",
    "\n",
    "np.random.seed(42)\n",
    "Theta = np.random.randn(n_inputs, n_outputs)\n",
    "\n",
    "for epoch in range(n_epochs):\n",
    "    logits = X_train @ Theta\n",
    "    Y_proba = softmax(logits)\n",
    "    Y_proba_valid = softmax(X_valid @ Theta)\n",
    "    xentropy_losses = -(Y_valid_one_hot * np.log(Y_proba_valid + epsilon))\n",
    "    l2_loss = 1 / 2 * (Theta[1:] ** 2).sum()\n",
    "    total_loss = xentropy_losses.sum(axis=1).mean() + 1 / C * l2_loss\n",
    "    if epoch % 1000 == 0:\n",
    "        print(epoch, total_loss.round(4))\n",
    "    if total_loss < best_loss:\n",
    "        best_loss = total_loss\n",
    "    else:\n",
    "        print(epoch - 1, best_loss.round(4))\n",
    "        print(epoch, total_loss.round(4), \"early stopping!\")\n",
    "        break\n",
    "    error = Y_proba - Y_train_one_hot\n",
    "    gradients = 1 / m * X_train.T @ error\n",
    "    gradients += np.r_[np.zeros([1, n_outputs]), 1 / C * Theta[1:]]\n",
    "    Theta = Theta - eta * gradients"
   ]
  },
  {
   "cell_type": "code",
   "execution_count": 17,
   "id": "53be0096",
   "metadata": {
    "execution": {
     "iopub.execute_input": "2022-10-28T02:16:47.649981Z",
     "iopub.status.busy": "2022-10-28T02:16:47.648813Z",
     "iopub.status.idle": "2022-10-28T02:16:47.658059Z",
     "shell.execute_reply": "2022-10-28T02:16:47.656701Z"
    },
    "papermill": {
     "duration": 0.021161,
     "end_time": "2022-10-28T02:16:47.660163",
     "exception": false,
     "start_time": "2022-10-28T02:16:47.639002",
     "status": "completed"
    },
    "tags": []
   },
   "outputs": [
    {
     "data": {
      "text/plain": [
       "0.9333333333333333"
      ]
     },
     "execution_count": 17,
     "metadata": {},
     "output_type": "execute_result"
    }
   ],
   "source": [
    "logits = X_valid @ Theta\n",
    "Y_proba = softmax(logits)\n",
    "y_predict = Y_proba.argmax(axis=1)\n",
    "\n",
    "accuracy_score = (y_predict == y_valid).mean()\n",
    "accuracy_score"
   ]
  },
  {
   "cell_type": "code",
   "execution_count": 18,
   "id": "9413b557",
   "metadata": {
    "execution": {
     "iopub.execute_input": "2022-10-28T02:16:47.678631Z",
     "iopub.status.busy": "2022-10-28T02:16:47.678244Z",
     "iopub.status.idle": "2022-10-28T02:16:48.096039Z",
     "shell.execute_reply": "2022-10-28T02:16:48.095194Z"
    },
    "papermill": {
     "duration": 0.429615,
     "end_time": "2022-10-28T02:16:48.098125",
     "exception": false,
     "start_time": "2022-10-28T02:16:47.668510",
     "status": "completed"
    },
    "tags": []
   },
   "outputs": [
    {
     "data": {
      "image/png": "[encoded data removed]",
      "text/plain": [
       "<Figure size 720x288 with 1 Axes>"
      ]
     },
     "metadata": {
      "needs_background": "light"
     },
     "output_type": "display_data"
    }
   ],
   "source": [
    "import matplotlib as mpl\n",
    "import matplotlib.pyplot as plt\n",
    "\n",
    "custom_cmap = mpl.colors.ListedColormap(['#fafab0', '#9898ff', '#a0faa0'])\n",
    "\n",
    "x0, x1 = np.meshgrid(np.linspace(0, 8, 500).reshape(-1, 1),\n",
    "                     np.linspace(0, 3.5, 200).reshape(-1, 1))\n",
    "X_new = np.c_[x0.ravel(), x1.ravel()]\n",
    "X_new = (X_new - mean) / std\n",
    "X_new_with_bias = np.c_[np.ones(len(X_new)), X_new]\n",
    "\n",
    "logits = X_new_with_bias @ Theta\n",
    "Y_proba = softmax(logits)\n",
    "y_predict = Y_proba.argmax(axis=1)\n",
    "\n",
    "zz1 = Y_proba[:, 1].reshape(x0.shape)\n",
    "zz = y_predict.reshape(x0.shape)\n",
    "\n",
    "plt.figure(figsize=(10, 4))\n",
    "plt.plot(X[y == 2, 0], X[y == 2, 1], \"g^\", label=\"Iris virginica\")\n",
    "plt.plot(X[y == 1, 0], X[y == 1, 1], \"bs\", label=\"Iris versicolor\")\n",
    "plt.plot(X[y == 0, 0], X[y == 0, 1], \"yo\", label=\"Iris setosa\")\n",
    "\n",
    "plt.contourf(x0, x1, zz, cmap=custom_cmap)\n",
    "contour = plt.contour(x0, x1, zz1, cmap=\"hot\")\n",
    "plt.clabel(contour, inline=1)\n",
    "plt.xlabel(\"Petal length\")\n",
    "plt.ylabel(\"Petal width\")\n",
    "plt.legend(loc=\"upper left\")\n",
    "plt.axis([0, 7, 0, 3.5])\n",
    "plt.grid()\n",
    "plt.show()"
   ]
  },
  {
   "cell_type": "code",
   "execution_count": 19,
   "id": "94f36c8b",
   "metadata": {
    "execution": {
     "iopub.execute_input": "2022-10-28T02:16:48.119657Z",
     "iopub.status.busy": "2022-10-28T02:16:48.118681Z",
     "iopub.status.idle": "2022-10-28T02:16:48.125715Z",
     "shell.execute_reply": "2022-10-28T02:16:48.124987Z"
    },
    "papermill": {
     "duration": 0.019764,
     "end_time": "2022-10-28T02:16:48.127704",
     "exception": false,
     "start_time": "2022-10-28T02:16:48.107940",
     "status": "completed"
    },
    "tags": []
   },
   "outputs": [
    {
     "data": {
      "text/plain": [
       "0.9333333333333333"
      ]
     },
     "execution_count": 19,
     "metadata": {},
     "output_type": "execute_result"
    }
   ],
   "source": [
    "logits = X_valid @ Theta\n",
    "Y_proba = softmax(logits)\n",
    "y_predict = Y_proba.argmax(axis=1)\n",
    "\n",
    "accuracy_score = (y_predict == y_valid).mean()\n",
    "accuracy_score"
   ]
  },
  {
   "cell_type": "code",
   "execution_count": 20,
   "id": "e8973cb5",
   "metadata": {
    "execution": {
     "iopub.execute_input": "2022-10-28T02:16:48.149071Z",
     "iopub.status.busy": "2022-10-28T02:16:48.148371Z",
     "iopub.status.idle": "2022-10-28T02:16:48.499231Z",
     "shell.execute_reply": "2022-10-28T02:16:48.498041Z"
    },
    "papermill": {
     "duration": 0.364943,
     "end_time": "2022-10-28T02:16:48.502267",
     "exception": false,
     "start_time": "2022-10-28T02:16:48.137324",
     "status": "completed"
    },
    "tags": []
   },
   "outputs": [
    {
     "data": {
      "image/png": "[encoded data removed]",
      "text/plain": [
       "<Figure size 720x288 with 1 Axes>"
      ]
     },
     "metadata": {
      "needs_background": "light"
     },
     "output_type": "display_data"
    }
   ],
   "source": [
    "custom_cmap = mpl.colors.ListedColormap(['#fafab0', '#9898ff', '#a0faa0'])\n",
    "\n",
    "x0, x1 = np.meshgrid(np.linspace(0, 8, 500).reshape(-1, 1),\n",
    "                     np.linspace(0, 3.5, 200).reshape(-1, 1))\n",
    "X_new = np.c_[x0.ravel(), x1.ravel()]\n",
    "X_new = (X_new - mean) / std\n",
    "X_new_with_bias = np.c_[np.ones(len(X_new)), X_new]\n",
    "\n",
    "logits = X_new_with_bias @ Theta\n",
    "Y_proba = softmax(logits)\n",
    "y_predict = Y_proba.argmax(axis=1)\n",
    "\n",
    "zz1 = Y_proba[:, 1].reshape(x0.shape)\n",
    "zz = y_predict.reshape(x0.shape)\n",
    "\n",
    "plt.figure(figsize=(10, 4))\n",
    "plt.plot(X[y == 2, 0], X[y == 2, 1], \"g^\", label=\"Iris virginica\")\n",
    "plt.plot(X[y == 1, 0], X[y == 1, 1], \"bs\", label=\"Iris versicolor\")\n",
    "plt.plot(X[y == 0, 0], X[y == 0, 1], \"yo\", label=\"Iris setosa\")\n",
    "\n",
    "plt.contourf(x0, x1, zz, cmap=custom_cmap)\n",
    "contour = plt.contour(x0, x1, zz1, cmap=\"hot\")\n",
    "plt.clabel(contour, inline=1)\n",
    "plt.xlabel(\"Petal length\")\n",
    "plt.ylabel(\"Petal width\")\n",
    "plt.legend(loc=\"upper left\")\n",
    "plt.axis([0, 7, 0, 3.5])\n",
    "plt.grid()\n",
    "plt.show()"
   ]
  },
  {
   "cell_type": "code",
   "execution_count": 21,
   "id": "7333cec7",
   "metadata": {
    "execution": {
     "iopub.execute_input": "2022-10-28T02:16:48.526135Z",
     "iopub.status.busy": "2022-10-28T02:16:48.525726Z",
     "iopub.status.idle": "2022-10-28T02:16:48.534057Z",
     "shell.execute_reply": "2022-10-28T02:16:48.533009Z"
    },
    "papermill": {
     "duration": 0.02287,
     "end_time": "2022-10-28T02:16:48.536342",
     "exception": false,
     "start_time": "2022-10-28T02:16:48.513472",
     "status": "completed"
    },
    "tags": []
   },
   "outputs": [
    {
     "data": {
      "text/plain": [
       "0.9666666666666667"
      ]
     },
     "execution_count": 21,
     "metadata": {},
     "output_type": "execute_result"
    }
   ],
   "source": [
    "logits = X_test @ Theta\n",
    "Y_proba = softmax(logits)\n",
    "y_predict = Y_proba.argmax(axis=1)\n",
    "\n",
    "accuracy_score = (y_predict == y_test).mean()\n",
    "accuracy_score"
   ]
  },
  {
   "cell_type": "code",
   "execution_count": null,
   "id": "c791150b",
   "metadata": {
    "papermill": {
     "duration": 0.01119,
     "end_time": "2022-10-28T02:16:48.558633",
     "exception": false,
     "start_time": "2022-10-28T02:16:48.547443",
     "status": "completed"
    },
    "tags": []
   },
   "outputs": [],
   "source": []
  }
 ],
 "metadata": {
  "kernelspec": {
   "display_name": "Python 3",
   "language": "python",
   "name": "python3"
  },
  "language_info": {
   "codemirror_mode": {
    "name": "ipython",
    "version": 3
   },
   "file_extension": ".py",
   "mimetype": "text/x-python",
   "name": "python",
   "nbconvert_exporter": "python",
   "pygments_lexer": "ipython3",
   "version": "3.7.12"
  },
  "papermill": {
   "default_parameters": {},
   "duration": 12.655312,
   "end_time": "2022-10-28T02:16:49.294568",
   "environment_variables": {},
   "exception": null,
   "input_path": "__notebook__.ipynb",
   "output_path": "__notebook__.ipynb",
   "parameters": {},
   "start_time": "2022-10-28T02:16:36.639256",
   "version": "2.3.4"
  }
 },
 "nbformat": 4,
 "nbformat_minor": 5
}
