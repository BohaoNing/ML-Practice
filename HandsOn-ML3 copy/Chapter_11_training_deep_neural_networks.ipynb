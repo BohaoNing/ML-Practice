{
 "cells": [
  {
   "cell_type": "markdown",
   "id": "23365d73",
   "metadata": {
    "papermill": {
     "duration": 0.042845,
     "end_time": "2022-12-04T15:07:43.537595",
     "exception": false,
     "start_time": "2022-12-04T15:07:43.494750",
     "status": "completed"
    },
    "tags": []
   },
   "source": [
    "**Chapter 11 – Training Deep Neural Networks**"
   ]
  },
  {
   "cell_type": "markdown",
   "id": "7733c603",
   "metadata": {
    "papermill": {
     "duration": 0.037423,
     "end_time": "2022-12-04T15:07:43.612139",
     "exception": false,
     "start_time": "2022-12-04T15:07:43.574716",
     "status": "completed"
    },
    "tags": []
   },
   "source": [
    "_This notebook contains all the sample code and solutions to the exercises in chapter 11._"
   ]
  },
  {
   "cell_type": "markdown",
   "id": "9ad9630c",
   "metadata": {
    "papermill": {
     "duration": 0.036756,
     "end_time": "2022-12-04T15:07:43.685598",
     "exception": false,
     "start_time": "2022-12-04T15:07:43.648842",
     "status": "completed"
    },
    "tags": []
   },
   "source": [
    "<table align=\"left\">\n",
    "  <td>\n",
    "    <a href=\"https://colab.research.google.com/github/ageron/handson-ml3/blob/main/11_training_deep_neural_networks.ipynb\" target=\"_parent\"><img src=\"https://colab.research.google.com/assets/colab-badge.svg\" alt=\"Open In Colab\"/></a>\n",
    "  </td>\n",
    "  <td>\n",
    "    <a target=\"_blank\" href=\"https://kaggle.com/kernels/welcome?src=https://github.com/ageron/handson-ml3/blob/main/11_training_deep_neural_networks.ipynb\"><img src=\"https://kaggle.com/static/images/open-in-kaggle.svg\" /></a>\n",
    "  </td>\n",
    "</table>"
   ]
  },
  {
   "cell_type": "markdown",
   "id": "95462c34",
   "metadata": {
    "papermill": {
     "duration": 0.036605,
     "end_time": "2022-12-04T15:07:43.760406",
     "exception": false,
     "start_time": "2022-12-04T15:07:43.723801",
     "status": "completed"
    },
    "tags": []
   },
   "source": [
    "# Setup"
   ]
  },
  {
   "cell_type": "markdown",
   "id": "28c371a4",
   "metadata": {
    "papermill": {
     "duration": 0.038416,
     "end_time": "2022-12-04T15:07:43.835588",
     "exception": false,
     "start_time": "2022-12-04T15:07:43.797172",
     "status": "completed"
    },
    "tags": []
   },
   "source": [
    "This project requires Python 3.7 or above:"
   ]
  },
  {
   "cell_type": "code",
   "execution_count": 1,
   "id": "2fd94823",
   "metadata": {
    "execution": {
     "iopub.execute_input": "2022-12-04T15:07:43.912193Z",
     "iopub.status.busy": "2022-12-04T15:07:43.911526Z",
     "iopub.status.idle": "2022-12-04T15:07:43.926412Z",
     "shell.execute_reply": "2022-12-04T15:07:43.924708Z"
    },
    "papermill": {
     "duration": 0.056206,
     "end_time": "2022-12-04T15:07:43.929564",
     "exception": false,
     "start_time": "2022-12-04T15:07:43.873358",
     "status": "completed"
    },
    "tags": []
   },
   "outputs": [],
   "source": [
    "import sys\n",
    "\n",
    "assert sys.version_info >= (3, 7)"
   ]
  },
  {
   "cell_type": "markdown",
   "id": "cae4a17f",
   "metadata": {
    "papermill": {
     "duration": 0.046755,
     "end_time": "2022-12-04T15:07:44.022762",
     "exception": false,
     "start_time": "2022-12-04T15:07:43.976007",
     "status": "completed"
    },
    "tags": []
   },
   "source": [
    "And TensorFlow ≥ 2.8:"
   ]
  },
  {
   "cell_type": "code",
   "execution_count": 2,
   "id": "b5ef736d",
   "metadata": {
    "execution": {
     "iopub.execute_input": "2022-12-04T15:07:44.100895Z",
     "iopub.status.busy": "2022-12-04T15:07:44.100428Z",
     "iopub.status.idle": "2022-12-04T15:07:50.134759Z",
     "shell.execute_reply": "2022-12-04T15:07:50.133291Z"
    },
    "papermill": {
     "duration": 6.076477,
     "end_time": "2022-12-04T15:07:50.137376",
     "exception": false,
     "start_time": "2022-12-04T15:07:44.060899",
     "status": "completed"
    },
    "tags": []
   },
   "outputs": [],
   "source": [
    "from packaging import version\n",
    "import tensorflow as tf\n",
    "\n",
    "# assert version.parse(tf.__version__) >= version.parse(\"2.8.0\")"
   ]
  },
  {
   "cell_type": "markdown",
   "id": "8e8e29b8",
   "metadata": {
    "papermill": {
     "duration": 0.036713,
     "end_time": "2022-12-04T15:07:50.211138",
     "exception": false,
     "start_time": "2022-12-04T15:07:50.174425",
     "status": "completed"
    },
    "tags": []
   },
   "source": [
    "As we did in previous chapters, let's define the default font sizes to make the figures prettier:"
   ]
  },
  {
   "cell_type": "code",
   "execution_count": 3,
   "id": "f448b870",
   "metadata": {
    "execution": {
     "iopub.execute_input": "2022-12-04T15:07:50.286798Z",
     "iopub.status.busy": "2022-12-04T15:07:50.285627Z",
     "iopub.status.idle": "2022-12-04T15:07:50.291958Z",
     "shell.execute_reply": "2022-12-04T15:07:50.290845Z"
    },
    "papermill": {
     "duration": 0.04691,
     "end_time": "2022-12-04T15:07:50.294411",
     "exception": false,
     "start_time": "2022-12-04T15:07:50.247501",
     "status": "completed"
    },
    "tags": []
   },
   "outputs": [],
   "source": [
    "import matplotlib.pyplot as plt\n",
    "\n",
    "plt.rc('font', size=14)\n",
    "plt.rc('axes', labelsize=14, titlesize=14)\n",
    "plt.rc('legend', fontsize=14)\n",
    "plt.rc('xtick', labelsize=10)\n",
    "plt.rc('ytick', labelsize=10)"
   ]
  },
  {
   "cell_type": "markdown",
   "id": "8da6dbe7",
   "metadata": {
    "papermill": {
     "duration": 0.035825,
     "end_time": "2022-12-04T15:07:50.366693",
     "exception": false,
     "start_time": "2022-12-04T15:07:50.330868",
     "status": "completed"
    },
    "tags": []
   },
   "source": [
    "And let's create the `images/deep` folder (if it doesn't already exist), and define the `save_fig()` function which is used through this notebook to save the figures in high-res for the book:"
   ]
  },
  {
   "cell_type": "code",
   "execution_count": 4,
   "id": "bb594dad",
   "metadata": {
    "execution": {
     "iopub.execute_input": "2022-12-04T15:07:50.441779Z",
     "iopub.status.busy": "2022-12-04T15:07:50.440743Z",
     "iopub.status.idle": "2022-12-04T15:07:50.447551Z",
     "shell.execute_reply": "2022-12-04T15:07:50.446504Z"
    },
    "papermill": {
     "duration": 0.046987,
     "end_time": "2022-12-04T15:07:50.450291",
     "exception": false,
     "start_time": "2022-12-04T15:07:50.403304",
     "status": "completed"
    },
    "tags": []
   },
   "outputs": [],
   "source": [
    "from pathlib import Path\n",
    "\n",
    "IMAGES_PATH = Path() / \"images\" / \"deep\"\n",
    "IMAGES_PATH.mkdir(parents=True, exist_ok=True)\n",
    "\n",
    "def save_fig(fig_id, tight_layout=True, fig_extension=\"png\", resolution=300):\n",
    "    path = IMAGES_PATH / f\"{fig_id}.{fig_extension}\"\n",
    "    if tight_layout:\n",
    "        plt.tight_layout()\n",
    "    plt.savefig(path, format=fig_extension, dpi=resolution)"
   ]
  },
  {
   "cell_type": "markdown",
   "id": "0e59446d",
   "metadata": {
    "papermill": {
     "duration": 0.035997,
     "end_time": "2022-12-04T15:07:50.523053",
     "exception": false,
     "start_time": "2022-12-04T15:07:50.487056",
     "status": "completed"
    },
    "tags": []
   },
   "source": [
    "# Vanishing/Exploding Gradients Problem"
   ]
  },
  {
   "cell_type": "code",
   "execution_count": 5,
   "id": "da8dd0f7",
   "metadata": {
    "execution": {
     "iopub.execute_input": "2022-12-04T15:07:50.598682Z",
     "iopub.status.busy": "2022-12-04T15:07:50.597922Z",
     "iopub.status.idle": "2022-12-04T15:07:51.666552Z",
     "shell.execute_reply": "2022-12-04T15:07:51.664863Z"
    },
    "papermill": {
     "duration": 1.10966,
     "end_time": "2022-12-04T15:07:51.669533",
     "exception": false,
     "start_time": "2022-12-04T15:07:50.559873",
     "status": "completed"
    },
    "tags": []
   },
   "outputs": [
    {
     "data": {
      "image/png": "[encoded data removed]",
      "text/plain": [
       "<Figure size 432x288 with 1 Axes>"
      ]
     },
     "metadata": {
      "needs_background": "light"
     },
     "output_type": "display_data"
    }
   ],
   "source": [
    "# extra code – this cell generates and saves Figure 11–1\n",
    "\n",
    "import numpy as np\n",
    "\n",
    "def sigmoid(z):\n",
    "    return 1 / (1 + np.exp(-z))\n",
    "\n",
    "z = np.linspace(-5, 5, 200)\n",
    "\n",
    "plt.plot([-5, 5], [0, 0], 'k-')\n",
    "plt.plot([-5, 5], [1, 1], 'k--')\n",
    "plt.plot([0, 0], [-0.2, 1.2], 'k-')\n",
    "plt.plot([-5, 5], [-3/4, 7/4], 'g--')\n",
    "plt.plot(z, sigmoid(z), \"b-\", linewidth=2,\n",
    "         label=r\"$\\sigma(z) = \\dfrac{1}{1+e^{-z}}$\")\n",
    "props = dict(facecolor='black', shrink=0.1)\n",
    "plt.annotate('Saturating', xytext=(3.5, 0.7), xy=(5, 1), arrowprops=props,\n",
    "             fontsize=14, ha=\"center\")\n",
    "plt.annotate('Saturating', xytext=(-3.5, 0.3), xy=(-5, 0), arrowprops=props,\n",
    "             fontsize=14, ha=\"center\")\n",
    "plt.annotate('Linear', xytext=(2, 0.2), xy=(0, 0.5), arrowprops=props,\n",
    "             fontsize=14, ha=\"center\")\n",
    "plt.grid(True)\n",
    "plt.axis([-5, 5, -0.2, 1.2])\n",
    "plt.xlabel(\"$z$\")\n",
    "plt.legend(loc=\"upper left\", fontsize=16)\n",
    "\n",
    "save_fig(\"sigmoid_saturation_plot\")\n",
    "plt.show()"
   ]
  },
  {
   "cell_type": "markdown",
   "id": "43a013eb",
   "metadata": {
    "papermill": {
     "duration": 0.037172,
     "end_time": "2022-12-04T15:07:51.745137",
     "exception": false,
     "start_time": "2022-12-04T15:07:51.707965",
     "status": "completed"
    },
    "tags": []
   },
   "source": [
    "## Xavier and He Initialization"
   ]
  },
  {
   "cell_type": "code",
   "execution_count": 6,
   "id": "b030946f",
   "metadata": {
    "execution": {
     "iopub.execute_input": "2022-12-04T15:07:51.823206Z",
     "iopub.status.busy": "2022-12-04T15:07:51.822476Z",
     "iopub.status.idle": "2022-12-04T15:07:53.170602Z",
     "shell.execute_reply": "2022-12-04T15:07:53.169354Z"
    },
    "papermill": {
     "duration": 1.390858,
     "end_time": "2022-12-04T15:07:53.173644",
     "exception": false,
     "start_time": "2022-12-04T15:07:51.782786",
     "status": "completed"
    },
    "tags": []
   },
   "outputs": [],
   "source": [
    "dense = tf.keras.layers.Dense(50, activation=\"relu\",\n",
    "                              kernel_initializer=\"he_normal\")"
   ]
  },
  {
   "cell_type": "code",
   "execution_count": 7,
   "id": "691a173d",
   "metadata": {
    "execution": {
     "iopub.execute_input": "2022-12-04T15:07:53.253477Z",
     "iopub.status.busy": "2022-12-04T15:07:53.252297Z",
     "iopub.status.idle": "2022-12-04T15:07:53.260877Z",
     "shell.execute_reply": "2022-12-04T15:07:53.259613Z"
    },
    "papermill": {
     "duration": 0.050517,
     "end_time": "2022-12-04T15:07:53.263416",
     "exception": false,
     "start_time": "2022-12-04T15:07:53.212899",
     "status": "completed"
    },
    "tags": []
   },
   "outputs": [],
   "source": [
    "he_avg_init = tf.keras.initializers.VarianceScaling(scale=2., mode=\"fan_avg\",\n",
    "                                                    distribution=\"uniform\")\n",
    "dense = tf.keras.layers.Dense(50, activation=\"sigmoid\",\n",
    "                              kernel_initializer=he_avg_init)"
   ]
  },
  {
   "cell_type": "markdown",
   "id": "30995a6d",
   "metadata": {
    "papermill": {
     "duration": 0.039008,
     "end_time": "2022-12-04T15:07:53.341260",
     "exception": false,
     "start_time": "2022-12-04T15:07:53.302252",
     "status": "completed"
    },
    "tags": []
   },
   "source": [
    "## Nonsaturating Activation Functions"
   ]
  },
  {
   "cell_type": "markdown",
   "id": "6903b411",
   "metadata": {
    "papermill": {
     "duration": 0.03879,
     "end_time": "2022-12-04T15:07:53.418435",
     "exception": false,
     "start_time": "2022-12-04T15:07:53.379645",
     "status": "completed"
    },
    "tags": []
   },
   "source": [
    "### Leaky ReLU"
   ]
  },
  {
   "cell_type": "code",
   "execution_count": 8,
   "id": "751b744f",
   "metadata": {
    "execution": {
     "iopub.execute_input": "2022-12-04T15:07:53.497187Z",
     "iopub.status.busy": "2022-12-04T15:07:53.496723Z",
     "iopub.status.idle": "2022-12-04T15:07:54.251784Z",
     "shell.execute_reply": "2022-12-04T15:07:54.250414Z"
    },
    "papermill": {
     "duration": 0.797974,
     "end_time": "2022-12-04T15:07:54.254867",
     "exception": false,
     "start_time": "2022-12-04T15:07:53.456893",
     "status": "completed"
    },
    "tags": []
   },
   "outputs": [
    {
     "data": {
      "image/png": "[encoded data removed]",
      "text/plain": [
       "<Figure size 432x288 with 1 Axes>"
      ]
     },
     "metadata": {
      "needs_background": "light"
     },
     "output_type": "display_data"
    }
   ],
   "source": [
    "# extra code – this cell generates and saves Figure 11–2\n",
    "\n",
    "def leaky_relu(z, alpha):\n",
    "    return np.maximum(alpha * z, z)\n",
    "\n",
    "z = np.linspace(-5, 5, 200)\n",
    "plt.plot(z, leaky_relu(z, 0.1), \"b-\", linewidth=2, label=r\"$LeakyReLU(z) = max(\\alpha z, z)$\")\n",
    "plt.plot([-5, 5], [0, 0], 'k-')\n",
    "plt.plot([0, 0], [-1, 3.7], 'k-')\n",
    "plt.grid(True)\n",
    "props = dict(facecolor='black', shrink=0.1)\n",
    "plt.annotate('Leak', xytext=(-3.5, 0.5), xy=(-5, -0.3), arrowprops=props,\n",
    "             fontsize=14, ha=\"center\")\n",
    "plt.xlabel(\"$z$\")\n",
    "plt.axis([-5, 5, -1, 3.7])\n",
    "plt.gca().set_aspect(\"equal\")\n",
    "plt.legend()\n",
    "\n",
    "save_fig(\"leaky_relu_plot\")\n",
    "plt.show()"
   ]
  },
  {
   "cell_type": "code",
   "execution_count": 9,
   "id": "157fab71",
   "metadata": {
    "execution": {
     "iopub.execute_input": "2022-12-04T15:07:54.337001Z",
     "iopub.status.busy": "2022-12-04T15:07:54.336049Z",
     "iopub.status.idle": "2022-12-04T15:07:54.346548Z",
     "shell.execute_reply": "2022-12-04T15:07:54.345295Z"
    },
    "papermill": {
     "duration": 0.053971,
     "end_time": "2022-12-04T15:07:54.349064",
     "exception": false,
     "start_time": "2022-12-04T15:07:54.295093",
     "status": "completed"
    },
    "tags": []
   },
   "outputs": [],
   "source": [
    "leaky_relu = tf.keras.layers.LeakyReLU(alpha=0.2)  # defaults to alpha=0.3\n",
    "dense = tf.keras.layers.Dense(50, activation=leaky_relu,\n",
    "                              kernel_initializer=\"he_normal\")"
   ]
  },
  {
   "cell_type": "code",
   "execution_count": 10,
   "id": "352a4068",
   "metadata": {
    "execution": {
     "iopub.execute_input": "2022-12-04T15:07:54.430316Z",
     "iopub.status.busy": "2022-12-04T15:07:54.429678Z",
     "iopub.status.idle": "2022-12-04T15:07:54.480058Z",
     "shell.execute_reply": "2022-12-04T15:07:54.478583Z"
    },
    "papermill": {
     "duration": 0.094068,
     "end_time": "2022-12-04T15:07:54.483034",
     "exception": false,
     "start_time": "2022-12-04T15:07:54.388966",
     "status": "completed"
    },
    "tags": []
   },
   "outputs": [
    {
     "name": "stderr",
     "output_type": "stream",
     "text": [
      "2022-12-04 15:07:54.447887: I tensorflow/core/common_runtime/process_util.cc:146] Creating new thread pool with default inter op setting: 2. Tune using inter_op_parallelism_threads for best performance.\n"
     ]
    }
   ],
   "source": [
    "model = tf.keras.models.Sequential([\n",
    "    # [...]  # more layers\n",
    "    tf.keras.layers.Dense(50, kernel_initializer=\"he_normal\"),  # no activation\n",
    "    tf.keras.layers.LeakyReLU(alpha=0.2),  # activation as a separate layer\n",
    "    # [...]  # more layers\n",
    "])"
   ]
  },
  {
   "cell_type": "markdown",
   "id": "48b95c7e",
   "metadata": {
    "papermill": {
     "duration": 0.039571,
     "end_time": "2022-12-04T15:07:54.561408",
     "exception": false,
     "start_time": "2022-12-04T15:07:54.521837",
     "status": "completed"
    },
    "tags": []
   },
   "source": [
    "### ELU"
   ]
  },
  {
   "cell_type": "markdown",
   "id": "6fcdc3b4",
   "metadata": {
    "papermill": {
     "duration": 0.038292,
     "end_time": "2022-12-04T15:07:54.639561",
     "exception": false,
     "start_time": "2022-12-04T15:07:54.601269",
     "status": "completed"
    },
    "tags": []
   },
   "source": [
    "Implementing ELU in TensorFlow is trivial, just specify the activation function when building each layer, and use He initialization:"
   ]
  },
  {
   "cell_type": "code",
   "execution_count": 11,
   "id": "f21be702",
   "metadata": {
    "execution": {
     "iopub.execute_input": "2022-12-04T15:07:54.718557Z",
     "iopub.status.busy": "2022-12-04T15:07:54.718142Z",
     "iopub.status.idle": "2022-12-04T15:07:54.725707Z",
     "shell.execute_reply": "2022-12-04T15:07:54.723986Z"
    },
    "papermill": {
     "duration": 0.05073,
     "end_time": "2022-12-04T15:07:54.729219",
     "exception": false,
     "start_time": "2022-12-04T15:07:54.678489",
     "status": "completed"
    },
    "tags": []
   },
   "outputs": [],
   "source": [
    "dense = tf.keras.layers.Dense(50, activation=\"elu\",\n",
    "                              kernel_initializer=\"he_normal\")"
   ]
  },
  {
   "cell_type": "markdown",
   "id": "ddcbdc0e",
   "metadata": {
    "papermill": {
     "duration": 0.038935,
     "end_time": "2022-12-04T15:07:54.806292",
     "exception": false,
     "start_time": "2022-12-04T15:07:54.767357",
     "status": "completed"
    },
    "tags": []
   },
   "source": [
    "### SELU"
   ]
  },
  {
   "cell_type": "markdown",
   "id": "fb4e8eab",
   "metadata": {
    "papermill": {
     "duration": 0.038786,
     "end_time": "2022-12-04T15:07:54.884178",
     "exception": false,
     "start_time": "2022-12-04T15:07:54.845392",
     "status": "completed"
    },
    "tags": []
   },
   "source": [
    "By default, the SELU hyperparameters (`scale` and `alpha`) are tuned in such a way that the mean output of each neuron remains close to 0, and the standard deviation remains close to 1 (assuming the inputs are standardized with mean 0 and standard deviation 1 too, and other constraints are respected, as explained in the book). Using this activation function, even a 1,000 layer deep neural network preserves roughly mean 0 and standard deviation 1 across all layers, avoiding the exploding/vanishing gradients problem:"
   ]
  },
  {
   "cell_type": "code",
   "execution_count": 12,
   "id": "cd2c8633",
   "metadata": {
    "execution": {
     "iopub.execute_input": "2022-12-04T15:07:54.963278Z",
     "iopub.status.busy": "2022-12-04T15:07:54.962787Z",
     "iopub.status.idle": "2022-12-04T15:07:55.756023Z",
     "shell.execute_reply": "2022-12-04T15:07:55.753941Z"
    },
    "papermill": {
     "duration": 0.836231,
     "end_time": "2022-12-04T15:07:55.759129",
     "exception": false,
     "start_time": "2022-12-04T15:07:54.922898",
     "status": "completed"
    },
    "tags": []
   },
   "outputs": [
    {
     "data": {
      "image/png": "[encoded data removed]",
      "text/plain": [
       "<Figure size 432x288 with 1 Axes>"
      ]
     },
     "metadata": {
      "needs_background": "light"
     },
     "output_type": "display_data"
    }
   ],
   "source": [
    "# extra code – this cell generates and saves Figure 11–3\n",
    "\n",
    "from scipy.special import erfc\n",
    "\n",
    "# alpha and scale to self normalize with mean 0 and standard deviation 1\n",
    "# (see equation 14 in the paper):\n",
    "alpha_0_1 = -np.sqrt(2 / np.pi) / (erfc(1 / np.sqrt(2)) * np.exp(1 / 2) - 1)\n",
    "scale_0_1 = (\n",
    "    (1 - erfc(1 / np.sqrt(2)) * np.sqrt(np.e))\n",
    "    * np.sqrt(2 * np.pi)\n",
    "    * (\n",
    "        2 * erfc(np.sqrt(2)) * np.e ** 2\n",
    "        + np.pi * erfc(1 / np.sqrt(2)) ** 2 * np.e\n",
    "        - 2 * (2 + np.pi) * erfc(1 / np.sqrt(2)) * np.sqrt(np.e)\n",
    "        + np.pi\n",
    "        + 2\n",
    "    ) ** (-1 / 2)\n",
    ")\n",
    "\n",
    "def elu(z, alpha=1):\n",
    "    return np.where(z < 0, alpha * (np.exp(z) - 1), z)\n",
    "\n",
    "def selu(z, scale=scale_0_1, alpha=alpha_0_1):\n",
    "    return scale * elu(z, alpha)\n",
    "\n",
    "z = np.linspace(-5, 5, 200)\n",
    "plt.plot(z, elu(z), \"b-\", linewidth=2, label=r\"ELU$_\\alpha(z) = \\alpha (e^z - 1)$ if $z < 0$, else $z$\")\n",
    "plt.plot(z, selu(z), \"r--\", linewidth=2, label=r\"SELU$(z) = 1.05 \\, $ELU$_{1.67}(z)$\")\n",
    "plt.plot([-5, 5], [0, 0], 'k-')\n",
    "plt.plot([-5, 5], [-1, -1], 'k:', linewidth=2)\n",
    "plt.plot([-5, 5], [-1.758, -1.758], 'k:', linewidth=2)\n",
    "plt.plot([0, 0], [-2.2, 3.2], 'k-')\n",
    "plt.grid(True)\n",
    "plt.axis([-5, 5, -2.2, 3.2])\n",
    "plt.xlabel(\"$z$\")\n",
    "plt.gca().set_aspect(\"equal\")\n",
    "plt.legend()\n",
    "\n",
    "save_fig(\"elu_selu_plot\")\n",
    "plt.show()"
   ]
  },
  {
   "cell_type": "markdown",
   "id": "27795391",
   "metadata": {
    "papermill": {
     "duration": 0.039061,
     "end_time": "2022-12-04T15:07:55.842747",
     "exception": false,
     "start_time": "2022-12-04T15:07:55.803686",
     "status": "completed"
    },
    "tags": []
   },
   "source": [
    "Using SELU is straightforward:"
   ]
  },
  {
   "cell_type": "code",
   "execution_count": 13,
   "id": "d1a375d4",
   "metadata": {
    "execution": {
     "iopub.execute_input": "2022-12-04T15:07:55.922601Z",
     "iopub.status.busy": "2022-12-04T15:07:55.922121Z",
     "iopub.status.idle": "2022-12-04T15:07:55.929679Z",
     "shell.execute_reply": "2022-12-04T15:07:55.928489Z"
    },
    "papermill": {
     "duration": 0.05096,
     "end_time": "2022-12-04T15:07:55.933136",
     "exception": false,
     "start_time": "2022-12-04T15:07:55.882176",
     "status": "completed"
    },
    "tags": []
   },
   "outputs": [],
   "source": [
    "dense = tf.keras.layers.Dense(50, activation=\"selu\",\n",
    "                              kernel_initializer=\"lecun_normal\")"
   ]
  },
  {
   "cell_type": "markdown",
   "id": "139ea257",
   "metadata": {
    "papermill": {
     "duration": 0.040704,
     "end_time": "2022-12-04T15:07:56.012876",
     "exception": false,
     "start_time": "2022-12-04T15:07:55.972172",
     "status": "completed"
    },
    "tags": []
   },
   "source": [
    "**Extra material – an example of a self-regularized network using SELU**\n",
    "\n",
    "Let's create a neural net for Fashion MNIST with 100 hidden layers, using the SELU activation function:"
   ]
  },
  {
   "cell_type": "code",
   "execution_count": 14,
   "id": "76775b10",
   "metadata": {
    "execution": {
     "iopub.execute_input": "2022-12-04T15:07:56.093836Z",
     "iopub.status.busy": "2022-12-04T15:07:56.093154Z",
     "iopub.status.idle": "2022-12-04T15:07:57.294945Z",
     "shell.execute_reply": "2022-12-04T15:07:57.293750Z"
    },
    "papermill": {
     "duration": 1.245382,
     "end_time": "2022-12-04T15:07:57.297546",
     "exception": false,
     "start_time": "2022-12-04T15:07:56.052164",
     "status": "completed"
    },
    "tags": []
   },
   "outputs": [],
   "source": [
    "tf.random.set_seed(42)\n",
    "model = tf.keras.Sequential()\n",
    "model.add(tf.keras.layers.Flatten(input_shape=[28, 28]))\n",
    "for layer in range(100):\n",
    "    model.add(tf.keras.layers.Dense(100, activation=\"selu\",\n",
    "                                    kernel_initializer=\"lecun_normal\"))\n",
    "model.add(tf.keras.layers.Dense(10, activation=\"softmax\"))"
   ]
  },
  {
   "cell_type": "code",
   "execution_count": 15,
   "id": "800a9e87",
   "metadata": {
    "execution": {
     "iopub.execute_input": "2022-12-04T15:07:57.378132Z",
     "iopub.status.busy": "2022-12-04T15:07:57.377093Z",
     "iopub.status.idle": "2022-12-04T15:07:57.394839Z",
     "shell.execute_reply": "2022-12-04T15:07:57.393641Z"
    },
    "papermill": {
     "duration": 0.061219,
     "end_time": "2022-12-04T15:07:57.397788",
     "exception": false,
     "start_time": "2022-12-04T15:07:57.336569",
     "status": "completed"
    },
    "tags": []
   },
   "outputs": [],
   "source": [
    "model.compile(loss=\"sparse_categorical_crossentropy\",\n",
    "              optimizer=tf.keras.optimizers.SGD(learning_rate=0.001),\n",
    "              metrics=[\"accuracy\"])"
   ]
  },
  {
   "cell_type": "markdown",
   "id": "5d205edb",
   "metadata": {
    "papermill": {
     "duration": 0.039384,
     "end_time": "2022-12-04T15:07:57.476144",
     "exception": false,
     "start_time": "2022-12-04T15:07:57.436760",
     "status": "completed"
    },
    "tags": []
   },
   "source": [
    "Now let's train it. Do not forget to scale the inputs to mean 0 and standard deviation 1:"
   ]
  },
  {
   "cell_type": "code",
   "execution_count": 16,
   "id": "38f53256",
   "metadata": {
    "execution": {
     "iopub.execute_input": "2022-12-04T15:07:57.555986Z",
     "iopub.status.busy": "2022-12-04T15:07:57.555551Z",
     "iopub.status.idle": "2022-12-04T15:08:01.953890Z",
     "shell.execute_reply": "2022-12-04T15:08:01.952539Z"
    },
    "papermill": {
     "duration": 4.441585,
     "end_time": "2022-12-04T15:08:01.957001",
     "exception": false,
     "start_time": "2022-12-04T15:07:57.515416",
     "status": "completed"
    },
    "tags": []
   },
   "outputs": [
    {
     "name": "stdout",
     "output_type": "stream",
     "text": [
      "Downloading data from https://storage.googleapis.com/tensorflow/tf-keras-datasets/train-labels-idx1-ubyte.gz\n",
      "32768/29515 [=================================] - 0s 0us/step\n",
      "40960/29515 [=========================================] - 0s 0us/step\n",
      "Downloading data from https://storage.googleapis.com/tensorflow/tf-keras-datasets/train-images-idx3-ubyte.gz\n",
      "26427392/26421880 [==============================] - 2s 0us/step\n",
      "26435584/26421880 [==============================] - 2s 0us/step\n",
      "Downloading data from https://storage.googleapis.com/tensorflow/tf-keras-datasets/t10k-labels-idx1-ubyte.gz\n",
      "16384/5148 [===============================================================================================] - 0s 0us/step\n",
      "Downloading data from https://storage.googleapis.com/tensorflow/tf-keras-datasets/t10k-images-idx3-ubyte.gz\n",
      "4423680/4422102 [==============================] - 0s 0us/step\n",
      "4431872/4422102 [==============================] - 0s 0us/step\n"
     ]
    }
   ],
   "source": [
    "fashion_mnist = tf.keras.datasets.fashion_mnist.load_data()\n",
    "(X_train_full, y_train_full), (X_test, y_test) = fashion_mnist\n",
    "X_train, y_train = X_train_full[:-5000], y_train_full[:-5000]\n",
    "X_valid, y_valid = X_train_full[-5000:], y_train_full[-5000:]\n",
    "X_train, X_valid, X_test = X_train / 255, X_valid / 255, X_test / 255"
   ]
  },
  {
   "cell_type": "code",
   "execution_count": 17,
   "id": "d32509f2",
   "metadata": {
    "execution": {
     "iopub.execute_input": "2022-12-04T15:08:02.045068Z",
     "iopub.status.busy": "2022-12-04T15:08:02.044606Z",
     "iopub.status.idle": "2022-12-04T15:08:02.050466Z",
     "shell.execute_reply": "2022-12-04T15:08:02.049257Z"
    },
    "papermill": {
     "duration": 0.053807,
     "end_time": "2022-12-04T15:08:02.052973",
     "exception": false,
     "start_time": "2022-12-04T15:08:01.999166",
     "status": "completed"
    },
    "tags": []
   },
   "outputs": [],
   "source": [
    "class_names = [\"T-shirt/top\", \"Trouser\", \"Pullover\", \"Dress\", \"Coat\",\n",
    "               \"Sandal\", \"Shirt\", \"Sneaker\", \"Bag\", \"Ankle boot\"]"
   ]
  },
  {
   "cell_type": "code",
   "execution_count": 18,
   "id": "56d856ba",
   "metadata": {
    "execution": {
     "iopub.execute_input": "2022-12-04T15:08:02.140999Z",
     "iopub.status.busy": "2022-12-04T15:08:02.140529Z",
     "iopub.status.idle": "2022-12-04T15:08:02.831829Z",
     "shell.execute_reply": "2022-12-04T15:08:02.830489Z"
    },
    "papermill": {
     "duration": 0.738868,
     "end_time": "2022-12-04T15:08:02.834635",
     "exception": false,
     "start_time": "2022-12-04T15:08:02.095767",
     "status": "completed"
    },
    "tags": []
   },
   "outputs": [],
   "source": [
    "pixel_means = X_train.mean(axis=0, keepdims=True)\n",
    "pixel_stds = X_train.std(axis=0, keepdims=True)\n",
    "X_train_scaled = (X_train - pixel_means) / pixel_stds\n",
    "X_valid_scaled = (X_valid - pixel_means) / pixel_stds\n",
    "X_test_scaled = (X_test - pixel_means) / pixel_stds"
   ]
  },
  {
   "cell_type": "code",
   "execution_count": 19,
   "id": "a376bf16",
   "metadata": {
    "execution": {
     "iopub.execute_input": "2022-12-04T15:08:02.922831Z",
     "iopub.status.busy": "2022-12-04T15:08:02.922411Z",
     "iopub.status.idle": "2022-12-04T15:13:07.465496Z",
     "shell.execute_reply": "2022-12-04T15:13:07.464207Z"
    },
    "papermill": {
     "duration": 304.967516,
     "end_time": "2022-12-04T15:13:07.846094",
     "exception": false,
     "start_time": "2022-12-04T15:08:02.878578",
     "status": "completed"
    },
    "tags": []
   },
   "outputs": [
    {
     "name": "stderr",
     "output_type": "stream",
     "text": [
      "2022-12-04 15:08:03.278462: I tensorflow/compiler/mlir/mlir_graph_optimization_pass.cc:185] None of the MLIR Optimization Passes are enabled (registered 2)\n"
     ]
    },
    {
     "name": "stdout",
     "output_type": "stream",
     "text": [
      "Epoch 1/5\n",
      "1719/1719 [==============================] - 68s 37ms/step - loss: 1.2176 - accuracy: 0.5379 - val_loss: 0.8798 - val_accuracy: 0.6896\n",
      "Epoch 2/5\n",
      "1719/1719 [==============================] - 59s 34ms/step - loss: 0.8668 - accuracy: 0.6731 - val_loss: 0.7748 - val_accuracy: 0.7156\n",
      "Epoch 3/5\n",
      "1719/1719 [==============================] - 60s 35ms/step - loss: 0.6904 - accuracy: 0.7338 - val_loss: 0.6135 - val_accuracy: 0.7652\n",
      "Epoch 4/5\n",
      "1719/1719 [==============================] - 60s 35ms/step - loss: 0.6109 - accuracy: 0.7774 - val_loss: 0.5511 - val_accuracy: 0.8040\n",
      "Epoch 5/5\n",
      "1719/1719 [==============================] - 58s 34ms/step - loss: 0.5745 - accuracy: 0.7998 - val_loss: 0.5727 - val_accuracy: 0.8006\n"
     ]
    }
   ],
   "source": [
    "history = model.fit(X_train_scaled, y_train, epochs=5,\n",
    "                    validation_data=(X_valid_scaled, y_valid))"
   ]
  },
  {
   "cell_type": "markdown",
   "id": "e51f26d3",
   "metadata": {
    "papermill": {
     "duration": 0.325805,
     "end_time": "2022-12-04T15:13:08.495728",
     "exception": false,
     "start_time": "2022-12-04T15:13:08.169923",
     "status": "completed"
    },
    "tags": []
   },
   "source": [
    "The network managed to learn, despite how deep it is. Now look at what happens if we try to use the ReLU activation function instead:"
   ]
  },
  {
   "cell_type": "code",
   "execution_count": 20,
   "id": "2d05035d",
   "metadata": {
    "execution": {
     "iopub.execute_input": "2022-12-04T15:13:09.146201Z",
     "iopub.status.busy": "2022-12-04T15:13:09.145776Z",
     "iopub.status.idle": "2022-12-04T15:13:09.166828Z",
     "shell.execute_reply": "2022-12-04T15:13:09.165648Z"
    },
    "papermill": {
     "duration": 0.349085,
     "end_time": "2022-12-04T15:13:09.169117",
     "exception": false,
     "start_time": "2022-12-04T15:13:08.820032",
     "status": "completed"
    },
    "tags": []
   },
   "outputs": [],
   "source": [
    "tf.random.set_seed(42)"
   ]
  },
  {
   "cell_type": "code",
   "execution_count": 21,
   "id": "ab8820b4",
   "metadata": {
    "execution": {
     "iopub.execute_input": "2022-12-04T15:13:09.874633Z",
     "iopub.status.busy": "2022-12-04T15:13:09.873605Z",
     "iopub.status.idle": "2022-12-04T15:13:11.199778Z",
     "shell.execute_reply": "2022-12-04T15:13:11.198544Z"
    },
    "papermill": {
     "duration": 1.70676,
     "end_time": "2022-12-04T15:13:11.202635",
     "exception": false,
     "start_time": "2022-12-04T15:13:09.495875",
     "status": "completed"
    },
    "tags": []
   },
   "outputs": [],
   "source": [
    "model = tf.keras.Sequential()\n",
    "model.add(tf.keras.layers.Flatten(input_shape=[28, 28]))\n",
    "for layer in range(100):\n",
    "    model.add(tf.keras.layers.Dense(100, activation=\"relu\",\n",
    "                                    kernel_initializer=\"he_normal\"))\n",
    "model.add(tf.keras.layers.Dense(10, activation=\"softmax\"))"
   ]
  },
  {
   "cell_type": "code",
   "execution_count": 22,
   "id": "67d5533a",
   "metadata": {
    "execution": {
     "iopub.execute_input": "2022-12-04T15:13:11.856549Z",
     "iopub.status.busy": "2022-12-04T15:13:11.855447Z",
     "iopub.status.idle": "2022-12-04T15:13:11.866954Z",
     "shell.execute_reply": "2022-12-04T15:13:11.866105Z"
    },
    "papermill": {
     "duration": 0.340867,
     "end_time": "2022-12-04T15:13:11.869383",
     "exception": false,
     "start_time": "2022-12-04T15:13:11.528516",
     "status": "completed"
    },
    "tags": []
   },
   "outputs": [],
   "source": [
    "model.compile(loss=\"sparse_categorical_crossentropy\",\n",
    "              optimizer=tf.keras.optimizers.SGD(learning_rate=0.001),\n",
    "              metrics=[\"accuracy\"])"
   ]
  },
  {
   "cell_type": "code",
   "execution_count": 23,
   "id": "f1858440",
   "metadata": {
    "execution": {
     "iopub.execute_input": "2022-12-04T15:13:12.558980Z",
     "iopub.status.busy": "2022-12-04T15:13:12.558585Z",
     "iopub.status.idle": "2022-12-04T15:17:29.678466Z",
     "shell.execute_reply": "2022-12-04T15:17:29.677115Z"
    },
    "papermill": {
     "duration": 257.487958,
     "end_time": "2022-12-04T15:17:29.681335",
     "exception": false,
     "start_time": "2022-12-04T15:13:12.193377",
     "status": "completed"
    },
    "tags": []
   },
   "outputs": [
    {
     "name": "stdout",
     "output_type": "stream",
     "text": [
      "Epoch 1/5\n",
      "1719/1719 [==============================] - 55s 30ms/step - loss: 1.6481 - accuracy: 0.3299 - val_loss: 1.2722 - val_accuracy: 0.4412\n",
      "Epoch 2/5\n",
      "1719/1719 [==============================] - 51s 30ms/step - loss: 1.1925 - accuracy: 0.5049 - val_loss: 0.9497 - val_accuracy: 0.6006\n",
      "Epoch 3/5\n",
      "1719/1719 [==============================] - 50s 29ms/step - loss: 0.8913 - accuracy: 0.6385 - val_loss: 0.7639 - val_accuracy: 0.7038\n",
      "Epoch 4/5\n",
      "1719/1719 [==============================] - 51s 29ms/step - loss: 0.7812 - accuracy: 0.6900 - val_loss: 0.7324 - val_accuracy: 0.7116\n",
      "Epoch 5/5\n",
      "1719/1719 [==============================] - 51s 30ms/step - loss: 0.7317 - accuracy: 0.7143 - val_loss: 0.6765 - val_accuracy: 0.7310\n"
     ]
    }
   ],
   "source": [
    "history = model.fit(X_train_scaled, y_train, epochs=5,\n",
    "                    validation_data=(X_valid_scaled, y_valid))"
   ]
  },
  {
   "cell_type": "markdown",
   "id": "ee123c3b",
   "metadata": {
    "papermill": {
     "duration": 0.677725,
     "end_time": "2022-12-04T15:17:30.962231",
     "exception": false,
     "start_time": "2022-12-04T15:17:30.284506",
     "status": "completed"
    },
    "tags": []
   },
   "source": [
    "Not great at all, we suffered from the vanishing/exploding gradients problem."
   ]
  },
  {
   "cell_type": "markdown",
   "id": "b65307bc",
   "metadata": {
    "papermill": {
     "duration": 0.675442,
     "end_time": "2022-12-04T15:17:32.245876",
     "exception": false,
     "start_time": "2022-12-04T15:17:31.570434",
     "status": "completed"
    },
    "tags": []
   },
   "source": [
    "### GELU, Swish and Mish"
   ]
  },
  {
   "cell_type": "code",
   "execution_count": 24,
   "id": "2bf83ae4",
   "metadata": {
    "execution": {
     "iopub.execute_input": "2022-12-04T15:17:33.473351Z",
     "iopub.status.busy": "2022-12-04T15:17:33.472673Z",
     "iopub.status.idle": "2022-12-04T15:17:34.299794Z",
     "shell.execute_reply": "2022-12-04T15:17:34.298838Z"
    },
    "papermill": {
     "duration": 1.448092,
     "end_time": "2022-12-04T15:17:34.302649",
     "exception": false,
     "start_time": "2022-12-04T15:17:32.854557",
     "status": "completed"
    },
    "tags": []
   },
   "outputs": [
    {
     "data": {
      "image/png": "[encoded data removed]",
      "text/plain": [
       "<Figure size 432x288 with 1 Axes>"
      ]
     },
     "metadata": {
      "needs_background": "light"
     },
     "output_type": "display_data"
    }
   ],
   "source": [
    "# extra code – this cell generates and saves Figure 11–4\n",
    "\n",
    "def swish(z, beta=1):\n",
    "    return z * sigmoid(beta * z)\n",
    "\n",
    "def approx_gelu(z):\n",
    "    return swish(z, beta=1.702)\n",
    "\n",
    "def softplus(z):\n",
    "    return np.log(1 + np.exp(z))\n",
    "\n",
    "def mish(z):\n",
    "    return z * np.tanh(softplus(z))\n",
    "\n",
    "z = np.linspace(-4, 2, 200)\n",
    "\n",
    "beta = 0.6\n",
    "plt.plot(z, approx_gelu(z), \"b-\", linewidth=2,\n",
    "         label=r\"GELU$(z) = z\\,\\Phi(z)$\")\n",
    "plt.plot(z, swish(z), \"r--\", linewidth=2,\n",
    "         label=r\"Swish$(z) = z\\,\\sigma(z)$\")\n",
    "plt.plot(z, swish(z, beta), \"r:\", linewidth=2,\n",
    "         label=fr\"Swish$_{{\\beta={beta}}}(z)=z\\,\\sigma({beta}\\,z)$\")\n",
    "plt.plot(z, mish(z), \"g:\", linewidth=3,\n",
    "         label=fr\"Mish$(z) = z\\,\\tanh($softplus$(z))$\")\n",
    "plt.plot([-4, 2], [0, 0], 'k-')\n",
    "plt.plot([0, 0], [-2.2, 3.2], 'k-')\n",
    "plt.grid(True)\n",
    "plt.axis([-4, 2, -1, 2])\n",
    "plt.gca().set_aspect(\"equal\")\n",
    "plt.xlabel(\"$z$\")\n",
    "plt.legend(loc=\"upper left\")\n",
    "\n",
    "save_fig(\"gelu_swish_mish_plot\")\n",
    "plt.show()"
   ]
  },
  {
   "cell_type": "markdown",
   "id": "b74f628b",
   "metadata": {
    "papermill": {
     "duration": 0.605144,
     "end_time": "2022-12-04T15:17:35.569186",
     "exception": false,
     "start_time": "2022-12-04T15:17:34.964042",
     "status": "completed"
    },
    "tags": []
   },
   "source": [
    "# Batch Normalization"
   ]
  },
  {
   "cell_type": "code",
   "execution_count": 25,
   "id": "4a9ecfdc",
   "metadata": {
    "execution": {
     "iopub.execute_input": "2022-12-04T15:17:36.835203Z",
     "iopub.status.busy": "2022-12-04T15:17:36.834793Z",
     "iopub.status.idle": "2022-12-04T15:17:36.860973Z",
     "shell.execute_reply": "2022-12-04T15:17:36.859583Z"
    },
    "papermill": {
     "duration": 0.690945,
     "end_time": "2022-12-04T15:17:36.863810",
     "exception": false,
     "start_time": "2022-12-04T15:17:36.172865",
     "status": "completed"
    },
    "tags": []
   },
   "outputs": [],
   "source": [
    "# extra code - clear the name counters and set the random seed\n",
    "tf.keras.backend.clear_session()\n",
    "tf.random.set_seed(42)"
   ]
  },
  {
   "cell_type": "code",
   "execution_count": 26,
   "id": "47798213",
   "metadata": {
    "execution": {
     "iopub.execute_input": "2022-12-04T15:17:38.073302Z",
     "iopub.status.busy": "2022-12-04T15:17:38.072597Z",
     "iopub.status.idle": "2022-12-04T15:17:38.165661Z",
     "shell.execute_reply": "2022-12-04T15:17:38.164460Z"
    },
    "papermill": {
     "duration": 0.697519,
     "end_time": "2022-12-04T15:17:38.168389",
     "exception": false,
     "start_time": "2022-12-04T15:17:37.470870",
     "status": "completed"
    },
    "tags": []
   },
   "outputs": [],
   "source": [
    "model = tf.keras.Sequential([\n",
    "    tf.keras.layers.Flatten(input_shape=[28, 28]),\n",
    "    tf.keras.layers.BatchNormalization(),\n",
    "    tf.keras.layers.Dense(300, activation=\"relu\",\n",
    "                          kernel_initializer=\"he_normal\"),\n",
    "    tf.keras.layers.BatchNormalization(),\n",
    "    tf.keras.layers.Dense(100, activation=\"relu\",\n",
    "                          kernel_initializer=\"he_normal\"),\n",
    "    tf.keras.layers.BatchNormalization(),\n",
    "    tf.keras.layers.Dense(10, activation=\"softmax\")\n",
    "])"
   ]
  },
  {
   "cell_type": "code",
   "execution_count": 27,
   "id": "4b5e8305",
   "metadata": {
    "execution": {
     "iopub.execute_input": "2022-12-04T15:17:39.451463Z",
     "iopub.status.busy": "2022-12-04T15:17:39.450958Z",
     "iopub.status.idle": "2022-12-04T15:17:39.458424Z",
     "shell.execute_reply": "2022-12-04T15:17:39.457172Z"
    },
    "papermill": {
     "duration": 0.621228,
     "end_time": "2022-12-04T15:17:39.460853",
     "exception": false,
     "start_time": "2022-12-04T15:17:38.839625",
     "status": "completed"
    },
    "tags": []
   },
   "outputs": [
    {
     "name": "stdout",
     "output_type": "stream",
     "text": [
      "Model: \"sequential\"\n",
      "_________________________________________________________________\n",
      "Layer (type)                 Output Shape              Param #   \n",
      "=================================================================\n",
      "flatten (Flatten)            (None, 784)               0         \n",
      "_________________________________________________________________\n",
      "batch_normalization (BatchNo (None, 784)               3136      \n",
      "_________________________________________________________________\n",
      "dense (Dense)                (None, 300)               235500    \n",
      "_________________________________________________________________\n",
      "batch_normalization_1 (Batch (None, 300)               1200      \n",
      "_________________________________________________________________\n",
      "dense_1 (Dense)              (None, 100)               30100     \n",
      "_________________________________________________________________\n",
      "batch_normalization_2 (Batch (None, 100)               400       \n",
      "_________________________________________________________________\n",
      "dense_2 (Dense)              (None, 10)                1010      \n",
      "=================================================================\n",
      "Total params: 271,346\n",
      "Trainable params: 268,978\n",
      "Non-trainable params: 2,368\n",
      "_________________________________________________________________\n"
     ]
    }
   ],
   "source": [
    "model.summary()"
   ]
  },
  {
   "cell_type": "code",
   "execution_count": 28,
   "id": "5ceb5cdc",
   "metadata": {
    "execution": {
     "iopub.execute_input": "2022-12-04T15:17:40.742170Z",
     "iopub.status.busy": "2022-12-04T15:17:40.741212Z",
     "iopub.status.idle": "2022-12-04T15:17:40.750589Z",
     "shell.execute_reply": "2022-12-04T15:17:40.749378Z"
    },
    "papermill": {
     "duration": 0.608155,
     "end_time": "2022-12-04T15:17:40.752724",
     "exception": false,
     "start_time": "2022-12-04T15:17:40.144569",
     "status": "completed"
    },
    "tags": []
   },
   "outputs": [
    {
     "data": {
      "text/plain": [
       "[('batch_normalization/gamma:0', True),\n",
       " ('batch_normalization/beta:0', True),\n",
       " ('batch_normalization/moving_mean:0', False),\n",
       " ('batch_normalization/moving_variance:0', False)]"
      ]
     },
     "execution_count": 28,
     "metadata": {},
     "output_type": "execute_result"
    }
   ],
   "source": [
    "[(var.name, var.trainable) for var in model.layers[1].variables]"
   ]
  },
  {
   "cell_type": "code",
   "execution_count": 29,
   "id": "39dc535f",
   "metadata": {
    "execution": {
     "iopub.execute_input": "2022-12-04T15:17:42.006830Z",
     "iopub.status.busy": "2022-12-04T15:17:42.006058Z",
     "iopub.status.idle": "2022-12-04T15:17:56.691896Z",
     "shell.execute_reply": "2022-12-04T15:17:56.690798Z"
    },
    "papermill": {
     "duration": 15.345908,
     "end_time": "2022-12-04T15:17:56.694406",
     "exception": false,
     "start_time": "2022-12-04T15:17:41.348498",
     "status": "completed"
    },
    "tags": []
   },
   "outputs": [
    {
     "name": "stdout",
     "output_type": "stream",
     "text": [
      "Epoch 1/2\n",
      "1719/1719 [==============================] - 8s 4ms/step - loss: 0.5558 - accuracy: 0.8095 - val_loss: 0.4013 - val_accuracy: 0.8548\n",
      "Epoch 2/2\n",
      "1719/1719 [==============================] - 7s 4ms/step - loss: 0.4082 - accuracy: 0.8562 - val_loss: 0.3683 - val_accuracy: 0.8656\n"
     ]
    },
    {
     "data": {
      "text/plain": [
       "<keras.callbacks.History at 0x7f6a352e54d0>"
      ]
     },
     "execution_count": 29,
     "metadata": {},
     "output_type": "execute_result"
    }
   ],
   "source": [
    "# extra code – just show that the model works! 😊\n",
    "model.compile(loss=\"sparse_categorical_crossentropy\", optimizer=\"sgd\",\n",
    "              metrics=\"accuracy\")\n",
    "model.fit(X_train, y_train, epochs=2, validation_data=(X_valid, y_valid))"
   ]
  },
  {
   "cell_type": "markdown",
   "id": "e79a6779",
   "metadata": {
    "papermill": {
     "duration": 0.611297,
     "end_time": "2022-12-04T15:17:57.919618",
     "exception": false,
     "start_time": "2022-12-04T15:17:57.308321",
     "status": "completed"
    },
    "tags": []
   },
   "source": [
    "Sometimes applying BN before the activation function works better (there's a debate on this topic). Moreover, the layer before a `BatchNormalization` layer does not need to have bias terms, since the `BatchNormalization` layer some as well, it would be a waste of parameters, so you can set `use_bias=False` when creating those layers:"
   ]
  },
  {
   "cell_type": "code",
   "execution_count": 30,
   "id": "d29af938",
   "metadata": {
    "execution": {
     "iopub.execute_input": "2022-12-04T15:17:59.253801Z",
     "iopub.status.busy": "2022-12-04T15:17:59.253390Z",
     "iopub.status.idle": "2022-12-04T15:17:59.264887Z",
     "shell.execute_reply": "2022-12-04T15:17:59.263549Z"
    },
    "papermill": {
     "duration": 0.634167,
     "end_time": "2022-12-04T15:17:59.267234",
     "exception": false,
     "start_time": "2022-12-04T15:17:58.633067",
     "status": "completed"
    },
    "tags": []
   },
   "outputs": [],
   "source": [
    "# extra code - clear the name counters and set the random seed\n",
    "tf.keras.backend.clear_session()\n",
    "tf.random.set_seed(42)"
   ]
  },
  {
   "cell_type": "code",
   "execution_count": 31,
   "id": "98119fd8",
   "metadata": {
    "execution": {
     "iopub.execute_input": "2022-12-04T15:18:00.546678Z",
     "iopub.status.busy": "2022-12-04T15:18:00.545691Z",
     "iopub.status.idle": "2022-12-04T15:18:00.617570Z",
     "shell.execute_reply": "2022-12-04T15:18:00.616432Z"
    },
    "papermill": {
     "duration": 0.686399,
     "end_time": "2022-12-04T15:18:00.620448",
     "exception": false,
     "start_time": "2022-12-04T15:17:59.934049",
     "status": "completed"
    },
    "tags": []
   },
   "outputs": [],
   "source": [
    "model = tf.keras.Sequential([\n",
    "    tf.keras.layers.Flatten(input_shape=[28, 28]),\n",
    "    tf.keras.layers.Dense(300, kernel_initializer=\"he_normal\", use_bias=False),\n",
    "    tf.keras.layers.BatchNormalization(),\n",
    "    tf.keras.layers.Activation(\"relu\"),\n",
    "    tf.keras.layers.Dense(100, kernel_initializer=\"he_normal\", use_bias=False),\n",
    "    tf.keras.layers.BatchNormalization(),\n",
    "    tf.keras.layers.Activation(\"relu\"),\n",
    "    tf.keras.layers.Dense(10, activation=\"softmax\")\n",
    "])"
   ]
  },
  {
   "cell_type": "code",
   "execution_count": 32,
   "id": "70370cee",
   "metadata": {
    "execution": {
     "iopub.execute_input": "2022-12-04T15:18:01.915743Z",
     "iopub.status.busy": "2022-12-04T15:18:01.915350Z",
     "iopub.status.idle": "2022-12-04T15:18:15.102791Z",
     "shell.execute_reply": "2022-12-04T15:18:15.101513Z"
    },
    "papermill": {
     "duration": 13.804035,
     "end_time": "2022-12-04T15:18:15.105426",
     "exception": false,
     "start_time": "2022-12-04T15:18:01.301391",
     "status": "completed"
    },
    "tags": []
   },
   "outputs": [
    {
     "name": "stdout",
     "output_type": "stream",
     "text": [
      "Epoch 1/2\n",
      "1719/1719 [==============================] - 7s 3ms/step - loss: 0.6061 - accuracy: 0.7992 - val_loss: 0.4313 - val_accuracy: 0.8432\n",
      "Epoch 2/2\n",
      "1719/1719 [==============================] - 6s 4ms/step - loss: 0.4273 - accuracy: 0.8505 - val_loss: 0.3753 - val_accuracy: 0.8632\n"
     ]
    },
    {
     "data": {
      "text/plain": [
       "<keras.callbacks.History at 0x7f6a4d2df0d0>"
      ]
     },
     "execution_count": 32,
     "metadata": {},
     "output_type": "execute_result"
    }
   ],
   "source": [
    "# extra code – just show that the model works! 😊\n",
    "model.compile(loss=\"sparse_categorical_crossentropy\", optimizer=\"sgd\",\n",
    "              metrics=\"accuracy\")\n",
    "model.fit(X_train, y_train, epochs=2, validation_data=(X_valid, y_valid))"
   ]
  },
  {
   "cell_type": "markdown",
   "id": "bffc8f7e",
   "metadata": {
    "papermill": {
     "duration": 0.710526,
     "end_time": "2022-12-04T15:18:16.467839",
     "exception": false,
     "start_time": "2022-12-04T15:18:15.757313",
     "status": "completed"
    },
    "tags": []
   },
   "source": [
    "## Gradient Clipping"
   ]
  },
  {
   "cell_type": "markdown",
   "id": "dc47a267",
   "metadata": {
    "papermill": {
     "duration": 0.700813,
     "end_time": "2022-12-04T15:18:17.821464",
     "exception": false,
     "start_time": "2022-12-04T15:18:17.120651",
     "status": "completed"
    },
    "tags": []
   },
   "source": [
    "All `tf.keras.optimizers` accept `clipnorm` or `clipvalue` arguments:"
   ]
  },
  {
   "cell_type": "code",
   "execution_count": 33,
   "id": "6b0dcaad",
   "metadata": {
    "execution": {
     "iopub.execute_input": "2022-12-04T15:18:19.178949Z",
     "iopub.status.busy": "2022-12-04T15:18:19.178221Z",
     "iopub.status.idle": "2022-12-04T15:18:19.188607Z",
     "shell.execute_reply": "2022-12-04T15:18:19.187678Z"
    },
    "papermill": {
     "duration": 0.731208,
     "end_time": "2022-12-04T15:18:19.191008",
     "exception": false,
     "start_time": "2022-12-04T15:18:18.459800",
     "status": "completed"
    },
    "tags": []
   },
   "outputs": [],
   "source": [
    "optimizer = tf.keras.optimizers.SGD(clipvalue=1.0)\n",
    "model.compile(loss=\"sparse_categorical_crossentropy\", optimizer=optimizer)"
   ]
  },
  {
   "cell_type": "code",
   "execution_count": 34,
   "id": "3dc624da",
   "metadata": {
    "execution": {
     "iopub.execute_input": "2022-12-04T15:18:20.453867Z",
     "iopub.status.busy": "2022-12-04T15:18:20.453117Z",
     "iopub.status.idle": "2022-12-04T15:18:20.463133Z",
     "shell.execute_reply": "2022-12-04T15:18:20.462183Z"
    },
    "papermill": {
     "duration": 0.640795,
     "end_time": "2022-12-04T15:18:20.465433",
     "exception": false,
     "start_time": "2022-12-04T15:18:19.824638",
     "status": "completed"
    },
    "tags": []
   },
   "outputs": [],
   "source": [
    "optimizer = tf.keras.optimizers.SGD(clipnorm=1.0)\n",
    "model.compile(loss=\"sparse_categorical_crossentropy\", optimizer=optimizer)"
   ]
  },
  {
   "cell_type": "markdown",
   "id": "d832e3e8",
   "metadata": {
    "papermill": {
     "duration": 0.636773,
     "end_time": "2022-12-04T15:18:21.793559",
     "exception": false,
     "start_time": "2022-12-04T15:18:21.156786",
     "status": "completed"
    },
    "tags": []
   },
   "source": [
    "## Reusing Pretrained Layers"
   ]
  },
  {
   "cell_type": "markdown",
   "id": "5f8bd10d",
   "metadata": {
    "papermill": {
     "duration": 0.640703,
     "end_time": "2022-12-04T15:18:23.134199",
     "exception": false,
     "start_time": "2022-12-04T15:18:22.493496",
     "status": "completed"
    },
    "tags": []
   },
   "source": [
    "### Reusing a Keras model"
   ]
  },
  {
   "cell_type": "markdown",
   "id": "b160ad45",
   "metadata": {
    "papermill": {
     "duration": 0.720966,
     "end_time": "2022-12-04T15:18:24.489406",
     "exception": false,
     "start_time": "2022-12-04T15:18:23.768440",
     "status": "completed"
    },
    "tags": []
   },
   "source": [
    "Let's split the fashion MNIST training set in two:\n",
    "* `X_train_A`: all images of all items except for T-shirts/tops and pullovers (classes 0 and 2).\n",
    "* `X_train_B`: a much smaller training set of just the first 200 images of T-shirts/tops and pullovers.\n",
    "\n",
    "The validation set and the test set are also split this way, but without restricting the number of images.\n",
    "\n",
    "We will train a model on set A (classification task with 8 classes), and try to reuse it to tackle set B (binary classification). We hope to transfer a little bit of knowledge from task A to task B, since classes in set A (trousers, dresses, coats, sandals, shirts, sneakers, bags, and ankle boots) are somewhat similar to classes in set B (T-shirts/tops and pullovers). However, since we are using `Dense` layers, only patterns that occur at the same location can be reused (in contrast, convolutional layers will transfer much better, since learned patterns can be detected anywhere on the image, as we will see in the chapter 14)."
   ]
  },
  {
   "cell_type": "code",
   "execution_count": 35,
   "id": "b34bc203",
   "metadata": {
    "execution": {
     "iopub.execute_input": "2022-12-04T15:18:25.810994Z",
     "iopub.status.busy": "2022-12-04T15:18:25.810562Z",
     "iopub.status.idle": "2022-12-04T15:19:47.152156Z",
     "shell.execute_reply": "2022-12-04T15:19:47.150996Z"
    },
    "papermill": {
     "duration": 82.04029,
     "end_time": "2022-12-04T15:19:47.155936",
     "exception": false,
     "start_time": "2022-12-04T15:18:25.115646",
     "status": "completed"
    },
    "tags": []
   },
   "outputs": [
    {
     "name": "stdout",
     "output_type": "stream",
     "text": [
      "Epoch 1/20\n",
      "1376/1376 [==============================] - 5s 3ms/step - loss: 1.1385 - accuracy: 0.6260 - val_loss: 0.7101 - val_accuracy: 0.7603\n",
      "Epoch 2/20\n",
      "1376/1376 [==============================] - 4s 3ms/step - loss: 0.6221 - accuracy: 0.7911 - val_loss: 0.5293 - val_accuracy: 0.8313\n",
      "Epoch 3/20\n",
      "1376/1376 [==============================] - 4s 3ms/step - loss: 0.5016 - accuracy: 0.8394 - val_loss: 0.4515 - val_accuracy: 0.8579\n",
      "Epoch 4/20\n",
      "1376/1376 [==============================] - 4s 3ms/step - loss: 0.4381 - accuracy: 0.8582 - val_loss: 0.4055 - val_accuracy: 0.8666\n",
      "Epoch 5/20\n",
      "1376/1376 [==============================] - 4s 3ms/step - loss: 0.3978 - accuracy: 0.8692 - val_loss: 0.3748 - val_accuracy: 0.8709\n",
      "Epoch 6/20\n",
      "1376/1376 [==============================] - 4s 3ms/step - loss: 0.3693 - accuracy: 0.8782 - val_loss: 0.3538 - val_accuracy: 0.8789\n",
      "Epoch 7/20\n",
      "1376/1376 [==============================] - 4s 3ms/step - loss: 0.3487 - accuracy: 0.8825 - val_loss: 0.3376 - val_accuracy: 0.8834\n",
      "Epoch 8/20\n",
      "1376/1376 [==============================] - 4s 3ms/step - loss: 0.3324 - accuracy: 0.8880 - val_loss: 0.3316 - val_accuracy: 0.8847\n",
      "Epoch 9/20\n",
      "1376/1376 [==============================] - 4s 3ms/step - loss: 0.3198 - accuracy: 0.8921 - val_loss: 0.3174 - val_accuracy: 0.8882\n",
      "Epoch 10/20\n",
      "1376/1376 [==============================] - 4s 3ms/step - loss: 0.3088 - accuracy: 0.8945 - val_loss: 0.3118 - val_accuracy: 0.8904\n",
      "Epoch 11/20\n",
      "1376/1376 [==============================] - 4s 3ms/step - loss: 0.2994 - accuracy: 0.8979 - val_loss: 0.3039 - val_accuracy: 0.8925\n",
      "Epoch 12/20\n",
      "1376/1376 [==============================] - 4s 3ms/step - loss: 0.2918 - accuracy: 0.9000 - val_loss: 0.2997 - val_accuracy: 0.8955\n",
      "Epoch 13/20\n",
      "1376/1376 [==============================] - 4s 3ms/step - loss: 0.2852 - accuracy: 0.9017 - val_loss: 0.2933 - val_accuracy: 0.8980\n",
      "Epoch 14/20\n",
      "1376/1376 [==============================] - 4s 3ms/step - loss: 0.2788 - accuracy: 0.9034 - val_loss: 0.2866 - val_accuracy: 0.8995\n",
      "Epoch 15/20\n",
      "1376/1376 [==============================] - 4s 3ms/step - loss: 0.2736 - accuracy: 0.9053 - val_loss: 0.2824 - val_accuracy: 0.9012\n",
      "Epoch 16/20\n",
      "1376/1376 [==============================] - 4s 3ms/step - loss: 0.2687 - accuracy: 0.9068 - val_loss: 0.2795 - val_accuracy: 0.9015\n",
      "Epoch 17/20\n",
      "1376/1376 [==============================] - 4s 3ms/step - loss: 0.2641 - accuracy: 0.9085 - val_loss: 0.2747 - val_accuracy: 0.9012\n",
      "Epoch 18/20\n",
      "1376/1376 [==============================] - 4s 3ms/step - loss: 0.2596 - accuracy: 0.9103 - val_loss: 0.2728 - val_accuracy: 0.9037\n",
      "Epoch 19/20\n",
      "1376/1376 [==============================] - 4s 3ms/step - loss: 0.2558 - accuracy: 0.9119 - val_loss: 0.2714 - val_accuracy: 0.9040\n",
      "Epoch 20/20\n",
      "1376/1376 [==============================] - 4s 3ms/step - loss: 0.2520 - accuracy: 0.9128 - val_loss: 0.2728 - val_accuracy: 0.9027\n"
     ]
    },
    {
     "name": "stderr",
     "output_type": "stream",
     "text": [
      "2022-12-04 15:19:46.516389: W tensorflow/python/util/util.cc:348] Sets are not currently considered sequences, but this may change in the future, so consider avoiding using them.\n"
     ]
    }
   ],
   "source": [
    "# extra code – split Fashion MNIST into tasks A and B, then train and save\n",
    "#              model A to \"my_model_A\".\n",
    "\n",
    "pos_class_id = class_names.index(\"Pullover\")\n",
    "neg_class_id = class_names.index(\"T-shirt/top\")\n",
    "\n",
    "def split_dataset(X, y):\n",
    "    y_for_B = (y == pos_class_id) | (y == neg_class_id)\n",
    "    y_A = y[~y_for_B]\n",
    "    y_B = (y[y_for_B] == pos_class_id).astype(np.float32)\n",
    "    old_class_ids = list(set(range(10)) - set([neg_class_id, pos_class_id]))\n",
    "    for old_class_id, new_class_id in zip(old_class_ids, range(8)):\n",
    "        y_A[y_A == old_class_id] = new_class_id  # reorder class ids for A\n",
    "    return ((X[~y_for_B], y_A), (X[y_for_B], y_B))\n",
    "\n",
    "(X_train_A, y_train_A), (X_train_B, y_train_B) = split_dataset(X_train, y_train)\n",
    "(X_valid_A, y_valid_A), (X_valid_B, y_valid_B) = split_dataset(X_valid, y_valid)\n",
    "(X_test_A, y_test_A), (X_test_B, y_test_B) = split_dataset(X_test, y_test)\n",
    "X_train_B = X_train_B[:200]\n",
    "y_train_B = y_train_B[:200]\n",
    "\n",
    "tf.random.set_seed(42)\n",
    "\n",
    "model_A = tf.keras.Sequential([\n",
    "    tf.keras.layers.Flatten(input_shape=[28, 28]),\n",
    "    tf.keras.layers.Dense(100, activation=\"relu\",\n",
    "                          kernel_initializer=\"he_normal\"),\n",
    "    tf.keras.layers.Dense(100, activation=\"relu\",\n",
    "                          kernel_initializer=\"he_normal\"),\n",
    "    tf.keras.layers.Dense(100, activation=\"relu\",\n",
    "                          kernel_initializer=\"he_normal\"),\n",
    "    tf.keras.layers.Dense(8, activation=\"softmax\")\n",
    "])\n",
    "\n",
    "model_A.compile(loss=\"sparse_categorical_crossentropy\",\n",
    "                optimizer=tf.keras.optimizers.SGD(learning_rate=0.001),\n",
    "                metrics=[\"accuracy\"])\n",
    "history = model_A.fit(X_train_A, y_train_A, epochs=20,\n",
    "                      validation_data=(X_valid_A, y_valid_A))\n",
    "model_A.save(\"my_model_A\")"
   ]
  },
  {
   "cell_type": "code",
   "execution_count": 36,
   "id": "c5f33593",
   "metadata": {
    "execution": {
     "iopub.execute_input": "2022-12-04T15:19:48.617255Z",
     "iopub.status.busy": "2022-12-04T15:19:48.616477Z",
     "iopub.status.idle": "2022-12-04T15:19:51.681745Z",
     "shell.execute_reply": "2022-12-04T15:19:51.680533Z"
    },
    "papermill": {
     "duration": 3.801221,
     "end_time": "2022-12-04T15:19:51.684602",
     "exception": false,
     "start_time": "2022-12-04T15:19:47.883381",
     "status": "completed"
    },
    "tags": []
   },
   "outputs": [
    {
     "name": "stdout",
     "output_type": "stream",
     "text": [
      "Epoch 1/20\n",
      "7/7 [==============================] - 1s 48ms/step - loss: 0.7167 - accuracy: 0.5450 - val_loss: 0.7052 - val_accuracy: 0.5272\n",
      "Epoch 2/20\n",
      "7/7 [==============================] - 0s 16ms/step - loss: 0.6805 - accuracy: 0.5800 - val_loss: 0.6758 - val_accuracy: 0.6004\n",
      "Epoch 3/20\n",
      "7/7 [==============================] - 0s 15ms/step - loss: 0.6532 - accuracy: 0.6650 - val_loss: 0.6530 - val_accuracy: 0.6746\n",
      "Epoch 4/20\n",
      "7/7 [==============================] - 0s 16ms/step - loss: 0.6289 - accuracy: 0.7150 - val_loss: 0.6317 - val_accuracy: 0.7517\n",
      "Epoch 5/20\n",
      "7/7 [==============================] - 0s 16ms/step - loss: 0.6079 - accuracy: 0.7800 - val_loss: 0.6105 - val_accuracy: 0.8091\n",
      "Epoch 6/20\n",
      "7/7 [==============================] - 0s 17ms/step - loss: 0.5866 - accuracy: 0.8400 - val_loss: 0.5913 - val_accuracy: 0.8447\n",
      "Epoch 7/20\n",
      "7/7 [==============================] - 0s 16ms/step - loss: 0.5670 - accuracy: 0.8850 - val_loss: 0.5728 - val_accuracy: 0.8833\n",
      "Epoch 8/20\n",
      "7/7 [==============================] - 0s 16ms/step - loss: 0.5499 - accuracy: 0.8900 - val_loss: 0.5571 - val_accuracy: 0.8971\n",
      "Epoch 9/20\n",
      "7/7 [==============================] - 0s 16ms/step - loss: 0.5331 - accuracy: 0.9150 - val_loss: 0.5427 - val_accuracy: 0.9050\n",
      "Epoch 10/20\n",
      "7/7 [==============================] - 0s 17ms/step - loss: 0.5180 - accuracy: 0.9250 - val_loss: 0.5290 - val_accuracy: 0.9080\n",
      "Epoch 11/20\n",
      "7/7 [==============================] - 0s 16ms/step - loss: 0.5038 - accuracy: 0.9350 - val_loss: 0.5160 - val_accuracy: 0.9189\n",
      "Epoch 12/20\n",
      "7/7 [==============================] - 0s 15ms/step - loss: 0.4903 - accuracy: 0.9350 - val_loss: 0.5032 - val_accuracy: 0.9228\n",
      "Epoch 13/20\n",
      "7/7 [==============================] - 0s 16ms/step - loss: 0.4770 - accuracy: 0.9400 - val_loss: 0.4925 - val_accuracy: 0.9228\n",
      "Epoch 14/20\n",
      "7/7 [==============================] - 0s 16ms/step - loss: 0.4656 - accuracy: 0.9450 - val_loss: 0.4817 - val_accuracy: 0.9258\n",
      "Epoch 15/20\n",
      "7/7 [==============================] - 0s 15ms/step - loss: 0.4546 - accuracy: 0.9550 - val_loss: 0.4708 - val_accuracy: 0.9298\n",
      "Epoch 16/20\n",
      "7/7 [==============================] - 0s 17ms/step - loss: 0.4435 - accuracy: 0.9550 - val_loss: 0.4608 - val_accuracy: 0.9318\n",
      "Epoch 17/20\n",
      "7/7 [==============================] - 0s 17ms/step - loss: 0.4330 - accuracy: 0.9600 - val_loss: 0.4510 - val_accuracy: 0.9337\n",
      "Epoch 18/20\n",
      "7/7 [==============================] - 0s 15ms/step - loss: 0.4226 - accuracy: 0.9600 - val_loss: 0.4406 - val_accuracy: 0.9367\n",
      "Epoch 19/20\n",
      "7/7 [==============================] - 0s 16ms/step - loss: 0.4119 - accuracy: 0.9600 - val_loss: 0.4311 - val_accuracy: 0.9377\n",
      "Epoch 20/20\n",
      "7/7 [==============================] - 0s 16ms/step - loss: 0.4025 - accuracy: 0.9600 - val_loss: 0.4225 - val_accuracy: 0.9367\n",
      "63/63 [==============================] - 0s 2ms/step - loss: 0.4317 - accuracy: 0.9185\n"
     ]
    },
    {
     "data": {
      "text/plain": [
       "[0.43168649077415466, 0.9185000061988831]"
      ]
     },
     "execution_count": 36,
     "metadata": {},
     "output_type": "execute_result"
    }
   ],
   "source": [
    "# extra code – train and evaluate model B, without reusing model A\n",
    "\n",
    "tf.random.set_seed(42)\n",
    "model_B = tf.keras.Sequential([\n",
    "    tf.keras.layers.Flatten(input_shape=[28, 28]),\n",
    "    tf.keras.layers.Dense(100, activation=\"relu\",\n",
    "                          kernel_initializer=\"he_normal\"),\n",
    "    tf.keras.layers.Dense(100, activation=\"relu\",\n",
    "                          kernel_initializer=\"he_normal\"),\n",
    "    tf.keras.layers.Dense(100, activation=\"relu\",\n",
    "                          kernel_initializer=\"he_normal\"),\n",
    "    tf.keras.layers.Dense(1, activation=\"sigmoid\")\n",
    "])\n",
    "\n",
    "model_B.compile(loss=\"binary_crossentropy\",\n",
    "                optimizer=tf.keras.optimizers.SGD(learning_rate=0.001),\n",
    "                metrics=[\"accuracy\"])\n",
    "history = model_B.fit(X_train_B, y_train_B, epochs=20,\n",
    "                      validation_data=(X_valid_B, y_valid_B))\n",
    "model_B.evaluate(X_test_B, y_test_B)"
   ]
  },
  {
   "cell_type": "markdown",
   "id": "6996d6b7",
   "metadata": {
    "papermill": {
     "duration": 0.743371,
     "end_time": "2022-12-04T15:19:53.255974",
     "exception": false,
     "start_time": "2022-12-04T15:19:52.512603",
     "status": "completed"
    },
    "tags": []
   },
   "source": [
    "Model B reaches 91.85% accuracy on the test set. Now let's try reusing the pretrained model A."
   ]
  },
  {
   "cell_type": "code",
   "execution_count": 37,
   "id": "46a3a5f8",
   "metadata": {
    "execution": {
     "iopub.execute_input": "2022-12-04T15:19:54.817593Z",
     "iopub.status.busy": "2022-12-04T15:19:54.817179Z",
     "iopub.status.idle": "2022-12-04T15:19:55.583425Z",
     "shell.execute_reply": "2022-12-04T15:19:55.582480Z"
    },
    "papermill": {
     "duration": 1.523508,
     "end_time": "2022-12-04T15:19:55.585981",
     "exception": false,
     "start_time": "2022-12-04T15:19:54.062473",
     "status": "completed"
    },
    "tags": []
   },
   "outputs": [],
   "source": [
    "model_A = tf.keras.models.load_model(\"my_model_A\")\n",
    "model_B_on_A = tf.keras.Sequential(model_A.layers[:-1])\n",
    "model_B_on_A.add(tf.keras.layers.Dense(1, activation=\"sigmoid\"))"
   ]
  },
  {
   "cell_type": "markdown",
   "id": "11d2b3e4",
   "metadata": {
    "papermill": {
     "duration": 0.736965,
     "end_time": "2022-12-04T15:19:57.121582",
     "exception": false,
     "start_time": "2022-12-04T15:19:56.384617",
     "status": "completed"
    },
    "tags": []
   },
   "source": [
    "Note that `model_B_on_A` and `model_A` actually share layers now, so when we train one, it will update both models. If we want to avoid that, we need to build `model_B_on_A` on top of a *clone* of `model_A`:"
   ]
  },
  {
   "cell_type": "code",
   "execution_count": 38,
   "id": "3b301547",
   "metadata": {
    "execution": {
     "iopub.execute_input": "2022-12-04T15:19:58.677909Z",
     "iopub.status.busy": "2022-12-04T15:19:58.676610Z",
     "iopub.status.idle": "2022-12-04T15:19:58.684026Z",
     "shell.execute_reply": "2022-12-04T15:19:58.683159Z"
    },
    "papermill": {
     "duration": 0.753679,
     "end_time": "2022-12-04T15:19:58.686469",
     "exception": false,
     "start_time": "2022-12-04T15:19:57.932790",
     "status": "completed"
    },
    "tags": []
   },
   "outputs": [],
   "source": [
    "tf.random.set_seed(42)  # extra code – ensure reproducibility"
   ]
  },
  {
   "cell_type": "code",
   "execution_count": 39,
   "id": "c40f90ba",
   "metadata": {
    "execution": {
     "iopub.execute_input": "2022-12-04T15:20:00.236255Z",
     "iopub.status.busy": "2022-12-04T15:20:00.235833Z",
     "iopub.status.idle": "2022-12-04T15:20:00.298602Z",
     "shell.execute_reply": "2022-12-04T15:20:00.297107Z"
    },
    "papermill": {
     "duration": 0.809297,
     "end_time": "2022-12-04T15:20:00.301841",
     "exception": false,
     "start_time": "2022-12-04T15:19:59.492544",
     "status": "completed"
    },
    "tags": []
   },
   "outputs": [],
   "source": [
    "model_A_clone = tf.keras.models.clone_model(model_A)\n",
    "model_A_clone.set_weights(model_A.get_weights())"
   ]
  },
  {
   "cell_type": "code",
   "execution_count": 40,
   "id": "c9a8b223",
   "metadata": {
    "execution": {
     "iopub.execute_input": "2022-12-04T15:20:01.843345Z",
     "iopub.status.busy": "2022-12-04T15:20:01.842473Z",
     "iopub.status.idle": "2022-12-04T15:20:01.878886Z",
     "shell.execute_reply": "2022-12-04T15:20:01.878003Z"
    },
    "papermill": {
     "duration": 0.773043,
     "end_time": "2022-12-04T15:20:01.881425",
     "exception": false,
     "start_time": "2022-12-04T15:20:01.108382",
     "status": "completed"
    },
    "tags": []
   },
   "outputs": [],
   "source": [
    "# extra code – creating model_B_on_A just like in the previous cell\n",
    "model_B_on_A = tf.keras.Sequential(model_A_clone.layers[:-1])\n",
    "model_B_on_A.add(tf.keras.layers.Dense(1, activation=\"sigmoid\"))"
   ]
  },
  {
   "cell_type": "code",
   "execution_count": 41,
   "id": "0bd9241c",
   "metadata": {
    "execution": {
     "iopub.execute_input": "2022-12-04T15:20:03.439866Z",
     "iopub.status.busy": "2022-12-04T15:20:03.439123Z",
     "iopub.status.idle": "2022-12-04T15:20:03.450410Z",
     "shell.execute_reply": "2022-12-04T15:20:03.449325Z"
    },
    "papermill": {
     "duration": 0.77201,
     "end_time": "2022-12-04T15:20:03.453056",
     "exception": false,
     "start_time": "2022-12-04T15:20:02.681046",
     "status": "completed"
    },
    "tags": []
   },
   "outputs": [],
   "source": [
    "for layer in model_B_on_A.layers[:-1]:\n",
    "    layer.trainable = False\n",
    "\n",
    "optimizer = tf.keras.optimizers.SGD(learning_rate=0.001)\n",
    "model_B_on_A.compile(loss=\"binary_crossentropy\", optimizer=optimizer,\n",
    "                     metrics=[\"accuracy\"])"
   ]
  },
  {
   "cell_type": "code",
   "execution_count": 42,
   "id": "a87eac3e",
   "metadata": {
    "execution": {
     "iopub.execute_input": "2022-12-04T15:20:04.991864Z",
     "iopub.status.busy": "2022-12-04T15:20:04.991053Z",
     "iopub.status.idle": "2022-12-04T15:20:08.806821Z",
     "shell.execute_reply": "2022-12-04T15:20:08.805282Z"
    },
    "papermill": {
     "duration": 4.554727,
     "end_time": "2022-12-04T15:20:08.809785",
     "exception": false,
     "start_time": "2022-12-04T15:20:04.255058",
     "status": "completed"
    },
    "tags": []
   },
   "outputs": [
    {
     "name": "stdout",
     "output_type": "stream",
     "text": [
      "Epoch 1/4\n",
      "7/7 [==============================] - 1s 87ms/step - loss: 1.7897 - accuracy: 0.5550 - val_loss: 1.3328 - val_accuracy: 0.5084\n",
      "Epoch 2/4\n",
      "7/7 [==============================] - 0s 19ms/step - loss: 1.1235 - accuracy: 0.5350 - val_loss: 0.9196 - val_accuracy: 0.4807\n",
      "Epoch 3/4\n",
      "7/7 [==============================] - 0s 15ms/step - loss: 0.8830 - accuracy: 0.5000 - val_loss: 0.8259 - val_accuracy: 0.4847\n",
      "Epoch 4/4\n",
      "7/7 [==============================] - 0s 15ms/step - loss: 0.8195 - accuracy: 0.5250 - val_loss: 0.7788 - val_accuracy: 0.5005\n",
      "Epoch 1/16\n",
      "7/7 [==============================] - 1s 45ms/step - loss: 0.7342 - accuracy: 0.6050 - val_loss: 0.6376 - val_accuracy: 0.6924\n",
      "Epoch 2/16\n",
      "7/7 [==============================] - 0s 16ms/step - loss: 0.6058 - accuracy: 0.7600 - val_loss: 0.5289 - val_accuracy: 0.8239\n",
      "Epoch 3/16\n",
      "7/7 [==============================] - 0s 16ms/step - loss: 0.4998 - accuracy: 0.8350 - val_loss: 0.4749 - val_accuracy: 0.8190\n",
      "Epoch 4/16\n",
      "7/7 [==============================] - 0s 16ms/step - loss: 0.4303 - accuracy: 0.8700 - val_loss: 0.4220 - val_accuracy: 0.8773\n",
      "Epoch 5/16\n",
      "7/7 [==============================] - 0s 17ms/step - loss: 0.3833 - accuracy: 0.9050 - val_loss: 0.3802 - val_accuracy: 0.9031\n",
      "Epoch 6/16\n",
      "7/7 [==============================] - 0s 16ms/step - loss: 0.3444 - accuracy: 0.9250 - val_loss: 0.3539 - val_accuracy: 0.9149\n",
      "Epoch 7/16\n",
      "7/7 [==============================] - 0s 16ms/step - loss: 0.3153 - accuracy: 0.9500 - val_loss: 0.3388 - val_accuracy: 0.9001\n",
      "Epoch 8/16\n",
      "7/7 [==============================] - 0s 16ms/step - loss: 0.3016 - accuracy: 0.9450 - val_loss: 0.3181 - val_accuracy: 0.9219\n",
      "Epoch 9/16\n",
      "7/7 [==============================] - 0s 16ms/step - loss: 0.2770 - accuracy: 0.9600 - val_loss: 0.3045 - val_accuracy: 0.9298\n",
      "Epoch 10/16\n",
      "7/7 [==============================] - 0s 16ms/step - loss: 0.2626 - accuracy: 0.9550 - val_loss: 0.2930 - val_accuracy: 0.9308\n",
      "Epoch 11/16\n",
      "7/7 [==============================] - 0s 15ms/step - loss: 0.2513 - accuracy: 0.9600 - val_loss: 0.2831 - val_accuracy: 0.9327\n",
      "Epoch 12/16\n",
      "7/7 [==============================] - 0s 16ms/step - loss: 0.2398 - accuracy: 0.9600 - val_loss: 0.2745 - val_accuracy: 0.9318\n",
      "Epoch 13/16\n",
      "7/7 [==============================] - 0s 17ms/step - loss: 0.2296 - accuracy: 0.9600 - val_loss: 0.2676 - val_accuracy: 0.9327\n",
      "Epoch 14/16\n",
      "7/7 [==============================] - 0s 16ms/step - loss: 0.2227 - accuracy: 0.9600 - val_loss: 0.2599 - val_accuracy: 0.9337\n",
      "Epoch 15/16\n",
      "7/7 [==============================] - 0s 16ms/step - loss: 0.2148 - accuracy: 0.9600 - val_loss: 0.2543 - val_accuracy: 0.9357\n",
      "Epoch 16/16\n",
      "7/7 [==============================] - 0s 16ms/step - loss: 0.2078 - accuracy: 0.9600 - val_loss: 0.2493 - val_accuracy: 0.9377\n"
     ]
    }
   ],
   "source": [
    "history = model_B_on_A.fit(X_train_B, y_train_B, epochs=4,\n",
    "                           validation_data=(X_valid_B, y_valid_B))\n",
    "\n",
    "for layer in model_B_on_A.layers[:-1]:\n",
    "    layer.trainable = True\n",
    "\n",
    "optimizer = tf.keras.optimizers.SGD(learning_rate=0.001)\n",
    "model_B_on_A.compile(loss=\"binary_crossentropy\", optimizer=optimizer,\n",
    "                     metrics=[\"accuracy\"])\n",
    "history = model_B_on_A.fit(X_train_B, y_train_B, epochs=16,\n",
    "                           validation_data=(X_valid_B, y_valid_B))"
   ]
  },
  {
   "cell_type": "markdown",
   "id": "90778050",
   "metadata": {
    "papermill": {
     "duration": 0.736296,
     "end_time": "2022-12-04T15:20:10.355273",
     "exception": false,
     "start_time": "2022-12-04T15:20:09.618977",
     "status": "completed"
    },
    "tags": []
   },
   "source": [
    "So, what's the final verdict?"
   ]
  },
  {
   "cell_type": "code",
   "execution_count": 43,
   "id": "9c653d4f",
   "metadata": {
    "execution": {
     "iopub.execute_input": "2022-12-04T15:20:11.887244Z",
     "iopub.status.busy": "2022-12-04T15:20:11.886817Z",
     "iopub.status.idle": "2022-12-04T15:20:12.081066Z",
     "shell.execute_reply": "2022-12-04T15:20:12.079630Z"
    },
    "papermill": {
     "duration": 0.933653,
     "end_time": "2022-12-04T15:20:12.083680",
     "exception": false,
     "start_time": "2022-12-04T15:20:11.150027",
     "status": "completed"
    },
    "tags": []
   },
   "outputs": [
    {
     "name": "stdout",
     "output_type": "stream",
     "text": [
      "63/63 [==============================] - 0s 2ms/step - loss: 0.2547 - accuracy: 0.9385\n"
     ]
    },
    {
     "data": {
      "text/plain": [
       "[0.25473645329475403, 0.9384999871253967]"
      ]
     },
     "execution_count": 43,
     "metadata": {},
     "output_type": "execute_result"
    }
   ],
   "source": [
    "model_B_on_A.evaluate(X_test_B, y_test_B)"
   ]
  },
  {
   "cell_type": "markdown",
   "id": "acf1215b",
   "metadata": {
    "papermill": {
     "duration": 0.73026,
     "end_time": "2022-12-04T15:20:13.609678",
     "exception": false,
     "start_time": "2022-12-04T15:20:12.879418",
     "status": "completed"
    },
    "tags": []
   },
   "source": [
    "Great! We got a bit of transfer: the model's accuracy went up 2 percentage points, from 91.85% to 93.85%. This means the error rate dropped by almost 25%:"
   ]
  },
  {
   "cell_type": "code",
   "execution_count": 44,
   "id": "21d02fa4",
   "metadata": {
    "execution": {
     "iopub.execute_input": "2022-12-04T15:20:15.180005Z",
     "iopub.status.busy": "2022-12-04T15:20:15.179620Z",
     "iopub.status.idle": "2022-12-04T15:20:15.186777Z",
     "shell.execute_reply": "2022-12-04T15:20:15.185563Z"
    },
    "papermill": {
     "duration": 0.750838,
     "end_time": "2022-12-04T15:20:15.189379",
     "exception": false,
     "start_time": "2022-12-04T15:20:14.438541",
     "status": "completed"
    },
    "tags": []
   },
   "outputs": [
    {
     "data": {
      "text/plain": [
       "0.24539877300613477"
      ]
     },
     "execution_count": 44,
     "metadata": {},
     "output_type": "execute_result"
    }
   ],
   "source": [
    "1 - (100 - 93.85) / (100 - 91.85)"
   ]
  },
  {
   "cell_type": "markdown",
   "id": "916dcf37",
   "metadata": {
    "papermill": {
     "duration": 0.731509,
     "end_time": "2022-12-04T15:20:16.727516",
     "exception": false,
     "start_time": "2022-12-04T15:20:15.996007",
     "status": "completed"
    },
    "tags": []
   },
   "source": [
    "# Faster Optimizers"
   ]
  },
  {
   "cell_type": "code",
   "execution_count": 45,
   "id": "e658e701",
   "metadata": {
    "execution": {
     "iopub.execute_input": "2022-12-04T15:20:18.247294Z",
     "iopub.status.busy": "2022-12-04T15:20:18.246803Z",
     "iopub.status.idle": "2022-12-04T15:20:18.256631Z",
     "shell.execute_reply": "2022-12-04T15:20:18.255429Z"
    },
    "papermill": {
     "duration": 0.743202,
     "end_time": "2022-12-04T15:20:18.258983",
     "exception": false,
     "start_time": "2022-12-04T15:20:17.515781",
     "status": "completed"
    },
    "tags": []
   },
   "outputs": [],
   "source": [
    "# extra code – a little function to test an optimizer on Fashion MNIST\n",
    "\n",
    "def build_model(seed=42):\n",
    "    tf.random.set_seed(seed)\n",
    "    return tf.keras.Sequential([\n",
    "        tf.keras.layers.Flatten(input_shape=[28, 28]),\n",
    "        tf.keras.layers.Dense(100, activation=\"relu\",\n",
    "                              kernel_initializer=\"he_normal\"),\n",
    "        tf.keras.layers.Dense(100, activation=\"relu\",\n",
    "                              kernel_initializer=\"he_normal\"),\n",
    "        tf.keras.layers.Dense(100, activation=\"relu\",\n",
    "                              kernel_initializer=\"he_normal\"),\n",
    "        tf.keras.layers.Dense(10, activation=\"softmax\")\n",
    "    ])\n",
    "\n",
    "def build_and_train_model(optimizer):\n",
    "    model = build_model()\n",
    "    model.compile(loss=\"sparse_categorical_crossentropy\", optimizer=optimizer,\n",
    "                  metrics=[\"accuracy\"])\n",
    "    return model.fit(X_train, y_train, epochs=10,\n",
    "                     validation_data=(X_valid, y_valid))"
   ]
  },
  {
   "cell_type": "code",
   "execution_count": 46,
   "id": "c8612eff",
   "metadata": {
    "execution": {
     "iopub.execute_input": "2022-12-04T15:20:19.792168Z",
     "iopub.status.busy": "2022-12-04T15:20:19.791516Z",
     "iopub.status.idle": "2022-12-04T15:20:19.796230Z",
     "shell.execute_reply": "2022-12-04T15:20:19.795282Z"
    },
    "papermill": {
     "duration": 0.80559,
     "end_time": "2022-12-04T15:20:19.798636",
     "exception": false,
     "start_time": "2022-12-04T15:20:18.993046",
     "status": "completed"
    },
    "tags": []
   },
   "outputs": [],
   "source": [
    "optimizer = tf.keras.optimizers.SGD(learning_rate=0.001, momentum=0.9)"
   ]
  },
  {
   "cell_type": "code",
   "execution_count": 47,
   "id": "55bf7673",
   "metadata": {
    "execution": {
     "iopub.execute_input": "2022-12-04T15:20:21.339445Z",
     "iopub.status.busy": "2022-12-04T15:20:21.339001Z",
     "iopub.status.idle": "2022-12-04T15:21:17.412417Z",
     "shell.execute_reply": "2022-12-04T15:21:17.411293Z"
    },
    "papermill": {
     "duration": 56.816017,
     "end_time": "2022-12-04T15:21:17.415567",
     "exception": false,
     "start_time": "2022-12-04T15:20:20.599550",
     "status": "completed"
    },
    "tags": []
   },
   "outputs": [
    {
     "name": "stdout",
     "output_type": "stream",
     "text": [
      "Epoch 1/10\n",
      "1719/1719 [==============================] - 6s 3ms/step - loss: 0.6877 - accuracy: 0.7677 - val_loss: 0.4960 - val_accuracy: 0.8172\n",
      "Epoch 2/10\n",
      "1719/1719 [==============================] - 5s 3ms/step - loss: 0.4618 - accuracy: 0.8380 - val_loss: 0.4404 - val_accuracy: 0.8402\n",
      "Epoch 3/10\n",
      "1719/1719 [==============================] - 6s 3ms/step - loss: 0.4176 - accuracy: 0.8527 - val_loss: 0.4207 - val_accuracy: 0.8540\n",
      "Epoch 4/10\n",
      "1719/1719 [==============================] - 5s 3ms/step - loss: 0.3902 - accuracy: 0.8621 - val_loss: 0.3813 - val_accuracy: 0.8614\n",
      "Epoch 5/10\n",
      "1719/1719 [==============================] - 6s 3ms/step - loss: 0.3682 - accuracy: 0.8699 - val_loss: 0.3651 - val_accuracy: 0.8652\n",
      "Epoch 6/10\n",
      "1719/1719 [==============================] - 5s 3ms/step - loss: 0.3552 - accuracy: 0.8731 - val_loss: 0.3640 - val_accuracy: 0.8720\n",
      "Epoch 7/10\n",
      "1719/1719 [==============================] - 5s 3ms/step - loss: 0.3384 - accuracy: 0.8776 - val_loss: 0.3617 - val_accuracy: 0.8670\n",
      "Epoch 8/10\n",
      "1719/1719 [==============================] - 5s 3ms/step - loss: 0.3293 - accuracy: 0.8803 - val_loss: 0.3441 - val_accuracy: 0.8736\n",
      "Epoch 9/10\n",
      "1719/1719 [==============================] - 6s 3ms/step - loss: 0.3198 - accuracy: 0.8852 - val_loss: 0.3615 - val_accuracy: 0.8654\n",
      "Epoch 10/10\n",
      "1719/1719 [==============================] - 5s 3ms/step - loss: 0.3096 - accuracy: 0.8875 - val_loss: 0.3677 - val_accuracy: 0.8652\n"
     ]
    }
   ],
   "source": [
    "history_sgd = build_and_train_model(optimizer)  # extra code"
   ]
  },
  {
   "cell_type": "markdown",
   "id": "de67e9ce",
   "metadata": {
    "papermill": {
     "duration": 0.827925,
     "end_time": "2022-12-04T15:21:19.153499",
     "exception": false,
     "start_time": "2022-12-04T15:21:18.325574",
     "status": "completed"
    },
    "tags": []
   },
   "source": [
    "## Momentum optimization"
   ]
  },
  {
   "cell_type": "code",
   "execution_count": 48,
   "id": "4eaaef4c",
   "metadata": {
    "execution": {
     "iopub.execute_input": "2022-12-04T15:21:20.912199Z",
     "iopub.status.busy": "2022-12-04T15:21:20.911755Z",
     "iopub.status.idle": "2022-12-04T15:21:20.917728Z",
     "shell.execute_reply": "2022-12-04T15:21:20.916480Z"
    },
    "papermill": {
     "duration": 0.880198,
     "end_time": "2022-12-04T15:21:20.920187",
     "exception": false,
     "start_time": "2022-12-04T15:21:20.039989",
     "status": "completed"
    },
    "tags": []
   },
   "outputs": [],
   "source": [
    "optimizer = tf.keras.optimizers.SGD(learning_rate=0.001, momentum=0.9)"
   ]
  },
  {
   "cell_type": "code",
   "execution_count": 49,
   "id": "c4f8763a",
   "metadata": {
    "execution": {
     "iopub.execute_input": "2022-12-04T15:21:22.599183Z",
     "iopub.status.busy": "2022-12-04T15:21:22.598733Z",
     "iopub.status.idle": "2022-12-04T15:22:18.587381Z",
     "shell.execute_reply": "2022-12-04T15:22:18.586188Z"
    },
    "papermill": {
     "duration": 56.867827,
     "end_time": "2022-12-04T15:22:18.590027",
     "exception": false,
     "start_time": "2022-12-04T15:21:21.722200",
     "status": "completed"
    },
    "tags": []
   },
   "outputs": [
    {
     "name": "stdout",
     "output_type": "stream",
     "text": [
      "Epoch 1/10\n",
      "1719/1719 [==============================] - 6s 3ms/step - loss: 0.6877 - accuracy: 0.7677 - val_loss: 0.4960 - val_accuracy: 0.8172\n",
      "Epoch 2/10\n",
      "1719/1719 [==============================] - 5s 3ms/step - loss: 0.4618 - accuracy: 0.8380 - val_loss: 0.4404 - val_accuracy: 0.8402\n",
      "Epoch 3/10\n",
      "1719/1719 [==============================] - 5s 3ms/step - loss: 0.4176 - accuracy: 0.8527 - val_loss: 0.4207 - val_accuracy: 0.8540\n",
      "Epoch 4/10\n",
      "1719/1719 [==============================] - 6s 3ms/step - loss: 0.3902 - accuracy: 0.8621 - val_loss: 0.3813 - val_accuracy: 0.8614\n",
      "Epoch 5/10\n",
      "1719/1719 [==============================] - 5s 3ms/step - loss: 0.3682 - accuracy: 0.8699 - val_loss: 0.3651 - val_accuracy: 0.8652\n",
      "Epoch 6/10\n",
      "1719/1719 [==============================] - 5s 3ms/step - loss: 0.3552 - accuracy: 0.8731 - val_loss: 0.3640 - val_accuracy: 0.8720\n",
      "Epoch 7/10\n",
      "1719/1719 [==============================] - 5s 3ms/step - loss: 0.3384 - accuracy: 0.8776 - val_loss: 0.3617 - val_accuracy: 0.8670\n",
      "Epoch 8/10\n",
      "1719/1719 [==============================] - 6s 3ms/step - loss: 0.3293 - accuracy: 0.8803 - val_loss: 0.3441 - val_accuracy: 0.8736\n",
      "Epoch 9/10\n",
      "1719/1719 [==============================] - 6s 3ms/step - loss: 0.3198 - accuracy: 0.8852 - val_loss: 0.3615 - val_accuracy: 0.8654\n",
      "Epoch 10/10\n",
      "1719/1719 [==============================] - 6s 4ms/step - loss: 0.3096 - accuracy: 0.8875 - val_loss: 0.3677 - val_accuracy: 0.8652\n"
     ]
    }
   ],
   "source": [
    "history_momentum = build_and_train_model(optimizer)  # extra code"
   ]
  },
  {
   "cell_type": "markdown",
   "id": "080812c5",
   "metadata": {
    "papermill": {
     "duration": 0.920775,
     "end_time": "2022-12-04T15:22:20.475144",
     "exception": false,
     "start_time": "2022-12-04T15:22:19.554369",
     "status": "completed"
    },
    "tags": []
   },
   "source": [
    "## Nesterov Accelerated Gradient"
   ]
  },
  {
   "cell_type": "code",
   "execution_count": 50,
   "id": "dc393482",
   "metadata": {
    "execution": {
     "iopub.execute_input": "2022-12-04T15:22:22.318150Z",
     "iopub.status.busy": "2022-12-04T15:22:22.317713Z",
     "iopub.status.idle": "2022-12-04T15:22:22.323886Z",
     "shell.execute_reply": "2022-12-04T15:22:22.322576Z"
    },
    "papermill": {
     "duration": 0.886866,
     "end_time": "2022-12-04T15:22:22.326327",
     "exception": false,
     "start_time": "2022-12-04T15:22:21.439461",
     "status": "completed"
    },
    "tags": []
   },
   "outputs": [],
   "source": [
    "optimizer = tf.keras.optimizers.SGD(learning_rate=0.001, momentum=0.9,\n",
    "                                    nesterov=True)"
   ]
  },
  {
   "cell_type": "code",
   "execution_count": 51,
   "id": "e5ca159a",
   "metadata": {
    "execution": {
     "iopub.execute_input": "2022-12-04T15:22:24.151406Z",
     "iopub.status.busy": "2022-12-04T15:22:24.150545Z",
     "iopub.status.idle": "2022-12-04T15:23:46.698090Z",
     "shell.execute_reply": "2022-12-04T15:23:46.696919Z"
    },
    "papermill": {
     "duration": 83.433241,
     "end_time": "2022-12-04T15:23:46.700972",
     "exception": false,
     "start_time": "2022-12-04T15:22:23.267731",
     "status": "completed"
    },
    "tags": []
   },
   "outputs": [
    {
     "name": "stdout",
     "output_type": "stream",
     "text": [
      "Epoch 1/10\n",
      "1719/1719 [==============================] - 6s 3ms/step - loss: 0.6777 - accuracy: 0.7711 - val_loss: 0.4796 - val_accuracy: 0.8260\n",
      "Epoch 2/10\n",
      "1719/1719 [==============================] - 6s 3ms/step - loss: 0.4569 - accuracy: 0.8397 - val_loss: 0.4365 - val_accuracy: 0.8412\n",
      "Epoch 3/10\n",
      "1719/1719 [==============================] - 5s 3ms/step - loss: 0.4141 - accuracy: 0.8533 - val_loss: 0.4026 - val_accuracy: 0.8548\n",
      "Epoch 4/10\n",
      "1719/1719 [==============================] - 6s 3ms/step - loss: 0.3883 - accuracy: 0.8632 - val_loss: 0.3785 - val_accuracy: 0.8596\n",
      "Epoch 5/10\n",
      "1719/1719 [==============================] - 5s 3ms/step - loss: 0.3666 - accuracy: 0.8701 - val_loss: 0.3694 - val_accuracy: 0.8634\n",
      "Epoch 6/10\n",
      "1719/1719 [==============================] - 5s 3ms/step - loss: 0.3532 - accuracy: 0.8731 - val_loss: 0.3681 - val_accuracy: 0.8680\n",
      "Epoch 7/10\n",
      "1719/1719 [==============================] - 6s 3ms/step - loss: 0.3375 - accuracy: 0.8782 - val_loss: 0.3645 - val_accuracy: 0.8672\n",
      "Epoch 8/10\n",
      "1719/1719 [==============================] - 6s 3ms/step - loss: 0.3281 - accuracy: 0.8813 - val_loss: 0.3568 - val_accuracy: 0.8702\n",
      "Epoch 9/10\n",
      "1719/1719 [==============================] - 5s 3ms/step - loss: 0.3187 - accuracy: 0.8856 - val_loss: 0.3490 - val_accuracy: 0.8720\n",
      "Epoch 10/10\n",
      "1719/1719 [==============================] - 6s 3ms/step - loss: 0.3088 - accuracy: 0.8888 - val_loss: 0.3624 - val_accuracy: 0.8692\n"
     ]
    }
   ],
   "source": [
    "history_nesterov = build_and_train_model(optimizer)  # extra code"
   ]
  },
  {
   "cell_type": "markdown",
   "id": "b716a1ce",
   "metadata": {
    "papermill": {
     "duration": 1.049325,
     "end_time": "2022-12-04T15:23:48.716483",
     "exception": false,
     "start_time": "2022-12-04T15:23:47.667158",
     "status": "completed"
    },
    "tags": []
   },
   "source": [
    "## AdaGrad"
   ]
  },
  {
   "cell_type": "code",
   "execution_count": 52,
   "id": "460d7233",
   "metadata": {
    "execution": {
     "iopub.execute_input": "2022-12-04T15:23:50.729778Z",
     "iopub.status.busy": "2022-12-04T15:23:50.728943Z",
     "iopub.status.idle": "2022-12-04T15:23:50.734796Z",
     "shell.execute_reply": "2022-12-04T15:23:50.733794Z"
    },
    "papermill": {
     "duration": 1.052288,
     "end_time": "2022-12-04T15:23:50.737324",
     "exception": false,
     "start_time": "2022-12-04T15:23:49.685036",
     "status": "completed"
    },
    "tags": []
   },
   "outputs": [],
   "source": [
    "optimizer = tf.keras.optimizers.Adagrad(learning_rate=0.001)"
   ]
  },
  {
   "cell_type": "code",
   "execution_count": 53,
   "id": "6a9069b7",
   "metadata": {
    "execution": {
     "iopub.execute_input": "2022-12-04T15:23:52.712912Z",
     "iopub.status.busy": "2022-12-04T15:23:52.712194Z",
     "iopub.status.idle": "2022-12-04T15:24:48.109125Z",
     "shell.execute_reply": "2022-12-04T15:24:48.107602Z"
    },
    "papermill": {
     "duration": 56.352018,
     "end_time": "2022-12-04T15:24:48.112122",
     "exception": false,
     "start_time": "2022-12-04T15:23:51.760104",
     "status": "completed"
    },
    "tags": []
   },
   "outputs": [
    {
     "name": "stdout",
     "output_type": "stream",
     "text": [
      "Epoch 1/10\n",
      "1719/1719 [==============================] - 6s 3ms/step - loss: 1.0003 - accuracy: 0.6822 - val_loss: 0.6876 - val_accuracy: 0.7744\n",
      "Epoch 2/10\n",
      "1719/1719 [==============================] - 5s 3ms/step - loss: 0.6389 - accuracy: 0.7904 - val_loss: 0.5837 - val_accuracy: 0.8050\n",
      "Epoch 3/10\n",
      "1719/1719 [==============================] - 5s 3ms/step - loss: 0.5682 - accuracy: 0.8104 - val_loss: 0.5379 - val_accuracy: 0.8152\n",
      "Epoch 4/10\n",
      "1719/1719 [==============================] - 5s 3ms/step - loss: 0.5317 - accuracy: 0.8216 - val_loss: 0.5134 - val_accuracy: 0.8244\n",
      "Epoch 5/10\n",
      "1719/1719 [==============================] - 6s 3ms/step - loss: 0.5076 - accuracy: 0.8296 - val_loss: 0.4937 - val_accuracy: 0.8288\n",
      "Epoch 6/10\n",
      "1719/1719 [==============================] - 5s 3ms/step - loss: 0.4905 - accuracy: 0.8338 - val_loss: 0.4821 - val_accuracy: 0.8314\n",
      "Epoch 7/10\n",
      "1719/1719 [==============================] - 6s 3ms/step - loss: 0.4776 - accuracy: 0.8371 - val_loss: 0.4704 - val_accuracy: 0.8346\n",
      "Epoch 8/10\n",
      "1719/1719 [==============================] - 6s 3ms/step - loss: 0.4674 - accuracy: 0.8410 - val_loss: 0.4611 - val_accuracy: 0.8360\n",
      "Epoch 9/10\n",
      "1719/1719 [==============================] - 5s 3ms/step - loss: 0.4587 - accuracy: 0.8434 - val_loss: 0.4548 - val_accuracy: 0.8406\n",
      "Epoch 10/10\n",
      "1719/1719 [==============================] - 6s 3ms/step - loss: 0.4510 - accuracy: 0.8457 - val_loss: 0.4469 - val_accuracy: 0.8422\n"
     ]
    }
   ],
   "source": [
    "history_adagrad = build_and_train_model(optimizer)  # extra code"
   ]
  },
  {
   "cell_type": "markdown",
   "id": "97297e35",
   "metadata": {
    "papermill": {
     "duration": 1.006516,
     "end_time": "2022-12-04T15:24:50.224412",
     "exception": false,
     "start_time": "2022-12-04T15:24:49.217896",
     "status": "completed"
    },
    "tags": []
   },
   "source": [
    "## RMSProp"
   ]
  },
  {
   "cell_type": "code",
   "execution_count": 54,
   "id": "894be63f",
   "metadata": {
    "execution": {
     "iopub.execute_input": "2022-12-04T15:24:52.374948Z",
     "iopub.status.busy": "2022-12-04T15:24:52.374205Z",
     "iopub.status.idle": "2022-12-04T15:24:52.379356Z",
     "shell.execute_reply": "2022-12-04T15:24:52.378315Z"
    },
    "papermill": {
     "duration": 1.049342,
     "end_time": "2022-12-04T15:24:52.381940",
     "exception": false,
     "start_time": "2022-12-04T15:24:51.332598",
     "status": "completed"
    },
    "tags": []
   },
   "outputs": [],
   "source": [
    "optimizer = tf.keras.optimizers.RMSprop(learning_rate=0.001, rho=0.9)"
   ]
  },
  {
   "cell_type": "code",
   "execution_count": 55,
   "id": "ec3f9c91",
   "metadata": {
    "execution": {
     "iopub.execute_input": "2022-12-04T15:24:54.499195Z",
     "iopub.status.busy": "2022-12-04T15:24:54.498314Z",
     "iopub.status.idle": "2022-12-04T15:26:01.155519Z",
     "shell.execute_reply": "2022-12-04T15:26:01.154483Z"
    },
    "papermill": {
     "duration": 67.675909,
     "end_time": "2022-12-04T15:26:01.158208",
     "exception": false,
     "start_time": "2022-12-04T15:24:53.482299",
     "status": "completed"
    },
    "tags": []
   },
   "outputs": [
    {
     "name": "stdout",
     "output_type": "stream",
     "text": [
      "Epoch 1/10\n",
      "1719/1719 [==============================] - 8s 4ms/step - loss: 0.5127 - accuracy: 0.8142 - val_loss: 0.4613 - val_accuracy: 0.8210\n",
      "Epoch 2/10\n",
      "1719/1719 [==============================] - 7s 4ms/step - loss: 0.3957 - accuracy: 0.8586 - val_loss: 0.5067 - val_accuracy: 0.8186\n",
      "Epoch 3/10\n",
      "1719/1719 [==============================] - 6s 4ms/step - loss: 0.3744 - accuracy: 0.8669 - val_loss: 0.3776 - val_accuracy: 0.8730\n",
      "Epoch 4/10\n",
      "1719/1719 [==============================] - 6s 3ms/step - loss: 0.3684 - accuracy: 0.8727 - val_loss: 0.3757 - val_accuracy: 0.8788\n",
      "Epoch 5/10\n",
      "1719/1719 [==============================] - 7s 4ms/step - loss: 0.3606 - accuracy: 0.8761 - val_loss: 0.3801 - val_accuracy: 0.8728\n",
      "Epoch 6/10\n",
      "1719/1719 [==============================] - 7s 4ms/step - loss: 0.3603 - accuracy: 0.8765 - val_loss: 0.4719 - val_accuracy: 0.8538\n",
      "Epoch 7/10\n",
      "1719/1719 [==============================] - 6s 4ms/step - loss: 0.3626 - accuracy: 0.8771 - val_loss: 0.4445 - val_accuracy: 0.8700\n",
      "Epoch 8/10\n",
      "1719/1719 [==============================] - 6s 4ms/step - loss: 0.3591 - accuracy: 0.8794 - val_loss: 0.4680 - val_accuracy: 0.8640\n",
      "Epoch 9/10\n",
      "1719/1719 [==============================] - 6s 4ms/step - loss: 0.3579 - accuracy: 0.8807 - val_loss: 0.4560 - val_accuracy: 0.8744\n",
      "Epoch 10/10\n",
      "1719/1719 [==============================] - 7s 4ms/step - loss: 0.3577 - accuracy: 0.8800 - val_loss: 0.4955 - val_accuracy: 0.8708\n"
     ]
    }
   ],
   "source": [
    "history_rmsprop = build_and_train_model(optimizer)  # extra code"
   ]
  },
  {
   "cell_type": "markdown",
   "id": "dac260f9",
   "metadata": {
    "papermill": {
     "duration": 1.151179,
     "end_time": "2022-12-04T15:26:03.403334",
     "exception": false,
     "start_time": "2022-12-04T15:26:02.252155",
     "status": "completed"
    },
    "tags": []
   },
   "source": [
    "## Adam Optimization"
   ]
  },
  {
   "cell_type": "code",
   "execution_count": 56,
   "id": "835f99a3",
   "metadata": {
    "execution": {
     "iopub.execute_input": "2022-12-04T15:26:05.635445Z",
     "iopub.status.busy": "2022-12-04T15:26:05.634711Z",
     "iopub.status.idle": "2022-12-04T15:26:05.640017Z",
     "shell.execute_reply": "2022-12-04T15:26:05.638942Z"
    },
    "papermill": {
     "duration": 1.157753,
     "end_time": "2022-12-04T15:26:05.642470",
     "exception": false,
     "start_time": "2022-12-04T15:26:04.484717",
     "status": "completed"
    },
    "tags": []
   },
   "outputs": [],
   "source": [
    "optimizer = tf.keras.optimizers.Adam(learning_rate=0.001, beta_1=0.9,\n",
    "                                     beta_2=0.999)"
   ]
  },
  {
   "cell_type": "code",
   "execution_count": 57,
   "id": "abecba4e",
   "metadata": {
    "execution": {
     "iopub.execute_input": "2022-12-04T15:26:07.978116Z",
     "iopub.status.busy": "2022-12-04T15:26:07.977708Z",
     "iopub.status.idle": "2022-12-04T15:27:07.429755Z",
     "shell.execute_reply": "2022-12-04T15:27:07.428443Z"
    },
    "papermill": {
     "duration": 60.607041,
     "end_time": "2022-12-04T15:27:07.432395",
     "exception": false,
     "start_time": "2022-12-04T15:26:06.825354",
     "status": "completed"
    },
    "tags": []
   },
   "outputs": [
    {
     "name": "stdout",
     "output_type": "stream",
     "text": [
      "Epoch 1/10\n",
      "1719/1719 [==============================] - 7s 4ms/step - loss: 0.4956 - accuracy: 0.8218 - val_loss: 0.4119 - val_accuracy: 0.8414\n",
      "Epoch 2/10\n",
      "1719/1719 [==============================] - 6s 3ms/step - loss: 0.3737 - accuracy: 0.8633 - val_loss: 0.4105 - val_accuracy: 0.8402\n",
      "Epoch 3/10\n",
      "1719/1719 [==============================] - 6s 4ms/step - loss: 0.3387 - accuracy: 0.8746 - val_loss: 0.3598 - val_accuracy: 0.8694\n",
      "Epoch 4/10\n",
      "1719/1719 [==============================] - 6s 3ms/step - loss: 0.3135 - accuracy: 0.8837 - val_loss: 0.3498 - val_accuracy: 0.8728\n",
      "Epoch 5/10\n",
      "1719/1719 [==============================] - 6s 3ms/step - loss: 0.2960 - accuracy: 0.8890 - val_loss: 0.3387 - val_accuracy: 0.8742\n",
      "Epoch 6/10\n",
      "1719/1719 [==============================] - 6s 3ms/step - loss: 0.2820 - accuracy: 0.8928 - val_loss: 0.3302 - val_accuracy: 0.8792\n",
      "Epoch 7/10\n",
      "1719/1719 [==============================] - 6s 3ms/step - loss: 0.2717 - accuracy: 0.8978 - val_loss: 0.3324 - val_accuracy: 0.8808\n",
      "Epoch 8/10\n",
      "1719/1719 [==============================] - 6s 3ms/step - loss: 0.2584 - accuracy: 0.9017 - val_loss: 0.3228 - val_accuracy: 0.8870\n",
      "Epoch 9/10\n",
      "1719/1719 [==============================] - 6s 3ms/step - loss: 0.2501 - accuracy: 0.9060 - val_loss: 0.3652 - val_accuracy: 0.8726\n",
      "Epoch 10/10\n",
      "1719/1719 [==============================] - 5s 3ms/step - loss: 0.2430 - accuracy: 0.9074 - val_loss: 0.3452 - val_accuracy: 0.8800\n"
     ]
    }
   ],
   "source": [
    "history_adam = build_and_train_model(optimizer)  # extra code"
   ]
  },
  {
   "cell_type": "markdown",
   "id": "f70e0580",
   "metadata": {
    "papermill": {
     "duration": 1.226667,
     "end_time": "2022-12-04T15:27:09.814737",
     "exception": false,
     "start_time": "2022-12-04T15:27:08.588070",
     "status": "completed"
    },
    "tags": []
   },
   "source": [
    "**Adamax Optimization**"
   ]
  },
  {
   "cell_type": "code",
   "execution_count": 58,
   "id": "92935300",
   "metadata": {
    "execution": {
     "iopub.execute_input": "2022-12-04T15:27:12.212673Z",
     "iopub.status.busy": "2022-12-04T15:27:12.212191Z",
     "iopub.status.idle": "2022-12-04T15:27:12.218055Z",
     "shell.execute_reply": "2022-12-04T15:27:12.216666Z"
    },
    "papermill": {
     "duration": 1.184863,
     "end_time": "2022-12-04T15:27:12.220780",
     "exception": false,
     "start_time": "2022-12-04T15:27:11.035917",
     "status": "completed"
    },
    "tags": []
   },
   "outputs": [],
   "source": [
    "optimizer = tf.keras.optimizers.Adamax(learning_rate=0.001, beta_1=0.9,\n",
    "                                       beta_2=0.999)"
   ]
  },
  {
   "cell_type": "code",
   "execution_count": 59,
   "id": "2192fc64",
   "metadata": {
    "execution": {
     "iopub.execute_input": "2022-12-04T15:27:14.673845Z",
     "iopub.status.busy": "2022-12-04T15:27:14.672767Z",
     "iopub.status.idle": "2022-12-04T15:28:05.060419Z",
     "shell.execute_reply": "2022-12-04T15:28:05.059266Z"
    },
    "papermill": {
     "duration": 51.620535,
     "end_time": "2022-12-04T15:28:05.063072",
     "exception": false,
     "start_time": "2022-12-04T15:27:13.442537",
     "status": "completed"
    },
    "tags": []
   },
   "outputs": [
    {
     "name": "stdout",
     "output_type": "stream",
     "text": [
      "Epoch 1/10\n",
      "1719/1719 [==============================] - 5s 3ms/step - loss: 0.5322 - accuracy: 0.8158 - val_loss: 0.4423 - val_accuracy: 0.8314\n",
      "Epoch 2/10\n",
      "1719/1719 [==============================] - 5s 3ms/step - loss: 0.3942 - accuracy: 0.8595 - val_loss: 0.3853 - val_accuracy: 0.8554\n",
      "Epoch 3/10\n",
      "1719/1719 [==============================] - 5s 3ms/step - loss: 0.3558 - accuracy: 0.8715 - val_loss: 0.3738 - val_accuracy: 0.8646\n",
      "Epoch 4/10\n",
      "1719/1719 [==============================] - 5s 3ms/step - loss: 0.3329 - accuracy: 0.8801 - val_loss: 0.3504 - val_accuracy: 0.8714\n",
      "Epoch 5/10\n",
      "1719/1719 [==============================] - 5s 3ms/step - loss: 0.3125 - accuracy: 0.8855 - val_loss: 0.3300 - val_accuracy: 0.8778\n",
      "Epoch 6/10\n",
      "1719/1719 [==============================] - 5s 3ms/step - loss: 0.2985 - accuracy: 0.8908 - val_loss: 0.3364 - val_accuracy: 0.8768\n",
      "Epoch 7/10\n",
      "1719/1719 [==============================] - 5s 3ms/step - loss: 0.2843 - accuracy: 0.8947 - val_loss: 0.3510 - val_accuracy: 0.8730\n",
      "Epoch 8/10\n",
      "1719/1719 [==============================] - 5s 3ms/step - loss: 0.2739 - accuracy: 0.8997 - val_loss: 0.3257 - val_accuracy: 0.8804\n",
      "Epoch 9/10\n",
      "1719/1719 [==============================] - 5s 3ms/step - loss: 0.2638 - accuracy: 0.9033 - val_loss: 0.3479 - val_accuracy: 0.8748\n",
      "Epoch 10/10\n",
      "1719/1719 [==============================] - 5s 3ms/step - loss: 0.2537 - accuracy: 0.9062 - val_loss: 0.3461 - val_accuracy: 0.8794\n"
     ]
    }
   ],
   "source": [
    "history_adamax = build_and_train_model(optimizer)  # extra code"
   ]
  },
  {
   "cell_type": "markdown",
   "id": "375f0ea5",
   "metadata": {
    "papermill": {
     "duration": 1.283017,
     "end_time": "2022-12-04T15:28:07.622129",
     "exception": false,
     "start_time": "2022-12-04T15:28:06.339112",
     "status": "completed"
    },
    "tags": []
   },
   "source": [
    "**Nadam Optimization**"
   ]
  },
  {
   "cell_type": "code",
   "execution_count": 60,
   "id": "a02c78e5",
   "metadata": {
    "execution": {
     "iopub.execute_input": "2022-12-04T15:28:10.103690Z",
     "iopub.status.busy": "2022-12-04T15:28:10.102981Z",
     "iopub.status.idle": "2022-12-04T15:28:10.107686Z",
     "shell.execute_reply": "2022-12-04T15:28:10.106871Z"
    },
    "papermill": {
     "duration": 1.286687,
     "end_time": "2022-12-04T15:28:10.109815",
     "exception": false,
     "start_time": "2022-12-04T15:28:08.823128",
     "status": "completed"
    },
    "tags": []
   },
   "outputs": [],
   "source": [
    "optimizer = tf.keras.optimizers.Nadam(learning_rate=0.001, beta_1=0.9,\n",
    "                                      beta_2=0.999)"
   ]
  },
  {
   "cell_type": "code",
   "execution_count": 61,
   "id": "62b11910",
   "metadata": {
    "execution": {
     "iopub.execute_input": "2022-12-04T15:28:12.586388Z",
     "iopub.status.busy": "2022-12-04T15:28:12.585663Z",
     "iopub.status.idle": "2022-12-04T15:29:31.328689Z",
     "shell.execute_reply": "2022-12-04T15:29:31.327407Z"
    },
    "papermill": {
     "duration": 79.948531,
     "end_time": "2022-12-04T15:29:31.331215",
     "exception": false,
     "start_time": "2022-12-04T15:28:11.382684",
     "status": "completed"
    },
    "tags": []
   },
   "outputs": [
    {
     "name": "stdout",
     "output_type": "stream",
     "text": [
      "Epoch 1/10\n",
      "1719/1719 [==============================] - 8s 4ms/step - loss: 0.4824 - accuracy: 0.8282 - val_loss: 0.3867 - val_accuracy: 0.8542\n",
      "Epoch 2/10\n",
      "1719/1719 [==============================] - 7s 4ms/step - loss: 0.3618 - accuracy: 0.8671 - val_loss: 0.3656 - val_accuracy: 0.8656\n",
      "Epoch 3/10\n",
      "1719/1719 [==============================] - 8s 5ms/step - loss: 0.3273 - accuracy: 0.8772 - val_loss: 0.3569 - val_accuracy: 0.8736\n",
      "Epoch 4/10\n",
      "1719/1719 [==============================] - 8s 5ms/step - loss: 0.3050 - accuracy: 0.8878 - val_loss: 0.3413 - val_accuracy: 0.8746\n",
      "Epoch 5/10\n",
      "1719/1719 [==============================] - 8s 5ms/step - loss: 0.2901 - accuracy: 0.8914 - val_loss: 0.3297 - val_accuracy: 0.8778\n",
      "Epoch 6/10\n",
      "1719/1719 [==============================] - 8s 5ms/step - loss: 0.2736 - accuracy: 0.8979 - val_loss: 0.3512 - val_accuracy: 0.8786\n",
      "Epoch 7/10\n",
      "1719/1719 [==============================] - 8s 5ms/step - loss: 0.2637 - accuracy: 0.9001 - val_loss: 0.3472 - val_accuracy: 0.8754\n",
      "Epoch 8/10\n",
      "1719/1719 [==============================] - 8s 5ms/step - loss: 0.2530 - accuracy: 0.9042 - val_loss: 0.3334 - val_accuracy: 0.8800\n",
      "Epoch 9/10\n",
      "1719/1719 [==============================] - 8s 4ms/step - loss: 0.2438 - accuracy: 0.9079 - val_loss: 0.3447 - val_accuracy: 0.8834\n",
      "Epoch 10/10\n",
      "1719/1719 [==============================] - 7s 4ms/step - loss: 0.2383 - accuracy: 0.9096 - val_loss: 0.3618 - val_accuracy: 0.8780\n"
     ]
    }
   ],
   "source": [
    "history_nadam = build_and_train_model(optimizer)  # extra code"
   ]
  },
  {
   "cell_type": "markdown",
   "id": "862abc07",
   "metadata": {
    "papermill": {
     "duration": 1.373715,
     "end_time": "2022-12-04T15:29:34.067483",
     "exception": false,
     "start_time": "2022-12-04T15:29:32.693768",
     "status": "completed"
    },
    "tags": []
   },
   "source": [
    "**AdamW Optimization**"
   ]
  },
  {
   "cell_type": "markdown",
   "id": "106298a1",
   "metadata": {
    "papermill": {
     "duration": 1.390186,
     "end_time": "2022-12-04T15:29:36.846964",
     "exception": false,
     "start_time": "2022-12-04T15:29:35.456778",
     "status": "completed"
    },
    "tags": []
   },
   "source": [
    "On Colab or Kaggle, we need to install the TensorFlow-Addons library:"
   ]
  },
  {
   "cell_type": "code",
   "execution_count": 62,
   "id": "d878daa0",
   "metadata": {
    "execution": {
     "iopub.execute_input": "2022-12-04T15:29:39.551003Z",
     "iopub.status.busy": "2022-12-04T15:29:39.550603Z",
     "iopub.status.idle": "2022-12-04T15:29:39.555951Z",
     "shell.execute_reply": "2022-12-04T15:29:39.555132Z"
    },
    "papermill": {
     "duration": 1.366499,
     "end_time": "2022-12-04T15:29:39.557905",
     "exception": false,
     "start_time": "2022-12-04T15:29:38.191406",
     "status": "completed"
    },
    "tags": []
   },
   "outputs": [],
   "source": [
    "if \"google.colab\" in sys.modules:\n",
    "    %pip install -q -U tensorflow-addons"
   ]
  },
  {
   "cell_type": "code",
   "execution_count": 63,
   "id": "955d7b11",
   "metadata": {
    "execution": {
     "iopub.execute_input": "2022-12-04T15:29:42.275250Z",
     "iopub.status.busy": "2022-12-04T15:29:42.274260Z",
     "iopub.status.idle": "2022-12-04T15:29:42.445418Z",
     "shell.execute_reply": "2022-12-04T15:29:42.444223Z"
    },
    "papermill": {
     "duration": 1.530996,
     "end_time": "2022-12-04T15:29:42.448676",
     "exception": false,
     "start_time": "2022-12-04T15:29:40.917680",
     "status": "completed"
    },
    "tags": []
   },
   "outputs": [],
   "source": [
    "import tensorflow_addons as tfa\n",
    "\n",
    "optimizer = tfa.optimizers.AdamW(weight_decay=1e-5, learning_rate=0.001,\n",
    "                                 beta_1=0.9, beta_2=0.999)"
   ]
  },
  {
   "cell_type": "code",
   "execution_count": 64,
   "id": "369ec856",
   "metadata": {
    "execution": {
     "iopub.execute_input": "2022-12-04T15:29:45.177187Z",
     "iopub.status.busy": "2022-12-04T15:29:45.176767Z",
     "iopub.status.idle": "2022-12-04T15:30:44.825772Z",
     "shell.execute_reply": "2022-12-04T15:30:44.824610Z"
    },
    "papermill": {
     "duration": 61.02341,
     "end_time": "2022-12-04T15:30:44.828555",
     "exception": false,
     "start_time": "2022-12-04T15:29:43.805145",
     "status": "completed"
    },
    "tags": []
   },
   "outputs": [
    {
     "name": "stdout",
     "output_type": "stream",
     "text": [
      "Epoch 1/10\n",
      "1719/1719 [==============================] - 7s 3ms/step - loss: 0.4949 - accuracy: 0.8222 - val_loss: 0.4225 - val_accuracy: 0.8432\n",
      "Epoch 2/10\n",
      "1719/1719 [==============================] - 6s 3ms/step - loss: 0.3731 - accuracy: 0.8643 - val_loss: 0.4142 - val_accuracy: 0.8376\n",
      "Epoch 3/10\n",
      "1719/1719 [==============================] - 6s 3ms/step - loss: 0.3390 - accuracy: 0.8755 - val_loss: 0.3463 - val_accuracy: 0.8728\n",
      "Epoch 4/10\n",
      "1719/1719 [==============================] - 6s 4ms/step - loss: 0.3154 - accuracy: 0.8837 - val_loss: 0.3402 - val_accuracy: 0.8750\n",
      "Epoch 5/10\n",
      "1719/1719 [==============================] - 6s 3ms/step - loss: 0.2985 - accuracy: 0.8899 - val_loss: 0.3367 - val_accuracy: 0.8744\n",
      "Epoch 6/10\n",
      "1719/1719 [==============================] - 6s 3ms/step - loss: 0.2846 - accuracy: 0.8937 - val_loss: 0.3322 - val_accuracy: 0.8808\n",
      "Epoch 7/10\n",
      "1719/1719 [==============================] - 6s 3ms/step - loss: 0.2739 - accuracy: 0.8977 - val_loss: 0.3423 - val_accuracy: 0.8796\n",
      "Epoch 8/10\n",
      "1719/1719 [==============================] - 6s 3ms/step - loss: 0.2652 - accuracy: 0.8993 - val_loss: 0.3199 - val_accuracy: 0.8848\n",
      "Epoch 9/10\n",
      "1719/1719 [==============================] - 6s 3ms/step - loss: 0.2562 - accuracy: 0.9041 - val_loss: 0.3330 - val_accuracy: 0.8812\n",
      "Epoch 10/10\n",
      "1719/1719 [==============================] - 7s 4ms/step - loss: 0.2477 - accuracy: 0.9063 - val_loss: 0.3642 - val_accuracy: 0.8730\n"
     ]
    }
   ],
   "source": [
    "history_adamw = build_and_train_model(optimizer)  # extra code"
   ]
  },
  {
   "cell_type": "code",
   "execution_count": 65,
   "id": "9034e1b6",
   "metadata": {
    "execution": {
     "iopub.execute_input": "2022-12-04T15:30:47.790395Z",
     "iopub.status.busy": "2022-12-04T15:30:47.789219Z",
     "iopub.status.idle": "2022-12-04T15:30:48.612502Z",
     "shell.execute_reply": "2022-12-04T15:30:48.611312Z"
    },
    "papermill": {
     "duration": 2.297556,
     "end_time": "2022-12-04T15:30:48.615691",
     "exception": false,
     "start_time": "2022-12-04T15:30:46.318135",
     "status": "completed"
    },
    "tags": []
   },
   "outputs": [
    {
     "data": {
      "image/png": "[encoded data removed]",
      "text/plain": [
       "<Figure size 864x576 with 1 Axes>"
      ]
     },
     "metadata": {
      "needs_background": "light"
     },
     "output_type": "display_data"
    },
    {
     "data": {
      "image/png": "[encoded data removed]",
      "text/plain": [
       "<Figure size 864x576 with 1 Axes>"
      ]
     },
     "metadata": {
      "needs_background": "light"
     },
     "output_type": "display_data"
    }
   ],
   "source": [
    "# extra code – visualize the learning curves of all the optimizers\n",
    "\n",
    "for loss in (\"loss\", \"val_loss\"):\n",
    "    plt.figure(figsize=(12, 8))\n",
    "    opt_names = \"SGD Momentum Nesterov AdaGrad RMSProp Adam Adamax Nadam AdamW\"\n",
    "    for history, opt_name in zip((history_sgd, history_momentum, history_nesterov,\n",
    "                                  history_adagrad, history_rmsprop, history_adam,\n",
    "                                  history_adamax, history_nadam, history_adamw),\n",
    "                                 opt_names.split()):\n",
    "        plt.plot(history.history[loss], label=f\"{opt_name}\", linewidth=3)\n",
    "\n",
    "    plt.grid()\n",
    "    plt.xlabel(\"Epochs\")\n",
    "    plt.ylabel({\"loss\": \"Training loss\", \"val_loss\": \"Validation loss\"}[loss])\n",
    "    plt.legend(loc=\"upper left\")\n",
    "    plt.axis([0, 9, 0.1, 0.7])\n",
    "    plt.show()"
   ]
  },
  {
   "cell_type": "markdown",
   "id": "791186de",
   "metadata": {
    "papermill": {
     "duration": 1.371025,
     "end_time": "2022-12-04T15:30:51.441314",
     "exception": false,
     "start_time": "2022-12-04T15:30:50.070289",
     "status": "completed"
    },
    "tags": []
   },
   "source": [
    "## Learning Rate Scheduling"
   ]
  },
  {
   "cell_type": "markdown",
   "id": "1108ac9f",
   "metadata": {
    "papermill": {
     "duration": 1.453651,
     "end_time": "2022-12-04T15:30:54.357330",
     "exception": false,
     "start_time": "2022-12-04T15:30:52.903679",
     "status": "completed"
    },
    "tags": []
   },
   "source": [
    "### Power Scheduling"
   ]
  },
  {
   "cell_type": "markdown",
   "id": "2531b39f",
   "metadata": {
    "papermill": {
     "duration": 1.437148,
     "end_time": "2022-12-04T15:30:57.230111",
     "exception": false,
     "start_time": "2022-12-04T15:30:55.792963",
     "status": "completed"
    },
    "tags": []
   },
   "source": [
    "```lr = lr0 / (1 + steps / s)**c```\n",
    "* Keras uses `c=1` and `s = 1 / decay`"
   ]
  },
  {
   "cell_type": "code",
   "execution_count": 66,
   "id": "e7f07360",
   "metadata": {
    "execution": {
     "iopub.execute_input": "2022-12-04T15:31:00.039516Z",
     "iopub.status.busy": "2022-12-04T15:31:00.039114Z",
     "iopub.status.idle": "2022-12-04T15:31:00.044962Z",
     "shell.execute_reply": "2022-12-04T15:31:00.043680Z"
    },
    "papermill": {
     "duration": 1.446157,
     "end_time": "2022-12-04T15:31:00.047537",
     "exception": false,
     "start_time": "2022-12-04T15:30:58.601380",
     "status": "completed"
    },
    "tags": []
   },
   "outputs": [],
   "source": [
    "optimizer = tf.keras.optimizers.SGD(learning_rate=0.01, decay=1e-4)"
   ]
  },
  {
   "cell_type": "code",
   "execution_count": 67,
   "id": "c5dc6dff",
   "metadata": {
    "execution": {
     "iopub.execute_input": "2022-12-04T15:31:02.952142Z",
     "iopub.status.busy": "2022-12-04T15:31:02.951222Z",
     "iopub.status.idle": "2022-12-04T15:31:51.582280Z",
     "shell.execute_reply": "2022-12-04T15:31:51.581137Z"
    },
    "papermill": {
     "duration": 50.094699,
     "end_time": "2022-12-04T15:31:51.585064",
     "exception": false,
     "start_time": "2022-12-04T15:31:01.490365",
     "status": "completed"
    },
    "tags": []
   },
   "outputs": [
    {
     "name": "stdout",
     "output_type": "stream",
     "text": [
      "Epoch 1/10\n",
      "1719/1719 [==============================] - 5s 3ms/step - loss: 0.6818 - accuracy: 0.7679 - val_loss: 0.4838 - val_accuracy: 0.8282\n",
      "Epoch 2/10\n",
      "1719/1719 [==============================] - 5s 3ms/step - loss: 0.4699 - accuracy: 0.8359 - val_loss: 0.4431 - val_accuracy: 0.8386\n",
      "Epoch 3/10\n",
      "1719/1719 [==============================] - 5s 3ms/step - loss: 0.4243 - accuracy: 0.8490 - val_loss: 0.4117 - val_accuracy: 0.8542\n",
      "Epoch 4/10\n",
      "1719/1719 [==============================] - 5s 3ms/step - loss: 0.4012 - accuracy: 0.8580 - val_loss: 0.3898 - val_accuracy: 0.8572\n",
      "Epoch 5/10\n",
      "1719/1719 [==============================] - 5s 3ms/step - loss: 0.3820 - accuracy: 0.8639 - val_loss: 0.3827 - val_accuracy: 0.8614\n",
      "Epoch 6/10\n",
      "1719/1719 [==============================] - 4s 3ms/step - loss: 0.3683 - accuracy: 0.8686 - val_loss: 0.3824 - val_accuracy: 0.8608\n",
      "Epoch 7/10\n",
      "1719/1719 [==============================] - 5s 3ms/step - loss: 0.3578 - accuracy: 0.8706 - val_loss: 0.3714 - val_accuracy: 0.8662\n",
      "Epoch 8/10\n",
      "1719/1719 [==============================] - 5s 3ms/step - loss: 0.3489 - accuracy: 0.8760 - val_loss: 0.3733 - val_accuracy: 0.8622\n",
      "Epoch 9/10\n",
      "1719/1719 [==============================] - 5s 3ms/step - loss: 0.3411 - accuracy: 0.8789 - val_loss: 0.3535 - val_accuracy: 0.8698\n",
      "Epoch 10/10\n",
      "1719/1719 [==============================] - 5s 3ms/step - loss: 0.3340 - accuracy: 0.8805 - val_loss: 0.3550 - val_accuracy: 0.8702\n"
     ]
    }
   ],
   "source": [
    "history_power_scheduling = build_and_train_model(optimizer)  # extra code"
   ]
  },
  {
   "cell_type": "code",
   "execution_count": 68,
   "id": "c8d7aa79",
   "metadata": {
    "execution": {
     "iopub.execute_input": "2022-12-04T15:31:54.617809Z",
     "iopub.status.busy": "2022-12-04T15:31:54.617411Z",
     "iopub.status.idle": "2022-12-04T15:31:54.799310Z",
     "shell.execute_reply": "2022-12-04T15:31:54.798359Z"
    },
    "papermill": {
     "duration": 1.711522,
     "end_time": "2022-12-04T15:31:54.801911",
     "exception": false,
     "start_time": "2022-12-04T15:31:53.090389",
     "status": "completed"
    },
    "tags": []
   },
   "outputs": [
    {
     "data": {
      "image/png": "[encoded data removed]",
      "text/plain": [
       "<Figure size 432x288 with 1 Axes>"
      ]
     },
     "metadata": {
      "needs_background": "light"
     },
     "output_type": "display_data"
    }
   ],
   "source": [
    "# extra code – this cell plots power scheduling\n",
    "\n",
    "import math\n",
    "\n",
    "learning_rate = 0.01\n",
    "decay = 1e-4\n",
    "batch_size = 32\n",
    "n_steps_per_epoch = math.ceil(len(X_train) / batch_size)\n",
    "n_epochs = 25\n",
    "\n",
    "epochs = np.arange(n_epochs)\n",
    "lrs = learning_rate / (1 + decay * epochs * n_steps_per_epoch)\n",
    "\n",
    "plt.plot(epochs, lrs,  \"o-\")\n",
    "plt.axis([0, n_epochs - 1, 0, 0.01])\n",
    "plt.xlabel(\"Epoch\")\n",
    "plt.ylabel(\"Learning Rate\")\n",
    "plt.title(\"Power Scheduling\", fontsize=14)\n",
    "plt.grid(True)\n",
    "plt.show()"
   ]
  },
  {
   "cell_type": "markdown",
   "id": "cbb3780c",
   "metadata": {
    "papermill": {
     "duration": 1.548903,
     "end_time": "2022-12-04T15:31:57.883394",
     "exception": false,
     "start_time": "2022-12-04T15:31:56.334491",
     "status": "completed"
    },
    "tags": []
   },
   "source": [
    "### Exponential Scheduling"
   ]
  },
  {
   "cell_type": "markdown",
   "id": "5a59ef6e",
   "metadata": {
    "papermill": {
     "duration": 1.529744,
     "end_time": "2022-12-04T15:32:00.967359",
     "exception": false,
     "start_time": "2022-12-04T15:31:59.437615",
     "status": "completed"
    },
    "tags": []
   },
   "source": [
    "```lr = lr0 * 0.1 ** (epoch / s)```"
   ]
  },
  {
   "cell_type": "code",
   "execution_count": 69,
   "id": "f58033b5",
   "metadata": {
    "execution": {
     "iopub.execute_input": "2022-12-04T15:32:03.900844Z",
     "iopub.status.busy": "2022-12-04T15:32:03.900097Z",
     "iopub.status.idle": "2022-12-04T15:32:03.905797Z",
     "shell.execute_reply": "2022-12-04T15:32:03.904916Z"
    },
    "papermill": {
     "duration": 1.42689,
     "end_time": "2022-12-04T15:32:03.908048",
     "exception": false,
     "start_time": "2022-12-04T15:32:02.481158",
     "status": "completed"
    },
    "tags": []
   },
   "outputs": [],
   "source": [
    "def exponential_decay_fn(epoch):\n",
    "    return 0.01 * 0.1 ** (epoch / 20)"
   ]
  },
  {
   "cell_type": "code",
   "execution_count": 70,
   "id": "bac9f37a",
   "metadata": {
    "execution": {
     "iopub.execute_input": "2022-12-04T15:32:06.905558Z",
     "iopub.status.busy": "2022-12-04T15:32:06.904754Z",
     "iopub.status.idle": "2022-12-04T15:32:06.910113Z",
     "shell.execute_reply": "2022-12-04T15:32:06.909293Z"
    },
    "papermill": {
     "duration": 1.501926,
     "end_time": "2022-12-04T15:32:06.912372",
     "exception": false,
     "start_time": "2022-12-04T15:32:05.410446",
     "status": "completed"
    },
    "tags": []
   },
   "outputs": [],
   "source": [
    "def exponential_decay(lr0, s):\n",
    "    def exponential_decay_fn(epoch):\n",
    "        return lr0 * 0.1 ** (epoch / s)\n",
    "    return exponential_decay_fn\n",
    "\n",
    "exponential_decay_fn = exponential_decay(lr0=0.01, s=20)"
   ]
  },
  {
   "cell_type": "code",
   "execution_count": 71,
   "id": "8e22996c",
   "metadata": {
    "execution": {
     "iopub.execute_input": "2022-12-04T15:32:09.930302Z",
     "iopub.status.busy": "2022-12-04T15:32:09.929837Z",
     "iopub.status.idle": "2022-12-04T15:32:09.986159Z",
     "shell.execute_reply": "2022-12-04T15:32:09.985006Z"
    },
    "papermill": {
     "duration": 1.58316,
     "end_time": "2022-12-04T15:32:09.989294",
     "exception": false,
     "start_time": "2022-12-04T15:32:08.406134",
     "status": "completed"
    },
    "tags": []
   },
   "outputs": [],
   "source": [
    "# extra code – build and compile a model for Fashion MNIST\n",
    "\n",
    "tf.random.set_seed(42)\n",
    "model = build_model()\n",
    "optimizer = tf.keras.optimizers.SGD(learning_rate=0.001)\n",
    "model.compile(loss=\"sparse_categorical_crossentropy\", optimizer=optimizer,\n",
    "              metrics=[\"accuracy\"])"
   ]
  },
  {
   "cell_type": "code",
   "execution_count": 72,
   "id": "0702bab8",
   "metadata": {
    "execution": {
     "iopub.execute_input": "2022-12-04T15:32:12.988572Z",
     "iopub.status.busy": "2022-12-04T15:32:12.988168Z",
     "iopub.status.idle": "2022-12-04T15:34:07.673371Z",
     "shell.execute_reply": "2022-12-04T15:34:07.672207Z"
    },
    "papermill": {
     "duration": 116.186872,
     "end_time": "2022-12-04T15:34:07.675806",
     "exception": false,
     "start_time": "2022-12-04T15:32:11.488934",
     "status": "completed"
    },
    "tags": []
   },
   "outputs": [
    {
     "name": "stdout",
     "output_type": "stream",
     "text": [
      "Epoch 1/25\n",
      "1719/1719 [==============================] - 6s 3ms/step - loss: 0.6795 - accuracy: 0.7682 - val_loss: 0.4782 - val_accuracy: 0.8314\n",
      "Epoch 2/25\n",
      "1719/1719 [==============================] - 5s 3ms/step - loss: 0.4656 - accuracy: 0.8376 - val_loss: 0.4407 - val_accuracy: 0.8404\n",
      "Epoch 3/25\n",
      "1719/1719 [==============================] - 5s 3ms/step - loss: 0.4192 - accuracy: 0.8506 - val_loss: 0.4103 - val_accuracy: 0.8534\n",
      "Epoch 4/25\n",
      "1719/1719 [==============================] - 5s 3ms/step - loss: 0.3952 - accuracy: 0.8603 - val_loss: 0.3853 - val_accuracy: 0.8608\n",
      "Epoch 5/25\n",
      "1719/1719 [==============================] - 4s 3ms/step - loss: 0.3754 - accuracy: 0.8663 - val_loss: 0.3759 - val_accuracy: 0.8628\n",
      "Epoch 6/25\n",
      "1719/1719 [==============================] - 4s 3ms/step - loss: 0.3611 - accuracy: 0.8709 - val_loss: 0.3788 - val_accuracy: 0.8646\n",
      "Epoch 7/25\n",
      "1719/1719 [==============================] - 4s 3ms/step - loss: 0.3500 - accuracy: 0.8744 - val_loss: 0.3668 - val_accuracy: 0.8672\n",
      "Epoch 8/25\n",
      "1719/1719 [==============================] - 5s 3ms/step - loss: 0.3408 - accuracy: 0.8788 - val_loss: 0.3684 - val_accuracy: 0.8640\n",
      "Epoch 9/25\n",
      "1719/1719 [==============================] - 4s 3ms/step - loss: 0.3327 - accuracy: 0.8818 - val_loss: 0.3474 - val_accuracy: 0.8710\n",
      "Epoch 10/25\n",
      "1719/1719 [==============================] - 4s 2ms/step - loss: 0.3259 - accuracy: 0.8833 - val_loss: 0.3503 - val_accuracy: 0.8736\n",
      "Epoch 11/25\n",
      "1719/1719 [==============================] - 4s 3ms/step - loss: 0.3202 - accuracy: 0.8850 - val_loss: 0.3487 - val_accuracy: 0.8716\n",
      "Epoch 12/25\n",
      "1719/1719 [==============================] - 5s 3ms/step - loss: 0.3150 - accuracy: 0.8878 - val_loss: 0.3465 - val_accuracy: 0.8758\n",
      "Epoch 13/25\n",
      "1719/1719 [==============================] - 5s 3ms/step - loss: 0.3109 - accuracy: 0.8888 - val_loss: 0.3370 - val_accuracy: 0.8764\n",
      "Epoch 14/25\n",
      "1719/1719 [==============================] - 5s 3ms/step - loss: 0.3071 - accuracy: 0.8904 - val_loss: 0.3418 - val_accuracy: 0.8752\n",
      "Epoch 15/25\n",
      "1719/1719 [==============================] - 5s 3ms/step - loss: 0.3036 - accuracy: 0.8921 - val_loss: 0.3405 - val_accuracy: 0.8786\n",
      "Epoch 16/25\n",
      "1719/1719 [==============================] - 5s 3ms/step - loss: 0.3004 - accuracy: 0.8932 - val_loss: 0.3337 - val_accuracy: 0.8786\n",
      "Epoch 17/25\n",
      "1719/1719 [==============================] - 4s 2ms/step - loss: 0.2981 - accuracy: 0.8935 - val_loss: 0.3350 - val_accuracy: 0.8776\n",
      "Epoch 18/25\n",
      "1719/1719 [==============================] - 4s 2ms/step - loss: 0.2956 - accuracy: 0.8944 - val_loss: 0.3328 - val_accuracy: 0.8766\n",
      "Epoch 19/25\n",
      "1719/1719 [==============================] - 4s 3ms/step - loss: 0.2937 - accuracy: 0.8949 - val_loss: 0.3294 - val_accuracy: 0.8770\n",
      "Epoch 20/25\n",
      "1719/1719 [==============================] - 4s 2ms/step - loss: 0.2918 - accuracy: 0.8960 - val_loss: 0.3299 - val_accuracy: 0.8790\n",
      "Epoch 21/25\n",
      "1719/1719 [==============================] - 4s 2ms/step - loss: 0.2902 - accuracy: 0.8964 - val_loss: 0.3279 - val_accuracy: 0.8800\n",
      "Epoch 22/25\n",
      "1719/1719 [==============================] - 5s 3ms/step - loss: 0.2885 - accuracy: 0.8971 - val_loss: 0.3303 - val_accuracy: 0.8810\n",
      "Epoch 23/25\n",
      "1719/1719 [==============================] - 4s 2ms/step - loss: 0.2873 - accuracy: 0.8977 - val_loss: 0.3291 - val_accuracy: 0.8800\n",
      "Epoch 24/25\n",
      "1719/1719 [==============================] - 5s 3ms/step - loss: 0.2860 - accuracy: 0.8983 - val_loss: 0.3295 - val_accuracy: 0.8788\n",
      "Epoch 25/25\n",
      "1719/1719 [==============================] - 5s 3ms/step - loss: 0.2852 - accuracy: 0.8982 - val_loss: 0.3289 - val_accuracy: 0.8798\n"
     ]
    }
   ],
   "source": [
    "lr_scheduler = tf.keras.callbacks.LearningRateScheduler(exponential_decay_fn)\n",
    "history = model.fit(X_train, y_train, epochs=n_epochs,\n",
    "                    validation_data=(X_valid, y_valid),\n",
    "                    callbacks=[lr_scheduler])"
   ]
  },
  {
   "cell_type": "code",
   "execution_count": 73,
   "id": "bf34efd1",
   "metadata": {
    "execution": {
     "iopub.execute_input": "2022-12-04T15:34:11.019891Z",
     "iopub.status.busy": "2022-12-04T15:34:11.019460Z",
     "iopub.status.idle": "2022-12-04T15:34:11.198542Z",
     "shell.execute_reply": "2022-12-04T15:34:11.197306Z"
    },
    "papermill": {
     "duration": 1.863844,
     "end_time": "2022-12-04T15:34:11.201657",
     "exception": false,
     "start_time": "2022-12-04T15:34:09.337813",
     "status": "completed"
    },
    "tags": []
   },
   "outputs": [
    {
     "data": {
      "image/png": "[encoded data removed]",
      "text/plain": [
       "<Figure size 432x288 with 1 Axes>"
      ]
     },
     "metadata": {
      "needs_background": "light"
     },
     "output_type": "display_data"
    }
   ],
   "source": [
    "# extra code – this cell plots exponential scheduling\n",
    "\n",
    "plt.plot(history.epoch, history.history[\"lr\"], \"o-\")\n",
    "plt.axis([0, n_epochs - 1, 0, 0.011])\n",
    "plt.xlabel(\"Epoch\")\n",
    "plt.ylabel(\"Learning Rate\")\n",
    "plt.title(\"Exponential Scheduling\", fontsize=14)\n",
    "plt.grid(True)\n",
    "plt.show()"
   ]
  },
  {
   "cell_type": "markdown",
   "id": "9058ab24",
   "metadata": {
    "papermill": {
     "duration": 1.575775,
     "end_time": "2022-12-04T15:34:14.435495",
     "exception": false,
     "start_time": "2022-12-04T15:34:12.859720",
     "status": "completed"
    },
    "tags": []
   },
   "source": [
    "The schedule function can take the current learning rate as a second argument:"
   ]
  },
  {
   "cell_type": "code",
   "execution_count": 74,
   "id": "0127c536",
   "metadata": {
    "execution": {
     "iopub.execute_input": "2022-12-04T15:34:17.718908Z",
     "iopub.status.busy": "2022-12-04T15:34:17.717997Z",
     "iopub.status.idle": "2022-12-04T15:34:17.723981Z",
     "shell.execute_reply": "2022-12-04T15:34:17.722942Z"
    },
    "papermill": {
     "duration": 1.655124,
     "end_time": "2022-12-04T15:34:17.726633",
     "exception": false,
     "start_time": "2022-12-04T15:34:16.071509",
     "status": "completed"
    },
    "tags": []
   },
   "outputs": [],
   "source": [
    "def exponential_decay_fn(epoch, lr):\n",
    "    return lr * 0.1 ** (1 / 20)"
   ]
  },
  {
   "cell_type": "markdown",
   "id": "6a972919",
   "metadata": {
    "papermill": {
     "duration": 1.583176,
     "end_time": "2022-12-04T15:34:21.018755",
     "exception": false,
     "start_time": "2022-12-04T15:34:19.435579",
     "status": "completed"
    },
    "tags": []
   },
   "source": [
    "**Extra material**: if you want to update the learning rate at each iteration rather than at each epoch, you can write your own callback class:"
   ]
  },
  {
   "cell_type": "code",
   "execution_count": 75,
   "id": "088e3957",
   "metadata": {
    "execution": {
     "iopub.execute_input": "2022-12-04T15:34:24.342172Z",
     "iopub.status.busy": "2022-12-04T15:34:24.341756Z",
     "iopub.status.idle": "2022-12-04T15:34:24.349927Z",
     "shell.execute_reply": "2022-12-04T15:34:24.348836Z"
    },
    "papermill": {
     "duration": 1.653277,
     "end_time": "2022-12-04T15:34:24.352071",
     "exception": false,
     "start_time": "2022-12-04T15:34:22.698794",
     "status": "completed"
    },
    "tags": []
   },
   "outputs": [],
   "source": [
    "K = tf.keras.backend\n",
    "\n",
    "class ExponentialDecay(tf.keras.callbacks.Callback):\n",
    "    def __init__(self, n_steps=40_000):\n",
    "        super().__init__()\n",
    "        self.n_steps = n_steps\n",
    "\n",
    "    def on_batch_begin(self, batch, logs=None):\n",
    "        # Note: the `batch` argument is reset at each epoch\n",
    "        lr = K.get_value(self.model.optimizer.learning_rate)\n",
    "        new_learning_rate = lr * 0.1 ** (1 / self.n_steps)\n",
    "        K.set_value(self.model.optimizer.learning_rate, new_learning_rate)\n",
    "\n",
    "    def on_epoch_end(self, epoch, logs=None):\n",
    "        logs = logs or {}\n",
    "        logs['lr'] = K.get_value(self.model.optimizer.learning_rate)"
   ]
  },
  {
   "cell_type": "code",
   "execution_count": 76,
   "id": "f0615c80",
   "metadata": {
    "execution": {
     "iopub.execute_input": "2022-12-04T15:34:27.608454Z",
     "iopub.status.busy": "2022-12-04T15:34:27.607733Z",
     "iopub.status.idle": "2022-12-04T15:34:27.664620Z",
     "shell.execute_reply": "2022-12-04T15:34:27.663458Z"
    },
    "papermill": {
     "duration": 1.685192,
     "end_time": "2022-12-04T15:34:27.667485",
     "exception": false,
     "start_time": "2022-12-04T15:34:25.982293",
     "status": "completed"
    },
    "tags": []
   },
   "outputs": [],
   "source": [
    "lr0 = 0.01\n",
    "model = build_model()\n",
    "optimizer = tf.keras.optimizers.SGD(learning_rate=lr0)\n",
    "model.compile(loss=\"sparse_categorical_crossentropy\", optimizer=optimizer,\n",
    "              metrics=[\"accuracy\"])"
   ]
  },
  {
   "cell_type": "code",
   "execution_count": 77,
   "id": "4bd76209",
   "metadata": {
    "execution": {
     "iopub.execute_input": "2022-12-04T15:34:30.936867Z",
     "iopub.status.busy": "2022-12-04T15:34:30.935914Z",
     "iopub.status.idle": "2022-12-04T15:36:51.372338Z",
     "shell.execute_reply": "2022-12-04T15:36:51.371256Z"
    },
    "papermill": {
     "duration": 142.00327,
     "end_time": "2022-12-04T15:36:51.375237",
     "exception": false,
     "start_time": "2022-12-04T15:34:29.371967",
     "status": "completed"
    },
    "tags": []
   },
   "outputs": [
    {
     "name": "stdout",
     "output_type": "stream",
     "text": [
      "Epoch 1/25\n",
      "1719/1719 [==============================] - 6s 3ms/step - loss: 0.6804 - accuracy: 0.7679 - val_loss: 0.4808 - val_accuracy: 0.8284\n",
      "Epoch 2/25\n",
      "1719/1719 [==============================] - 5s 3ms/step - loss: 0.4686 - accuracy: 0.8361 - val_loss: 0.4414 - val_accuracy: 0.8408\n",
      "Epoch 3/25\n",
      "1719/1719 [==============================] - 5s 3ms/step - loss: 0.4219 - accuracy: 0.8486 - val_loss: 0.4128 - val_accuracy: 0.8536\n",
      "Epoch 4/25\n",
      "1719/1719 [==============================] - 5s 3ms/step - loss: 0.3973 - accuracy: 0.8592 - val_loss: 0.3857 - val_accuracy: 0.8582\n",
      "Epoch 5/25\n",
      "1719/1719 [==============================] - 5s 3ms/step - loss: 0.3771 - accuracy: 0.8656 - val_loss: 0.3787 - val_accuracy: 0.8630\n",
      "Epoch 6/25\n",
      "1719/1719 [==============================] - 6s 3ms/step - loss: 0.3628 - accuracy: 0.8714 - val_loss: 0.3804 - val_accuracy: 0.8604\n",
      "Epoch 7/25\n",
      "1719/1719 [==============================] - 6s 3ms/step - loss: 0.3512 - accuracy: 0.8737 - val_loss: 0.3658 - val_accuracy: 0.8660\n",
      "Epoch 8/25\n",
      "1719/1719 [==============================] - 6s 3ms/step - loss: 0.3415 - accuracy: 0.8776 - val_loss: 0.3708 - val_accuracy: 0.8624\n",
      "Epoch 9/25\n",
      "1719/1719 [==============================] - 6s 3ms/step - loss: 0.3333 - accuracy: 0.8810 - val_loss: 0.3467 - val_accuracy: 0.8704\n",
      "Epoch 10/25\n",
      "1719/1719 [==============================] - 5s 3ms/step - loss: 0.3260 - accuracy: 0.8828 - val_loss: 0.3467 - val_accuracy: 0.8712\n",
      "Epoch 11/25\n",
      "1719/1719 [==============================] - 6s 4ms/step - loss: 0.3198 - accuracy: 0.8851 - val_loss: 0.3503 - val_accuracy: 0.8710\n",
      "Epoch 12/25\n",
      "1719/1719 [==============================] - 5s 3ms/step - loss: 0.3140 - accuracy: 0.8875 - val_loss: 0.3471 - val_accuracy: 0.8752\n",
      "Epoch 13/25\n",
      "1719/1719 [==============================] - 5s 3ms/step - loss: 0.3094 - accuracy: 0.8894 - val_loss: 0.3347 - val_accuracy: 0.8752\n",
      "Epoch 14/25\n",
      "1719/1719 [==============================] - 5s 3ms/step - loss: 0.3051 - accuracy: 0.8902 - val_loss: 0.3409 - val_accuracy: 0.8762\n",
      "Epoch 15/25\n",
      "1719/1719 [==============================] - 5s 3ms/step - loss: 0.3011 - accuracy: 0.8919 - val_loss: 0.3402 - val_accuracy: 0.8804\n",
      "Epoch 16/25\n",
      "1719/1719 [==============================] - 5s 3ms/step - loss: 0.2970 - accuracy: 0.8939 - val_loss: 0.3322 - val_accuracy: 0.8798\n",
      "Epoch 17/25\n",
      "1719/1719 [==============================] - 6s 3ms/step - loss: 0.2943 - accuracy: 0.8942 - val_loss: 0.3343 - val_accuracy: 0.8768\n",
      "Epoch 18/25\n",
      "1719/1719 [==============================] - 6s 4ms/step - loss: 0.2914 - accuracy: 0.8960 - val_loss: 0.3294 - val_accuracy: 0.8754\n",
      "Epoch 19/25\n",
      "1719/1719 [==============================] - 6s 3ms/step - loss: 0.2891 - accuracy: 0.8960 - val_loss: 0.3262 - val_accuracy: 0.8768\n",
      "Epoch 20/25\n",
      "1719/1719 [==============================] - 5s 3ms/step - loss: 0.2866 - accuracy: 0.8975 - val_loss: 0.3255 - val_accuracy: 0.8792\n",
      "Epoch 21/25\n",
      "1719/1719 [==============================] - 5s 3ms/step - loss: 0.2846 - accuracy: 0.8978 - val_loss: 0.3230 - val_accuracy: 0.8790\n",
      "Epoch 22/25\n",
      "1719/1719 [==============================] - 6s 4ms/step - loss: 0.2823 - accuracy: 0.8989 - val_loss: 0.3260 - val_accuracy: 0.8822\n",
      "Epoch 23/25\n",
      "1719/1719 [==============================] - 6s 4ms/step - loss: 0.2807 - accuracy: 0.8996 - val_loss: 0.3252 - val_accuracy: 0.8804\n",
      "Epoch 24/25\n",
      "1719/1719 [==============================] - 6s 4ms/step - loss: 0.2790 - accuracy: 0.9005 - val_loss: 0.3259 - val_accuracy: 0.8788\n",
      "Epoch 25/25\n",
      "1719/1719 [==============================] - 6s 4ms/step - loss: 0.2777 - accuracy: 0.9007 - val_loss: 0.3247 - val_accuracy: 0.8824\n"
     ]
    }
   ],
   "source": [
    "n_epochs = 25\n",
    "batch_size = 32\n",
    "n_steps = n_epochs * math.ceil(len(X_train) / batch_size)\n",
    "exp_decay = ExponentialDecay(n_steps)\n",
    "history = model.fit(X_train, y_train, epochs=n_epochs,\n",
    "                    validation_data=(X_valid, y_valid),\n",
    "                    callbacks=[exp_decay])"
   ]
  },
  {
   "cell_type": "code",
   "execution_count": 78,
   "id": "5e5f8901",
   "metadata": {
    "execution": {
     "iopub.execute_input": "2022-12-04T15:36:55.174346Z",
     "iopub.status.busy": "2022-12-04T15:36:55.173908Z",
     "iopub.status.idle": "2022-12-04T15:36:55.388151Z",
     "shell.execute_reply": "2022-12-04T15:36:55.386897Z"
    },
    "papermill": {
     "duration": 2.178464,
     "end_time": "2022-12-04T15:36:55.390905",
     "exception": false,
     "start_time": "2022-12-04T15:36:53.212441",
     "status": "completed"
    },
    "scrolled": true,
    "tags": []
   },
   "outputs": [
    {
     "data": {
      "image/png": "[encoded data removed]",
      "text/plain": [
       "<Figure size 432x288 with 1 Axes>"
      ]
     },
     "metadata": {
      "needs_background": "light"
     },
     "output_type": "display_data"
    }
   ],
   "source": [
    "n_steps = n_epochs * math.ceil(len(X_train) / batch_size)\n",
    "steps = np.arange(n_steps)\n",
    "decay_rate = 0.1\n",
    "lrs = lr0 * decay_rate ** (steps / n_steps)\n",
    "\n",
    "plt.plot(steps, lrs, \"-\", linewidth=2)\n",
    "plt.axis([0, n_steps - 1, 0, lr0 * 1.1])\n",
    "plt.xlabel(\"Batch\")\n",
    "plt.ylabel(\"Learning Rate\")\n",
    "plt.title(\"Exponential Scheduling (per batch)\", fontsize=14)\n",
    "plt.grid(True)\n",
    "plt.show()"
   ]
  },
  {
   "cell_type": "markdown",
   "id": "e194b5b2",
   "metadata": {
    "papermill": {
     "duration": 1.859244,
     "end_time": "2022-12-04T15:36:59.096733",
     "exception": false,
     "start_time": "2022-12-04T15:36:57.237489",
     "status": "completed"
    },
    "tags": []
   },
   "source": [
    "### Piecewise Constant Scheduling"
   ]
  },
  {
   "cell_type": "code",
   "execution_count": 79,
   "id": "d66a0cd9",
   "metadata": {
    "execution": {
     "iopub.execute_input": "2022-12-04T15:37:02.771263Z",
     "iopub.status.busy": "2022-12-04T15:37:02.770426Z",
     "iopub.status.idle": "2022-12-04T15:37:02.776509Z",
     "shell.execute_reply": "2022-12-04T15:37:02.775392Z"
    },
    "papermill": {
     "duration": 1.923249,
     "end_time": "2022-12-04T15:37:02.779258",
     "exception": false,
     "start_time": "2022-12-04T15:37:00.856009",
     "status": "completed"
    },
    "tags": []
   },
   "outputs": [],
   "source": [
    "def piecewise_constant_fn(epoch):\n",
    "    if epoch < 5:\n",
    "        return 0.01\n",
    "    elif epoch < 15:\n",
    "        return 0.005\n",
    "    else:\n",
    "        return 0.001"
   ]
  },
  {
   "cell_type": "code",
   "execution_count": 80,
   "id": "70999218",
   "metadata": {
    "execution": {
     "iopub.execute_input": "2022-12-04T15:37:06.586840Z",
     "iopub.status.busy": "2022-12-04T15:37:06.585802Z",
     "iopub.status.idle": "2022-12-04T15:37:06.592825Z",
     "shell.execute_reply": "2022-12-04T15:37:06.591646Z"
    },
    "papermill": {
     "duration": 1.897635,
     "end_time": "2022-12-04T15:37:06.595261",
     "exception": false,
     "start_time": "2022-12-04T15:37:04.697626",
     "status": "completed"
    },
    "tags": []
   },
   "outputs": [],
   "source": [
    "# extra code – this cell demonstrates a more general way to define\n",
    "#              piecewise constant scheduling.\n",
    "\n",
    "def piecewise_constant(boundaries, values):\n",
    "    boundaries = np.array([0] + boundaries)\n",
    "    values = np.array(values)\n",
    "    def piecewise_constant_fn(epoch):\n",
    "        return values[(boundaries > epoch).argmax() - 1]\n",
    "    return piecewise_constant_fn\n",
    "\n",
    "piecewise_constant_fn = piecewise_constant([5, 15], [0.01, 0.005, 0.001])"
   ]
  },
  {
   "cell_type": "code",
   "execution_count": 81,
   "id": "f65612d8",
   "metadata": {
    "execution": {
     "iopub.execute_input": "2022-12-04T15:37:10.302451Z",
     "iopub.status.busy": "2022-12-04T15:37:10.301703Z",
     "iopub.status.idle": "2022-12-04T15:40:32.677507Z",
     "shell.execute_reply": "2022-12-04T15:40:32.675877Z"
    },
    "papermill": {
     "duration": 204.31382,
     "end_time": "2022-12-04T15:40:32.680531",
     "exception": false,
     "start_time": "2022-12-04T15:37:08.366711",
     "status": "completed"
    },
    "tags": []
   },
   "outputs": [
    {
     "name": "stdout",
     "output_type": "stream",
     "text": [
      "Epoch 1/25\n",
      "1719/1719 [==============================] - 9s 5ms/step - loss: 0.5624 - accuracy: 0.8011 - val_loss: 0.4980 - val_accuracy: 0.8072\n",
      "Epoch 2/25\n",
      "1719/1719 [==============================] - 8s 5ms/step - loss: 0.4424 - accuracy: 0.8421 - val_loss: 0.4530 - val_accuracy: 0.8392\n",
      "Epoch 3/25\n",
      "1719/1719 [==============================] - 9s 5ms/step - loss: 0.4194 - accuracy: 0.8508 - val_loss: 0.4390 - val_accuracy: 0.8446\n",
      "Epoch 4/25\n",
      "1719/1719 [==============================] - 8s 5ms/step - loss: 0.4122 - accuracy: 0.8537 - val_loss: 0.4886 - val_accuracy: 0.8420\n",
      "Epoch 5/25\n",
      "1719/1719 [==============================] - 8s 5ms/step - loss: 0.3995 - accuracy: 0.8591 - val_loss: 0.4383 - val_accuracy: 0.8454\n",
      "Epoch 6/25\n",
      "1719/1719 [==============================] - 8s 5ms/step - loss: 0.3535 - accuracy: 0.8723 - val_loss: 0.3893 - val_accuracy: 0.8614\n",
      "Epoch 7/25\n",
      "1719/1719 [==============================] - 9s 5ms/step - loss: 0.3436 - accuracy: 0.8754 - val_loss: 0.3901 - val_accuracy: 0.8666\n",
      "Epoch 8/25\n",
      "1719/1719 [==============================] - 8s 5ms/step - loss: 0.3359 - accuracy: 0.8777 - val_loss: 0.3961 - val_accuracy: 0.8624\n",
      "Epoch 9/25\n",
      "1719/1719 [==============================] - 8s 5ms/step - loss: 0.3347 - accuracy: 0.8794 - val_loss: 0.3870 - val_accuracy: 0.8684\n",
      "Epoch 10/25\n",
      "1719/1719 [==============================] - 8s 5ms/step - loss: 0.3284 - accuracy: 0.8825 - val_loss: 0.4053 - val_accuracy: 0.8636\n",
      "Epoch 11/25\n",
      "1719/1719 [==============================] - 8s 5ms/step - loss: 0.3245 - accuracy: 0.8838 - val_loss: 0.3846 - val_accuracy: 0.8694\n",
      "Epoch 12/25\n",
      "1719/1719 [==============================] - 8s 5ms/step - loss: 0.3203 - accuracy: 0.8837 - val_loss: 0.4084 - val_accuracy: 0.8652\n",
      "Epoch 13/25\n",
      "1719/1719 [==============================] - 8s 4ms/step - loss: 0.3228 - accuracy: 0.8845 - val_loss: 0.4065 - val_accuracy: 0.8740\n",
      "Epoch 14/25\n",
      "1719/1719 [==============================] - 8s 5ms/step - loss: 0.3171 - accuracy: 0.8849 - val_loss: 0.3870 - val_accuracy: 0.8698\n",
      "Epoch 15/25\n",
      "1719/1719 [==============================] - 8s 5ms/step - loss: 0.3146 - accuracy: 0.8872 - val_loss: 0.4109 - val_accuracy: 0.8656\n",
      "Epoch 16/25\n",
      "1719/1719 [==============================] - 8s 5ms/step - loss: 0.2756 - accuracy: 0.8984 - val_loss: 0.3894 - val_accuracy: 0.8750\n",
      "Epoch 17/25\n",
      "1719/1719 [==============================] - 8s 4ms/step - loss: 0.2697 - accuracy: 0.8995 - val_loss: 0.4031 - val_accuracy: 0.8724\n",
      "Epoch 18/25\n",
      "1719/1719 [==============================] - 8s 4ms/step - loss: 0.2658 - accuracy: 0.9011 - val_loss: 0.4053 - val_accuracy: 0.8736\n",
      "Epoch 19/25\n",
      "1719/1719 [==============================] - 9s 5ms/step - loss: 0.2633 - accuracy: 0.9027 - val_loss: 0.4051 - val_accuracy: 0.8776\n",
      "Epoch 20/25\n",
      "1719/1719 [==============================] - 8s 4ms/step - loss: 0.2608 - accuracy: 0.9026 - val_loss: 0.4357 - val_accuracy: 0.8738\n",
      "Epoch 21/25\n",
      "1719/1719 [==============================] - 7s 4ms/step - loss: 0.2586 - accuracy: 0.9034 - val_loss: 0.4208 - val_accuracy: 0.8764\n",
      "Epoch 22/25\n",
      "1719/1719 [==============================] - 7s 4ms/step - loss: 0.2559 - accuracy: 0.9041 - val_loss: 0.4774 - val_accuracy: 0.8758\n",
      "Epoch 23/25\n",
      "1719/1719 [==============================] - 8s 5ms/step - loss: 0.2539 - accuracy: 0.9046 - val_loss: 0.4580 - val_accuracy: 0.8762\n",
      "Epoch 24/25\n",
      "1719/1719 [==============================] - 8s 4ms/step - loss: 0.2521 - accuracy: 0.9054 - val_loss: 0.4644 - val_accuracy: 0.8740\n",
      "Epoch 25/25\n",
      "1719/1719 [==============================] - 7s 4ms/step - loss: 0.2504 - accuracy: 0.9045 - val_loss: 0.4769 - val_accuracy: 0.8688\n"
     ]
    }
   ],
   "source": [
    "# extra code – use a tf.keras.callbacks.LearningRateScheduler like earlier\n",
    "\n",
    "n_epochs = 25\n",
    "\n",
    "lr_scheduler = tf.keras.callbacks.LearningRateScheduler(piecewise_constant_fn)\n",
    "\n",
    "model = build_model()\n",
    "optimizer = tf.keras.optimizers.Nadam(learning_rate=lr0)\n",
    "model.compile(loss=\"sparse_categorical_crossentropy\", optimizer=optimizer,\n",
    "              metrics=[\"accuracy\"])\n",
    "history = model.fit(X_train, y_train, epochs=n_epochs,\n",
    "                    validation_data=(X_valid, y_valid),\n",
    "                    callbacks=[lr_scheduler])"
   ]
  },
  {
   "cell_type": "code",
   "execution_count": 82,
   "id": "55de695c",
   "metadata": {
    "execution": {
     "iopub.execute_input": "2022-12-04T15:40:36.893668Z",
     "iopub.status.busy": "2022-12-04T15:40:36.893261Z",
     "iopub.status.idle": "2022-12-04T15:40:37.086403Z",
     "shell.execute_reply": "2022-12-04T15:40:37.084868Z"
    },
    "papermill": {
     "duration": 2.312641,
     "end_time": "2022-12-04T15:40:37.089123",
     "exception": false,
     "start_time": "2022-12-04T15:40:34.776482",
     "status": "completed"
    },
    "tags": []
   },
   "outputs": [
    {
     "data": {
      "image/png": "[encoded data removed]",
      "text/plain": [
       "<Figure size 432x288 with 1 Axes>"
      ]
     },
     "metadata": {
      "needs_background": "light"
     },
     "output_type": "display_data"
    }
   ],
   "source": [
    "# extra code – this cell plots piecewise constant scheduling\n",
    "\n",
    "plt.plot(history.epoch, history.history[\"lr\"], \"o-\")\n",
    "plt.axis([0, n_epochs - 1, 0, 0.011])\n",
    "plt.xlabel(\"Epoch\")\n",
    "plt.ylabel(\"Learning Rate\")\n",
    "plt.title(\"Piecewise Constant Scheduling\", fontsize=14)\n",
    "plt.grid(True)\n",
    "plt.show()"
   ]
  },
  {
   "cell_type": "markdown",
   "id": "9e3e377d",
   "metadata": {
    "papermill": {
     "duration": 2.125015,
     "end_time": "2022-12-04T15:40:41.325702",
     "exception": false,
     "start_time": "2022-12-04T15:40:39.200687",
     "status": "completed"
    },
    "tags": []
   },
   "source": [
    "### Performance Scheduling"
   ]
  },
  {
   "cell_type": "code",
   "execution_count": 83,
   "id": "477c817c",
   "metadata": {
    "execution": {
     "iopub.execute_input": "2022-12-04T15:40:45.611936Z",
     "iopub.status.busy": "2022-12-04T15:40:45.611198Z",
     "iopub.status.idle": "2022-12-04T15:40:45.674959Z",
     "shell.execute_reply": "2022-12-04T15:40:45.673761Z"
    },
    "papermill": {
     "duration": 2.236037,
     "end_time": "2022-12-04T15:40:45.677501",
     "exception": false,
     "start_time": "2022-12-04T15:40:43.441464",
     "status": "completed"
    },
    "tags": []
   },
   "outputs": [],
   "source": [
    "# extra code – build and compile the model\n",
    "\n",
    "model = build_model()\n",
    "optimizer = tf.keras.optimizers.SGD(learning_rate=lr0)\n",
    "model.compile(loss=\"sparse_categorical_crossentropy\", optimizer=optimizer,\n",
    "              metrics=[\"accuracy\"])"
   ]
  },
  {
   "cell_type": "code",
   "execution_count": 84,
   "id": "0193b815",
   "metadata": {
    "execution": {
     "iopub.execute_input": "2022-12-04T15:40:49.942002Z",
     "iopub.status.busy": "2022-12-04T15:40:49.941182Z",
     "iopub.status.idle": "2022-12-04T15:43:04.529868Z",
     "shell.execute_reply": "2022-12-04T15:43:04.528821Z"
    },
    "papermill": {
     "duration": 136.681587,
     "end_time": "2022-12-04T15:43:04.532687",
     "exception": false,
     "start_time": "2022-12-04T15:40:47.851100",
     "status": "completed"
    },
    "tags": []
   },
   "outputs": [
    {
     "name": "stdout",
     "output_type": "stream",
     "text": [
      "Epoch 1/25\n",
      "1719/1719 [==============================] - 6s 3ms/step - loss: 0.6795 - accuracy: 0.7682 - val_loss: 0.4782 - val_accuracy: 0.8314\n",
      "Epoch 2/25\n",
      "1719/1719 [==============================] - 5s 3ms/step - loss: 0.4670 - accuracy: 0.8368 - val_loss: 0.4436 - val_accuracy: 0.8394\n",
      "Epoch 3/25\n",
      "1719/1719 [==============================] - 5s 3ms/step - loss: 0.4191 - accuracy: 0.8503 - val_loss: 0.4137 - val_accuracy: 0.8526\n",
      "Epoch 4/25\n",
      "1719/1719 [==============================] - 5s 3ms/step - loss: 0.3932 - accuracy: 0.8601 - val_loss: 0.3806 - val_accuracy: 0.8606\n",
      "Epoch 5/25\n",
      "1719/1719 [==============================] - 6s 3ms/step - loss: 0.3710 - accuracy: 0.8673 - val_loss: 0.3674 - val_accuracy: 0.8660\n",
      "Epoch 6/25\n",
      "1719/1719 [==============================] - 5s 3ms/step - loss: 0.3543 - accuracy: 0.8729 - val_loss: 0.3741 - val_accuracy: 0.8674\n",
      "Epoch 7/25\n",
      "1719/1719 [==============================] - 5s 3ms/step - loss: 0.3416 - accuracy: 0.8757 - val_loss: 0.3574 - val_accuracy: 0.8692\n",
      "Epoch 8/25\n",
      "1719/1719 [==============================] - 5s 3ms/step - loss: 0.3299 - accuracy: 0.8809 - val_loss: 0.3612 - val_accuracy: 0.8674\n",
      "Epoch 9/25\n",
      "1719/1719 [==============================] - 5s 3ms/step - loss: 0.3205 - accuracy: 0.8845 - val_loss: 0.3341 - val_accuracy: 0.8770\n",
      "Epoch 10/25\n",
      "1719/1719 [==============================] - 5s 3ms/step - loss: 0.3107 - accuracy: 0.8868 - val_loss: 0.3431 - val_accuracy: 0.8754\n",
      "Epoch 11/25\n",
      "1719/1719 [==============================] - 6s 3ms/step - loss: 0.3033 - accuracy: 0.8901 - val_loss: 0.3633 - val_accuracy: 0.8668\n",
      "Epoch 12/25\n",
      "1719/1719 [==============================] - 5s 3ms/step - loss: 0.2953 - accuracy: 0.8930 - val_loss: 0.3331 - val_accuracy: 0.8806\n",
      "Epoch 13/25\n",
      "1719/1719 [==============================] - 5s 3ms/step - loss: 0.2893 - accuracy: 0.8951 - val_loss: 0.3162 - val_accuracy: 0.8836\n",
      "Epoch 14/25\n",
      "1719/1719 [==============================] - 5s 3ms/step - loss: 0.2829 - accuracy: 0.8963 - val_loss: 0.3465 - val_accuracy: 0.8762\n",
      "Epoch 15/25\n",
      "1719/1719 [==============================] - 5s 3ms/step - loss: 0.2763 - accuracy: 0.8995 - val_loss: 0.3433 - val_accuracy: 0.8814\n",
      "Epoch 16/25\n",
      "1719/1719 [==============================] - 5s 3ms/step - loss: 0.2704 - accuracy: 0.9020 - val_loss: 0.3306 - val_accuracy: 0.8812\n",
      "Epoch 17/25\n",
      "1719/1719 [==============================] - 6s 3ms/step - loss: 0.2657 - accuracy: 0.9019 - val_loss: 0.3323 - val_accuracy: 0.8796\n",
      "Epoch 18/25\n",
      "1719/1719 [==============================] - 5s 3ms/step - loss: 0.2614 - accuracy: 0.9040 - val_loss: 0.3219 - val_accuracy: 0.8860\n",
      "Epoch 19/25\n",
      "1719/1719 [==============================] - 5s 3ms/step - loss: 0.2423 - accuracy: 0.9115 - val_loss: 0.3152 - val_accuracy: 0.8820\n",
      "Epoch 20/25\n",
      "1719/1719 [==============================] - 5s 3ms/step - loss: 0.2391 - accuracy: 0.9137 - val_loss: 0.3156 - val_accuracy: 0.8840\n",
      "Epoch 21/25\n",
      "1719/1719 [==============================] - 5s 3ms/step - loss: 0.2364 - accuracy: 0.9145 - val_loss: 0.3064 - val_accuracy: 0.8866\n",
      "Epoch 22/25\n",
      "1719/1719 [==============================] - 5s 3ms/step - loss: 0.2334 - accuracy: 0.9149 - val_loss: 0.3149 - val_accuracy: 0.8868\n",
      "Epoch 23/25\n",
      "1719/1719 [==============================] - 6s 3ms/step - loss: 0.2313 - accuracy: 0.9154 - val_loss: 0.3234 - val_accuracy: 0.8820\n",
      "Epoch 24/25\n",
      "1719/1719 [==============================] - 6s 3ms/step - loss: 0.2282 - accuracy: 0.9180 - val_loss: 0.3130 - val_accuracy: 0.8824\n",
      "Epoch 25/25\n",
      "1719/1719 [==============================] - 6s 3ms/step - loss: 0.2259 - accuracy: 0.9183 - val_loss: 0.3144 - val_accuracy: 0.8852\n"
     ]
    }
   ],
   "source": [
    "lr_scheduler = tf.keras.callbacks.ReduceLROnPlateau(factor=0.5, patience=5)\n",
    "history = model.fit(X_train, y_train, epochs=n_epochs,\n",
    "                    validation_data=(X_valid, y_valid),\n",
    "                    callbacks=[lr_scheduler])"
   ]
  },
  {
   "cell_type": "code",
   "execution_count": 85,
   "id": "7fabba09",
   "metadata": {
    "execution": {
     "iopub.execute_input": "2022-12-04T15:43:09.082949Z",
     "iopub.status.busy": "2022-12-04T15:43:09.082143Z",
     "iopub.status.idle": "2022-12-04T15:43:09.362066Z",
     "shell.execute_reply": "2022-12-04T15:43:09.360182Z"
    },
    "papermill": {
     "duration": 2.565493,
     "end_time": "2022-12-04T15:43:09.365268",
     "exception": false,
     "start_time": "2022-12-04T15:43:06.799775",
     "status": "completed"
    },
    "tags": []
   },
   "outputs": [
    {
     "data": {
      "image/png": "[encoded data removed]",
      "text/plain": [
       "<Figure size 432x288 with 2 Axes>"
      ]
     },
     "metadata": {
      "needs_background": "light"
     },
     "output_type": "display_data"
    }
   ],
   "source": [
    "# extra code – this cell plots performance scheduling\n",
    "\n",
    "plt.plot(history.epoch, history.history[\"lr\"], \"bo-\")\n",
    "plt.xlabel(\"Epoch\")\n",
    "plt.ylabel(\"Learning Rate\", color='b')\n",
    "plt.tick_params('y', colors='b')\n",
    "plt.gca().set_xlim(0, n_epochs - 1)\n",
    "plt.grid(True)\n",
    "\n",
    "ax2 = plt.gca().twinx()\n",
    "ax2.plot(history.epoch, history.history[\"val_loss\"], \"r^-\")\n",
    "ax2.set_ylabel('Validation Loss', color='r')\n",
    "ax2.tick_params('y', colors='r')\n",
    "\n",
    "plt.title(\"Reduce LR on Plateau\", fontsize=14)\n",
    "plt.show()"
   ]
  },
  {
   "cell_type": "markdown",
   "id": "06367599",
   "metadata": {
    "papermill": {
     "duration": 2.262377,
     "end_time": "2022-12-04T15:43:13.973485",
     "exception": false,
     "start_time": "2022-12-04T15:43:11.711108",
     "status": "completed"
    },
    "tags": []
   },
   "source": [
    "### tf.keras schedulers"
   ]
  },
  {
   "cell_type": "code",
   "execution_count": 86,
   "id": "e63378d1",
   "metadata": {
    "execution": {
     "iopub.execute_input": "2022-12-04T15:43:18.465675Z",
     "iopub.status.busy": "2022-12-04T15:43:18.464535Z",
     "iopub.status.idle": "2022-12-04T15:43:18.472058Z",
     "shell.execute_reply": "2022-12-04T15:43:18.471112Z"
    },
    "papermill": {
     "duration": 2.252053,
     "end_time": "2022-12-04T15:43:18.474612",
     "exception": false,
     "start_time": "2022-12-04T15:43:16.222559",
     "status": "completed"
    },
    "tags": []
   },
   "outputs": [],
   "source": [
    "import math\n",
    "\n",
    "batch_size = 32\n",
    "n_epochs = 25\n",
    "n_steps = n_epochs * math.ceil(len(X_train) / batch_size)\n",
    "scheduled_learning_rate = tf.keras.optimizers.schedules.ExponentialDecay(\n",
    "    initial_learning_rate=0.01, decay_steps=n_steps, decay_rate=0.1)\n",
    "optimizer = tf.keras.optimizers.SGD(learning_rate=scheduled_learning_rate)"
   ]
  },
  {
   "cell_type": "code",
   "execution_count": 87,
   "id": "a2364a77",
   "metadata": {
    "execution": {
     "iopub.execute_input": "2022-12-04T15:43:23.096658Z",
     "iopub.status.busy": "2022-12-04T15:43:23.095956Z",
     "iopub.status.idle": "2022-12-04T15:44:15.916296Z",
     "shell.execute_reply": "2022-12-04T15:44:15.915294Z"
    },
    "papermill": {
     "duration": 55.156908,
     "end_time": "2022-12-04T15:44:15.919321",
     "exception": false,
     "start_time": "2022-12-04T15:43:20.762413",
     "status": "completed"
    },
    "tags": []
   },
   "outputs": [
    {
     "name": "stdout",
     "output_type": "stream",
     "text": [
      "Epoch 1/10\n",
      "1719/1719 [==============================] - 6s 3ms/step - loss: 0.6808 - accuracy: 0.7680 - val_loss: 0.4821 - val_accuracy: 0.8278\n",
      "Epoch 2/10\n",
      "1719/1719 [==============================] - 5s 3ms/step - loss: 0.4685 - accuracy: 0.8364 - val_loss: 0.4426 - val_accuracy: 0.8398\n",
      "Epoch 3/10\n",
      "1719/1719 [==============================] - 5s 3ms/step - loss: 0.4215 - accuracy: 0.8497 - val_loss: 0.4114 - val_accuracy: 0.8530\n",
      "Epoch 4/10\n",
      "1719/1719 [==============================] - 5s 3ms/step - loss: 0.3972 - accuracy: 0.8592 - val_loss: 0.3854 - val_accuracy: 0.8598\n",
      "Epoch 5/10\n",
      "1719/1719 [==============================] - 5s 3ms/step - loss: 0.3771 - accuracy: 0.8657 - val_loss: 0.3777 - val_accuracy: 0.8630\n",
      "Epoch 6/10\n",
      "1719/1719 [==============================] - 6s 3ms/step - loss: 0.3626 - accuracy: 0.8706 - val_loss: 0.3779 - val_accuracy: 0.8614\n",
      "Epoch 7/10\n",
      "1719/1719 [==============================] - 5s 3ms/step - loss: 0.3514 - accuracy: 0.8735 - val_loss: 0.3660 - val_accuracy: 0.8666\n",
      "Epoch 8/10\n",
      "1719/1719 [==============================] - 5s 3ms/step - loss: 0.3417 - accuracy: 0.8780 - val_loss: 0.3704 - val_accuracy: 0.8632\n",
      "Epoch 9/10\n",
      "1719/1719 [==============================] - 5s 3ms/step - loss: 0.3338 - accuracy: 0.8809 - val_loss: 0.3480 - val_accuracy: 0.8708\n",
      "Epoch 10/10\n",
      "1719/1719 [==============================] - 5s 3ms/step - loss: 0.3262 - accuracy: 0.8826 - val_loss: 0.3481 - val_accuracy: 0.8704\n"
     ]
    }
   ],
   "source": [
    "# extra code – build and train the model\n",
    "model = build_and_train_model(optimizer)"
   ]
  },
  {
   "cell_type": "markdown",
   "id": "47fd5595",
   "metadata": {
    "papermill": {
     "duration": 2.300896,
     "end_time": "2022-12-04T15:44:20.519544",
     "exception": false,
     "start_time": "2022-12-04T15:44:18.218648",
     "status": "completed"
    },
    "tags": []
   },
   "source": [
    "For piecewise constant scheduling, try this:"
   ]
  },
  {
   "cell_type": "code",
   "execution_count": 88,
   "id": "990a8cbf",
   "metadata": {
    "execution": {
     "iopub.execute_input": "2022-12-04T15:44:25.268689Z",
     "iopub.status.busy": "2022-12-04T15:44:25.267463Z",
     "iopub.status.idle": "2022-12-04T15:44:25.273786Z",
     "shell.execute_reply": "2022-12-04T15:44:25.272928Z"
    },
    "papermill": {
     "duration": 2.372988,
     "end_time": "2022-12-04T15:44:25.276692",
     "exception": false,
     "start_time": "2022-12-04T15:44:22.903704",
     "status": "completed"
    },
    "tags": []
   },
   "outputs": [],
   "source": [
    "# extra code – shows how to use PiecewiseConstantDecay\n",
    "scheduled_learning_rate = tf.keras.optimizers.schedules.PiecewiseConstantDecay(\n",
    "    boundaries=[5. * n_steps_per_epoch, 15. * n_steps_per_epoch],\n",
    "    values=[0.01, 0.005, 0.001])"
   ]
  },
  {
   "cell_type": "markdown",
   "id": "9b71a01f",
   "metadata": {
    "papermill": {
     "duration": 2.32885,
     "end_time": "2022-12-04T15:44:29.939921",
     "exception": false,
     "start_time": "2022-12-04T15:44:27.611071",
     "status": "completed"
    },
    "tags": []
   },
   "source": [
    "### 1Cycle scheduling"
   ]
  },
  {
   "cell_type": "markdown",
   "id": "e27ee35c",
   "metadata": {
    "papermill": {
     "duration": 2.305147,
     "end_time": "2022-12-04T15:44:34.576162",
     "exception": false,
     "start_time": "2022-12-04T15:44:32.271015",
     "status": "completed"
    },
    "tags": []
   },
   "source": [
    "The `ExponentialLearningRate` custom callback updates the learning rate during training, at the end of each batch. It multiplies it by a constant `factor`. It also saves the learning rate and loss at each batch. Since `logs[\"loss\"]` is actually the mean loss since the start of the epoch, and we want to save the batch loss instead, we must compute the mean times the number of batches since the beginning of the epoch to get the total loss so far, then we subtract the total loss at the previous batch to get the current batch's loss."
   ]
  },
  {
   "cell_type": "code",
   "execution_count": 89,
   "id": "9391c3bd",
   "metadata": {
    "execution": {
     "iopub.execute_input": "2022-12-04T15:44:39.196134Z",
     "iopub.status.busy": "2022-12-04T15:44:39.195689Z",
     "iopub.status.idle": "2022-12-04T15:44:39.204186Z",
     "shell.execute_reply": "2022-12-04T15:44:39.203245Z"
    },
    "papermill": {
     "duration": 2.330918,
     "end_time": "2022-12-04T15:44:39.206350",
     "exception": false,
     "start_time": "2022-12-04T15:44:36.875432",
     "status": "completed"
    },
    "tags": []
   },
   "outputs": [],
   "source": [
    "K = tf.keras.backend\n",
    "\n",
    "class ExponentialLearningRate(tf.keras.callbacks.Callback):\n",
    "    def __init__(self, factor):\n",
    "        self.factor = factor\n",
    "        self.rates = []\n",
    "        self.losses = []\n",
    "\n",
    "    def on_epoch_begin(self, epoch, logs=None):\n",
    "        self.sum_of_epoch_losses = 0\n",
    "\n",
    "    def on_batch_end(self, batch, logs=None):\n",
    "        mean_epoch_loss = logs[\"loss\"]  # the epoch's mean loss so far \n",
    "        new_sum_of_epoch_losses = mean_epoch_loss * (batch + 1)\n",
    "        batch_loss = new_sum_of_epoch_losses - self.sum_of_epoch_losses\n",
    "        self.sum_of_epoch_losses = new_sum_of_epoch_losses\n",
    "        self.rates.append(K.get_value(self.model.optimizer.learning_rate))\n",
    "        self.losses.append(batch_loss)\n",
    "        K.set_value(self.model.optimizer.learning_rate,\n",
    "                    self.model.optimizer.learning_rate * self.factor)"
   ]
  },
  {
   "cell_type": "markdown",
   "id": "a3cb0930",
   "metadata": {
    "papermill": {
     "duration": 2.304229,
     "end_time": "2022-12-04T15:44:43.878786",
     "exception": false,
     "start_time": "2022-12-04T15:44:41.574557",
     "status": "completed"
    },
    "tags": []
   },
   "source": [
    "The `find_learning_rate()` function trains the model using the `ExponentialLearningRate` callback, and it returns the learning rates and corresponding batch losses. At the end, it restores the model and its optimizer to their initial state."
   ]
  },
  {
   "cell_type": "code",
   "execution_count": 90,
   "id": "3c757052",
   "metadata": {
    "execution": {
     "iopub.execute_input": "2022-12-04T15:44:48.494431Z",
     "iopub.status.busy": "2022-12-04T15:44:48.493690Z",
     "iopub.status.idle": "2022-12-04T15:44:48.501420Z",
     "shell.execute_reply": "2022-12-04T15:44:48.500289Z"
    },
    "papermill": {
     "duration": 2.322989,
     "end_time": "2022-12-04T15:44:48.503851",
     "exception": false,
     "start_time": "2022-12-04T15:44:46.180862",
     "status": "completed"
    },
    "tags": []
   },
   "outputs": [],
   "source": [
    "def find_learning_rate(model, X, y, epochs=1, batch_size=32, min_rate=1e-4,\n",
    "                       max_rate=1):\n",
    "    init_weights = model.get_weights()\n",
    "    iterations = math.ceil(len(X) / batch_size) * epochs\n",
    "    factor = (max_rate / min_rate) ** (1 / iterations)\n",
    "    init_lr = K.get_value(model.optimizer.learning_rate)\n",
    "    K.set_value(model.optimizer.learning_rate, min_rate)\n",
    "    exp_lr = ExponentialLearningRate(factor)\n",
    "    history = model.fit(X, y, epochs=epochs, batch_size=batch_size,\n",
    "                        callbacks=[exp_lr])\n",
    "    K.set_value(model.optimizer.learning_rate, init_lr)\n",
    "    model.set_weights(init_weights)\n",
    "    return exp_lr.rates, exp_lr.losses"
   ]
  },
  {
   "cell_type": "markdown",
   "id": "9f8b3c10",
   "metadata": {
    "papermill": {
     "duration": 2.275761,
     "end_time": "2022-12-04T15:44:53.057483",
     "exception": false,
     "start_time": "2022-12-04T15:44:50.781722",
     "status": "completed"
    },
    "tags": []
   },
   "source": [
    "The `plot_lr_vs_loss()` function plots the learning rates vs the losses. The optimal learning rate to use as the maximum learning rate in 1cycle is near the bottom of the curve."
   ]
  },
  {
   "cell_type": "code",
   "execution_count": 91,
   "id": "8d4d7321",
   "metadata": {
    "execution": {
     "iopub.execute_input": "2022-12-04T15:44:57.741992Z",
     "iopub.status.busy": "2022-12-04T15:44:57.741257Z",
     "iopub.status.idle": "2022-12-04T15:44:57.747596Z",
     "shell.execute_reply": "2022-12-04T15:44:57.746792Z"
    },
    "papermill": {
     "duration": 2.403099,
     "end_time": "2022-12-04T15:44:57.749806",
     "exception": false,
     "start_time": "2022-12-04T15:44:55.346707",
     "status": "completed"
    },
    "tags": []
   },
   "outputs": [],
   "source": [
    "def plot_lr_vs_loss(rates, losses):\n",
    "    plt.plot(rates, losses, \"b\")\n",
    "    plt.gca().set_xscale('log')\n",
    "    max_loss = losses[0] + min(losses)\n",
    "    plt.hlines(min(losses), min(rates), max(rates), color=\"k\")\n",
    "    plt.axis([min(rates), max(rates), 0, max_loss])\n",
    "    plt.xlabel(\"Learning rate\")\n",
    "    plt.ylabel(\"Loss\")\n",
    "    plt.grid()"
   ]
  },
  {
   "cell_type": "markdown",
   "id": "536d93b8",
   "metadata": {
    "papermill": {
     "duration": 2.282119,
     "end_time": "2022-12-04T15:45:02.332387",
     "exception": false,
     "start_time": "2022-12-04T15:45:00.050268",
     "status": "completed"
    },
    "tags": []
   },
   "source": [
    "Let's build a simple Fashion MNIST model and compile it:"
   ]
  },
  {
   "cell_type": "code",
   "execution_count": 92,
   "id": "7c18bc2b",
   "metadata": {
    "execution": {
     "iopub.execute_input": "2022-12-04T15:45:06.916812Z",
     "iopub.status.busy": "2022-12-04T15:45:06.916030Z",
     "iopub.status.idle": "2022-12-04T15:45:06.968771Z",
     "shell.execute_reply": "2022-12-04T15:45:06.967586Z"
    },
    "papermill": {
     "duration": 2.351995,
     "end_time": "2022-12-04T15:45:06.971352",
     "exception": false,
     "start_time": "2022-12-04T15:45:04.619357",
     "status": "completed"
    },
    "tags": []
   },
   "outputs": [],
   "source": [
    "model = build_model()\n",
    "model.compile(loss=\"sparse_categorical_crossentropy\",\n",
    "              optimizer=tf.keras.optimizers.SGD(learning_rate=0.001),\n",
    "              metrics=[\"accuracy\"])"
   ]
  },
  {
   "cell_type": "markdown",
   "id": "dfd5bca0",
   "metadata": {
    "papermill": {
     "duration": 2.301064,
     "end_time": "2022-12-04T15:45:11.553465",
     "exception": false,
     "start_time": "2022-12-04T15:45:09.252401",
     "status": "completed"
    },
    "tags": []
   },
   "source": [
    "Now let's find the optimal max learning rate for 1cycle:"
   ]
  },
  {
   "cell_type": "code",
   "execution_count": 93,
   "id": "3ad5d9f1",
   "metadata": {
    "execution": {
     "iopub.execute_input": "2022-12-04T15:45:16.132793Z",
     "iopub.status.busy": "2022-12-04T15:45:16.132117Z",
     "iopub.status.idle": "2022-12-04T15:45:18.947986Z",
     "shell.execute_reply": "2022-12-04T15:45:18.946601Z"
    },
    "papermill": {
     "duration": 5.110177,
     "end_time": "2022-12-04T15:45:18.951061",
     "exception": false,
     "start_time": "2022-12-04T15:45:13.840884",
     "status": "completed"
    },
    "tags": []
   },
   "outputs": [
    {
     "name": "stdout",
     "output_type": "stream",
     "text": [
      "430/430 [==============================] - 2s 4ms/step - loss: 1.8474 - accuracy: 0.4091\n"
     ]
    },
    {
     "data": {
      "image/png": "[encoded data removed]",
      "text/plain": [
       "<Figure size 432x288 with 1 Axes>"
      ]
     },
     "metadata": {
      "needs_background": "light"
     },
     "output_type": "display_data"
    }
   ],
   "source": [
    "batch_size = 128\n",
    "rates, losses = find_learning_rate(model, X_train, y_train, epochs=1,\n",
    "                                   batch_size=batch_size)\n",
    "plot_lr_vs_loss(rates, losses)"
   ]
  },
  {
   "cell_type": "markdown",
   "id": "789d51b8",
   "metadata": {
    "papermill": {
     "duration": 2.308228,
     "end_time": "2022-12-04T15:45:23.672115",
     "exception": false,
     "start_time": "2022-12-04T15:45:21.363887",
     "status": "completed"
    },
    "tags": []
   },
   "source": [
    "Looks like the max learning rate to use for 1cycle is around 10<sup>–1</sup>."
   ]
  },
  {
   "cell_type": "markdown",
   "id": "b0975328",
   "metadata": {
    "papermill": {
     "duration": 2.337969,
     "end_time": "2022-12-04T15:45:28.303449",
     "exception": false,
     "start_time": "2022-12-04T15:45:25.965480",
     "status": "completed"
    },
    "tags": []
   },
   "source": [
    "The `OneCycleScheduler` custom callback updates the learning rate at the beginning of each batch. It applies the logic described in the book: increase the learning rate linearly during about half of training, then reduce it linearly back to the initial learning rate, and lastly reduce it down to close to zero linearly for the very last part of training."
   ]
  },
  {
   "cell_type": "code",
   "execution_count": 94,
   "id": "512034cf",
   "metadata": {
    "execution": {
     "iopub.execute_input": "2022-12-04T15:45:33.034402Z",
     "iopub.status.busy": "2022-12-04T15:45:33.033968Z",
     "iopub.status.idle": "2022-12-04T15:45:33.045279Z",
     "shell.execute_reply": "2022-12-04T15:45:33.044025Z"
    },
    "papermill": {
     "duration": 2.371124,
     "end_time": "2022-12-04T15:45:33.047746",
     "exception": false,
     "start_time": "2022-12-04T15:45:30.676622",
     "status": "completed"
    },
    "tags": []
   },
   "outputs": [],
   "source": [
    "class OneCycleScheduler(tf.keras.callbacks.Callback):\n",
    "    def __init__(self, iterations, max_lr=1e-3, start_lr=None,\n",
    "                 last_iterations=None, last_lr=None):\n",
    "        self.iterations = iterations\n",
    "        self.max_lr = max_lr\n",
    "        self.start_lr = start_lr or max_lr / 10\n",
    "        self.last_iterations = last_iterations or iterations // 10 + 1\n",
    "        self.half_iteration = (iterations - self.last_iterations) // 2\n",
    "        self.last_lr = last_lr or self.start_lr / 1000\n",
    "        self.iteration = 0\n",
    "\n",
    "    def _interpolate(self, iter1, iter2, lr1, lr2):\n",
    "        return (lr2 - lr1) * (self.iteration - iter1) / (iter2 - iter1) + lr1\n",
    "\n",
    "    def on_batch_begin(self, batch, logs):\n",
    "        if self.iteration < self.half_iteration:\n",
    "            lr = self._interpolate(0, self.half_iteration, self.start_lr,\n",
    "                                   self.max_lr)\n",
    "        elif self.iteration < 2 * self.half_iteration:\n",
    "            lr = self._interpolate(self.half_iteration, 2 * self.half_iteration,\n",
    "                                   self.max_lr, self.start_lr)\n",
    "        else:\n",
    "            lr = self._interpolate(2 * self.half_iteration, self.iterations,\n",
    "                                   self.start_lr, self.last_lr)\n",
    "        self.iteration += 1\n",
    "        K.set_value(self.model.optimizer.learning_rate, lr)"
   ]
  },
  {
   "cell_type": "markdown",
   "id": "3b839501",
   "metadata": {
    "papermill": {
     "duration": 2.388597,
     "end_time": "2022-12-04T15:45:37.836442",
     "exception": false,
     "start_time": "2022-12-04T15:45:35.447845",
     "status": "completed"
    },
    "tags": []
   },
   "source": [
    "Let's build and compile a simple Fashion MNIST model, then train it using the `OneCycleScheduler` callback:"
   ]
  },
  {
   "cell_type": "code",
   "execution_count": 95,
   "id": "fc7b1df9",
   "metadata": {
    "execution": {
     "iopub.execute_input": "2022-12-04T15:45:42.451512Z",
     "iopub.status.busy": "2022-12-04T15:45:42.450793Z",
     "iopub.status.idle": "2022-12-04T15:46:30.151804Z",
     "shell.execute_reply": "2022-12-04T15:46:30.150515Z"
    },
    "papermill": {
     "duration": 50.009251,
     "end_time": "2022-12-04T15:46:30.154709",
     "exception": false,
     "start_time": "2022-12-04T15:45:40.145458",
     "status": "completed"
    },
    "tags": []
   },
   "outputs": [
    {
     "name": "stdout",
     "output_type": "stream",
     "text": [
      "Epoch 1/25\n",
      "430/430 [==============================] - 2s 5ms/step - loss: 0.9502 - accuracy: 0.6913 - val_loss: 0.6003 - val_accuracy: 0.7874\n",
      "Epoch 2/25\n",
      "430/430 [==============================] - 2s 4ms/step - loss: 0.5695 - accuracy: 0.8025 - val_loss: 0.4918 - val_accuracy: 0.8248\n",
      "Epoch 3/25\n",
      "430/430 [==============================] - 2s 4ms/step - loss: 0.4955 - accuracy: 0.8252 - val_loss: 0.4708 - val_accuracy: 0.8282\n",
      "Epoch 4/25\n",
      "430/430 [==============================] - 2s 4ms/step - loss: 0.4512 - accuracy: 0.8399 - val_loss: 0.4261 - val_accuracy: 0.8478\n",
      "Epoch 5/25\n",
      "430/430 [==============================] - 2s 4ms/step - loss: 0.4225 - accuracy: 0.8491 - val_loss: 0.4046 - val_accuracy: 0.8506\n",
      "Epoch 6/25\n",
      "430/430 [==============================] - 2s 4ms/step - loss: 0.3960 - accuracy: 0.8566 - val_loss: 0.4843 - val_accuracy: 0.8192\n",
      "Epoch 7/25\n",
      "430/430 [==============================] - 2s 4ms/step - loss: 0.3788 - accuracy: 0.8627 - val_loss: 0.3865 - val_accuracy: 0.8602\n",
      "Epoch 8/25\n",
      "430/430 [==============================] - 2s 4ms/step - loss: 0.3637 - accuracy: 0.8683 - val_loss: 0.4422 - val_accuracy: 0.8390\n",
      "Epoch 9/25\n",
      "430/430 [==============================] - 2s 5ms/step - loss: 0.3511 - accuracy: 0.8727 - val_loss: 0.3583 - val_accuracy: 0.8732\n",
      "Epoch 10/25\n",
      "430/430 [==============================] - 2s 5ms/step - loss: 0.3366 - accuracy: 0.8761 - val_loss: 0.5251 - val_accuracy: 0.8412\n",
      "Epoch 11/25\n",
      "430/430 [==============================] - 2s 4ms/step - loss: 0.3284 - accuracy: 0.8792 - val_loss: 0.4195 - val_accuracy: 0.8384\n",
      "Epoch 12/25\n",
      "430/430 [==============================] - 2s 4ms/step - loss: 0.3173 - accuracy: 0.8823 - val_loss: 0.3433 - val_accuracy: 0.8716\n",
      "Epoch 13/25\n",
      "430/430 [==============================] - 2s 4ms/step - loss: 0.2961 - accuracy: 0.8906 - val_loss: 0.3193 - val_accuracy: 0.8794\n",
      "Epoch 14/25\n",
      "430/430 [==============================] - 2s 4ms/step - loss: 0.2815 - accuracy: 0.8958 - val_loss: 0.3842 - val_accuracy: 0.8658\n",
      "Epoch 15/25\n",
      "430/430 [==============================] - 2s 4ms/step - loss: 0.2675 - accuracy: 0.9001 - val_loss: 0.3267 - val_accuracy: 0.8850\n",
      "Epoch 16/25\n",
      "430/430 [==============================] - 2s 4ms/step - loss: 0.2565 - accuracy: 0.9053 - val_loss: 0.3275 - val_accuracy: 0.8794\n",
      "Epoch 17/25\n",
      "430/430 [==============================] - 2s 4ms/step - loss: 0.2463 - accuracy: 0.9095 - val_loss: 0.3101 - val_accuracy: 0.8874\n",
      "Epoch 18/25\n",
      "430/430 [==============================] - 2s 4ms/step - loss: 0.2372 - accuracy: 0.9114 - val_loss: 0.3162 - val_accuracy: 0.8850\n",
      "Epoch 19/25\n",
      "430/430 [==============================] - 2s 4ms/step - loss: 0.2293 - accuracy: 0.9149 - val_loss: 0.3100 - val_accuracy: 0.8866\n",
      "Epoch 20/25\n",
      "430/430 [==============================] - 2s 4ms/step - loss: 0.2209 - accuracy: 0.9191 - val_loss: 0.3092 - val_accuracy: 0.8888\n",
      "Epoch 21/25\n",
      "430/430 [==============================] - 2s 4ms/step - loss: 0.2142 - accuracy: 0.9205 - val_loss: 0.3007 - val_accuracy: 0.8910\n",
      "Epoch 22/25\n",
      "430/430 [==============================] - 2s 4ms/step - loss: 0.2075 - accuracy: 0.9236 - val_loss: 0.3037 - val_accuracy: 0.8906\n",
      "Epoch 23/25\n",
      "430/430 [==============================] - 2s 4ms/step - loss: 0.2022 - accuracy: 0.9263 - val_loss: 0.3015 - val_accuracy: 0.8902\n",
      "Epoch 24/25\n",
      "430/430 [==============================] - 2s 4ms/step - loss: 0.1991 - accuracy: 0.9273 - val_loss: 0.3017 - val_accuracy: 0.8938\n",
      "Epoch 25/25\n",
      "430/430 [==============================] - 2s 4ms/step - loss: 0.1970 - accuracy: 0.9284 - val_loss: 0.3011 - val_accuracy: 0.8906\n"
     ]
    }
   ],
   "source": [
    "model = build_model()\n",
    "model.compile(loss=\"sparse_categorical_crossentropy\",\n",
    "              optimizer=tf.keras.optimizers.SGD(),\n",
    "              metrics=[\"accuracy\"])\n",
    "n_epochs = 25\n",
    "onecycle = OneCycleScheduler(math.ceil(len(X_train) / batch_size) * n_epochs,\n",
    "                             max_lr=0.1)\n",
    "history = model.fit(X_train, y_train, epochs=n_epochs, batch_size=batch_size,\n",
    "                    validation_data=(X_valid, y_valid),\n",
    "                    callbacks=[onecycle])"
   ]
  },
  {
   "cell_type": "markdown",
   "id": "cb020a3a",
   "metadata": {
    "papermill": {
     "duration": 2.359464,
     "end_time": "2022-12-04T15:46:34.928763",
     "exception": false,
     "start_time": "2022-12-04T15:46:32.569299",
     "status": "completed"
    },
    "tags": []
   },
   "source": [
    "# Avoiding Overfitting Through Regularization"
   ]
  },
  {
   "cell_type": "markdown",
   "id": "48cbce4f",
   "metadata": {
    "papermill": {
     "duration": 2.448082,
     "end_time": "2022-12-04T15:46:39.715699",
     "exception": false,
     "start_time": "2022-12-04T15:46:37.267617",
     "status": "completed"
    },
    "tags": []
   },
   "source": [
    "## $\\ell_1$ and $\\ell_2$ regularization"
   ]
  },
  {
   "cell_type": "code",
   "execution_count": 96,
   "id": "781821f6",
   "metadata": {
    "execution": {
     "iopub.execute_input": "2022-12-04T15:46:44.480628Z",
     "iopub.status.busy": "2022-12-04T15:46:44.480151Z",
     "iopub.status.idle": "2022-12-04T15:46:44.487908Z",
     "shell.execute_reply": "2022-12-04T15:46:44.486932Z"
    },
    "papermill": {
     "duration": 2.375157,
     "end_time": "2022-12-04T15:46:44.490051",
     "exception": false,
     "start_time": "2022-12-04T15:46:42.114894",
     "status": "completed"
    },
    "tags": []
   },
   "outputs": [],
   "source": [
    "layer = tf.keras.layers.Dense(100, activation=\"relu\",\n",
    "                              kernel_initializer=\"he_normal\",\n",
    "                              kernel_regularizer=tf.keras.regularizers.l2(0.01))"
   ]
  },
  {
   "cell_type": "markdown",
   "id": "7b831504",
   "metadata": {
    "papermill": {
     "duration": 2.396399,
     "end_time": "2022-12-04T15:46:49.264722",
     "exception": false,
     "start_time": "2022-12-04T15:46:46.868323",
     "status": "completed"
    },
    "tags": []
   },
   "source": [
    "Or use `l1(0.1)` for ℓ<sub>1</sub> regularization with a factor of 0.1, or `l1_l2(0.1, 0.01)` for both ℓ<sub>1</sub> and ℓ<sub>2</sub> regularization, with factors 0.1 and 0.01 respectively."
   ]
  },
  {
   "cell_type": "code",
   "execution_count": 97,
   "id": "333239fd",
   "metadata": {
    "execution": {
     "iopub.execute_input": "2022-12-04T15:46:54.085801Z",
     "iopub.status.busy": "2022-12-04T15:46:54.085043Z",
     "iopub.status.idle": "2022-12-04T15:46:54.091762Z",
     "shell.execute_reply": "2022-12-04T15:46:54.090816Z"
    },
    "papermill": {
     "duration": 2.474116,
     "end_time": "2022-12-04T15:46:54.094707",
     "exception": false,
     "start_time": "2022-12-04T15:46:51.620591",
     "status": "completed"
    },
    "tags": []
   },
   "outputs": [],
   "source": [
    "tf.random.set_seed(42)  # extra code – for reproducibility"
   ]
  },
  {
   "cell_type": "code",
   "execution_count": 98,
   "id": "0d43d138",
   "metadata": {
    "execution": {
     "iopub.execute_input": "2022-12-04T15:46:58.835416Z",
     "iopub.status.busy": "2022-12-04T15:46:58.834958Z",
     "iopub.status.idle": "2022-12-04T15:46:58.877992Z",
     "shell.execute_reply": "2022-12-04T15:46:58.876832Z"
    },
    "papermill": {
     "duration": 2.421479,
     "end_time": "2022-12-04T15:46:58.880573",
     "exception": false,
     "start_time": "2022-12-04T15:46:56.459094",
     "status": "completed"
    },
    "tags": []
   },
   "outputs": [],
   "source": [
    "from functools import partial\n",
    "\n",
    "RegularizedDense = partial(tf.keras.layers.Dense,\n",
    "                           activation=\"relu\",\n",
    "                           kernel_initializer=\"he_normal\",\n",
    "                           kernel_regularizer=tf.keras.regularizers.l2(0.01))\n",
    "\n",
    "model = tf.keras.Sequential([\n",
    "    tf.keras.layers.Flatten(input_shape=[28, 28]),\n",
    "    RegularizedDense(100),\n",
    "    RegularizedDense(100),\n",
    "    RegularizedDense(10, activation=\"softmax\")\n",
    "])"
   ]
  },
  {
   "cell_type": "code",
   "execution_count": 99,
   "id": "3a5c2c4f",
   "metadata": {
    "execution": {
     "iopub.execute_input": "2022-12-04T15:47:03.724729Z",
     "iopub.status.busy": "2022-12-04T15:47:03.724340Z",
     "iopub.status.idle": "2022-12-04T15:47:14.610569Z",
     "shell.execute_reply": "2022-12-04T15:47:14.609382Z"
    },
    "papermill": {
     "duration": 13.335271,
     "end_time": "2022-12-04T15:47:14.613124",
     "exception": false,
     "start_time": "2022-12-04T15:47:01.277853",
     "status": "completed"
    },
    "tags": []
   },
   "outputs": [
    {
     "name": "stdout",
     "output_type": "stream",
     "text": [
      "Epoch 1/2\n",
      "1719/1719 [==============================] - 6s 3ms/step - loss: 3.1224 - accuracy: 0.7748 - val_loss: 1.8602 - val_accuracy: 0.8264\n",
      "Epoch 2/2\n",
      "1719/1719 [==============================] - 5s 3ms/step - loss: 1.4263 - accuracy: 0.8158 - val_loss: 1.1269 - val_accuracy: 0.8184\n"
     ]
    }
   ],
   "source": [
    "# extra code – compile and train the model\n",
    "optimizer = tf.keras.optimizers.SGD(learning_rate=0.02)\n",
    "model.compile(loss=\"sparse_categorical_crossentropy\", optimizer=optimizer,\n",
    "              metrics=[\"accuracy\"])\n",
    "history = model.fit(X_train, y_train, epochs=2,\n",
    "                    validation_data=(X_valid, y_valid))"
   ]
  },
  {
   "cell_type": "markdown",
   "id": "ddc2a5c7",
   "metadata": {
    "papermill": {
     "duration": 2.36137,
     "end_time": "2022-12-04T15:47:19.343312",
     "exception": false,
     "start_time": "2022-12-04T15:47:16.981942",
     "status": "completed"
    },
    "tags": []
   },
   "source": [
    "## Dropout"
   ]
  },
  {
   "cell_type": "code",
   "execution_count": 100,
   "id": "27a68185",
   "metadata": {
    "execution": {
     "iopub.execute_input": "2022-12-04T15:47:24.127921Z",
     "iopub.status.busy": "2022-12-04T15:47:24.127436Z",
     "iopub.status.idle": "2022-12-04T15:47:24.134809Z",
     "shell.execute_reply": "2022-12-04T15:47:24.133867Z"
    },
    "papermill": {
     "duration": 2.421666,
     "end_time": "2022-12-04T15:47:24.136872",
     "exception": false,
     "start_time": "2022-12-04T15:47:21.715206",
     "status": "completed"
    },
    "tags": []
   },
   "outputs": [],
   "source": [
    "tf.random.set_seed(42)  # extra code – for reproducibility"
   ]
  },
  {
   "cell_type": "code",
   "execution_count": 101,
   "id": "9f77835e",
   "metadata": {
    "execution": {
     "iopub.execute_input": "2022-12-04T15:47:28.948130Z",
     "iopub.status.busy": "2022-12-04T15:47:28.947370Z",
     "iopub.status.idle": "2022-12-04T15:47:28.999351Z",
     "shell.execute_reply": "2022-12-04T15:47:28.998317Z"
    },
    "papermill": {
     "duration": 2.422796,
     "end_time": "2022-12-04T15:47:29.002203",
     "exception": false,
     "start_time": "2022-12-04T15:47:26.579407",
     "status": "completed"
    },
    "tags": []
   },
   "outputs": [],
   "source": [
    "model = tf.keras.Sequential([\n",
    "    tf.keras.layers.Flatten(input_shape=[28, 28]),\n",
    "    tf.keras.layers.Dropout(rate=0.2),\n",
    "    tf.keras.layers.Dense(100, activation=\"relu\",\n",
    "                          kernel_initializer=\"he_normal\"),\n",
    "    tf.keras.layers.Dropout(rate=0.2),\n",
    "    tf.keras.layers.Dense(100, activation=\"relu\",\n",
    "                          kernel_initializer=\"he_normal\"),\n",
    "    tf.keras.layers.Dropout(rate=0.2),\n",
    "    tf.keras.layers.Dense(10, activation=\"softmax\")\n",
    "])"
   ]
  },
  {
   "cell_type": "code",
   "execution_count": 102,
   "id": "64a3aa57",
   "metadata": {
    "execution": {
     "iopub.execute_input": "2022-12-04T15:47:33.771764Z",
     "iopub.status.busy": "2022-12-04T15:47:33.771316Z",
     "iopub.status.idle": "2022-12-04T15:48:30.447744Z",
     "shell.execute_reply": "2022-12-04T15:48:30.446336Z"
    },
    "papermill": {
     "duration": 59.066456,
     "end_time": "2022-12-04T15:48:30.450772",
     "exception": false,
     "start_time": "2022-12-04T15:47:31.384316",
     "status": "completed"
    },
    "tags": []
   },
   "outputs": [
    {
     "name": "stdout",
     "output_type": "stream",
     "text": [
      "Epoch 1/10\n",
      "1719/1719 [==============================] - 6s 3ms/step - loss: 0.6705 - accuracy: 0.7534 - val_loss: 0.4457 - val_accuracy: 0.8348\n",
      "Epoch 2/10\n",
      "1719/1719 [==============================] - 6s 3ms/step - loss: 0.5111 - accuracy: 0.8132 - val_loss: 0.4280 - val_accuracy: 0.8350\n",
      "Epoch 3/10\n",
      "1719/1719 [==============================] - 6s 3ms/step - loss: 0.4713 - accuracy: 0.8273 - val_loss: 0.3805 - val_accuracy: 0.8574\n",
      "Epoch 4/10\n",
      "1719/1719 [==============================] - 6s 3ms/step - loss: 0.4498 - accuracy: 0.8327 - val_loss: 0.3763 - val_accuracy: 0.8588\n",
      "Epoch 5/10\n",
      "1719/1719 [==============================] - 5s 3ms/step - loss: 0.4349 - accuracy: 0.8400 - val_loss: 0.3710 - val_accuracy: 0.8584\n",
      "Epoch 6/10\n",
      "1719/1719 [==============================] - 7s 4ms/step - loss: 0.4231 - accuracy: 0.8433 - val_loss: 0.3686 - val_accuracy: 0.8608\n",
      "Epoch 7/10\n",
      "1719/1719 [==============================] - 5s 3ms/step - loss: 0.4130 - accuracy: 0.8464 - val_loss: 0.3554 - val_accuracy: 0.8646\n",
      "Epoch 8/10\n",
      "1719/1719 [==============================] - 5s 3ms/step - loss: 0.4065 - accuracy: 0.8504 - val_loss: 0.3511 - val_accuracy: 0.8654\n",
      "Epoch 9/10\n",
      "1719/1719 [==============================] - 5s 3ms/step - loss: 0.4021 - accuracy: 0.8520 - val_loss: 0.3422 - val_accuracy: 0.8734\n",
      "Epoch 10/10\n",
      "1719/1719 [==============================] - 5s 3ms/step - loss: 0.3901 - accuracy: 0.8547 - val_loss: 0.3487 - val_accuracy: 0.8716\n"
     ]
    }
   ],
   "source": [
    "# extra code – compile and train the model\n",
    "optimizer = tf.keras.optimizers.SGD(learning_rate=0.01, momentum=0.9)\n",
    "model.compile(loss=\"sparse_categorical_crossentropy\", optimizer=optimizer,\n",
    "              metrics=[\"accuracy\"])\n",
    "history = model.fit(X_train, y_train, epochs=10,\n",
    "                    validation_data=(X_valid, y_valid))"
   ]
  },
  {
   "cell_type": "markdown",
   "id": "db3f7cb7",
   "metadata": {
    "papermill": {
     "duration": 2.431351,
     "end_time": "2022-12-04T15:48:35.330916",
     "exception": false,
     "start_time": "2022-12-04T15:48:32.899565",
     "status": "completed"
    },
    "tags": []
   },
   "source": [
    "The training accuracy looks like it's lower than the validation accuracy, but that's just because dropout is only active during training. If we evaluate the model on the training set after training (i.e., with dropout turned off), we get the \"real\" training accuracy, which is very slightly higher than the validation accuracy and the test accuracy:"
   ]
  },
  {
   "cell_type": "code",
   "execution_count": 103,
   "id": "27a93641",
   "metadata": {
    "execution": {
     "iopub.execute_input": "2022-12-04T15:48:40.316659Z",
     "iopub.status.busy": "2022-12-04T15:48:40.315876Z",
     "iopub.status.idle": "2022-12-04T15:48:43.429028Z",
     "shell.execute_reply": "2022-12-04T15:48:43.427945Z"
    },
    "papermill": {
     "duration": 5.663468,
     "end_time": "2022-12-04T15:48:43.431992",
     "exception": false,
     "start_time": "2022-12-04T15:48:37.768524",
     "status": "completed"
    },
    "tags": []
   },
   "outputs": [
    {
     "name": "stdout",
     "output_type": "stream",
     "text": [
      "1719/1719 [==============================] - 3s 2ms/step - loss: 0.3092 - accuracy: 0.8838\n"
     ]
    },
    {
     "data": {
      "text/plain": [
       "[0.30921804904937744, 0.8838363885879517]"
      ]
     },
     "execution_count": 103,
     "metadata": {},
     "output_type": "execute_result"
    }
   ],
   "source": [
    "model.evaluate(X_train, y_train)"
   ]
  },
  {
   "cell_type": "code",
   "execution_count": 104,
   "id": "66bb36f8",
   "metadata": {
    "execution": {
     "iopub.execute_input": "2022-12-04T15:48:48.394289Z",
     "iopub.status.busy": "2022-12-04T15:48:48.393110Z",
     "iopub.status.idle": "2022-12-04T15:48:49.041657Z",
     "shell.execute_reply": "2022-12-04T15:48:49.040562Z"
    },
    "papermill": {
     "duration": 3.094455,
     "end_time": "2022-12-04T15:48:49.044351",
     "exception": false,
     "start_time": "2022-12-04T15:48:45.949896",
     "status": "completed"
    },
    "tags": []
   },
   "outputs": [
    {
     "name": "stdout",
     "output_type": "stream",
     "text": [
      "313/313 [==============================] - 1s 2ms/step - loss: 0.3630 - accuracy: 0.8705\n"
     ]
    },
    {
     "data": {
      "text/plain": [
       "[0.3629508912563324, 0.8705000281333923]"
      ]
     },
     "execution_count": 104,
     "metadata": {},
     "output_type": "execute_result"
    }
   ],
   "source": [
    "model.evaluate(X_test, y_test)"
   ]
  },
  {
   "cell_type": "markdown",
   "id": "36ef8be1",
   "metadata": {
    "papermill": {
     "duration": 2.434381,
     "end_time": "2022-12-04T15:48:53.941523",
     "exception": false,
     "start_time": "2022-12-04T15:48:51.507142",
     "status": "completed"
    },
    "tags": []
   },
   "source": [
    "**Note**: make sure to use `AlphaDropout` instead of `Dropout` if you want to build a self-normalizing neural net using SELU."
   ]
  },
  {
   "cell_type": "markdown",
   "id": "d787c3a3",
   "metadata": {
    "papermill": {
     "duration": 2.419629,
     "end_time": "2022-12-04T15:48:58.912349",
     "exception": false,
     "start_time": "2022-12-04T15:48:56.492720",
     "status": "completed"
    },
    "tags": []
   },
   "source": [
    "## MC Dropout"
   ]
  },
  {
   "cell_type": "code",
   "execution_count": 105,
   "id": "894334c3",
   "metadata": {
    "execution": {
     "iopub.execute_input": "2022-12-04T15:49:03.786509Z",
     "iopub.status.busy": "2022-12-04T15:49:03.786061Z",
     "iopub.status.idle": "2022-12-04T15:49:03.792667Z",
     "shell.execute_reply": "2022-12-04T15:49:03.791787Z"
    },
    "papermill": {
     "duration": 2.429234,
     "end_time": "2022-12-04T15:49:03.794687",
     "exception": false,
     "start_time": "2022-12-04T15:49:01.365453",
     "status": "completed"
    },
    "tags": []
   },
   "outputs": [],
   "source": [
    "tf.random.set_seed(42)  # extra code – for reproducibility"
   ]
  },
  {
   "cell_type": "code",
   "execution_count": 106,
   "id": "c120216b",
   "metadata": {
    "execution": {
     "iopub.execute_input": "2022-12-04T15:49:08.662001Z",
     "iopub.status.busy": "2022-12-04T15:49:08.661267Z",
     "iopub.status.idle": "2022-12-04T15:49:18.271839Z",
     "shell.execute_reply": "2022-12-04T15:49:18.270591Z"
    },
    "papermill": {
     "duration": 12.038126,
     "end_time": "2022-12-04T15:49:18.274609",
     "exception": false,
     "start_time": "2022-12-04T15:49:06.236483",
     "status": "completed"
    },
    "tags": []
   },
   "outputs": [],
   "source": [
    "y_probas = np.stack([model(X_test, training=True)\n",
    "                     for sample in range(100)])\n",
    "y_proba = y_probas.mean(axis=0)"
   ]
  },
  {
   "cell_type": "code",
   "execution_count": 107,
   "id": "1fb0772f",
   "metadata": {
    "execution": {
     "iopub.execute_input": "2022-12-04T15:49:23.185864Z",
     "iopub.status.busy": "2022-12-04T15:49:23.185451Z",
     "iopub.status.idle": "2022-12-04T15:49:23.327836Z",
     "shell.execute_reply": "2022-12-04T15:49:23.326627Z"
    },
    "papermill": {
     "duration": 2.590117,
     "end_time": "2022-12-04T15:49:23.330358",
     "exception": false,
     "start_time": "2022-12-04T15:49:20.740241",
     "status": "completed"
    },
    "tags": []
   },
   "outputs": [
    {
     "data": {
      "text/plain": [
       "array([[0.   , 0.   , 0.   , 0.   , 0.   , 0.053, 0.   , 0.174, 0.   ,\n",
       "        0.773]], dtype=float32)"
      ]
     },
     "execution_count": 107,
     "metadata": {},
     "output_type": "execute_result"
    }
   ],
   "source": [
    "model.predict(X_test[:1]).round(3)"
   ]
  },
  {
   "cell_type": "code",
   "execution_count": 108,
   "id": "e6e34c0c",
   "metadata": {
    "execution": {
     "iopub.execute_input": "2022-12-04T15:49:28.290586Z",
     "iopub.status.busy": "2022-12-04T15:49:28.289464Z",
     "iopub.status.idle": "2022-12-04T15:49:28.297760Z",
     "shell.execute_reply": "2022-12-04T15:49:28.296671Z"
    },
    "papermill": {
     "duration": 2.436827,
     "end_time": "2022-12-04T15:49:28.300234",
     "exception": false,
     "start_time": "2022-12-04T15:49:25.863407",
     "status": "completed"
    },
    "tags": []
   },
   "outputs": [
    {
     "data": {
      "text/plain": [
       "array([0.   , 0.   , 0.   , 0.   , 0.   , 0.118, 0.   , 0.252, 0.   ,\n",
       "       0.629], dtype=float32)"
      ]
     },
     "execution_count": 108,
     "metadata": {},
     "output_type": "execute_result"
    }
   ],
   "source": [
    "y_proba[0].round(3)"
   ]
  },
  {
   "cell_type": "code",
   "execution_count": 109,
   "id": "58c2e94a",
   "metadata": {
    "execution": {
     "iopub.execute_input": "2022-12-04T15:49:33.203193Z",
     "iopub.status.busy": "2022-12-04T15:49:33.202010Z",
     "iopub.status.idle": "2022-12-04T15:49:33.240461Z",
     "shell.execute_reply": "2022-12-04T15:49:33.239184Z"
    },
    "papermill": {
     "duration": 2.490023,
     "end_time": "2022-12-04T15:49:33.242829",
     "exception": false,
     "start_time": "2022-12-04T15:49:30.752806",
     "status": "completed"
    },
    "tags": []
   },
   "outputs": [
    {
     "data": {
      "text/plain": [
       "array([0.   , 0.   , 0.   , 0.001, 0.   , 0.136, 0.   , 0.197, 0.002,\n",
       "       0.224], dtype=float32)"
      ]
     },
     "execution_count": 109,
     "metadata": {},
     "output_type": "execute_result"
    }
   ],
   "source": [
    "y_std = y_probas.std(axis=0)\n",
    "y_std[0].round(3)"
   ]
  },
  {
   "cell_type": "code",
   "execution_count": 110,
   "id": "887011b9",
   "metadata": {
    "execution": {
     "iopub.execute_input": "2022-12-04T15:49:38.123854Z",
     "iopub.status.busy": "2022-12-04T15:49:38.123442Z",
     "iopub.status.idle": "2022-12-04T15:49:38.132557Z",
     "shell.execute_reply": "2022-12-04T15:49:38.131260Z"
    },
    "papermill": {
     "duration": 2.446092,
     "end_time": "2022-12-04T15:49:38.134979",
     "exception": false,
     "start_time": "2022-12-04T15:49:35.688887",
     "status": "completed"
    },
    "tags": []
   },
   "outputs": [
    {
     "data": {
      "text/plain": [
       "0.87"
      ]
     },
     "execution_count": 110,
     "metadata": {},
     "output_type": "execute_result"
    }
   ],
   "source": [
    "y_pred = y_proba.argmax(axis=1)\n",
    "accuracy = (y_pred == y_test).sum() / len(y_test)\n",
    "accuracy"
   ]
  },
  {
   "cell_type": "code",
   "execution_count": 111,
   "id": "6a71e335",
   "metadata": {
    "execution": {
     "iopub.execute_input": "2022-12-04T15:49:43.119564Z",
     "iopub.status.busy": "2022-12-04T15:49:43.118698Z",
     "iopub.status.idle": "2022-12-04T15:49:43.124993Z",
     "shell.execute_reply": "2022-12-04T15:49:43.123815Z"
    },
    "papermill": {
     "duration": 2.540149,
     "end_time": "2022-12-04T15:49:43.127710",
     "exception": false,
     "start_time": "2022-12-04T15:49:40.587561",
     "status": "completed"
    },
    "tags": []
   },
   "outputs": [],
   "source": [
    "class MCDropout(tf.keras.layers.Dropout):\n",
    "    def call(self, inputs, training=None):\n",
    "        return super().call(inputs, training=True)"
   ]
  },
  {
   "cell_type": "code",
   "execution_count": 112,
   "id": "a0fb6258",
   "metadata": {
    "execution": {
     "iopub.execute_input": "2022-12-04T15:49:48.105104Z",
     "iopub.status.busy": "2022-12-04T15:49:48.104710Z",
     "iopub.status.idle": "2022-12-04T15:49:48.189090Z",
     "shell.execute_reply": "2022-12-04T15:49:48.188125Z"
    },
    "papermill": {
     "duration": 2.575298,
     "end_time": "2022-12-04T15:49:48.192125",
     "exception": false,
     "start_time": "2022-12-04T15:49:45.616827",
     "status": "completed"
    },
    "tags": []
   },
   "outputs": [],
   "source": [
    "# extra code – shows how to convert Dropout to MCDropout in a Sequential model\n",
    "Dropout = tf.keras.layers.Dropout\n",
    "mc_model = tf.keras.Sequential([\n",
    "    MCDropout(layer.rate) if isinstance(layer, Dropout) else layer\n",
    "    for layer in model.layers\n",
    "])\n",
    "mc_model.set_weights(model.get_weights())"
   ]
  },
  {
   "cell_type": "code",
   "execution_count": 113,
   "id": "7cc4f602",
   "metadata": {
    "execution": {
     "iopub.execute_input": "2022-12-04T15:49:53.096439Z",
     "iopub.status.busy": "2022-12-04T15:49:53.095594Z",
     "iopub.status.idle": "2022-12-04T15:49:53.103553Z",
     "shell.execute_reply": "2022-12-04T15:49:53.101975Z"
    },
    "papermill": {
     "duration": 2.431738,
     "end_time": "2022-12-04T15:49:53.106014",
     "exception": false,
     "start_time": "2022-12-04T15:49:50.674276",
     "status": "completed"
    },
    "tags": []
   },
   "outputs": [
    {
     "name": "stdout",
     "output_type": "stream",
     "text": [
      "Model: \"sequential_24\"\n",
      "_________________________________________________________________\n",
      "Layer (type)                 Output Shape              Param #   \n",
      "=================================================================\n",
      "flatten_21 (Flatten)         (None, 784)               0         \n",
      "_________________________________________________________________\n",
      "mc_dropout (MCDropout)       (None, 784)               0         \n",
      "_________________________________________________________________\n",
      "dense_85 (Dense)             (None, 100)               78500     \n",
      "_________________________________________________________________\n",
      "mc_dropout_1 (MCDropout)     (None, 100)               0         \n",
      "_________________________________________________________________\n",
      "dense_86 (Dense)             (None, 100)               10100     \n",
      "_________________________________________________________________\n",
      "mc_dropout_2 (MCDropout)     (None, 100)               0         \n",
      "_________________________________________________________________\n",
      "dense_87 (Dense)             (None, 10)                1010      \n",
      "=================================================================\n",
      "Total params: 89,610\n",
      "Trainable params: 89,610\n",
      "Non-trainable params: 0\n",
      "_________________________________________________________________\n"
     ]
    }
   ],
   "source": [
    "mc_model.summary()"
   ]
  },
  {
   "cell_type": "markdown",
   "id": "588f303b",
   "metadata": {
    "papermill": {
     "duration": 2.439646,
     "end_time": "2022-12-04T15:49:57.996623",
     "exception": false,
     "start_time": "2022-12-04T15:49:55.556977",
     "status": "completed"
    },
    "tags": []
   },
   "source": [
    "Now we can use the model with MC Dropout:"
   ]
  },
  {
   "cell_type": "code",
   "execution_count": 114,
   "id": "6db05c2d",
   "metadata": {
    "execution": {
     "iopub.execute_input": "2022-12-04T15:50:02.913147Z",
     "iopub.status.busy": "2022-12-04T15:50:02.912722Z",
     "iopub.status.idle": "2022-12-04T15:50:08.319441Z",
     "shell.execute_reply": "2022-12-04T15:50:08.318095Z"
    },
    "papermill": {
     "duration": 7.916143,
     "end_time": "2022-12-04T15:50:08.322248",
     "exception": false,
     "start_time": "2022-12-04T15:50:00.406105",
     "status": "completed"
    },
    "tags": []
   },
   "outputs": [
    {
     "data": {
      "text/plain": [
       "array([[0.  , 0.  , 0.  , 0.  , 0.  , 0.13, 0.  , 0.21, 0.  , 0.66]],\n",
       "      dtype=float32)"
      ]
     },
     "execution_count": 114,
     "metadata": {},
     "output_type": "execute_result"
    }
   ],
   "source": [
    "# extra code – shows that the model works without retraining\n",
    "tf.random.set_seed(42)\n",
    "np.mean([mc_model.predict(X_test[:1])\n",
    "         for sample in range(100)], axis=0).round(2)"
   ]
  },
  {
   "cell_type": "markdown",
   "id": "3ba0095e",
   "metadata": {
    "papermill": {
     "duration": 2.441276,
     "end_time": "2022-12-04T15:50:13.188872",
     "exception": false,
     "start_time": "2022-12-04T15:50:10.747596",
     "status": "completed"
    },
    "tags": []
   },
   "source": [
    "## Max norm"
   ]
  },
  {
   "cell_type": "code",
   "execution_count": 115,
   "id": "15349889",
   "metadata": {
    "execution": {
     "iopub.execute_input": "2022-12-04T15:50:18.120663Z",
     "iopub.status.busy": "2022-12-04T15:50:18.120277Z",
     "iopub.status.idle": "2022-12-04T15:50:18.128911Z",
     "shell.execute_reply": "2022-12-04T15:50:18.127771Z"
    },
    "papermill": {
     "duration": 2.485544,
     "end_time": "2022-12-04T15:50:18.131274",
     "exception": false,
     "start_time": "2022-12-04T15:50:15.645730",
     "status": "completed"
    },
    "tags": []
   },
   "outputs": [],
   "source": [
    "dense = tf.keras.layers.Dense(\n",
    "    100, activation=\"relu\", kernel_initializer=\"he_normal\",\n",
    "    kernel_constraint=tf.keras.constraints.max_norm(1.))"
   ]
  },
  {
   "cell_type": "code",
   "execution_count": 116,
   "id": "aca794d9",
   "metadata": {
    "execution": {
     "iopub.execute_input": "2022-12-04T15:50:22.940613Z",
     "iopub.status.busy": "2022-12-04T15:50:22.939734Z",
     "iopub.status.idle": "2022-12-04T15:51:07.252821Z",
     "shell.execute_reply": "2022-12-04T15:51:07.251816Z"
    },
    "papermill": {
     "duration": 46.715888,
     "end_time": "2022-12-04T15:51:07.255357",
     "exception": false,
     "start_time": "2022-12-04T15:50:20.539469",
     "status": "completed"
    },
    "tags": []
   },
   "outputs": [
    {
     "name": "stdout",
     "output_type": "stream",
     "text": [
      "Epoch 1/10\n",
      "1719/1719 [==============================] - 5s 3ms/step - loss: 0.5502 - accuracy: 0.8025 - val_loss: 0.4614 - val_accuracy: 0.8210\n",
      "Epoch 2/10\n",
      "1719/1719 [==============================] - 4s 2ms/step - loss: 0.4082 - accuracy: 0.8505 - val_loss: 0.3920 - val_accuracy: 0.8508\n",
      "Epoch 3/10\n",
      "1719/1719 [==============================] - 4s 2ms/step - loss: 0.3777 - accuracy: 0.8602 - val_loss: 0.3916 - val_accuracy: 0.8584\n",
      "Epoch 4/10\n",
      "1719/1719 [==============================] - 4s 2ms/step - loss: 0.3569 - accuracy: 0.8692 - val_loss: 0.3516 - val_accuracy: 0.8694\n",
      "Epoch 5/10\n",
      "1719/1719 [==============================] - 5s 3ms/step - loss: 0.3441 - accuracy: 0.8729 - val_loss: 0.3490 - val_accuracy: 0.8666\n",
      "Epoch 6/10\n",
      "1719/1719 [==============================] - 4s 3ms/step - loss: 0.3379 - accuracy: 0.8747 - val_loss: 0.3724 - val_accuracy: 0.8644\n",
      "Epoch 7/10\n",
      "1719/1719 [==============================] - 4s 3ms/step - loss: 0.3278 - accuracy: 0.8759 - val_loss: 0.4037 - val_accuracy: 0.8528\n",
      "Epoch 8/10\n",
      "1719/1719 [==============================] - 4s 3ms/step - loss: 0.3266 - accuracy: 0.8784 - val_loss: 0.3687 - val_accuracy: 0.8584\n",
      "Epoch 9/10\n",
      "1719/1719 [==============================] - 4s 2ms/step - loss: 0.3259 - accuracy: 0.8797 - val_loss: 0.3822 - val_accuracy: 0.8582\n",
      "Epoch 10/10\n",
      "1719/1719 [==============================] - 4s 2ms/step - loss: 0.3188 - accuracy: 0.8810 - val_loss: 0.3720 - val_accuracy: 0.8662\n"
     ]
    }
   ],
   "source": [
    "# extra code – shows how to apply max norm to every hidden layer in a model\n",
    "\n",
    "MaxNormDense = partial(tf.keras.layers.Dense,\n",
    "                       activation=\"relu\", kernel_initializer=\"he_normal\",\n",
    "                       kernel_constraint=tf.keras.constraints.max_norm(1.))\n",
    "\n",
    "tf.random.set_seed(42)\n",
    "model = tf.keras.Sequential([\n",
    "    tf.keras.layers.Flatten(input_shape=[28, 28]),\n",
    "    MaxNormDense(100),\n",
    "    MaxNormDense(100),\n",
    "    tf.keras.layers.Dense(10, activation=\"softmax\")\n",
    "])\n",
    "optimizer = tf.keras.optimizers.SGD(learning_rate=0.01, momentum=0.9)\n",
    "model.compile(loss=\"sparse_categorical_crossentropy\", optimizer=optimizer,\n",
    "              metrics=[\"accuracy\"])\n",
    "history = model.fit(X_train, y_train, epochs=10,\n",
    "                    validation_data=(X_valid, y_valid))"
   ]
  },
  {
   "cell_type": "markdown",
   "id": "33645ba5",
   "metadata": {
    "papermill": {
     "duration": 2.468024,
     "end_time": "2022-12-04T15:51:12.286310",
     "exception": false,
     "start_time": "2022-12-04T15:51:09.818286",
     "status": "completed"
    },
    "tags": []
   },
   "source": [
    "# Exercises"
   ]
  },
  {
   "cell_type": "markdown",
   "id": "b59ff8e8",
   "metadata": {
    "papermill": {
     "duration": 2.502073,
     "end_time": "2022-12-04T15:51:17.292039",
     "exception": false,
     "start_time": "2022-12-04T15:51:14.789966",
     "status": "completed"
    },
    "tags": []
   },
   "source": [
    "## 1. to 7."
   ]
  },
  {
   "cell_type": "markdown",
   "id": "7335fa5c",
   "metadata": {
    "papermill": {
     "duration": 2.469285,
     "end_time": "2022-12-04T15:51:22.311977",
     "exception": false,
     "start_time": "2022-12-04T15:51:19.842692",
     "status": "completed"
    },
    "tags": []
   },
   "source": [
    "1. Glorot initialization and He initialization were designed to make the output standard deviation as close as possible to the input standard deviation, at least at the beginning of training. This reduces the vanishing/exploding gradients problem.\n",
    "2. No, all weights should be sampled independently; they should not all have the same initial value. One important goal of sampling weights randomly is to break symmetry: if all the weights have the same initial value, even if that value is not zero, then symmetry is not broken (i.e., all neurons in a given layer are equivalent), and backpropagation will be unable to break it. Concretely, this means that all the neurons in any given layer will always have the same weights. It's like having just one neuron per layer, and much slower. It is virtually impossible for such a configuration to converge to a good solution.\n",
    "3. It is perfectly fine to initialize the bias terms to zero. Some people like to initialize them just like weights, and that's OK too; it does not make much difference.\n",
    "4. ReLU is usually a good default for the hidden layers, as it is fast and yields good results. Its ability to output precisely zero can also be useful in some cases (e.g., see Chapter 17). Moreover, it can sometimes benefit from optimized implementations as well as from hardware acceleration. The leaky ReLU variants of ReLU can improve the model's quality without hindering its speed too much compared to ReLU. For large neural nets and more complex problems, GLU, Swish and Mish can give you a slightly higher quality model, but they have a computational cost. The hyperbolic tangent (tanh) can be useful in the output layer if you need to output a number in a fixed range (by default between –1 and 1), but nowadays it is not used much in hidden layers, except in recurrent nets. The sigmoid activation function is also useful in the output layer when you need to estimate a probability (e.g., for binary classification), but it is rarely used in hidden layers (there are exceptions—for example, for the coding layer of variational autoencoders; see Chapter 17). The softplus activation function is useful in the output layer when you need to ensure that the output will always be positive. The softmax activation function is useful in the output layer to estimate probabilities for mutually exclusive classes, but it is rarely (if ever) used in hidden layers.\n",
    "5. If you set the `momentum` hyperparameter too close to 1 (e.g., 0.99999) when using an `SGD` optimizer, then the algorithm will likely pick up a lot of speed, hopefully moving roughly toward the global minimum, but its momentum will carry it right past the minimum. Then it will slow down and come back, accelerate again, overshoot again, and so on. It may oscillate this way many times before converging, so overall it will take much longer to converge than with a smaller `momentum` value.\n",
    "6. One way to produce a sparse model (i.e., with most weights equal to zero) is to train the model normally, then zero out tiny weights. For more sparsity, you can apply ℓ<sub>1</sub> regularization during training, which pushes the optimizer toward sparsity. A third option is to use the TensorFlow Model Optimization Toolkit.\n",
    "7. Yes, dropout does slow down training, in general roughly by a factor of two. However, it has no impact on inference speed since it is only turned on during training. MC Dropout is exactly like dropout during training, but it is still active during inference, so each inference is slowed down slightly. More importantly, when using MC Dropout you generally want to run inference 10 times or more to get better predictions. This means that making predictions is slowed down by a factor of 10 or more."
   ]
  },
  {
   "cell_type": "markdown",
   "id": "58c1f34c",
   "metadata": {
    "papermill": {
     "duration": 2.52894,
     "end_time": "2022-12-04T15:51:27.361120",
     "exception": false,
     "start_time": "2022-12-04T15:51:24.832180",
     "status": "completed"
    },
    "tags": []
   },
   "source": [
    "## 8. Deep Learning on CIFAR10"
   ]
  },
  {
   "cell_type": "markdown",
   "id": "c65b92ab",
   "metadata": {
    "papermill": {
     "duration": 2.458436,
     "end_time": "2022-12-04T15:51:32.280929",
     "exception": false,
     "start_time": "2022-12-04T15:51:29.822493",
     "status": "completed"
    },
    "tags": []
   },
   "source": [
    "### a.\n",
    "*Exercise: Build a DNN with 20 hidden layers of 100 neurons each (that's too many, but it's the point of this exercise). Use He initialization and the Swish activation function.*"
   ]
  },
  {
   "cell_type": "code",
   "execution_count": 117,
   "id": "87345c05",
   "metadata": {
    "execution": {
     "iopub.execute_input": "2022-12-04T15:51:37.235959Z",
     "iopub.status.busy": "2022-12-04T15:51:37.234852Z",
     "iopub.status.idle": "2022-12-04T15:51:37.470969Z",
     "shell.execute_reply": "2022-12-04T15:51:37.470139Z"
    },
    "papermill": {
     "duration": 2.721324,
     "end_time": "2022-12-04T15:51:37.473492",
     "exception": false,
     "start_time": "2022-12-04T15:51:34.752168",
     "status": "completed"
    },
    "tags": []
   },
   "outputs": [],
   "source": [
    "tf.random.set_seed(42)\n",
    "\n",
    "model = tf.keras.Sequential()\n",
    "model.add(tf.keras.layers.Flatten(input_shape=[32, 32, 3]))\n",
    "for _ in range(20):\n",
    "    model.add(tf.keras.layers.Dense(100,\n",
    "                                    activation=\"swish\",\n",
    "                                    kernel_initializer=\"he_normal\"))"
   ]
  },
  {
   "cell_type": "markdown",
   "id": "2effd651",
   "metadata": {
    "papermill": {
     "duration": 2.546999,
     "end_time": "2022-12-04T15:51:42.463947",
     "exception": false,
     "start_time": "2022-12-04T15:51:39.916948",
     "status": "completed"
    },
    "tags": []
   },
   "source": [
    "### b.\n",
    "*Exercise: Using Nadam optimization and early stopping, train the network on the CIFAR10 dataset. You can load it with `tf.keras.datasets.cifar10.load_data()`. The dataset is composed of 60,000 32 × 32–pixel color images (50,000 for training, 10,000 for testing) with 10 classes, so you'll need a softmax output layer with 10 neurons. Remember to search for the right learning rate each time you change the model's architecture or hyperparameters.*"
   ]
  },
  {
   "cell_type": "markdown",
   "id": "c30ec7f5",
   "metadata": {
    "papermill": {
     "duration": 2.574959,
     "end_time": "2022-12-04T15:51:47.548245",
     "exception": false,
     "start_time": "2022-12-04T15:51:44.973286",
     "status": "completed"
    },
    "tags": []
   },
   "source": [
    "Let's add the output layer to the model:"
   ]
  },
  {
   "cell_type": "code",
   "execution_count": 118,
   "id": "257929b3",
   "metadata": {
    "execution": {
     "iopub.execute_input": "2022-12-04T15:51:52.651353Z",
     "iopub.status.busy": "2022-12-04T15:51:52.650521Z",
     "iopub.status.idle": "2022-12-04T15:51:52.666461Z",
     "shell.execute_reply": "2022-12-04T15:51:52.665310Z"
    },
    "papermill": {
     "duration": 2.545002,
     "end_time": "2022-12-04T15:51:52.669022",
     "exception": false,
     "start_time": "2022-12-04T15:51:50.124020",
     "status": "completed"
    },
    "tags": []
   },
   "outputs": [],
   "source": [
    "model.add(tf.keras.layers.Dense(10, activation=\"softmax\"))"
   ]
  },
  {
   "cell_type": "markdown",
   "id": "a5ca3a95",
   "metadata": {
    "papermill": {
     "duration": 2.54211,
     "end_time": "2022-12-04T15:51:57.710669",
     "exception": false,
     "start_time": "2022-12-04T15:51:55.168559",
     "status": "completed"
    },
    "tags": []
   },
   "source": [
    "Let's use a Nadam optimizer with a learning rate of 5e-5. I tried learning rates 1e-5, 3e-5, 1e-4, 3e-4, 1e-3, 3e-3 and 1e-2, and I compared their learning curves for 10 epochs each (using the TensorBoard callback, below). The learning rates 3e-5 and 1e-4 were pretty good, so I tried 5e-5, which turned out to be slightly better."
   ]
  },
  {
   "cell_type": "code",
   "execution_count": 119,
   "id": "46cb7552",
   "metadata": {
    "execution": {
     "iopub.execute_input": "2022-12-04T15:52:02.739435Z",
     "iopub.status.busy": "2022-12-04T15:52:02.738994Z",
     "iopub.status.idle": "2022-12-04T15:52:02.750409Z",
     "shell.execute_reply": "2022-12-04T15:52:02.749364Z"
    },
    "papermill": {
     "duration": 2.520346,
     "end_time": "2022-12-04T15:52:02.752703",
     "exception": false,
     "start_time": "2022-12-04T15:52:00.232357",
     "status": "completed"
    },
    "tags": []
   },
   "outputs": [],
   "source": [
    "optimizer = tf.keras.optimizers.Nadam(learning_rate=5e-5)\n",
    "model.compile(loss=\"sparse_categorical_crossentropy\",\n",
    "              optimizer=optimizer,\n",
    "              metrics=[\"accuracy\"])"
   ]
  },
  {
   "cell_type": "markdown",
   "id": "8af384d9",
   "metadata": {
    "papermill": {
     "duration": 2.596068,
     "end_time": "2022-12-04T15:52:07.857218",
     "exception": false,
     "start_time": "2022-12-04T15:52:05.261150",
     "status": "completed"
    },
    "tags": []
   },
   "source": [
    "Let's load the CIFAR10 dataset. We also want to use early stopping, so we need a validation set. Let's use the first 5,000 images of the original training set as the validation set:"
   ]
  },
  {
   "cell_type": "code",
   "execution_count": 120,
   "id": "3efb3990",
   "metadata": {
    "execution": {
     "iopub.execute_input": "2022-12-04T15:52:12.871505Z",
     "iopub.status.busy": "2022-12-04T15:52:12.870848Z",
     "iopub.status.idle": "2022-12-04T15:52:26.554470Z",
     "shell.execute_reply": "2022-12-04T15:52:26.553261Z"
    },
    "papermill": {
     "duration": 16.185408,
     "end_time": "2022-12-04T15:52:26.557465",
     "exception": false,
     "start_time": "2022-12-04T15:52:10.372057",
     "status": "completed"
    },
    "tags": []
   },
   "outputs": [
    {
     "name": "stdout",
     "output_type": "stream",
     "text": [
      "Downloading data from https://www.cs.toronto.edu/~kriz/cifar-10-python.tar.gz\n",
      "170500096/170498071 [==============================] - 11s 0us/step\n",
      "170508288/170498071 [==============================] - 11s 0us/step\n"
     ]
    }
   ],
   "source": [
    "cifar10 = tf.keras.datasets.cifar10.load_data()\n",
    "(X_train_full, y_train_full), (X_test, y_test) = cifar10\n",
    "\n",
    "X_train = X_train_full[5000:]\n",
    "y_train = y_train_full[5000:]\n",
    "X_valid = X_train_full[:5000]\n",
    "y_valid = y_train_full[:5000]"
   ]
  },
  {
   "cell_type": "markdown",
   "id": "420d6e50",
   "metadata": {
    "papermill": {
     "duration": 2.574897,
     "end_time": "2022-12-04T15:52:31.660110",
     "exception": false,
     "start_time": "2022-12-04T15:52:29.085213",
     "status": "completed"
    },
    "tags": []
   },
   "source": [
    "Now we can create the callbacks we need and train the model:"
   ]
  },
  {
   "cell_type": "code",
   "execution_count": 121,
   "id": "288280b1",
   "metadata": {
    "execution": {
     "iopub.execute_input": "2022-12-04T15:52:36.707230Z",
     "iopub.status.busy": "2022-12-04T15:52:36.706794Z",
     "iopub.status.idle": "2022-12-04T15:52:36.718779Z",
     "shell.execute_reply": "2022-12-04T15:52:36.717728Z"
    },
    "papermill": {
     "duration": 2.543768,
     "end_time": "2022-12-04T15:52:36.721346",
     "exception": false,
     "start_time": "2022-12-04T15:52:34.177578",
     "status": "completed"
    },
    "tags": []
   },
   "outputs": [
    {
     "name": "stderr",
     "output_type": "stream",
     "text": [
      "2022-12-04 15:52:36.713174: I tensorflow/core/profiler/lib/profiler_session.cc:131] Profiler session initializing.\n",
      "2022-12-04 15:52:36.713938: I tensorflow/core/profiler/lib/profiler_session.cc:146] Profiler session started.\n",
      "2022-12-04 15:52:36.714970: I tensorflow/core/profiler/lib/profiler_session.cc:164] Profiler session tear down.\n"
     ]
    }
   ],
   "source": [
    "early_stopping_cb = tf.keras.callbacks.EarlyStopping(patience=20,\n",
    "                                                     restore_best_weights=True)\n",
    "model_checkpoint_cb = tf.keras.callbacks.ModelCheckpoint(\"my_cifar10_model\",\n",
    "                                                         save_best_only=True)\n",
    "run_index = 1 # increment every time you train the model\n",
    "run_logdir = Path() / \"my_cifar10_logs\" / f\"run_{run_index:03d}\"\n",
    "tensorboard_cb = tf.keras.callbacks.TensorBoard(run_logdir)\n",
    "callbacks = [early_stopping_cb, model_checkpoint_cb, tensorboard_cb]"
   ]
  },
  {
   "cell_type": "code",
   "execution_count": 122,
   "id": "20884928",
   "metadata": {
    "execution": {
     "iopub.execute_input": "2022-12-04T15:52:41.891449Z",
     "iopub.status.busy": "2022-12-04T15:52:41.890834Z",
     "iopub.status.idle": "2022-12-04T15:52:47.004315Z",
     "shell.execute_reply": "2022-12-04T15:52:47.002440Z"
    },
    "papermill": {
     "duration": 7.752282,
     "end_time": "2022-12-04T15:52:47.007270",
     "exception": false,
     "start_time": "2022-12-04T15:52:39.254988",
     "status": "completed"
    },
    "tags": []
   },
   "outputs": [
    {
     "data": {
      "text/html": [
       "\n",
       "      <iframe id=\"tensorboard-frame-58e6d17c5f57485f\" width=\"100%\" height=\"800\" frameborder=\"0\">\n",
       "      </iframe>\n",
       "      <script>\n",
       "        (function() {\n",
       "          const frame = document.getElementById(\"tensorboard-frame-58e6d17c5f57485f\");\n",
       "          const url = new URL(\"/\", window.location);\n",
       "          const port = 6006;\n",
       "          if (port) {\n",
       "            url.port = port;\n",
       "          }\n",
       "          frame.src = url;\n",
       "        })();\n",
       "      </script>\n",
       "    "
      ],
      "text/plain": [
       "<IPython.core.display.HTML object>"
      ]
     },
     "metadata": {},
     "output_type": "display_data"
    }
   ],
   "source": [
    "%load_ext tensorboard\n",
    "%tensorboard --logdir=./my_cifar10_logs"
   ]
  },
  {
   "cell_type": "code",
   "execution_count": 123,
   "id": "275a16d8",
   "metadata": {
    "execution": {
     "iopub.execute_input": "2022-12-04T15:52:52.253469Z",
     "iopub.status.busy": "2022-12-04T15:52:52.252545Z",
     "iopub.status.idle": "2022-12-04T16:16:03.468128Z",
     "shell.execute_reply": "2022-12-04T16:16:03.467147Z"
    },
    "papermill": {
     "duration": 1393.897622,
     "end_time": "2022-12-04T16:16:03.470735",
     "exception": false,
     "start_time": "2022-12-04T15:52:49.573113",
     "status": "completed"
    },
    "tags": []
   },
   "outputs": [
    {
     "name": "stdout",
     "output_type": "stream",
     "text": [
      "Epoch 1/100\n",
      "   3/1407 [..............................] - ETA: 3:04 - loss: 119.1405 - accuracy: 0.1042"
     ]
    },
    {
     "name": "stderr",
     "output_type": "stream",
     "text": [
      "2022-12-04 15:52:57.884253: I tensorflow/core/profiler/lib/profiler_session.cc:131] Profiler session initializing.\n",
      "2022-12-04 15:52:57.884461: I tensorflow/core/profiler/lib/profiler_session.cc:146] Profiler session started.\n",
      "2022-12-04 15:52:57.905404: I tensorflow/core/profiler/lib/profiler_session.cc:66] Profiler session collecting data.\n",
      "2022-12-04 15:52:57.919983: I tensorflow/core/profiler/lib/profiler_session.cc:164] Profiler session tear down.\n",
      "2022-12-04 15:52:57.947535: I tensorflow/core/profiler/rpc/client/save_profile.cc:136] Creating directory: my_cifar10_logs/run_001/train/plugins/profile/2022_12_04_15_52_57\n",
      "\n",
      "2022-12-04 15:52:57.955501: I tensorflow/core/profiler/rpc/client/save_profile.cc:142] Dumped gzipped tool data for trace.json.gz to my_cifar10_logs/run_001/train/plugins/profile/2022_12_04_15_52_57/a99fb9597516.trace.json.gz\n",
      "2022-12-04 15:52:58.001041: I tensorflow/core/profiler/rpc/client/save_profile.cc:136] Creating directory: my_cifar10_logs/run_001/train/plugins/profile/2022_12_04_15_52_57\n",
      "\n",
      "2022-12-04 15:52:58.008405: I tensorflow/core/profiler/rpc/client/save_profile.cc:142] Dumped gzipped tool data for memory_profile.json.gz to my_cifar10_logs/run_001/train/plugins/profile/2022_12_04_15_52_57/a99fb9597516.memory_profile.json.gz\n",
      "2022-12-04 15:52:58.011209: I tensorflow/core/profiler/rpc/client/capture_profile.cc:251] Creating directory: my_cifar10_logs/run_001/train/plugins/profile/2022_12_04_15_52_57\n",
      "Dumped tool data for xplane.pb to my_cifar10_logs/run_001/train/plugins/profile/2022_12_04_15_52_57/a99fb9597516.xplane.pb\n",
      "Dumped tool data for overview_page.pb to my_cifar10_logs/run_001/train/plugins/profile/2022_12_04_15_52_57/a99fb9597516.overview_page.pb\n",
      "Dumped tool data for input_pipeline.pb to my_cifar10_logs/run_001/train/plugins/profile/2022_12_04_15_52_57/a99fb9597516.input_pipeline.pb\n",
      "Dumped tool data for tensorflow_stats.pb to my_cifar10_logs/run_001/train/plugins/profile/2022_12_04_15_52_57/a99fb9597516.tensorflow_stats.pb\n",
      "Dumped tool data for kernel_stats.pb to my_cifar10_logs/run_001/train/plugins/profile/2022_12_04_15_52_57/a99fb9597516.kernel_stats.pb\n",
      "\n"
     ]
    },
    {
     "name": "stdout",
     "output_type": "stream",
     "text": [
      "1407/1407 [==============================] - 29s 17ms/step - loss: 3.9770 - accuracy: 0.1589 - val_loss: 2.1294 - val_accuracy: 0.2176\n",
      "Epoch 2/100\n",
      "1407/1407 [==============================] - 23s 16ms/step - loss: 2.0659 - accuracy: 0.2342 - val_loss: 2.1051 - val_accuracy: 0.2206\n",
      "Epoch 3/100\n",
      "1407/1407 [==============================] - 24s 17ms/step - loss: 1.9469 - accuracy: 0.2870 - val_loss: 1.9443 - val_accuracy: 0.2910\n",
      "Epoch 4/100\n",
      "1407/1407 [==============================] - 24s 17ms/step - loss: 1.8658 - accuracy: 0.3223 - val_loss: 1.9538 - val_accuracy: 0.3168\n",
      "Epoch 5/100\n",
      "1407/1407 [==============================] - 23s 17ms/step - loss: 1.8037 - accuracy: 0.3487 - val_loss: 1.8260 - val_accuracy: 0.3360\n",
      "Epoch 6/100\n",
      "1407/1407 [==============================] - 23s 16ms/step - loss: 1.7499 - accuracy: 0.3692 - val_loss: 1.7528 - val_accuracy: 0.3628\n",
      "Epoch 7/100\n",
      "1407/1407 [==============================] - 23s 16ms/step - loss: 1.7051 - accuracy: 0.3838 - val_loss: 1.6970 - val_accuracy: 0.3898\n",
      "Epoch 8/100\n",
      "1407/1407 [==============================] - 24s 17ms/step - loss: 1.6702 - accuracy: 0.4008 - val_loss: 1.6716 - val_accuracy: 0.4036\n",
      "Epoch 9/100\n",
      "1407/1407 [==============================] - 24s 17ms/step - loss: 1.6369 - accuracy: 0.4125 - val_loss: 1.6530 - val_accuracy: 0.4042\n",
      "Epoch 10/100\n",
      "1407/1407 [==============================] - 23s 16ms/step - loss: 1.6140 - accuracy: 0.4196 - val_loss: 1.6483 - val_accuracy: 0.3986\n",
      "Epoch 11/100\n",
      "1407/1407 [==============================] - 24s 17ms/step - loss: 1.5890 - accuracy: 0.4301 - val_loss: 1.6488 - val_accuracy: 0.4028\n",
      "Epoch 12/100\n",
      "1407/1407 [==============================] - 23s 16ms/step - loss: 1.5686 - accuracy: 0.4358 - val_loss: 1.6293 - val_accuracy: 0.4142\n",
      "Epoch 13/100\n",
      "1407/1407 [==============================] - 22s 16ms/step - loss: 1.5464 - accuracy: 0.4454 - val_loss: 1.6337 - val_accuracy: 0.4174\n",
      "Epoch 14/100\n",
      "1407/1407 [==============================] - 23s 16ms/step - loss: 1.5323 - accuracy: 0.4497 - val_loss: 1.6057 - val_accuracy: 0.4220\n",
      "Epoch 15/100\n",
      "1407/1407 [==============================] - 22s 16ms/step - loss: 1.5153 - accuracy: 0.4594 - val_loss: 1.5802 - val_accuracy: 0.4330\n",
      "Epoch 16/100\n",
      "1407/1407 [==============================] - 22s 16ms/step - loss: 1.4990 - accuracy: 0.4628 - val_loss: 1.5705 - val_accuracy: 0.4340\n",
      "Epoch 17/100\n",
      "1407/1407 [==============================] - 23s 17ms/step - loss: 1.4860 - accuracy: 0.4648 - val_loss: 1.5829 - val_accuracy: 0.4358\n",
      "Epoch 18/100\n",
      "1407/1407 [==============================] - 24s 17ms/step - loss: 1.4710 - accuracy: 0.4717 - val_loss: 1.5700 - val_accuracy: 0.4458\n",
      "Epoch 19/100\n",
      "1407/1407 [==============================] - 24s 17ms/step - loss: 1.4602 - accuracy: 0.4768 - val_loss: 1.5372 - val_accuracy: 0.4480\n",
      "Epoch 20/100\n",
      "1407/1407 [==============================] - 24s 17ms/step - loss: 1.4455 - accuracy: 0.4816 - val_loss: 1.5396 - val_accuracy: 0.4540\n",
      "Epoch 21/100\n",
      "1407/1407 [==============================] - 23s 16ms/step - loss: 1.4329 - accuracy: 0.4844 - val_loss: 1.5725 - val_accuracy: 0.4384\n",
      "Epoch 22/100\n",
      "1407/1407 [==============================] - 23s 17ms/step - loss: 1.4234 - accuracy: 0.4877 - val_loss: 1.5460 - val_accuracy: 0.4458\n",
      "Epoch 23/100\n",
      "1407/1407 [==============================] - 23s 16ms/step - loss: 1.4110 - accuracy: 0.4965 - val_loss: 1.5688 - val_accuracy: 0.4326\n",
      "Epoch 24/100\n",
      "1407/1407 [==============================] - 23s 16ms/step - loss: 1.4008 - accuracy: 0.4955 - val_loss: 1.5266 - val_accuracy: 0.4586\n",
      "Epoch 25/100\n",
      "1407/1407 [==============================] - 23s 16ms/step - loss: 1.3928 - accuracy: 0.4997 - val_loss: 1.5378 - val_accuracy: 0.4552\n",
      "Epoch 26/100\n",
      "1407/1407 [==============================] - 23s 16ms/step - loss: 1.3814 - accuracy: 0.5007 - val_loss: 1.5675 - val_accuracy: 0.4406\n",
      "Epoch 27/100\n",
      "1407/1407 [==============================] - 21s 15ms/step - loss: 1.3695 - accuracy: 0.5071 - val_loss: 1.5150 - val_accuracy: 0.4712\n",
      "Epoch 28/100\n",
      "1407/1407 [==============================] - 23s 17ms/step - loss: 1.3630 - accuracy: 0.5102 - val_loss: 1.5113 - val_accuracy: 0.4628\n",
      "Epoch 29/100\n",
      "1407/1407 [==============================] - 23s 16ms/step - loss: 1.3532 - accuracy: 0.5138 - val_loss: 1.5389 - val_accuracy: 0.4542\n",
      "Epoch 30/100\n",
      "1407/1407 [==============================] - 22s 16ms/step - loss: 1.3430 - accuracy: 0.5195 - val_loss: 1.5417 - val_accuracy: 0.4562\n",
      "Epoch 31/100\n",
      "1407/1407 [==============================] - 22s 16ms/step - loss: 1.3364 - accuracy: 0.5204 - val_loss: 1.5398 - val_accuracy: 0.4564\n",
      "Epoch 32/100\n",
      "1407/1407 [==============================] - 23s 16ms/step - loss: 1.3258 - accuracy: 0.5237 - val_loss: 1.5197 - val_accuracy: 0.4682\n",
      "Epoch 33/100\n",
      "1407/1407 [==============================] - 22s 16ms/step - loss: 1.3195 - accuracy: 0.5240 - val_loss: 1.5801 - val_accuracy: 0.4482\n",
      "Epoch 34/100\n",
      "1407/1407 [==============================] - 22s 16ms/step - loss: 1.3141 - accuracy: 0.5256 - val_loss: 1.5508 - val_accuracy: 0.4596\n",
      "Epoch 35/100\n",
      "1407/1407 [==============================] - 22s 16ms/step - loss: 1.2998 - accuracy: 0.5319 - val_loss: 1.5466 - val_accuracy: 0.4484\n",
      "Epoch 36/100\n",
      "1407/1407 [==============================] - 23s 16ms/step - loss: 1.2959 - accuracy: 0.5328 - val_loss: 1.5136 - val_accuracy: 0.4586\n",
      "Epoch 37/100\n",
      "1407/1407 [==============================] - 24s 17ms/step - loss: 1.2850 - accuracy: 0.5383 - val_loss: 1.4894 - val_accuracy: 0.4782\n",
      "Epoch 38/100\n",
      "1407/1407 [==============================] - 23s 16ms/step - loss: 1.2780 - accuracy: 0.5390 - val_loss: 1.5085 - val_accuracy: 0.4684\n",
      "Epoch 39/100\n",
      "1407/1407 [==============================] - 24s 17ms/step - loss: 1.2685 - accuracy: 0.5425 - val_loss: 1.5199 - val_accuracy: 0.4592\n",
      "Epoch 40/100\n",
      "1407/1407 [==============================] - 24s 17ms/step - loss: 1.2609 - accuracy: 0.5449 - val_loss: 1.5448 - val_accuracy: 0.4666\n",
      "Epoch 41/100\n",
      "1407/1407 [==============================] - 23s 17ms/step - loss: 1.2553 - accuracy: 0.5508 - val_loss: 1.5052 - val_accuracy: 0.4790\n",
      "Epoch 42/100\n",
      "1407/1407 [==============================] - 23s 16ms/step - loss: 1.2471 - accuracy: 0.5525 - val_loss: 1.5329 - val_accuracy: 0.4618\n",
      "Epoch 43/100\n",
      "1407/1407 [==============================] - 23s 17ms/step - loss: 1.2404 - accuracy: 0.5541 - val_loss: 1.5308 - val_accuracy: 0.4608\n",
      "Epoch 44/100\n",
      "1407/1407 [==============================] - 23s 16ms/step - loss: 1.2317 - accuracy: 0.5566 - val_loss: 1.5676 - val_accuracy: 0.4594\n",
      "Epoch 45/100\n",
      "1407/1407 [==============================] - 23s 17ms/step - loss: 1.2237 - accuracy: 0.5599 - val_loss: 1.5359 - val_accuracy: 0.4720\n",
      "Epoch 46/100\n",
      "1407/1407 [==============================] - 23s 16ms/step - loss: 1.2206 - accuracy: 0.5601 - val_loss: 1.5265 - val_accuracy: 0.4742\n",
      "Epoch 47/100\n",
      "1407/1407 [==============================] - 23s 16ms/step - loss: 1.2120 - accuracy: 0.5638 - val_loss: 1.5102 - val_accuracy: 0.4740\n",
      "Epoch 48/100\n",
      "1407/1407 [==============================] - 23s 17ms/step - loss: 1.2030 - accuracy: 0.5677 - val_loss: 1.5210 - val_accuracy: 0.4716\n",
      "Epoch 49/100\n",
      "1407/1407 [==============================] - 24s 17ms/step - loss: 1.1936 - accuracy: 0.5709 - val_loss: 1.5164 - val_accuracy: 0.4774\n",
      "Epoch 50/100\n",
      "1407/1407 [==============================] - 22s 16ms/step - loss: 1.1854 - accuracy: 0.5726 - val_loss: 1.5214 - val_accuracy: 0.4740\n",
      "Epoch 51/100\n",
      "1407/1407 [==============================] - 24s 17ms/step - loss: 1.1822 - accuracy: 0.5732 - val_loss: 1.5595 - val_accuracy: 0.4752\n",
      "Epoch 52/100\n",
      "1407/1407 [==============================] - 23s 16ms/step - loss: 1.1761 - accuracy: 0.5756 - val_loss: 1.5368 - val_accuracy: 0.4782\n",
      "Epoch 53/100\n",
      "1407/1407 [==============================] - 22s 16ms/step - loss: 1.1675 - accuracy: 0.5796 - val_loss: 1.5543 - val_accuracy: 0.4626\n",
      "Epoch 54/100\n",
      "1407/1407 [==============================] - 23s 16ms/step - loss: 1.1608 - accuracy: 0.5826 - val_loss: 1.6096 - val_accuracy: 0.4630\n",
      "Epoch 55/100\n",
      "1407/1407 [==============================] - 23s 16ms/step - loss: 1.1571 - accuracy: 0.5832 - val_loss: 1.5394 - val_accuracy: 0.4778\n",
      "Epoch 56/100\n",
      "1407/1407 [==============================] - 23s 16ms/step - loss: 1.1475 - accuracy: 0.5865 - val_loss: 1.6000 - val_accuracy: 0.4632\n",
      "Epoch 57/100\n",
      "1407/1407 [==============================] - 23s 17ms/step - loss: 1.1438 - accuracy: 0.5887 - val_loss: 1.5408 - val_accuracy: 0.4748\n"
     ]
    },
    {
     "data": {
      "text/plain": [
       "<keras.callbacks.History at 0x7f6a4d4e88d0>"
      ]
     },
     "execution_count": 123,
     "metadata": {},
     "output_type": "execute_result"
    }
   ],
   "source": [
    "model.fit(X_train, y_train, epochs=100,\n",
    "          validation_data=(X_valid, y_valid),\n",
    "          callbacks=callbacks)"
   ]
  },
  {
   "cell_type": "code",
   "execution_count": 124,
   "id": "b71a859e",
   "metadata": {
    "execution": {
     "iopub.execute_input": "2022-12-04T16:16:11.638499Z",
     "iopub.status.busy": "2022-12-04T16:16:11.638106Z",
     "iopub.status.idle": "2022-12-04T16:16:12.637820Z",
     "shell.execute_reply": "2022-12-04T16:16:12.636811Z"
    },
    "papermill": {
     "duration": 5.227996,
     "end_time": "2022-12-04T16:16:12.640554",
     "exception": false,
     "start_time": "2022-12-04T16:16:07.412558",
     "status": "completed"
    },
    "tags": []
   },
   "outputs": [
    {
     "name": "stdout",
     "output_type": "stream",
     "text": [
      "157/157 [==============================] - 1s 5ms/step - loss: 1.4894 - accuracy: 0.4782\n"
     ]
    },
    {
     "data": {
      "text/plain": [
       "[1.4893600940704346, 0.4781999886035919]"
      ]
     },
     "execution_count": 124,
     "metadata": {},
     "output_type": "execute_result"
    }
   ],
   "source": [
    "model.evaluate(X_valid, y_valid)"
   ]
  },
  {
   "cell_type": "markdown",
   "id": "4f25e3d3",
   "metadata": {
    "papermill": {
     "duration": 4.018461,
     "end_time": "2022-12-04T16:16:20.603678",
     "exception": false,
     "start_time": "2022-12-04T16:16:16.585217",
     "status": "completed"
    },
    "tags": []
   },
   "source": [
    "The model with the lowest validation loss gets about 46.8% accuracy on the validation set. It took 29 epochs to reach the lowest validation loss, with roughly 10 seconds per epoch on my laptop (without a GPU). Let's see if we can improve the model using Batch Normalization."
   ]
  },
  {
   "cell_type": "markdown",
   "id": "d09f773d",
   "metadata": {
    "papermill": {
     "duration": 3.923323,
     "end_time": "2022-12-04T16:16:28.573438",
     "exception": false,
     "start_time": "2022-12-04T16:16:24.650115",
     "status": "completed"
    },
    "tags": []
   },
   "source": [
    "### c.\n",
    "*Exercise: Now try adding Batch Normalization and compare the learning curves: Is it converging faster than before? Does it produce a better model? How does it affect training speed?*"
   ]
  },
  {
   "cell_type": "markdown",
   "id": "7cfdd58b",
   "metadata": {
    "papermill": {
     "duration": 4.028496,
     "end_time": "2022-12-04T16:16:36.643933",
     "exception": false,
     "start_time": "2022-12-04T16:16:32.615437",
     "status": "completed"
    },
    "tags": []
   },
   "source": [
    "The code below is very similar to the code above, with a few changes:\n",
    "\n",
    "* I added a BN layer after every Dense layer (before the activation function), except for the output layer.\n",
    "* I changed the learning rate to 5e-4. I experimented with 1e-5, 3e-5, 5e-5, 1e-4, 3e-4, 5e-4, 1e-3 and 3e-3, and I chose the one with the best validation performance after 20 epochs.\n",
    "* I renamed the run directories to run_bn_* and the model file name to `my_cifar10_bn_model`."
   ]
  },
  {
   "cell_type": "code",
   "execution_count": 125,
   "id": "65cb8c1a",
   "metadata": {
    "execution": {
     "iopub.execute_input": "2022-12-04T16:16:44.897789Z",
     "iopub.status.busy": "2022-12-04T16:16:44.897346Z",
     "iopub.status.idle": "2022-12-04T16:37:27.598921Z",
     "shell.execute_reply": "2022-12-04T16:37:27.597594Z"
    },
    "papermill": {
     "duration": 1246.846553,
     "end_time": "2022-12-04T16:37:27.601556",
     "exception": false,
     "start_time": "2022-12-04T16:16:40.755003",
     "status": "completed"
    },
    "tags": []
   },
   "outputs": [
    {
     "name": "stderr",
     "output_type": "stream",
     "text": [
      "2022-12-04 16:16:45.631462: I tensorflow/core/profiler/lib/profiler_session.cc:131] Profiler session initializing.\n",
      "2022-12-04 16:16:45.631527: I tensorflow/core/profiler/lib/profiler_session.cc:146] Profiler session started.\n",
      "2022-12-04 16:16:45.631756: I tensorflow/core/profiler/lib/profiler_session.cc:164] Profiler session tear down.\n"
     ]
    },
    {
     "name": "stdout",
     "output_type": "stream",
     "text": [
      "Epoch 1/100\n",
      "   2/1407 [..............................] - ETA: 7:40 - loss: 2.4328 - accuracy: 0.0938   "
     ]
    },
    {
     "name": "stderr",
     "output_type": "stream",
     "text": [
      "2022-12-04 16:16:59.677541: I tensorflow/core/profiler/lib/profiler_session.cc:131] Profiler session initializing.\n",
      "2022-12-04 16:16:59.677733: I tensorflow/core/profiler/lib/profiler_session.cc:146] Profiler session started.\n",
      "2022-12-04 16:17:00.291851: I tensorflow/core/profiler/lib/profiler_session.cc:66] Profiler session collecting data.\n",
      "2022-12-04 16:17:00.330891: I tensorflow/core/profiler/lib/profiler_session.cc:164] Profiler session tear down.\n",
      "2022-12-04 16:17:00.375762: I tensorflow/core/profiler/rpc/client/save_profile.cc:136] Creating directory: my_cifar10_logs/run_bn_001/train/plugins/profile/2022_12_04_16_17_00\n",
      "\n",
      "2022-12-04 16:17:00.393838: I tensorflow/core/profiler/rpc/client/save_profile.cc:142] Dumped gzipped tool data for trace.json.gz to my_cifar10_logs/run_bn_001/train/plugins/profile/2022_12_04_16_17_00/a99fb9597516.trace.json.gz\n",
      "2022-12-04 16:17:00.473070: I tensorflow/core/profiler/rpc/client/save_profile.cc:136] Creating directory: my_cifar10_logs/run_bn_001/train/plugins/profile/2022_12_04_16_17_00\n",
      "\n",
      "2022-12-04 16:17:00.480476: I tensorflow/core/profiler/rpc/client/save_profile.cc:142] Dumped gzipped tool data for memory_profile.json.gz to my_cifar10_logs/run_bn_001/train/plugins/profile/2022_12_04_16_17_00/a99fb9597516.memory_profile.json.gz\n",
      "2022-12-04 16:17:00.487426: I tensorflow/core/profiler/rpc/client/capture_profile.cc:251] Creating directory: my_cifar10_logs/run_bn_001/train/plugins/profile/2022_12_04_16_17_00\n",
      "Dumped tool data for xplane.pb to my_cifar10_logs/run_bn_001/train/plugins/profile/2022_12_04_16_17_00/a99fb9597516.xplane.pb\n",
      "Dumped tool data for overview_page.pb to my_cifar10_logs/run_bn_001/train/plugins/profile/2022_12_04_16_17_00/a99fb9597516.overview_page.pb\n",
      "Dumped tool data for input_pipeline.pb to my_cifar10_logs/run_bn_001/train/plugins/profile/2022_12_04_16_17_00/a99fb9597516.input_pipeline.pb\n",
      "Dumped tool data for tensorflow_stats.pb to my_cifar10_logs/run_bn_001/train/plugins/profile/2022_12_04_16_17_00/a99fb9597516.tensorflow_stats.pb\n",
      "Dumped tool data for kernel_stats.pb to my_cifar10_logs/run_bn_001/train/plugins/profile/2022_12_04_16_17_00/a99fb9597516.kernel_stats.pb\n",
      "\n"
     ]
    },
    {
     "name": "stdout",
     "output_type": "stream",
     "text": [
      "1407/1407 [==============================] - 48s 25ms/step - loss: 2.0694 - accuracy: 0.2345 - val_loss: 1.9077 - val_accuracy: 0.3002\n",
      "Epoch 2/100\n",
      "1407/1407 [==============================] - 33s 24ms/step - loss: 1.8044 - accuracy: 0.3476 - val_loss: 2.0019 - val_accuracy: 0.2950\n",
      "Epoch 3/100\n",
      "1407/1407 [==============================] - 34s 24ms/step - loss: 1.6953 - accuracy: 0.3927 - val_loss: 1.8206 - val_accuracy: 0.3532\n",
      "Epoch 4/100\n",
      "1407/1407 [==============================] - 34s 24ms/step - loss: 1.6262 - accuracy: 0.4207 - val_loss: 1.6756 - val_accuracy: 0.4018\n",
      "Epoch 5/100\n",
      "1407/1407 [==============================] - 35s 25ms/step - loss: 1.5627 - accuracy: 0.4469 - val_loss: 1.6751 - val_accuracy: 0.3952\n",
      "Epoch 6/100\n",
      "1407/1407 [==============================] - 34s 25ms/step - loss: 1.5128 - accuracy: 0.4634 - val_loss: 1.5920 - val_accuracy: 0.4278\n",
      "Epoch 7/100\n",
      "1407/1407 [==============================] - 34s 24ms/step - loss: 1.4670 - accuracy: 0.4775 - val_loss: 1.5891 - val_accuracy: 0.4276\n",
      "Epoch 8/100\n",
      "1407/1407 [==============================] - 33s 24ms/step - loss: 1.4285 - accuracy: 0.4940 - val_loss: 1.5992 - val_accuracy: 0.4310\n",
      "Epoch 9/100\n",
      "1407/1407 [==============================] - 33s 23ms/step - loss: 1.3965 - accuracy: 0.5024 - val_loss: 1.5381 - val_accuracy: 0.4552\n",
      "Epoch 10/100\n",
      "1407/1407 [==============================] - 33s 23ms/step - loss: 1.3629 - accuracy: 0.5160 - val_loss: 1.5691 - val_accuracy: 0.4484\n",
      "Epoch 11/100\n",
      "1407/1407 [==============================] - 31s 22ms/step - loss: 1.3341 - accuracy: 0.5253 - val_loss: 1.5428 - val_accuracy: 0.4550\n",
      "Epoch 12/100\n",
      "1407/1407 [==============================] - 33s 23ms/step - loss: 1.3060 - accuracy: 0.5374 - val_loss: 1.7125 - val_accuracy: 0.4046\n",
      "Epoch 13/100\n",
      "1407/1407 [==============================] - 33s 23ms/step - loss: 1.2813 - accuracy: 0.5478 - val_loss: 1.5204 - val_accuracy: 0.4648\n",
      "Epoch 14/100\n",
      "1407/1407 [==============================] - 31s 22ms/step - loss: 1.2566 - accuracy: 0.5579 - val_loss: 1.4151 - val_accuracy: 0.5048\n",
      "Epoch 15/100\n",
      "1407/1407 [==============================] - 31s 22ms/step - loss: 1.2350 - accuracy: 0.5627 - val_loss: 1.5894 - val_accuracy: 0.4648\n",
      "Epoch 16/100\n",
      "1407/1407 [==============================] - 32s 23ms/step - loss: 1.2133 - accuracy: 0.5702 - val_loss: 1.4993 - val_accuracy: 0.4796\n",
      "Epoch 17/100\n",
      "1407/1407 [==============================] - 32s 23ms/step - loss: 1.1948 - accuracy: 0.5764 - val_loss: 1.5457 - val_accuracy: 0.4754\n",
      "Epoch 18/100\n",
      "1407/1407 [==============================] - 32s 23ms/step - loss: 1.1732 - accuracy: 0.5864 - val_loss: 1.6794 - val_accuracy: 0.4412\n",
      "Epoch 19/100\n",
      "1407/1407 [==============================] - 32s 23ms/step - loss: 1.1605 - accuracy: 0.5928 - val_loss: 1.5622 - val_accuracy: 0.4634\n",
      "Epoch 20/100\n",
      "1407/1407 [==============================] - 31s 22ms/step - loss: 1.1396 - accuracy: 0.6009 - val_loss: 1.4854 - val_accuracy: 0.4832\n",
      "Epoch 21/100\n",
      "1407/1407 [==============================] - 32s 23ms/step - loss: 1.1236 - accuracy: 0.6058 - val_loss: 1.4829 - val_accuracy: 0.4936\n",
      "Epoch 22/100\n",
      "1407/1407 [==============================] - 31s 22ms/step - loss: 1.1045 - accuracy: 0.6100 - val_loss: 1.4361 - val_accuracy: 0.5074\n",
      "Epoch 23/100\n",
      "1407/1407 [==============================] - 32s 22ms/step - loss: 1.0949 - accuracy: 0.6162 - val_loss: 1.4666 - val_accuracy: 0.4994\n",
      "Epoch 24/100\n",
      "1407/1407 [==============================] - 32s 23ms/step - loss: 1.0747 - accuracy: 0.6217 - val_loss: 1.5757 - val_accuracy: 0.4816\n",
      "Epoch 25/100\n",
      "1407/1407 [==============================] - 32s 22ms/step - loss: 1.0620 - accuracy: 0.6250 - val_loss: 1.6271 - val_accuracy: 0.4604\n",
      "Epoch 26/100\n",
      "1407/1407 [==============================] - 33s 24ms/step - loss: 1.0465 - accuracy: 0.6306 - val_loss: 1.5333 - val_accuracy: 0.4840\n",
      "Epoch 27/100\n",
      "1407/1407 [==============================] - 33s 23ms/step - loss: 1.0266 - accuracy: 0.6393 - val_loss: 1.4231 - val_accuracy: 0.5178\n",
      "Epoch 28/100\n",
      "1407/1407 [==============================] - 35s 25ms/step - loss: 1.0233 - accuracy: 0.6404 - val_loss: 1.4790 - val_accuracy: 0.5074\n",
      "Epoch 29/100\n",
      "1407/1407 [==============================] - 33s 24ms/step - loss: 1.0112 - accuracy: 0.6439 - val_loss: 1.5399 - val_accuracy: 0.4934\n",
      "Epoch 30/100\n",
      "1407/1407 [==============================] - 35s 25ms/step - loss: 1.0018 - accuracy: 0.6468 - val_loss: 1.4899 - val_accuracy: 0.4978\n",
      "Epoch 31/100\n",
      "1407/1407 [==============================] - 33s 23ms/step - loss: 0.9877 - accuracy: 0.6549 - val_loss: 1.5501 - val_accuracy: 0.4914\n",
      "Epoch 32/100\n",
      "1407/1407 [==============================] - 33s 24ms/step - loss: 0.9720 - accuracy: 0.6590 - val_loss: 1.7365 - val_accuracy: 0.4570\n",
      "Epoch 33/100\n",
      "1407/1407 [==============================] - 32s 23ms/step - loss: 0.9642 - accuracy: 0.6590 - val_loss: 1.5731 - val_accuracy: 0.4926\n",
      "Epoch 34/100\n",
      "1407/1407 [==============================] - 33s 24ms/step - loss: 0.9539 - accuracy: 0.6652 - val_loss: 1.5616 - val_accuracy: 0.4896\n",
      "157/157 [==============================] - 1s 7ms/step - loss: 1.4151 - accuracy: 0.5048\n"
     ]
    },
    {
     "data": {
      "text/plain": [
       "[1.4150547981262207, 0.504800021648407]"
      ]
     },
     "execution_count": 125,
     "metadata": {},
     "output_type": "execute_result"
    }
   ],
   "source": [
    "tf.random.set_seed(42)\n",
    "\n",
    "model = tf.keras.Sequential()\n",
    "model.add(tf.keras.layers.Flatten(input_shape=[32, 32, 3]))\n",
    "for _ in range(20):\n",
    "    model.add(tf.keras.layers.Dense(100, kernel_initializer=\"he_normal\"))\n",
    "    model.add(tf.keras.layers.BatchNormalization())\n",
    "    model.add(tf.keras.layers.Activation(\"swish\"))\n",
    "\n",
    "model.add(tf.keras.layers.Dense(10, activation=\"softmax\"))\n",
    "\n",
    "optimizer = tf.keras.optimizers.Nadam(learning_rate=5e-4)\n",
    "model.compile(loss=\"sparse_categorical_crossentropy\",\n",
    "              optimizer=optimizer,\n",
    "              metrics=[\"accuracy\"])\n",
    "\n",
    "early_stopping_cb = tf.keras.callbacks.EarlyStopping(patience=20,\n",
    "                                                     restore_best_weights=True)\n",
    "model_checkpoint_cb = tf.keras.callbacks.ModelCheckpoint(\"my_cifar10_bn_model\",\n",
    "                                                         save_best_only=True)\n",
    "run_index = 1 # increment every time you train the model\n",
    "run_logdir = Path() / \"my_cifar10_logs\" / f\"run_bn_{run_index:03d}\"\n",
    "tensorboard_cb = tf.keras.callbacks.TensorBoard(run_logdir)\n",
    "callbacks = [early_stopping_cb, model_checkpoint_cb, tensorboard_cb]\n",
    "\n",
    "model.fit(X_train, y_train, epochs=100,\n",
    "          validation_data=(X_valid, y_valid),\n",
    "          callbacks=callbacks)\n",
    "\n",
    "model.evaluate(X_valid, y_valid)"
   ]
  },
  {
   "cell_type": "markdown",
   "id": "f46a9504",
   "metadata": {
    "papermill": {
     "duration": 5.334032,
     "end_time": "2022-12-04T16:37:38.085732",
     "exception": false,
     "start_time": "2022-12-04T16:37:32.751700",
     "status": "completed"
    },
    "tags": []
   },
   "source": [
    "* *Is the model converging faster than before?* Much faster! The previous model took 29 epochs to reach the lowest validation loss, while the new model achieved that same loss in just 12 epochs and continued to make progress until the 17th epoch. The BN layers stabilized training and allowed us to use a much larger learning rate, so convergence was faster.\n",
    "* *Does BN produce a better model?* Yes! The final model is also much better, with 50.7% validation accuracy instead of 46.7%. It's still not a very good model, but at least it's much better than before (a Convolutional Neural Network would do much better, but that's a different topic, see chapter 14).\n",
    "* *How does BN affect training speed?* Although the model converged much faster, each epoch took about 15s instead of 10s, because of the extra computations required by the BN layers. But overall the training time (wall time) to reach the best model was shortened by about 10%."
   ]
  },
  {
   "cell_type": "markdown",
   "id": "37bf2ce4",
   "metadata": {
    "papermill": {
     "duration": 5.181424,
     "end_time": "2022-12-04T16:37:48.315013",
     "exception": false,
     "start_time": "2022-12-04T16:37:43.133589",
     "status": "completed"
    },
    "tags": []
   },
   "source": [
    "### d.\n",
    "*Exercise: Try replacing Batch Normalization with SELU, and make the necessary adjustements to ensure the network self-normalizes (i.e., standardize the input features, use LeCun normal initialization, make sure the DNN contains only a sequence of dense layers, etc.).*"
   ]
  },
  {
   "cell_type": "code",
   "execution_count": 126,
   "id": "b531ad4f",
   "metadata": {
    "execution": {
     "iopub.execute_input": "2022-12-04T16:37:58.836612Z",
     "iopub.status.busy": "2022-12-04T16:37:58.836197Z",
     "iopub.status.idle": "2022-12-04T16:48:19.664268Z",
     "shell.execute_reply": "2022-12-04T16:48:19.663025Z"
    },
    "papermill": {
     "duration": 631.402994,
     "end_time": "2022-12-04T16:48:25.032566",
     "exception": false,
     "start_time": "2022-12-04T16:37:53.629572",
     "status": "completed"
    },
    "scrolled": true,
    "tags": []
   },
   "outputs": [
    {
     "name": "stderr",
     "output_type": "stream",
     "text": [
      "2022-12-04 16:37:59.109412: I tensorflow/core/profiler/lib/profiler_session.cc:131] Profiler session initializing.\n",
      "2022-12-04 16:37:59.109474: I tensorflow/core/profiler/lib/profiler_session.cc:146] Profiler session started.\n",
      "2022-12-04 16:37:59.109677: I tensorflow/core/profiler/lib/profiler_session.cc:164] Profiler session tear down.\n"
     ]
    },
    {
     "name": "stdout",
     "output_type": "stream",
     "text": [
      "Epoch 1/100\n",
      "   2/1407 [..............................] - ETA: 2:36 - loss: 3.0440 - accuracy: 0.1094   "
     ]
    },
    {
     "name": "stderr",
     "output_type": "stream",
     "text": [
      "2022-12-04 16:38:07.127307: I tensorflow/core/profiler/lib/profiler_session.cc:131] Profiler session initializing.\n",
      "2022-12-04 16:38:07.127499: I tensorflow/core/profiler/lib/profiler_session.cc:146] Profiler session started.\n"
     ]
    },
    {
     "name": "stdout",
     "output_type": "stream",
     "text": [
      "   7/1407 [..............................] - ETA: 2:06 - loss: 2.7249 - accuracy: 0.1071"
     ]
    },
    {
     "name": "stderr",
     "output_type": "stream",
     "text": [
      "2022-12-04 16:38:07.423135: I tensorflow/core/profiler/lib/profiler_session.cc:66] Profiler session collecting data.\n",
      "2022-12-04 16:38:07.437707: I tensorflow/core/profiler/lib/profiler_session.cc:164] Profiler session tear down.\n",
      "2022-12-04 16:38:07.454157: I tensorflow/core/profiler/rpc/client/save_profile.cc:136] Creating directory: my_cifar10_logs/run_selu_001/train/plugins/profile/2022_12_04_16_38_07\n",
      "\n",
      "2022-12-04 16:38:07.461481: I tensorflow/core/profiler/rpc/client/save_profile.cc:142] Dumped gzipped tool data for trace.json.gz to my_cifar10_logs/run_selu_001/train/plugins/profile/2022_12_04_16_38_07/a99fb9597516.trace.json.gz\n",
      "2022-12-04 16:38:07.492926: I tensorflow/core/profiler/rpc/client/save_profile.cc:136] Creating directory: my_cifar10_logs/run_selu_001/train/plugins/profile/2022_12_04_16_38_07\n",
      "\n",
      "2022-12-04 16:38:07.497690: I tensorflow/core/profiler/rpc/client/save_profile.cc:142] Dumped gzipped tool data for memory_profile.json.gz to my_cifar10_logs/run_selu_001/train/plugins/profile/2022_12_04_16_38_07/a99fb9597516.memory_profile.json.gz\n",
      "2022-12-04 16:38:07.500118: I tensorflow/core/profiler/rpc/client/capture_profile.cc:251] Creating directory: my_cifar10_logs/run_selu_001/train/plugins/profile/2022_12_04_16_38_07\n",
      "Dumped tool data for xplane.pb to my_cifar10_logs/run_selu_001/train/plugins/profile/2022_12_04_16_38_07/a99fb9597516.xplane.pb\n",
      "Dumped tool data for overview_page.pb to my_cifar10_logs/run_selu_001/train/plugins/profile/2022_12_04_16_38_07/a99fb9597516.overview_page.pb\n",
      "Dumped tool data for input_pipeline.pb to my_cifar10_logs/run_selu_001/train/plugins/profile/2022_12_04_16_38_07/a99fb9597516.input_pipeline.pb\n",
      "Dumped tool data for tensorflow_stats.pb to my_cifar10_logs/run_selu_001/train/plugins/profile/2022_12_04_16_38_07/a99fb9597516.tensorflow_stats.pb\n",
      "Dumped tool data for kernel_stats.pb to my_cifar10_logs/run_selu_001/train/plugins/profile/2022_12_04_16_38_07/a99fb9597516.kernel_stats.pb\n",
      "\n"
     ]
    },
    {
     "name": "stdout",
     "output_type": "stream",
     "text": [
      "1407/1407 [==============================] - 27s 16ms/step - loss: 1.9367 - accuracy: 0.3060 - val_loss: 1.8440 - val_accuracy: 0.3280\n",
      "Epoch 2/100\n",
      "1407/1407 [==============================] - 22s 16ms/step - loss: 1.7090 - accuracy: 0.3916 - val_loss: 1.6973 - val_accuracy: 0.3916\n",
      "Epoch 3/100\n",
      "1407/1407 [==============================] - 22s 16ms/step - loss: 1.6091 - accuracy: 0.4296 - val_loss: 1.6477 - val_accuracy: 0.3992\n",
      "Epoch 4/100\n",
      "1407/1407 [==============================] - 21s 15ms/step - loss: 1.5418 - accuracy: 0.4551 - val_loss: 1.6506 - val_accuracy: 0.4294\n",
      "Epoch 5/100\n",
      "1407/1407 [==============================] - 21s 15ms/step - loss: 1.4860 - accuracy: 0.4755 - val_loss: 1.5915 - val_accuracy: 0.4328\n",
      "Epoch 6/100\n",
      "1407/1407 [==============================] - 21s 15ms/step - loss: 1.4394 - accuracy: 0.4970 - val_loss: 1.5220 - val_accuracy: 0.4614\n",
      "Epoch 7/100\n",
      "1407/1407 [==============================] - 20s 14ms/step - loss: 1.3980 - accuracy: 0.5106 - val_loss: 1.4993 - val_accuracy: 0.4736\n",
      "Epoch 8/100\n",
      "1407/1407 [==============================] - 20s 14ms/step - loss: 1.3614 - accuracy: 0.5226 - val_loss: 1.4734 - val_accuracy: 0.4884\n",
      "Epoch 9/100\n",
      "1407/1407 [==============================] - 21s 15ms/step - loss: 1.3275 - accuracy: 0.5369 - val_loss: 1.5035 - val_accuracy: 0.4728\n",
      "Epoch 10/100\n",
      "1407/1407 [==============================] - 20s 14ms/step - loss: 1.2977 - accuracy: 0.5494 - val_loss: 1.5145 - val_accuracy: 0.4822\n",
      "Epoch 11/100\n",
      "1407/1407 [==============================] - 20s 14ms/step - loss: 1.2694 - accuracy: 0.5589 - val_loss: 1.5128 - val_accuracy: 0.4796\n",
      "Epoch 12/100\n",
      "1407/1407 [==============================] - 22s 16ms/step - loss: 1.2442 - accuracy: 0.5717 - val_loss: 1.4748 - val_accuracy: 0.4974\n",
      "Epoch 13/100\n",
      "1407/1407 [==============================] - 20s 14ms/step - loss: 1.2178 - accuracy: 0.5776 - val_loss: 1.4949 - val_accuracy: 0.4982\n",
      "Epoch 14/100\n",
      "1407/1407 [==============================] - 21s 15ms/step - loss: 1.2026 - accuracy: 0.5861 - val_loss: 1.4798 - val_accuracy: 0.4914\n",
      "Epoch 15/100\n",
      "1407/1407 [==============================] - 22s 15ms/step - loss: 1.1725 - accuracy: 0.5955 - val_loss: 1.5114 - val_accuracy: 0.5038\n",
      "Epoch 16/100\n",
      "1407/1407 [==============================] - 21s 15ms/step - loss: 1.1514 - accuracy: 0.6029 - val_loss: 1.4910 - val_accuracy: 0.5024\n",
      "Epoch 17/100\n",
      "1407/1407 [==============================] - 21s 15ms/step - loss: 1.1239 - accuracy: 0.6123 - val_loss: 1.5329 - val_accuracy: 0.4940\n",
      "Epoch 18/100\n",
      "1407/1407 [==============================] - 21s 15ms/step - loss: 1.1052 - accuracy: 0.6186 - val_loss: 1.5247 - val_accuracy: 0.4972\n",
      "Epoch 19/100\n",
      "1407/1407 [==============================] - 21s 15ms/step - loss: 1.0926 - accuracy: 0.6244 - val_loss: 1.5674 - val_accuracy: 0.4970\n",
      "Epoch 20/100\n",
      "1407/1407 [==============================] - 21s 15ms/step - loss: 1.0745 - accuracy: 0.6312 - val_loss: 1.5075 - val_accuracy: 0.4980\n",
      "Epoch 21/100\n",
      "1407/1407 [==============================] - 21s 15ms/step - loss: 1.0474 - accuracy: 0.6392 - val_loss: 1.5279 - val_accuracy: 0.5044\n",
      "Epoch 22/100\n",
      "1407/1407 [==============================] - 21s 15ms/step - loss: 1.0312 - accuracy: 0.6453 - val_loss: 1.5552 - val_accuracy: 0.5080\n",
      "Epoch 23/100\n",
      "1407/1407 [==============================] - 20s 14ms/step - loss: 1.0174 - accuracy: 0.6535 - val_loss: 1.5260 - val_accuracy: 0.5036\n",
      "Epoch 24/100\n",
      "1407/1407 [==============================] - 21s 15ms/step - loss: 1.0081 - accuracy: 0.6565 - val_loss: 1.5537 - val_accuracy: 0.5092\n",
      "Epoch 25/100\n",
      "1407/1407 [==============================] - 21s 15ms/step - loss: 0.9828 - accuracy: 0.6656 - val_loss: 1.5404 - val_accuracy: 0.5122\n",
      "Epoch 26/100\n",
      "1407/1407 [==============================] - 21s 15ms/step - loss: 0.9697 - accuracy: 0.6699 - val_loss: 1.5807 - val_accuracy: 0.4968\n",
      "Epoch 27/100\n",
      "1407/1407 [==============================] - 21s 15ms/step - loss: 0.9433 - accuracy: 0.6777 - val_loss: 1.5988 - val_accuracy: 0.5140\n",
      "Epoch 28/100\n",
      "1407/1407 [==============================] - 20s 14ms/step - loss: 0.9326 - accuracy: 0.6827 - val_loss: 1.6120 - val_accuracy: 0.4942\n",
      "157/157 [==============================] - 1s 6ms/step - loss: 1.4734 - accuracy: 0.4884\n"
     ]
    },
    {
     "data": {
      "text/plain": [
       "[1.4733667373657227, 0.48840001225471497]"
      ]
     },
     "execution_count": 126,
     "metadata": {},
     "output_type": "execute_result"
    }
   ],
   "source": [
    "tf.random.set_seed(42)\n",
    "\n",
    "model = tf.keras.Sequential()\n",
    "model.add(tf.keras.layers.Flatten(input_shape=[32, 32, 3]))\n",
    "for _ in range(20):\n",
    "    model.add(tf.keras.layers.Dense(100,\n",
    "                                    kernel_initializer=\"lecun_normal\",\n",
    "                                    activation=\"selu\"))\n",
    "\n",
    "model.add(tf.keras.layers.Dense(10, activation=\"softmax\"))\n",
    "\n",
    "optimizer = tf.keras.optimizers.Nadam(learning_rate=7e-4)\n",
    "model.compile(loss=\"sparse_categorical_crossentropy\",\n",
    "              optimizer=optimizer,\n",
    "              metrics=[\"accuracy\"])\n",
    "\n",
    "early_stopping_cb = tf.keras.callbacks.EarlyStopping(\n",
    "    patience=20, restore_best_weights=True)\n",
    "model_checkpoint_cb = tf.keras.callbacks.ModelCheckpoint(\n",
    "    \"my_cifar10_selu_model\", save_best_only=True)\n",
    "run_index = 1 # increment every time you train the model\n",
    "run_logdir = Path() / \"my_cifar10_logs\" / f\"run_selu_{run_index:03d}\"\n",
    "tensorboard_cb = tf.keras.callbacks.TensorBoard(run_logdir)\n",
    "callbacks = [early_stopping_cb, model_checkpoint_cb, tensorboard_cb]\n",
    "\n",
    "X_means = X_train.mean(axis=0)\n",
    "X_stds = X_train.std(axis=0)\n",
    "X_train_scaled = (X_train - X_means) / X_stds\n",
    "X_valid_scaled = (X_valid - X_means) / X_stds\n",
    "X_test_scaled = (X_test - X_means) / X_stds\n",
    "\n",
    "model.fit(X_train_scaled, y_train, epochs=100,\n",
    "          validation_data=(X_valid_scaled, y_valid),\n",
    "          callbacks=callbacks)\n",
    "\n",
    "model.evaluate(X_valid_scaled, y_valid)"
   ]
  },
  {
   "cell_type": "markdown",
   "id": "43f60f06",
   "metadata": {
    "papermill": {
     "duration": 5.826848,
     "end_time": "2022-12-04T16:48:36.652434",
     "exception": false,
     "start_time": "2022-12-04T16:48:30.825586",
     "status": "completed"
    },
    "tags": []
   },
   "source": [
    "This model reached the first model's validation loss in just 8 epochs. After 14 epochs, it reached its lowest validation loss, with about 50.3% accuracy, which is better than the original model (46.7%), but not quite as good as the model using batch normalization (50.7%). Each epoch took only 9 seconds. So it's the fastest model to train so far."
   ]
  },
  {
   "cell_type": "markdown",
   "id": "6e75976c",
   "metadata": {
    "papermill": {
     "duration": 5.695031,
     "end_time": "2022-12-04T16:48:48.274512",
     "exception": false,
     "start_time": "2022-12-04T16:48:42.579481",
     "status": "completed"
    },
    "tags": []
   },
   "source": [
    "### e.\n",
    "*Exercise: Try regularizing the model with alpha dropout. Then, without retraining your model, see if you can achieve better accuracy using MC Dropout.*"
   ]
  },
  {
   "cell_type": "code",
   "execution_count": 127,
   "id": "4c48b728",
   "metadata": {
    "execution": {
     "iopub.execute_input": "2022-12-04T16:49:00.016553Z",
     "iopub.status.busy": "2022-12-04T16:49:00.016120Z",
     "iopub.status.idle": "2022-12-04T17:02:48.105591Z",
     "shell.execute_reply": "2022-12-04T17:02:48.103424Z"
    },
    "papermill": {
     "duration": 834.020285,
     "end_time": "2022-12-04T17:02:48.108542",
     "exception": false,
     "start_time": "2022-12-04T16:48:54.088257",
     "status": "completed"
    },
    "tags": []
   },
   "outputs": [
    {
     "name": "stderr",
     "output_type": "stream",
     "text": [
      "2022-12-04 16:49:00.270661: I tensorflow/core/profiler/lib/profiler_session.cc:131] Profiler session initializing.\n",
      "2022-12-04 16:49:00.270725: I tensorflow/core/profiler/lib/profiler_session.cc:146] Profiler session started.\n",
      "2022-12-04 16:49:00.270880: I tensorflow/core/profiler/lib/profiler_session.cc:164] Profiler session tear down.\n"
     ]
    },
    {
     "name": "stdout",
     "output_type": "stream",
     "text": [
      "Epoch 1/100\n",
      "   2/1407 [..............................] - ETA: 3:14 - loss: 3.1617 - accuracy: 0.0781   "
     ]
    },
    {
     "name": "stderr",
     "output_type": "stream",
     "text": [
      "2022-12-04 16:49:09.604744: I tensorflow/core/profiler/lib/profiler_session.cc:131] Profiler session initializing.\n",
      "2022-12-04 16:49:09.604924: I tensorflow/core/profiler/lib/profiler_session.cc:146] Profiler session started.\n"
     ]
    },
    {
     "name": "stdout",
     "output_type": "stream",
     "text": [
      "   7/1407 [..............................] - ETA: 2:25 - loss: 2.9134 - accuracy: 0.0982"
     ]
    },
    {
     "name": "stderr",
     "output_type": "stream",
     "text": [
      "2022-12-04 16:49:09.944328: I tensorflow/core/profiler/lib/profiler_session.cc:66] Profiler session collecting data.\n",
      "2022-12-04 16:49:09.961681: I tensorflow/core/profiler/lib/profiler_session.cc:164] Profiler session tear down.\n",
      "2022-12-04 16:49:09.978253: I tensorflow/core/profiler/rpc/client/save_profile.cc:136] Creating directory: my_cifar10_logs/run_alpha_dropout_001/train/plugins/profile/2022_12_04_16_49_09\n",
      "\n",
      "2022-12-04 16:49:09.985611: I tensorflow/core/profiler/rpc/client/save_profile.cc:142] Dumped gzipped tool data for trace.json.gz to my_cifar10_logs/run_alpha_dropout_001/train/plugins/profile/2022_12_04_16_49_09/a99fb9597516.trace.json.gz\n",
      "2022-12-04 16:49:10.019277: I tensorflow/core/profiler/rpc/client/save_profile.cc:136] Creating directory: my_cifar10_logs/run_alpha_dropout_001/train/plugins/profile/2022_12_04_16_49_09\n",
      "\n",
      "2022-12-04 16:49:10.024110: I tensorflow/core/profiler/rpc/client/save_profile.cc:142] Dumped gzipped tool data for memory_profile.json.gz to my_cifar10_logs/run_alpha_dropout_001/train/plugins/profile/2022_12_04_16_49_09/a99fb9597516.memory_profile.json.gz\n",
      "2022-12-04 16:49:10.026650: I tensorflow/core/profiler/rpc/client/capture_profile.cc:251] Creating directory: my_cifar10_logs/run_alpha_dropout_001/train/plugins/profile/2022_12_04_16_49_09\n",
      "Dumped tool data for xplane.pb to my_cifar10_logs/run_alpha_dropout_001/train/plugins/profile/2022_12_04_16_49_09/a99fb9597516.xplane.pb\n",
      "Dumped tool data for overview_page.pb to my_cifar10_logs/run_alpha_dropout_001/train/plugins/profile/2022_12_04_16_49_09/a99fb9597516.overview_page.pb\n",
      "Dumped tool data for input_pipeline.pb to my_cifar10_logs/run_alpha_dropout_001/train/plugins/profile/2022_12_04_16_49_09/a99fb9597516.input_pipeline.pb\n",
      "Dumped tool data for tensorflow_stats.pb to my_cifar10_logs/run_alpha_dropout_001/train/plugins/profile/2022_12_04_16_49_09/a99fb9597516.tensorflow_stats.pb\n",
      "Dumped tool data for kernel_stats.pb to my_cifar10_logs/run_alpha_dropout_001/train/plugins/profile/2022_12_04_16_49_09/a99fb9597516.kernel_stats.pb\n",
      "\n"
     ]
    },
    {
     "name": "stdout",
     "output_type": "stream",
     "text": [
      "1407/1407 [==============================] - 29s 18ms/step - loss: 1.8898 - accuracy: 0.3303 - val_loss: 1.7443 - val_accuracy: 0.3814\n",
      "Epoch 2/100\n",
      "1407/1407 [==============================] - 23s 16ms/step - loss: 1.6678 - accuracy: 0.4106 - val_loss: 1.6824 - val_accuracy: 0.4024\n",
      "Epoch 3/100\n",
      "1407/1407 [==============================] - 25s 18ms/step - loss: 1.5802 - accuracy: 0.4425 - val_loss: 1.6149 - val_accuracy: 0.4376\n",
      "Epoch 4/100\n",
      "1407/1407 [==============================] - 24s 17ms/step - loss: 1.5139 - accuracy: 0.4696 - val_loss: 1.5759 - val_accuracy: 0.4472\n",
      "Epoch 5/100\n",
      "1407/1407 [==============================] - 25s 18ms/step - loss: 1.4535 - accuracy: 0.4910 - val_loss: 1.5765 - val_accuracy: 0.4468\n",
      "Epoch 6/100\n",
      "1407/1407 [==============================] - 25s 18ms/step - loss: 1.4046 - accuracy: 0.5111 - val_loss: 1.5741 - val_accuracy: 0.4572\n",
      "Epoch 7/100\n",
      "1407/1407 [==============================] - 25s 18ms/step - loss: 1.3612 - accuracy: 0.5269 - val_loss: 1.5443 - val_accuracy: 0.4894\n",
      "Epoch 8/100\n",
      "1407/1407 [==============================] - 25s 18ms/step - loss: 1.3213 - accuracy: 0.5385 - val_loss: 1.5394 - val_accuracy: 0.4884\n",
      "Epoch 9/100\n",
      "1407/1407 [==============================] - 24s 17ms/step - loss: 1.2856 - accuracy: 0.5508 - val_loss: 1.4956 - val_accuracy: 0.4832\n",
      "Epoch 10/100\n",
      "1407/1407 [==============================] - 24s 17ms/step - loss: 1.2496 - accuracy: 0.5656 - val_loss: 1.4969 - val_accuracy: 0.5076\n",
      "Epoch 11/100\n",
      "1407/1407 [==============================] - 23s 16ms/step - loss: 1.2195 - accuracy: 0.5778 - val_loss: 1.5632 - val_accuracy: 0.5044\n",
      "Epoch 12/100\n",
      "1407/1407 [==============================] - 23s 16ms/step - loss: 1.1913 - accuracy: 0.5893 - val_loss: 1.4894 - val_accuracy: 0.4996\n",
      "Epoch 13/100\n",
      "1407/1407 [==============================] - 25s 18ms/step - loss: 1.1606 - accuracy: 0.5959 - val_loss: 1.5625 - val_accuracy: 0.5108\n",
      "Epoch 14/100\n",
      "1407/1407 [==============================] - 23s 17ms/step - loss: 1.1362 - accuracy: 0.6078 - val_loss: 1.5284 - val_accuracy: 0.5034\n",
      "Epoch 15/100\n",
      "1407/1407 [==============================] - 23s 17ms/step - loss: 1.1077 - accuracy: 0.6174 - val_loss: 1.5983 - val_accuracy: 0.5100\n",
      "Epoch 16/100\n",
      "1407/1407 [==============================] - 25s 18ms/step - loss: 1.0855 - accuracy: 0.6253 - val_loss: 1.5737 - val_accuracy: 0.5076\n",
      "Epoch 17/100\n",
      "1407/1407 [==============================] - 24s 17ms/step - loss: 1.0615 - accuracy: 0.6336 - val_loss: 1.6720 - val_accuracy: 0.4998\n",
      "Epoch 18/100\n",
      "1407/1407 [==============================] - 24s 17ms/step - loss: 1.0461 - accuracy: 0.6423 - val_loss: 1.6293 - val_accuracy: 0.5054\n",
      "Epoch 19/100\n",
      "1407/1407 [==============================] - 24s 17ms/step - loss: 1.0252 - accuracy: 0.6488 - val_loss: 1.7458 - val_accuracy: 0.5032\n",
      "Epoch 20/100\n",
      "1407/1407 [==============================] - 23s 17ms/step - loss: 1.0067 - accuracy: 0.6543 - val_loss: 1.6229 - val_accuracy: 0.5058\n",
      "Epoch 21/100\n",
      "1407/1407 [==============================] - 23s 17ms/step - loss: 0.9846 - accuracy: 0.6622 - val_loss: 1.7079 - val_accuracy: 0.5008\n",
      "Epoch 22/100\n",
      "1407/1407 [==============================] - 25s 18ms/step - loss: 0.9577 - accuracy: 0.6718 - val_loss: 1.7566 - val_accuracy: 0.5078\n",
      "Epoch 23/100\n",
      "1407/1407 [==============================] - 23s 16ms/step - loss: 0.9497 - accuracy: 0.6756 - val_loss: 1.7464 - val_accuracy: 0.4974\n",
      "Epoch 24/100\n",
      "1407/1407 [==============================] - 29s 20ms/step - loss: 0.9253 - accuracy: 0.6814 - val_loss: 1.7767 - val_accuracy: 0.5094\n",
      "Epoch 25/100\n",
      "1407/1407 [==============================] - 26s 18ms/step - loss: 0.9202 - accuracy: 0.6880 - val_loss: 1.7433 - val_accuracy: 0.5112\n",
      "Epoch 26/100\n",
      "1407/1407 [==============================] - 25s 18ms/step - loss: 0.9017 - accuracy: 0.6932 - val_loss: 1.8177 - val_accuracy: 0.5042\n",
      "Epoch 27/100\n",
      "1407/1407 [==============================] - 26s 18ms/step - loss: 0.8850 - accuracy: 0.6961 - val_loss: 1.6762 - val_accuracy: 0.5018\n",
      "Epoch 28/100\n",
      "1407/1407 [==============================] - 25s 18ms/step - loss: 0.8624 - accuracy: 0.7059 - val_loss: 1.7870 - val_accuracy: 0.4984\n",
      "Epoch 29/100\n",
      "1407/1407 [==============================] - 24s 17ms/step - loss: 0.8577 - accuracy: 0.7083 - val_loss: 1.9956 - val_accuracy: 0.4998\n",
      "Epoch 30/100\n",
      "1407/1407 [==============================] - 26s 19ms/step - loss: 0.8386 - accuracy: 0.7161 - val_loss: 1.8569 - val_accuracy: 0.5084\n",
      "Epoch 31/100\n",
      "1407/1407 [==============================] - 25s 18ms/step - loss: 0.8362 - accuracy: 0.7172 - val_loss: 1.8426 - val_accuracy: 0.5078\n",
      "Epoch 32/100\n",
      "1407/1407 [==============================] - 25s 18ms/step - loss: 0.8083 - accuracy: 0.7256 - val_loss: 1.9122 - val_accuracy: 0.5066\n",
      "157/157 [==============================] - 1s 6ms/step - loss: 1.4894 - accuracy: 0.4996\n"
     ]
    },
    {
     "data": {
      "text/plain": [
       "[1.489389419555664, 0.49959999322891235]"
      ]
     },
     "execution_count": 127,
     "metadata": {},
     "output_type": "execute_result"
    }
   ],
   "source": [
    "tf.random.set_seed(42)\n",
    "\n",
    "model = tf.keras.Sequential()\n",
    "model.add(tf.keras.layers.Flatten(input_shape=[32, 32, 3]))\n",
    "for _ in range(20):\n",
    "    model.add(tf.keras.layers.Dense(100,\n",
    "                                    kernel_initializer=\"lecun_normal\",\n",
    "                                    activation=\"selu\"))\n",
    "\n",
    "model.add(tf.keras.layers.AlphaDropout(rate=0.1))\n",
    "model.add(tf.keras.layers.Dense(10, activation=\"softmax\"))\n",
    "\n",
    "optimizer = tf.keras.optimizers.Nadam(learning_rate=5e-4)\n",
    "model.compile(loss=\"sparse_categorical_crossentropy\",\n",
    "              optimizer=optimizer,\n",
    "              metrics=[\"accuracy\"])\n",
    "\n",
    "early_stopping_cb = tf.keras.callbacks.EarlyStopping(\n",
    "    patience=20, restore_best_weights=True)\n",
    "model_checkpoint_cb = tf.keras.callbacks.ModelCheckpoint(\n",
    "    \"my_cifar10_alpha_dropout_model\", save_best_only=True)\n",
    "run_index = 1 # increment every time you train the model\n",
    "run_logdir = Path() / \"my_cifar10_logs\" / f\"run_alpha_dropout_{run_index:03d}\"\n",
    "tensorboard_cb = tf.keras.callbacks.TensorBoard(run_logdir)\n",
    "callbacks = [early_stopping_cb, model_checkpoint_cb, tensorboard_cb]\n",
    "\n",
    "X_means = X_train.mean(axis=0)\n",
    "X_stds = X_train.std(axis=0)\n",
    "X_train_scaled = (X_train - X_means) / X_stds\n",
    "X_valid_scaled = (X_valid - X_means) / X_stds\n",
    "X_test_scaled = (X_test - X_means) / X_stds\n",
    "\n",
    "model.fit(X_train_scaled, y_train, epochs=100,\n",
    "          validation_data=(X_valid_scaled, y_valid),\n",
    "          callbacks=callbacks)\n",
    "\n",
    "model.evaluate(X_valid_scaled, y_valid)"
   ]
  },
  {
   "cell_type": "markdown",
   "id": "4108a0e6",
   "metadata": {
    "papermill": {
     "duration": 6.890607,
     "end_time": "2022-12-04T17:03:02.090465",
     "exception": false,
     "start_time": "2022-12-04T17:02:55.199858",
     "status": "completed"
    },
    "tags": []
   },
   "source": [
    "The model reaches 48.1% accuracy on the validation set. That's worse than without dropout (50.3%). With an extensive hyperparameter search, it might be possible to do better (I tried dropout rates of 5%, 10%, 20% and 40%, and learning rates 1e-4, 3e-4, 5e-4, and 1e-3), but probably not much better in this case."
   ]
  },
  {
   "cell_type": "markdown",
   "id": "b916620e",
   "metadata": {
    "papermill": {
     "duration": 7.052079,
     "end_time": "2022-12-04T17:03:15.767130",
     "exception": false,
     "start_time": "2022-12-04T17:03:08.715051",
     "status": "completed"
    },
    "tags": []
   },
   "source": [
    "Let's use MC Dropout now. We will need the `MCAlphaDropout` class we used earlier, so let's just copy it here for convenience:"
   ]
  },
  {
   "cell_type": "code",
   "execution_count": 128,
   "id": "f38fd7b4",
   "metadata": {
    "execution": {
     "iopub.execute_input": "2022-12-04T17:03:29.166496Z",
     "iopub.status.busy": "2022-12-04T17:03:29.165875Z",
     "iopub.status.idle": "2022-12-04T17:03:29.173576Z",
     "shell.execute_reply": "2022-12-04T17:03:29.172449Z"
    },
    "papermill": {
     "duration": 6.596389,
     "end_time": "2022-12-04T17:03:29.175782",
     "exception": false,
     "start_time": "2022-12-04T17:03:22.579393",
     "status": "completed"
    },
    "tags": []
   },
   "outputs": [],
   "source": [
    "class MCAlphaDropout(tf.keras.layers.AlphaDropout):\n",
    "    def call(self, inputs):\n",
    "        return super().call(inputs, training=True)"
   ]
  },
  {
   "cell_type": "markdown",
   "id": "5235e3b0",
   "metadata": {
    "papermill": {
     "duration": 6.636834,
     "end_time": "2022-12-04T17:03:42.744739",
     "exception": false,
     "start_time": "2022-12-04T17:03:36.107905",
     "status": "completed"
    },
    "tags": []
   },
   "source": [
    "Now let's create a new model, identical to the one we just trained (with the same weights), but with `MCAlphaDropout` dropout layers instead of `AlphaDropout` layers:"
   ]
  },
  {
   "cell_type": "code",
   "execution_count": 129,
   "id": "cda4f60b",
   "metadata": {
    "execution": {
     "iopub.execute_input": "2022-12-04T17:03:56.578738Z",
     "iopub.status.busy": "2022-12-04T17:03:56.578294Z",
     "iopub.status.idle": "2022-12-04T17:03:56.811446Z",
     "shell.execute_reply": "2022-12-04T17:03:56.810524Z"
    },
    "papermill": {
     "duration": 6.839059,
     "end_time": "2022-12-04T17:03:56.813987",
     "exception": false,
     "start_time": "2022-12-04T17:03:49.974928",
     "status": "completed"
    },
    "tags": []
   },
   "outputs": [],
   "source": [
    "mc_model = tf.keras.Sequential([\n",
    "    (\n",
    "        MCAlphaDropout(layer.rate)\n",
    "        if isinstance(layer, tf.keras.layers.AlphaDropout)\n",
    "        else layer\n",
    "    )\n",
    "    for layer in model.layers\n",
    "])"
   ]
  },
  {
   "cell_type": "markdown",
   "id": "55d9e9b1",
   "metadata": {
    "papermill": {
     "duration": 6.820844,
     "end_time": "2022-12-04T17:04:10.359737",
     "exception": false,
     "start_time": "2022-12-04T17:04:03.538893",
     "status": "completed"
    },
    "tags": []
   },
   "source": [
    "Then let's add a couple utility functions. The first will run the model many times (10 by default) and it will return the mean predicted class probabilities. The second will use these mean probabilities to predict the most likely class for each instance:"
   ]
  },
  {
   "cell_type": "code",
   "execution_count": 130,
   "id": "dc5fb07f",
   "metadata": {
    "execution": {
     "iopub.execute_input": "2022-12-04T17:04:23.899395Z",
     "iopub.status.busy": "2022-12-04T17:04:23.898172Z",
     "iopub.status.idle": "2022-12-04T17:04:23.905849Z",
     "shell.execute_reply": "2022-12-04T17:04:23.904991Z"
    },
    "papermill": {
     "duration": 6.7698,
     "end_time": "2022-12-04T17:04:23.908146",
     "exception": false,
     "start_time": "2022-12-04T17:04:17.138346",
     "status": "completed"
    },
    "tags": []
   },
   "outputs": [],
   "source": [
    "def mc_dropout_predict_probas(mc_model, X, n_samples=10):\n",
    "    Y_probas = [mc_model.predict(X) for sample in range(n_samples)]\n",
    "    return np.mean(Y_probas, axis=0)\n",
    "\n",
    "def mc_dropout_predict_classes(mc_model, X, n_samples=10):\n",
    "    Y_probas = mc_dropout_predict_probas(mc_model, X, n_samples)\n",
    "    return Y_probas.argmax(axis=1)"
   ]
  },
  {
   "cell_type": "markdown",
   "id": "485bd7c2",
   "metadata": {
    "papermill": {
     "duration": 6.868097,
     "end_time": "2022-12-04T17:04:37.331059",
     "exception": false,
     "start_time": "2022-12-04T17:04:30.462962",
     "status": "completed"
    },
    "tags": []
   },
   "source": [
    "Now let's make predictions for all the instances in the validation set, and compute the accuracy:"
   ]
  },
  {
   "cell_type": "code",
   "execution_count": 131,
   "id": "8bfd789a",
   "metadata": {
    "execution": {
     "iopub.execute_input": "2022-12-04T17:04:50.741344Z",
     "iopub.status.busy": "2022-12-04T17:04:50.740453Z",
     "iopub.status.idle": "2022-12-04T17:04:59.236691Z",
     "shell.execute_reply": "2022-12-04T17:04:59.235663Z"
    },
    "papermill": {
     "duration": 15.168051,
     "end_time": "2022-12-04T17:04:59.239164",
     "exception": false,
     "start_time": "2022-12-04T17:04:44.071113",
     "status": "completed"
    },
    "tags": []
   },
   "outputs": [
    {
     "data": {
      "text/plain": [
       "0.498"
      ]
     },
     "execution_count": 131,
     "metadata": {},
     "output_type": "execute_result"
    }
   ],
   "source": [
    "tf.random.set_seed(42)\n",
    "\n",
    "y_pred = mc_dropout_predict_classes(mc_model, X_valid_scaled)\n",
    "accuracy = (y_pred == y_valid[:, 0]).mean()\n",
    "accuracy"
   ]
  },
  {
   "cell_type": "markdown",
   "id": "5cc7a33c",
   "metadata": {
    "papermill": {
     "duration": 6.593432,
     "end_time": "2022-12-04T17:05:12.764365",
     "exception": false,
     "start_time": "2022-12-04T17:05:06.170933",
     "status": "completed"
    },
    "tags": []
   },
   "source": [
    "We get back to roughly the accuracy of the model without dropout in this case (about 50.3% accuracy).\n",
    "\n",
    "So the best model we got in this exercise is the Batch Normalization model."
   ]
  },
  {
   "cell_type": "markdown",
   "id": "8bc6143c",
   "metadata": {
    "papermill": {
     "duration": 6.883544,
     "end_time": "2022-12-04T17:05:26.470038",
     "exception": false,
     "start_time": "2022-12-04T17:05:19.586494",
     "status": "completed"
    },
    "tags": []
   },
   "source": [
    "### f.\n",
    "*Exercise: Retrain your model using 1cycle scheduling and see if it improves training speed and model accuracy.*"
   ]
  },
  {
   "cell_type": "code",
   "execution_count": 132,
   "id": "23e11a4c",
   "metadata": {
    "execution": {
     "iopub.execute_input": "2022-12-04T17:05:40.020071Z",
     "iopub.status.busy": "2022-12-04T17:05:40.019612Z",
     "iopub.status.idle": "2022-12-04T17:05:40.276427Z",
     "shell.execute_reply": "2022-12-04T17:05:40.275153Z"
    },
    "papermill": {
     "duration": 7.031647,
     "end_time": "2022-12-04T17:05:40.279600",
     "exception": false,
     "start_time": "2022-12-04T17:05:33.247953",
     "status": "completed"
    },
    "tags": []
   },
   "outputs": [],
   "source": [
    "tf.random.set_seed(42)\n",
    "\n",
    "model = tf.keras.Sequential()\n",
    "model.add(tf.keras.layers.Flatten(input_shape=[32, 32, 3]))\n",
    "for _ in range(20):\n",
    "    model.add(tf.keras.layers.Dense(100,\n",
    "                                    kernel_initializer=\"lecun_normal\",\n",
    "                                    activation=\"selu\"))\n",
    "\n",
    "model.add(tf.keras.layers.AlphaDropout(rate=0.1))\n",
    "model.add(tf.keras.layers.Dense(10, activation=\"softmax\"))\n",
    "\n",
    "optimizer = tf.keras.optimizers.SGD()\n",
    "model.compile(loss=\"sparse_categorical_crossentropy\",\n",
    "              optimizer=optimizer,\n",
    "              metrics=[\"accuracy\"])"
   ]
  },
  {
   "cell_type": "code",
   "execution_count": 133,
   "id": "34ca5c23",
   "metadata": {
    "execution": {
     "iopub.execute_input": "2022-12-04T17:05:53.885719Z",
     "iopub.status.busy": "2022-12-04T17:05:53.885289Z",
     "iopub.status.idle": "2022-12-04T17:06:01.569113Z",
     "shell.execute_reply": "2022-12-04T17:06:01.567942Z"
    },
    "papermill": {
     "duration": 14.710352,
     "end_time": "2022-12-04T17:06:01.571586",
     "exception": false,
     "start_time": "2022-12-04T17:05:46.861234",
     "status": "completed"
    },
    "tags": []
   },
   "outputs": [
    {
     "name": "stdout",
     "output_type": "stream",
     "text": [
      "352/352 [==============================] - 6s 14ms/step - loss: nan - accuracy: 0.1747\n"
     ]
    },
    {
     "data": {
      "image/png": "[encoded data removed]",
      "text/plain": [
       "<Figure size 432x288 with 1 Axes>"
      ]
     },
     "metadata": {
      "needs_background": "light"
     },
     "output_type": "display_data"
    }
   ],
   "source": [
    "batch_size = 128\n",
    "rates, losses = find_learning_rate(model, X_train_scaled, y_train, epochs=1,\n",
    "                                   batch_size=batch_size)\n",
    "plot_lr_vs_loss(rates, losses)"
   ]
  },
  {
   "cell_type": "code",
   "execution_count": 134,
   "id": "62b8d453",
   "metadata": {
    "execution": {
     "iopub.execute_input": "2022-12-04T17:06:14.976039Z",
     "iopub.status.busy": "2022-12-04T17:06:14.975236Z",
     "iopub.status.idle": "2022-12-04T17:06:15.212625Z",
     "shell.execute_reply": "2022-12-04T17:06:15.211402Z"
    },
    "papermill": {
     "duration": 6.850281,
     "end_time": "2022-12-04T17:06:15.215458",
     "exception": false,
     "start_time": "2022-12-04T17:06:08.365177",
     "status": "completed"
    },
    "tags": []
   },
   "outputs": [],
   "source": [
    "tf.random.set_seed(42)\n",
    "\n",
    "model = tf.keras.Sequential()\n",
    "model.add(tf.keras.layers.Flatten(input_shape=[32, 32, 3]))\n",
    "for _ in range(20):\n",
    "    model.add(tf.keras.layers.Dense(100,\n",
    "                                 kernel_initializer=\"lecun_normal\",\n",
    "                                 activation=\"selu\"))\n",
    "\n",
    "model.add(tf.keras.layers.AlphaDropout(rate=0.1))\n",
    "model.add(tf.keras.layers.Dense(10, activation=\"softmax\"))\n",
    "\n",
    "optimizer = tf.keras.optimizers.SGD(learning_rate=2e-2)\n",
    "model.compile(loss=\"sparse_categorical_crossentropy\",\n",
    "              optimizer=optimizer,\n",
    "              metrics=[\"accuracy\"])"
   ]
  },
  {
   "cell_type": "code",
   "execution_count": 135,
   "id": "06846d02",
   "metadata": {
    "execution": {
     "iopub.execute_input": "2022-12-04T17:06:28.835115Z",
     "iopub.status.busy": "2022-12-04T17:06:28.834660Z",
     "iopub.status.idle": "2022-12-04T17:07:51.486522Z",
     "shell.execute_reply": "2022-12-04T17:07:51.485497Z"
    },
    "papermill": {
     "duration": 89.258803,
     "end_time": "2022-12-04T17:07:51.489642",
     "exception": false,
     "start_time": "2022-12-04T17:06:22.230839",
     "status": "completed"
    },
    "tags": []
   },
   "outputs": [
    {
     "name": "stdout",
     "output_type": "stream",
     "text": [
      "Epoch 1/15\n",
      "352/352 [==============================] - 7s 16ms/step - loss: 2.0495 - accuracy: 0.2875 - val_loss: 1.7814 - val_accuracy: 0.3806\n",
      "Epoch 2/15\n",
      "352/352 [==============================] - 5s 15ms/step - loss: 1.7550 - accuracy: 0.3788 - val_loss: 1.6617 - val_accuracy: 0.4130\n",
      "Epoch 3/15\n",
      "352/352 [==============================] - 5s 15ms/step - loss: 1.6213 - accuracy: 0.4256 - val_loss: 1.6484 - val_accuracy: 0.4266\n",
      "Epoch 4/15\n",
      "352/352 [==============================] - 5s 16ms/step - loss: 1.5368 - accuracy: 0.4563 - val_loss: 1.6546 - val_accuracy: 0.4210\n",
      "Epoch 5/15\n",
      "352/352 [==============================] - 5s 15ms/step - loss: 1.4896 - accuracy: 0.4717 - val_loss: 1.5787 - val_accuracy: 0.4612\n",
      "Epoch 6/15\n",
      "352/352 [==============================] - 5s 14ms/step - loss: 1.4483 - accuracy: 0.4852 - val_loss: 1.5522 - val_accuracy: 0.4552\n",
      "Epoch 7/15\n",
      "352/352 [==============================] - 5s 15ms/step - loss: 1.4056 - accuracy: 0.5021 - val_loss: 1.5789 - val_accuracy: 0.4530\n",
      "Epoch 8/15\n",
      "352/352 [==============================] - 5s 14ms/step - loss: 1.3426 - accuracy: 0.5237 - val_loss: 1.5382 - val_accuracy: 0.4732\n",
      "Epoch 9/15\n",
      "352/352 [==============================] - 5s 15ms/step - loss: 1.2644 - accuracy: 0.5489 - val_loss: 1.5487 - val_accuracy: 0.4794\n",
      "Epoch 10/15\n",
      "352/352 [==============================] - 5s 15ms/step - loss: 1.1960 - accuracy: 0.5743 - val_loss: 1.5376 - val_accuracy: 0.4972\n",
      "Epoch 11/15\n",
      "352/352 [==============================] - 6s 17ms/step - loss: 1.1269 - accuracy: 0.5979 - val_loss: 1.5174 - val_accuracy: 0.5006\n",
      "Epoch 12/15\n",
      "352/352 [==============================] - 5s 15ms/step - loss: 1.0584 - accuracy: 0.6233 - val_loss: 1.5095 - val_accuracy: 0.5252\n",
      "Epoch 13/15\n",
      "352/352 [==============================] - 6s 16ms/step - loss: 0.9882 - accuracy: 0.6442 - val_loss: 1.5405 - val_accuracy: 0.5254\n",
      "Epoch 14/15\n",
      "352/352 [==============================] - 5s 15ms/step - loss: 0.9240 - accuracy: 0.6690 - val_loss: 1.5511 - val_accuracy: 0.5288\n",
      "Epoch 15/15\n",
      "352/352 [==============================] - 5s 15ms/step - loss: 0.8822 - accuracy: 0.6838 - val_loss: 1.5842 - val_accuracy: 0.5294\n"
     ]
    }
   ],
   "source": [
    "n_epochs = 15\n",
    "n_iterations = math.ceil(len(X_train_scaled) / batch_size) * n_epochs\n",
    "onecycle = OneCycleScheduler(n_iterations, max_lr=0.05)\n",
    "history = model.fit(X_train_scaled, y_train, epochs=n_epochs, batch_size=batch_size,\n",
    "                    validation_data=(X_valid_scaled, y_valid),\n",
    "                    callbacks=[onecycle])"
   ]
  },
  {
   "cell_type": "markdown",
   "id": "ca8cb49c",
   "metadata": {
    "papermill": {
     "duration": 7.063102,
     "end_time": "2022-12-04T17:08:05.300227",
     "exception": false,
     "start_time": "2022-12-04T17:07:58.237125",
     "status": "completed"
    },
    "tags": []
   },
   "source": [
    "One cycle allowed us to train the model in just 15 epochs, each taking only 2 seconds (thanks to the larger batch size). This is several times faster than the fastest model we trained so far. Moreover, we improved the model's performance (from 50.7% to 52.0%)."
   ]
  }
 ],
 "metadata": {
  "kernelspec": {
   "display_name": "Python 3",
   "language": "python",
   "name": "python3"
  },
  "language_info": {
   "codemirror_mode": {
    "name": "ipython",
    "version": 3
   },
   "file_extension": ".py",
   "mimetype": "text/x-python",
   "name": "python",
   "nbconvert_exporter": "python",
   "pygments_lexer": "ipython3",
   "version": "3.7.12"
  },
  "papermill": {
   "default_parameters": {},
   "duration": 7241.078603,
   "end_time": "2022-12-04T17:08:14.916802",
   "environment_variables": {},
   "exception": null,
   "input_path": "__notebook__.ipynb",
   "output_path": "__notebook__.ipynb",
   "parameters": {},
   "start_time": "2022-12-04T15:07:33.838199",
   "version": "2.3.4"
  }
 },
 "nbformat": 4,
 "nbformat_minor": 5
}
