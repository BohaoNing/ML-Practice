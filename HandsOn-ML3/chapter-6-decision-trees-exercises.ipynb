{
 "cells": [
  {
   "cell_type": "markdown",
   "id": "70a3443c",
   "metadata": {
    "_cell_guid": "b1076dfc-b9ad-4769-8c92-a6c4dae69d19",
    "_uuid": "8f2839f25d086af736a60e9eeb907d3b93b6e0e5",
    "papermill": {
     "duration": 0.003026,
     "end_time": "2022-10-31T02:45:56.871657",
     "exception": false,
     "start_time": "2022-10-31T02:45:56.868631",
     "status": "completed"
    },
    "tags": []
   },
   "source": [
    "1. What is the approximate depth of a decision tree trained (without restrictions) on a training set with one million instances?\n",
    "        \n",
    "        If the training set contains one million instances, the Decision Tree will have a depth of log₂(106) ≈ 20"
   ]
  },
  {
   "cell_type": "markdown",
   "id": "71567504",
   "metadata": {
    "papermill": {
     "duration": 0.001865,
     "end_time": "2022-10-31T02:45:56.875902",
     "exception": false,
     "start_time": "2022-10-31T02:45:56.874037",
     "status": "completed"
    },
    "tags": []
   },
   "source": [
    "2. Is a node’s Gini impurity generally lower or higher than its parent’s? Is it generally lower/higher, or always lower/higher?\n",
    "\n",
    "        Generally lower.\n",
    "        This is due to the CART training algorithm's cost function, which splits each node in a way that minimizes the weighted sum of its children's Gini impurities."
   ]
  },
  {
   "cell_type": "markdown",
   "id": "3c04161b",
   "metadata": {
    "_cell_guid": "b1076dfc-b9ad-4769-8c92-a6c4dae69d19",
    "_uuid": "8f2839f25d086af736a60e9eeb907d3b93b6e0e5",
    "papermill": {
     "duration": 0.001715,
     "end_time": "2022-10-31T02:45:56.879672",
     "exception": false,
     "start_time": "2022-10-31T02:45:56.877957",
     "status": "completed"
    },
    "tags": []
   },
   "source": [
    "3. If a decision tree is overﬁtting the training set, is it a good idea to try decreasing max_depth?\n",
    "\n",
    "        Yes"
   ]
  },
  {
   "cell_type": "markdown",
   "id": "7963c221",
   "metadata": {
    "_cell_guid": "b1076dfc-b9ad-4769-8c92-a6c4dae69d19",
    "_uuid": "8f2839f25d086af736a60e9eeb907d3b93b6e0e5",
    "papermill": {
     "duration": 0.001698,
     "end_time": "2022-10-31T02:45:56.883318",
     "exception": false,
     "start_time": "2022-10-31T02:45:56.881620",
     "status": "completed"
    },
    "tags": []
   },
   "source": [
    "4. If a decision tree is underﬁtting the training set, is it a good idea to try scaling the input features?\n",
    "\n",
    "        Scaling doesn't help with improving the decision tress."
   ]
  },
  {
   "cell_type": "markdown",
   "id": "88261992",
   "metadata": {
    "_cell_guid": "b1076dfc-b9ad-4769-8c92-a6c4dae69d19",
    "_uuid": "8f2839f25d086af736a60e9eeb907d3b93b6e0e5",
    "papermill": {
     "duration": 0.001758,
     "end_time": "2022-10-31T02:45:56.886978",
     "exception": false,
     "start_time": "2022-10-31T02:45:56.885220",
     "status": "completed"
    },
    "tags": []
   },
   "source": [
    "5. If it takes one hour to train a decision tree on a training set containing one million instances, roughly how much time will it take to train another decision tree on a training set containing ten million instances? Hint: consider the CART algorithm’s computational complexity.\n",
    "\n",
    "        The computational complexity of training a Decision Tree is O(n × m log₂(m)). So if you multiply the training set size by 10, the training time will be multiplied by K = (n × 10 m × log₂(10 m)) / (n × m × log₂(m)) = 10 × log₂(10 m) / log₂(m). If m = 106, then K ≈ 11.7, so you can expect the training time to be roughly 11.7 hours."
   ]
  },
  {
   "cell_type": "markdown",
   "id": "aecd8f00",
   "metadata": {
    "_cell_guid": "b1076dfc-b9ad-4769-8c92-a6c4dae69d19",
    "_uuid": "8f2839f25d086af736a60e9eeb907d3b93b6e0e5",
    "papermill": {
     "duration": 0.001661,
     "end_time": "2022-10-31T02:45:56.890599",
     "exception": false,
     "start_time": "2022-10-31T02:45:56.888938",
     "status": "completed"
    },
    "tags": []
   },
   "source": [
    "6. If it takes one hour to train a decision tree on a given training set, roughly how much time will it take if you double the number of features?\n",
    "\n",
    "        Double the time\n",
    "        "
   ]
  },
  {
   "cell_type": "markdown",
   "id": "4576660c",
   "metadata": {
    "_cell_guid": "b1076dfc-b9ad-4769-8c92-a6c4dae69d19",
    "_uuid": "8f2839f25d086af736a60e9eeb907d3b93b6e0e5",
    "papermill": {
     "duration": 0.001685,
     "end_time": "2022-10-31T02:45:56.894162",
     "exception": false,
     "start_time": "2022-10-31T02:45:56.892477",
     "status": "completed"
    },
    "tags": []
   },
   "source": [
    "7. Train and ﬁne-tune a decision tree for the moons dataset by following these steps:\n",
    "\n",
    "        a. Use make_moons(n_samples=10000, noise=0.4) to generate a moons dataset.\n",
    "\n",
    "        b. Use train_test_split() to split the dataset into a training set and a test set.\n",
    "\n",
    "        c. Use grid search with cross-validation (with the help of the GridSearchCV class) to ﬁnd good hyperparameter values for a DecisionTreeClassifier. Hint: try various values for max_leaf_nodes. d. Train it on the full training set using these hyperparameters, and measure your model’s performance on the test set. You should get roughly 85% to 87% accuracy."
   ]
  },
  {
   "cell_type": "markdown",
   "id": "53bba0cc",
   "metadata": {
    "_cell_guid": "b1076dfc-b9ad-4769-8c92-a6c4dae69d19",
    "_uuid": "8f2839f25d086af736a60e9eeb907d3b93b6e0e5",
    "papermill": {
     "duration": 0.001644,
     "end_time": "2022-10-31T02:45:56.897667",
     "exception": false,
     "start_time": "2022-10-31T02:45:56.896023",
     "status": "completed"
    },
    "tags": []
   },
   "source": [
    "8. Grow a forest by following these steps:\n",
    "\n",
    "        a. Continuing the previous exercise, generate 1,000 subsets of the training set, each containing 100 instances selected randomly. Hint: you can use ScikitLearn’s ShuffleSplit class for this.\n",
    "\n",
    "        b. Train one decision tree on each subset, using the best hyperparameter values found in the previous exercise. Evaluate these 1,000 decision trees on the test set. Since they were trained on smaller sets, these decision trees will likely perform worse than the ﬁrst decision tree, achieving only about 80% accuracy.\n",
    "\n",
    "        c. Now comes the magic. For each test set instance, generate the predictions of the 1,000 decision trees, and keep only the most frequent prediction (you can use SciPy’s mode() function for this). This approach gives you majorityvote predictions over the test set.\n",
    "\n",
    "        d. Evaluate these predictions on the test set: you should obtain a slightly higher accuracy than your ﬁrst model (about 0.5 to 1.5% higher). Congratulations, you have trained a random forest classiﬁer!"
   ]
  }
 ],
 "metadata": {
  "kernelspec": {
   "display_name": "Python 3",
   "language": "python",
   "name": "python3"
  },
  "language_info": {
   "codemirror_mode": {
    "name": "ipython",
    "version": 3
   },
   "file_extension": ".py",
   "mimetype": "text/x-python",
   "name": "python",
   "nbconvert_exporter": "python",
   "pygments_lexer": "ipython3",
   "version": "3.7.12"
  },
  "papermill": {
   "default_parameters": {},
   "duration": 7.603375,
   "end_time": "2022-10-31T02:45:57.519244",
   "environment_variables": {},
   "exception": null,
   "input_path": "__notebook__.ipynb",
   "output_path": "__notebook__.ipynb",
   "parameters": {},
   "start_time": "2022-10-31T02:45:49.915869",
   "version": "2.3.4"
  }
 },
 "nbformat": 4,
 "nbformat_minor": 5
}
