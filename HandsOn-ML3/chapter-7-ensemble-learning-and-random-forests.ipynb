{
 "cells": [
  {
   "cell_type": "markdown",
   "id": "b01aed89",
   "metadata": {
    "papermill": {
     "duration": 0.020428,
     "end_time": "2022-10-31T23:41:39.029898",
     "exception": false,
     "start_time": "2022-10-31T23:41:39.009470",
     "status": "completed"
    },
    "tags": []
   },
   "source": [
    "**Chapter 7 – Ensemble Learning and Random Forests**"
   ]
  },
  {
   "cell_type": "markdown",
   "id": "3c04b60a",
   "metadata": {
    "papermill": {
     "duration": 0.018977,
     "end_time": "2022-10-31T23:41:39.067270",
     "exception": false,
     "start_time": "2022-10-31T23:41:39.048293",
     "status": "completed"
    },
    "tags": []
   },
   "source": [
    "_This notebook contains all the sample code and solutions to the exercises in chapter 7._"
   ]
  },
  {
   "cell_type": "markdown",
   "id": "28f4ffb9",
   "metadata": {
    "papermill": {
     "duration": 0.017626,
     "end_time": "2022-10-31T23:41:39.103092",
     "exception": false,
     "start_time": "2022-10-31T23:41:39.085466",
     "status": "completed"
    },
    "tags": []
   },
   "source": [
    "<table align=\"left\">\n",
    "  <td>\n",
    "    <a href=\"https://colab.research.google.com/github/ageron/handson-ml3/blob/main/07_ensemble_learning_and_random_forests.ipynb\" target=\"_parent\"><img src=\"https://colab.research.google.com/assets/colab-badge.svg\" alt=\"Open In Colab\"/></a>\n",
    "  </td>\n",
    "  <td>\n",
    "    <a target=\"_blank\" href=\"https://kaggle.com/kernels/welcome?src=https://github.com/ageron/handson-ml3/blob/main/07_ensemble_learning_and_random_forests.ipynb\"><img src=\"https://kaggle.com/static/images/open-in-kaggle.svg\" /></a>\n",
    "  </td>\n",
    "</table>"
   ]
  },
  {
   "cell_type": "markdown",
   "id": "9db9efdf",
   "metadata": {
    "papermill": {
     "duration": 0.01784,
     "end_time": "2022-10-31T23:41:39.139029",
     "exception": false,
     "start_time": "2022-10-31T23:41:39.121189",
     "status": "completed"
    },
    "tags": []
   },
   "source": [
    "# Setup"
   ]
  },
  {
   "cell_type": "markdown",
   "id": "84023079",
   "metadata": {
    "papermill": {
     "duration": 0.017551,
     "end_time": "2022-10-31T23:41:39.174963",
     "exception": false,
     "start_time": "2022-10-31T23:41:39.157412",
     "status": "completed"
    },
    "tags": []
   },
   "source": [
    "This project requires Python 3.7 or above:"
   ]
  },
  {
   "cell_type": "code",
   "execution_count": 1,
   "id": "20a41838",
   "metadata": {
    "execution": {
     "iopub.execute_input": "2022-10-31T23:41:39.211928Z",
     "iopub.status.busy": "2022-10-31T23:41:39.211451Z",
     "iopub.status.idle": "2022-10-31T23:41:39.222090Z",
     "shell.execute_reply": "2022-10-31T23:41:39.220885Z"
    },
    "papermill": {
     "duration": 0.032234,
     "end_time": "2022-10-31T23:41:39.224777",
     "exception": false,
     "start_time": "2022-10-31T23:41:39.192543",
     "status": "completed"
    },
    "tags": []
   },
   "outputs": [],
   "source": [
    "import sys\n",
    "\n",
    "assert sys.version_info >= (3, 7)"
   ]
  },
  {
   "cell_type": "markdown",
   "id": "306af3b2",
   "metadata": {
    "papermill": {
     "duration": 0.017413,
     "end_time": "2022-10-31T23:41:39.260200",
     "exception": false,
     "start_time": "2022-10-31T23:41:39.242787",
     "status": "completed"
    },
    "tags": []
   },
   "source": [
    "It also requires Scikit-Learn ≥ 1.0.1:"
   ]
  },
  {
   "cell_type": "code",
   "execution_count": 2,
   "id": "96afa6ff",
   "metadata": {
    "execution": {
     "iopub.execute_input": "2022-10-31T23:41:39.297407Z",
     "iopub.status.busy": "2022-10-31T23:41:39.296860Z",
     "iopub.status.idle": "2022-10-31T23:41:40.139133Z",
     "shell.execute_reply": "2022-10-31T23:41:40.138026Z"
    },
    "papermill": {
     "duration": 0.863637,
     "end_time": "2022-10-31T23:41:40.141564",
     "exception": false,
     "start_time": "2022-10-31T23:41:39.277927",
     "status": "completed"
    },
    "tags": []
   },
   "outputs": [],
   "source": [
    "from packaging import version\n",
    "import sklearn\n",
    "\n",
    "assert version.parse(sklearn.__version__) >= version.parse(\"1.0.1\")"
   ]
  },
  {
   "cell_type": "markdown",
   "id": "0077fd4d",
   "metadata": {
    "papermill": {
     "duration": 0.017313,
     "end_time": "2022-10-31T23:41:40.176638",
     "exception": false,
     "start_time": "2022-10-31T23:41:40.159325",
     "status": "completed"
    },
    "tags": []
   },
   "source": [
    "As we did in previous chapters, let's define the default font sizes to make the figures prettier:"
   ]
  },
  {
   "cell_type": "code",
   "execution_count": 3,
   "id": "f8cf33c3",
   "metadata": {
    "execution": {
     "iopub.execute_input": "2022-10-31T23:41:40.213780Z",
     "iopub.status.busy": "2022-10-31T23:41:40.212946Z",
     "iopub.status.idle": "2022-10-31T23:41:40.217786Z",
     "shell.execute_reply": "2022-10-31T23:41:40.217178Z"
    },
    "papermill": {
     "duration": 0.025152,
     "end_time": "2022-10-31T23:41:40.219443",
     "exception": false,
     "start_time": "2022-10-31T23:41:40.194291",
     "status": "completed"
    },
    "tags": []
   },
   "outputs": [],
   "source": [
    "import matplotlib.pyplot as plt\n",
    "\n",
    "plt.rc('font', size=14)\n",
    "plt.rc('axes', labelsize=14, titlesize=14)\n",
    "plt.rc('legend', fontsize=14)\n",
    "plt.rc('xtick', labelsize=10)\n",
    "plt.rc('ytick', labelsize=10)"
   ]
  },
  {
   "cell_type": "markdown",
   "id": "c5d6c4bc",
   "metadata": {
    "papermill": {
     "duration": 0.017279,
     "end_time": "2022-10-31T23:41:40.254598",
     "exception": false,
     "start_time": "2022-10-31T23:41:40.237319",
     "status": "completed"
    },
    "tags": []
   },
   "source": [
    "And let's create the `images/ensembles` folder (if it doesn't already exist), and define the `save_fig()` function which is used through this notebook to save the figures in high-res for the book:"
   ]
  },
  {
   "cell_type": "code",
   "execution_count": 4,
   "id": "c8ef84bd",
   "metadata": {
    "execution": {
     "iopub.execute_input": "2022-10-31T23:41:40.291512Z",
     "iopub.status.busy": "2022-10-31T23:41:40.290987Z",
     "iopub.status.idle": "2022-10-31T23:41:40.297539Z",
     "shell.execute_reply": "2022-10-31T23:41:40.296853Z"
    },
    "papermill": {
     "duration": 0.026914,
     "end_time": "2022-10-31T23:41:40.299115",
     "exception": false,
     "start_time": "2022-10-31T23:41:40.272201",
     "status": "completed"
    },
    "tags": []
   },
   "outputs": [],
   "source": [
    "from pathlib import Path\n",
    "\n",
    "IMAGES_PATH = Path() / \"images\" / \"ensembles\"\n",
    "IMAGES_PATH.mkdir(parents=True, exist_ok=True)\n",
    "\n",
    "def save_fig(fig_id, tight_layout=True, fig_extension=\"png\", resolution=300):\n",
    "    path = IMAGES_PATH / f\"{fig_id}.{fig_extension}\"\n",
    "    if tight_layout:\n",
    "        plt.tight_layout()\n",
    "    plt.savefig(path, format=fig_extension, dpi=resolution)"
   ]
  },
  {
   "cell_type": "markdown",
   "id": "fb653a16",
   "metadata": {
    "papermill": {
     "duration": 0.017155,
     "end_time": "2022-10-31T23:41:40.333830",
     "exception": false,
     "start_time": "2022-10-31T23:41:40.316675",
     "status": "completed"
    },
    "tags": []
   },
   "source": [
    "# Voting Classifiers"
   ]
  },
  {
   "cell_type": "code",
   "execution_count": 5,
   "id": "bf67fd64",
   "metadata": {
    "execution": {
     "iopub.execute_input": "2022-10-31T23:41:40.370652Z",
     "iopub.status.busy": "2022-10-31T23:41:40.370066Z",
     "iopub.status.idle": "2022-10-31T23:41:41.026956Z",
     "shell.execute_reply": "2022-10-31T23:41:41.026151Z"
    },
    "papermill": {
     "duration": 0.678185,
     "end_time": "2022-10-31T23:41:41.029438",
     "exception": false,
     "start_time": "2022-10-31T23:41:40.351253",
     "status": "completed"
    },
    "tags": []
   },
   "outputs": [
    {
     "data": {
      "image/png": "[encoded data removed]",
      "text/plain": [
       "<Figure size 576x252 with 1 Axes>"
      ]
     },
     "metadata": {
      "needs_background": "light"
     },
     "output_type": "display_data"
    }
   ],
   "source": [
    "# extra code – this cell generates and saves Figure 7–3\n",
    "\n",
    "import matplotlib.pyplot as plt\n",
    "import numpy as np\n",
    "\n",
    "heads_proba = 0.51\n",
    "np.random.seed(42)\n",
    "coin_tosses = (np.random.rand(10000, 10) < heads_proba).astype(np.int32)\n",
    "cumulative_heads = coin_tosses.cumsum(axis=0)\n",
    "cumulative_heads_ratio = cumulative_heads / np.arange(1, 10001).reshape(-1, 1)\n",
    "\n",
    "plt.figure(figsize=(8, 3.5))\n",
    "plt.plot(cumulative_heads_ratio)\n",
    "plt.plot([0, 10000], [0.51, 0.51], \"k--\", linewidth=2, label=\"51%\")\n",
    "plt.plot([0, 10000], [0.5, 0.5], \"k-\", label=\"50%\")\n",
    "plt.xlabel(\"Number of coin tosses\")\n",
    "plt.ylabel(\"Heads ratio\")\n",
    "plt.legend(loc=\"lower right\")\n",
    "plt.axis([0, 10000, 0.42, 0.58])\n",
    "plt.grid()\n",
    "save_fig(\"law_of_large_numbers_plot\")\n",
    "plt.show()"
   ]
  },
  {
   "cell_type": "markdown",
   "id": "1438a42b",
   "metadata": {
    "papermill": {
     "duration": 0.018572,
     "end_time": "2022-10-31T23:41:41.068281",
     "exception": false,
     "start_time": "2022-10-31T23:41:41.049709",
     "status": "completed"
    },
    "tags": []
   },
   "source": [
    "Let's build a voting classifier:"
   ]
  },
  {
   "cell_type": "code",
   "execution_count": 6,
   "id": "f21e94ee",
   "metadata": {
    "execution": {
     "iopub.execute_input": "2022-10-31T23:41:41.107334Z",
     "iopub.status.busy": "2022-10-31T23:41:41.106925Z",
     "iopub.status.idle": "2022-10-31T23:41:41.569779Z",
     "shell.execute_reply": "2022-10-31T23:41:41.568800Z"
    },
    "papermill": {
     "duration": 0.485313,
     "end_time": "2022-10-31T23:41:41.572493",
     "exception": false,
     "start_time": "2022-10-31T23:41:41.087180",
     "status": "completed"
    },
    "tags": []
   },
   "outputs": [
    {
     "data": {
      "text/plain": [
       "VotingClassifier(estimators=[('lr', LogisticRegression(random_state=42)),\n",
       "                             ('rf', RandomForestClassifier(random_state=42)),\n",
       "                             ('svc', SVC(random_state=42))])"
      ]
     },
     "execution_count": 6,
     "metadata": {},
     "output_type": "execute_result"
    }
   ],
   "source": [
    "from sklearn.datasets import make_moons\n",
    "from sklearn.ensemble import RandomForestClassifier, VotingClassifier\n",
    "from sklearn.linear_model import LogisticRegression\n",
    "from sklearn.model_selection import train_test_split\n",
    "from sklearn.svm import SVC\n",
    "\n",
    "X, y = make_moons(n_samples=500, noise=0.30, random_state=42)\n",
    "X_train, X_test, y_train, y_test = train_test_split(X, y, random_state=42)\n",
    "\n",
    "voting_clf = VotingClassifier(\n",
    "    estimators=[\n",
    "        ('lr', LogisticRegression(random_state=42)),\n",
    "        ('rf', RandomForestClassifier(random_state=42)),\n",
    "        ('svc', SVC(random_state=42))\n",
    "    ]\n",
    ")\n",
    "voting_clf.fit(X_train, y_train)"
   ]
  },
  {
   "cell_type": "code",
   "execution_count": 7,
   "id": "bca08b5e",
   "metadata": {
    "execution": {
     "iopub.execute_input": "2022-10-31T23:41:41.615120Z",
     "iopub.status.busy": "2022-10-31T23:41:41.614691Z",
     "iopub.status.idle": "2022-10-31T23:41:41.635419Z",
     "shell.execute_reply": "2022-10-31T23:41:41.634474Z"
    },
    "papermill": {
     "duration": 0.042497,
     "end_time": "2022-10-31T23:41:41.637592",
     "exception": false,
     "start_time": "2022-10-31T23:41:41.595095",
     "status": "completed"
    },
    "tags": []
   },
   "outputs": [
    {
     "name": "stdout",
     "output_type": "stream",
     "text": [
      "lr = 0.864\n",
      "rf = 0.896\n",
      "svc = 0.896\n"
     ]
    }
   ],
   "source": [
    "for name, clf in voting_clf.named_estimators_.items():\n",
    "    print(name, \"=\", clf.score(X_test, y_test))"
   ]
  },
  {
   "cell_type": "code",
   "execution_count": 8,
   "id": "099c609c",
   "metadata": {
    "execution": {
     "iopub.execute_input": "2022-10-31T23:41:41.677604Z",
     "iopub.status.busy": "2022-10-31T23:41:41.677263Z",
     "iopub.status.idle": "2022-10-31T23:41:41.694721Z",
     "shell.execute_reply": "2022-10-31T23:41:41.693520Z"
    },
    "papermill": {
     "duration": 0.039914,
     "end_time": "2022-10-31T23:41:41.696809",
     "exception": false,
     "start_time": "2022-10-31T23:41:41.656895",
     "status": "completed"
    },
    "tags": []
   },
   "outputs": [
    {
     "data": {
      "text/plain": [
       "array([1])"
      ]
     },
     "execution_count": 8,
     "metadata": {},
     "output_type": "execute_result"
    }
   ],
   "source": [
    "voting_clf.predict(X_test[:1])"
   ]
  },
  {
   "cell_type": "code",
   "execution_count": 9,
   "id": "6ee22df2",
   "metadata": {
    "execution": {
     "iopub.execute_input": "2022-10-31T23:41:41.737428Z",
     "iopub.status.busy": "2022-10-31T23:41:41.736620Z",
     "iopub.status.idle": "2022-10-31T23:41:41.755155Z",
     "shell.execute_reply": "2022-10-31T23:41:41.754327Z"
    },
    "papermill": {
     "duration": 0.041219,
     "end_time": "2022-10-31T23:41:41.756892",
     "exception": false,
     "start_time": "2022-10-31T23:41:41.715673",
     "status": "completed"
    },
    "tags": []
   },
   "outputs": [
    {
     "data": {
      "text/plain": [
       "[array([1]), array([1]), array([0])]"
      ]
     },
     "execution_count": 9,
     "metadata": {},
     "output_type": "execute_result"
    }
   ],
   "source": [
    "[clf.predict(X_test[:1]) for clf in voting_clf.estimators_]"
   ]
  },
  {
   "cell_type": "code",
   "execution_count": 10,
   "id": "1b7150d4",
   "metadata": {
    "execution": {
     "iopub.execute_input": "2022-10-31T23:41:41.797530Z",
     "iopub.status.busy": "2022-10-31T23:41:41.797192Z",
     "iopub.status.idle": "2022-10-31T23:41:41.817536Z",
     "shell.execute_reply": "2022-10-31T23:41:41.816278Z"
    },
    "papermill": {
     "duration": 0.042804,
     "end_time": "2022-10-31T23:41:41.819373",
     "exception": false,
     "start_time": "2022-10-31T23:41:41.776569",
     "status": "completed"
    },
    "tags": []
   },
   "outputs": [
    {
     "data": {
      "text/plain": [
       "0.912"
      ]
     },
     "execution_count": 10,
     "metadata": {},
     "output_type": "execute_result"
    }
   ],
   "source": [
    "voting_clf.score(X_test, y_test)"
   ]
  },
  {
   "cell_type": "markdown",
   "id": "a3ed8017",
   "metadata": {
    "papermill": {
     "duration": 0.019344,
     "end_time": "2022-10-31T23:41:41.859308",
     "exception": false,
     "start_time": "2022-10-31T23:41:41.839964",
     "status": "completed"
    },
    "tags": []
   },
   "source": [
    "Now let's use soft voting:"
   ]
  },
  {
   "cell_type": "code",
   "execution_count": 11,
   "id": "30073b79",
   "metadata": {
    "execution": {
     "iopub.execute_input": "2022-10-31T23:41:41.900936Z",
     "iopub.status.busy": "2022-10-31T23:41:41.899706Z",
     "iopub.status.idle": "2022-10-31T23:41:42.050728Z",
     "shell.execute_reply": "2022-10-31T23:41:42.050043Z"
    },
    "papermill": {
     "duration": 0.173424,
     "end_time": "2022-10-31T23:41:42.052473",
     "exception": false,
     "start_time": "2022-10-31T23:41:41.879049",
     "status": "completed"
    },
    "tags": []
   },
   "outputs": [
    {
     "data": {
      "text/plain": [
       "0.92"
      ]
     },
     "execution_count": 11,
     "metadata": {},
     "output_type": "execute_result"
    }
   ],
   "source": [
    "voting_clf.voting = \"soft\"\n",
    "voting_clf.named_estimators[\"svc\"].probability = True\n",
    "voting_clf.fit(X_train, y_train)\n",
    "voting_clf.score(X_test, y_test)"
   ]
  },
  {
   "cell_type": "markdown",
   "id": "63cdd42f",
   "metadata": {
    "papermill": {
     "duration": 0.01913,
     "end_time": "2022-10-31T23:41:42.090803",
     "exception": false,
     "start_time": "2022-10-31T23:41:42.071673",
     "status": "completed"
    },
    "tags": []
   },
   "source": [
    "# Bagging and Pasting\n",
    "## Bagging and Pasting in Scikit-Learn"
   ]
  },
  {
   "cell_type": "code",
   "execution_count": 12,
   "id": "3e907587",
   "metadata": {
    "execution": {
     "iopub.execute_input": "2022-10-31T23:41:42.132135Z",
     "iopub.status.busy": "2022-10-31T23:41:42.131401Z",
     "iopub.status.idle": "2022-10-31T23:41:43.363369Z",
     "shell.execute_reply": "2022-10-31T23:41:43.361971Z"
    },
    "papermill": {
     "duration": 1.255908,
     "end_time": "2022-10-31T23:41:43.365814",
     "exception": false,
     "start_time": "2022-10-31T23:41:42.109906",
     "status": "completed"
    },
    "tags": []
   },
   "outputs": [
    {
     "data": {
      "text/plain": [
       "BaggingClassifier(base_estimator=DecisionTreeClassifier(), max_samples=100,\n",
       "                  n_estimators=500, n_jobs=-1, random_state=42)"
      ]
     },
     "execution_count": 12,
     "metadata": {},
     "output_type": "execute_result"
    }
   ],
   "source": [
    "from sklearn.ensemble import BaggingClassifier\n",
    "from sklearn.tree import DecisionTreeClassifier\n",
    "\n",
    "bag_clf = BaggingClassifier(DecisionTreeClassifier(), n_estimators=500,\n",
    "                            max_samples=100, n_jobs=-1, random_state=42)\n",
    "bag_clf.fit(X_train, y_train)"
   ]
  },
  {
   "cell_type": "code",
   "execution_count": 13,
   "id": "af8ae6e9",
   "metadata": {
    "execution": {
     "iopub.execute_input": "2022-10-31T23:41:43.409994Z",
     "iopub.status.busy": "2022-10-31T23:41:43.409301Z",
     "iopub.status.idle": "2022-10-31T23:41:44.757798Z",
     "shell.execute_reply": "2022-10-31T23:41:44.756737Z"
    },
    "papermill": {
     "duration": 1.371394,
     "end_time": "2022-10-31T23:41:44.759739",
     "exception": false,
     "start_time": "2022-10-31T23:41:43.388345",
     "status": "completed"
    },
    "tags": []
   },
   "outputs": [
    {
     "data": {
      "image/png": "[encoded data removed]",
      "text/plain": [
       "<Figure size 720x288 with 2 Axes>"
      ]
     },
     "metadata": {
      "needs_background": "light"
     },
     "output_type": "display_data"
    }
   ],
   "source": [
    "# extra code – this cell generates and saves Figure 7–5\n",
    "\n",
    "def plot_decision_boundary(clf, X, y, alpha=1.0):\n",
    "    axes=[-1.5, 2.4, -1, 1.5]\n",
    "    x1, x2 = np.meshgrid(np.linspace(axes[0], axes[1], 100),\n",
    "                         np.linspace(axes[2], axes[3], 100))\n",
    "    X_new = np.c_[x1.ravel(), x2.ravel()]\n",
    "    y_pred = clf.predict(X_new).reshape(x1.shape)\n",
    "    \n",
    "    plt.contourf(x1, x2, y_pred, alpha=0.3 * alpha, cmap='Wistia')\n",
    "    plt.contour(x1, x2, y_pred, cmap=\"Greys\", alpha=0.8 * alpha)\n",
    "    colors = [\"#78785c\", \"#c47b27\"]\n",
    "    markers = (\"o\", \"^\")\n",
    "    for idx in (0, 1):\n",
    "        plt.plot(X[:, 0][y == idx], X[:, 1][y == idx],\n",
    "                 color=colors[idx], marker=markers[idx], linestyle=\"none\")\n",
    "    plt.axis(axes)\n",
    "    plt.xlabel(r\"$x_1$\")\n",
    "    plt.ylabel(r\"$x_2$\", rotation=0)\n",
    "\n",
    "tree_clf = DecisionTreeClassifier(random_state=42)\n",
    "tree_clf.fit(X_train, y_train)\n",
    "\n",
    "fig, axes = plt.subplots(ncols=2, figsize=(10, 4), sharey=True)\n",
    "plt.sca(axes[0])\n",
    "plot_decision_boundary(tree_clf, X_train, y_train)\n",
    "plt.title(\"Decision Tree\")\n",
    "plt.sca(axes[1])\n",
    "plot_decision_boundary(bag_clf, X_train, y_train)\n",
    "plt.title(\"Decision Trees with Bagging\")\n",
    "plt.ylabel(\"\")\n",
    "save_fig(\"decision_tree_without_and_with_bagging_plot\")\n",
    "plt.show()"
   ]
  },
  {
   "cell_type": "markdown",
   "id": "3de069e0",
   "metadata": {
    "papermill": {
     "duration": 0.019794,
     "end_time": "2022-10-31T23:41:44.800023",
     "exception": false,
     "start_time": "2022-10-31T23:41:44.780229",
     "status": "completed"
    },
    "tags": []
   },
   "source": [
    "## Out-of-Bag evaluation"
   ]
  },
  {
   "cell_type": "code",
   "execution_count": 14,
   "id": "150d920a",
   "metadata": {
    "execution": {
     "iopub.execute_input": "2022-10-31T23:41:44.842115Z",
     "iopub.status.busy": "2022-10-31T23:41:44.841539Z",
     "iopub.status.idle": "2022-10-31T23:41:45.348435Z",
     "shell.execute_reply": "2022-10-31T23:41:45.347557Z"
    },
    "papermill": {
     "duration": 0.530175,
     "end_time": "2022-10-31T23:41:45.350365",
     "exception": false,
     "start_time": "2022-10-31T23:41:44.820190",
     "status": "completed"
    },
    "tags": []
   },
   "outputs": [
    {
     "data": {
      "text/plain": [
       "0.896"
      ]
     },
     "execution_count": 14,
     "metadata": {},
     "output_type": "execute_result"
    }
   ],
   "source": [
    "bag_clf = BaggingClassifier(DecisionTreeClassifier(), n_estimators=500,\n",
    "                            oob_score=True, n_jobs=-1, random_state=42)\n",
    "bag_clf.fit(X_train, y_train)\n",
    "bag_clf.oob_score_"
   ]
  },
  {
   "cell_type": "code",
   "execution_count": 15,
   "id": "1a713157",
   "metadata": {
    "execution": {
     "iopub.execute_input": "2022-10-31T23:41:45.394691Z",
     "iopub.status.busy": "2022-10-31T23:41:45.393561Z",
     "iopub.status.idle": "2022-10-31T23:41:45.400612Z",
     "shell.execute_reply": "2022-10-31T23:41:45.399412Z"
    },
    "papermill": {
     "duration": 0.03129,
     "end_time": "2022-10-31T23:41:45.403190",
     "exception": false,
     "start_time": "2022-10-31T23:41:45.371900",
     "status": "completed"
    },
    "tags": []
   },
   "outputs": [
    {
     "data": {
      "text/plain": [
       "array([[0.32352941, 0.67647059],\n",
       "       [0.3375    , 0.6625    ],\n",
       "       [1.        , 0.        ]])"
      ]
     },
     "execution_count": 15,
     "metadata": {},
     "output_type": "execute_result"
    }
   ],
   "source": [
    "bag_clf.oob_decision_function_[:3]  # probas for the first 3 instances"
   ]
  },
  {
   "cell_type": "code",
   "execution_count": 16,
   "id": "3fcde52e",
   "metadata": {
    "execution": {
     "iopub.execute_input": "2022-10-31T23:41:45.445353Z",
     "iopub.status.busy": "2022-10-31T23:41:45.444989Z",
     "iopub.status.idle": "2022-10-31T23:41:45.692926Z",
     "shell.execute_reply": "2022-10-31T23:41:45.692034Z"
    },
    "papermill": {
     "duration": 0.271326,
     "end_time": "2022-10-31T23:41:45.695053",
     "exception": false,
     "start_time": "2022-10-31T23:41:45.423727",
     "status": "completed"
    },
    "scrolled": true,
    "tags": []
   },
   "outputs": [
    {
     "data": {
      "text/plain": [
       "0.92"
      ]
     },
     "execution_count": 16,
     "metadata": {},
     "output_type": "execute_result"
    }
   ],
   "source": [
    "from sklearn.metrics import accuracy_score\n",
    "\n",
    "y_pred = bag_clf.predict(X_test)\n",
    "accuracy_score(y_test, y_pred)"
   ]
  },
  {
   "cell_type": "markdown",
   "id": "74332c82",
   "metadata": {
    "papermill": {
     "duration": 0.022054,
     "end_time": "2022-10-31T23:41:45.737643",
     "exception": false,
     "start_time": "2022-10-31T23:41:45.715589",
     "status": "completed"
    },
    "tags": []
   },
   "source": [
    "If you randomly draw one instance from a dataset of size _m_, each instance in the dataset obviously has probability 1/_m_ of getting picked, and therefore it has a probability 1 – 1/_m_ of _not_ getting picked. If you draw _m_ instances with replacement, all draws are independent and therefore each instance has a probability (1 – 1/_m_)<sup>_m_</sup> of _not_ getting picked. Now let's use the fact that exp(_x_) is equal to the limit of (1 + _x_/_m_)<sup>_m_</sup> as _m_ approaches infinity. So if _m_ is large, the ratio of out-of-bag instances will be about exp(–1) ≈ 0.37. So roughly 63% (1 – 0.37) will be sampled."
   ]
  },
  {
   "cell_type": "code",
   "execution_count": 17,
   "id": "0a7b7145",
   "metadata": {
    "execution": {
     "iopub.execute_input": "2022-10-31T23:41:45.789171Z",
     "iopub.status.busy": "2022-10-31T23:41:45.788310Z",
     "iopub.status.idle": "2022-10-31T23:41:45.794497Z",
     "shell.execute_reply": "2022-10-31T23:41:45.793051Z"
    },
    "papermill": {
     "duration": 0.032679,
     "end_time": "2022-10-31T23:41:45.797487",
     "exception": false,
     "start_time": "2022-10-31T23:41:45.764808",
     "status": "completed"
    },
    "tags": []
   },
   "outputs": [
    {
     "name": "stdout",
     "output_type": "stream",
     "text": [
      "0.6323045752290363\n",
      "0.6321205588285577\n"
     ]
    }
   ],
   "source": [
    "# extra code – shows how to compute the 63% proba\n",
    "print(1 - (1 - 1 / 1000) ** 1000)\n",
    "print(1 - np.exp(-1))"
   ]
  },
  {
   "cell_type": "markdown",
   "id": "dff7ee69",
   "metadata": {
    "papermill": {
     "duration": 0.020998,
     "end_time": "2022-10-31T23:41:45.839455",
     "exception": false,
     "start_time": "2022-10-31T23:41:45.818457",
     "status": "completed"
    },
    "tags": []
   },
   "source": [
    "# Random Forests"
   ]
  },
  {
   "cell_type": "code",
   "execution_count": 18,
   "id": "813fff9c",
   "metadata": {
    "execution": {
     "iopub.execute_input": "2022-10-31T23:41:45.883790Z",
     "iopub.status.busy": "2022-10-31T23:41:45.882617Z",
     "iopub.status.idle": "2022-10-31T23:41:46.873769Z",
     "shell.execute_reply": "2022-10-31T23:41:46.873053Z"
    },
    "papermill": {
     "duration": 1.01569,
     "end_time": "2022-10-31T23:41:46.875813",
     "exception": false,
     "start_time": "2022-10-31T23:41:45.860123",
     "status": "completed"
    },
    "tags": []
   },
   "outputs": [],
   "source": [
    "from sklearn.ensemble import RandomForestClassifier\n",
    "\n",
    "rnd_clf = RandomForestClassifier(n_estimators=500, max_leaf_nodes=16,\n",
    "                                 n_jobs=-1, random_state=42)\n",
    "rnd_clf.fit(X_train, y_train)\n",
    "y_pred_rf = rnd_clf.predict(X_test)"
   ]
  },
  {
   "cell_type": "markdown",
   "id": "299058e5",
   "metadata": {
    "papermill": {
     "duration": 0.021287,
     "end_time": "2022-10-31T23:41:46.918578",
     "exception": false,
     "start_time": "2022-10-31T23:41:46.897291",
     "status": "completed"
    },
    "tags": []
   },
   "source": [
    "A Random Forest is equivalent to a bag of decision trees:"
   ]
  },
  {
   "cell_type": "code",
   "execution_count": 19,
   "id": "a9079924",
   "metadata": {
    "execution": {
     "iopub.execute_input": "2022-10-31T23:41:46.963242Z",
     "iopub.status.busy": "2022-10-31T23:41:46.962311Z",
     "iopub.status.idle": "2022-10-31T23:41:46.968214Z",
     "shell.execute_reply": "2022-10-31T23:41:46.966880Z"
    },
    "papermill": {
     "duration": 0.030666,
     "end_time": "2022-10-31T23:41:46.970239",
     "exception": false,
     "start_time": "2022-10-31T23:41:46.939573",
     "status": "completed"
    },
    "tags": []
   },
   "outputs": [],
   "source": [
    "bag_clf = BaggingClassifier(\n",
    "    DecisionTreeClassifier(max_features=\"sqrt\", max_leaf_nodes=16),\n",
    "    n_estimators=500, n_jobs=-1, random_state=42)"
   ]
  },
  {
   "cell_type": "code",
   "execution_count": 20,
   "id": "64dacc35",
   "metadata": {
    "execution": {
     "iopub.execute_input": "2022-10-31T23:41:47.012789Z",
     "iopub.status.busy": "2022-10-31T23:41:47.012444Z",
     "iopub.status.idle": "2022-10-31T23:41:47.598599Z",
     "shell.execute_reply": "2022-10-31T23:41:47.597693Z"
    },
    "papermill": {
     "duration": 0.610003,
     "end_time": "2022-10-31T23:41:47.601077",
     "exception": false,
     "start_time": "2022-10-31T23:41:46.991074",
     "status": "completed"
    },
    "tags": []
   },
   "outputs": [
    {
     "data": {
      "text/plain": [
       "True"
      ]
     },
     "execution_count": 20,
     "metadata": {},
     "output_type": "execute_result"
    }
   ],
   "source": [
    "# extra code – verifies that the predictions are identical\n",
    "bag_clf.fit(X_train, y_train)\n",
    "y_pred_bag = bag_clf.predict(X_test)\n",
    "np.all(y_pred_bag == y_pred_rf)  # same predictions"
   ]
  },
  {
   "cell_type": "markdown",
   "id": "6233aa61",
   "metadata": {
    "papermill": {
     "duration": 0.021035,
     "end_time": "2022-10-31T23:41:47.643342",
     "exception": false,
     "start_time": "2022-10-31T23:41:47.622307",
     "status": "completed"
    },
    "tags": []
   },
   "source": [
    "## Feature Importance"
   ]
  },
  {
   "cell_type": "code",
   "execution_count": 21,
   "id": "9f31fc49",
   "metadata": {
    "execution": {
     "iopub.execute_input": "2022-10-31T23:41:47.686714Z",
     "iopub.status.busy": "2022-10-31T23:41:47.686390Z",
     "iopub.status.idle": "2022-10-31T23:41:48.281822Z",
     "shell.execute_reply": "2022-10-31T23:41:48.280449Z"
    },
    "papermill": {
     "duration": 0.619999,
     "end_time": "2022-10-31T23:41:48.284336",
     "exception": false,
     "start_time": "2022-10-31T23:41:47.664337",
     "status": "completed"
    },
    "tags": []
   },
   "outputs": [
    {
     "name": "stdout",
     "output_type": "stream",
     "text": [
      "0.11 sepal length (cm)\n",
      "0.02 sepal width (cm)\n",
      "0.44 petal length (cm)\n",
      "0.42 petal width (cm)\n"
     ]
    }
   ],
   "source": [
    "from sklearn.datasets import load_iris\n",
    "\n",
    "iris = load_iris(as_frame=True)\n",
    "rnd_clf = RandomForestClassifier(n_estimators=500, random_state=42)\n",
    "rnd_clf.fit(iris.data, iris.target)\n",
    "for score, name in zip(rnd_clf.feature_importances_, iris.data.columns):\n",
    "    print(round(score, 2), name)"
   ]
  },
  {
   "cell_type": "code",
   "execution_count": 22,
   "id": "9b52f8b4",
   "metadata": {
    "execution": {
     "iopub.execute_input": "2022-10-31T23:41:48.328136Z",
     "iopub.status.busy": "2022-10-31T23:41:48.327107Z",
     "iopub.status.idle": "2022-10-31T23:43:10.065087Z",
     "shell.execute_reply": "2022-10-31T23:43:10.064192Z"
    },
    "papermill": {
     "duration": 81.789144,
     "end_time": "2022-10-31T23:43:10.094506",
     "exception": false,
     "start_time": "2022-10-31T23:41:48.305362",
     "status": "completed"
    },
    "tags": []
   },
   "outputs": [
    {
     "data": {
      "image/png": "[encoded data removed]",
      "text/plain": [
       "<Figure size 432x288 with 2 Axes>"
      ]
     },
     "metadata": {
      "needs_background": "light"
     },
     "output_type": "display_data"
    }
   ],
   "source": [
    "# extra code – this cell generates and saves Figure 7–6\n",
    "\n",
    "from sklearn.datasets import fetch_openml\n",
    "\n",
    "X_mnist, y_mnist = fetch_openml('mnist_784', return_X_y=True, as_frame=False)\n",
    "\n",
    "rnd_clf = RandomForestClassifier(n_estimators=100, random_state=42)\n",
    "rnd_clf.fit(X_mnist, y_mnist)\n",
    "\n",
    "heatmap_image = rnd_clf.feature_importances_.reshape(28, 28)\n",
    "plt.imshow(heatmap_image, cmap=\"hot\")\n",
    "cbar = plt.colorbar(ticks=[rnd_clf.feature_importances_.min(),\n",
    "                           rnd_clf.feature_importances_.max()])\n",
    "cbar.ax.set_yticklabels(['Not important', 'Very important'], fontsize=14)\n",
    "plt.axis(\"off\")\n",
    "save_fig(\"mnist_feature_importance_plot\")\n",
    "plt.show()"
   ]
  },
  {
   "cell_type": "markdown",
   "id": "fbda6913",
   "metadata": {
    "papermill": {
     "duration": 0.021031,
     "end_time": "2022-10-31T23:43:10.142895",
     "exception": false,
     "start_time": "2022-10-31T23:43:10.121864",
     "status": "completed"
    },
    "tags": []
   },
   "source": [
    "# Boosting\n",
    "## AdaBoost"
   ]
  },
  {
   "cell_type": "code",
   "execution_count": 23,
   "id": "81a70116",
   "metadata": {
    "execution": {
     "iopub.execute_input": "2022-10-31T23:43:10.188422Z",
     "iopub.status.busy": "2022-10-31T23:43:10.187291Z",
     "iopub.status.idle": "2022-10-31T23:43:12.735436Z",
     "shell.execute_reply": "2022-10-31T23:43:12.734714Z"
    },
    "papermill": {
     "duration": 2.57341,
     "end_time": "2022-10-31T23:43:12.737538",
     "exception": false,
     "start_time": "2022-10-31T23:43:10.164128",
     "status": "completed"
    },
    "tags": []
   },
   "outputs": [
    {
     "data": {
      "image/png": "[encoded data removed]",
      "text/plain": [
       "<Figure size 720x288 with 2 Axes>"
      ]
     },
     "metadata": {
      "needs_background": "light"
     },
     "output_type": "display_data"
    }
   ],
   "source": [
    "# extra code – this cell generates and saves Figure 7–8\n",
    "\n",
    "m = len(X_train)\n",
    "\n",
    "fig, axes = plt.subplots(ncols=2, figsize=(10, 4), sharey=True)\n",
    "for subplot, learning_rate in ((0, 1), (1, 0.5)):\n",
    "    sample_weights = np.ones(m) / m\n",
    "    plt.sca(axes[subplot])\n",
    "    for i in range(5):\n",
    "        svm_clf = SVC(C=0.2, gamma=0.6, random_state=42)\n",
    "        svm_clf.fit(X_train, y_train, sample_weight=sample_weights * m)\n",
    "        y_pred = svm_clf.predict(X_train)\n",
    "\n",
    "        error_weights = sample_weights[y_pred != y_train].sum()\n",
    "        r = error_weights / sample_weights.sum()  # equation 7-1\n",
    "        alpha = learning_rate * np.log((1 - r) / r)  # equation 7-2\n",
    "        sample_weights[y_pred != y_train] *= np.exp(alpha)  # equation 7-3\n",
    "        sample_weights /= sample_weights.sum()  # normalization step\n",
    "\n",
    "        plot_decision_boundary(svm_clf, X_train, y_train, alpha=0.4)\n",
    "        plt.title(f\"learning_rate = {learning_rate}\")\n",
    "    if subplot == 0:\n",
    "        plt.text(-0.75, -0.95, \"1\", fontsize=16)\n",
    "        plt.text(-1.05, -0.95, \"2\", fontsize=16)\n",
    "        plt.text(1.0, -0.95, \"3\", fontsize=16)\n",
    "        plt.text(-1.45, -0.5, \"4\", fontsize=16)\n",
    "        plt.text(1.36,  -0.95, \"5\", fontsize=16)\n",
    "    else:\n",
    "        plt.ylabel(\"\")\n",
    "\n",
    "save_fig(\"boosting_plot\")\n",
    "plt.show()"
   ]
  },
  {
   "cell_type": "code",
   "execution_count": 24,
   "id": "a3879a70",
   "metadata": {
    "execution": {
     "iopub.execute_input": "2022-10-31T23:43:12.783866Z",
     "iopub.status.busy": "2022-10-31T23:43:12.782985Z",
     "iopub.status.idle": "2022-10-31T23:43:12.827903Z",
     "shell.execute_reply": "2022-10-31T23:43:12.827205Z"
    },
    "papermill": {
     "duration": 0.069892,
     "end_time": "2022-10-31T23:43:12.829617",
     "exception": false,
     "start_time": "2022-10-31T23:43:12.759725",
     "status": "completed"
    },
    "tags": []
   },
   "outputs": [
    {
     "data": {
      "text/plain": [
       "AdaBoostClassifier(base_estimator=DecisionTreeClassifier(max_depth=1),\n",
       "                   learning_rate=0.5, n_estimators=30, random_state=42)"
      ]
     },
     "execution_count": 24,
     "metadata": {},
     "output_type": "execute_result"
    }
   ],
   "source": [
    "from sklearn.ensemble import AdaBoostClassifier\n",
    "\n",
    "ada_clf = AdaBoostClassifier(\n",
    "    DecisionTreeClassifier(max_depth=1), n_estimators=30,\n",
    "    learning_rate=0.5, random_state=42)\n",
    "ada_clf.fit(X_train, y_train)"
   ]
  },
  {
   "cell_type": "code",
   "execution_count": 25,
   "id": "3d8c10b1",
   "metadata": {
    "execution": {
     "iopub.execute_input": "2022-10-31T23:43:12.876124Z",
     "iopub.status.busy": "2022-10-31T23:43:12.875754Z",
     "iopub.status.idle": "2022-10-31T23:43:13.094603Z",
     "shell.execute_reply": "2022-10-31T23:43:13.093610Z"
    },
    "papermill": {
     "duration": 0.244464,
     "end_time": "2022-10-31T23:43:13.096800",
     "exception": false,
     "start_time": "2022-10-31T23:43:12.852336",
     "status": "completed"
    },
    "tags": []
   },
   "outputs": [
    {
     "data": {
      "image/png": "[encoded data removed]",
      "text/plain": [
       "<Figure size 432x288 with 1 Axes>"
      ]
     },
     "metadata": {
      "needs_background": "light"
     },
     "output_type": "display_data"
    }
   ],
   "source": [
    "# extra code – in case you're curious to see what the decision boundary\n",
    "#              looks like for the AdaBoost classifier\n",
    "plot_decision_boundary(ada_clf, X_train, y_train)"
   ]
  },
  {
   "cell_type": "markdown",
   "id": "9b0df115",
   "metadata": {
    "papermill": {
     "duration": 0.022104,
     "end_time": "2022-10-31T23:43:13.142408",
     "exception": false,
     "start_time": "2022-10-31T23:43:13.120304",
     "status": "completed"
    },
    "tags": []
   },
   "source": [
    "## Gradient Boosting"
   ]
  },
  {
   "cell_type": "markdown",
   "id": "9f521176",
   "metadata": {
    "papermill": {
     "duration": 0.021948,
     "end_time": "2022-10-31T23:43:13.186752",
     "exception": false,
     "start_time": "2022-10-31T23:43:13.164804",
     "status": "completed"
    },
    "tags": []
   },
   "source": [
    "Let's create a simple quadratic dataset and fit a `DecisionTreeRegressor` to it:"
   ]
  },
  {
   "cell_type": "code",
   "execution_count": 26,
   "id": "da45a61f",
   "metadata": {
    "execution": {
     "iopub.execute_input": "2022-10-31T23:43:13.235431Z",
     "iopub.status.busy": "2022-10-31T23:43:13.234994Z",
     "iopub.status.idle": "2022-10-31T23:43:13.243611Z",
     "shell.execute_reply": "2022-10-31T23:43:13.242937Z"
    },
    "papermill": {
     "duration": 0.035694,
     "end_time": "2022-10-31T23:43:13.245420",
     "exception": false,
     "start_time": "2022-10-31T23:43:13.209726",
     "status": "completed"
    },
    "tags": []
   },
   "outputs": [
    {
     "data": {
      "text/plain": [
       "DecisionTreeRegressor(max_depth=2, random_state=42)"
      ]
     },
     "execution_count": 26,
     "metadata": {},
     "output_type": "execute_result"
    }
   ],
   "source": [
    "import numpy as np\n",
    "from sklearn.tree import DecisionTreeRegressor\n",
    "\n",
    "np.random.seed(42)\n",
    "X = np.random.rand(100, 1) - 0.5\n",
    "y = 3 * X[:, 0] ** 2 + 0.05 * np.random.randn(100)  # y = 3x² + Gaussian noise\n",
    "\n",
    "tree_reg1 = DecisionTreeRegressor(max_depth=2, random_state=42)\n",
    "tree_reg1.fit(X, y)"
   ]
  },
  {
   "cell_type": "markdown",
   "id": "2e7b17ef",
   "metadata": {
    "papermill": {
     "duration": 0.023563,
     "end_time": "2022-10-31T23:43:13.292842",
     "exception": false,
     "start_time": "2022-10-31T23:43:13.269279",
     "status": "completed"
    },
    "tags": []
   },
   "source": [
    "Now let's train another decision tree regressor on the residual errors made by the previous predictor:"
   ]
  },
  {
   "cell_type": "code",
   "execution_count": 27,
   "id": "a114d0a0",
   "metadata": {
    "execution": {
     "iopub.execute_input": "2022-10-31T23:43:13.342338Z",
     "iopub.status.busy": "2022-10-31T23:43:13.341403Z",
     "iopub.status.idle": "2022-10-31T23:43:13.348583Z",
     "shell.execute_reply": "2022-10-31T23:43:13.347991Z"
    },
    "papermill": {
     "duration": 0.033633,
     "end_time": "2022-10-31T23:43:13.350172",
     "exception": false,
     "start_time": "2022-10-31T23:43:13.316539",
     "status": "completed"
    },
    "tags": []
   },
   "outputs": [
    {
     "data": {
      "text/plain": [
       "DecisionTreeRegressor(max_depth=2, random_state=43)"
      ]
     },
     "execution_count": 27,
     "metadata": {},
     "output_type": "execute_result"
    }
   ],
   "source": [
    "y2 = y - tree_reg1.predict(X)\n",
    "tree_reg2 = DecisionTreeRegressor(max_depth=2, random_state=43)\n",
    "tree_reg2.fit(X, y2)"
   ]
  },
  {
   "cell_type": "code",
   "execution_count": 28,
   "id": "684e1c0b",
   "metadata": {
    "execution": {
     "iopub.execute_input": "2022-10-31T23:43:13.398438Z",
     "iopub.status.busy": "2022-10-31T23:43:13.397817Z",
     "iopub.status.idle": "2022-10-31T23:43:13.405841Z",
     "shell.execute_reply": "2022-10-31T23:43:13.404592Z"
    },
    "papermill": {
     "duration": 0.034348,
     "end_time": "2022-10-31T23:43:13.407706",
     "exception": false,
     "start_time": "2022-10-31T23:43:13.373358",
     "status": "completed"
    },
    "tags": []
   },
   "outputs": [
    {
     "data": {
      "text/plain": [
       "DecisionTreeRegressor(max_depth=2, random_state=44)"
      ]
     },
     "execution_count": 28,
     "metadata": {},
     "output_type": "execute_result"
    }
   ],
   "source": [
    "y3 = y2 - tree_reg2.predict(X)\n",
    "tree_reg3 = DecisionTreeRegressor(max_depth=2, random_state=44)\n",
    "tree_reg3.fit(X, y3)"
   ]
  },
  {
   "cell_type": "code",
   "execution_count": 29,
   "id": "cdee66ac",
   "metadata": {
    "execution": {
     "iopub.execute_input": "2022-10-31T23:43:13.455189Z",
     "iopub.status.busy": "2022-10-31T23:43:13.454582Z",
     "iopub.status.idle": "2022-10-31T23:43:13.461421Z",
     "shell.execute_reply": "2022-10-31T23:43:13.460717Z"
    },
    "papermill": {
     "duration": 0.032375,
     "end_time": "2022-10-31T23:43:13.462990",
     "exception": false,
     "start_time": "2022-10-31T23:43:13.430615",
     "status": "completed"
    },
    "tags": []
   },
   "outputs": [
    {
     "data": {
      "text/plain": [
       "array([0.49484029, 0.04021166, 0.75026781])"
      ]
     },
     "execution_count": 29,
     "metadata": {},
     "output_type": "execute_result"
    }
   ],
   "source": [
    "X_new = np.array([[-0.4], [0.], [0.5]])\n",
    "sum(tree.predict(X_new) for tree in (tree_reg1, tree_reg2, tree_reg3))"
   ]
  },
  {
   "cell_type": "code",
   "execution_count": 30,
   "id": "bea7f1c6",
   "metadata": {
    "execution": {
     "iopub.execute_input": "2022-10-31T23:43:13.510891Z",
     "iopub.status.busy": "2022-10-31T23:43:13.510204Z",
     "iopub.status.idle": "2022-10-31T23:43:15.589163Z",
     "shell.execute_reply": "2022-10-31T23:43:15.588256Z"
    },
    "papermill": {
     "duration": 2.105495,
     "end_time": "2022-10-31T23:43:15.591193",
     "exception": false,
     "start_time": "2022-10-31T23:43:13.485698",
     "status": "completed"
    },
    "tags": []
   },
   "outputs": [
    {
     "data": {
      "image/png": "[encoded data removed]",
      "text/plain": [
       "<Figure size 792x792 with 6 Axes>"
      ]
     },
     "metadata": {
      "needs_background": "light"
     },
     "output_type": "display_data"
    }
   ],
   "source": [
    "# extra code – this cell generates and saves Figure 7–9\n",
    "\n",
    "def plot_predictions(regressors, X, y, axes, style,\n",
    "                     label=None, data_style=\"b.\", data_label=None):\n",
    "    x1 = np.linspace(axes[0], axes[1], 500)\n",
    "    y_pred = sum(regressor.predict(x1.reshape(-1, 1))\n",
    "                 for regressor in regressors)\n",
    "    plt.plot(X[:, 0], y, data_style, label=data_label)\n",
    "    plt.plot(x1, y_pred, style, linewidth=2, label=label)\n",
    "    if label or data_label:\n",
    "        plt.legend(loc=\"upper center\")\n",
    "    plt.axis(axes)\n",
    "\n",
    "plt.figure(figsize=(11, 11))\n",
    "\n",
    "plt.subplot(3, 2, 1)\n",
    "plot_predictions([tree_reg1], X, y, axes=[-0.5, 0.5, -0.2, 0.8], style=\"g-\",\n",
    "                 label=\"$h_1(x_1)$\", data_label=\"Training set\")\n",
    "plt.ylabel(\"$y$  \", rotation=0)\n",
    "plt.title(\"Residuals and tree predictions\")\n",
    "\n",
    "plt.subplot(3, 2, 2)\n",
    "plot_predictions([tree_reg1], X, y, axes=[-0.5, 0.5, -0.2, 0.8], style=\"r-\",\n",
    "                 label=\"$h(x_1) = h_1(x_1)$\", data_label=\"Training set\")\n",
    "plt.title(\"Ensemble predictions\")\n",
    "\n",
    "plt.subplot(3, 2, 3)\n",
    "plot_predictions([tree_reg2], X, y2, axes=[-0.5, 0.5, -0.4, 0.6], style=\"g-\",\n",
    "                 label=\"$h_2(x_1)$\", data_style=\"k+\",\n",
    "                 data_label=\"Residuals: $y - h_1(x_1)$\")\n",
    "plt.ylabel(\"$y$  \", rotation=0)\n",
    "\n",
    "plt.subplot(3, 2, 4)\n",
    "plot_predictions([tree_reg1, tree_reg2], X, y, axes=[-0.5, 0.5, -0.2, 0.8],\n",
    "                  style=\"r-\", label=\"$h(x_1) = h_1(x_1) + h_2(x_1)$\")\n",
    "\n",
    "plt.subplot(3, 2, 5)\n",
    "plot_predictions([tree_reg3], X, y3, axes=[-0.5, 0.5, -0.4, 0.6], style=\"g-\",\n",
    "                 label=\"$h_3(x_1)$\", data_style=\"k+\",\n",
    "                 data_label=\"Residuals: $y - h_1(x_1) - h_2(x_1)$\")\n",
    "plt.xlabel(\"$x_1$\")\n",
    "plt.ylabel(\"$y$  \", rotation=0)\n",
    "\n",
    "plt.subplot(3, 2, 6)\n",
    "plot_predictions([tree_reg1, tree_reg2, tree_reg3], X, y,\n",
    "                 axes=[-0.5, 0.5, -0.2, 0.8], style=\"r-\",\n",
    "                 label=\"$h(x_1) = h_1(x_1) + h_2(x_1) + h_3(x_1)$\")\n",
    "plt.xlabel(\"$x_1$\")\n",
    "\n",
    "save_fig(\"gradient_boosting_plot\")\n",
    "plt.show()"
   ]
  },
  {
   "cell_type": "markdown",
   "id": "dafd1978",
   "metadata": {
    "papermill": {
     "duration": 0.025344,
     "end_time": "2022-10-31T23:43:15.642171",
     "exception": false,
     "start_time": "2022-10-31T23:43:15.616827",
     "status": "completed"
    },
    "tags": []
   },
   "source": [
    "Now let's try a gradient boosting regressor:"
   ]
  },
  {
   "cell_type": "code",
   "execution_count": 31,
   "id": "4aed1edd",
   "metadata": {
    "execution": {
     "iopub.execute_input": "2022-10-31T23:43:15.692522Z",
     "iopub.status.busy": "2022-10-31T23:43:15.692130Z",
     "iopub.status.idle": "2022-10-31T23:43:15.704360Z",
     "shell.execute_reply": "2022-10-31T23:43:15.703027Z"
    },
    "papermill": {
     "duration": 0.039783,
     "end_time": "2022-10-31T23:43:15.706283",
     "exception": false,
     "start_time": "2022-10-31T23:43:15.666500",
     "status": "completed"
    },
    "tags": []
   },
   "outputs": [
    {
     "data": {
      "text/plain": [
       "GradientBoostingRegressor(learning_rate=1.0, max_depth=2, n_estimators=3,\n",
       "                          random_state=42)"
      ]
     },
     "execution_count": 31,
     "metadata": {},
     "output_type": "execute_result"
    }
   ],
   "source": [
    "from sklearn.ensemble import GradientBoostingRegressor\n",
    "\n",
    "gbrt = GradientBoostingRegressor(max_depth=2, n_estimators=3,\n",
    "                                 learning_rate=1.0, random_state=42)\n",
    "gbrt.fit(X, y)"
   ]
  },
  {
   "cell_type": "code",
   "execution_count": 32,
   "id": "ce8418b5",
   "metadata": {
    "execution": {
     "iopub.execute_input": "2022-10-31T23:43:15.755612Z",
     "iopub.status.busy": "2022-10-31T23:43:15.755284Z",
     "iopub.status.idle": "2022-10-31T23:43:15.784503Z",
     "shell.execute_reply": "2022-10-31T23:43:15.783553Z"
    },
    "papermill": {
     "duration": 0.056034,
     "end_time": "2022-10-31T23:43:15.786386",
     "exception": false,
     "start_time": "2022-10-31T23:43:15.730352",
     "status": "completed"
    },
    "tags": []
   },
   "outputs": [
    {
     "data": {
      "text/plain": [
       "GradientBoostingRegressor(learning_rate=0.05, max_depth=2, n_estimators=500,\n",
       "                          n_iter_no_change=10, random_state=42)"
      ]
     },
     "execution_count": 32,
     "metadata": {},
     "output_type": "execute_result"
    }
   ],
   "source": [
    "gbrt_best = GradientBoostingRegressor(\n",
    "    max_depth=2, learning_rate=0.05, n_estimators=500,\n",
    "    n_iter_no_change=10, random_state=42)\n",
    "gbrt_best.fit(X, y)"
   ]
  },
  {
   "cell_type": "code",
   "execution_count": 33,
   "id": "89a65ce0",
   "metadata": {
    "execution": {
     "iopub.execute_input": "2022-10-31T23:43:15.836326Z",
     "iopub.status.busy": "2022-10-31T23:43:15.835952Z",
     "iopub.status.idle": "2022-10-31T23:43:15.842262Z",
     "shell.execute_reply": "2022-10-31T23:43:15.841262Z"
    },
    "papermill": {
     "duration": 0.033274,
     "end_time": "2022-10-31T23:43:15.843994",
     "exception": false,
     "start_time": "2022-10-31T23:43:15.810720",
     "status": "completed"
    },
    "tags": []
   },
   "outputs": [
    {
     "data": {
      "text/plain": [
       "92"
      ]
     },
     "execution_count": 33,
     "metadata": {},
     "output_type": "execute_result"
    }
   ],
   "source": [
    "gbrt_best.n_estimators_"
   ]
  },
  {
   "cell_type": "code",
   "execution_count": 34,
   "id": "386becc6",
   "metadata": {
    "execution": {
     "iopub.execute_input": "2022-10-31T23:43:15.896411Z",
     "iopub.status.busy": "2022-10-31T23:43:15.895992Z",
     "iopub.status.idle": "2022-10-31T23:43:16.622178Z",
     "shell.execute_reply": "2022-10-31T23:43:16.621296Z"
    },
    "papermill": {
     "duration": 0.754502,
     "end_time": "2022-10-31T23:43:16.624316",
     "exception": false,
     "start_time": "2022-10-31T23:43:15.869814",
     "status": "completed"
    },
    "tags": []
   },
   "outputs": [
    {
     "data": {
      "image/png": "[encoded data removed]",
      "text/plain": [
       "<Figure size 720x288 with 2 Axes>"
      ]
     },
     "metadata": {
      "needs_background": "light"
     },
     "output_type": "display_data"
    }
   ],
   "source": [
    "# extra code – this cell generates and saves Figure 7–10\n",
    "\n",
    "fig, axes = plt.subplots(ncols=2, figsize=(10, 4), sharey=True)\n",
    "\n",
    "plt.sca(axes[0])\n",
    "plot_predictions([gbrt], X, y, axes=[-0.5, 0.5, -0.1, 0.8], style=\"r-\",\n",
    "                 label=\"Ensemble predictions\")\n",
    "plt.title(f\"learning_rate={gbrt.learning_rate}, \"\n",
    "          f\"n_estimators={gbrt.n_estimators_}\")\n",
    "plt.xlabel(\"$x_1$\")\n",
    "plt.ylabel(\"$y$\", rotation=0)\n",
    "\n",
    "plt.sca(axes[1])\n",
    "plot_predictions([gbrt_best], X, y, axes=[-0.5, 0.5, -0.1, 0.8], style=\"r-\")\n",
    "plt.title(f\"learning_rate={gbrt_best.learning_rate}, \"\n",
    "          f\"n_estimators={gbrt_best.n_estimators_}\")\n",
    "plt.xlabel(\"$x_1$\")\n",
    "\n",
    "save_fig(\"gbrt_learning_rate_plot\")\n",
    "plt.show()"
   ]
  },
  {
   "cell_type": "code",
   "execution_count": 35,
   "id": "b3393383",
   "metadata": {
    "execution": {
     "iopub.execute_input": "2022-10-31T23:43:16.675679Z",
     "iopub.status.busy": "2022-10-31T23:43:16.675343Z",
     "iopub.status.idle": "2022-10-31T23:43:17.488596Z",
     "shell.execute_reply": "2022-10-31T23:43:17.487086Z"
    },
    "papermill": {
     "duration": 0.841763,
     "end_time": "2022-10-31T23:43:17.491106",
     "exception": false,
     "start_time": "2022-10-31T23:43:16.649343",
     "status": "completed"
    },
    "tags": []
   },
   "outputs": [],
   "source": [
    "# extra code – at least not in this chapter, it's presented in chapter 2\n",
    "\n",
    "import pandas as pd\n",
    "from sklearn.model_selection import train_test_split\n",
    "import tarfile\n",
    "import urllib.request\n",
    "\n",
    "def load_housing_data():\n",
    "    tarball_path = Path(\"datasets/housing.tgz\")\n",
    "    if not tarball_path.is_file():\n",
    "        Path(\"datasets\").mkdir(parents=True, exist_ok=True)\n",
    "        url = \"https://github.com/ageron/data/raw/main/housing.tgz\"\n",
    "        urllib.request.urlretrieve(url, tarball_path)\n",
    "        with tarfile.open(tarball_path) as housing_tarball:\n",
    "            housing_tarball.extractall(path=\"datasets\")\n",
    "    return pd.read_csv(Path(\"datasets/housing/housing.csv\"))\n",
    "\n",
    "housing = load_housing_data()\n",
    "\n",
    "train_set, test_set = train_test_split(housing, test_size=0.2, random_state=42)\n",
    "housing_labels = train_set[\"median_house_value\"]\n",
    "housing = train_set.drop(\"median_house_value\", axis=1)"
   ]
  },
  {
   "cell_type": "code",
   "execution_count": 36,
   "id": "78bb9d45",
   "metadata": {
    "execution": {
     "iopub.execute_input": "2022-10-31T23:43:17.545815Z",
     "iopub.status.busy": "2022-10-31T23:43:17.544618Z",
     "iopub.status.idle": "2022-10-31T23:43:18.021680Z",
     "shell.execute_reply": "2022-10-31T23:43:18.021034Z"
    },
    "papermill": {
     "duration": 0.506395,
     "end_time": "2022-10-31T23:43:18.023353",
     "exception": false,
     "start_time": "2022-10-31T23:43:17.516958",
     "status": "completed"
    },
    "tags": []
   },
   "outputs": [
    {
     "data": {
      "text/plain": [
       "Pipeline(steps=[('columntransformer',\n",
       "                 ColumnTransformer(remainder='passthrough',\n",
       "                                   transformers=[('ordinalencoder',\n",
       "                                                  OrdinalEncoder(),\n",
       "                                                  ['ocean_proximity'])])),\n",
       "                ('histgradientboostingregressor',\n",
       "                 HistGradientBoostingRegressor(categorical_features=[0],\n",
       "                                               random_state=42))])"
      ]
     },
     "execution_count": 36,
     "metadata": {},
     "output_type": "execute_result"
    }
   ],
   "source": [
    "from sklearn.pipeline import make_pipeline\n",
    "from sklearn.compose import make_column_transformer\n",
    "from sklearn.ensemble import HistGradientBoostingRegressor\n",
    "from sklearn.preprocessing import OrdinalEncoder \n",
    "\n",
    "hgb_reg = make_pipeline(\n",
    "    make_column_transformer((OrdinalEncoder(), [\"ocean_proximity\"]),\n",
    "                            remainder=\"passthrough\"),\n",
    "    HistGradientBoostingRegressor(categorical_features=[0], random_state=42)\n",
    ")\n",
    "hgb_reg.fit(housing, housing_labels)"
   ]
  },
  {
   "cell_type": "code",
   "execution_count": 37,
   "id": "94e4b93b",
   "metadata": {
    "execution": {
     "iopub.execute_input": "2022-10-31T23:43:18.075516Z",
     "iopub.status.busy": "2022-10-31T23:43:18.074492Z",
     "iopub.status.idle": "2022-10-31T23:43:22.870369Z",
     "shell.execute_reply": "2022-10-31T23:43:22.869655Z"
    },
    "papermill": {
     "duration": 4.824067,
     "end_time": "2022-10-31T23:43:22.872282",
     "exception": false,
     "start_time": "2022-10-31T23:43:18.048215",
     "status": "completed"
    },
    "tags": []
   },
   "outputs": [
    {
     "data": {
      "text/plain": [
       "count       10.000000\n",
       "mean     47613.307194\n",
       "std       1295.422509\n",
       "min      44963.213061\n",
       "25%      47001.233485\n",
       "50%      48000.963564\n",
       "75%      48488.093243\n",
       "max      49176.368465\n",
       "dtype: float64"
      ]
     },
     "execution_count": 37,
     "metadata": {},
     "output_type": "execute_result"
    }
   ],
   "source": [
    "# extra code – evaluate the RMSE stats for the hgb_reg model\n",
    "\n",
    "from sklearn.model_selection import cross_val_score\n",
    "\n",
    "hgb_rmses = -cross_val_score(hgb_reg, housing, housing_labels,\n",
    "                             scoring=\"neg_root_mean_squared_error\", cv=10)\n",
    "pd.Series(hgb_rmses).describe()"
   ]
  },
  {
   "cell_type": "markdown",
   "id": "b1009ee5",
   "metadata": {
    "papermill": {
     "duration": 0.025515,
     "end_time": "2022-10-31T23:43:22.923322",
     "exception": false,
     "start_time": "2022-10-31T23:43:22.897807",
     "status": "completed"
    },
    "tags": []
   },
   "source": [
    "# Stacking"
   ]
  },
  {
   "cell_type": "code",
   "execution_count": 38,
   "id": "765a583d",
   "metadata": {
    "execution": {
     "iopub.execute_input": "2022-10-31T23:43:22.975363Z",
     "iopub.status.busy": "2022-10-31T23:43:22.975054Z",
     "iopub.status.idle": "2022-10-31T23:43:23.948397Z",
     "shell.execute_reply": "2022-10-31T23:43:23.947386Z"
    },
    "papermill": {
     "duration": 1.002025,
     "end_time": "2022-10-31T23:43:23.950739",
     "exception": false,
     "start_time": "2022-10-31T23:43:22.948714",
     "status": "completed"
    },
    "tags": []
   },
   "outputs": [
    {
     "data": {
      "text/plain": [
       "StackingClassifier(cv=5,\n",
       "                   estimators=[('lr', LogisticRegression(random_state=42)),\n",
       "                               ('rf', RandomForestClassifier(random_state=42)),\n",
       "                               ('svc', SVC(probability=True, random_state=42))],\n",
       "                   final_estimator=RandomForestClassifier(random_state=43))"
      ]
     },
     "execution_count": 38,
     "metadata": {},
     "output_type": "execute_result"
    }
   ],
   "source": [
    "from sklearn.ensemble import StackingClassifier\n",
    "\n",
    "stacking_clf = StackingClassifier(\n",
    "    estimators=[\n",
    "        ('lr', LogisticRegression(random_state=42)),\n",
    "        ('rf', RandomForestClassifier(random_state=42)),\n",
    "        ('svc', SVC(probability=True, random_state=42))\n",
    "    ],\n",
    "    final_estimator=RandomForestClassifier(random_state=43),\n",
    "    cv=5  # number of cross-validation folds\n",
    ")\n",
    "stacking_clf.fit(X_train, y_train)"
   ]
  },
  {
   "cell_type": "code",
   "execution_count": 39,
   "id": "8f43c0b2",
   "metadata": {
    "execution": {
     "iopub.execute_input": "2022-10-31T23:43:24.003893Z",
     "iopub.status.busy": "2022-10-31T23:43:24.003564Z",
     "iopub.status.idle": "2022-10-31T23:43:24.033280Z",
     "shell.execute_reply": "2022-10-31T23:43:24.032648Z"
    },
    "papermill": {
     "duration": 0.059228,
     "end_time": "2022-10-31T23:43:24.035493",
     "exception": false,
     "start_time": "2022-10-31T23:43:23.976265",
     "status": "completed"
    },
    "tags": []
   },
   "outputs": [
    {
     "data": {
      "text/plain": [
       "0.928"
      ]
     },
     "execution_count": 39,
     "metadata": {},
     "output_type": "execute_result"
    }
   ],
   "source": [
    "stacking_clf.score(X_test, y_test)"
   ]
  },
  {
   "cell_type": "markdown",
   "id": "5dd20b68",
   "metadata": {
    "papermill": {
     "duration": 0.025409,
     "end_time": "2022-10-31T23:43:24.086518",
     "exception": false,
     "start_time": "2022-10-31T23:43:24.061109",
     "status": "completed"
    },
    "tags": []
   },
   "source": [
    "# Exercise solutions"
   ]
  },
  {
   "cell_type": "markdown",
   "id": "edc46115",
   "metadata": {
    "papermill": {
     "duration": 0.025694,
     "end_time": "2022-10-31T23:43:24.138304",
     "exception": false,
     "start_time": "2022-10-31T23:43:24.112610",
     "status": "completed"
    },
    "tags": []
   },
   "source": [
    "## 1. to 7."
   ]
  },
  {
   "cell_type": "markdown",
   "id": "f89a1851",
   "metadata": {
    "papermill": {
     "duration": 0.025885,
     "end_time": "2022-10-31T23:43:24.190169",
     "exception": false,
     "start_time": "2022-10-31T23:43:24.164284",
     "status": "completed"
    },
    "tags": []
   },
   "source": [
    "1. If you have trained five different models and they all achieve 95% precision, you can try combining them into a voting ensemble, which will often give you even better results. It works better if the models are very different (e.g., an SVM classifier, a Decision Tree classifier, a Logistic Regression classifier, and so on). It is even better if they are trained on different training instances (that's the whole point of bagging and pasting ensembles), but if not this will still be effective as long as the models are very different.\n",
    "2. A hard voting classifier just counts the votes of each classifier in the ensemble and picks the class that gets the most votes. A soft voting classifier computes the average estimated class probability for each class and picks the class with the highest probability. This gives high-confidence votes more weight and often performs better, but it works only if every classifier is able to estimate class probabilities (e.g., for the SVM classifiers in Scikit-Learn you must set `probability=True`).\n",
    "3. It is quite possible to speed up training of a bagging ensemble by distributing it across multiple servers, since each predictor in the ensemble is independent of the others. The same goes for pasting ensembles and Random Forests, for the same reason. However, each predictor in a boosting ensemble is built based on the previous predictor, so training is necessarily sequential, and you will not gain anything by distributing training across multiple servers. Regarding stacking ensembles, all the predictors in a given layer are independent of each other, so they can be trained in parallel on multiple servers. However, the predictors in one layer can only be trained after the predictors in the previous layer have all been trained.\n",
    "4. With out-of-bag evaluation, each predictor in a bagging ensemble is evaluated using instances that it was not trained on (they were held out). This makes it possible to have a fairly unbiased evaluation of the ensemble without the need for an additional validation set. Thus, you have more instances available for training, and your ensemble can perform slightly better.\n",
    "5. When you are growing a tree in a Random Forest, only a random subset of the features is considered for splitting at each node. This is true as well for Extra-Trees, but they go one step further: rather than searching for the best possible thresholds, like regular Decision Trees do, they use random thresholds for each feature. This extra randomness acts like a form of regularization: if a Random Forest overfits the training data, Extra-Trees might perform better. Moreover, since Extra-Trees don't search for the best possible thresholds, they are much faster to train than Random Forests. However, they are neither faster nor slower than Random Forests when making predictions.\n",
    "6. If your AdaBoost ensemble underfits the training data, you can try increasing the number of estimators or reducing the regularization hyperparameters of the base estimator. You may also try slightly decreasing the learning rate.\n",
    "7. If your Gradient Boosting ensemble overfits the training set, you should try increasing the learning rate. You could also use early stopping to find the right number of predictors (you probably have too many)."
   ]
  },
  {
   "cell_type": "markdown",
   "id": "b8b39dad",
   "metadata": {
    "papermill": {
     "duration": 0.026065,
     "end_time": "2022-10-31T23:43:24.241878",
     "exception": false,
     "start_time": "2022-10-31T23:43:24.215813",
     "status": "completed"
    },
    "tags": []
   },
   "source": [
    "## 8. Voting Classifier"
   ]
  },
  {
   "cell_type": "markdown",
   "id": "c1d6edc7",
   "metadata": {
    "papermill": {
     "duration": 0.02599,
     "end_time": "2022-10-31T23:43:24.294233",
     "exception": false,
     "start_time": "2022-10-31T23:43:24.268243",
     "status": "completed"
    },
    "tags": []
   },
   "source": [
    "Exercise: _Load the MNIST data and split it into a training set, a validation set, and a test set (e.g., use 50,000 instances for training, 10,000 for validation, and 10,000 for testing)._"
   ]
  },
  {
   "cell_type": "markdown",
   "id": "da10e453",
   "metadata": {
    "papermill": {
     "duration": 0.025975,
     "end_time": "2022-10-31T23:43:24.346362",
     "exception": false,
     "start_time": "2022-10-31T23:43:24.320387",
     "status": "completed"
    },
    "tags": []
   },
   "source": [
    "The MNIST dataset was loaded earlier. The dataset is already split into a training set (the first 60,000 instances) and a test set (the last 10,000 instances), and the training set is already shuffled. So all we need to do is to take the first 50,000 instances for the new training set, the next 10,000 for the validation set, and the last 10,000 for the test set:"
   ]
  },
  {
   "cell_type": "code",
   "execution_count": 40,
   "id": "88c39239",
   "metadata": {
    "execution": {
     "iopub.execute_input": "2022-10-31T23:43:24.399087Z",
     "iopub.status.busy": "2022-10-31T23:43:24.398440Z",
     "iopub.status.idle": "2022-10-31T23:43:24.403617Z",
     "shell.execute_reply": "2022-10-31T23:43:24.402429Z"
    },
    "papermill": {
     "duration": 0.033755,
     "end_time": "2022-10-31T23:43:24.405416",
     "exception": false,
     "start_time": "2022-10-31T23:43:24.371661",
     "status": "completed"
    },
    "tags": []
   },
   "outputs": [],
   "source": [
    "X_train, y_train = X_mnist[:50_000], y_mnist[:50_000]\n",
    "X_valid, y_valid = X_mnist[50_000:60_000], y_mnist[50_000:60_000]\n",
    "X_test, y_test = X_mnist[60_000:], y_mnist[60_000:]"
   ]
  },
  {
   "cell_type": "markdown",
   "id": "5d17b966",
   "metadata": {
    "papermill": {
     "duration": 0.024853,
     "end_time": "2022-10-31T23:43:24.455504",
     "exception": false,
     "start_time": "2022-10-31T23:43:24.430651",
     "status": "completed"
    },
    "tags": []
   },
   "source": [
    "Exercise: _Then train various classifiers, such as a Random Forest classifier, an Extra-Trees classifier, and an SVM._"
   ]
  },
  {
   "cell_type": "code",
   "execution_count": 41,
   "id": "93ecd88a",
   "metadata": {
    "execution": {
     "iopub.execute_input": "2022-10-31T23:43:24.507752Z",
     "iopub.status.busy": "2022-10-31T23:43:24.507400Z",
     "iopub.status.idle": "2022-10-31T23:43:24.518756Z",
     "shell.execute_reply": "2022-10-31T23:43:24.518106Z"
    },
    "papermill": {
     "duration": 0.039574,
     "end_time": "2022-10-31T23:43:24.520557",
     "exception": false,
     "start_time": "2022-10-31T23:43:24.480983",
     "status": "completed"
    },
    "tags": []
   },
   "outputs": [],
   "source": [
    "from sklearn.ensemble import ExtraTreesClassifier\n",
    "from sklearn.svm import LinearSVC\n",
    "from sklearn.neural_network import MLPClassifier"
   ]
  },
  {
   "cell_type": "code",
   "execution_count": 42,
   "id": "4121ff58",
   "metadata": {
    "execution": {
     "iopub.execute_input": "2022-10-31T23:43:24.575487Z",
     "iopub.status.busy": "2022-10-31T23:43:24.574565Z",
     "iopub.status.idle": "2022-10-31T23:43:24.580190Z",
     "shell.execute_reply": "2022-10-31T23:43:24.579492Z"
    },
    "papermill": {
     "duration": 0.035987,
     "end_time": "2022-10-31T23:43:24.582015",
     "exception": false,
     "start_time": "2022-10-31T23:43:24.546028",
     "status": "completed"
    },
    "tags": []
   },
   "outputs": [],
   "source": [
    "random_forest_clf = RandomForestClassifier(n_estimators=100, random_state=42)\n",
    "extra_trees_clf = ExtraTreesClassifier(n_estimators=100, random_state=42)\n",
    "svm_clf = LinearSVC(max_iter=100, tol=20, random_state=42)\n",
    "mlp_clf = MLPClassifier(random_state=42)"
   ]
  },
  {
   "cell_type": "code",
   "execution_count": 43,
   "id": "a9937bf8",
   "metadata": {
    "execution": {
     "iopub.execute_input": "2022-10-31T23:43:24.635824Z",
     "iopub.status.busy": "2022-10-31T23:43:24.635481Z",
     "iopub.status.idle": "2022-10-31T23:46:06.891474Z",
     "shell.execute_reply": "2022-10-31T23:46:06.890717Z"
    },
    "papermill": {
     "duration": 162.285498,
     "end_time": "2022-10-31T23:46:06.893880",
     "exception": false,
     "start_time": "2022-10-31T23:43:24.608382",
     "status": "completed"
    },
    "tags": []
   },
   "outputs": [
    {
     "name": "stdout",
     "output_type": "stream",
     "text": [
      "Training the RandomForestClassifier(random_state=42)\n",
      "Training the ExtraTreesClassifier(random_state=42)\n",
      "Training the LinearSVC(max_iter=100, random_state=42, tol=20)\n",
      "Training the MLPClassifier(random_state=42)\n"
     ]
    }
   ],
   "source": [
    "estimators = [random_forest_clf, extra_trees_clf, svm_clf, mlp_clf]\n",
    "for estimator in estimators:\n",
    "    print(\"Training the\", estimator)\n",
    "    estimator.fit(X_train, y_train)"
   ]
  },
  {
   "cell_type": "code",
   "execution_count": 44,
   "id": "edb89ad5",
   "metadata": {
    "execution": {
     "iopub.execute_input": "2022-10-31T23:46:06.965037Z",
     "iopub.status.busy": "2022-10-31T23:46:06.964639Z",
     "iopub.status.idle": "2022-10-31T23:46:07.728721Z",
     "shell.execute_reply": "2022-10-31T23:46:07.728032Z"
    },
    "papermill": {
     "duration": 0.801982,
     "end_time": "2022-10-31T23:46:07.731052",
     "exception": false,
     "start_time": "2022-10-31T23:46:06.929070",
     "status": "completed"
    },
    "tags": []
   },
   "outputs": [
    {
     "data": {
      "text/plain": [
       "[0.9736, 0.9743, 0.8662, 0.9637]"
      ]
     },
     "execution_count": 44,
     "metadata": {},
     "output_type": "execute_result"
    }
   ],
   "source": [
    "[estimator.score(X_valid, y_valid) for estimator in estimators]"
   ]
  },
  {
   "cell_type": "markdown",
   "id": "061645f2",
   "metadata": {
    "papermill": {
     "duration": 0.035198,
     "end_time": "2022-10-31T23:46:07.801302",
     "exception": false,
     "start_time": "2022-10-31T23:46:07.766104",
     "status": "completed"
    },
    "tags": []
   },
   "source": [
    "The linear SVM is far outperformed by the other classifiers. However, let's keep it for now since it may improve the voting classifier's performance."
   ]
  },
  {
   "cell_type": "markdown",
   "id": "d681ea9c",
   "metadata": {
    "papermill": {
     "duration": 0.026661,
     "end_time": "2022-10-31T23:46:07.862361",
     "exception": false,
     "start_time": "2022-10-31T23:46:07.835700",
     "status": "completed"
    },
    "tags": []
   },
   "source": [
    "Exercise: _Next, try to combine \\[the classifiers\\] into an ensemble that outperforms them all on the validation set, using a soft or hard voting classifier._"
   ]
  },
  {
   "cell_type": "code",
   "execution_count": 45,
   "id": "53ebcdc1",
   "metadata": {
    "execution": {
     "iopub.execute_input": "2022-10-31T23:46:07.919155Z",
     "iopub.status.busy": "2022-10-31T23:46:07.917913Z",
     "iopub.status.idle": "2022-10-31T23:46:07.922973Z",
     "shell.execute_reply": "2022-10-31T23:46:07.922052Z"
    },
    "papermill": {
     "duration": 0.035051,
     "end_time": "2022-10-31T23:46:07.924852",
     "exception": false,
     "start_time": "2022-10-31T23:46:07.889801",
     "status": "completed"
    },
    "tags": []
   },
   "outputs": [],
   "source": [
    "from sklearn.ensemble import VotingClassifier"
   ]
  },
  {
   "cell_type": "code",
   "execution_count": 46,
   "id": "168651a1",
   "metadata": {
    "execution": {
     "iopub.execute_input": "2022-10-31T23:46:07.977819Z",
     "iopub.status.busy": "2022-10-31T23:46:07.977464Z",
     "iopub.status.idle": "2022-10-31T23:46:07.981646Z",
     "shell.execute_reply": "2022-10-31T23:46:07.980849Z"
    },
    "papermill": {
     "duration": 0.032999,
     "end_time": "2022-10-31T23:46:07.983615",
     "exception": false,
     "start_time": "2022-10-31T23:46:07.950616",
     "status": "completed"
    },
    "tags": []
   },
   "outputs": [],
   "source": [
    "named_estimators = [\n",
    "    (\"random_forest_clf\", random_forest_clf),\n",
    "    (\"extra_trees_clf\", extra_trees_clf),\n",
    "    (\"svm_clf\", svm_clf),\n",
    "    (\"mlp_clf\", mlp_clf),\n",
    "]"
   ]
  },
  {
   "cell_type": "code",
   "execution_count": 47,
   "id": "6bcf278d",
   "metadata": {
    "execution": {
     "iopub.execute_input": "2022-10-31T23:46:08.036225Z",
     "iopub.status.busy": "2022-10-31T23:46:08.035871Z",
     "iopub.status.idle": "2022-10-31T23:46:08.039841Z",
     "shell.execute_reply": "2022-10-31T23:46:08.038961Z"
    },
    "papermill": {
     "duration": 0.032806,
     "end_time": "2022-10-31T23:46:08.041639",
     "exception": false,
     "start_time": "2022-10-31T23:46:08.008833",
     "status": "completed"
    },
    "tags": []
   },
   "outputs": [],
   "source": [
    "voting_clf = VotingClassifier(named_estimators)"
   ]
  },
  {
   "cell_type": "code",
   "execution_count": 48,
   "id": "7e44fd16",
   "metadata": {
    "execution": {
     "iopub.execute_input": "2022-10-31T23:46:08.095174Z",
     "iopub.status.busy": "2022-10-31T23:46:08.094596Z",
     "iopub.status.idle": "2022-10-31T23:48:42.480907Z",
     "shell.execute_reply": "2022-10-31T23:48:42.479942Z"
    },
    "papermill": {
     "duration": 154.449221,
     "end_time": "2022-10-31T23:48:42.516450",
     "exception": false,
     "start_time": "2022-10-31T23:46:08.067229",
     "status": "completed"
    },
    "tags": []
   },
   "outputs": [
    {
     "data": {
      "text/plain": [
       "VotingClassifier(estimators=[('random_forest_clf',\n",
       "                              RandomForestClassifier(random_state=42)),\n",
       "                             ('extra_trees_clf',\n",
       "                              ExtraTreesClassifier(random_state=42)),\n",
       "                             ('svm_clf',\n",
       "                              LinearSVC(max_iter=100, random_state=42, tol=20)),\n",
       "                             ('mlp_clf', MLPClassifier(random_state=42))])"
      ]
     },
     "execution_count": 48,
     "metadata": {},
     "output_type": "execute_result"
    }
   ],
   "source": [
    "voting_clf.fit(X_train, y_train)"
   ]
  },
  {
   "cell_type": "code",
   "execution_count": 49,
   "id": "7ef5e645",
   "metadata": {
    "execution": {
     "iopub.execute_input": "2022-10-31T23:48:42.587049Z",
     "iopub.status.busy": "2022-10-31T23:48:42.586679Z",
     "iopub.status.idle": "2022-10-31T23:48:43.351853Z",
     "shell.execute_reply": "2022-10-31T23:48:43.351188Z"
    },
    "papermill": {
     "duration": 0.80285,
     "end_time": "2022-10-31T23:48:43.353810",
     "exception": false,
     "start_time": "2022-10-31T23:48:42.550960",
     "status": "completed"
    },
    "tags": []
   },
   "outputs": [
    {
     "data": {
      "text/plain": [
       "0.9749"
      ]
     },
     "execution_count": 49,
     "metadata": {},
     "output_type": "execute_result"
    }
   ],
   "source": [
    "voting_clf.score(X_valid, y_valid)"
   ]
  },
  {
   "cell_type": "markdown",
   "id": "d36ded27",
   "metadata": {
    "papermill": {
     "duration": 0.02888,
     "end_time": "2022-10-31T23:48:43.417113",
     "exception": false,
     "start_time": "2022-10-31T23:48:43.388233",
     "status": "completed"
    },
    "tags": []
   },
   "source": [
    "The `VotingClassifier` made a clone of each classifier, and it trained the clones using class indices as the labels, not the original class names. Therefore, to evaluate these clones we need to provide class indices as well. To convert the classes to class indices, we can use a `LabelEncoder`:"
   ]
  },
  {
   "cell_type": "code",
   "execution_count": 50,
   "id": "78d05390",
   "metadata": {
    "execution": {
     "iopub.execute_input": "2022-10-31T23:48:43.470523Z",
     "iopub.status.busy": "2022-10-31T23:48:43.470181Z",
     "iopub.status.idle": "2022-10-31T23:48:43.476573Z",
     "shell.execute_reply": "2022-10-31T23:48:43.475737Z"
    },
    "papermill": {
     "duration": 0.035013,
     "end_time": "2022-10-31T23:48:43.478243",
     "exception": false,
     "start_time": "2022-10-31T23:48:43.443230",
     "status": "completed"
    },
    "tags": []
   },
   "outputs": [],
   "source": [
    "from sklearn.preprocessing import LabelEncoder\n",
    "\n",
    "encoder = LabelEncoder()\n",
    "y_valid_encoded = encoder.fit_transform(y_valid)"
   ]
  },
  {
   "cell_type": "markdown",
   "id": "f3617053",
   "metadata": {
    "papermill": {
     "duration": 0.02559,
     "end_time": "2022-10-31T23:48:43.529490",
     "exception": false,
     "start_time": "2022-10-31T23:48:43.503900",
     "status": "completed"
    },
    "tags": []
   },
   "source": [
    "However, in the case of MNIST, it's simpler to just convert the class names to integers, since the digits match the class ids:"
   ]
  },
  {
   "cell_type": "code",
   "execution_count": 51,
   "id": "ef9ed925",
   "metadata": {
    "execution": {
     "iopub.execute_input": "2022-10-31T23:48:43.582204Z",
     "iopub.status.busy": "2022-10-31T23:48:43.581859Z",
     "iopub.status.idle": "2022-10-31T23:48:43.586486Z",
     "shell.execute_reply": "2022-10-31T23:48:43.585618Z"
    },
    "papermill": {
     "duration": 0.033115,
     "end_time": "2022-10-31T23:48:43.588065",
     "exception": false,
     "start_time": "2022-10-31T23:48:43.554950",
     "status": "completed"
    },
    "tags": []
   },
   "outputs": [],
   "source": [
    "y_valid_encoded = y_valid.astype(np.int64)"
   ]
  },
  {
   "cell_type": "markdown",
   "id": "b86c40b7",
   "metadata": {
    "papermill": {
     "duration": 0.025571,
     "end_time": "2022-10-31T23:48:43.639796",
     "exception": false,
     "start_time": "2022-10-31T23:48:43.614225",
     "status": "completed"
    },
    "tags": []
   },
   "source": [
    "Now let's evaluate the classifier clones:"
   ]
  },
  {
   "cell_type": "code",
   "execution_count": 52,
   "id": "cf8acd44",
   "metadata": {
    "execution": {
     "iopub.execute_input": "2022-10-31T23:48:43.693503Z",
     "iopub.status.busy": "2022-10-31T23:48:43.693151Z",
     "iopub.status.idle": "2022-10-31T23:48:44.524935Z",
     "shell.execute_reply": "2022-10-31T23:48:44.524248Z"
    },
    "papermill": {
     "duration": 0.860947,
     "end_time": "2022-10-31T23:48:44.526805",
     "exception": false,
     "start_time": "2022-10-31T23:48:43.665858",
     "status": "completed"
    },
    "tags": []
   },
   "outputs": [
    {
     "data": {
      "text/plain": [
       "[0.9736, 0.9743, 0.8662, 0.9637]"
      ]
     },
     "execution_count": 52,
     "metadata": {},
     "output_type": "execute_result"
    }
   ],
   "source": [
    "[estimator.score(X_valid, y_valid_encoded)\n",
    " for estimator in voting_clf.estimators_]"
   ]
  },
  {
   "cell_type": "markdown",
   "id": "c3556562",
   "metadata": {
    "papermill": {
     "duration": 0.035555,
     "end_time": "2022-10-31T23:48:44.597955",
     "exception": false,
     "start_time": "2022-10-31T23:48:44.562400",
     "status": "completed"
    },
    "tags": []
   },
   "source": [
    "Let's remove the SVM to see if performance improves. It is possible to remove an estimator by setting it to `\"drop\"` using `set_params()` like this:"
   ]
  },
  {
   "cell_type": "code",
   "execution_count": 53,
   "id": "030258a0",
   "metadata": {
    "execution": {
     "iopub.execute_input": "2022-10-31T23:48:44.663068Z",
     "iopub.status.busy": "2022-10-31T23:48:44.662705Z",
     "iopub.status.idle": "2022-10-31T23:48:44.673102Z",
     "shell.execute_reply": "2022-10-31T23:48:44.672149Z"
    },
    "papermill": {
     "duration": 0.0406,
     "end_time": "2022-10-31T23:48:44.674687",
     "exception": false,
     "start_time": "2022-10-31T23:48:44.634087",
     "status": "completed"
    },
    "tags": []
   },
   "outputs": [
    {
     "data": {
      "text/plain": [
       "VotingClassifier(estimators=[('random_forest_clf',\n",
       "                              RandomForestClassifier(random_state=42)),\n",
       "                             ('extra_trees_clf',\n",
       "                              ExtraTreesClassifier(random_state=42)),\n",
       "                             ('svm_clf', 'drop'),\n",
       "                             ('mlp_clf', MLPClassifier(random_state=42))])"
      ]
     },
     "execution_count": 53,
     "metadata": {},
     "output_type": "execute_result"
    }
   ],
   "source": [
    "voting_clf.set_params(svm_clf=\"drop\")"
   ]
  },
  {
   "cell_type": "markdown",
   "id": "a71fe6db",
   "metadata": {
    "papermill": {
     "duration": 0.026983,
     "end_time": "2022-10-31T23:48:44.728435",
     "exception": false,
     "start_time": "2022-10-31T23:48:44.701452",
     "status": "completed"
    },
    "tags": []
   },
   "source": [
    "This updated the list of estimators:"
   ]
  },
  {
   "cell_type": "code",
   "execution_count": 54,
   "id": "aad094c6",
   "metadata": {
    "execution": {
     "iopub.execute_input": "2022-10-31T23:48:44.784671Z",
     "iopub.status.busy": "2022-10-31T23:48:44.783741Z",
     "iopub.status.idle": "2022-10-31T23:48:44.790574Z",
     "shell.execute_reply": "2022-10-31T23:48:44.789778Z"
    },
    "papermill": {
     "duration": 0.036608,
     "end_time": "2022-10-31T23:48:44.792217",
     "exception": false,
     "start_time": "2022-10-31T23:48:44.755609",
     "status": "completed"
    },
    "tags": []
   },
   "outputs": [
    {
     "data": {
      "text/plain": [
       "[('random_forest_clf', RandomForestClassifier(random_state=42)),\n",
       " ('extra_trees_clf', ExtraTreesClassifier(random_state=42)),\n",
       " ('svm_clf', 'drop'),\n",
       " ('mlp_clf', MLPClassifier(random_state=42))]"
      ]
     },
     "execution_count": 54,
     "metadata": {},
     "output_type": "execute_result"
    }
   ],
   "source": [
    "voting_clf.estimators"
   ]
  },
  {
   "cell_type": "markdown",
   "id": "beb6ef31",
   "metadata": {
    "papermill": {
     "duration": 0.027105,
     "end_time": "2022-10-31T23:48:44.846924",
     "exception": false,
     "start_time": "2022-10-31T23:48:44.819819",
     "status": "completed"
    },
    "tags": []
   },
   "source": [
    "However, it did not update the list of _trained_ estimators:"
   ]
  },
  {
   "cell_type": "code",
   "execution_count": 55,
   "id": "bb9accf3",
   "metadata": {
    "execution": {
     "iopub.execute_input": "2022-10-31T23:48:44.904119Z",
     "iopub.status.busy": "2022-10-31T23:48:44.903553Z",
     "iopub.status.idle": "2022-10-31T23:48:44.909954Z",
     "shell.execute_reply": "2022-10-31T23:48:44.909171Z"
    },
    "papermill": {
     "duration": 0.037253,
     "end_time": "2022-10-31T23:48:44.911795",
     "exception": false,
     "start_time": "2022-10-31T23:48:44.874542",
     "status": "completed"
    },
    "tags": []
   },
   "outputs": [
    {
     "data": {
      "text/plain": [
       "[RandomForestClassifier(random_state=42),\n",
       " ExtraTreesClassifier(random_state=42),\n",
       " LinearSVC(max_iter=100, random_state=42, tol=20),\n",
       " MLPClassifier(random_state=42)]"
      ]
     },
     "execution_count": 55,
     "metadata": {},
     "output_type": "execute_result"
    }
   ],
   "source": [
    "voting_clf.estimators_"
   ]
  },
  {
   "cell_type": "code",
   "execution_count": 56,
   "id": "31ee9438",
   "metadata": {
    "execution": {
     "iopub.execute_input": "2022-10-31T23:48:44.966814Z",
     "iopub.status.busy": "2022-10-31T23:48:44.966217Z",
     "iopub.status.idle": "2022-10-31T23:48:44.972811Z",
     "shell.execute_reply": "2022-10-31T23:48:44.972182Z"
    },
    "papermill": {
     "duration": 0.035785,
     "end_time": "2022-10-31T23:48:44.974517",
     "exception": false,
     "start_time": "2022-10-31T23:48:44.938732",
     "status": "completed"
    },
    "tags": []
   },
   "outputs": [
    {
     "data": {
      "text/plain": [
       "{'random_forest_clf': RandomForestClassifier(random_state=42),\n",
       " 'extra_trees_clf': ExtraTreesClassifier(random_state=42),\n",
       " 'svm_clf': LinearSVC(max_iter=100, random_state=42, tol=20),\n",
       " 'mlp_clf': MLPClassifier(random_state=42)}"
      ]
     },
     "execution_count": 56,
     "metadata": {},
     "output_type": "execute_result"
    }
   ],
   "source": [
    "voting_clf.named_estimators_"
   ]
  },
  {
   "cell_type": "markdown",
   "id": "74ae2ba5",
   "metadata": {
    "papermill": {
     "duration": 0.026358,
     "end_time": "2022-10-31T23:48:45.027574",
     "exception": false,
     "start_time": "2022-10-31T23:48:45.001216",
     "status": "completed"
    },
    "tags": []
   },
   "source": [
    "So we can either fit the `VotingClassifier` again, or just remove the SVM from the list of trained estimators, both in `estimators_` and `named_estimators_`:"
   ]
  },
  {
   "cell_type": "code",
   "execution_count": 57,
   "id": "f2413159",
   "metadata": {
    "execution": {
     "iopub.execute_input": "2022-10-31T23:48:45.082879Z",
     "iopub.status.busy": "2022-10-31T23:48:45.082310Z",
     "iopub.status.idle": "2022-10-31T23:48:45.086502Z",
     "shell.execute_reply": "2022-10-31T23:48:45.085897Z"
    },
    "papermill": {
     "duration": 0.033868,
     "end_time": "2022-10-31T23:48:45.088187",
     "exception": false,
     "start_time": "2022-10-31T23:48:45.054319",
     "status": "completed"
    },
    "tags": []
   },
   "outputs": [],
   "source": [
    "svm_clf_trained = voting_clf.named_estimators_.pop(\"svm_clf\")\n",
    "voting_clf.estimators_.remove(svm_clf_trained)"
   ]
  },
  {
   "cell_type": "markdown",
   "id": "ed3121c7",
   "metadata": {
    "papermill": {
     "duration": 0.026593,
     "end_time": "2022-10-31T23:48:45.141484",
     "exception": false,
     "start_time": "2022-10-31T23:48:45.114891",
     "status": "completed"
    },
    "tags": []
   },
   "source": [
    "Now let's evaluate the `VotingClassifier` again:"
   ]
  },
  {
   "cell_type": "code",
   "execution_count": 58,
   "id": "c5a31555",
   "metadata": {
    "execution": {
     "iopub.execute_input": "2022-10-31T23:48:45.196763Z",
     "iopub.status.busy": "2022-10-31T23:48:45.196207Z",
     "iopub.status.idle": "2022-10-31T23:48:45.944525Z",
     "shell.execute_reply": "2022-10-31T23:48:45.943862Z"
    },
    "papermill": {
     "duration": 0.777957,
     "end_time": "2022-10-31T23:48:45.946521",
     "exception": false,
     "start_time": "2022-10-31T23:48:45.168564",
     "status": "completed"
    },
    "tags": []
   },
   "outputs": [
    {
     "data": {
      "text/plain": [
       "0.9768"
      ]
     },
     "execution_count": 58,
     "metadata": {},
     "output_type": "execute_result"
    }
   ],
   "source": [
    "voting_clf.score(X_valid, y_valid)"
   ]
  },
  {
   "cell_type": "markdown",
   "id": "ef1e270f",
   "metadata": {
    "papermill": {
     "duration": 0.027607,
     "end_time": "2022-10-31T23:48:46.009067",
     "exception": false,
     "start_time": "2022-10-31T23:48:45.981460",
     "status": "completed"
    },
    "tags": []
   },
   "source": [
    "A bit better! The SVM was hurting performance. Now let's try using a soft voting classifier. We do not actually need to retrain the classifier, we can just set `voting` to `\"soft\"`:"
   ]
  },
  {
   "cell_type": "code",
   "execution_count": 59,
   "id": "ab304275",
   "metadata": {
    "execution": {
     "iopub.execute_input": "2022-10-31T23:48:46.065639Z",
     "iopub.status.busy": "2022-10-31T23:48:46.065293Z",
     "iopub.status.idle": "2022-10-31T23:48:46.069834Z",
     "shell.execute_reply": "2022-10-31T23:48:46.068860Z"
    },
    "papermill": {
     "duration": 0.035042,
     "end_time": "2022-10-31T23:48:46.071589",
     "exception": false,
     "start_time": "2022-10-31T23:48:46.036547",
     "status": "completed"
    },
    "tags": []
   },
   "outputs": [],
   "source": [
    "voting_clf.voting = \"soft\""
   ]
  },
  {
   "cell_type": "code",
   "execution_count": 60,
   "id": "07feb953",
   "metadata": {
    "execution": {
     "iopub.execute_input": "2022-10-31T23:48:46.128742Z",
     "iopub.status.busy": "2022-10-31T23:48:46.127979Z",
     "iopub.status.idle": "2022-10-31T23:48:46.935305Z",
     "shell.execute_reply": "2022-10-31T23:48:46.934489Z"
    },
    "papermill": {
     "duration": 0.838124,
     "end_time": "2022-10-31T23:48:46.937386",
     "exception": false,
     "start_time": "2022-10-31T23:48:46.099262",
     "status": "completed"
    },
    "tags": []
   },
   "outputs": [
    {
     "data": {
      "text/plain": [
       "0.9705"
      ]
     },
     "execution_count": 60,
     "metadata": {},
     "output_type": "execute_result"
    }
   ],
   "source": [
    "voting_clf.score(X_valid, y_valid)"
   ]
  },
  {
   "cell_type": "markdown",
   "id": "fe3a9fe8",
   "metadata": {
    "papermill": {
     "duration": 0.027611,
     "end_time": "2022-10-31T23:48:47.062313",
     "exception": false,
     "start_time": "2022-10-31T23:48:47.034702",
     "status": "completed"
    },
    "tags": []
   },
   "source": [
    "Nope, hard voting wins in this case."
   ]
  },
  {
   "cell_type": "markdown",
   "id": "c198ca62",
   "metadata": {
    "papermill": {
     "duration": 0.027615,
     "end_time": "2022-10-31T23:48:47.117926",
     "exception": false,
     "start_time": "2022-10-31T23:48:47.090311",
     "status": "completed"
    },
    "tags": []
   },
   "source": [
    "_Once you have found \\[an ensemble that performs better than the individual predictors\\], try it on the test set. How much better does it perform compared to the individual classifiers?_"
   ]
  },
  {
   "cell_type": "code",
   "execution_count": 61,
   "id": "6b3c8ee5",
   "metadata": {
    "execution": {
     "iopub.execute_input": "2022-10-31T23:48:47.175277Z",
     "iopub.status.busy": "2022-10-31T23:48:47.174906Z",
     "iopub.status.idle": "2022-10-31T23:48:48.037631Z",
     "shell.execute_reply": "2022-10-31T23:48:48.036834Z"
    },
    "papermill": {
     "duration": 0.893589,
     "end_time": "2022-10-31T23:48:48.039501",
     "exception": false,
     "start_time": "2022-10-31T23:48:47.145912",
     "status": "completed"
    },
    "tags": []
   },
   "outputs": [
    {
     "data": {
      "text/plain": [
       "0.9728"
      ]
     },
     "execution_count": 61,
     "metadata": {},
     "output_type": "execute_result"
    }
   ],
   "source": [
    "voting_clf.voting = \"hard\"\n",
    "voting_clf.score(X_test, y_test)"
   ]
  },
  {
   "cell_type": "code",
   "execution_count": 62,
   "id": "ae26aad9",
   "metadata": {
    "execution": {
     "iopub.execute_input": "2022-10-31T23:48:48.102376Z",
     "iopub.status.busy": "2022-10-31T23:48:48.102098Z",
     "iopub.status.idle": "2022-10-31T23:48:48.942190Z",
     "shell.execute_reply": "2022-10-31T23:48:48.941497Z"
    },
    "papermill": {
     "duration": 0.870035,
     "end_time": "2022-10-31T23:48:48.944235",
     "exception": false,
     "start_time": "2022-10-31T23:48:48.074200",
     "status": "completed"
    },
    "tags": []
   },
   "outputs": [
    {
     "data": {
      "text/plain": [
       "[0.968, 0.9703, 0.9612]"
      ]
     },
     "execution_count": 62,
     "metadata": {},
     "output_type": "execute_result"
    }
   ],
   "source": [
    "[estimator.score(X_test, y_test.astype(np.int64))\n",
    " for estimator in voting_clf.estimators_]"
   ]
  },
  {
   "cell_type": "markdown",
   "id": "736685ef",
   "metadata": {
    "papermill": {
     "duration": 0.040327,
     "end_time": "2022-10-31T23:48:49.043462",
     "exception": false,
     "start_time": "2022-10-31T23:48:49.003135",
     "status": "completed"
    },
    "tags": []
   },
   "source": [
    "The voting classifier reduced the error rate of the best model from about 3% to 2.7%, which means 10% less errors."
   ]
  },
  {
   "cell_type": "markdown",
   "id": "50a9b055",
   "metadata": {
    "papermill": {
     "duration": 0.028439,
     "end_time": "2022-10-31T23:48:49.103339",
     "exception": false,
     "start_time": "2022-10-31T23:48:49.074900",
     "status": "completed"
    },
    "tags": []
   },
   "source": [
    "## 9. Stacking Ensemble"
   ]
  },
  {
   "cell_type": "markdown",
   "id": "70e253e9",
   "metadata": {
    "papermill": {
     "duration": 0.028618,
     "end_time": "2022-10-31T23:48:49.160443",
     "exception": false,
     "start_time": "2022-10-31T23:48:49.131825",
     "status": "completed"
    },
    "tags": []
   },
   "source": [
    "Exercise: _Run the individual classifiers from the previous exercise to make predictions on the validation set, and create a new training set with the resulting predictions: each training instance is a vector containing the set of predictions from all your classifiers for an image, and the target is the image's class. Train a classifier on this new training set._"
   ]
  },
  {
   "cell_type": "code",
   "execution_count": 63,
   "id": "c989a70f",
   "metadata": {
    "execution": {
     "iopub.execute_input": "2022-10-31T23:48:49.219351Z",
     "iopub.status.busy": "2022-10-31T23:48:49.219042Z",
     "iopub.status.idle": "2022-10-31T23:48:50.035358Z",
     "shell.execute_reply": "2022-10-31T23:48:50.034495Z"
    },
    "papermill": {
     "duration": 0.848045,
     "end_time": "2022-10-31T23:48:50.037735",
     "exception": false,
     "start_time": "2022-10-31T23:48:49.189690",
     "status": "completed"
    },
    "tags": []
   },
   "outputs": [],
   "source": [
    "X_valid_predictions = np.empty((len(X_valid), len(estimators)), dtype=object)\n",
    "\n",
    "for index, estimator in enumerate(estimators):\n",
    "    X_valid_predictions[:, index] = estimator.predict(X_valid)"
   ]
  },
  {
   "cell_type": "code",
   "execution_count": 64,
   "id": "72665c6a",
   "metadata": {
    "execution": {
     "iopub.execute_input": "2022-10-31T23:48:50.114323Z",
     "iopub.status.busy": "2022-10-31T23:48:50.113971Z",
     "iopub.status.idle": "2022-10-31T23:48:50.119204Z",
     "shell.execute_reply": "2022-10-31T23:48:50.118517Z"
    },
    "papermill": {
     "duration": 0.048439,
     "end_time": "2022-10-31T23:48:50.123551",
     "exception": false,
     "start_time": "2022-10-31T23:48:50.075112",
     "status": "completed"
    },
    "tags": []
   },
   "outputs": [
    {
     "data": {
      "text/plain": [
       "array([['3', '3', '3', '3'],\n",
       "       ['8', '8', '8', '8'],\n",
       "       ['6', '6', '6', '6'],\n",
       "       ...,\n",
       "       ['5', '5', '5', '5'],\n",
       "       ['6', '6', '6', '6'],\n",
       "       ['8', '8', '8', '8']], dtype=object)"
      ]
     },
     "execution_count": 64,
     "metadata": {},
     "output_type": "execute_result"
    }
   ],
   "source": [
    "X_valid_predictions"
   ]
  },
  {
   "cell_type": "code",
   "execution_count": 65,
   "id": "8c97030e",
   "metadata": {
    "execution": {
     "iopub.execute_input": "2022-10-31T23:48:50.186959Z",
     "iopub.status.busy": "2022-10-31T23:48:50.186605Z",
     "iopub.status.idle": "2022-10-31T23:48:51.380406Z",
     "shell.execute_reply": "2022-10-31T23:48:51.379430Z"
    },
    "papermill": {
     "duration": 1.225569,
     "end_time": "2022-10-31T23:48:51.382215",
     "exception": false,
     "start_time": "2022-10-31T23:48:50.156646",
     "status": "completed"
    },
    "tags": []
   },
   "outputs": [
    {
     "data": {
      "text/plain": [
       "RandomForestClassifier(n_estimators=200, oob_score=True, random_state=42)"
      ]
     },
     "execution_count": 65,
     "metadata": {},
     "output_type": "execute_result"
    }
   ],
   "source": [
    "rnd_forest_blender = RandomForestClassifier(n_estimators=200, oob_score=True,\n",
    "                                            random_state=42)\n",
    "rnd_forest_blender.fit(X_valid_predictions, y_valid)"
   ]
  },
  {
   "cell_type": "code",
   "execution_count": 66,
   "id": "5d1e76b2",
   "metadata": {
    "execution": {
     "iopub.execute_input": "2022-10-31T23:48:51.441817Z",
     "iopub.status.busy": "2022-10-31T23:48:51.441471Z",
     "iopub.status.idle": "2022-10-31T23:48:51.447889Z",
     "shell.execute_reply": "2022-10-31T23:48:51.446881Z"
    },
    "papermill": {
     "duration": 0.038602,
     "end_time": "2022-10-31T23:48:51.449781",
     "exception": false,
     "start_time": "2022-10-31T23:48:51.411179",
     "status": "completed"
    },
    "tags": []
   },
   "outputs": [
    {
     "data": {
      "text/plain": [
       "0.9731"
      ]
     },
     "execution_count": 66,
     "metadata": {},
     "output_type": "execute_result"
    }
   ],
   "source": [
    "rnd_forest_blender.oob_score_"
   ]
  },
  {
   "cell_type": "markdown",
   "id": "be6b4ad6",
   "metadata": {
    "papermill": {
     "duration": 0.028899,
     "end_time": "2022-10-31T23:48:51.506937",
     "exception": false,
     "start_time": "2022-10-31T23:48:51.478038",
     "status": "completed"
    },
    "tags": []
   },
   "source": [
    "You could fine-tune this blender or try other types of blenders (e.g., an `MLPClassifier`), then select the best one using cross-validation, as always."
   ]
  },
  {
   "cell_type": "markdown",
   "id": "7811110a",
   "metadata": {
    "papermill": {
     "duration": 0.028183,
     "end_time": "2022-10-31T23:48:51.565288",
     "exception": false,
     "start_time": "2022-10-31T23:48:51.537105",
     "status": "completed"
    },
    "tags": []
   },
   "source": [
    "Exercise: _Congratulations, you have just trained a blender, and together with the classifiers they form a stacking ensemble! Now let's evaluate the ensemble on the test set. For each image in the test set, make predictions with all your classifiers, then feed the predictions to the blender to get the ensemble's predictions. How does it compare to the voting classifier you trained earlier?_"
   ]
  },
  {
   "cell_type": "code",
   "execution_count": 67,
   "id": "c69f305b",
   "metadata": {
    "execution": {
     "iopub.execute_input": "2022-10-31T23:48:51.626175Z",
     "iopub.status.busy": "2022-10-31T23:48:51.625837Z",
     "iopub.status.idle": "2022-10-31T23:48:52.465277Z",
     "shell.execute_reply": "2022-10-31T23:48:52.464473Z"
    },
    "papermill": {
     "duration": 0.872455,
     "end_time": "2022-10-31T23:48:52.467571",
     "exception": false,
     "start_time": "2022-10-31T23:48:51.595116",
     "status": "completed"
    },
    "tags": []
   },
   "outputs": [],
   "source": [
    "X_test_predictions = np.empty((len(X_test), len(estimators)), dtype=object)\n",
    "\n",
    "for index, estimator in enumerate(estimators):\n",
    "    X_test_predictions[:, index] = estimator.predict(X_test)"
   ]
  },
  {
   "cell_type": "code",
   "execution_count": 68,
   "id": "07bd7ed5",
   "metadata": {
    "execution": {
     "iopub.execute_input": "2022-10-31T23:48:52.543226Z",
     "iopub.status.busy": "2022-10-31T23:48:52.542868Z",
     "iopub.status.idle": "2022-10-31T23:48:52.757966Z",
     "shell.execute_reply": "2022-10-31T23:48:52.757316Z"
    },
    "papermill": {
     "duration": 0.254969,
     "end_time": "2022-10-31T23:48:52.759955",
     "exception": false,
     "start_time": "2022-10-31T23:48:52.504986",
     "status": "completed"
    },
    "tags": []
   },
   "outputs": [],
   "source": [
    "y_pred = rnd_forest_blender.predict(X_test_predictions)"
   ]
  },
  {
   "cell_type": "code",
   "execution_count": 69,
   "id": "ade2e364",
   "metadata": {
    "execution": {
     "iopub.execute_input": "2022-10-31T23:48:52.816932Z",
     "iopub.status.busy": "2022-10-31T23:48:52.816381Z",
     "iopub.status.idle": "2022-10-31T23:48:52.828667Z",
     "shell.execute_reply": "2022-10-31T23:48:52.828044Z"
    },
    "papermill": {
     "duration": 0.042466,
     "end_time": "2022-10-31T23:48:52.830313",
     "exception": false,
     "start_time": "2022-10-31T23:48:52.787847",
     "status": "completed"
    },
    "tags": []
   },
   "outputs": [
    {
     "data": {
      "text/plain": [
       "0.9697"
      ]
     },
     "execution_count": 69,
     "metadata": {},
     "output_type": "execute_result"
    }
   ],
   "source": [
    "accuracy_score(y_test, y_pred)"
   ]
  },
  {
   "cell_type": "markdown",
   "id": "46c7638b",
   "metadata": {
    "papermill": {
     "duration": 0.029825,
     "end_time": "2022-10-31T23:48:52.888323",
     "exception": false,
     "start_time": "2022-10-31T23:48:52.858498",
     "status": "completed"
    },
    "tags": []
   },
   "source": [
    "This stacking ensemble does not perform as well as the voting classifier we trained earlier."
   ]
  },
  {
   "cell_type": "markdown",
   "id": "5e8024fb",
   "metadata": {
    "papermill": {
     "duration": 0.029204,
     "end_time": "2022-10-31T23:48:52.946032",
     "exception": false,
     "start_time": "2022-10-31T23:48:52.916828",
     "status": "completed"
    },
    "tags": []
   },
   "source": [
    "Exercise: _Now try again using a `StackingClassifier` instead: do you get better performance? If so, why?_"
   ]
  },
  {
   "cell_type": "markdown",
   "id": "6a04468c",
   "metadata": {
    "papermill": {
     "duration": 0.028969,
     "end_time": "2022-10-31T23:48:53.004678",
     "exception": false,
     "start_time": "2022-10-31T23:48:52.975709",
     "status": "completed"
    },
    "tags": []
   },
   "source": [
    "Since `StackingClassifier` uses K-Fold cross-validation, we don't need a separate validation set, so let's join the training set and the validation set into a bigger training set:"
   ]
  },
  {
   "cell_type": "code",
   "execution_count": 70,
   "id": "c9636482",
   "metadata": {
    "execution": {
     "iopub.execute_input": "2022-10-31T23:48:53.065547Z",
     "iopub.status.busy": "2022-10-31T23:48:53.065238Z",
     "iopub.status.idle": "2022-10-31T23:48:53.068800Z",
     "shell.execute_reply": "2022-10-31T23:48:53.068209Z"
    },
    "papermill": {
     "duration": 0.03704,
     "end_time": "2022-10-31T23:48:53.071588",
     "exception": false,
     "start_time": "2022-10-31T23:48:53.034548",
     "status": "completed"
    },
    "tags": []
   },
   "outputs": [],
   "source": [
    "X_train_full, y_train_full = X_mnist[:60_000], y_mnist[:60_000]"
   ]
  },
  {
   "cell_type": "markdown",
   "id": "9690d1df",
   "metadata": {
    "papermill": {
     "duration": 0.028533,
     "end_time": "2022-10-31T23:48:53.129670",
     "exception": false,
     "start_time": "2022-10-31T23:48:53.101137",
     "status": "completed"
    },
    "tags": []
   },
   "source": [
    "Now let's create and train the stacking classifier on the full training set:"
   ]
  },
  {
   "cell_type": "markdown",
   "id": "011af67b",
   "metadata": {
    "papermill": {
     "duration": 0.02868,
     "end_time": "2022-10-31T23:48:53.186803",
     "exception": false,
     "start_time": "2022-10-31T23:48:53.158123",
     "status": "completed"
    },
    "tags": []
   },
   "source": [
    "**Warning**: the following cell will take quite a while to run (15-30 minutes depending on your hardware), as it uses K-Fold validation with 5 folds by default. It will train the 4 classifiers 5 times each on 80% of the full training set to make the predictions, plus one last time each on the full training set, and lastly it will train the final model on the predictions. That's a total of 25 models to train!"
   ]
  },
  {
   "cell_type": "code",
   "execution_count": 71,
   "id": "8c46c232",
   "metadata": {
    "execution": {
     "iopub.execute_input": "2022-10-31T23:48:53.246298Z",
     "iopub.status.busy": "2022-10-31T23:48:53.245958Z",
     "iopub.status.idle": "2022-11-01T00:01:27.765957Z",
     "shell.execute_reply": "2022-11-01T00:01:27.764700Z"
    },
    "papermill": {
     "duration": 754.579677,
     "end_time": "2022-11-01T00:01:27.795514",
     "exception": false,
     "start_time": "2022-10-31T23:48:53.215837",
     "status": "completed"
    },
    "tags": []
   },
   "outputs": [
    {
     "data": {
      "text/plain": [
       "StackingClassifier(estimators=[('random_forest_clf',\n",
       "                                RandomForestClassifier(random_state=42)),\n",
       "                               ('extra_trees_clf',\n",
       "                                ExtraTreesClassifier(random_state=42)),\n",
       "                               ('svm_clf',\n",
       "                                LinearSVC(max_iter=100, random_state=42,\n",
       "                                          tol=20)),\n",
       "                               ('mlp_clf', MLPClassifier(random_state=42))],\n",
       "                   final_estimator=RandomForestClassifier(n_estimators=200,\n",
       "                                                          oob_score=True,\n",
       "                                                          random_state=42))"
      ]
     },
     "execution_count": 71,
     "metadata": {},
     "output_type": "execute_result"
    }
   ],
   "source": [
    "stack_clf = StackingClassifier(named_estimators,\n",
    "                               final_estimator=rnd_forest_blender)\n",
    "stack_clf.fit(X_train_full, y_train_full)"
   ]
  },
  {
   "cell_type": "code",
   "execution_count": 72,
   "id": "b402a2e1",
   "metadata": {
    "execution": {
     "iopub.execute_input": "2022-11-01T00:01:27.853193Z",
     "iopub.status.busy": "2022-11-01T00:01:27.852831Z",
     "iopub.status.idle": "2022-11-01T00:01:28.890546Z",
     "shell.execute_reply": "2022-11-01T00:01:28.889321Z"
    },
    "papermill": {
     "duration": 1.069294,
     "end_time": "2022-11-01T00:01:28.892756",
     "exception": false,
     "start_time": "2022-11-01T00:01:27.823462",
     "status": "completed"
    },
    "tags": []
   },
   "outputs": [
    {
     "data": {
      "text/plain": [
       "0.9786"
      ]
     },
     "execution_count": 72,
     "metadata": {},
     "output_type": "execute_result"
    }
   ],
   "source": [
    "stack_clf.score(X_test, y_test)"
   ]
  },
  {
   "cell_type": "markdown",
   "id": "58b8fcf2",
   "metadata": {
    "papermill": {
     "duration": 0.028179,
     "end_time": "2022-11-01T00:01:28.950459",
     "exception": false,
     "start_time": "2022-11-01T00:01:28.922280",
     "status": "completed"
    },
    "tags": []
   },
   "source": [
    "The `StackingClassifier` significantly outperforms the custom stacking implementation we tried earlier! This is for mainly two reasons:\n",
    "\n",
    "* Since we could reclaim the validation set, the `StackingClassifier` was trained on a larger dataset.\n",
    "* It used `predict_proba()` if available, or else `decision_function()` if available, or else `predict()`. This gave the blender much more nuanced inputs to work with."
   ]
  },
  {
   "cell_type": "markdown",
   "id": "0fd419e5",
   "metadata": {
    "papermill": {
     "duration": 0.028965,
     "end_time": "2022-11-01T00:01:29.008604",
     "exception": false,
     "start_time": "2022-11-01T00:01:28.979639",
     "status": "completed"
    },
    "tags": []
   },
   "source": [
    "And that's all for today, congratulations on finishing the chapter and the exercises!"
   ]
  },
  {
   "cell_type": "code",
   "execution_count": null,
   "id": "ba57f286",
   "metadata": {
    "papermill": {
     "duration": 0.029018,
     "end_time": "2022-11-01T00:01:29.066756",
     "exception": false,
     "start_time": "2022-11-01T00:01:29.037738",
     "status": "completed"
    },
    "tags": []
   },
   "outputs": [],
   "source": []
  }
 ],
 "metadata": {
  "kernelspec": {
   "display_name": "Python 3",
   "language": "python",
   "name": "python3"
  },
  "language_info": {
   "codemirror_mode": {
    "name": "ipython",
    "version": 3
   },
   "file_extension": ".py",
   "mimetype": "text/x-python",
   "name": "python",
   "nbconvert_exporter": "python",
   "pygments_lexer": "ipython3",
   "version": "3.7.12"
  },
  "papermill": {
   "default_parameters": {},
   "duration": 1199.788303,
   "end_time": "2022-11-01T00:01:31.818578",
   "environment_variables": {},
   "exception": null,
   "input_path": "__notebook__.ipynb",
   "output_path": "__notebook__.ipynb",
   "parameters": {},
   "start_time": "2022-10-31T23:41:32.030275",
   "version": "2.3.4"
  }
 },
 "nbformat": 4,
 "nbformat_minor": 5
}
