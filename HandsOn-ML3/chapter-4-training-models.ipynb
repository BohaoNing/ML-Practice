{
 "cells": [
  {
   "cell_type": "markdown",
   "id": "a774e7e9",
   "metadata": {
    "papermill": {
     "duration": 0.029405,
     "end_time": "2022-10-28T01:10:29.344572",
     "exception": false,
     "start_time": "2022-10-28T01:10:29.315167",
     "status": "completed"
    },
    "tags": []
   },
   "source": [
    "**Chapter 4 – Training Models**"
   ]
  },
  {
   "cell_type": "markdown",
   "id": "1435e184",
   "metadata": {
    "papermill": {
     "duration": 0.026295,
     "end_time": "2022-10-28T01:10:29.397668",
     "exception": false,
     "start_time": "2022-10-28T01:10:29.371373",
     "status": "completed"
    },
    "tags": []
   },
   "source": [
    "_This notebook contains all the sample code and solutions to the exercises in chapter 4._"
   ]
  },
  {
   "cell_type": "markdown",
   "id": "2358c14d",
   "metadata": {
    "papermill": {
     "duration": 0.026044,
     "end_time": "2022-10-28T01:10:29.450956",
     "exception": false,
     "start_time": "2022-10-28T01:10:29.424912",
     "status": "completed"
    },
    "tags": []
   },
   "source": [
    "<table align=\"left\">\n",
    "  <td>\n",
    "    <a href=\"https://colab.research.google.com/github/ageron/handson-ml3/blob/main/04_training_linear_models.ipynb\" target=\"_parent\"><img src=\"https://colab.research.google.com/assets/colab-badge.svg\" alt=\"Open In Colab\"/></a>\n",
    "  </td>\n",
    "  <td>\n",
    "    <a target=\"_blank\" href=\"https://kaggle.com/kernels/welcome?src=https://github.com/ageron/handson-ml3/blob/main/04_training_linear_models.ipynb\"><img src=\"https://kaggle.com/static/images/open-in-kaggle.svg\" /></a>\n",
    "  </td>\n",
    "</table>"
   ]
  },
  {
   "cell_type": "markdown",
   "id": "696f4416",
   "metadata": {
    "papermill": {
     "duration": 0.025842,
     "end_time": "2022-10-28T01:10:29.502893",
     "exception": false,
     "start_time": "2022-10-28T01:10:29.477051",
     "status": "completed"
    },
    "tags": []
   },
   "source": [
    "# Setup"
   ]
  },
  {
   "cell_type": "markdown",
   "id": "50246e15",
   "metadata": {
    "papermill": {
     "duration": 0.027047,
     "end_time": "2022-10-28T01:10:29.556026",
     "exception": false,
     "start_time": "2022-10-28T01:10:29.528979",
     "status": "completed"
    },
    "tags": []
   },
   "source": [
    "This project requires Python 3.7 or above:"
   ]
  },
  {
   "cell_type": "code",
   "execution_count": 1,
   "id": "d285dd6d",
   "metadata": {
    "execution": {
     "iopub.execute_input": "2022-10-28T01:10:29.611566Z",
     "iopub.status.busy": "2022-10-28T01:10:29.610598Z",
     "iopub.status.idle": "2022-10-28T01:10:29.624292Z",
     "shell.execute_reply": "2022-10-28T01:10:29.623317Z"
    },
    "papermill": {
     "duration": 0.043864,
     "end_time": "2022-10-28T01:10:29.626972",
     "exception": false,
     "start_time": "2022-10-28T01:10:29.583108",
     "status": "completed"
    },
    "tags": []
   },
   "outputs": [],
   "source": [
    "import sys\n",
    "\n",
    "assert sys.version_info >= (3, 7)"
   ]
  },
  {
   "cell_type": "markdown",
   "id": "f0aa826d",
   "metadata": {
    "papermill": {
     "duration": 0.026217,
     "end_time": "2022-10-28T01:10:29.680053",
     "exception": false,
     "start_time": "2022-10-28T01:10:29.653836",
     "status": "completed"
    },
    "tags": []
   },
   "source": [
    "It also requires Scikit-Learn ≥ 1.0.1:"
   ]
  },
  {
   "cell_type": "code",
   "execution_count": 2,
   "id": "6b40814f",
   "metadata": {
    "execution": {
     "iopub.execute_input": "2022-10-28T01:10:29.734358Z",
     "iopub.status.busy": "2022-10-28T01:10:29.733926Z",
     "iopub.status.idle": "2022-10-28T01:10:30.732169Z",
     "shell.execute_reply": "2022-10-28T01:10:30.730722Z"
    },
    "papermill": {
     "duration": 1.028741,
     "end_time": "2022-10-28T01:10:30.735110",
     "exception": false,
     "start_time": "2022-10-28T01:10:29.706369",
     "status": "completed"
    },
    "tags": []
   },
   "outputs": [],
   "source": [
    "from packaging import version\n",
    "import sklearn\n",
    "\n",
    "assert version.parse(sklearn.__version__) >= version.parse(\"1.0.1\")"
   ]
  },
  {
   "cell_type": "markdown",
   "id": "d92668c2",
   "metadata": {
    "papermill": {
     "duration": 0.025684,
     "end_time": "2022-10-28T01:10:30.786792",
     "exception": false,
     "start_time": "2022-10-28T01:10:30.761108",
     "status": "completed"
    },
    "tags": []
   },
   "source": [
    "As we did in previous chapters, let's define the default font sizes to make the figures prettier:"
   ]
  },
  {
   "cell_type": "code",
   "execution_count": 3,
   "id": "2d505512",
   "metadata": {
    "execution": {
     "iopub.execute_input": "2022-10-28T01:10:30.840746Z",
     "iopub.status.busy": "2022-10-28T01:10:30.840100Z",
     "iopub.status.idle": "2022-10-28T01:10:30.846486Z",
     "shell.execute_reply": "2022-10-28T01:10:30.845284Z"
    },
    "papermill": {
     "duration": 0.03572,
     "end_time": "2022-10-28T01:10:30.848819",
     "exception": false,
     "start_time": "2022-10-28T01:10:30.813099",
     "status": "completed"
    },
    "tags": []
   },
   "outputs": [],
   "source": [
    "import matplotlib.pyplot as plt\n",
    "\n",
    "plt.rc('font', size=14)\n",
    "plt.rc('axes', labelsize=14, titlesize=14)\n",
    "plt.rc('legend', fontsize=14)\n",
    "plt.rc('xtick', labelsize=10)\n",
    "plt.rc('ytick', labelsize=10)"
   ]
  },
  {
   "cell_type": "markdown",
   "id": "f803d48c",
   "metadata": {
    "papermill": {
     "duration": 0.028407,
     "end_time": "2022-10-28T01:10:30.906055",
     "exception": false,
     "start_time": "2022-10-28T01:10:30.877648",
     "status": "completed"
    },
    "tags": []
   },
   "source": [
    "And let's create the `images/training_linear_models` folder (if it doesn't already exist), and define the `save_fig()` function which is used through this notebook to save the figures in high-res for the book:"
   ]
  },
  {
   "cell_type": "code",
   "execution_count": 4,
   "id": "d7fde9c1",
   "metadata": {
    "execution": {
     "iopub.execute_input": "2022-10-28T01:10:30.962243Z",
     "iopub.status.busy": "2022-10-28T01:10:30.961834Z",
     "iopub.status.idle": "2022-10-28T01:10:30.968682Z",
     "shell.execute_reply": "2022-10-28T01:10:30.967822Z"
    },
    "papermill": {
     "duration": 0.036632,
     "end_time": "2022-10-28T01:10:30.970665",
     "exception": false,
     "start_time": "2022-10-28T01:10:30.934033",
     "status": "completed"
    },
    "tags": []
   },
   "outputs": [],
   "source": [
    "from pathlib import Path\n",
    "\n",
    "IMAGES_PATH = Path() / \"images\" / \"training_linear_models\"\n",
    "IMAGES_PATH.mkdir(parents=True, exist_ok=True)\n",
    "\n",
    "def save_fig(fig_id, tight_layout=True, fig_extension=\"png\", resolution=300):\n",
    "    path = IMAGES_PATH / f\"{fig_id}.{fig_extension}\"\n",
    "    if tight_layout:\n",
    "        plt.tight_layout()\n",
    "    plt.savefig(path, format=fig_extension, dpi=resolution)"
   ]
  },
  {
   "cell_type": "markdown",
   "id": "604d2697",
   "metadata": {
    "papermill": {
     "duration": 0.025882,
     "end_time": "2022-10-28T01:10:31.022346",
     "exception": false,
     "start_time": "2022-10-28T01:10:30.996464",
     "status": "completed"
    },
    "tags": []
   },
   "source": [
    "# Linear Regression"
   ]
  },
  {
   "cell_type": "markdown",
   "id": "3861012d",
   "metadata": {
    "papermill": {
     "duration": 0.026883,
     "end_time": "2022-10-28T01:10:31.075295",
     "exception": false,
     "start_time": "2022-10-28T01:10:31.048412",
     "status": "completed"
    },
    "tags": []
   },
   "source": [
    "## The Normal Equation"
   ]
  },
  {
   "cell_type": "code",
   "execution_count": 5,
   "id": "a6a9234d",
   "metadata": {
    "execution": {
     "iopub.execute_input": "2022-10-28T01:10:31.129306Z",
     "iopub.status.busy": "2022-10-28T01:10:31.128844Z",
     "iopub.status.idle": "2022-10-28T01:10:31.134627Z",
     "shell.execute_reply": "2022-10-28T01:10:31.133684Z"
    },
    "papermill": {
     "duration": 0.035825,
     "end_time": "2022-10-28T01:10:31.137049",
     "exception": false,
     "start_time": "2022-10-28T01:10:31.101224",
     "status": "completed"
    },
    "tags": []
   },
   "outputs": [],
   "source": [
    "import numpy as np\n",
    "\n",
    "np.random.seed(42)  # to make this code example reproducible\n",
    "m = 100  # number of instances\n",
    "X = 2 * np.random.rand(m, 1)  # column vector\n",
    "y = 4 + 3 * X + np.random.randn(m, 1)  # column vector"
   ]
  },
  {
   "cell_type": "code",
   "execution_count": 6,
   "id": "0490f3fc",
   "metadata": {
    "execution": {
     "iopub.execute_input": "2022-10-28T01:10:31.192321Z",
     "iopub.status.busy": "2022-10-28T01:10:31.191263Z",
     "iopub.status.idle": "2022-10-28T01:10:31.989475Z",
     "shell.execute_reply": "2022-10-28T01:10:31.988320Z"
    },
    "papermill": {
     "duration": 0.829236,
     "end_time": "2022-10-28T01:10:31.992871",
     "exception": false,
     "start_time": "2022-10-28T01:10:31.163635",
     "status": "completed"
    },
    "tags": []
   },
   "outputs": [
    {
     "data": {
      "image/png": "[encoded data removed]",
      "text/plain": [
       "<Figure size 432x288 with 1 Axes>"
      ]
     },
     "metadata": {
      "needs_background": "light"
     },
     "output_type": "display_data"
    }
   ],
   "source": [
    "# extra code – generates and saves Figure 4–1\n",
    "\n",
    "import matplotlib.pyplot as plt\n",
    "\n",
    "plt.figure(figsize=(6, 4))\n",
    "plt.plot(X, y, \"b.\")\n",
    "plt.xlabel(\"$x_1$\")\n",
    "plt.ylabel(\"$y$\", rotation=0)\n",
    "plt.axis([0, 2, 0, 15])\n",
    "plt.grid()\n",
    "save_fig(\"generated_data_plot\")\n",
    "plt.show()"
   ]
  },
  {
   "cell_type": "code",
   "execution_count": 7,
   "id": "bcd87fd1",
   "metadata": {
    "execution": {
     "iopub.execute_input": "2022-10-28T01:10:32.049485Z",
     "iopub.status.busy": "2022-10-28T01:10:32.049028Z",
     "iopub.status.idle": "2022-10-28T01:10:32.084869Z",
     "shell.execute_reply": "2022-10-28T01:10:32.083780Z"
    },
    "papermill": {
     "duration": 0.067068,
     "end_time": "2022-10-28T01:10:32.087507",
     "exception": false,
     "start_time": "2022-10-28T01:10:32.020439",
     "status": "completed"
    },
    "tags": []
   },
   "outputs": [],
   "source": [
    "from sklearn.preprocessing import add_dummy_feature\n",
    "\n",
    "X_b = add_dummy_feature(X)  # add x0 = 1 to each instance\n",
    "theta_best = np.linalg.inv(X_b.T @ X_b) @ X_b.T @ y"
   ]
  },
  {
   "cell_type": "code",
   "execution_count": 8,
   "id": "c429bcd6",
   "metadata": {
    "execution": {
     "iopub.execute_input": "2022-10-28T01:10:32.146091Z",
     "iopub.status.busy": "2022-10-28T01:10:32.145161Z",
     "iopub.status.idle": "2022-10-28T01:10:32.154080Z",
     "shell.execute_reply": "2022-10-28T01:10:32.152977Z"
    },
    "papermill": {
     "duration": 0.039682,
     "end_time": "2022-10-28T01:10:32.156579",
     "exception": false,
     "start_time": "2022-10-28T01:10:32.116897",
     "status": "completed"
    },
    "tags": []
   },
   "outputs": [
    {
     "data": {
      "text/plain": [
       "array([[4.21509616],\n",
       "       [2.77011339]])"
      ]
     },
     "execution_count": 8,
     "metadata": {},
     "output_type": "execute_result"
    }
   ],
   "source": [
    "theta_best"
   ]
  },
  {
   "cell_type": "code",
   "execution_count": 9,
   "id": "ce2ca7aa",
   "metadata": {
    "execution": {
     "iopub.execute_input": "2022-10-28T01:10:32.215604Z",
     "iopub.status.busy": "2022-10-28T01:10:32.214359Z",
     "iopub.status.idle": "2022-10-28T01:10:32.222830Z",
     "shell.execute_reply": "2022-10-28T01:10:32.221861Z"
    },
    "papermill": {
     "duration": 0.040297,
     "end_time": "2022-10-28T01:10:32.224902",
     "exception": false,
     "start_time": "2022-10-28T01:10:32.184605",
     "status": "completed"
    },
    "tags": []
   },
   "outputs": [
    {
     "data": {
      "text/plain": [
       "array([[4.21509616],\n",
       "       [9.75532293]])"
      ]
     },
     "execution_count": 9,
     "metadata": {},
     "output_type": "execute_result"
    }
   ],
   "source": [
    "X_new = np.array([[0], [2]])\n",
    "X_new_b = add_dummy_feature(X_new)  # add x0 = 1 to each instance\n",
    "y_predict = X_new_b @ theta_best\n",
    "y_predict"
   ]
  },
  {
   "cell_type": "code",
   "execution_count": 10,
   "id": "7354f468",
   "metadata": {
    "execution": {
     "iopub.execute_input": "2022-10-28T01:10:32.279627Z",
     "iopub.status.busy": "2022-10-28T01:10:32.279188Z",
     "iopub.status.idle": "2022-10-28T01:10:32.927295Z",
     "shell.execute_reply": "2022-10-28T01:10:32.926400Z"
    },
    "papermill": {
     "duration": 0.67826,
     "end_time": "2022-10-28T01:10:32.929870",
     "exception": false,
     "start_time": "2022-10-28T01:10:32.251610",
     "status": "completed"
    },
    "tags": []
   },
   "outputs": [
    {
     "data": {
      "image/png": "[encoded data removed]",
      "text/plain": [
       "<Figure size 432x288 with 1 Axes>"
      ]
     },
     "metadata": {
      "needs_background": "light"
     },
     "output_type": "display_data"
    }
   ],
   "source": [
    "import matplotlib.pyplot as plt\n",
    "\n",
    "plt.figure(figsize=(6, 4))  # extra code – not needed, just formatting\n",
    "plt.plot(X_new, y_predict, \"r-\", label=\"Predictions\")\n",
    "plt.plot(X, y, \"b.\")\n",
    "\n",
    "# extra code – beautifies and saves Figure 4–2\n",
    "plt.xlabel(\"$x_1$\")\n",
    "plt.ylabel(\"$y$\", rotation=0)\n",
    "plt.axis([0, 2, 0, 15])\n",
    "plt.grid()\n",
    "plt.legend(loc=\"upper left\")\n",
    "save_fig(\"linear_model_predictions_plot\")\n",
    "\n",
    "plt.show()"
   ]
  },
  {
   "cell_type": "code",
   "execution_count": 11,
   "id": "f8cf2e78",
   "metadata": {
    "execution": {
     "iopub.execute_input": "2022-10-28T01:10:32.990564Z",
     "iopub.status.busy": "2022-10-28T01:10:32.989771Z",
     "iopub.status.idle": "2022-10-28T01:10:33.138065Z",
     "shell.execute_reply": "2022-10-28T01:10:33.136881Z"
    },
    "papermill": {
     "duration": 0.181513,
     "end_time": "2022-10-28T01:10:33.140776",
     "exception": false,
     "start_time": "2022-10-28T01:10:32.959263",
     "status": "completed"
    },
    "tags": []
   },
   "outputs": [
    {
     "data": {
      "text/plain": [
       "(array([4.21509616]), array([[2.77011339]]))"
      ]
     },
     "execution_count": 11,
     "metadata": {},
     "output_type": "execute_result"
    }
   ],
   "source": [
    "from sklearn.linear_model import LinearRegression\n",
    "\n",
    "lin_reg = LinearRegression()\n",
    "lin_reg.fit(X, y)\n",
    "lin_reg.intercept_, lin_reg.coef_"
   ]
  },
  {
   "cell_type": "code",
   "execution_count": 12,
   "id": "919a0b44",
   "metadata": {
    "execution": {
     "iopub.execute_input": "2022-10-28T01:10:33.196981Z",
     "iopub.status.busy": "2022-10-28T01:10:33.196592Z",
     "iopub.status.idle": "2022-10-28T01:10:33.204163Z",
     "shell.execute_reply": "2022-10-28T01:10:33.202986Z"
    },
    "papermill": {
     "duration": 0.038325,
     "end_time": "2022-10-28T01:10:33.206623",
     "exception": false,
     "start_time": "2022-10-28T01:10:33.168298",
     "status": "completed"
    },
    "tags": []
   },
   "outputs": [
    {
     "data": {
      "text/plain": [
       "array([[4.21509616],\n",
       "       [9.75532293]])"
      ]
     },
     "execution_count": 12,
     "metadata": {},
     "output_type": "execute_result"
    }
   ],
   "source": [
    "lin_reg.predict(X_new)"
   ]
  },
  {
   "cell_type": "markdown",
   "id": "a9c08c71",
   "metadata": {
    "papermill": {
     "duration": 0.026933,
     "end_time": "2022-10-28T01:10:33.261422",
     "exception": false,
     "start_time": "2022-10-28T01:10:33.234489",
     "status": "completed"
    },
    "tags": []
   },
   "source": [
    "The `LinearRegression` class is based on the `scipy.linalg.lstsq()` function (the name stands for \"least squares\"), which you could call directly:"
   ]
  },
  {
   "cell_type": "code",
   "execution_count": 13,
   "id": "1b03773c",
   "metadata": {
    "execution": {
     "iopub.execute_input": "2022-10-28T01:10:33.319768Z",
     "iopub.status.busy": "2022-10-28T01:10:33.319372Z",
     "iopub.status.idle": "2022-10-28T01:10:33.338215Z",
     "shell.execute_reply": "2022-10-28T01:10:33.337029Z"
    },
    "papermill": {
     "duration": 0.051058,
     "end_time": "2022-10-28T01:10:33.340797",
     "exception": false,
     "start_time": "2022-10-28T01:10:33.289739",
     "status": "completed"
    },
    "tags": []
   },
   "outputs": [
    {
     "data": {
      "text/plain": [
       "array([[4.21509616],\n",
       "       [2.77011339]])"
      ]
     },
     "execution_count": 13,
     "metadata": {},
     "output_type": "execute_result"
    }
   ],
   "source": [
    "theta_best_svd, residuals, rank, s = np.linalg.lstsq(X_b, y, rcond=1e-6)\n",
    "theta_best_svd"
   ]
  },
  {
   "cell_type": "markdown",
   "id": "49a2a602",
   "metadata": {
    "papermill": {
     "duration": 0.02668,
     "end_time": "2022-10-28T01:10:33.395459",
     "exception": false,
     "start_time": "2022-10-28T01:10:33.368779",
     "status": "completed"
    },
    "tags": []
   },
   "source": [
    "This function computes $\\mathbf{X}^+\\mathbf{y}$, where $\\mathbf{X}^{+}$ is the _pseudoinverse_ of $\\mathbf{X}$ (specifically the Moore-Penrose inverse). You can use `np.linalg.pinv()` to compute the pseudoinverse directly:"
   ]
  },
  {
   "cell_type": "code",
   "execution_count": 14,
   "id": "0c2faa00",
   "metadata": {
    "execution": {
     "iopub.execute_input": "2022-10-28T01:10:33.451850Z",
     "iopub.status.busy": "2022-10-28T01:10:33.451426Z",
     "iopub.status.idle": "2022-10-28T01:10:33.459791Z",
     "shell.execute_reply": "2022-10-28T01:10:33.458565Z"
    },
    "papermill": {
     "duration": 0.039317,
     "end_time": "2022-10-28T01:10:33.462107",
     "exception": false,
     "start_time": "2022-10-28T01:10:33.422790",
     "status": "completed"
    },
    "tags": []
   },
   "outputs": [
    {
     "data": {
      "text/plain": [
       "array([[4.21509616],\n",
       "       [2.77011339]])"
      ]
     },
     "execution_count": 14,
     "metadata": {},
     "output_type": "execute_result"
    }
   ],
   "source": [
    "np.linalg.pinv(X_b) @ y"
   ]
  },
  {
   "cell_type": "markdown",
   "id": "f35edee1",
   "metadata": {
    "papermill": {
     "duration": 0.026813,
     "end_time": "2022-10-28T01:10:33.516386",
     "exception": false,
     "start_time": "2022-10-28T01:10:33.489573",
     "status": "completed"
    },
    "tags": []
   },
   "source": [
    "# Gradient Descent\n",
    "## Batch Gradient Descent"
   ]
  },
  {
   "cell_type": "code",
   "execution_count": 15,
   "id": "ac4e4d90",
   "metadata": {
    "execution": {
     "iopub.execute_input": "2022-10-28T01:10:33.572468Z",
     "iopub.status.busy": "2022-10-28T01:10:33.572007Z",
     "iopub.status.idle": "2022-10-28T01:10:33.585575Z",
     "shell.execute_reply": "2022-10-28T01:10:33.584745Z"
    },
    "papermill": {
     "duration": 0.044218,
     "end_time": "2022-10-28T01:10:33.587665",
     "exception": false,
     "start_time": "2022-10-28T01:10:33.543447",
     "status": "completed"
    },
    "tags": []
   },
   "outputs": [],
   "source": [
    "eta = 0.1  # learning rate\n",
    "n_epochs = 1000\n",
    "m = len(X_b)  # number of instances\n",
    "\n",
    "np.random.seed(42)\n",
    "theta = np.random.randn(2, 1)  # randomly initialized model parameters\n",
    "\n",
    "for epoch in range(n_epochs):\n",
    "    gradients = 2 / m * X_b.T @ (X_b @ theta - y)\n",
    "    theta = theta - eta * gradients"
   ]
  },
  {
   "cell_type": "markdown",
   "id": "d94fa33c",
   "metadata": {
    "papermill": {
     "duration": 0.026699,
     "end_time": "2022-10-28T01:10:33.641488",
     "exception": false,
     "start_time": "2022-10-28T01:10:33.614789",
     "status": "completed"
    },
    "tags": []
   },
   "source": [
    "The trained model parameters:"
   ]
  },
  {
   "cell_type": "code",
   "execution_count": 16,
   "id": "522a2944",
   "metadata": {
    "execution": {
     "iopub.execute_input": "2022-10-28T01:10:33.697928Z",
     "iopub.status.busy": "2022-10-28T01:10:33.697022Z",
     "iopub.status.idle": "2022-10-28T01:10:33.703180Z",
     "shell.execute_reply": "2022-10-28T01:10:33.702361Z"
    },
    "papermill": {
     "duration": 0.036269,
     "end_time": "2022-10-28T01:10:33.705211",
     "exception": false,
     "start_time": "2022-10-28T01:10:33.668942",
     "status": "completed"
    },
    "tags": []
   },
   "outputs": [
    {
     "data": {
      "text/plain": [
       "array([[4.21509616],\n",
       "       [2.77011339]])"
      ]
     },
     "execution_count": 16,
     "metadata": {},
     "output_type": "execute_result"
    }
   ],
   "source": [
    "theta"
   ]
  },
  {
   "cell_type": "code",
   "execution_count": 17,
   "id": "47523c23",
   "metadata": {
    "execution": {
     "iopub.execute_input": "2022-10-28T01:10:33.761968Z",
     "iopub.status.busy": "2022-10-28T01:10:33.760971Z",
     "iopub.status.idle": "2022-10-28T01:10:35.189740Z",
     "shell.execute_reply": "2022-10-28T01:10:35.188345Z"
    },
    "papermill": {
     "duration": 1.460085,
     "end_time": "2022-10-28T01:10:35.192504",
     "exception": false,
     "start_time": "2022-10-28T01:10:33.732419",
     "status": "completed"
    },
    "tags": []
   },
   "outputs": [
    {
     "data": {
      "image/png": "[encoded data removed]",
      "text/plain": [
       "<Figure size 720x288 with 3 Axes>"
      ]
     },
     "metadata": {
      "needs_background": "light"
     },
     "output_type": "display_data"
    }
   ],
   "source": [
    "# extra code – generates and saves Figure 4–8\n",
    "\n",
    "import matplotlib as mpl\n",
    "\n",
    "def plot_gradient_descent(theta, eta):\n",
    "    m = len(X_b)\n",
    "    plt.plot(X, y, \"b.\")\n",
    "    n_epochs = 1000\n",
    "    n_shown = 20\n",
    "    theta_path = []\n",
    "    for epoch in range(n_epochs):\n",
    "        if epoch < n_shown:\n",
    "            y_predict = X_new_b @ theta\n",
    "            color = mpl.colors.rgb2hex(plt.cm.OrRd(epoch / n_shown + 0.15))\n",
    "            plt.plot(X_new, y_predict, linestyle=\"solid\", color=color)\n",
    "        gradients = 2 / m * X_b.T @ (X_b @ theta - y)\n",
    "        theta = theta - eta * gradients\n",
    "        theta_path.append(theta)\n",
    "    plt.xlabel(\"$x_1$\")\n",
    "    plt.axis([0, 2, 0, 15])\n",
    "    plt.grid()\n",
    "    plt.title(fr\"$\\eta = {eta}$\")\n",
    "    return theta_path\n",
    "\n",
    "np.random.seed(42)\n",
    "theta = np.random.randn(2, 1)  # random initialization\n",
    "\n",
    "plt.figure(figsize=(10, 4))\n",
    "plt.subplot(131)\n",
    "plot_gradient_descent(theta, eta=0.02)\n",
    "plt.ylabel(\"$y$\", rotation=0)\n",
    "plt.subplot(132)\n",
    "theta_path_bgd = plot_gradient_descent(theta, eta=0.1)\n",
    "plt.gca().axes.yaxis.set_ticklabels([])\n",
    "plt.subplot(133)\n",
    "plt.gca().axes.yaxis.set_ticklabels([])\n",
    "plot_gradient_descent(theta, eta=0.5)\n",
    "save_fig(\"gradient_descent_plot\")\n",
    "plt.show()"
   ]
  },
  {
   "cell_type": "markdown",
   "id": "a20bacce",
   "metadata": {
    "papermill": {
     "duration": 0.028881,
     "end_time": "2022-10-28T01:10:35.250776",
     "exception": false,
     "start_time": "2022-10-28T01:10:35.221895",
     "status": "completed"
    },
    "tags": []
   },
   "source": [
    "## Stochastic Gradient Descent"
   ]
  },
  {
   "cell_type": "code",
   "execution_count": 18,
   "id": "aadd611b",
   "metadata": {
    "execution": {
     "iopub.execute_input": "2022-10-28T01:10:35.309657Z",
     "iopub.status.busy": "2022-10-28T01:10:35.309245Z",
     "iopub.status.idle": "2022-10-28T01:10:35.313878Z",
     "shell.execute_reply": "2022-10-28T01:10:35.312821Z"
    },
    "papermill": {
     "duration": 0.036997,
     "end_time": "2022-10-28T01:10:35.316181",
     "exception": false,
     "start_time": "2022-10-28T01:10:35.279184",
     "status": "completed"
    },
    "tags": []
   },
   "outputs": [],
   "source": [
    "theta_path_sgd = []  # extra code – we need to store the path of theta in the\n",
    "                     #              parameter space to plot the next figure"
   ]
  },
  {
   "cell_type": "code",
   "execution_count": 19,
   "id": "3094198f",
   "metadata": {
    "execution": {
     "iopub.execute_input": "2022-10-28T01:10:35.375001Z",
     "iopub.status.busy": "2022-10-28T01:10:35.374618Z",
     "iopub.status.idle": "2022-10-28T01:10:36.111990Z",
     "shell.execute_reply": "2022-10-28T01:10:36.111193Z"
    },
    "papermill": {
     "duration": 0.769698,
     "end_time": "2022-10-28T01:10:36.114325",
     "exception": false,
     "start_time": "2022-10-28T01:10:35.344627",
     "status": "completed"
    },
    "tags": []
   },
   "outputs": [
    {
     "data": {
      "image/png": "[encoded data removed]",
      "text/plain": [
       "<Figure size 432x288 with 1 Axes>"
      ]
     },
     "metadata": {
      "needs_background": "light"
     },
     "output_type": "display_data"
    }
   ],
   "source": [
    "n_epochs = 50\n",
    "t0, t1 = 5, 50  # learning schedule hyperparameters\n",
    "\n",
    "def learning_schedule(t):\n",
    "    return t0 / (t + t1)\n",
    "\n",
    "np.random.seed(42)\n",
    "theta = np.random.randn(2, 1)  # random initialization\n",
    "\n",
    "n_shown = 20  # extra code – just needed to generate the figure below\n",
    "plt.figure(figsize=(6, 4))  # extra code – not needed, just formatting\n",
    "\n",
    "for epoch in range(n_epochs):\n",
    "    for iteration in range(m):\n",
    "\n",
    "        # extra code – these 4 lines are used to generate the figure\n",
    "        if epoch == 0 and iteration < n_shown:\n",
    "            y_predict = X_new_b @ theta\n",
    "            color = mpl.colors.rgb2hex(plt.cm.OrRd(iteration / n_shown + 0.15))\n",
    "            plt.plot(X_new, y_predict, color=color)\n",
    "\n",
    "        random_index = np.random.randint(m)\n",
    "        xi = X_b[random_index : random_index + 1]\n",
    "        yi = y[random_index : random_index + 1]\n",
    "        gradients = 2 * xi.T @ (xi @ theta - yi)  # for SGD, do not divide by m\n",
    "        eta = learning_schedule(epoch * m + iteration)\n",
    "        theta = theta - eta * gradients\n",
    "        theta_path_sgd.append(theta)  # extra code – to generate the figure\n",
    "\n",
    "# extra code – this section beautifies and saves Figure 4–10\n",
    "plt.plot(X, y, \"b.\")\n",
    "plt.xlabel(\"$x_1$\")\n",
    "plt.ylabel(\"$y$\", rotation=0)\n",
    "plt.axis([0, 2, 0, 15])\n",
    "plt.grid()\n",
    "save_fig(\"sgd_plot\")\n",
    "plt.show()"
   ]
  },
  {
   "cell_type": "code",
   "execution_count": 20,
   "id": "c059edff",
   "metadata": {
    "execution": {
     "iopub.execute_input": "2022-10-28T01:10:36.176136Z",
     "iopub.status.busy": "2022-10-28T01:10:36.175462Z",
     "iopub.status.idle": "2022-10-28T01:10:36.181601Z",
     "shell.execute_reply": "2022-10-28T01:10:36.180512Z"
    },
    "papermill": {
     "duration": 0.039964,
     "end_time": "2022-10-28T01:10:36.183828",
     "exception": false,
     "start_time": "2022-10-28T01:10:36.143864",
     "status": "completed"
    },
    "scrolled": true,
    "tags": []
   },
   "outputs": [
    {
     "data": {
      "text/plain": [
       "array([[4.21076011],\n",
       "       [2.74856079]])"
      ]
     },
     "execution_count": 20,
     "metadata": {},
     "output_type": "execute_result"
    }
   ],
   "source": [
    "theta"
   ]
  },
  {
   "cell_type": "code",
   "execution_count": 21,
   "id": "ae4c7f39",
   "metadata": {
    "execution": {
     "iopub.execute_input": "2022-10-28T01:10:36.245579Z",
     "iopub.status.busy": "2022-10-28T01:10:36.244938Z",
     "iopub.status.idle": "2022-10-28T01:10:36.258008Z",
     "shell.execute_reply": "2022-10-28T01:10:36.257221Z"
    },
    "papermill": {
     "duration": 0.046193,
     "end_time": "2022-10-28T01:10:36.260087",
     "exception": false,
     "start_time": "2022-10-28T01:10:36.213894",
     "status": "completed"
    },
    "tags": []
   },
   "outputs": [
    {
     "data": {
      "text/plain": [
       "SGDRegressor(n_iter_no_change=100, penalty=None, random_state=42, tol=1e-05)"
      ]
     },
     "execution_count": 21,
     "metadata": {},
     "output_type": "execute_result"
    }
   ],
   "source": [
    "from sklearn.linear_model import SGDRegressor\n",
    "\n",
    "sgd_reg = SGDRegressor(max_iter=1000, tol=1e-5, penalty=None, eta0=0.01,\n",
    "                       n_iter_no_change=100, random_state=42)\n",
    "sgd_reg.fit(X, y.ravel())  # y.ravel() because fit() expects 1D targets\n"
   ]
  },
  {
   "cell_type": "code",
   "execution_count": 22,
   "id": "3b4c7668",
   "metadata": {
    "execution": {
     "iopub.execute_input": "2022-10-28T01:10:36.322053Z",
     "iopub.status.busy": "2022-10-28T01:10:36.321414Z",
     "iopub.status.idle": "2022-10-28T01:10:36.327512Z",
     "shell.execute_reply": "2022-10-28T01:10:36.326703Z"
    },
    "papermill": {
     "duration": 0.039921,
     "end_time": "2022-10-28T01:10:36.329724",
     "exception": false,
     "start_time": "2022-10-28T01:10:36.289803",
     "status": "completed"
    },
    "tags": []
   },
   "outputs": [
    {
     "data": {
      "text/plain": [
       "(array([4.21278812]), array([2.77270267]))"
      ]
     },
     "execution_count": 22,
     "metadata": {},
     "output_type": "execute_result"
    }
   ],
   "source": [
    "sgd_reg.intercept_, sgd_reg.coef_"
   ]
  },
  {
   "cell_type": "markdown",
   "id": "4cacdbdd",
   "metadata": {
    "papermill": {
     "duration": 0.029013,
     "end_time": "2022-10-28T01:10:36.388356",
     "exception": false,
     "start_time": "2022-10-28T01:10:36.359343",
     "status": "completed"
    },
    "tags": []
   },
   "source": [
    "## Mini-batch gradient descent"
   ]
  },
  {
   "cell_type": "markdown",
   "id": "ed820fc2",
   "metadata": {
    "papermill": {
     "duration": 0.029411,
     "end_time": "2022-10-28T01:10:36.447631",
     "exception": false,
     "start_time": "2022-10-28T01:10:36.418220",
     "status": "completed"
    },
    "tags": []
   },
   "source": [
    "The code in this section is used to generate the next figure, it is not in the book."
   ]
  },
  {
   "cell_type": "code",
   "execution_count": 23,
   "id": "b6a69454",
   "metadata": {
    "execution": {
     "iopub.execute_input": "2022-10-28T01:10:36.508353Z",
     "iopub.status.busy": "2022-10-28T01:10:36.507713Z",
     "iopub.status.idle": "2022-10-28T01:10:37.355195Z",
     "shell.execute_reply": "2022-10-28T01:10:37.354043Z"
    },
    "papermill": {
     "duration": 0.88091,
     "end_time": "2022-10-28T01:10:37.357749",
     "exception": false,
     "start_time": "2022-10-28T01:10:36.476839",
     "status": "completed"
    },
    "tags": []
   },
   "outputs": [
    {
     "data": {
      "image/png": "[encoded data removed]",
      "text/plain": [
       "<Figure size 504x288 with 1 Axes>"
      ]
     },
     "metadata": {
      "needs_background": "light"
     },
     "output_type": "display_data"
    }
   ],
   "source": [
    "# extra code – this cell generates and saves Figure 4–11\n",
    "\n",
    "from math import ceil\n",
    "\n",
    "n_epochs = 50\n",
    "minibatch_size = 20\n",
    "n_batches_per_epoch = ceil(m / minibatch_size)\n",
    "\n",
    "np.random.seed(42)\n",
    "theta = np.random.randn(2, 1)  # random initialization\n",
    "\n",
    "t0, t1 = 200, 1000  # learning schedule hyperparameters\n",
    "\n",
    "def learning_schedule(t):\n",
    "    return t0 / (t + t1)\n",
    "\n",
    "theta_path_mgd = []\n",
    "for epoch in range(n_epochs):\n",
    "    shuffled_indices = np.random.permutation(m)\n",
    "    X_b_shuffled = X_b[shuffled_indices]\n",
    "    y_shuffled = y[shuffled_indices]\n",
    "    for iteration in range(0, n_batches_per_epoch):\n",
    "        idx = iteration * minibatch_size\n",
    "        xi = X_b_shuffled[idx : idx + minibatch_size]\n",
    "        yi = y_shuffled[idx : idx + minibatch_size]\n",
    "        gradients = 2 / minibatch_size * xi.T @ (xi @ theta - yi)\n",
    "        eta = learning_schedule(iteration)\n",
    "        theta = theta - eta * gradients\n",
    "        theta_path_mgd.append(theta)\n",
    "\n",
    "theta_path_bgd = np.array(theta_path_bgd)\n",
    "theta_path_sgd = np.array(theta_path_sgd)\n",
    "theta_path_mgd = np.array(theta_path_mgd)\n",
    "\n",
    "plt.figure(figsize=(7, 4))\n",
    "plt.plot(theta_path_sgd[:, 0], theta_path_sgd[:, 1], \"r-s\", linewidth=1,\n",
    "         label=\"Stochastic\")\n",
    "plt.plot(theta_path_mgd[:, 0], theta_path_mgd[:, 1], \"g-+\", linewidth=2,\n",
    "         label=\"Mini-batch\")\n",
    "plt.plot(theta_path_bgd[:, 0], theta_path_bgd[:, 1], \"b-o\", linewidth=3,\n",
    "         label=\"Batch\")\n",
    "plt.legend(loc=\"upper left\")\n",
    "plt.xlabel(r\"$\\theta_0$\")\n",
    "plt.ylabel(r\"$\\theta_1$   \", rotation=0)\n",
    "plt.axis([2.6, 4.6, 2.3, 3.4])\n",
    "plt.grid()\n",
    "save_fig(\"gradient_descent_paths_plot\")\n",
    "plt.show()"
   ]
  },
  {
   "cell_type": "markdown",
   "id": "70c17163",
   "metadata": {
    "papermill": {
     "duration": 0.030662,
     "end_time": "2022-10-28T01:10:37.419098",
     "exception": false,
     "start_time": "2022-10-28T01:10:37.388436",
     "status": "completed"
    },
    "tags": []
   },
   "source": [
    "# Polynomial Regression"
   ]
  },
  {
   "cell_type": "code",
   "execution_count": 24,
   "id": "a196cae8",
   "metadata": {
    "execution": {
     "iopub.execute_input": "2022-10-28T01:10:37.483888Z",
     "iopub.status.busy": "2022-10-28T01:10:37.483470Z",
     "iopub.status.idle": "2022-10-28T01:10:37.489409Z",
     "shell.execute_reply": "2022-10-28T01:10:37.488311Z"
    },
    "papermill": {
     "duration": 0.040641,
     "end_time": "2022-10-28T01:10:37.491655",
     "exception": false,
     "start_time": "2022-10-28T01:10:37.451014",
     "status": "completed"
    },
    "tags": []
   },
   "outputs": [],
   "source": [
    "np.random.seed(42)\n",
    "m = 100\n",
    "X = 6 * np.random.rand(m, 1) - 3\n",
    "y = 0.5 * X ** 2 + X + 2 + np.random.randn(m, 1)"
   ]
  },
  {
   "cell_type": "code",
   "execution_count": 25,
   "id": "5c22b643",
   "metadata": {
    "execution": {
     "iopub.execute_input": "2022-10-28T01:10:37.554593Z",
     "iopub.status.busy": "2022-10-28T01:10:37.554158Z",
     "iopub.status.idle": "2022-10-28T01:10:38.121704Z",
     "shell.execute_reply": "2022-10-28T01:10:38.120831Z"
    },
    "papermill": {
     "duration": 0.601647,
     "end_time": "2022-10-28T01:10:38.124195",
     "exception": false,
     "start_time": "2022-10-28T01:10:37.522548",
     "status": "completed"
    },
    "tags": []
   },
   "outputs": [
    {
     "data": {
      "image/png": "[encoded data removed]",
      "text/plain": [
       "<Figure size 432x288 with 1 Axes>"
      ]
     },
     "metadata": {
      "needs_background": "light"
     },
     "output_type": "display_data"
    }
   ],
   "source": [
    "# extra code – this cell generates and saves Figure 4–12\n",
    "plt.figure(figsize=(6, 4))\n",
    "plt.plot(X, y, \"b.\")\n",
    "plt.xlabel(\"$x_1$\")\n",
    "plt.ylabel(\"$y$\", rotation=0)\n",
    "plt.axis([-3, 3, 0, 10])\n",
    "plt.grid()\n",
    "save_fig(\"quadratic_data_plot\")\n",
    "plt.show()"
   ]
  },
  {
   "cell_type": "code",
   "execution_count": 26,
   "id": "485b5999",
   "metadata": {
    "execution": {
     "iopub.execute_input": "2022-10-28T01:10:38.188549Z",
     "iopub.status.busy": "2022-10-28T01:10:38.187588Z",
     "iopub.status.idle": "2022-10-28T01:10:38.196742Z",
     "shell.execute_reply": "2022-10-28T01:10:38.195594Z"
    },
    "papermill": {
     "duration": 0.043662,
     "end_time": "2022-10-28T01:10:38.198994",
     "exception": false,
     "start_time": "2022-10-28T01:10:38.155332",
     "status": "completed"
    },
    "tags": []
   },
   "outputs": [
    {
     "data": {
      "text/plain": [
       "array([-0.75275929])"
      ]
     },
     "execution_count": 26,
     "metadata": {},
     "output_type": "execute_result"
    }
   ],
   "source": [
    "from sklearn.preprocessing import PolynomialFeatures\n",
    "\n",
    "poly_features = PolynomialFeatures(degree=2, include_bias=False)\n",
    "X_poly = poly_features.fit_transform(X)\n",
    "X[0]"
   ]
  },
  {
   "cell_type": "code",
   "execution_count": 27,
   "id": "f09c69f7",
   "metadata": {
    "execution": {
     "iopub.execute_input": "2022-10-28T01:10:38.264037Z",
     "iopub.status.busy": "2022-10-28T01:10:38.263015Z",
     "iopub.status.idle": "2022-10-28T01:10:38.269583Z",
     "shell.execute_reply": "2022-10-28T01:10:38.268792Z"
    },
    "papermill": {
     "duration": 0.041396,
     "end_time": "2022-10-28T01:10:38.271649",
     "exception": false,
     "start_time": "2022-10-28T01:10:38.230253",
     "status": "completed"
    },
    "tags": []
   },
   "outputs": [
    {
     "data": {
      "text/plain": [
       "array([-0.75275929,  0.56664654])"
      ]
     },
     "execution_count": 27,
     "metadata": {},
     "output_type": "execute_result"
    }
   ],
   "source": [
    "X_poly[0]"
   ]
  },
  {
   "cell_type": "code",
   "execution_count": 28,
   "id": "fd7b98a0",
   "metadata": {
    "execution": {
     "iopub.execute_input": "2022-10-28T01:10:38.335047Z",
     "iopub.status.busy": "2022-10-28T01:10:38.334624Z",
     "iopub.status.idle": "2022-10-28T01:10:38.346801Z",
     "shell.execute_reply": "2022-10-28T01:10:38.345608Z"
    },
    "papermill": {
     "duration": 0.046373,
     "end_time": "2022-10-28T01:10:38.349106",
     "exception": false,
     "start_time": "2022-10-28T01:10:38.302733",
     "status": "completed"
    },
    "tags": []
   },
   "outputs": [
    {
     "data": {
      "text/plain": [
       "(array([1.78134581]), array([[0.93366893, 0.56456263]]))"
      ]
     },
     "execution_count": 28,
     "metadata": {},
     "output_type": "execute_result"
    }
   ],
   "source": [
    "lin_reg = LinearRegression()\n",
    "lin_reg.fit(X_poly, y)\n",
    "lin_reg.intercept_, lin_reg.coef_"
   ]
  },
  {
   "cell_type": "code",
   "execution_count": 29,
   "id": "f0386c36",
   "metadata": {
    "execution": {
     "iopub.execute_input": "2022-10-28T01:10:38.413831Z",
     "iopub.status.busy": "2022-10-28T01:10:38.413043Z",
     "iopub.status.idle": "2022-10-28T01:10:39.026049Z",
     "shell.execute_reply": "2022-10-28T01:10:39.025164Z"
    },
    "papermill": {
     "duration": 0.648316,
     "end_time": "2022-10-28T01:10:39.028153",
     "exception": false,
     "start_time": "2022-10-28T01:10:38.379837",
     "status": "completed"
    },
    "tags": []
   },
   "outputs": [
    {
     "data": {
      "image/png": "[encoded data removed]",
      "text/plain": [
       "<Figure size 432x288 with 1 Axes>"
      ]
     },
     "metadata": {
      "needs_background": "light"
     },
     "output_type": "display_data"
    }
   ],
   "source": [
    "# extra code – this cell generates and saves Figure 4–13\n",
    "\n",
    "X_new = np.linspace(-3, 3, 100).reshape(100, 1)\n",
    "X_new_poly = poly_features.transform(X_new)\n",
    "y_new = lin_reg.predict(X_new_poly)\n",
    "\n",
    "plt.figure(figsize=(6, 4))\n",
    "plt.plot(X, y, \"b.\")\n",
    "plt.plot(X_new, y_new, \"r-\", linewidth=2, label=\"Predictions\")\n",
    "plt.xlabel(\"$x_1$\")\n",
    "plt.ylabel(\"$y$\", rotation=0)\n",
    "plt.legend(loc=\"upper left\")\n",
    "plt.axis([-3, 3, 0, 10])\n",
    "plt.grid()\n",
    "save_fig(\"quadratic_predictions_plot\")\n",
    "plt.show()"
   ]
  },
  {
   "cell_type": "code",
   "execution_count": 30,
   "id": "06a31fdb",
   "metadata": {
    "execution": {
     "iopub.execute_input": "2022-10-28T01:10:39.093387Z",
     "iopub.status.busy": "2022-10-28T01:10:39.092672Z",
     "iopub.status.idle": "2022-10-28T01:10:39.938073Z",
     "shell.execute_reply": "2022-10-28T01:10:39.936930Z"
    },
    "papermill": {
     "duration": 0.881034,
     "end_time": "2022-10-28T01:10:39.940751",
     "exception": false,
     "start_time": "2022-10-28T01:10:39.059717",
     "status": "completed"
    },
    "tags": []
   },
   "outputs": [
    {
     "data": {
      "image/png": "[encoded data removed]",
      "text/plain": [
       "<Figure size 432x288 with 1 Axes>"
      ]
     },
     "metadata": {
      "needs_background": "light"
     },
     "output_type": "display_data"
    }
   ],
   "source": [
    "# extra code – this cell generates and saves Figure 4–14\n",
    "\n",
    "from sklearn.preprocessing import StandardScaler\n",
    "from sklearn.pipeline import make_pipeline\n",
    "\n",
    "plt.figure(figsize=(6, 4))\n",
    "\n",
    "for style, width, degree in ((\"r-+\", 2, 1), (\"b--\", 2, 2), (\"g-\", 1, 300)):\n",
    "    polybig_features = PolynomialFeatures(degree=degree, include_bias=False)\n",
    "    std_scaler = StandardScaler()\n",
    "    lin_reg = LinearRegression()\n",
    "    polynomial_regression = make_pipeline(polybig_features, std_scaler, lin_reg)\n",
    "    polynomial_regression.fit(X, y)\n",
    "    y_newbig = polynomial_regression.predict(X_new)\n",
    "    label = f\"{degree} degree{'s' if degree > 1 else ''}\"\n",
    "    plt.plot(X_new, y_newbig, style, label=label, linewidth=width)\n",
    "\n",
    "plt.plot(X, y, \"b.\", linewidth=3)\n",
    "plt.legend(loc=\"upper left\")\n",
    "plt.xlabel(\"$x_1$\")\n",
    "plt.ylabel(\"$y$\", rotation=0)\n",
    "plt.axis([-3, 3, 0, 10])\n",
    "plt.grid()\n",
    "save_fig(\"high_degree_polynomials_plot\")\n",
    "plt.show()"
   ]
  },
  {
   "cell_type": "markdown",
   "id": "d643aef9",
   "metadata": {
    "papermill": {
     "duration": 0.031722,
     "end_time": "2022-10-28T01:10:40.004367",
     "exception": false,
     "start_time": "2022-10-28T01:10:39.972645",
     "status": "completed"
    },
    "tags": []
   },
   "source": [
    "# Learning Curves"
   ]
  },
  {
   "cell_type": "code",
   "execution_count": 31,
   "id": "9dfd522f",
   "metadata": {
    "execution": {
     "iopub.execute_input": "2022-10-28T01:10:40.069417Z",
     "iopub.status.busy": "2022-10-28T01:10:40.069034Z",
     "iopub.status.idle": "2022-10-28T01:10:40.972952Z",
     "shell.execute_reply": "2022-10-28T01:10:40.971827Z"
    },
    "papermill": {
     "duration": 0.939398,
     "end_time": "2022-10-28T01:10:40.975412",
     "exception": false,
     "start_time": "2022-10-28T01:10:40.036014",
     "status": "completed"
    },
    "tags": []
   },
   "outputs": [
    {
     "data": {
      "image/png": "[encoded data removed]",
      "text/plain": [
       "<Figure size 432x288 with 1 Axes>"
      ]
     },
     "metadata": {
      "needs_background": "light"
     },
     "output_type": "display_data"
    }
   ],
   "source": [
    "from sklearn.model_selection import learning_curve\n",
    "\n",
    "train_sizes, train_scores, valid_scores = learning_curve(\n",
    "    LinearRegression(), X, y, train_sizes=np.linspace(0.01, 1.0, 40), cv=5,\n",
    "    scoring=\"neg_root_mean_squared_error\")\n",
    "train_errors = -train_scores.mean(axis=1)\n",
    "valid_errors = -valid_scores.mean(axis=1)\n",
    "\n",
    "plt.figure(figsize=(6, 4))  # extra code – not needed, just formatting\n",
    "plt.plot(train_sizes, train_errors, \"r-+\", linewidth=2, label=\"train\")\n",
    "plt.plot(train_sizes, valid_errors, \"b-\", linewidth=3, label=\"valid\")\n",
    "\n",
    "# extra code – beautifies and saves Figure 4–15\n",
    "plt.xlabel(\"Training set size\")\n",
    "plt.ylabel(\"RMSE\")\n",
    "plt.grid()\n",
    "plt.legend(loc=\"upper right\")\n",
    "plt.axis([0, 80, 0, 2.5])\n",
    "save_fig(\"underfitting_learning_curves_plot\")\n",
    "\n",
    "plt.show()"
   ]
  },
  {
   "cell_type": "code",
   "execution_count": 32,
   "id": "582d23ae",
   "metadata": {
    "execution": {
     "iopub.execute_input": "2022-10-28T01:10:41.041688Z",
     "iopub.status.busy": "2022-10-28T01:10:41.041241Z",
     "iopub.status.idle": "2022-10-28T01:10:41.522813Z",
     "shell.execute_reply": "2022-10-28T01:10:41.521581Z"
    },
    "papermill": {
     "duration": 0.518065,
     "end_time": "2022-10-28T01:10:41.525713",
     "exception": false,
     "start_time": "2022-10-28T01:10:41.007648",
     "status": "completed"
    },
    "tags": []
   },
   "outputs": [],
   "source": [
    "from sklearn.pipeline import make_pipeline\n",
    "\n",
    "polynomial_regression = make_pipeline(\n",
    "    PolynomialFeatures(degree=10, include_bias=False),\n",
    "    LinearRegression())\n",
    "\n",
    "train_sizes, train_scores, valid_scores = learning_curve(\n",
    "    polynomial_regression, X, y, train_sizes=np.linspace(0.01, 1.0, 40), cv=5,\n",
    "    scoring=\"neg_root_mean_squared_error\")"
   ]
  },
  {
   "cell_type": "code",
   "execution_count": 33,
   "id": "d909f4d7",
   "metadata": {
    "execution": {
     "iopub.execute_input": "2022-10-28T01:10:41.592293Z",
     "iopub.status.busy": "2022-10-28T01:10:41.591884Z",
     "iopub.status.idle": "2022-10-28T01:10:42.043780Z",
     "shell.execute_reply": "2022-10-28T01:10:42.042493Z"
    },
    "papermill": {
     "duration": 0.48816,
     "end_time": "2022-10-28T01:10:42.046326",
     "exception": false,
     "start_time": "2022-10-28T01:10:41.558166",
     "status": "completed"
    },
    "tags": []
   },
   "outputs": [
    {
     "data": {
      "image/png": "[encoded data removed]",
      "text/plain": [
       "<Figure size 432x288 with 1 Axes>"
      ]
     },
     "metadata": {
      "needs_background": "light"
     },
     "output_type": "display_data"
    }
   ],
   "source": [
    "# extra code – generates and saves Figure 4–16\n",
    "\n",
    "train_errors = -train_scores.mean(axis=1)\n",
    "valid_errors = -valid_scores.mean(axis=1)\n",
    "\n",
    "plt.figure(figsize=(6, 4))\n",
    "plt.plot(train_sizes, train_errors, \"r-+\", linewidth=2, label=\"train\")\n",
    "plt.plot(train_sizes, valid_errors, \"b-\", linewidth=3, label=\"valid\")\n",
    "plt.legend(loc=\"upper right\")\n",
    "plt.xlabel(\"Training set size\")\n",
    "plt.ylabel(\"RMSE\")\n",
    "plt.grid()\n",
    "plt.axis([0, 80, 0, 2.5])\n",
    "save_fig(\"learning_curves_plot\")\n",
    "plt.show()"
   ]
  },
  {
   "cell_type": "markdown",
   "id": "dadf93fc",
   "metadata": {
    "papermill": {
     "duration": 0.033051,
     "end_time": "2022-10-28T01:10:42.111904",
     "exception": false,
     "start_time": "2022-10-28T01:10:42.078853",
     "status": "completed"
    },
    "tags": []
   },
   "source": [
    "# Regularized Linear Models"
   ]
  },
  {
   "cell_type": "markdown",
   "id": "e5255c20",
   "metadata": {
    "papermill": {
     "duration": 0.03666,
     "end_time": "2022-10-28T01:10:42.181294",
     "exception": false,
     "start_time": "2022-10-28T01:10:42.144634",
     "status": "completed"
    },
    "tags": []
   },
   "source": [
    "## Ridge Regression"
   ]
  },
  {
   "cell_type": "markdown",
   "id": "4f0272cc",
   "metadata": {
    "papermill": {
     "duration": 0.0465,
     "end_time": "2022-10-28T01:10:42.273569",
     "exception": false,
     "start_time": "2022-10-28T01:10:42.227069",
     "status": "completed"
    },
    "tags": []
   },
   "source": [
    "Let's generate a very small and noisy linear dataset:"
   ]
  },
  {
   "cell_type": "code",
   "execution_count": 34,
   "id": "ecbe4301",
   "metadata": {
    "execution": {
     "iopub.execute_input": "2022-10-28T01:10:42.357293Z",
     "iopub.status.busy": "2022-10-28T01:10:42.356878Z",
     "iopub.status.idle": "2022-10-28T01:10:42.363461Z",
     "shell.execute_reply": "2022-10-28T01:10:42.362392Z"
    },
    "papermill": {
     "duration": 0.044792,
     "end_time": "2022-10-28T01:10:42.366508",
     "exception": false,
     "start_time": "2022-10-28T01:10:42.321716",
     "status": "completed"
    },
    "tags": []
   },
   "outputs": [],
   "source": [
    "# extra code – we've done this type of generation several times before\n",
    "np.random.seed(42)\n",
    "m = 20\n",
    "X = 3 * np.random.rand(m, 1)\n",
    "y = 1 + 0.5 * X + np.random.randn(m, 1) / 1.5\n",
    "X_new = np.linspace(0, 3, 100).reshape(100, 1)"
   ]
  },
  {
   "cell_type": "code",
   "execution_count": 35,
   "id": "46f4a33e",
   "metadata": {
    "execution": {
     "iopub.execute_input": "2022-10-28T01:10:42.453433Z",
     "iopub.status.busy": "2022-10-28T01:10:42.452020Z",
     "iopub.status.idle": "2022-10-28T01:10:42.680963Z",
     "shell.execute_reply": "2022-10-28T01:10:42.680131Z"
    },
    "papermill": {
     "duration": 0.274841,
     "end_time": "2022-10-28T01:10:42.683760",
     "exception": false,
     "start_time": "2022-10-28T01:10:42.408919",
     "status": "completed"
    },
    "tags": []
   },
   "outputs": [
    {
     "data": {
      "image/png": "[encoded data removed]",
      "text/plain": [
       "<Figure size 432x288 with 1 Axes>"
      ]
     },
     "metadata": {
      "needs_background": "light"
     },
     "output_type": "display_data"
    }
   ],
   "source": [
    "# extra code – a quick peek at the dataset we just generated\n",
    "plt.figure(figsize=(6, 4))\n",
    "plt.plot(X, y, \".\")\n",
    "plt.xlabel(\"$x_1$\")\n",
    "plt.ylabel(\"$y$  \", rotation=0)\n",
    "plt.axis([0, 3, 0, 3.5])\n",
    "plt.grid()\n",
    "plt.show()"
   ]
  },
  {
   "cell_type": "code",
   "execution_count": 36,
   "id": "24607286",
   "metadata": {
    "execution": {
     "iopub.execute_input": "2022-10-28T01:10:42.765596Z",
     "iopub.status.busy": "2022-10-28T01:10:42.764790Z",
     "iopub.status.idle": "2022-10-28T01:10:42.776792Z",
     "shell.execute_reply": "2022-10-28T01:10:42.775769Z"
    },
    "papermill": {
     "duration": 0.05037,
     "end_time": "2022-10-28T01:10:42.779077",
     "exception": false,
     "start_time": "2022-10-28T01:10:42.728707",
     "status": "completed"
    },
    "tags": []
   },
   "outputs": [
    {
     "data": {
      "text/plain": [
       "array([[1.55325833]])"
      ]
     },
     "execution_count": 36,
     "metadata": {},
     "output_type": "execute_result"
    }
   ],
   "source": [
    "from sklearn.linear_model import Ridge\n",
    "\n",
    "ridge_reg = Ridge(alpha=0.1, solver=\"cholesky\")\n",
    "ridge_reg.fit(X, y)\n",
    "ridge_reg.predict([[1.5]])"
   ]
  },
  {
   "cell_type": "code",
   "execution_count": 37,
   "id": "45181bad",
   "metadata": {
    "execution": {
     "iopub.execute_input": "2022-10-28T01:10:42.848021Z",
     "iopub.status.busy": "2022-10-28T01:10:42.847211Z",
     "iopub.status.idle": "2022-10-28T01:10:43.952709Z",
     "shell.execute_reply": "2022-10-28T01:10:43.951419Z"
    },
    "papermill": {
     "duration": 1.142768,
     "end_time": "2022-10-28T01:10:43.955352",
     "exception": false,
     "start_time": "2022-10-28T01:10:42.812584",
     "status": "completed"
    },
    "tags": []
   },
   "outputs": [
    {
     "data": {
      "image/png": "[encoded data removed]",
      "text/plain": [
       "<Figure size 648x252 with 2 Axes>"
      ]
     },
     "metadata": {
      "needs_background": "light"
     },
     "output_type": "display_data"
    }
   ],
   "source": [
    "# extra code – this cell generates and saves Figure 4–17\n",
    "\n",
    "def plot_model(model_class, polynomial, alphas, **model_kwargs):\n",
    "    plt.plot(X, y, \"b.\", linewidth=3)\n",
    "    for alpha, style in zip(alphas, (\"b:\", \"g--\", \"r-\")):\n",
    "        if alpha > 0:\n",
    "            model = model_class(alpha, **model_kwargs)\n",
    "        else:\n",
    "            model = LinearRegression()\n",
    "        if polynomial:\n",
    "            model = make_pipeline(\n",
    "                PolynomialFeatures(degree=10, include_bias=False),\n",
    "                StandardScaler(),\n",
    "                model)\n",
    "        model.fit(X, y)\n",
    "        y_new_regul = model.predict(X_new)\n",
    "        plt.plot(X_new, y_new_regul, style, linewidth=2,\n",
    "                 label=fr\"$\\alpha = {alpha}$\")\n",
    "    plt.legend(loc=\"upper left\")\n",
    "    plt.xlabel(\"$x_1$\")\n",
    "    plt.axis([0, 3, 0, 3.5])\n",
    "    plt.grid()\n",
    "\n",
    "plt.figure(figsize=(9, 3.5))\n",
    "plt.subplot(121)\n",
    "plot_model(Ridge, polynomial=False, alphas=(0, 10, 100), random_state=42)\n",
    "plt.ylabel(\"$y$  \", rotation=0)\n",
    "plt.subplot(122)\n",
    "plot_model(Ridge, polynomial=True, alphas=(0, 10**-5, 1), random_state=42)\n",
    "plt.gca().axes.yaxis.set_ticklabels([])\n",
    "save_fig(\"ridge_regression_plot\")\n",
    "plt.show()"
   ]
  },
  {
   "cell_type": "code",
   "execution_count": 38,
   "id": "104e9eea",
   "metadata": {
    "execution": {
     "iopub.execute_input": "2022-10-28T01:10:44.029614Z",
     "iopub.status.busy": "2022-10-28T01:10:44.028414Z",
     "iopub.status.idle": "2022-10-28T01:10:44.039907Z",
     "shell.execute_reply": "2022-10-28T01:10:44.038977Z"
    },
    "papermill": {
     "duration": 0.050362,
     "end_time": "2022-10-28T01:10:44.041958",
     "exception": false,
     "start_time": "2022-10-28T01:10:43.991596",
     "status": "completed"
    },
    "tags": []
   },
   "outputs": [
    {
     "data": {
      "text/plain": [
       "array([1.55302613])"
      ]
     },
     "execution_count": 38,
     "metadata": {},
     "output_type": "execute_result"
    }
   ],
   "source": [
    "sgd_reg = SGDRegressor(penalty=\"l2\", alpha=0.1 / m, tol=None,\n",
    "                       max_iter=1000, eta0=0.01, random_state=42)\n",
    "sgd_reg.fit(X, y.ravel())  # y.ravel() because fit() expects 1D targets\n",
    "sgd_reg.predict([[1.5]])"
   ]
  },
  {
   "cell_type": "code",
   "execution_count": 39,
   "id": "5f750bca",
   "metadata": {
    "execution": {
     "iopub.execute_input": "2022-10-28T01:10:44.113776Z",
     "iopub.status.busy": "2022-10-28T01:10:44.112695Z",
     "iopub.status.idle": "2022-10-28T01:10:44.122575Z",
     "shell.execute_reply": "2022-10-28T01:10:44.121621Z"
    },
    "papermill": {
     "duration": 0.048042,
     "end_time": "2022-10-28T01:10:44.124642",
     "exception": false,
     "start_time": "2022-10-28T01:10:44.076600",
     "status": "completed"
    },
    "tags": []
   },
   "outputs": [
    {
     "data": {
      "text/plain": [
       "array([[1.55321535]])"
      ]
     },
     "execution_count": 39,
     "metadata": {},
     "output_type": "execute_result"
    }
   ],
   "source": [
    "# extra code – show that we get roughly the same solution as earlier when\n",
    "#              we use Stochastic Average GD (solver=\"sag\")\n",
    "ridge_reg = Ridge(alpha=0.1, solver=\"sag\", random_state=42)\n",
    "ridge_reg.fit(X, y)\n",
    "ridge_reg.predict([[1.5]])"
   ]
  },
  {
   "cell_type": "code",
   "execution_count": 40,
   "id": "88a307c8",
   "metadata": {
    "execution": {
     "iopub.execute_input": "2022-10-28T01:10:44.196490Z",
     "iopub.status.busy": "2022-10-28T01:10:44.195194Z",
     "iopub.status.idle": "2022-10-28T01:10:44.205444Z",
     "shell.execute_reply": "2022-10-28T01:10:44.204198Z"
    },
    "papermill": {
     "duration": 0.050068,
     "end_time": "2022-10-28T01:10:44.209479",
     "exception": false,
     "start_time": "2022-10-28T01:10:44.159411",
     "status": "completed"
    },
    "tags": []
   },
   "outputs": [
    {
     "data": {
      "text/plain": [
       "array([[0.97898394],\n",
       "       [0.3828496 ]])"
      ]
     },
     "execution_count": 40,
     "metadata": {},
     "output_type": "execute_result"
    }
   ],
   "source": [
    "# extra code – shows the closed form solution of Ridge regression,\n",
    "#              compare with the next Ridge model's learned parameters below\n",
    "alpha = 0.1\n",
    "A = np.array([[0., 0.], [0., 1.]])\n",
    "X_b = np.c_[np.ones(m), X]\n",
    "np.linalg.inv(X_b.T @ X_b + alpha * A) @ X_b.T @ y"
   ]
  },
  {
   "cell_type": "code",
   "execution_count": 41,
   "id": "5faf9991",
   "metadata": {
    "execution": {
     "iopub.execute_input": "2022-10-28T01:10:44.343844Z",
     "iopub.status.busy": "2022-10-28T01:10:44.342745Z",
     "iopub.status.idle": "2022-10-28T01:10:44.350342Z",
     "shell.execute_reply": "2022-10-28T01:10:44.349467Z"
    },
    "papermill": {
     "duration": 0.056766,
     "end_time": "2022-10-28T01:10:44.352520",
     "exception": false,
     "start_time": "2022-10-28T01:10:44.295754",
     "status": "completed"
    },
    "tags": []
   },
   "outputs": [
    {
     "data": {
      "text/plain": [
       "(array([0.97944909]), array([[0.38251084]]))"
      ]
     },
     "execution_count": 41,
     "metadata": {},
     "output_type": "execute_result"
    }
   ],
   "source": [
    "ridge_reg.intercept_, ridge_reg.coef_  # extra code"
   ]
  },
  {
   "cell_type": "markdown",
   "id": "2028afce",
   "metadata": {
    "papermill": {
     "duration": 0.035809,
     "end_time": "2022-10-28T01:10:44.424153",
     "exception": false,
     "start_time": "2022-10-28T01:10:44.388344",
     "status": "completed"
    },
    "tags": []
   },
   "source": [
    "## Lasso Regression"
   ]
  },
  {
   "cell_type": "code",
   "execution_count": 42,
   "id": "bfd99603",
   "metadata": {
    "execution": {
     "iopub.execute_input": "2022-10-28T01:10:44.497445Z",
     "iopub.status.busy": "2022-10-28T01:10:44.496709Z",
     "iopub.status.idle": "2022-10-28T01:10:44.507636Z",
     "shell.execute_reply": "2022-10-28T01:10:44.506441Z"
    },
    "papermill": {
     "duration": 0.049538,
     "end_time": "2022-10-28T01:10:44.509797",
     "exception": false,
     "start_time": "2022-10-28T01:10:44.460259",
     "status": "completed"
    },
    "tags": []
   },
   "outputs": [
    {
     "data": {
      "text/plain": [
       "array([1.53788174])"
      ]
     },
     "execution_count": 42,
     "metadata": {},
     "output_type": "execute_result"
    }
   ],
   "source": [
    "from sklearn.linear_model import Lasso\n",
    "\n",
    "lasso_reg = Lasso(alpha=0.1)\n",
    "lasso_reg.fit(X, y)\n",
    "lasso_reg.predict([[1.5]])"
   ]
  },
  {
   "cell_type": "code",
   "execution_count": 43,
   "id": "34af64af",
   "metadata": {
    "execution": {
     "iopub.execute_input": "2022-10-28T01:10:44.583989Z",
     "iopub.status.busy": "2022-10-28T01:10:44.583576Z",
     "iopub.status.idle": "2022-10-28T01:10:45.449042Z",
     "shell.execute_reply": "2022-10-28T01:10:45.447808Z"
    },
    "papermill": {
     "duration": 0.906154,
     "end_time": "2022-10-28T01:10:45.451512",
     "exception": false,
     "start_time": "2022-10-28T01:10:44.545358",
     "status": "completed"
    },
    "tags": []
   },
   "outputs": [
    {
     "data": {
      "image/png": "[encoded data removed]",
      "text/plain": [
       "<Figure size 648x252 with 2 Axes>"
      ]
     },
     "metadata": {
      "needs_background": "light"
     },
     "output_type": "display_data"
    }
   ],
   "source": [
    "# extra code – this cell generates and saves Figure 4–18\n",
    "plt.figure(figsize=(9, 3.5))\n",
    "plt.subplot(121)\n",
    "plot_model(Lasso, polynomial=False, alphas=(0, 0.1, 1), random_state=42)\n",
    "plt.ylabel(\"$y$  \", rotation=0)\n",
    "plt.subplot(122)\n",
    "plot_model(Lasso, polynomial=True, alphas=(0, 1e-2, 1), random_state=42)\n",
    "plt.gca().axes.yaxis.set_ticklabels([])\n",
    "save_fig(\"lasso_regression_plot\")\n",
    "plt.show()"
   ]
  },
  {
   "cell_type": "code",
   "execution_count": 44,
   "id": "d9aec2c9",
   "metadata": {
    "execution": {
     "iopub.execute_input": "2022-10-28T01:10:45.526839Z",
     "iopub.status.busy": "2022-10-28T01:10:45.526440Z",
     "iopub.status.idle": "2022-10-28T01:10:47.954263Z",
     "shell.execute_reply": "2022-10-28T01:10:47.953064Z"
    },
    "papermill": {
     "duration": 2.468217,
     "end_time": "2022-10-28T01:10:47.956739",
     "exception": false,
     "start_time": "2022-10-28T01:10:45.488522",
     "status": "completed"
    },
    "tags": []
   },
   "outputs": [
    {
     "data": {
      "image/png": "[encoded data removed]",
      "text/plain": [
       "<Figure size 727.2x576 with 4 Axes>"
      ]
     },
     "metadata": {
      "needs_background": "light"
     },
     "output_type": "display_data"
    }
   ],
   "source": [
    "# extra code – this BIG cell generates and saves Figure 4–19\n",
    "\n",
    "t1a, t1b, t2a, t2b = -1, 3, -1.5, 1.5\n",
    "\n",
    "t1s = np.linspace(t1a, t1b, 500)\n",
    "t2s = np.linspace(t2a, t2b, 500)\n",
    "t1, t2 = np.meshgrid(t1s, t2s)\n",
    "T = np.c_[t1.ravel(), t2.ravel()]\n",
    "Xr = np.array([[1, 1], [1, -1], [1, 0.5]])\n",
    "yr = 2 * Xr[:, :1] + 0.5 * Xr[:, 1:]\n",
    "\n",
    "J = (1 / len(Xr) * ((T @ Xr.T - yr.T) ** 2).sum(axis=1)).reshape(t1.shape)\n",
    "\n",
    "N1 = np.linalg.norm(T, ord=1, axis=1).reshape(t1.shape)\n",
    "N2 = np.linalg.norm(T, ord=2, axis=1).reshape(t1.shape)\n",
    "\n",
    "t_min_idx = np.unravel_index(J.argmin(), J.shape)\n",
    "t1_min, t2_min = t1[t_min_idx], t2[t_min_idx]\n",
    "\n",
    "t_init = np.array([[0.25], [-1]])\n",
    "\n",
    "def bgd_path(theta, X, y, l1, l2, core=1, eta=0.05, n_iterations=200):\n",
    "    path = [theta]\n",
    "    for iteration in range(n_iterations):\n",
    "        gradients = (core * 2 / len(X) * X.T @ (X @ theta - y)\n",
    "                     + l1 * np.sign(theta) + l2 * theta)\n",
    "        theta = theta - eta * gradients\n",
    "        path.append(theta)\n",
    "    return np.array(path)\n",
    "\n",
    "fig, axes = plt.subplots(2, 2, sharex=True, sharey=True, figsize=(10.1, 8))\n",
    "\n",
    "for i, N, l1, l2, title in ((0, N1, 2.0, 0, \"Lasso\"), (1, N2, 0, 2.0, \"Ridge\")):\n",
    "    JR = J + l1 * N1 + l2 * 0.5 * N2 ** 2\n",
    "\n",
    "    tr_min_idx = np.unravel_index(JR.argmin(), JR.shape)\n",
    "    t1r_min, t2r_min = t1[tr_min_idx], t2[tr_min_idx]\n",
    "\n",
    "    levels = np.exp(np.linspace(0, 1, 20)) - 1\n",
    "    levelsJ = levels * (J.max() - J.min()) + J.min()\n",
    "    levelsJR = levels * (JR.max() - JR.min()) + JR.min()\n",
    "    levelsN = np.linspace(0, N.max(), 10)\n",
    "\n",
    "    path_J = bgd_path(t_init, Xr, yr, l1=0, l2=0)\n",
    "    path_JR = bgd_path(t_init, Xr, yr, l1, l2)\n",
    "    path_N = bgd_path(theta=np.array([[2.0], [0.5]]), X=Xr, y=yr,\n",
    "                      l1=np.sign(l1) / 3, l2=np.sign(l2), core=0)\n",
    "    ax = axes[i, 0]\n",
    "    ax.grid()\n",
    "    ax.axhline(y=0, color=\"k\")\n",
    "    ax.axvline(x=0, color=\"k\")\n",
    "    ax.contourf(t1, t2, N / 2.0, levels=levelsN)\n",
    "    ax.plot(path_N[:, 0], path_N[:, 1], \"y--\")\n",
    "    ax.plot(0, 0, \"ys\")\n",
    "    ax.plot(t1_min, t2_min, \"ys\")\n",
    "    ax.set_title(fr\"$\\ell_{i + 1}$ penalty\")\n",
    "    ax.axis([t1a, t1b, t2a, t2b])\n",
    "    if i == 1:\n",
    "        ax.set_xlabel(r\"$\\theta_1$\")\n",
    "    ax.set_ylabel(r\"$\\theta_2$\", rotation=0)\n",
    "\n",
    "    ax = axes[i, 1]\n",
    "    ax.grid()\n",
    "    ax.axhline(y=0, color=\"k\")\n",
    "    ax.axvline(x=0, color=\"k\")\n",
    "    ax.contourf(t1, t2, JR, levels=levelsJR, alpha=0.9)\n",
    "    ax.plot(path_JR[:, 0], path_JR[:, 1], \"w-o\")\n",
    "    ax.plot(path_N[:, 0], path_N[:, 1], \"y--\")\n",
    "    ax.plot(0, 0, \"ys\")\n",
    "    ax.plot(t1_min, t2_min, \"ys\")\n",
    "    ax.plot(t1r_min, t2r_min, \"rs\")\n",
    "    ax.set_title(title)\n",
    "    ax.axis([t1a, t1b, t2a, t2b])\n",
    "    if i == 1:\n",
    "        ax.set_xlabel(r\"$\\theta_1$\")\n",
    "\n",
    "save_fig(\"lasso_vs_ridge_plot\")\n",
    "plt.show()"
   ]
  },
  {
   "cell_type": "markdown",
   "id": "ccab5d74",
   "metadata": {
    "papermill": {
     "duration": 0.036361,
     "end_time": "2022-10-28T01:10:48.029696",
     "exception": false,
     "start_time": "2022-10-28T01:10:47.993335",
     "status": "completed"
    },
    "tags": []
   },
   "source": [
    "## Elastic Net"
   ]
  },
  {
   "cell_type": "code",
   "execution_count": 45,
   "id": "28776fac",
   "metadata": {
    "execution": {
     "iopub.execute_input": "2022-10-28T01:10:48.104156Z",
     "iopub.status.busy": "2022-10-28T01:10:48.103706Z",
     "iopub.status.idle": "2022-10-28T01:10:48.112752Z",
     "shell.execute_reply": "2022-10-28T01:10:48.111709Z"
    },
    "papermill": {
     "duration": 0.049211,
     "end_time": "2022-10-28T01:10:48.115177",
     "exception": false,
     "start_time": "2022-10-28T01:10:48.065966",
     "status": "completed"
    },
    "tags": []
   },
   "outputs": [
    {
     "data": {
      "text/plain": [
       "array([1.54333232])"
      ]
     },
     "execution_count": 45,
     "metadata": {},
     "output_type": "execute_result"
    }
   ],
   "source": [
    "from sklearn.linear_model import ElasticNet\n",
    "\n",
    "elastic_net = ElasticNet(alpha=0.1, l1_ratio=0.5)\n",
    "elastic_net.fit(X, y)\n",
    "elastic_net.predict([[1.5]])"
   ]
  },
  {
   "cell_type": "markdown",
   "id": "23ab7515",
   "metadata": {
    "papermill": {
     "duration": 0.036019,
     "end_time": "2022-10-28T01:10:48.187770",
     "exception": false,
     "start_time": "2022-10-28T01:10:48.151751",
     "status": "completed"
    },
    "tags": []
   },
   "source": [
    "## Early Stopping"
   ]
  },
  {
   "cell_type": "markdown",
   "id": "64b569a5",
   "metadata": {
    "papermill": {
     "duration": 0.036803,
     "end_time": "2022-10-28T01:10:48.261502",
     "exception": false,
     "start_time": "2022-10-28T01:10:48.224699",
     "status": "completed"
    },
    "tags": []
   },
   "source": [
    "Let's go back to the quadratic dataset we used earlier:"
   ]
  },
  {
   "cell_type": "code",
   "execution_count": 46,
   "id": "8000bceb",
   "metadata": {
    "execution": {
     "iopub.execute_input": "2022-10-28T01:10:48.335784Z",
     "iopub.status.busy": "2022-10-28T01:10:48.335350Z",
     "iopub.status.idle": "2022-10-28T01:10:49.625287Z",
     "shell.execute_reply": "2022-10-28T01:10:49.624008Z"
    },
    "papermill": {
     "duration": 1.330186,
     "end_time": "2022-10-28T01:10:49.627839",
     "exception": false,
     "start_time": "2022-10-28T01:10:48.297653",
     "status": "completed"
    },
    "tags": []
   },
   "outputs": [
    {
     "data": {
      "image/png": "[encoded data removed]",
      "text/plain": [
       "<Figure size 432x288 with 1 Axes>"
      ]
     },
     "metadata": {
      "needs_background": "light"
     },
     "output_type": "display_data"
    }
   ],
   "source": [
    "from copy import deepcopy\n",
    "from sklearn.metrics import mean_squared_error\n",
    "from sklearn.preprocessing import StandardScaler\n",
    "\n",
    "# extra code – creates the same quadratic dataset as earlier and splits it\n",
    "np.random.seed(42)\n",
    "m = 100\n",
    "X = 6 * np.random.rand(m, 1) - 3\n",
    "y = 0.5 * X ** 2 + X + 2 + np.random.randn(m, 1)\n",
    "X_train, y_train = X[: m // 2], y[: m // 2, 0]\n",
    "X_valid, y_valid = X[m // 2 :], y[m // 2 :, 0]\n",
    "\n",
    "preprocessing = make_pipeline(PolynomialFeatures(degree=90, include_bias=False),\n",
    "                              StandardScaler())\n",
    "X_train_prep = preprocessing.fit_transform(X_train)\n",
    "X_valid_prep = preprocessing.transform(X_valid)\n",
    "sgd_reg = SGDRegressor(penalty=None, eta0=0.002, random_state=42)\n",
    "n_epochs = 500\n",
    "best_valid_rmse = float('inf')\n",
    "train_errors, val_errors = [], []  # extra code – it's for the figure below\n",
    "\n",
    "for epoch in range(n_epochs):\n",
    "    sgd_reg.partial_fit(X_train_prep, y_train)\n",
    "    y_valid_predict = sgd_reg.predict(X_valid_prep)\n",
    "    val_error = mean_squared_error(y_valid, y_valid_predict, squared=False)\n",
    "    if val_error < best_valid_rmse:\n",
    "        best_valid_rmse = val_error\n",
    "        best_model = deepcopy(sgd_reg)\n",
    "\n",
    "    # extra code – we evaluate the train error and save it for the figure\n",
    "    y_train_predict = sgd_reg.predict(X_train_prep)\n",
    "    train_error = mean_squared_error(y_train, y_train_predict, squared=False)\n",
    "    val_errors.append(val_error)\n",
    "    train_errors.append(train_error)\n",
    "\n",
    "# extra code – this section generates and saves Figure 4–20\n",
    "best_epoch = np.argmin(val_errors)\n",
    "plt.figure(figsize=(6, 4))\n",
    "plt.annotate('Best model',\n",
    "             xy=(best_epoch, best_valid_rmse),\n",
    "             xytext=(best_epoch, best_valid_rmse + 0.5),\n",
    "             ha=\"center\",\n",
    "             arrowprops=dict(facecolor='black', shrink=0.05))\n",
    "plt.plot([0, n_epochs], [best_valid_rmse, best_valid_rmse], \"k:\", linewidth=2)\n",
    "plt.plot(val_errors, \"b-\", linewidth=3, label=\"Validation set\")\n",
    "plt.plot(best_epoch, best_valid_rmse, \"bo\")\n",
    "plt.plot(train_errors, \"r--\", linewidth=2, label=\"Training set\")\n",
    "plt.legend(loc=\"upper right\")\n",
    "plt.xlabel(\"Epoch\")\n",
    "plt.ylabel(\"RMSE\")\n",
    "plt.axis([0, n_epochs, 0, 3.5])\n",
    "plt.grid()\n",
    "save_fig(\"early_stopping_plot\")\n",
    "plt.show()"
   ]
  },
  {
   "cell_type": "markdown",
   "id": "3cb0fee6",
   "metadata": {
    "papermill": {
     "duration": 0.038592,
     "end_time": "2022-10-28T01:10:49.704645",
     "exception": false,
     "start_time": "2022-10-28T01:10:49.666053",
     "status": "completed"
    },
    "tags": []
   },
   "source": [
    "# Logistic Regression"
   ]
  },
  {
   "cell_type": "markdown",
   "id": "84594f3c",
   "metadata": {
    "papermill": {
     "duration": 0.036436,
     "end_time": "2022-10-28T01:10:49.777863",
     "exception": false,
     "start_time": "2022-10-28T01:10:49.741427",
     "status": "completed"
    },
    "tags": []
   },
   "source": [
    "## Estimating Probabilities"
   ]
  },
  {
   "cell_type": "code",
   "execution_count": 47,
   "id": "62c19bfa",
   "metadata": {
    "execution": {
     "iopub.execute_input": "2022-10-28T01:10:49.853515Z",
     "iopub.status.busy": "2022-10-28T01:10:49.853080Z",
     "iopub.status.idle": "2022-10-28T01:10:50.646322Z",
     "shell.execute_reply": "2022-10-28T01:10:50.645201Z"
    },
    "papermill": {
     "duration": 0.834354,
     "end_time": "2022-10-28T01:10:50.648883",
     "exception": false,
     "start_time": "2022-10-28T01:10:49.814529",
     "status": "completed"
    },
    "tags": []
   },
   "outputs": [
    {
     "data": {
      "image/png": "[encoded data removed]",
      "text/plain": [
       "<Figure size 576x216 with 1 Axes>"
      ]
     },
     "metadata": {
      "needs_background": "light"
     },
     "output_type": "display_data"
    }
   ],
   "source": [
    "# extra code – generates and saves Figure 4–21\n",
    "\n",
    "lim = 6\n",
    "t = np.linspace(-lim, lim, 100)\n",
    "sig = 1 / (1 + np.exp(-t))\n",
    "\n",
    "plt.figure(figsize=(8, 3))\n",
    "plt.plot([-lim, lim], [0, 0], \"k-\")\n",
    "plt.plot([-lim, lim], [0.5, 0.5], \"k:\")\n",
    "plt.plot([-lim, lim], [1, 1], \"k:\")\n",
    "plt.plot([0, 0], [-1.1, 1.1], \"k-\")\n",
    "plt.plot(t, sig, \"b-\", linewidth=2, label=r\"$\\sigma(t) = \\dfrac{1}{1 + e^{-t}}$\")\n",
    "plt.xlabel(\"t\")\n",
    "plt.legend(loc=\"upper left\")\n",
    "plt.axis([-lim, lim, -0.1, 1.1])\n",
    "plt.gca().set_yticks([0, 0.25, 0.5, 0.75, 1])\n",
    "plt.grid()\n",
    "save_fig(\"logistic_function_plot\")\n",
    "plt.show()"
   ]
  },
  {
   "cell_type": "markdown",
   "id": "c3a4fc94",
   "metadata": {
    "papermill": {
     "duration": 0.036958,
     "end_time": "2022-10-28T01:10:50.723520",
     "exception": false,
     "start_time": "2022-10-28T01:10:50.686562",
     "status": "completed"
    },
    "tags": []
   },
   "source": [
    "## Decision Boundaries"
   ]
  },
  {
   "cell_type": "code",
   "execution_count": 48,
   "id": "8304ee86",
   "metadata": {
    "execution": {
     "iopub.execute_input": "2022-10-28T01:10:50.867365Z",
     "iopub.status.busy": "2022-10-28T01:10:50.866675Z",
     "iopub.status.idle": "2022-10-28T01:10:50.961612Z",
     "shell.execute_reply": "2022-10-28T01:10:50.960465Z"
    },
    "papermill": {
     "duration": 0.203336,
     "end_time": "2022-10-28T01:10:50.963944",
     "exception": false,
     "start_time": "2022-10-28T01:10:50.760608",
     "status": "completed"
    },
    "tags": []
   },
   "outputs": [
    {
     "data": {
      "text/plain": [
       "['data',\n",
       " 'target',\n",
       " 'frame',\n",
       " 'target_names',\n",
       " 'DESCR',\n",
       " 'feature_names',\n",
       " 'filename',\n",
       " 'data_module']"
      ]
     },
     "execution_count": 48,
     "metadata": {},
     "output_type": "execute_result"
    }
   ],
   "source": [
    "from sklearn.datasets import load_iris\n",
    "\n",
    "iris = load_iris(as_frame=True)\n",
    "list(iris)"
   ]
  },
  {
   "cell_type": "code",
   "execution_count": 49,
   "id": "5f87d78a",
   "metadata": {
    "execution": {
     "iopub.execute_input": "2022-10-28T01:10:51.040734Z",
     "iopub.status.busy": "2022-10-28T01:10:51.039902Z",
     "iopub.status.idle": "2022-10-28T01:10:51.046788Z",
     "shell.execute_reply": "2022-10-28T01:10:51.045491Z"
    },
    "papermill": {
     "duration": 0.049524,
     "end_time": "2022-10-28T01:10:51.050505",
     "exception": false,
     "start_time": "2022-10-28T01:10:51.000981",
     "status": "completed"
    },
    "tags": []
   },
   "outputs": [
    {
     "name": "stdout",
     "output_type": "stream",
     "text": [
      ".. _iris_dataset:\n",
      "\n",
      "Iris plants dataset\n",
      "--------------------\n",
      "\n",
      "**Data Set Characteristics:**\n",
      "\n",
      "    :Number of Instances: 150 (50 in each of three classes)\n",
      "    :Number of Attributes: 4 numeric, predictive attributes and the class\n",
      "    :Attribute Information:\n",
      "        - sepal length in cm\n",
      "        - sepal width in cm\n",
      "        - petal length in cm\n",
      "        - petal width in cm\n",
      "        - class:\n",
      "                - Iris-Setosa\n",
      "                - Iris-Versicolour\n",
      "                - Iris-Virginica\n",
      "                \n",
      "    :Summary Statistics:\n",
      "\n",
      "    ============== ==== ==== ======= ===== ====================\n",
      "                    Min  Max   Mean    SD   Class Correlation\n",
      "    ============== ==== ==== ======= ===== ====================\n",
      "    sepal length:   4.3  7.9   5.84   0.83    0.7826\n",
      "    sepal width:    2.0  4.4   3.05   0.43   -0.4194\n",
      "    petal length:   1.0  6.9   3.76   1.76    0.9490  (high!)\n",
      "    petal width:    0.1  2.5   1.20   0.76    0.9565  (high!)\n",
      "    ============== ==== ==== ======= ===== ====================\n",
      "\n",
      "    :Missing Attribute Values: None\n",
      "    :Class Distribution: 33.3% for each of 3 classes.\n",
      "    :Creator: R.A. Fisher\n",
      "    :Donor: Michael Marshall (MARSHALL%PLU@io.arc.nasa.gov)\n",
      "    :Date: July, 1988\n",
      "\n",
      "The famous Iris database, first used by Sir R.A. Fisher. The dataset is taken\n",
      "from Fisher's paper. Note that it's the same as in R, but not as in the UCI\n",
      "Machine Learning Repository, which has two wrong data points.\n",
      "\n",
      "This is perhaps the best known database to be found in the\n",
      "pattern recognition literature.  Fisher's paper is a classic in the field and\n",
      "is referenced frequently to this day.  (See Duda & Hart, for example.)  The\n",
      "data set contains 3 classes of 50 instances each, where each class refers to a\n",
      "type of iris plant.  One class is linearly separable from the other 2; the\n",
      "latter are NOT linearly separable from each other.\n",
      "\n",
      ".. topic:: References\n",
      "\n",
      "   - Fisher, R.A. \"The use of multiple measurements in taxonomic problems\"\n",
      "     Annual Eugenics, 7, Part II, 179-188 (1936); also in \"Contributions to\n",
      "     Mathematical Statistics\" (John Wiley, NY, 1950).\n",
      "   - Duda, R.O., & Hart, P.E. (1973) Pattern Classification and Scene Analysis.\n",
      "     (Q327.D83) John Wiley & Sons.  ISBN 0-471-22361-1.  See page 218.\n",
      "   - Dasarathy, B.V. (1980) \"Nosing Around the Neighborhood: A New System\n",
      "     Structure and Classification Rule for Recognition in Partially Exposed\n",
      "     Environments\".  IEEE Transactions on Pattern Analysis and Machine\n",
      "     Intelligence, Vol. PAMI-2, No. 1, 67-71.\n",
      "   - Gates, G.W. (1972) \"The Reduced Nearest Neighbor Rule\".  IEEE Transactions\n",
      "     on Information Theory, May 1972, 431-433.\n",
      "   - See also: 1988 MLC Proceedings, 54-64.  Cheeseman et al\"s AUTOCLASS II\n",
      "     conceptual clustering system finds 3 classes in the data.\n",
      "   - Many, many more ...\n"
     ]
    }
   ],
   "source": [
    "print(iris.DESCR)  # extra code – it's a bit too long"
   ]
  },
  {
   "cell_type": "code",
   "execution_count": 50,
   "id": "c6896a32",
   "metadata": {
    "execution": {
     "iopub.execute_input": "2022-10-28T01:10:51.130511Z",
     "iopub.status.busy": "2022-10-28T01:10:51.129704Z",
     "iopub.status.idle": "2022-10-28T01:10:51.156194Z",
     "shell.execute_reply": "2022-10-28T01:10:51.155015Z"
    },
    "papermill": {
     "duration": 0.069784,
     "end_time": "2022-10-28T01:10:51.159344",
     "exception": false,
     "start_time": "2022-10-28T01:10:51.089560",
     "status": "completed"
    },
    "tags": []
   },
   "outputs": [
    {
     "data": {
      "text/html": [
       "<div>\n",
       "<style scoped>\n",
       "    .dataframe tbody tr th:only-of-type {\n",
       "        vertical-align: middle;\n",
       "    }\n",
       "\n",
       "    .dataframe tbody tr th {\n",
       "        vertical-align: top;\n",
       "    }\n",
       "\n",
       "    .dataframe thead th {\n",
       "        text-align: right;\n",
       "    }\n",
       "</style>\n",
       "<table border=\"1\" class=\"dataframe\">\n",
       "  <thead>\n",
       "    <tr style=\"text-align: right;\">\n",
       "      <th></th>\n",
       "      <th>sepal length (cm)</th>\n",
       "      <th>sepal width (cm)</th>\n",
       "      <th>petal length (cm)</th>\n",
       "      <th>petal width (cm)</th>\n",
       "    </tr>\n",
       "  </thead>\n",
       "  <tbody>\n",
       "    <tr>\n",
       "      <th>0</th>\n",
       "      <td>5.1</td>\n",
       "      <td>3.5</td>\n",
       "      <td>1.4</td>\n",
       "      <td>0.2</td>\n",
       "    </tr>\n",
       "    <tr>\n",
       "      <th>1</th>\n",
       "      <td>4.9</td>\n",
       "      <td>3.0</td>\n",
       "      <td>1.4</td>\n",
       "      <td>0.2</td>\n",
       "    </tr>\n",
       "    <tr>\n",
       "      <th>2</th>\n",
       "      <td>4.7</td>\n",
       "      <td>3.2</td>\n",
       "      <td>1.3</td>\n",
       "      <td>0.2</td>\n",
       "    </tr>\n",
       "  </tbody>\n",
       "</table>\n",
       "</div>"
      ],
      "text/plain": [
       "   sepal length (cm)  sepal width (cm)  petal length (cm)  petal width (cm)\n",
       "0                5.1               3.5                1.4               0.2\n",
       "1                4.9               3.0                1.4               0.2\n",
       "2                4.7               3.2                1.3               0.2"
      ]
     },
     "execution_count": 50,
     "metadata": {},
     "output_type": "execute_result"
    }
   ],
   "source": [
    "iris.data.head(3)"
   ]
  },
  {
   "cell_type": "code",
   "execution_count": 51,
   "id": "fe79a9fa",
   "metadata": {
    "execution": {
     "iopub.execute_input": "2022-10-28T01:10:51.260223Z",
     "iopub.status.busy": "2022-10-28T01:10:51.259490Z",
     "iopub.status.idle": "2022-10-28T01:10:51.266133Z",
     "shell.execute_reply": "2022-10-28T01:10:51.265407Z"
    },
    "papermill": {
     "duration": 0.055783,
     "end_time": "2022-10-28T01:10:51.268103",
     "exception": false,
     "start_time": "2022-10-28T01:10:51.212320",
     "status": "completed"
    },
    "tags": []
   },
   "outputs": [
    {
     "data": {
      "text/plain": [
       "0    0\n",
       "1    0\n",
       "2    0\n",
       "Name: target, dtype: int64"
      ]
     },
     "execution_count": 51,
     "metadata": {},
     "output_type": "execute_result"
    }
   ],
   "source": [
    "iris.target.head(3)  # note that the instances are not shuffled"
   ]
  },
  {
   "cell_type": "code",
   "execution_count": 52,
   "id": "8e13a264",
   "metadata": {
    "execution": {
     "iopub.execute_input": "2022-10-28T01:10:51.345569Z",
     "iopub.status.busy": "2022-10-28T01:10:51.344830Z",
     "iopub.status.idle": "2022-10-28T01:10:51.350686Z",
     "shell.execute_reply": "2022-10-28T01:10:51.349741Z"
    },
    "papermill": {
     "duration": 0.046784,
     "end_time": "2022-10-28T01:10:51.352680",
     "exception": false,
     "start_time": "2022-10-28T01:10:51.305896",
     "status": "completed"
    },
    "tags": []
   },
   "outputs": [
    {
     "data": {
      "text/plain": [
       "array(['setosa', 'versicolor', 'virginica'], dtype='<U10')"
      ]
     },
     "execution_count": 52,
     "metadata": {},
     "output_type": "execute_result"
    }
   ],
   "source": [
    "iris.target_names"
   ]
  },
  {
   "cell_type": "code",
   "execution_count": 53,
   "id": "fe3337bc",
   "metadata": {
    "execution": {
     "iopub.execute_input": "2022-10-28T01:10:51.432803Z",
     "iopub.status.busy": "2022-10-28T01:10:51.432062Z",
     "iopub.status.idle": "2022-10-28T01:10:51.446093Z",
     "shell.execute_reply": "2022-10-28T01:10:51.445333Z"
    },
    "papermill": {
     "duration": 0.058392,
     "end_time": "2022-10-28T01:10:51.448430",
     "exception": false,
     "start_time": "2022-10-28T01:10:51.390038",
     "status": "completed"
    },
    "tags": []
   },
   "outputs": [
    {
     "data": {
      "text/plain": [
       "LogisticRegression(random_state=42)"
      ]
     },
     "execution_count": 53,
     "metadata": {},
     "output_type": "execute_result"
    }
   ],
   "source": [
    "from sklearn.linear_model import LogisticRegression\n",
    "from sklearn.model_selection import train_test_split\n",
    "\n",
    "X = iris.data[[\"petal width (cm)\"]].values\n",
    "y = iris.target_names[iris.target] == 'virginica'\n",
    "X_train, X_test, y_train, y_test = train_test_split(X, y, random_state=42)\n",
    "\n",
    "log_reg = LogisticRegression(random_state=42)\n",
    "log_reg.fit(X_train, y_train)"
   ]
  },
  {
   "cell_type": "code",
   "execution_count": 54,
   "id": "452529a3",
   "metadata": {
    "execution": {
     "iopub.execute_input": "2022-10-28T01:10:51.527573Z",
     "iopub.status.busy": "2022-10-28T01:10:51.526818Z",
     "iopub.status.idle": "2022-10-28T01:10:52.177249Z",
     "shell.execute_reply": "2022-10-28T01:10:52.176336Z"
    },
    "papermill": {
     "duration": 0.692898,
     "end_time": "2022-10-28T01:10:52.179820",
     "exception": false,
     "start_time": "2022-10-28T01:10:51.486922",
     "status": "completed"
    },
    "tags": []
   },
   "outputs": [
    {
     "data": {
      "image/png": "[encoded data removed]",
      "text/plain": [
       "<Figure size 576x216 with 1 Axes>"
      ]
     },
     "metadata": {
      "needs_background": "light"
     },
     "output_type": "display_data"
    }
   ],
   "source": [
    "X_new = np.linspace(0, 3, 1000).reshape(-1, 1)  # reshape to get a column vector\n",
    "y_proba = log_reg.predict_proba(X_new)\n",
    "decision_boundary = X_new[y_proba[:, 1] >= 0.5][0, 0]\n",
    "\n",
    "plt.figure(figsize=(8, 3))  # extra code – not needed, just formatting\n",
    "plt.plot(X_new, y_proba[:, 0], \"b--\", linewidth=2,\n",
    "         label=\"Not Iris virginica proba\")\n",
    "plt.plot(X_new, y_proba[:, 1], \"g-\", linewidth=2, label=\"Iris virginica proba\")\n",
    "plt.plot([decision_boundary, decision_boundary], [0, 1], \"k:\", linewidth=2,\n",
    "         label=\"Decision boundary\")\n",
    "\n",
    "# extra code – this section beautifies and saves Figure 4–23\n",
    "plt.arrow(x=decision_boundary, y=0.08, dx=-0.3, dy=0,\n",
    "          head_width=0.05, head_length=0.1, fc=\"b\", ec=\"b\")\n",
    "plt.arrow(x=decision_boundary, y=0.92, dx=0.3, dy=0,\n",
    "          head_width=0.05, head_length=0.1, fc=\"g\", ec=\"g\")\n",
    "plt.plot(X_train[y_train == 0], y_train[y_train == 0], \"bs\")\n",
    "plt.plot(X_train[y_train == 1], y_train[y_train == 1], \"g^\")\n",
    "plt.xlabel(\"Petal width (cm)\")\n",
    "plt.ylabel(\"Probability\")\n",
    "plt.legend(loc=\"center left\")\n",
    "plt.axis([0, 3, -0.02, 1.02])\n",
    "plt.grid()\n",
    "save_fig(\"logistic_regression_plot\")\n",
    "\n",
    "plt.show()"
   ]
  },
  {
   "cell_type": "code",
   "execution_count": 55,
   "id": "0e6272d3",
   "metadata": {
    "execution": {
     "iopub.execute_input": "2022-10-28T01:10:52.261134Z",
     "iopub.status.busy": "2022-10-28T01:10:52.260357Z",
     "iopub.status.idle": "2022-10-28T01:10:52.266480Z",
     "shell.execute_reply": "2022-10-28T01:10:52.265413Z"
    },
    "papermill": {
     "duration": 0.049137,
     "end_time": "2022-10-28T01:10:52.268599",
     "exception": false,
     "start_time": "2022-10-28T01:10:52.219462",
     "status": "completed"
    },
    "tags": []
   },
   "outputs": [
    {
     "data": {
      "text/plain": [
       "1.6516516516516517"
      ]
     },
     "execution_count": 55,
     "metadata": {},
     "output_type": "execute_result"
    }
   ],
   "source": [
    "decision_boundary"
   ]
  },
  {
   "cell_type": "code",
   "execution_count": 56,
   "id": "9f789971",
   "metadata": {
    "execution": {
     "iopub.execute_input": "2022-10-28T01:10:52.348866Z",
     "iopub.status.busy": "2022-10-28T01:10:52.347868Z",
     "iopub.status.idle": "2022-10-28T01:10:52.355029Z",
     "shell.execute_reply": "2022-10-28T01:10:52.354283Z"
    },
    "papermill": {
     "duration": 0.049376,
     "end_time": "2022-10-28T01:10:52.357035",
     "exception": false,
     "start_time": "2022-10-28T01:10:52.307659",
     "status": "completed"
    },
    "tags": []
   },
   "outputs": [
    {
     "data": {
      "text/plain": [
       "array([ True, False])"
      ]
     },
     "execution_count": 56,
     "metadata": {},
     "output_type": "execute_result"
    }
   ],
   "source": [
    "log_reg.predict([[1.7], [1.5]])"
   ]
  },
  {
   "cell_type": "code",
   "execution_count": 57,
   "id": "a593171a",
   "metadata": {
    "execution": {
     "iopub.execute_input": "2022-10-28T01:10:52.438217Z",
     "iopub.status.busy": "2022-10-28T01:10:52.437803Z",
     "iopub.status.idle": "2022-10-28T01:10:53.378777Z",
     "shell.execute_reply": "2022-10-28T01:10:53.377609Z"
    },
    "papermill": {
     "duration": 0.985208,
     "end_time": "2022-10-28T01:10:53.381431",
     "exception": false,
     "start_time": "2022-10-28T01:10:52.396223",
     "status": "completed"
    },
    "tags": []
   },
   "outputs": [
    {
     "data": {
      "image/png": "[encoded data removed]",
      "text/plain": [
       "<Figure size 720x288 with 1 Axes>"
      ]
     },
     "metadata": {
      "needs_background": "light"
     },
     "output_type": "display_data"
    }
   ],
   "source": [
    "# extra code – this cell generates and saves Figure 4–24\n",
    "\n",
    "X = iris.data[[\"petal length (cm)\", \"petal width (cm)\"]].values\n",
    "y = iris.target_names[iris.target] == 'virginica'\n",
    "X_train, X_test, y_train, y_test = train_test_split(X, y, random_state=42)\n",
    "\n",
    "log_reg = LogisticRegression(C=2, random_state=42)\n",
    "log_reg.fit(X_train, y_train)\n",
    "\n",
    "# for the contour plot\n",
    "x0, x1 = np.meshgrid(np.linspace(2.9, 7, 500).reshape(-1, 1),\n",
    "                     np.linspace(0.8, 2.7, 200).reshape(-1, 1))\n",
    "X_new = np.c_[x0.ravel(), x1.ravel()]  # one instance per point on the figure\n",
    "y_proba = log_reg.predict_proba(X_new)\n",
    "zz = y_proba[:, 1].reshape(x0.shape)\n",
    "\n",
    "# for the decision boundary\n",
    "left_right = np.array([2.9, 7])\n",
    "boundary = -((log_reg.coef_[0, 0] * left_right + log_reg.intercept_[0])\n",
    "             / log_reg.coef_[0, 1])\n",
    "\n",
    "plt.figure(figsize=(10, 4))\n",
    "plt.plot(X_train[y_train == 0, 0], X_train[y_train == 0, 1], \"bs\")\n",
    "plt.plot(X_train[y_train == 1, 0], X_train[y_train == 1, 1], \"g^\")\n",
    "contour = plt.contour(x0, x1, zz, cmap=plt.cm.brg)\n",
    "plt.clabel(contour, inline=1)\n",
    "plt.plot(left_right, boundary, \"k--\", linewidth=3)\n",
    "plt.text(3.5, 1.27, \"Not Iris virginica\", color=\"b\", ha=\"center\")\n",
    "plt.text(6.5, 2.3, \"Iris virginica\", color=\"g\", ha=\"center\")\n",
    "plt.xlabel(\"Petal length\")\n",
    "plt.ylabel(\"Petal width\")\n",
    "plt.axis([2.9, 7, 0.8, 2.7])\n",
    "plt.grid()\n",
    "save_fig(\"logistic_regression_contour_plot\")\n",
    "plt.show()"
   ]
  },
  {
   "cell_type": "markdown",
   "id": "7522baa7",
   "metadata": {
    "papermill": {
     "duration": 0.039468,
     "end_time": "2022-10-28T01:10:53.461503",
     "exception": false,
     "start_time": "2022-10-28T01:10:53.422035",
     "status": "completed"
    },
    "tags": []
   },
   "source": [
    "## Softmax Regression"
   ]
  },
  {
   "cell_type": "code",
   "execution_count": 58,
   "id": "884cda72",
   "metadata": {
    "execution": {
     "iopub.execute_input": "2022-10-28T01:10:53.543913Z",
     "iopub.status.busy": "2022-10-28T01:10:53.543468Z",
     "iopub.status.idle": "2022-10-28T01:10:53.566829Z",
     "shell.execute_reply": "2022-10-28T01:10:53.565658Z"
    },
    "papermill": {
     "duration": 0.067205,
     "end_time": "2022-10-28T01:10:53.569105",
     "exception": false,
     "start_time": "2022-10-28T01:10:53.501900",
     "status": "completed"
    },
    "tags": []
   },
   "outputs": [
    {
     "data": {
      "text/plain": [
       "LogisticRegression(C=30, random_state=42)"
      ]
     },
     "execution_count": 58,
     "metadata": {},
     "output_type": "execute_result"
    }
   ],
   "source": [
    "X = iris.data[[\"petal length (cm)\", \"petal width (cm)\"]].values\n",
    "y = iris[\"target\"]\n",
    "X_train, X_test, y_train, y_test = train_test_split(X, y, random_state=42)\n",
    "\n",
    "softmax_reg = LogisticRegression(C=30, random_state=42)\n",
    "softmax_reg.fit(X_train, y_train)"
   ]
  },
  {
   "cell_type": "code",
   "execution_count": 59,
   "id": "0884680b",
   "metadata": {
    "execution": {
     "iopub.execute_input": "2022-10-28T01:10:53.650798Z",
     "iopub.status.busy": "2022-10-28T01:10:53.650143Z",
     "iopub.status.idle": "2022-10-28T01:10:53.657324Z",
     "shell.execute_reply": "2022-10-28T01:10:53.656355Z"
    },
    "papermill": {
     "duration": 0.050206,
     "end_time": "2022-10-28T01:10:53.659518",
     "exception": false,
     "start_time": "2022-10-28T01:10:53.609312",
     "status": "completed"
    },
    "tags": []
   },
   "outputs": [
    {
     "data": {
      "text/plain": [
       "array([2])"
      ]
     },
     "execution_count": 59,
     "metadata": {},
     "output_type": "execute_result"
    }
   ],
   "source": [
    "softmax_reg.predict([[5, 2]])"
   ]
  },
  {
   "cell_type": "code",
   "execution_count": 60,
   "id": "6549ef08",
   "metadata": {
    "execution": {
     "iopub.execute_input": "2022-10-28T01:10:53.741173Z",
     "iopub.status.busy": "2022-10-28T01:10:53.740521Z",
     "iopub.status.idle": "2022-10-28T01:10:53.748094Z",
     "shell.execute_reply": "2022-10-28T01:10:53.747146Z"
    },
    "papermill": {
     "duration": 0.051108,
     "end_time": "2022-10-28T01:10:53.750305",
     "exception": false,
     "start_time": "2022-10-28T01:10:53.699197",
     "status": "completed"
    },
    "tags": []
   },
   "outputs": [
    {
     "data": {
      "text/plain": [
       "array([[0.  , 0.04, 0.96]])"
      ]
     },
     "execution_count": 60,
     "metadata": {},
     "output_type": "execute_result"
    }
   ],
   "source": [
    "softmax_reg.predict_proba([[5, 2]]).round(2)"
   ]
  },
  {
   "cell_type": "code",
   "execution_count": 61,
   "id": "deb1edd1",
   "metadata": {
    "execution": {
     "iopub.execute_input": "2022-10-28T01:10:53.831426Z",
     "iopub.status.busy": "2022-10-28T01:10:53.830962Z",
     "iopub.status.idle": "2022-10-28T01:10:54.880313Z",
     "shell.execute_reply": "2022-10-28T01:10:54.878895Z"
    },
    "papermill": {
     "duration": 1.093158,
     "end_time": "2022-10-28T01:10:54.883011",
     "exception": false,
     "start_time": "2022-10-28T01:10:53.789853",
     "status": "completed"
    },
    "tags": []
   },
   "outputs": [
    {
     "data": {
      "image/png": "[encoded data removed]",
      "text/plain": [
       "<Figure size 720x288 with 1 Axes>"
      ]
     },
     "metadata": {
      "needs_background": "light"
     },
     "output_type": "display_data"
    }
   ],
   "source": [
    "# extra code – this cell generates and saves Figure 4–25\n",
    "\n",
    "from matplotlib.colors import ListedColormap\n",
    "\n",
    "custom_cmap = ListedColormap([\"#fafab0\", \"#9898ff\", \"#a0faa0\"])\n",
    "\n",
    "x0, x1 = np.meshgrid(np.linspace(0, 8, 500).reshape(-1, 1),\n",
    "                     np.linspace(0, 3.5, 200).reshape(-1, 1))\n",
    "X_new = np.c_[x0.ravel(), x1.ravel()]\n",
    "\n",
    "y_proba = softmax_reg.predict_proba(X_new)\n",
    "y_predict = softmax_reg.predict(X_new)\n",
    "\n",
    "zz1 = y_proba[:, 1].reshape(x0.shape)\n",
    "zz = y_predict.reshape(x0.shape)\n",
    "\n",
    "plt.figure(figsize=(10, 4))\n",
    "plt.plot(X[y == 2, 0], X[y == 2, 1], \"g^\", label=\"Iris virginica\")\n",
    "plt.plot(X[y == 1, 0], X[y == 1, 1], \"bs\", label=\"Iris versicolor\")\n",
    "plt.plot(X[y == 0, 0], X[y == 0, 1], \"yo\", label=\"Iris setosa\")\n",
    "\n",
    "plt.contourf(x0, x1, zz, cmap=custom_cmap)\n",
    "contour = plt.contour(x0, x1, zz1, cmap=\"hot\")\n",
    "plt.clabel(contour, inline=1)\n",
    "plt.xlabel(\"Petal length\")\n",
    "plt.ylabel(\"Petal width\")\n",
    "plt.legend(loc=\"center left\")\n",
    "plt.axis([0.5, 7, 0, 3.5])\n",
    "plt.grid()\n",
    "save_fig(\"softmax_regression_contour_plot\")\n",
    "plt.show()"
   ]
  },
  {
   "cell_type": "markdown",
   "id": "94d32c0e",
   "metadata": {
    "papermill": {
     "duration": 0.041577,
     "end_time": "2022-10-28T01:10:54.969554",
     "exception": false,
     "start_time": "2022-10-28T01:10:54.927977",
     "status": "completed"
    },
    "tags": []
   },
   "source": [
    "# Exercise solutions"
   ]
  },
  {
   "cell_type": "markdown",
   "id": "ac00e59a",
   "metadata": {
    "papermill": {
     "duration": 0.04142,
     "end_time": "2022-10-28T01:10:55.052568",
     "exception": false,
     "start_time": "2022-10-28T01:10:55.011148",
     "status": "completed"
    },
    "tags": []
   },
   "source": [
    "## 1. to 11."
   ]
  },
  {
   "cell_type": "markdown",
   "id": "ff656b07",
   "metadata": {
    "papermill": {
     "duration": 0.04074,
     "end_time": "2022-10-28T01:10:55.134365",
     "exception": false,
     "start_time": "2022-10-28T01:10:55.093625",
     "status": "completed"
    },
    "tags": []
   },
   "source": [
    "1. If you have a training set with millions of features you can use Stochastic Gradient Descent or Mini-batch Gradient Descent, and perhaps Batch Gradient Descent if the training set fits in memory. But you cannot use the Normal Equation or the SVD approach because the computational complexity grows quickly (more than quadratically) with the number of features.\n",
    "2. If the features in your training set have very different scales, the cost function will have the shape of an elongated bowl, so the Gradient Descent algorithms will take a long time to converge. To solve this you should scale the data before training the model. Note that the Normal Equation or SVD approach will work just fine without scaling. Moreover, regularized models may converge to a suboptimal solution if the features are not scaled: since regularization penalizes large weights, features with smaller values will tend to be ignored compared to features with larger values.\n",
    "3. Gradient Descent cannot get stuck in a local minimum when training a Logistic Regression model because the cost function is convex. _Convex_ means that if you draw a straight line between any two points on the curve, the line never crosses the curve.\n",
    "4. If the optimization problem is convex (such as Linear Regression or Logistic Regression), and assuming the learning rate is not too high, then all Gradient Descent algorithms will approach the global optimum and end up producing fairly similar models. However, unless you gradually reduce the learning rate, Stochastic GD and Mini-batch GD will never truly converge; instead, they will keep jumping back and forth around the global optimum. This means that even if you let them run for a very long time, these Gradient Descent algorithms will produce slightly different models.\n",
    "5. If the validation error consistently goes up after every epoch, then one possibility is that the learning rate is too high and the algorithm is diverging. If the training error also goes up, then this is clearly the problem and you should reduce the learning rate. However, if the training error is not going up, then your model is overfitting the training set and you should stop training.\n",
    "6. Due to their random nature, neither Stochastic Gradient Descent nor Mini-batch Gradient Descent is guaranteed to make progress at every single training iteration. So if you immediately stop training when the validation error goes up, you may stop much too early, before the optimum is reached. A better option is to save the model at regular intervals; then, when it has not improved for a long time (meaning it will probably never beat the record), you can revert to the best saved model.\n",
    "7. Stochastic Gradient Descent has the fastest training iteration since it considers only one training instance at a time, so it is generally the first to reach the vicinity of the global optimum (or Mini-batch GD with a very small mini-batch size). However, only Batch Gradient Descent will actually converge, given enough training time. As mentioned, Stochastic GD and Mini-batch GD will bounce around the optimum, unless you gradually reduce the learning rate.\n",
    "8. If the validation error is much higher than the training error, this is likely because your model is overfitting the training set. One way to try to fix this is to reduce the polynomial degree: a model with fewer degrees of freedom is less likely to overfit. Another thing you can try is to regularize the model—for example, by adding an ℓ₂ penalty (Ridge) or an ℓ₁ penalty (Lasso) to the cost function. This will also reduce the degrees of freedom of the model. Lastly, you can try to increase the size of the training set.\n",
    "9. If both the training error and the validation error are almost equal and fairly high, the model is likely underfitting the training set, which means it has a high bias. You should try reducing the regularization hyperparameter _α_.\n",
    "10. Let's see:\n",
    "  * A model with some regularization typically performs better than a model without any regularization, so you should generally prefer Ridge Regression over plain Linear Regression.\n",
    "  * Lasso Regression uses an ℓ₁ penalty, which tends to push the weights down to exactly zero. This leads to sparse models, where all weights are zero except for the most important weights. This is a way to perform feature selection automatically, which is good if you suspect that only a few features actually matter. When you are not sure, you should prefer Ridge Regression.\n",
    "  * Elastic Net is generally preferred over Lasso since Lasso may behave erratically in some cases (when several features are strongly correlated or when there are more features than training instances). However, it does add an extra hyperparameter to tune. If you want Lasso without the erratic behavior, you can just use Elastic Net with an `l1_ratio` close to 1.\n",
    "11. If you want to classify pictures as outdoor/indoor and daytime/nighttime, since these are not exclusive classes (i.e., all four combinations are possible) you should train two Logistic Regression classifiers."
   ]
  },
  {
   "cell_type": "markdown",
   "id": "8ff8fc19",
   "metadata": {
    "papermill": {
     "duration": 0.041363,
     "end_time": "2022-10-28T01:10:55.216969",
     "exception": false,
     "start_time": "2022-10-28T01:10:55.175606",
     "status": "completed"
    },
    "tags": []
   },
   "source": [
    "## 12. Batch Gradient Descent with early stopping for Softmax Regression\n",
    "Exercise: _Implement Batch Gradient Descent with early stopping for Softmax Regression without using Scikit-Learn, only NumPy. Use it on a classification task such as the iris dataset._"
   ]
  },
  {
   "cell_type": "markdown",
   "id": "d68948f4",
   "metadata": {
    "papermill": {
     "duration": 0.040584,
     "end_time": "2022-10-28T01:10:55.299049",
     "exception": false,
     "start_time": "2022-10-28T01:10:55.258465",
     "status": "completed"
    },
    "tags": []
   },
   "source": [
    "Let's start by loading the data. We will just reuse the Iris dataset we loaded earlier."
   ]
  },
  {
   "cell_type": "code",
   "execution_count": 62,
   "id": "a468f67a",
   "metadata": {
    "execution": {
     "iopub.execute_input": "2022-10-28T01:10:55.383473Z",
     "iopub.status.busy": "2022-10-28T01:10:55.382650Z",
     "iopub.status.idle": "2022-10-28T01:10:55.388978Z",
     "shell.execute_reply": "2022-10-28T01:10:55.388208Z"
    },
    "papermill": {
     "duration": 0.051104,
     "end_time": "2022-10-28T01:10:55.391157",
     "exception": false,
     "start_time": "2022-10-28T01:10:55.340053",
     "status": "completed"
    },
    "tags": []
   },
   "outputs": [],
   "source": [
    "X = iris.data[[\"petal length (cm)\", \"petal width (cm)\"]].values\n",
    "y = iris[\"target\"].values"
   ]
  },
  {
   "cell_type": "markdown",
   "id": "98b8b569",
   "metadata": {
    "papermill": {
     "duration": 0.040704,
     "end_time": "2022-10-28T01:10:55.472703",
     "exception": false,
     "start_time": "2022-10-28T01:10:55.431999",
     "status": "completed"
    },
    "tags": []
   },
   "source": [
    "We need to add the bias term for every instance ($x_0 = 1$). The easiest option to do this would be to use Scikit-Learn's `add_dummy_feature()` function, but the point of this exercise is to get a better understanding of the algorithms by implementing them manually. So here is one possible implementation:"
   ]
  },
  {
   "cell_type": "code",
   "execution_count": 63,
   "id": "7fc38028",
   "metadata": {
    "execution": {
     "iopub.execute_input": "2022-10-28T01:10:55.557553Z",
     "iopub.status.busy": "2022-10-28T01:10:55.557120Z",
     "iopub.status.idle": "2022-10-28T01:10:55.562506Z",
     "shell.execute_reply": "2022-10-28T01:10:55.561620Z"
    },
    "papermill": {
     "duration": 0.050319,
     "end_time": "2022-10-28T01:10:55.564805",
     "exception": false,
     "start_time": "2022-10-28T01:10:55.514486",
     "status": "completed"
    },
    "tags": []
   },
   "outputs": [],
   "source": [
    "X_with_bias = np.c_[np.ones(len(X)), X]"
   ]
  },
  {
   "cell_type": "markdown",
   "id": "5de117ad",
   "metadata": {
    "papermill": {
     "duration": 0.040431,
     "end_time": "2022-10-28T01:10:55.646174",
     "exception": false,
     "start_time": "2022-10-28T01:10:55.605743",
     "status": "completed"
    },
    "tags": []
   },
   "source": [
    "The easiest option to split the dataset into a training set, a validation set and a test set would be to use Scikit-Learn's `train_test_split()` function, but again, we want to do it manually:"
   ]
  },
  {
   "cell_type": "code",
   "execution_count": 64,
   "id": "89d660ea",
   "metadata": {
    "execution": {
     "iopub.execute_input": "2022-10-28T01:10:55.730190Z",
     "iopub.status.busy": "2022-10-28T01:10:55.729450Z",
     "iopub.status.idle": "2022-10-28T01:10:55.737723Z",
     "shell.execute_reply": "2022-10-28T01:10:55.736610Z"
    },
    "papermill": {
     "duration": 0.05309,
     "end_time": "2022-10-28T01:10:55.740139",
     "exception": false,
     "start_time": "2022-10-28T01:10:55.687049",
     "status": "completed"
    },
    "tags": []
   },
   "outputs": [],
   "source": [
    "test_ratio = 0.2\n",
    "validation_ratio = 0.2\n",
    "total_size = len(X_with_bias)\n",
    "\n",
    "test_size = int(total_size * test_ratio)\n",
    "validation_size = int(total_size * validation_ratio)\n",
    "train_size = total_size - test_size - validation_size\n",
    "\n",
    "np.random.seed(42)\n",
    "rnd_indices = np.random.permutation(total_size)\n",
    "\n",
    "X_train = X_with_bias[rnd_indices[:train_size]]\n",
    "y_train = y[rnd_indices[:train_size]]\n",
    "X_valid = X_with_bias[rnd_indices[train_size:-test_size]]\n",
    "y_valid = y[rnd_indices[train_size:-test_size]]\n",
    "X_test = X_with_bias[rnd_indices[-test_size:]]\n",
    "y_test = y[rnd_indices[-test_size:]]"
   ]
  },
  {
   "cell_type": "markdown",
   "id": "c8979a8e",
   "metadata": {
    "papermill": {
     "duration": 0.041116,
     "end_time": "2022-10-28T01:10:55.822524",
     "exception": false,
     "start_time": "2022-10-28T01:10:55.781408",
     "status": "completed"
    },
    "tags": []
   },
   "source": [
    "The targets are currently class indices (0, 1 or 2), but we need target class probabilities to train the Softmax Regression model. Each instance will have target class probabilities equal to 0.0 for all classes except for the target class which will have a probability of 1.0 (in other words, the vector of class probabilities for any given instance is a one-hot vector). Let's write a small function to convert the vector of class indices into a matrix containing a one-hot vector for each instance. To understand this code, you need to know that `np.diag(np.ones(n))` creates an n×n matrix full of 0s except for 1s on the main diagonal. Moreover, if `a` is a NumPy array, then `a[[1, 3, 2]]` returns an array with 3 rows equal to `a[1]`, `a[3]` and `a[2]` (this is [advanced NumPy indexing](https://numpy.org/doc/stable/user/basics.indexing.html#advanced-indexing))."
   ]
  },
  {
   "cell_type": "code",
   "execution_count": 65,
   "id": "e30da0f0",
   "metadata": {
    "execution": {
     "iopub.execute_input": "2022-10-28T01:10:55.906958Z",
     "iopub.status.busy": "2022-10-28T01:10:55.906577Z",
     "iopub.status.idle": "2022-10-28T01:10:55.911433Z",
     "shell.execute_reply": "2022-10-28T01:10:55.910345Z"
    },
    "papermill": {
     "duration": 0.050026,
     "end_time": "2022-10-28T01:10:55.913860",
     "exception": false,
     "start_time": "2022-10-28T01:10:55.863834",
     "status": "completed"
    },
    "tags": []
   },
   "outputs": [],
   "source": [
    "def to_one_hot(y):\n",
    "    return np.diag(np.ones(y.max() + 1))[y]"
   ]
  },
  {
   "cell_type": "markdown",
   "id": "ed8006fd",
   "metadata": {
    "papermill": {
     "duration": 0.040613,
     "end_time": "2022-10-28T01:10:55.995664",
     "exception": false,
     "start_time": "2022-10-28T01:10:55.955051",
     "status": "completed"
    },
    "tags": []
   },
   "source": [
    "Let's test this function on the first 10 instances:"
   ]
  },
  {
   "cell_type": "code",
   "execution_count": 66,
   "id": "c53afa2a",
   "metadata": {
    "execution": {
     "iopub.execute_input": "2022-10-28T01:10:56.080220Z",
     "iopub.status.busy": "2022-10-28T01:10:56.079450Z",
     "iopub.status.idle": "2022-10-28T01:10:56.086585Z",
     "shell.execute_reply": "2022-10-28T01:10:56.085718Z"
    },
    "papermill": {
     "duration": 0.051851,
     "end_time": "2022-10-28T01:10:56.088803",
     "exception": false,
     "start_time": "2022-10-28T01:10:56.036952",
     "status": "completed"
    },
    "tags": []
   },
   "outputs": [
    {
     "data": {
      "text/plain": [
       "array([1, 0, 2, 1, 1, 0, 1, 2, 1, 1])"
      ]
     },
     "execution_count": 66,
     "metadata": {},
     "output_type": "execute_result"
    }
   ],
   "source": [
    "y_train[:10]"
   ]
  },
  {
   "cell_type": "code",
   "execution_count": 67,
   "id": "e61ea3bd",
   "metadata": {
    "execution": {
     "iopub.execute_input": "2022-10-28T01:10:56.175185Z",
     "iopub.status.busy": "2022-10-28T01:10:56.174354Z",
     "iopub.status.idle": "2022-10-28T01:10:56.182813Z",
     "shell.execute_reply": "2022-10-28T01:10:56.181627Z"
    },
    "papermill": {
     "duration": 0.055195,
     "end_time": "2022-10-28T01:10:56.185138",
     "exception": false,
     "start_time": "2022-10-28T01:10:56.129943",
     "status": "completed"
    },
    "tags": []
   },
   "outputs": [
    {
     "data": {
      "text/plain": [
       "array([[0., 1., 0.],\n",
       "       [1., 0., 0.],\n",
       "       [0., 0., 1.],\n",
       "       [0., 1., 0.],\n",
       "       [0., 1., 0.],\n",
       "       [1., 0., 0.],\n",
       "       [0., 1., 0.],\n",
       "       [0., 0., 1.],\n",
       "       [0., 1., 0.],\n",
       "       [0., 1., 0.]])"
      ]
     },
     "execution_count": 67,
     "metadata": {},
     "output_type": "execute_result"
    }
   ],
   "source": [
    "to_one_hot(y_train[:10])"
   ]
  },
  {
   "cell_type": "markdown",
   "id": "12467fd0",
   "metadata": {
    "papermill": {
     "duration": 0.041246,
     "end_time": "2022-10-28T01:10:56.268591",
     "exception": false,
     "start_time": "2022-10-28T01:10:56.227345",
     "status": "completed"
    },
    "tags": []
   },
   "source": [
    "Looks good, so let's create the target class probabilities matrix for the training set and the test set:"
   ]
  },
  {
   "cell_type": "code",
   "execution_count": 68,
   "id": "c5c56199",
   "metadata": {
    "execution": {
     "iopub.execute_input": "2022-10-28T01:10:56.353386Z",
     "iopub.status.busy": "2022-10-28T01:10:56.352955Z",
     "iopub.status.idle": "2022-10-28T01:10:56.357979Z",
     "shell.execute_reply": "2022-10-28T01:10:56.356793Z"
    },
    "papermill": {
     "duration": 0.050309,
     "end_time": "2022-10-28T01:10:56.360373",
     "exception": false,
     "start_time": "2022-10-28T01:10:56.310064",
     "status": "completed"
    },
    "tags": []
   },
   "outputs": [],
   "source": [
    "Y_train_one_hot = to_one_hot(y_train)\n",
    "Y_valid_one_hot = to_one_hot(y_valid)\n",
    "Y_test_one_hot = to_one_hot(y_test)"
   ]
  },
  {
   "cell_type": "markdown",
   "id": "8724dc94",
   "metadata": {
    "papermill": {
     "duration": 0.041347,
     "end_time": "2022-10-28T01:10:56.443267",
     "exception": false,
     "start_time": "2022-10-28T01:10:56.401920",
     "status": "completed"
    },
    "tags": []
   },
   "source": [
    "Now let's scale the inputs. We compute the mean and standard deviation of each feature on the training set (except for the bias feature), then we center and scale each feature in the training set, the validation set, and the test set:"
   ]
  },
  {
   "cell_type": "code",
   "execution_count": 69,
   "id": "5be85efe",
   "metadata": {
    "execution": {
     "iopub.execute_input": "2022-10-28T01:10:56.528761Z",
     "iopub.status.busy": "2022-10-28T01:10:56.528348Z",
     "iopub.status.idle": "2022-10-28T01:10:56.535193Z",
     "shell.execute_reply": "2022-10-28T01:10:56.534036Z"
    },
    "papermill": {
     "duration": 0.052829,
     "end_time": "2022-10-28T01:10:56.537565",
     "exception": false,
     "start_time": "2022-10-28T01:10:56.484736",
     "status": "completed"
    },
    "tags": []
   },
   "outputs": [],
   "source": [
    "mean = X_train[:, 1:].mean(axis=0)\n",
    "std = X_train[:, 1:].std(axis=0)\n",
    "X_train[:, 1:] = (X_train[:, 1:] - mean) / std\n",
    "X_valid[:, 1:] = (X_valid[:, 1:] - mean) / std\n",
    "X_test[:, 1:] = (X_test[:, 1:] - mean) / std"
   ]
  },
  {
   "cell_type": "markdown",
   "id": "e8cebd55",
   "metadata": {
    "papermill": {
     "duration": 0.041485,
     "end_time": "2022-10-28T01:10:56.620529",
     "exception": false,
     "start_time": "2022-10-28T01:10:56.579044",
     "status": "completed"
    },
    "tags": []
   },
   "source": [
    "Now let's implement the Softmax function. Recall that it is defined by the following equation:\n",
    "\n",
    "$\\sigma\\left(\\mathbf{s}(\\mathbf{x})\\right)_k = \\dfrac{\\exp\\left(s_k(\\mathbf{x})\\right)}{\\sum\\limits_{j=1}^{K}{\\exp\\left(s_j(\\mathbf{x})\\right)}}$"
   ]
  },
  {
   "cell_type": "code",
   "execution_count": 70,
   "id": "2c164349",
   "metadata": {
    "execution": {
     "iopub.execute_input": "2022-10-28T01:10:56.705429Z",
     "iopub.status.busy": "2022-10-28T01:10:56.705016Z",
     "iopub.status.idle": "2022-10-28T01:10:56.710517Z",
     "shell.execute_reply": "2022-10-28T01:10:56.709262Z"
    },
    "papermill": {
     "duration": 0.050829,
     "end_time": "2022-10-28T01:10:56.712860",
     "exception": false,
     "start_time": "2022-10-28T01:10:56.662031",
     "status": "completed"
    },
    "tags": []
   },
   "outputs": [],
   "source": [
    "def softmax(logits):\n",
    "    exps = np.exp(logits)\n",
    "    exp_sums = exps.sum(axis=1, keepdims=True)\n",
    "    return exps / exp_sums"
   ]
  },
  {
   "cell_type": "markdown",
   "id": "ff6b8269",
   "metadata": {
    "papermill": {
     "duration": 0.042401,
     "end_time": "2022-10-28T01:10:56.796906",
     "exception": false,
     "start_time": "2022-10-28T01:10:56.754505",
     "status": "completed"
    },
    "tags": []
   },
   "source": [
    "We are almost ready to start training. Let's define the number of inputs and outputs:"
   ]
  },
  {
   "cell_type": "code",
   "execution_count": 71,
   "id": "2b654b0e",
   "metadata": {
    "execution": {
     "iopub.execute_input": "2022-10-28T01:10:56.881330Z",
     "iopub.status.busy": "2022-10-28T01:10:56.880904Z",
     "iopub.status.idle": "2022-10-28T01:10:56.886539Z",
     "shell.execute_reply": "2022-10-28T01:10:56.885358Z"
    },
    "papermill": {
     "duration": 0.050549,
     "end_time": "2022-10-28T01:10:56.888793",
     "exception": false,
     "start_time": "2022-10-28T01:10:56.838244",
     "status": "completed"
    },
    "tags": []
   },
   "outputs": [],
   "source": [
    "n_inputs = X_train.shape[1]  # == 3 (2 features plus the bias term)\n",
    "n_outputs = len(np.unique(y_train))  # == 3 (there are 3 iris classes)"
   ]
  },
  {
   "cell_type": "markdown",
   "id": "7ce10b8f",
   "metadata": {
    "papermill": {
     "duration": 0.041314,
     "end_time": "2022-10-28T01:10:56.971499",
     "exception": false,
     "start_time": "2022-10-28T01:10:56.930185",
     "status": "completed"
    },
    "tags": []
   },
   "source": [
    "Now here comes the hardest part: training! Theoretically, it's simple: it's just a matter of translating the math equations into Python code. But in practice, it can be quite tricky: in particular, it's easy to mix up the order of the terms, or the indices. You can even end up with code that looks like it's working but is actually not computing exactly the right thing. When unsure, you should write down the shape of each term in the equation and make sure the corresponding terms in your code match closely. It can also help to evaluate each term independently and print them out. The good news it that you won't have to do this everyday, since all this is well implemented by Scikit-Learn, but it will help you understand what's going on under the hood.\n",
    "\n",
    "So the equations we will need are the cost function:\n",
    "\n",
    "$J(\\mathbf{\\Theta}) =\n",
    "- \\dfrac{1}{m}\\sum\\limits_{i=1}^{m}\\sum\\limits_{k=1}^{K}{y_k^{(i)}\\log\\left(\\hat{p}_k^{(i)}\\right)}$\n",
    "\n",
    "And the equation for the gradients:\n",
    "\n",
    "$\\nabla_{\\mathbf{\\theta}^{(k)}} \\, J(\\mathbf{\\Theta}) = \\dfrac{1}{m} \\sum\\limits_{i=1}^{m}{ \\left ( \\hat{p}^{(i)}_k - y_k^{(i)} \\right ) \\mathbf{x}^{(i)}}$\n",
    "\n",
    "Note that $\\log\\left(\\hat{p}_k^{(i)}\\right)$ may not be computable if $\\hat{p}_k^{(i)} = 0$. So we will add a tiny value $\\epsilon$ to $\\log\\left(\\hat{p}_k^{(i)}\\right)$ to avoid getting `nan` values."
   ]
  },
  {
   "cell_type": "code",
   "execution_count": 72,
   "id": "476ae4fb",
   "metadata": {
    "execution": {
     "iopub.execute_input": "2022-10-28T01:10:57.057919Z",
     "iopub.status.busy": "2022-10-28T01:10:57.057023Z",
     "iopub.status.idle": "2022-10-28T01:10:57.190480Z",
     "shell.execute_reply": "2022-10-28T01:10:57.188851Z"
    },
    "papermill": {
     "duration": 0.179714,
     "end_time": "2022-10-28T01:10:57.193650",
     "exception": false,
     "start_time": "2022-10-28T01:10:57.013936",
     "status": "completed"
    },
    "tags": []
   },
   "outputs": [
    {
     "name": "stdout",
     "output_type": "stream",
     "text": [
      "0 3.7085808486476917\n",
      "1000 0.14519367480830644\n",
      "2000 0.1301309575504088\n",
      "3000 0.12009639326384539\n",
      "4000 0.11372961364786884\n",
      "5000 0.11002459532472425\n"
     ]
    }
   ],
   "source": [
    "eta = 0.5\n",
    "n_epochs = 5001\n",
    "m = len(X_train)\n",
    "epsilon = 1e-5\n",
    "\n",
    "np.random.seed(42)\n",
    "Theta = np.random.randn(n_inputs, n_outputs)\n",
    "\n",
    "for epoch in range(n_epochs):\n",
    "    logits = X_train @ Theta\n",
    "    Y_proba = softmax(logits)\n",
    "    if epoch % 1000 == 0:\n",
    "        Y_proba_valid = softmax(X_valid @ Theta)\n",
    "        xentropy_losses = -(Y_valid_one_hot * np.log(Y_proba_valid + epsilon))\n",
    "        print(epoch, xentropy_losses.sum(axis=1).mean())\n",
    "    error = Y_proba - Y_train_one_hot\n",
    "    gradients = 1 / m * X_train.T @ error\n",
    "    Theta = Theta - eta * gradients"
   ]
  },
  {
   "cell_type": "markdown",
   "id": "e539a962",
   "metadata": {
    "papermill": {
     "duration": 0.042147,
     "end_time": "2022-10-28T01:10:57.278483",
     "exception": false,
     "start_time": "2022-10-28T01:10:57.236336",
     "status": "completed"
    },
    "tags": []
   },
   "source": [
    "And that's it! The Softmax model is trained. Let's look at the model parameters:"
   ]
  },
  {
   "cell_type": "code",
   "execution_count": 73,
   "id": "dab87fb4",
   "metadata": {
    "execution": {
     "iopub.execute_input": "2022-10-28T01:10:57.364102Z",
     "iopub.status.busy": "2022-10-28T01:10:57.363379Z",
     "iopub.status.idle": "2022-10-28T01:10:57.369538Z",
     "shell.execute_reply": "2022-10-28T01:10:57.368447Z"
    },
    "papermill": {
     "duration": 0.051614,
     "end_time": "2022-10-28T01:10:57.371689",
     "exception": false,
     "start_time": "2022-10-28T01:10:57.320075",
     "status": "completed"
    },
    "tags": []
   },
   "outputs": [
    {
     "data": {
      "text/plain": [
       "array([[ 0.41931626,  6.11112089, -5.52429876],\n",
       "       [-6.53054533, -0.74608616,  8.33137102],\n",
       "       [-5.28115784,  0.25152675,  6.90680425]])"
      ]
     },
     "execution_count": 73,
     "metadata": {},
     "output_type": "execute_result"
    }
   ],
   "source": [
    "Theta"
   ]
  },
  {
   "cell_type": "markdown",
   "id": "8b247148",
   "metadata": {
    "papermill": {
     "duration": 0.041653,
     "end_time": "2022-10-28T01:10:57.455098",
     "exception": false,
     "start_time": "2022-10-28T01:10:57.413445",
     "status": "completed"
    },
    "tags": []
   },
   "source": [
    "Let's make predictions for the validation set and check the accuracy score:"
   ]
  },
  {
   "cell_type": "code",
   "execution_count": 74,
   "id": "1f4c8774",
   "metadata": {
    "execution": {
     "iopub.execute_input": "2022-10-28T01:10:57.541308Z",
     "iopub.status.busy": "2022-10-28T01:10:57.540573Z",
     "iopub.status.idle": "2022-10-28T01:10:57.547457Z",
     "shell.execute_reply": "2022-10-28T01:10:57.546733Z"
    },
    "papermill": {
     "duration": 0.052704,
     "end_time": "2022-10-28T01:10:57.549495",
     "exception": false,
     "start_time": "2022-10-28T01:10:57.496791",
     "status": "completed"
    },
    "tags": []
   },
   "outputs": [
    {
     "data": {
      "text/plain": [
       "0.9333333333333333"
      ]
     },
     "execution_count": 74,
     "metadata": {},
     "output_type": "execute_result"
    }
   ],
   "source": [
    "logits = X_valid @ Theta\n",
    "Y_proba = softmax(logits)\n",
    "y_predict = Y_proba.argmax(axis=1)\n",
    "\n",
    "accuracy_score = (y_predict == y_valid).mean()\n",
    "accuracy_score"
   ]
  },
  {
   "cell_type": "markdown",
   "id": "b8bc34cd",
   "metadata": {
    "papermill": {
     "duration": 0.041766,
     "end_time": "2022-10-28T01:10:57.633144",
     "exception": false,
     "start_time": "2022-10-28T01:10:57.591378",
     "status": "completed"
    },
    "tags": []
   },
   "source": [
    "Well, this model looks pretty ok. For the sake of the exercise, let's add a bit of $\\ell_2$ regularization. The following training code is similar to the one above, but the loss now has an additional $\\ell_2$ penalty, and the gradients have the proper additional term (note that we don't regularize the first element of `Theta` since this corresponds to the bias term). Also, let's try increasing the learning rate `eta`."
   ]
  },
  {
   "cell_type": "code",
   "execution_count": 75,
   "id": "fdf69196",
   "metadata": {
    "execution": {
     "iopub.execute_input": "2022-10-28T01:10:57.719587Z",
     "iopub.status.busy": "2022-10-28T01:10:57.719169Z",
     "iopub.status.idle": "2022-10-28T01:10:58.045843Z",
     "shell.execute_reply": "2022-10-28T01:10:58.044691Z"
    },
    "papermill": {
     "duration": 0.37344,
     "end_time": "2022-10-28T01:10:58.048465",
     "exception": false,
     "start_time": "2022-10-28T01:10:57.675025",
     "status": "completed"
    },
    "tags": []
   },
   "outputs": [
    {
     "name": "stdout",
     "output_type": "stream",
     "text": [
      "0 3.7372\n",
      "1000 0.3259\n",
      "2000 0.3259\n",
      "3000 0.3259\n",
      "4000 0.3259\n",
      "5000 0.3259\n"
     ]
    }
   ],
   "source": [
    "eta = 0.5\n",
    "n_epochs = 5001\n",
    "m = len(X_train)\n",
    "epsilon = 1e-5\n",
    "alpha = 0.01  # regularization hyperparameter\n",
    "\n",
    "np.random.seed(42)\n",
    "Theta = np.random.randn(n_inputs, n_outputs)\n",
    "\n",
    "for epoch in range(n_epochs):\n",
    "    logits = X_train @ Theta\n",
    "    Y_proba = softmax(logits)\n",
    "    if epoch % 1000 == 0:\n",
    "        Y_proba_valid = softmax(X_valid @ Theta)\n",
    "        xentropy_losses = -(Y_valid_one_hot * np.log(Y_proba_valid + epsilon))\n",
    "        l2_loss = 1 / 2 * (Theta[1:] ** 2).sum()\n",
    "        total_loss = xentropy_losses.sum(axis=1).mean() + alpha * l2_loss\n",
    "        print(epoch, total_loss.round(4))\n",
    "    error = Y_proba - Y_train_one_hot\n",
    "    gradients = 1 / m * X_train.T @ error\n",
    "    gradients += np.r_[np.zeros([1, n_outputs]), alpha * Theta[1:]]\n",
    "    Theta = Theta - eta * gradients"
   ]
  },
  {
   "cell_type": "markdown",
   "id": "6affec4b",
   "metadata": {
    "papermill": {
     "duration": 0.042059,
     "end_time": "2022-10-28T01:10:58.133088",
     "exception": false,
     "start_time": "2022-10-28T01:10:58.091029",
     "status": "completed"
    },
    "tags": []
   },
   "source": [
    "Because of the additional $\\ell_2$ penalty, the loss seems greater than earlier, but perhaps this model will perform better? Let's find out:"
   ]
  },
  {
   "cell_type": "code",
   "execution_count": 76,
   "id": "042a8dad",
   "metadata": {
    "execution": {
     "iopub.execute_input": "2022-10-28T01:10:58.222076Z",
     "iopub.status.busy": "2022-10-28T01:10:58.221688Z",
     "iopub.status.idle": "2022-10-28T01:10:58.228369Z",
     "shell.execute_reply": "2022-10-28T01:10:58.227592Z"
    },
    "papermill": {
     "duration": 0.05426,
     "end_time": "2022-10-28T01:10:58.230634",
     "exception": false,
     "start_time": "2022-10-28T01:10:58.176374",
     "status": "completed"
    },
    "tags": []
   },
   "outputs": [
    {
     "data": {
      "text/plain": [
       "0.9333333333333333"
      ]
     },
     "execution_count": 76,
     "metadata": {},
     "output_type": "execute_result"
    }
   ],
   "source": [
    "logits = X_valid @ Theta\n",
    "Y_proba = softmax(logits)\n",
    "y_predict = Y_proba.argmax(axis=1)\n",
    "\n",
    "accuracy_score = (y_predict == y_valid).mean()\n",
    "accuracy_score"
   ]
  },
  {
   "cell_type": "markdown",
   "id": "a24674bb",
   "metadata": {
    "papermill": {
     "duration": 0.042534,
     "end_time": "2022-10-28T01:10:58.316309",
     "exception": false,
     "start_time": "2022-10-28T01:10:58.273775",
     "status": "completed"
    },
    "tags": []
   },
   "source": [
    "In this case, the $\\ell_2$ penalty did not change the test accuracy. Perhaps try fine-tuning `alpha`?"
   ]
  },
  {
   "cell_type": "markdown",
   "id": "cae21641",
   "metadata": {
    "papermill": {
     "duration": 0.042291,
     "end_time": "2022-10-28T01:10:58.400860",
     "exception": false,
     "start_time": "2022-10-28T01:10:58.358569",
     "status": "completed"
    },
    "tags": []
   },
   "source": [
    "Now let's add early stopping. For this we just need to measure the loss on the validation set at every iteration and stop when the error starts growing."
   ]
  },
  {
   "cell_type": "code",
   "execution_count": 77,
   "id": "75b1a9eb",
   "metadata": {
    "execution": {
     "iopub.execute_input": "2022-10-28T01:10:58.488130Z",
     "iopub.status.busy": "2022-10-28T01:10:58.487711Z",
     "iopub.status.idle": "2022-10-28T01:10:58.530355Z",
     "shell.execute_reply": "2022-10-28T01:10:58.528951Z"
    },
    "papermill": {
     "duration": 0.089962,
     "end_time": "2022-10-28T01:10:58.533443",
     "exception": false,
     "start_time": "2022-10-28T01:10:58.443481",
     "status": "completed"
    },
    "tags": []
   },
   "outputs": [
    {
     "name": "stdout",
     "output_type": "stream",
     "text": [
      "0 3.7372\n",
      "281 0.3256\n",
      "282 0.3256 early stopping!\n"
     ]
    }
   ],
   "source": [
    "eta = 0.5\n",
    "n_epochs = 50_001\n",
    "m = len(X_train)\n",
    "epsilon = 1e-5\n",
    "C = 100  # regularization hyperparameter\n",
    "best_loss = np.infty\n",
    "\n",
    "np.random.seed(42)\n",
    "Theta = np.random.randn(n_inputs, n_outputs)\n",
    "\n",
    "for epoch in range(n_epochs):\n",
    "    logits = X_train @ Theta\n",
    "    Y_proba = softmax(logits)\n",
    "    Y_proba_valid = softmax(X_valid @ Theta)\n",
    "    xentropy_losses = -(Y_valid_one_hot * np.log(Y_proba_valid + epsilon))\n",
    "    l2_loss = 1 / 2 * (Theta[1:] ** 2).sum()\n",
    "    total_loss = xentropy_losses.sum(axis=1).mean() + 1 / C * l2_loss\n",
    "    if epoch % 1000 == 0:\n",
    "        print(epoch, total_loss.round(4))\n",
    "    if total_loss < best_loss:\n",
    "        best_loss = total_loss\n",
    "    else:\n",
    "        print(epoch - 1, best_loss.round(4))\n",
    "        print(epoch, total_loss.round(4), \"early stopping!\")\n",
    "        break\n",
    "    error = Y_proba - Y_train_one_hot\n",
    "    gradients = 1 / m * X_train.T @ error\n",
    "    gradients += np.r_[np.zeros([1, n_outputs]), 1 / C * Theta[1:]]\n",
    "    Theta = Theta - eta * gradients"
   ]
  },
  {
   "cell_type": "code",
   "execution_count": 78,
   "id": "12f21766",
   "metadata": {
    "execution": {
     "iopub.execute_input": "2022-10-28T01:10:58.623143Z",
     "iopub.status.busy": "2022-10-28T01:10:58.622737Z",
     "iopub.status.idle": "2022-10-28T01:10:58.630951Z",
     "shell.execute_reply": "2022-10-28T01:10:58.629608Z"
    },
    "papermill": {
     "duration": 0.054934,
     "end_time": "2022-10-28T01:10:58.633223",
     "exception": false,
     "start_time": "2022-10-28T01:10:58.578289",
     "status": "completed"
    },
    "tags": []
   },
   "outputs": [
    {
     "data": {
      "text/plain": [
       "0.9333333333333333"
      ]
     },
     "execution_count": 78,
     "metadata": {},
     "output_type": "execute_result"
    }
   ],
   "source": [
    "logits = X_valid @ Theta\n",
    "Y_proba = softmax(logits)\n",
    "y_predict = Y_proba.argmax(axis=1)\n",
    "\n",
    "accuracy_score = (y_predict == y_valid).mean()\n",
    "accuracy_score"
   ]
  },
  {
   "cell_type": "markdown",
   "id": "67752c94",
   "metadata": {
    "papermill": {
     "duration": 0.042616,
     "end_time": "2022-10-28T01:10:58.718874",
     "exception": false,
     "start_time": "2022-10-28T01:10:58.676258",
     "status": "completed"
    },
    "tags": []
   },
   "source": [
    "Oh well, still no change in validation accuracy, but at least early stopping shortened training a bit."
   ]
  },
  {
   "cell_type": "markdown",
   "id": "5eea8d58",
   "metadata": {
    "papermill": {
     "duration": 0.042388,
     "end_time": "2022-10-28T01:10:58.803722",
     "exception": false,
     "start_time": "2022-10-28T01:10:58.761334",
     "status": "completed"
    },
    "tags": []
   },
   "source": [
    "Now let's plot the model's predictions on the whole dataset (remember to scale all features fed to the model):"
   ]
  },
  {
   "cell_type": "code",
   "execution_count": 79,
   "id": "66036006",
   "metadata": {
    "execution": {
     "iopub.execute_input": "2022-10-28T01:10:58.890399Z",
     "iopub.status.busy": "2022-10-28T01:10:58.889755Z",
     "iopub.status.idle": "2022-10-28T01:10:59.319285Z",
     "shell.execute_reply": "2022-10-28T01:10:59.318351Z"
    },
    "papermill": {
     "duration": 0.475547,
     "end_time": "2022-10-28T01:10:59.321846",
     "exception": false,
     "start_time": "2022-10-28T01:10:58.846299",
     "status": "completed"
    },
    "tags": []
   },
   "outputs": [
    {
     "data": {
      "image/png": "[encoded data removed]",
      "text/plain": [
       "<Figure size 720x288 with 1 Axes>"
      ]
     },
     "metadata": {
      "needs_background": "light"
     },
     "output_type": "display_data"
    }
   ],
   "source": [
    "custom_cmap = mpl.colors.ListedColormap(['#fafab0', '#9898ff', '#a0faa0'])\n",
    "\n",
    "x0, x1 = np.meshgrid(np.linspace(0, 8, 500).reshape(-1, 1),\n",
    "                     np.linspace(0, 3.5, 200).reshape(-1, 1))\n",
    "X_new = np.c_[x0.ravel(), x1.ravel()]\n",
    "X_new = (X_new - mean) / std\n",
    "X_new_with_bias = np.c_[np.ones(len(X_new)), X_new]\n",
    "\n",
    "logits = X_new_with_bias @ Theta\n",
    "Y_proba = softmax(logits)\n",
    "y_predict = Y_proba.argmax(axis=1)\n",
    "\n",
    "zz1 = Y_proba[:, 1].reshape(x0.shape)\n",
    "zz = y_predict.reshape(x0.shape)\n",
    "\n",
    "plt.figure(figsize=(10, 4))\n",
    "plt.plot(X[y == 2, 0], X[y == 2, 1], \"g^\", label=\"Iris virginica\")\n",
    "plt.plot(X[y == 1, 0], X[y == 1, 1], \"bs\", label=\"Iris versicolor\")\n",
    "plt.plot(X[y == 0, 0], X[y == 0, 1], \"yo\", label=\"Iris setosa\")\n",
    "\n",
    "plt.contourf(x0, x1, zz, cmap=custom_cmap)\n",
    "contour = plt.contour(x0, x1, zz1, cmap=\"hot\")\n",
    "plt.clabel(contour, inline=1)\n",
    "plt.xlabel(\"Petal length\")\n",
    "plt.ylabel(\"Petal width\")\n",
    "plt.legend(loc=\"upper left\")\n",
    "plt.axis([0, 7, 0, 3.5])\n",
    "plt.grid()\n",
    "plt.show()"
   ]
  },
  {
   "cell_type": "markdown",
   "id": "84b05492",
   "metadata": {
    "papermill": {
     "duration": 0.043731,
     "end_time": "2022-10-28T01:10:59.410783",
     "exception": false,
     "start_time": "2022-10-28T01:10:59.367052",
     "status": "completed"
    },
    "tags": []
   },
   "source": [
    "And now let's measure the final model's accuracy on the test set:"
   ]
  },
  {
   "cell_type": "code",
   "execution_count": 80,
   "id": "d02dbb97",
   "metadata": {
    "execution": {
     "iopub.execute_input": "2022-10-28T01:10:59.501332Z",
     "iopub.status.busy": "2022-10-28T01:10:59.500566Z",
     "iopub.status.idle": "2022-10-28T01:10:59.507634Z",
     "shell.execute_reply": "2022-10-28T01:10:59.506853Z"
    },
    "papermill": {
     "duration": 0.054863,
     "end_time": "2022-10-28T01:10:59.509625",
     "exception": false,
     "start_time": "2022-10-28T01:10:59.454762",
     "status": "completed"
    },
    "tags": []
   },
   "outputs": [
    {
     "data": {
      "text/plain": [
       "0.9666666666666667"
      ]
     },
     "execution_count": 80,
     "metadata": {},
     "output_type": "execute_result"
    }
   ],
   "source": [
    "logits = X_test @ Theta\n",
    "Y_proba = softmax(logits)\n",
    "y_predict = Y_proba.argmax(axis=1)\n",
    "\n",
    "accuracy_score = (y_predict == y_test).mean()\n",
    "accuracy_score"
   ]
  },
  {
   "cell_type": "markdown",
   "id": "61f58ac1",
   "metadata": {
    "papermill": {
     "duration": 0.043934,
     "end_time": "2022-10-28T01:10:59.597644",
     "exception": false,
     "start_time": "2022-10-28T01:10:59.553710",
     "status": "completed"
    },
    "tags": []
   },
   "source": [
    "Well we get even better performance on the test set. This variability is likely due to the very small size of the dataset: depending on how you sample the training set, validation set and the test set, you can get quite different results. Try changing the random seed and running the code again a few times, you will see that the results will vary."
   ]
  },
  {
   "cell_type": "code",
   "execution_count": null,
   "id": "ffa0e0c3",
   "metadata": {
    "papermill": {
     "duration": 0.043852,
     "end_time": "2022-10-28T01:10:59.685310",
     "exception": false,
     "start_time": "2022-10-28T01:10:59.641458",
     "status": "completed"
    },
    "tags": []
   },
   "outputs": [],
   "source": []
  }
 ],
 "metadata": {
  "kernelspec": {
   "display_name": "Python 3",
   "language": "python",
   "name": "python3"
  },
  "language_info": {
   "codemirror_mode": {
    "name": "ipython",
    "version": 3
   },
   "file_extension": ".py",
   "mimetype": "text/x-python",
   "name": "python",
   "nbconvert_exporter": "python",
   "pygments_lexer": "ipython3",
   "version": "3.7.12"
  },
  "papermill": {
   "default_parameters": {},
   "duration": 41.123931,
   "end_time": "2022-10-28T01:11:00.551318",
   "environment_variables": {},
   "exception": null,
   "input_path": "__notebook__.ipynb",
   "output_path": "__notebook__.ipynb",
   "parameters": {},
   "start_time": "2022-10-28T01:10:19.427387",
   "version": "2.3.4"
  }
 },
 "nbformat": 4,
 "nbformat_minor": 5
}
