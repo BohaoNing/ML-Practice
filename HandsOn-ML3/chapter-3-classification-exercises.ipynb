{
 "cells": [
  {
   "cell_type": "code",
   "execution_count": 1,
   "id": "21b4e7d6",
   "metadata": {
    "_cell_guid": "b1076dfc-b9ad-4769-8c92-a6c4dae69d19",
    "_uuid": "8f2839f25d086af736a60e9eeb907d3b93b6e0e5",
    "execution": {
     "iopub.execute_input": "2022-10-26T02:18:31.987913Z",
     "iopub.status.busy": "2022-10-26T02:18:31.987273Z",
     "iopub.status.idle": "2022-10-26T02:18:32.004615Z",
     "shell.execute_reply": "2022-10-26T02:18:32.003486Z"
    },
    "papermill": {
     "duration": 0.029311,
     "end_time": "2022-10-26T02:18:32.007694",
     "exception": false,
     "start_time": "2022-10-26T02:18:31.978383",
     "status": "completed"
    },
    "tags": []
   },
   "outputs": [],
   "source": [
    "# This Python 3 environment comes with many helpful analytics libraries installed\n",
    "# It is defined by the kaggle/python Docker image: https://github.com/kaggle/docker-python\n",
    "# For example, here's several helpful packages to load\n",
    "\n",
    "import numpy as np # linear algebra\n",
    "import pandas as pd # data processing, CSV file I/O (e.g. pd.read_csv)\n",
    "\n",
    "# Input data files are available in the read-only \"../input/\" directory\n",
    "# For example, running this (by clicking run or pressing Shift+Enter) will list all files under the input directory\n",
    "\n",
    "import os\n",
    "for dirname, _, filenames in os.walk('/kaggle/input'):\n",
    "    for filename in filenames:\n",
    "        print(os.path.join(dirname, filename))\n",
    "\n",
    "# You can write up to 20GB to the current directory (/kaggle/working/) that gets preserved as output when you create a version using \"Save & Run All\" \n",
    "# You can also write temporary files to /kaggle/temp/, but they won't be saved outside of the current session"
   ]
  },
  {
   "cell_type": "markdown",
   "id": "11ffce83",
   "metadata": {
    "papermill": {
     "duration": 0.003779,
     "end_time": "2022-10-26T02:18:32.015923",
     "exception": false,
     "start_time": "2022-10-26T02:18:32.012144",
     "status": "completed"
    },
    "tags": []
   },
   "source": [
    "1. Try to build a classiﬁer for the MNIST dataset that achieves over 97% accuracy on the test set. Hint: the KNeighborsClassifier works quite well for this task; you just need to ﬁnd good hyperparameter values (try a grid search on the weights and n_neighbors hyperparameters)."
   ]
  },
  {
   "cell_type": "code",
   "execution_count": 2,
   "id": "8bfcbb4a",
   "metadata": {
    "execution": {
     "iopub.execute_input": "2022-10-26T02:18:32.026125Z",
     "iopub.status.busy": "2022-10-26T02:18:32.025663Z",
     "iopub.status.idle": "2022-10-26T02:19:09.917199Z",
     "shell.execute_reply": "2022-10-26T02:19:09.915921Z"
    },
    "papermill": {
     "duration": 37.900584,
     "end_time": "2022-10-26T02:19:09.920519",
     "exception": false,
     "start_time": "2022-10-26T02:18:32.019935",
     "status": "completed"
    },
    "tags": []
   },
   "outputs": [],
   "source": [
    "from sklearn.datasets import fetch_openml\n",
    "\n",
    "mnist = fetch_openml('mnist_784', as_frame=False)"
   ]
  },
  {
   "cell_type": "code",
   "execution_count": 3,
   "id": "0891d7e9",
   "metadata": {
    "execution": {
     "iopub.execute_input": "2022-10-26T02:19:09.931410Z",
     "iopub.status.busy": "2022-10-26T02:19:09.930576Z",
     "iopub.status.idle": "2022-10-26T02:19:09.937185Z",
     "shell.execute_reply": "2022-10-26T02:19:09.935506Z"
    },
    "papermill": {
     "duration": 0.015192,
     "end_time": "2022-10-26T02:19:09.940162",
     "exception": false,
     "start_time": "2022-10-26T02:19:09.924970",
     "status": "completed"
    },
    "tags": []
   },
   "outputs": [],
   "source": [
    "X, y = mnist.data, mnist.target\n",
    "X_train, X_test, y_train, y_test = X[:60000], X[60000:], y[:60000], y[60000:]"
   ]
  },
  {
   "cell_type": "code",
   "execution_count": 4,
   "id": "54f0ccaf",
   "metadata": {
    "execution": {
     "iopub.execute_input": "2022-10-26T02:19:09.950885Z",
     "iopub.status.busy": "2022-10-26T02:19:09.950447Z",
     "iopub.status.idle": "2022-10-26T02:19:23.585343Z",
     "shell.execute_reply": "2022-10-26T02:19:23.583344Z"
    },
    "papermill": {
     "duration": 13.643734,
     "end_time": "2022-10-26T02:19:23.588361",
     "exception": false,
     "start_time": "2022-10-26T02:19:09.944627",
     "status": "completed"
    },
    "tags": []
   },
   "outputs": [
    {
     "name": "stdout",
     "output_type": "stream",
     "text": [
      "Fitting 3 folds for each of 10 candidates, totalling 30 fits\n",
      "[CV] END .....................n_neighbors=1, weights=uniform; total time=   0.4s\n",
      "[CV] END .....................n_neighbors=1, weights=uniform; total time=   0.4s\n",
      "[CV] END .....................n_neighbors=1, weights=uniform; total time=   0.4s\n",
      "[CV] END ....................n_neighbors=1, weights=distance; total time=   0.4s\n",
      "[CV] END ....................n_neighbors=1, weights=distance; total time=   0.4s\n",
      "[CV] END ....................n_neighbors=1, weights=distance; total time=   0.4s\n",
      "[CV] END .....................n_neighbors=3, weights=uniform; total time=   0.5s\n",
      "[CV] END .....................n_neighbors=3, weights=uniform; total time=   0.4s\n",
      "[CV] END .....................n_neighbors=3, weights=uniform; total time=   0.4s\n",
      "[CV] END ....................n_neighbors=3, weights=distance; total time=   0.4s\n",
      "[CV] END ....................n_neighbors=3, weights=distance; total time=   0.4s\n",
      "[CV] END ....................n_neighbors=3, weights=distance; total time=   0.4s\n",
      "[CV] END .....................n_neighbors=5, weights=uniform; total time=   0.5s\n",
      "[CV] END .....................n_neighbors=5, weights=uniform; total time=   0.5s\n",
      "[CV] END .....................n_neighbors=5, weights=uniform; total time=   0.5s\n",
      "[CV] END ....................n_neighbors=5, weights=distance; total time=   0.4s\n",
      "[CV] END ....................n_neighbors=5, weights=distance; total time=   0.4s\n",
      "[CV] END ....................n_neighbors=5, weights=distance; total time=   0.5s\n",
      "[CV] END .....................n_neighbors=7, weights=uniform; total time=   0.5s\n",
      "[CV] END .....................n_neighbors=7, weights=uniform; total time=   0.5s\n",
      "[CV] END .....................n_neighbors=7, weights=uniform; total time=   0.5s\n",
      "[CV] END ....................n_neighbors=7, weights=distance; total time=   0.4s\n",
      "[CV] END ....................n_neighbors=7, weights=distance; total time=   0.4s\n",
      "[CV] END ....................n_neighbors=7, weights=distance; total time=   0.5s\n",
      "[CV] END .....................n_neighbors=9, weights=uniform; total time=   0.5s\n",
      "[CV] END .....................n_neighbors=9, weights=uniform; total time=   0.5s\n",
      "[CV] END .....................n_neighbors=9, weights=uniform; total time=   0.5s\n",
      "[CV] END ....................n_neighbors=9, weights=distance; total time=   0.4s\n",
      "[CV] END ....................n_neighbors=9, weights=distance; total time=   0.4s\n",
      "[CV] END ....................n_neighbors=9, weights=distance; total time=   0.4s\n"
     ]
    },
    {
     "data": {
      "text/plain": [
       "{'n_neighbors': 3, 'weights': 'distance'}"
      ]
     },
     "execution_count": 4,
     "metadata": {},
     "output_type": "execute_result"
    }
   ],
   "source": [
    "from sklearn.neighbors import KNeighborsClassifier\n",
    "from sklearn.model_selection import GridSearchCV\n",
    "\n",
    "param_grid = {'n_neighbors':[1,3,5,7,9], 'weights':['uniform','distance']}\n",
    "\n",
    "grid_model = GridSearchCV(estimator=KNeighborsClassifier(),\n",
    "                          param_grid=param_grid,\n",
    "                          scoring='neg_mean_squared_error',\n",
    "                          cv=3,\n",
    "                          verbose=2)\n",
    "\n",
    "grid_model.fit(X_train[:6000], y_train[:6000])\n",
    "grid_model.best_estimator_\n",
    "grid_model.best_params_"
   ]
  },
  {
   "cell_type": "code",
   "execution_count": 5,
   "id": "db01dab2",
   "metadata": {
    "execution": {
     "iopub.execute_input": "2022-10-26T02:19:23.603041Z",
     "iopub.status.busy": "2022-10-26T02:19:23.602592Z",
     "iopub.status.idle": "2022-10-26T02:19:23.612302Z",
     "shell.execute_reply": "2022-10-26T02:19:23.611228Z"
    },
    "papermill": {
     "duration": 0.020105,
     "end_time": "2022-10-26T02:19:23.615051",
     "exception": false,
     "start_time": "2022-10-26T02:19:23.594946",
     "status": "completed"
    },
    "tags": []
   },
   "outputs": [
    {
     "data": {
      "text/plain": [
       "KNeighborsClassifier(n_neighbors=3, weights='distance')"
      ]
     },
     "execution_count": 5,
     "metadata": {},
     "output_type": "execute_result"
    }
   ],
   "source": [
    "knn = grid_model.best_estimator_\n",
    "knn"
   ]
  },
  {
   "cell_type": "code",
   "execution_count": 6,
   "id": "ba64fe25",
   "metadata": {
    "execution": {
     "iopub.execute_input": "2022-10-26T02:19:23.629376Z",
     "iopub.status.busy": "2022-10-26T02:19:23.628948Z",
     "iopub.status.idle": "2022-10-26T02:19:25.835916Z",
     "shell.execute_reply": "2022-10-26T02:19:25.834234Z"
    },
    "papermill": {
     "duration": 2.218963,
     "end_time": "2022-10-26T02:19:25.840306",
     "exception": false,
     "start_time": "2022-10-26T02:19:23.621343",
     "status": "completed"
    },
    "tags": []
   },
   "outputs": [
    {
     "data": {
      "text/plain": [
       "array([0.94333333, 0.92666667, 0.94166667, 0.93833333, 0.93333333,\n",
       "       0.955     , 0.94166667, 0.93      , 0.92333333, 0.955     ])"
      ]
     },
     "execution_count": 6,
     "metadata": {},
     "output_type": "execute_result"
    }
   ],
   "source": [
    "from sklearn.model_selection import cross_val_score\n",
    "\n",
    "cross_val_score(knn, X_train[:6000], y_train[:6000], cv=10, scoring=\"accuracy\")"
   ]
  },
  {
   "cell_type": "code",
   "execution_count": 7,
   "id": "4b536b4f",
   "metadata": {
    "execution": {
     "iopub.execute_input": "2022-10-26T02:19:25.871925Z",
     "iopub.status.busy": "2022-10-26T02:19:25.870791Z",
     "iopub.status.idle": "2022-10-26T02:19:49.629446Z",
     "shell.execute_reply": "2022-10-26T02:19:49.628142Z"
    },
    "papermill": {
     "duration": 23.77576,
     "end_time": "2022-10-26T02:19:49.632089",
     "exception": false,
     "start_time": "2022-10-26T02:19:25.856329",
     "status": "completed"
    },
    "tags": []
   },
   "outputs": [
    {
     "data": {
      "text/plain": [
       "0.9717"
      ]
     },
     "execution_count": 7,
     "metadata": {},
     "output_type": "execute_result"
    }
   ],
   "source": [
    "knn.fit(X_train, y_train)\n",
    "knn.score(X_test, y_test)"
   ]
  },
  {
   "cell_type": "markdown",
   "id": "02badbf8",
   "metadata": {
    "papermill": {
     "duration": 0.006264,
     "end_time": "2022-10-26T02:19:49.644931",
     "exception": false,
     "start_time": "2022-10-26T02:19:49.638667",
     "status": "completed"
    },
    "tags": []
   },
   "source": [
    "2. Write a function that can shift an MNIST image in any direction (left, right, up, or down) by one pixel. Then, for each image in the training set, create four shifted copies (one per direction) and add them to the training set. Finally, train your best model on this expanded training set and measure its accuracy on the test set. You should observe that your model performs even better now! This technique of artiﬁcially growing the training set is called data augmentation or training set expansion."
   ]
  },
  {
   "cell_type": "code",
   "execution_count": 8,
   "id": "2478aeb6",
   "metadata": {
    "execution": {
     "iopub.execute_input": "2022-10-26T02:19:49.660109Z",
     "iopub.status.busy": "2022-10-26T02:19:49.659378Z",
     "iopub.status.idle": "2022-10-26T02:19:49.760979Z",
     "shell.execute_reply": "2022-10-26T02:19:49.759439Z"
    },
    "papermill": {
     "duration": 0.114214,
     "end_time": "2022-10-26T02:19:49.765628",
     "exception": false,
     "start_time": "2022-10-26T02:19:49.651414",
     "status": "completed"
    },
    "tags": []
   },
   "outputs": [
    {
     "data": {
      "image/png": "[encoded data removed]",
      "text/plain": [
       "<Figure size 432x288 with 1 Axes>"
      ]
     },
     "metadata": {
      "needs_background": "light"
     },
     "output_type": "display_data"
    }
   ],
   "source": [
    "import matplotlib.pyplot as plt\n",
    "\n",
    "def plot_digit(image_data):\n",
    "    image = image_data.reshape(28, 28)\n",
    "    plt.imshow(image, cmap=\"binary\")\n",
    "    plt.axis(\"off\")\n",
    "\n",
    "plot_digit(X[0])"
   ]
  },
  {
   "cell_type": "code",
   "execution_count": 9,
   "id": "efd93740",
   "metadata": {
    "execution": {
     "iopub.execute_input": "2022-10-26T02:19:49.803245Z",
     "iopub.status.busy": "2022-10-26T02:19:49.802049Z",
     "iopub.status.idle": "2022-10-26T02:19:50.210248Z",
     "shell.execute_reply": "2022-10-26T02:19:50.209178Z"
    },
    "papermill": {
     "duration": 0.430319,
     "end_time": "2022-10-26T02:19:50.212720",
     "exception": false,
     "start_time": "2022-10-26T02:19:49.782401",
     "status": "completed"
    },
    "tags": []
   },
   "outputs": [
    {
     "data": {
      "image/png": "[encoded data removed]",
      "text/plain": [
       "<Figure size 864x216 with 3 Axes>"
      ]
     },
     "metadata": {
      "needs_background": "light"
     },
     "output_type": "display_data"
    }
   ],
   "source": [
    "from scipy.ndimage import shift\n",
    "\n",
    "def shift_image(image, dx, dy):\n",
    "    image = image.reshape((28, 28))\n",
    "    shifted_image = shift(image, [dy, dx], cval=0, mode=\"constant\")\n",
    "    return shifted_image.reshape([-1])\n",
    "\n",
    "image = X_train[1000]  # some random digit to demo\n",
    "shifted_image_down = shift_image(image, 0, 5)\n",
    "shifted_image_left = shift_image(image, -5, 0)\n",
    "\n",
    "plt.figure(figsize=(12, 3))\n",
    "plt.subplot(131)\n",
    "plt.title(\"Original\")\n",
    "plt.imshow(image.reshape(28, 28),\n",
    "           interpolation=\"nearest\", cmap=\"Greys\")\n",
    "plt.subplot(132)\n",
    "plt.title(\"Shifted down\")\n",
    "plt.imshow(shifted_image_down.reshape(28, 28),\n",
    "           interpolation=\"nearest\", cmap=\"Greys\")\n",
    "plt.subplot(133)\n",
    "plt.title(\"Shifted left\")\n",
    "plt.imshow(shifted_image_left.reshape(28, 28),\n",
    "           interpolation=\"nearest\", cmap=\"Greys\")\n",
    "plt.show()"
   ]
  },
  {
   "cell_type": "code",
   "execution_count": 10,
   "id": "bdda3490",
   "metadata": {
    "execution": {
     "iopub.execute_input": "2022-10-26T02:19:50.230100Z",
     "iopub.status.busy": "2022-10-26T02:19:50.229433Z",
     "iopub.status.idle": "2022-10-26T02:20:26.576345Z",
     "shell.execute_reply": "2022-10-26T02:20:26.574899Z"
    },
    "papermill": {
     "duration": 36.359928,
     "end_time": "2022-10-26T02:20:26.579649",
     "exception": false,
     "start_time": "2022-10-26T02:19:50.219721",
     "status": "completed"
    },
    "tags": []
   },
   "outputs": [],
   "source": [
    "X_train_augmented = [image for image in X_train]\n",
    "y_train_augmented = [label for label in y_train]\n",
    "\n",
    "for dx, dy in ((-1, 0), (1, 0), (0, 1), (0, -1)):\n",
    "    for image, label in zip(X_train, y_train):\n",
    "        X_train_augmented.append(shift_image(image, dx, dy))\n",
    "        y_train_augmented.append(label)\n",
    "\n",
    "X_train_augmented = np.array(X_train_augmented)\n",
    "y_train_augmented = np.array(y_train_augmented)"
   ]
  },
  {
   "cell_type": "code",
   "execution_count": 11,
   "id": "7190e2b8",
   "metadata": {
    "execution": {
     "iopub.execute_input": "2022-10-26T02:20:26.595918Z",
     "iopub.status.busy": "2022-10-26T02:20:26.595499Z",
     "iopub.status.idle": "2022-10-26T02:20:27.421409Z",
     "shell.execute_reply": "2022-10-26T02:20:27.420198Z"
    },
    "papermill": {
     "duration": 0.837325,
     "end_time": "2022-10-26T02:20:27.424354",
     "exception": false,
     "start_time": "2022-10-26T02:20:26.587029",
     "status": "completed"
    },
    "tags": []
   },
   "outputs": [],
   "source": [
    "shuffle_idx = np.random.permutation(len(X_train_augmented))\n",
    "X_train_augmented = X_train_augmented[shuffle_idx]\n",
    "y_train_augmented = y_train_augmented[shuffle_idx]"
   ]
  },
  {
   "cell_type": "code",
   "execution_count": 12,
   "id": "86efd48b",
   "metadata": {
    "execution": {
     "iopub.execute_input": "2022-10-26T02:20:27.440138Z",
     "iopub.status.busy": "2022-10-26T02:20:27.439715Z",
     "iopub.status.idle": "2022-10-26T02:22:36.967131Z",
     "shell.execute_reply": "2022-10-26T02:22:36.965847Z"
    },
    "papermill": {
     "duration": 129.544539,
     "end_time": "2022-10-26T02:22:36.975790",
     "exception": false,
     "start_time": "2022-10-26T02:20:27.431251",
     "status": "completed"
    },
    "tags": []
   },
   "outputs": [
    {
     "data": {
      "text/plain": [
       "0.9763"
      ]
     },
     "execution_count": 12,
     "metadata": {},
     "output_type": "execute_result"
    }
   ],
   "source": [
    "knn.fit(X_train_augmented, y_train_augmented)\n",
    "knn.score(X_test, y_test)"
   ]
  }
 ],
 "metadata": {
  "kernelspec": {
   "display_name": "Python 3",
   "language": "python",
   "name": "python3"
  },
  "language_info": {
   "codemirror_mode": {
    "name": "ipython",
    "version": 3
   },
   "file_extension": ".py",
   "mimetype": "text/x-python",
   "name": "python",
   "nbconvert_exporter": "python",
   "pygments_lexer": "ipython3",
   "version": "3.7.12"
  },
  "papermill": {
   "default_parameters": {},
   "duration": 255.324237,
   "end_time": "2022-10-26T02:22:38.010510",
   "environment_variables": {},
   "exception": null,
   "input_path": "__notebook__.ipynb",
   "output_path": "__notebook__.ipynb",
   "parameters": {},
   "start_time": "2022-10-26T02:18:22.686273",
   "version": "2.3.4"
  }
 },
 "nbformat": 4,
 "nbformat_minor": 5
}
