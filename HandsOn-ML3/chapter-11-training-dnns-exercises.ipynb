{
 "cells": [
  {
   "cell_type": "markdown",
   "id": "cae9fa82",
   "metadata": {
    "papermill": {
     "duration": 0.006136,
     "end_time": "2022-12-04T19:32:23.840850",
     "exception": false,
     "start_time": "2022-12-04T19:32:23.834714",
     "status": "completed"
    },
    "tags": []
   },
   "source": [
    "1. What is the problem that Glorot initialization and He initialization aim to ﬁx?\n",
    "\n",
    "    The gradient vanishing and explosion problems: a way to significantly alleviate the unstable gradients problem. They point out that we need the signal to ﬂow properly in both directions: in the forward direction when making predictions, and in the reverse direction when backpropagating gradients. We don’t want the signal to die out, nor do we want it to explode and saturate.\n",
    "    \n",
    "    Glorot initialization and He initialization were designed to make the output standard deviation as close as possible to the input standard deviation, at least at the beginning of training. This reduces the vanishing/exploding gradients problem."
   ]
  },
  {
   "cell_type": "markdown",
   "id": "009357af",
   "metadata": {
    "papermill": {
     "duration": 0.004654,
     "end_time": "2022-12-04T19:32:23.850640",
     "exception": false,
     "start_time": "2022-12-04T19:32:23.845986",
     "status": "completed"
    },
    "tags": []
   },
   "source": [
    "2. Is it OK to initialize all the weights to the same value as long as that value is selected randomly using He initialization?\n",
    "\n",
    "    No, all weights should be sampled independently; they should not all have the same initial value. One important goal of sampling weights randomly is to break symmetry: if all the weights have the same initial value, even if that value is not zero, then symmetry is not broken (i.e., all neurons in a given layer are equivalent), and backpropagation will be unable to break it. Concretely, this means that all the neurons in any given layer will always have the same weights. It's like having just one neuron per layer, and much slower. It is virtually impossible for such a configuration to converge to a good solution."
   ]
  },
  {
   "cell_type": "markdown",
   "id": "4d9a0a7c",
   "metadata": {
    "papermill": {
     "duration": 0.004576,
     "end_time": "2022-12-04T19:32:23.860155",
     "exception": false,
     "start_time": "2022-12-04T19:32:23.855579",
     "status": "completed"
    },
    "tags": []
   },
   "source": [
    "3. Is it OK to initialize the bias terms to 0?\n",
    "\n",
    "    It is perfectly fine to initialize the bias terms to zero. Some people like to initialize them just like weights, and that's OK too; it does not make much difference."
   ]
  },
  {
   "cell_type": "markdown",
   "id": "08703db1",
   "metadata": {
    "papermill": {
     "duration": 0.004603,
     "end_time": "2022-12-04T19:32:23.869685",
     "exception": false,
     "start_time": "2022-12-04T19:32:23.865082",
     "status": "completed"
    },
    "tags": []
   },
   "source": [
    "4. In which cases would you want to use each of the activation functions we discussed in this chapter?\n",
    "\n",
    "    ReLU remains a good default for simple tasks: it’s often just as good as the more sophisticated activation functions, plus it’s very fast to compute, and many libraries and hardware accelerators provide ReLUspeciﬁc optimizations. ReLU is usually a good default for the hidden layers, as it is fast and yields good results. Its ability to output precisely zero can also be useful in some cases (e.g., see Chapter 17). Moreover, it can sometimes benefit from optimized implementations as well as from hardware acceleration. \n",
    "    \n",
    "    If you care a lot about runtime latency, then you may prefer leaky ReLU, or parametrized leaky ReLU for more complex tasks. The leaky ReLU variants of ReLU can improve the model's quality without hindering its speed too much compared to ReLU.\n",
    "    \n",
    "    For large neural nets and more complex problems, GLU, Swish and Mish can give you a slightly higher quality model, but they have a computational cost. Swish is probably a better default for more complex tasks, and you can even try parametrized Swish with a learnable β parameter for the most complex tasks. Mish may give you slightly better results, but it requires a bit more compute. \n",
    "    \n",
    "    For deep MLPs, give SELU a try, but make sure to respect the constraints listed earlier. If you have spare time and computing power, you can use cross-validation to evaluate other activation functions as well.\n",
    "    \n",
    "    The hyperbolic tangent (tanh) can be useful in the output layer if you need to output a number in a fixed range (by default between –1 and 1), but nowadays it is not used much in hidden layers, except in recurrent nets.\n",
    "      \n",
    "    The sigmoid activation function is also useful in the output layer when you need to estimate a probability (e.g., for binary classification), but it is rarely used in hidden layers (there are exceptions—for example, for the coding layer of variational autoencoders; see Chapter 17).\n",
    "\n",
    "    The softplus activation function is useful in the output layer when you need to ensure that the output will always be positive. The softmax activation function is useful in the output layer to estimate probabilities for mutually exclusive classes, but it is rarely (if ever) used in hidden layers."
   ]
  },
  {
   "cell_type": "markdown",
   "id": "03eb9d9c",
   "metadata": {
    "papermill": {
     "duration": 0.004677,
     "end_time": "2022-12-04T19:32:23.879367",
     "exception": false,
     "start_time": "2022-12-04T19:32:23.874690",
     "status": "completed"
    },
    "tags": []
   },
   "source": [
    "5. What may happen if you set the momentum hyperparameter too close to 1 (e.g., 0.99999) when using an SGD optimizer?\n",
    "\n",
    "    Too much friction which will take too long to converge.\n",
    "    \n",
    "    If you set the momentum hyperparameter too close to 1 (e.g., 0.99999) when using an SGD optimizer, then the algorithm will likely pick up a lot of speed, hopefully moving roughly toward the global minimum, but its momentum will carry it right past the minimum. Then it will slow down and come back, accelerate again, overshoot again, and so on. It may oscillate this way many times before converging, so overall it will take much longer to converge than with a smaller momentum value."
   ]
  },
  {
   "cell_type": "markdown",
   "id": "1bcf1c8c",
   "metadata": {
    "papermill": {
     "duration": 0.004718,
     "end_time": "2022-12-04T19:32:23.889056",
     "exception": false,
     "start_time": "2022-12-04T19:32:23.884338",
     "status": "completed"
    },
    "tags": []
   },
   "source": [
    "6. Name three ways you can produce a sparse model.\n",
    "\n",
    "    - Set the tiny weights to 0\n",
    "    - Apply strong l1 regularization\n",
    "    - Use the pruning API in the TensorFlow Model Optimization Toolkit (TF-MOT)"
   ]
  },
  {
   "cell_type": "markdown",
   "id": "8c07e76e",
   "metadata": {
    "papermill": {
     "duration": 0.00475,
     "end_time": "2022-12-04T19:32:23.898871",
     "exception": false,
     "start_time": "2022-12-04T19:32:23.894121",
     "status": "completed"
    },
    "tags": []
   },
   "source": [
    "7. Does dropout slow down training? Does it slow down inference (i.e., making predictions on new instances)? What about MC dropout?\n",
    "\n",
    "    Yes, dropout does slow down training, in general roughly by a factor of two. However, it has no impact on inference speed since it is only turned on during training. \n",
    "    \n",
    "    MC Dropout is exactly like dropout during training, but it is still active during inference, so each inference is slowed down slightly. More importantly, when using MC Dropout you generally want to run inference 10 times or more to get better predictions. This means that making predictions is slowed down by a factor of 10 or more."
   ]
  },
  {
   "cell_type": "markdown",
   "id": "a03f40ec",
   "metadata": {
    "papermill": {
     "duration": 0.005001,
     "end_time": "2022-12-04T19:32:23.908753",
     "exception": false,
     "start_time": "2022-12-04T19:32:23.903752",
     "status": "completed"
    },
    "tags": []
   },
   "source": [
    "8. Practice training a deep neural network on the CIFAR10 image dataset:\n",
    "\n",
    "    a. Build a DNN with 20 hidden layers of 100 neurons each (that’s too many, but it’s the point of this exercise). Use He initialization and the Swish activation function.\n",
    "    \n",
    "    b. Using Nadam optimization and early stopping, train the network on the CIFAR10 dataset. You can load it with tf.keras.datasets.cifar10.load_data(). The dataset is composed of 60,000 32 × 32–pixel color images (50,000 for training, 10,000 for testing) with 10 classes, so you’ll need a softmax output layer with 10 neurons. Remember to search for the right learning rate each time you change the model’s architecture or hyperparameters."
   ]
  },
  {
   "cell_type": "code",
   "execution_count": 1,
   "id": "71378bf6",
   "metadata": {
    "execution": {
     "iopub.execute_input": "2022-12-04T19:32:23.922417Z",
     "iopub.status.busy": "2022-12-04T19:32:23.921349Z",
     "iopub.status.idle": "2022-12-04T19:32:29.801214Z",
     "shell.execute_reply": "2022-12-04T19:32:29.799832Z"
    },
    "papermill": {
     "duration": 5.889884,
     "end_time": "2022-12-04T19:32:29.804199",
     "exception": false,
     "start_time": "2022-12-04T19:32:23.914315",
     "status": "completed"
    },
    "tags": []
   },
   "outputs": [],
   "source": [
    "import sys\n",
    "assert sys.version_info >= (3, 7)\n",
    "from packaging import version\n",
    "import tensorflow as tf\n",
    "import matplotlib.pyplot as plt\n",
    "import numpy as np\n",
    "import pandas as pd\n",
    "\n",
    "from pathlib import Path\n",
    "\n",
    "IMAGES_PATH = Path() / \"images\" / \"deep\"\n",
    "IMAGES_PATH.mkdir(parents=True, exist_ok=True)\n",
    "\n",
    "def save_fig(fig_id, tight_layout=True, fig_extension=\"png\", resolution=300):\n",
    "    path = IMAGES_PATH / f\"{fig_id}.{fig_extension}\"\n",
    "    if tight_layout:\n",
    "        plt.tight_layout()\n",
    "    plt.savefig(path, format=fig_extension, dpi=resolution)"
   ]
  },
  {
   "cell_type": "code",
   "execution_count": 2,
   "id": "ff03e91f",
   "metadata": {
    "execution": {
     "iopub.execute_input": "2022-12-04T19:32:29.816783Z",
     "iopub.status.busy": "2022-12-04T19:32:29.815819Z",
     "iopub.status.idle": "2022-12-04T19:32:43.525684Z",
     "shell.execute_reply": "2022-12-04T19:32:43.523958Z"
    },
    "papermill": {
     "duration": 13.719402,
     "end_time": "2022-12-04T19:32:43.528708",
     "exception": false,
     "start_time": "2022-12-04T19:32:29.809306",
     "status": "completed"
    },
    "tags": []
   },
   "outputs": [
    {
     "name": "stdout",
     "output_type": "stream",
     "text": [
      "\u001b[33mWARNING: Running pip as the 'root' user can result in broken permissions and conflicting behaviour with the system package manager. It is recommended to use a virtual environment instead: https://pip.pypa.io/warnings/venv\u001b[0m\u001b[33m\r\n",
      "\u001b[0mNote: you may need to restart the kernel to use updated packages.\n"
     ]
    }
   ],
   "source": [
    "%pip install -q -U tensorboard-plugin-profile"
   ]
  },
  {
   "cell_type": "code",
   "execution_count": 3,
   "id": "3dbc02aa",
   "metadata": {
    "execution": {
     "iopub.execute_input": "2022-12-04T19:32:43.541134Z",
     "iopub.status.busy": "2022-12-04T19:32:43.540708Z",
     "iopub.status.idle": "2022-12-04T19:32:52.034091Z",
     "shell.execute_reply": "2022-12-04T19:32:52.032746Z"
    },
    "papermill": {
     "duration": 8.503063,
     "end_time": "2022-12-04T19:32:52.036972",
     "exception": false,
     "start_time": "2022-12-04T19:32:43.533909",
     "status": "completed"
    },
    "tags": []
   },
   "outputs": [
    {
     "name": "stdout",
     "output_type": "stream",
     "text": [
      "Downloading data from https://www.cs.toronto.edu/~kriz/cifar-10-python.tar.gz\n",
      "170500096/170498071 [==============================] - 5s 0us/step\n",
      "170508288/170498071 [==============================] - 5s 0us/step\n"
     ]
    }
   ],
   "source": [
    "cifar10 = tf.keras.datasets.cifar10.load_data()\n",
    "\n",
    "(X_train_full, y_train_full), (X_test, y_test) = cifar10\n",
    "\n",
    "X_train = X_train_full[5000:]\n",
    "y_train = y_train_full[5000:]\n",
    "X_valid = X_train_full[:5000]\n",
    "y_valid = y_train_full[:5000]"
   ]
  },
  {
   "cell_type": "code",
   "execution_count": 4,
   "id": "2ea14b19",
   "metadata": {
    "execution": {
     "iopub.execute_input": "2022-12-04T19:32:52.064278Z",
     "iopub.status.busy": "2022-12-04T19:32:52.063718Z",
     "iopub.status.idle": "2022-12-04T19:32:52.639464Z",
     "shell.execute_reply": "2022-12-04T19:32:52.638361Z"
    },
    "papermill": {
     "duration": 0.592251,
     "end_time": "2022-12-04T19:32:52.642188",
     "exception": false,
     "start_time": "2022-12-04T19:32:52.049937",
     "status": "completed"
    },
    "tags": []
   },
   "outputs": [
    {
     "name": "stderr",
     "output_type": "stream",
     "text": [
      "2022-12-04 19:32:52.108722: I tensorflow/core/common_runtime/process_util.cc:146] Creating new thread pool with default inter op setting: 2. Tune using inter_op_parallelism_threads for best performance.\n"
     ]
    }
   ],
   "source": [
    "tf.random.set_seed(42)\n",
    "model = tf.keras.Sequential()\n",
    "model.add(tf.keras.layers.Flatten(input_shape=[32, 32, 3]))\n",
    "for layer in range(20):\n",
    "    model.add(tf.keras.layers.Dense(100, activation=\"swish\",\n",
    "                              kernel_initializer=\"he_normal\"))\n",
    "model.add(tf.keras.layers.Dense(10, activation=\"softmax\"))\n",
    "# model.summary()\n",
    "\n",
    "optimizer = tf.keras.optimizers.Nadam(learning_rate=5e-5)"
   ]
  },
  {
   "cell_type": "code",
   "execution_count": 5,
   "id": "dd59ab17",
   "metadata": {
    "execution": {
     "iopub.execute_input": "2022-12-04T19:32:52.668579Z",
     "iopub.status.busy": "2022-12-04T19:32:52.667432Z",
     "iopub.status.idle": "2022-12-04T19:32:52.690312Z",
     "shell.execute_reply": "2022-12-04T19:32:52.688825Z"
    },
    "papermill": {
     "duration": 0.039858,
     "end_time": "2022-12-04T19:32:52.693620",
     "exception": false,
     "start_time": "2022-12-04T19:32:52.653762",
     "status": "completed"
    },
    "tags": []
   },
   "outputs": [
    {
     "name": "stderr",
     "output_type": "stream",
     "text": [
      "2022-12-04 19:32:52.684418: I tensorflow/core/profiler/lib/profiler_session.cc:131] Profiler session initializing.\n",
      "2022-12-04 19:32:52.684885: I tensorflow/core/profiler/lib/profiler_session.cc:146] Profiler session started.\n",
      "2022-12-04 19:32:52.686177: I tensorflow/core/profiler/lib/profiler_session.cc:164] Profiler session tear down.\n"
     ]
    }
   ],
   "source": [
    "model.compile(loss=\"sparse_categorical_crossentropy\", optimizer=optimizer,\n",
    "                  metrics=[\"accuracy\"])\n",
    "\n",
    "early_stopping_cb = tf.keras.callbacks.EarlyStopping(patience=20, restore_best_weights=True)\n",
    "model_checkpoint_cb = tf.keras.callbacks.ModelCheckpoint(\"my_cifar10_model\", save_best_only=True)\n",
    "\n",
    "run_index = 1 # increment every time you train the model\n",
    "run_logdir = Path() / \"my_cifar10_logs\" / f\"run_{run_index:03d}\"\n",
    "tensorboard_cb = tf.keras.callbacks.TensorBoard(run_logdir)\n",
    "\n",
    "callbacks = [early_stopping_cb, model_checkpoint_cb, tensorboard_cb]\n",
    "\n",
    "# %load_ext tensorboard\n",
    "# %tensorboard --logdir=./my_cifar10_logs"
   ]
  },
  {
   "cell_type": "code",
   "execution_count": 6,
   "id": "974bc974",
   "metadata": {
    "execution": {
     "iopub.execute_input": "2022-12-04T19:32:52.717907Z",
     "iopub.status.busy": "2022-12-04T19:32:52.717421Z",
     "iopub.status.idle": "2022-12-04T19:32:52.722551Z",
     "shell.execute_reply": "2022-12-04T19:32:52.721298Z"
    },
    "papermill": {
     "duration": 0.019953,
     "end_time": "2022-12-04T19:32:52.724914",
     "exception": false,
     "start_time": "2022-12-04T19:32:52.704961",
     "status": "completed"
    },
    "tags": []
   },
   "outputs": [],
   "source": [
    "# history = model.fit(X_train, y_train, epochs=100, validation_data=(X_valid, y_valid), callbacks=callbacks)"
   ]
  },
  {
   "cell_type": "code",
   "execution_count": 7,
   "id": "19b53334",
   "metadata": {
    "execution": {
     "iopub.execute_input": "2022-12-04T19:32:52.748922Z",
     "iopub.status.busy": "2022-12-04T19:32:52.748537Z",
     "iopub.status.idle": "2022-12-04T19:32:52.753066Z",
     "shell.execute_reply": "2022-12-04T19:32:52.751860Z"
    },
    "papermill": {
     "duration": 0.019474,
     "end_time": "2022-12-04T19:32:52.755388",
     "exception": false,
     "start_time": "2022-12-04T19:32:52.735914",
     "status": "completed"
    },
    "tags": []
   },
   "outputs": [],
   "source": [
    "# pd.DataFrame(history.history).plot(\n",
    "#     figsize=(8, 5), xlim=[0, 29], ylim=[0, 1], grid=True, xlabel=\"Epoch\", style=[\"r--\", \"r--.\", \"b-\", \"b-*\"])\n",
    "\n",
    "# plt.show()"
   ]
  },
  {
   "cell_type": "markdown",
   "id": "e2299382",
   "metadata": {
    "papermill": {
     "duration": 0.01051,
     "end_time": "2022-12-04T19:32:52.776740",
     "exception": false,
     "start_time": "2022-12-04T19:32:52.766230",
     "status": "completed"
    },
    "tags": []
   },
   "source": [
    "    "
   ]
  },
  {
   "cell_type": "markdown",
   "id": "db593d9b",
   "metadata": {
    "papermill": {
     "duration": 0.011433,
     "end_time": "2022-12-04T19:32:52.800192",
     "exception": false,
     "start_time": "2022-12-04T19:32:52.788759",
     "status": "completed"
    },
    "tags": []
   },
   "source": [
    "    c. Now try adding batch normalization and compare the learning curves: is it converging faster than before? Does it produce a better model? How does it aﬀect training speed?"
   ]
  },
  {
   "cell_type": "markdown",
   "id": "2f308a83",
   "metadata": {
    "papermill": {
     "duration": 0.010749,
     "end_time": "2022-12-04T19:32:52.822221",
     "exception": false,
     "start_time": "2022-12-04T19:32:52.811472",
     "status": "completed"
    },
    "tags": []
   },
   "source": [
    "    d. Try replacing batch normalization with SELU, and make the necessary adjustments to ensure the network selfnormalizes (i.e., standardize the input features, use LeCun normal initialization, make sure the DNN contains only a sequence of dense layers, etc.)."
   ]
  },
  {
   "cell_type": "markdown",
   "id": "48dccb89",
   "metadata": {
    "papermill": {
     "duration": 0.010595,
     "end_time": "2022-12-04T19:32:52.843746",
     "exception": false,
     "start_time": "2022-12-04T19:32:52.833151",
     "status": "completed"
    },
    "tags": []
   },
   "source": [
    "    e. Try regularizing the model with alpha dropout. Then, without retraining your model, see if you can achieve better accuracy using MC dropout. "
   ]
  },
  {
   "cell_type": "markdown",
   "id": "7f437c5a",
   "metadata": {
    "papermill": {
     "duration": 0.011445,
     "end_time": "2022-12-04T19:32:52.866148",
     "exception": false,
     "start_time": "2022-12-04T19:32:52.854703",
     "status": "completed"
    },
    "tags": []
   },
   "source": [
    "    f. Retrain your model using 1cycle scheduling and see if it improves training speed and model accuracy."
   ]
  },
  {
   "cell_type": "code",
   "execution_count": null,
   "id": "b08ec3ba",
   "metadata": {
    "papermill": {
     "duration": 0.011673,
     "end_time": "2022-12-04T19:32:52.889550",
     "exception": false,
     "start_time": "2022-12-04T19:32:52.877877",
     "status": "completed"
    },
    "tags": []
   },
   "outputs": [],
   "source": []
  }
 ],
 "metadata": {
  "kernelspec": {
   "display_name": "Python 3",
   "language": "python",
   "name": "python3"
  },
  "language_info": {
   "codemirror_mode": {
    "name": "ipython",
    "version": 3
   },
   "file_extension": ".py",
   "mimetype": "text/x-python",
   "name": "python",
   "nbconvert_exporter": "python",
   "pygments_lexer": "ipython3",
   "version": "3.7.12"
  },
  "papermill": {
   "default_parameters": {},
   "duration": 43.29807,
   "end_time": "2022-12-04T19:32:56.183049",
   "environment_variables": {},
   "exception": null,
   "input_path": "__notebook__.ipynb",
   "output_path": "__notebook__.ipynb",
   "parameters": {},
   "start_time": "2022-12-04T19:32:12.884979",
   "version": "2.3.4"
  }
 },
 "nbformat": 4,
 "nbformat_minor": 5
}
