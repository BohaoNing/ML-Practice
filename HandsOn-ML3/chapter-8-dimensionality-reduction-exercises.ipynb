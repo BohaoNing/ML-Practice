{
 "cells": [
  {
   "cell_type": "markdown",
   "id": "56b789cf",
   "metadata": {
    "_cell_guid": "b1076dfc-b9ad-4769-8c92-a6c4dae69d19",
    "_uuid": "8f2839f25d086af736a60e9eeb907d3b93b6e0e5",
    "papermill": {
     "duration": 0.003828,
     "end_time": "2022-11-07T00:50:24.134396",
     "exception": false,
     "start_time": "2022-11-07T00:50:24.130568",
     "status": "completed"
    },
    "tags": []
   },
   "source": [
    "1. What are the main motivations for reducing a dataset’s dimensionality? What are the main drawbacks?\n",
    "\n",
    "    The main motivations for dimensionality reduction are:\n",
    "    To speed up a subsequent training algorithm (in some cases it may even remove noise and redundant features, making the training algorithm perform better)\n",
    "    To visualize the data and gain insights on the most important features\n",
    "    To save space (compression)\n",
    "\n",
    "    The main drawbacks are:\n",
    "    Some information is lost, possibly degrading the performance of subsequent training algorithms.\n",
    "    It can be computationally intensive.\n",
    "    It adds some complexity to your Machine Learning pipelines.\n",
    "    Transformed features are often hard to interpret."
   ]
  },
  {
   "cell_type": "markdown",
   "id": "43f42f0b",
   "metadata": {
    "_cell_guid": "b1076dfc-b9ad-4769-8c92-a6c4dae69d19",
    "_uuid": "8f2839f25d086af736a60e9eeb907d3b93b6e0e5",
    "papermill": {
     "duration": 0.002423,
     "end_time": "2022-11-07T00:50:24.139842",
     "exception": false,
     "start_time": "2022-11-07T00:50:24.137419",
     "status": "completed"
    },
    "tags": []
   },
   "source": [
    "2. What is the curse of dimensionality?\n",
    "\n",
    "    The curse of dimensionality refers to the fact that many problems that do not exist in low-dimensional space arise in high-dimensional space.\n",
    "    In Machine Learning, one common manifestation is the fact that randomly sampled high-dimensional vectors are generally far from one another, increasing the risk of overfitting and making it very difficult to identify patterns without having plenty of training data."
   ]
  },
  {
   "cell_type": "markdown",
   "id": "999bc021",
   "metadata": {
    "_cell_guid": "b1076dfc-b9ad-4769-8c92-a6c4dae69d19",
    "_uuid": "8f2839f25d086af736a60e9eeb907d3b93b6e0e5",
    "papermill": {
     "duration": 0.002387,
     "end_time": "2022-11-07T00:50:24.144931",
     "exception": false,
     "start_time": "2022-11-07T00:50:24.142544",
     "status": "completed"
    },
    "tags": []
   },
   "source": [
    "3. Once a dataset’s dimensionality has been reduced, is it possible to reverse the operation? If so, how? If not, why?\n",
    "\n",
    "   It is almost always impossible to perfectly reverse the operation, because some information gets lost during dimensionality reduction.\n",
    "   Moreover, while some algorithms (such as PCA) have a simple reverse transformation procedure that can reconstruct a dataset relatively similar to the original, other algorithms (such as t-SNE) do not."
   ]
  },
  {
   "cell_type": "markdown",
   "id": "2b33a8ac",
   "metadata": {
    "_cell_guid": "b1076dfc-b9ad-4769-8c92-a6c4dae69d19",
    "_uuid": "8f2839f25d086af736a60e9eeb907d3b93b6e0e5",
    "papermill": {
     "duration": 0.002391,
     "end_time": "2022-11-07T00:50:24.149980",
     "exception": false,
     "start_time": "2022-11-07T00:50:24.147589",
     "status": "completed"
    },
    "tags": []
   },
   "source": [
    "4. Can PCA be used to reduce the dimensionality of a highly nonlinear dataset?\n",
    "\n",
    "    PCA can be used to significantly reduce the dimensionality of most datasets, even if they are highly nonlinear, because it can at least get rid of useless dimensions. However, if there are no useless dimensions—as in the Swiss roll dataset—then reducing dimensionality with PCA will lose too much information. You want to unroll the Swiss roll, not squash it."
   ]
  },
  {
   "cell_type": "markdown",
   "id": "c93689e9",
   "metadata": {
    "_cell_guid": "b1076dfc-b9ad-4769-8c92-a6c4dae69d19",
    "_uuid": "8f2839f25d086af736a60e9eeb907d3b93b6e0e5",
    "papermill": {
     "duration": 0.002453,
     "end_time": "2022-11-07T00:50:24.155088",
     "exception": false,
     "start_time": "2022-11-07T00:50:24.152635",
     "status": "completed"
    },
    "tags": []
   },
   "source": [
    "5. Suppose you perform PCA on a 1,000-dimensional dataset, setting the explained variance ratio to 95%. How many dimensions will the resulting dataset have?\n",
    "\n",
    "    It depends on the dataset, and it could be any number between 1 and 950. Plotting the explained variance as a function of the number of dimensions is one way to get a rough idea of the dataset's intrinsic dimensionality."
   ]
  },
  {
   "cell_type": "markdown",
   "id": "1e0c74f4",
   "metadata": {
    "_cell_guid": "b1076dfc-b9ad-4769-8c92-a6c4dae69d19",
    "_uuid": "8f2839f25d086af736a60e9eeb907d3b93b6e0e5",
    "papermill": {
     "duration": 0.002377,
     "end_time": "2022-11-07T00:50:24.160100",
     "exception": false,
     "start_time": "2022-11-07T00:50:24.157723",
     "status": "completed"
    },
    "tags": []
   },
   "source": [
    "6. In what cases would you use regular PCA, incremental PCA, randomized PCA, or random projection?\n",
    "\n",
    "    Regular PCA is the default, but it works only if the dataset fits in memory. \n",
    "    \n",
    "    Incremental PCA is useful for large datasets that don't fit in memory, but it is slower than regular PCA, so if the dataset fits in memory you should prefer regular PCA. Incremental PCA is also useful for online tasks, when you need to apply PCA on the fly, every time a new instance arrives. \n",
    "    \n",
    "    Randomized PCA is useful when you want to considerably reduce dimensionality and the dataset fits in memory; in this case, it is much faster than regular PCA. \n",
    "    \n",
    "    Finally, Random Projection is great for very high-dimensional datasets."
   ]
  },
  {
   "cell_type": "markdown",
   "id": "2fc99c99",
   "metadata": {
    "_cell_guid": "b1076dfc-b9ad-4769-8c92-a6c4dae69d19",
    "_uuid": "8f2839f25d086af736a60e9eeb907d3b93b6e0e5",
    "papermill": {
     "duration": 0.002337,
     "end_time": "2022-11-07T00:50:24.165049",
     "exception": false,
     "start_time": "2022-11-07T00:50:24.162712",
     "status": "completed"
    },
    "tags": []
   },
   "source": [
    "7. How can you evaluate the performance of a dimensionality reduction algorithm on your dataset?\n",
    "\n",
    "   Intuitively, a dimensionality reduction algorithm performs well if it eliminates a lot of dimensions from the dataset without losing too much information. One way to measure this is to apply the reverse transformation and measure the reconstruction error. However, not all dimensionality reduction algorithms provide a reverse transformation.\n",
    "   \n",
    "   Alternatively, if you are using dimensionality reduction as a preprocessing step before another Machine Learning algorithm (e.g., a Random Forest classifier), then you can simply measure the performance of that second algorithm; if dimensionality reduction did not lose too much information, then the algorithm should perform just as well as when using the original dataset."
   ]
  },
  {
   "cell_type": "markdown",
   "id": "73926b55",
   "metadata": {
    "_cell_guid": "b1076dfc-b9ad-4769-8c92-a6c4dae69d19",
    "_uuid": "8f2839f25d086af736a60e9eeb907d3b93b6e0e5",
    "papermill": {
     "duration": 0.002335,
     "end_time": "2022-11-07T00:50:24.170023",
     "exception": false,
     "start_time": "2022-11-07T00:50:24.167688",
     "status": "completed"
    },
    "tags": []
   },
   "source": [
    "8. Does it make any sense to chain two diﬀerent dimensionality reduction algorithms?\n",
    "\n",
    "    It can absolutely make sense to chain two different dimensionality reduction algorithms. A common example is using PCA or Random Projection to quickly get rid of a large number of useless dimensions, then applying another much slower dimensionality reduction algorithm, such as LLE. This two-step approach will likely yield roughly the same performance as using LLE only, but in a fraction of the time."
   ]
  },
  {
   "cell_type": "markdown",
   "id": "5c5227eb",
   "metadata": {
    "_cell_guid": "b1076dfc-b9ad-4769-8c92-a6c4dae69d19",
    "_uuid": "8f2839f25d086af736a60e9eeb907d3b93b6e0e5",
    "papermill": {
     "duration": 0.002411,
     "end_time": "2022-11-07T00:50:24.175032",
     "exception": false,
     "start_time": "2022-11-07T00:50:24.172621",
     "status": "completed"
    },
    "tags": []
   },
   "source": [
    "9. Load the MNIST dataset (introduced in Chapter 3) and split it into a training set and a test set (take the ﬁrst 60,000 instances for training, and the remaining 10,000 for testing). Train a random forest classiﬁer on the dataset and time how long it takes, then evaluate the resulting model on the test set. Next, use PCA to reduce the dataset’s dimensionality, with an explained variance ratio of 95%. Train a new random forest classiﬁer on the reduced dataset and see how long it takes. Was training much faster? Next, evaluate the classiﬁer on the test set. How does it compare to the previous classiﬁer? Try again with an SGDClassifier. How much does PCA help now?"
   ]
  },
  {
   "cell_type": "markdown",
   "id": "b2aebaa1",
   "metadata": {
    "_cell_guid": "b1076dfc-b9ad-4769-8c92-a6c4dae69d19",
    "_uuid": "8f2839f25d086af736a60e9eeb907d3b93b6e0e5",
    "papermill": {
     "duration": 0.002339,
     "end_time": "2022-11-07T00:50:24.179951",
     "exception": false,
     "start_time": "2022-11-07T00:50:24.177612",
     "status": "completed"
    },
    "tags": []
   },
   "source": [
    "10. Use t-SNE to reduce the ﬁrst 5,000 images of the MNIST dataset down to 2 dimensions and plot the result using Matplotlib. You can use a scatterplot using 10 diﬀerent colors to represent each image’s target class. Alternatively, you can replace each dot in the scatterplot with the corresponding instance’s class (a digit from 0 to 9), or even plot scaled-down versions of the digit images themselves (if you plot all digits the visualization will be too cluttered, so you should either draw a random sample or plot an instance only if no other instance has already been plotted at a close distance). You should get a nice visualization with wellseparated clusters of digits. Try using other dimensionality reduction algorithms, such as PCA, LLE, or MDS, and compare the resulting visualizations."
   ]
  }
 ],
 "metadata": {
  "kernelspec": {
   "display_name": "Python 3",
   "language": "python",
   "name": "python3"
  },
  "language_info": {
   "codemirror_mode": {
    "name": "ipython",
    "version": 3
   },
   "file_extension": ".py",
   "mimetype": "text/x-python",
   "name": "python",
   "nbconvert_exporter": "python",
   "pygments_lexer": "ipython3",
   "version": "3.7.12"
  },
  "papermill": {
   "default_parameters": {},
   "duration": 9.012691,
   "end_time": "2022-11-07T00:50:24.805409",
   "environment_variables": {},
   "exception": null,
   "input_path": "__notebook__.ipynb",
   "output_path": "__notebook__.ipynb",
   "parameters": {},
   "start_time": "2022-11-07T00:50:15.792718",
   "version": "2.3.4"
  }
 },
 "nbformat": 4,
 "nbformat_minor": 5
}
