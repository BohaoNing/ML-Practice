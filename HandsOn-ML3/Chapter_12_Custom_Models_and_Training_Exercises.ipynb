{
  "nbformat": 4,
  "nbformat_minor": 0,
  "metadata": {
    "colab": {
      "provenance": [],
      "authorship_tag": "ABX9TyMIRJZNzfICSTI2jn9hjAmK",
      "include_colab_link": true
    },
    "kernelspec": {
      "name": "python3",
      "display_name": "Python 3"
    },
    "language_info": {
      "name": "python"
    }
  },
  "cells": [
    {
      "cell_type": "markdown",
      "metadata": {
        "id": "view-in-github",
        "colab_type": "text"
      },
      "source": [
        "<a href=\"https://colab.research.google.com/github/BohaoNing/ML-Practice/blob/main/HandsOn-ML3/Chapter_12_Custom_Models_and_Training_Exercises.ipynb\" target=\"_parent\"><img src=\"https://colab.research.google.com/assets/colab-badge.svg\" alt=\"Open In Colab\"/></a>"
      ]
    },
    {
      "cell_type": "markdown",
      "source": [
        "1. How would you describe TensorFlow in a short sentence? What are its main features? Can you name other popular deep learning libraries?\n",
        "\n",
        "2. Is TensorFlow a drop-in replacement for NumPy? What are the main diﬀerences between the two?\n",
        "\n",
        "3. Do you get the same result with tf.range(10) and tf.constant(np.arange(10))?\n",
        "\n",
        "4. Can you name six other data structures available in TensorFlow, beyond regular tensors?\n",
        "\n",
        "5. You can deﬁne a custom loss function by writing a function or by subclassing the tf.keras.losses.Loss class. When would you use each option?\n",
        "\n",
        "6. Similarly, you can deﬁne a custom metric in a function or as a subclass of tf.keras.metrics.Metric. When would you use each option?\n",
        "\n",
        "7. When should you create a custom layer versus a custom model?\n",
        "\n",
        "8. What are some use cases that require writing your own custom training loop?\n",
        "\n",
        "9. Can custom Keras components contain arbitrary Python code, or must they be convertible to TF functions?\n",
        "\n",
        "10. What are the main rules to respect if you want a function to be convertible to a TF function?\n",
        "\n",
        "11. When would you need to create a dynamic Keras model? How do you do that? Why not make all your models dynamic?"
      ],
      "metadata": {
        "id": "F1TlIvA1ILwG"
      }
    },
    {
      "cell_type": "markdown",
      "source": [
        "\n",
        "\n",
        "12. Implement a custom layer that performs layer normalization (we will use this type of layer in Chapter 15):\n",
        "\n",
        "  a. The build() method should deﬁne two trainable weights α and β, both of shape input_shape[-1:] and data type tf.float32. α should be initialized with 1s, and β with 0s.\n",
        "\n",
        "  b. The call() method should compute the mean μ and standard deviation σ of each instance’s features. For this, you can use tf.nn.moments(inputs, axes=-1, keepdims=True), which returns the mean μ and the variance σ 2 of all instances (compute the square root of the variance to get the standard deviation). Then the function should compute and return α ⊗ (X – μ)/(σ + ε) + β, where ⊗ represents itemwise multiplication (*) and ε is a smoothing term (a small constant to avoid division by zero, e.g., 0.001).\n",
        "\n",
        "  c. Ensure that your custom layer produces the same (or very nearly the same) output as the tf.keras.layers.LayerNormalization layer."
      ],
      "metadata": {
        "id": "KLbqzFK-IP9X"
      }
    },
    {
      "cell_type": "markdown",
      "source": [
        "13. Train a model using a custom training loop to tackle the Fashion MNIST dataset (see Chapter 10):\n",
        "\n",
        "  a. Display the epoch, iteration, mean training loss, and mean accuracy over each epoch (updated at each iteration), as well as the validation loss and accuracy at the end of each epoch.\n",
        "\n",
        "  b. Try using a diﬀerent optimizer with a diﬀerent learning rate for the upper layers and the lower layers."
      ],
      "metadata": {
        "id": "SUpRucUxIdL2"
      }
    },
    {
      "cell_type": "code",
      "source": [],
      "metadata": {
        "id": "uFuW52YaIQab"
      },
      "execution_count": null,
      "outputs": []
    }
  ]
}