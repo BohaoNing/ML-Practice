{
 "cells": [
  {
   "cell_type": "markdown",
   "id": "64c65df7",
   "metadata": {
    "papermill": {
     "duration": 0.025814,
     "end_time": "2022-10-29T23:49:31.896262",
     "exception": false,
     "start_time": "2022-10-29T23:49:31.870448",
     "status": "completed"
    },
    "tags": []
   },
   "source": [
    "**Support Vector Machines**"
   ]
  },
  {
   "cell_type": "markdown",
   "id": "faf74a3a",
   "metadata": {
    "papermill": {
     "duration": 0.021882,
     "end_time": "2022-10-29T23:49:31.940020",
     "exception": false,
     "start_time": "2022-10-29T23:49:31.918138",
     "status": "completed"
    },
    "tags": []
   },
   "source": [
    "_This notebook contains all the sample code and solutions to the exercises in chapter 5._"
   ]
  },
  {
   "cell_type": "markdown",
   "id": "222713c7",
   "metadata": {
    "papermill": {
     "duration": 0.021367,
     "end_time": "2022-10-29T23:49:31.983048",
     "exception": false,
     "start_time": "2022-10-29T23:49:31.961681",
     "status": "completed"
    },
    "tags": []
   },
   "source": [
    "<table align=\"left\">\n",
    "  <td>\n",
    "    <a href=\"https://colab.research.google.com/github/ageron/handson-ml3/blob/main/05_support_vector_machines.ipynb\" target=\"_parent\"><img src=\"https://colab.research.google.com/assets/colab-badge.svg\" alt=\"Open In Colab\"/></a>\n",
    "  </td>\n",
    "  <td>\n",
    "    <a target=\"_blank\" href=\"https://kaggle.com/kernels/welcome?src=https://github.com/ageron/handson-ml3/blob/main/05_support_vector_machines.ipynb\"><img src=\"https://kaggle.com/static/images/open-in-kaggle.svg\" /></a>\n",
    "  </td>\n",
    "</table>"
   ]
  },
  {
   "cell_type": "markdown",
   "id": "8ae29173",
   "metadata": {
    "papermill": {
     "duration": 0.022274,
     "end_time": "2022-10-29T23:49:32.028685",
     "exception": false,
     "start_time": "2022-10-29T23:49:32.006411",
     "status": "completed"
    },
    "tags": []
   },
   "source": [
    "# Setup"
   ]
  },
  {
   "cell_type": "markdown",
   "id": "af634cbb",
   "metadata": {
    "papermill": {
     "duration": 0.021571,
     "end_time": "2022-10-29T23:49:32.074785",
     "exception": false,
     "start_time": "2022-10-29T23:49:32.053214",
     "status": "completed"
    },
    "tags": []
   },
   "source": [
    "This project requires Python 3.7 or above:"
   ]
  },
  {
   "cell_type": "code",
   "execution_count": 1,
   "id": "bf1e433b",
   "metadata": {
    "execution": {
     "iopub.execute_input": "2022-10-29T23:49:32.121007Z",
     "iopub.status.busy": "2022-10-29T23:49:32.120401Z",
     "iopub.status.idle": "2022-10-29T23:49:32.132683Z",
     "shell.execute_reply": "2022-10-29T23:49:32.131961Z"
    },
    "papermill": {
     "duration": 0.038089,
     "end_time": "2022-10-29T23:49:32.135004",
     "exception": false,
     "start_time": "2022-10-29T23:49:32.096915",
     "status": "completed"
    },
    "tags": []
   },
   "outputs": [],
   "source": [
    "import sys\n",
    "\n",
    "assert sys.version_info >= (3, 7)"
   ]
  },
  {
   "cell_type": "markdown",
   "id": "bdf5dac3",
   "metadata": {
    "papermill": {
     "duration": 0.02128,
     "end_time": "2022-10-29T23:49:32.178140",
     "exception": false,
     "start_time": "2022-10-29T23:49:32.156860",
     "status": "completed"
    },
    "tags": []
   },
   "source": [
    "It also requires Scikit-Learn ≥ 1.0.1:"
   ]
  },
  {
   "cell_type": "code",
   "execution_count": 2,
   "id": "36f2760d",
   "metadata": {
    "execution": {
     "iopub.execute_input": "2022-10-29T23:49:32.222863Z",
     "iopub.status.busy": "2022-10-29T23:49:32.222456Z",
     "iopub.status.idle": "2022-10-29T23:49:33.178332Z",
     "shell.execute_reply": "2022-10-29T23:49:33.177078Z"
    },
    "papermill": {
     "duration": 0.981572,
     "end_time": "2022-10-29T23:49:33.181017",
     "exception": false,
     "start_time": "2022-10-29T23:49:32.199445",
     "status": "completed"
    },
    "tags": []
   },
   "outputs": [],
   "source": [
    "from packaging import version\n",
    "import sklearn\n",
    "\n",
    "assert version.parse(sklearn.__version__) >= version.parse(\"1.0.1\")"
   ]
  },
  {
   "cell_type": "markdown",
   "id": "482dfac9",
   "metadata": {
    "papermill": {
     "duration": 0.027469,
     "end_time": "2022-10-29T23:49:33.230322",
     "exception": false,
     "start_time": "2022-10-29T23:49:33.202853",
     "status": "completed"
    },
    "tags": []
   },
   "source": [
    "As we did in previous chapters, let's define the default font sizes to make the figures prettier:"
   ]
  },
  {
   "cell_type": "code",
   "execution_count": 3,
   "id": "e6bba56b",
   "metadata": {
    "execution": {
     "iopub.execute_input": "2022-10-29T23:49:33.278025Z",
     "iopub.status.busy": "2022-10-29T23:49:33.277123Z",
     "iopub.status.idle": "2022-10-29T23:49:33.284127Z",
     "shell.execute_reply": "2022-10-29T23:49:33.283123Z"
    },
    "papermill": {
     "duration": 0.032135,
     "end_time": "2022-10-29T23:49:33.286328",
     "exception": false,
     "start_time": "2022-10-29T23:49:33.254193",
     "status": "completed"
    },
    "tags": []
   },
   "outputs": [],
   "source": [
    "import matplotlib.pyplot as plt\n",
    "\n",
    "plt.rc('font', size=14)\n",
    "plt.rc('axes', labelsize=14, titlesize=14)\n",
    "plt.rc('legend', fontsize=14)\n",
    "plt.rc('xtick', labelsize=10)\n",
    "plt.rc('ytick', labelsize=10)"
   ]
  },
  {
   "cell_type": "markdown",
   "id": "9f234054",
   "metadata": {
    "papermill": {
     "duration": 0.022924,
     "end_time": "2022-10-29T23:49:33.335590",
     "exception": false,
     "start_time": "2022-10-29T23:49:33.312666",
     "status": "completed"
    },
    "tags": []
   },
   "source": [
    "And let's create the `images/svm` folder (if it doesn't already exist), and define the `save_fig()` function which is used through this notebook to save the figures in high-res for the book:"
   ]
  },
  {
   "cell_type": "code",
   "execution_count": 4,
   "id": "100f3f01",
   "metadata": {
    "execution": {
     "iopub.execute_input": "2022-10-29T23:49:33.381848Z",
     "iopub.status.busy": "2022-10-29T23:49:33.381394Z",
     "iopub.status.idle": "2022-10-29T23:49:33.389069Z",
     "shell.execute_reply": "2022-10-29T23:49:33.387688Z"
    },
    "papermill": {
     "duration": 0.033886,
     "end_time": "2022-10-29T23:49:33.391701",
     "exception": false,
     "start_time": "2022-10-29T23:49:33.357815",
     "status": "completed"
    },
    "tags": []
   },
   "outputs": [],
   "source": [
    "from pathlib import Path\n",
    "\n",
    "IMAGES_PATH = Path() / \"images\" / \"svm\"\n",
    "IMAGES_PATH.mkdir(parents=True, exist_ok=True)\n",
    "\n",
    "def save_fig(fig_id, tight_layout=True, fig_extension=\"png\", resolution=300):\n",
    "    path = IMAGES_PATH / f\"{fig_id}.{fig_extension}\"\n",
    "    if tight_layout:\n",
    "        plt.tight_layout()\n",
    "    plt.savefig(path, format=fig_extension, dpi=resolution)"
   ]
  },
  {
   "cell_type": "markdown",
   "id": "b17c9f13",
   "metadata": {
    "papermill": {
     "duration": 0.02092,
     "end_time": "2022-10-29T23:49:33.435550",
     "exception": false,
     "start_time": "2022-10-29T23:49:33.414630",
     "status": "completed"
    },
    "tags": []
   },
   "source": [
    "# Linear SVM Classification"
   ]
  },
  {
   "cell_type": "markdown",
   "id": "a5403b47",
   "metadata": {
    "papermill": {
     "duration": 0.020801,
     "end_time": "2022-10-29T23:49:33.478289",
     "exception": false,
     "start_time": "2022-10-29T23:49:33.457488",
     "status": "completed"
    },
    "tags": []
   },
   "source": [
    "The book starts with a few figures, before the first code example, so the next three cells generate and save these figures. You can skip them if you want."
   ]
  },
  {
   "cell_type": "code",
   "execution_count": 5,
   "id": "0be3b636",
   "metadata": {
    "execution": {
     "iopub.execute_input": "2022-10-29T23:49:33.522354Z",
     "iopub.status.busy": "2022-10-29T23:49:33.521959Z",
     "iopub.status.idle": "2022-10-29T23:49:34.596938Z",
     "shell.execute_reply": "2022-10-29T23:49:34.595911Z"
    },
    "papermill": {
     "duration": 1.10031,
     "end_time": "2022-10-29T23:49:34.599784",
     "exception": false,
     "start_time": "2022-10-29T23:49:33.499474",
     "status": "completed"
    },
    "tags": []
   },
   "outputs": [
    {
     "data": {
      "image/png": "[encoded data removed]",
      "text/plain": [
       "<Figure size 720x194.4 with 2 Axes>"
      ]
     },
     "metadata": {
      "needs_background": "light"
     },
     "output_type": "display_data"
    }
   ],
   "source": [
    "# extra code – this cell generates and saves Figure 5–1\n",
    "\n",
    "import matplotlib.pyplot as plt\n",
    "import numpy as np\n",
    "from sklearn.svm import SVC\n",
    "from sklearn import datasets\n",
    "\n",
    "iris = datasets.load_iris(as_frame=True)\n",
    "X = iris.data[[\"petal length (cm)\", \"petal width (cm)\"]].values\n",
    "y = iris.target\n",
    "\n",
    "setosa_or_versicolor = (y == 0) | (y == 1)\n",
    "X = X[setosa_or_versicolor]\n",
    "y = y[setosa_or_versicolor]\n",
    "\n",
    "# SVM Classifier model\n",
    "svm_clf = SVC(kernel=\"linear\", C=float(\"inf\"))\n",
    "svm_clf.fit(X, y)\n",
    "\n",
    "# Bad models\n",
    "x0 = np.linspace(0, 5.5, 200)\n",
    "pred_1 = 5 * x0 - 20\n",
    "pred_2 = x0 - 1.8\n",
    "pred_3 = 0.1 * x0 + 0.5\n",
    "\n",
    "def plot_svc_decision_boundary(svm_clf, xmin, xmax):\n",
    "    w = svm_clf.coef_[0]\n",
    "    b = svm_clf.intercept_[0]\n",
    "\n",
    "    # At the decision boundary, w0*x0 + w1*x1 + b = 0\n",
    "    # => x1 = -w0/w1 * x0 - b/w1\n",
    "    x0 = np.linspace(xmin, xmax, 200)\n",
    "    decision_boundary = -w[0] / w[1] * x0 - b / w[1]\n",
    "\n",
    "    margin = 1/w[1]\n",
    "    gutter_up = decision_boundary + margin\n",
    "    gutter_down = decision_boundary - margin\n",
    "    svs = svm_clf.support_vectors_\n",
    "\n",
    "    plt.plot(x0, decision_boundary, \"k-\", linewidth=2, zorder=-2)\n",
    "    plt.plot(x0, gutter_up, \"k--\", linewidth=2, zorder=-2)\n",
    "    plt.plot(x0, gutter_down, \"k--\", linewidth=2, zorder=-2)\n",
    "    plt.scatter(svs[:, 0], svs[:, 1], s=180, facecolors='#AAA',\n",
    "                zorder=-1)\n",
    "\n",
    "fig, axes = plt.subplots(ncols=2, figsize=(10, 2.7), sharey=True)\n",
    "\n",
    "plt.sca(axes[0])\n",
    "plt.plot(x0, pred_1, \"g--\", linewidth=2)\n",
    "plt.plot(x0, pred_2, \"m-\", linewidth=2)\n",
    "plt.plot(x0, pred_3, \"r-\", linewidth=2)\n",
    "plt.plot(X[:, 0][y==1], X[:, 1][y==1], \"bs\", label=\"Iris versicolor\")\n",
    "plt.plot(X[:, 0][y==0], X[:, 1][y==0], \"yo\", label=\"Iris setosa\")\n",
    "plt.xlabel(\"Petal length\")\n",
    "plt.ylabel(\"Petal width\")\n",
    "plt.legend(loc=\"upper left\")\n",
    "plt.axis([0, 5.5, 0, 2])\n",
    "plt.gca().set_aspect(\"equal\")\n",
    "plt.grid()\n",
    "\n",
    "plt.sca(axes[1])\n",
    "plot_svc_decision_boundary(svm_clf, 0, 5.5)\n",
    "plt.plot(X[:, 0][y==1], X[:, 1][y==1], \"bs\")\n",
    "plt.plot(X[:, 0][y==0], X[:, 1][y==0], \"yo\")\n",
    "plt.xlabel(\"Petal length\")\n",
    "plt.axis([0, 5.5, 0, 2])\n",
    "plt.gca().set_aspect(\"equal\")\n",
    "plt.grid()\n",
    "\n",
    "save_fig(\"large_margin_classification_plot\")\n",
    "plt.show()"
   ]
  },
  {
   "cell_type": "code",
   "execution_count": 6,
   "id": "1389ac55",
   "metadata": {
    "execution": {
     "iopub.execute_input": "2022-10-29T23:49:34.646427Z",
     "iopub.status.busy": "2022-10-29T23:49:34.645963Z",
     "iopub.status.idle": "2022-10-29T23:49:35.782421Z",
     "shell.execute_reply": "2022-10-29T23:49:35.781313Z"
    },
    "papermill": {
     "duration": 1.162984,
     "end_time": "2022-10-29T23:49:35.785123",
     "exception": false,
     "start_time": "2022-10-29T23:49:34.622139",
     "status": "completed"
    },
    "tags": []
   },
   "outputs": [
    {
     "data": {
      "image/png": "[encoded data removed]",
      "text/plain": [
       "<Figure size 648x194.4 with 2 Axes>"
      ]
     },
     "metadata": {
      "needs_background": "light"
     },
     "output_type": "display_data"
    }
   ],
   "source": [
    "# extra code – this cell generates and saves Figure 5–2\n",
    "\n",
    "from sklearn.preprocessing import StandardScaler\n",
    "\n",
    "Xs = np.array([[1, 50], [5, 20], [3, 80], [5, 60]]).astype(np.float64)\n",
    "ys = np.array([0, 0, 1, 1])\n",
    "svm_clf = SVC(kernel=\"linear\", C=100).fit(Xs, ys)\n",
    "\n",
    "scaler = StandardScaler()\n",
    "X_scaled = scaler.fit_transform(Xs)\n",
    "svm_clf_scaled = SVC(kernel=\"linear\", C=100).fit(X_scaled, ys)\n",
    "\n",
    "plt.figure(figsize=(9, 2.7))\n",
    "plt.subplot(121)\n",
    "plt.plot(Xs[:, 0][ys==1], Xs[:, 1][ys==1], \"bo\")\n",
    "plt.plot(Xs[:, 0][ys==0], Xs[:, 1][ys==0], \"ms\")\n",
    "plot_svc_decision_boundary(svm_clf, 0, 6)\n",
    "plt.xlabel(\"$x_0$\")\n",
    "plt.ylabel(\"$x_1$    \", rotation=0)\n",
    "plt.title(\"Unscaled\")\n",
    "plt.axis([0, 6, 0, 90])\n",
    "plt.grid()\n",
    "\n",
    "plt.subplot(122)\n",
    "plt.plot(X_scaled[:, 0][ys==1], X_scaled[:, 1][ys==1], \"bo\")\n",
    "plt.plot(X_scaled[:, 0][ys==0], X_scaled[:, 1][ys==0], \"ms\")\n",
    "plot_svc_decision_boundary(svm_clf_scaled, -2, 2)\n",
    "plt.xlabel(\"$x'_0$\")\n",
    "plt.ylabel(\"$x'_1$  \", rotation=0)\n",
    "plt.title(\"Scaled\")\n",
    "plt.axis([-2, 2, -2, 2])\n",
    "plt.grid()\n",
    "\n",
    "save_fig(\"sensitivity_to_feature_scales_plot\")\n",
    "plt.show()"
   ]
  },
  {
   "cell_type": "markdown",
   "id": "7d4796cf",
   "metadata": {
    "papermill": {
     "duration": 0.022564,
     "end_time": "2022-10-29T23:49:35.830691",
     "exception": false,
     "start_time": "2022-10-29T23:49:35.808127",
     "status": "completed"
    },
    "tags": []
   },
   "source": [
    "## Soft Margin Classification"
   ]
  },
  {
   "cell_type": "code",
   "execution_count": 7,
   "id": "17c48eff",
   "metadata": {
    "execution": {
     "iopub.execute_input": "2022-10-29T23:49:35.878179Z",
     "iopub.status.busy": "2022-10-29T23:49:35.877488Z",
     "iopub.status.idle": "2022-10-29T23:49:36.782919Z",
     "shell.execute_reply": "2022-10-29T23:49:36.781770Z"
    },
    "papermill": {
     "duration": 0.932691,
     "end_time": "2022-10-29T23:49:36.785696",
     "exception": false,
     "start_time": "2022-10-29T23:49:35.853005",
     "status": "completed"
    },
    "tags": []
   },
   "outputs": [
    {
     "data": {
      "image/png": "[encoded data removed]",
      "text/plain": [
       "<Figure size 720x194.4 with 2 Axes>"
      ]
     },
     "metadata": {
      "needs_background": "light"
     },
     "output_type": "display_data"
    }
   ],
   "source": [
    "# extra code – this cell generates and saves Figure 5–3\n",
    "\n",
    "X_outliers = np.array([[3.4, 1.3], [3.2, 0.8]])\n",
    "y_outliers = np.array([0, 0])\n",
    "Xo1 = np.concatenate([X, X_outliers[:1]], axis=0)\n",
    "yo1 = np.concatenate([y, y_outliers[:1]], axis=0)\n",
    "Xo2 = np.concatenate([X, X_outliers[1:]], axis=0)\n",
    "yo2 = np.concatenate([y, y_outliers[1:]], axis=0)\n",
    "\n",
    "svm_clf2 = SVC(kernel=\"linear\", C=10**9)\n",
    "svm_clf2.fit(Xo2, yo2)\n",
    "\n",
    "fig, axes = plt.subplots(ncols=2, figsize=(10, 2.7), sharey=True)\n",
    "\n",
    "plt.sca(axes[0])\n",
    "plt.plot(Xo1[:, 0][yo1==1], Xo1[:, 1][yo1==1], \"bs\")\n",
    "plt.plot(Xo1[:, 0][yo1==0], Xo1[:, 1][yo1==0], \"yo\")\n",
    "plt.text(0.3, 1.0, \"Impossible!\", color=\"red\", fontsize=18)\n",
    "plt.xlabel(\"Petal length\")\n",
    "plt.ylabel(\"Petal width\")\n",
    "plt.annotate(\n",
    "    \"Outlier\",\n",
    "    xy=(X_outliers[0][0], X_outliers[0][1]),\n",
    "    xytext=(2.5, 1.7),\n",
    "    ha=\"center\",\n",
    "    arrowprops=dict(facecolor='black', shrink=0.1),\n",
    ")\n",
    "plt.axis([0, 5.5, 0, 2])\n",
    "plt.grid()\n",
    "\n",
    "plt.sca(axes[1])\n",
    "plt.plot(Xo2[:, 0][yo2==1], Xo2[:, 1][yo2==1], \"bs\")\n",
    "plt.plot(Xo2[:, 0][yo2==0], Xo2[:, 1][yo2==0], \"yo\")\n",
    "plot_svc_decision_boundary(svm_clf2, 0, 5.5)\n",
    "plt.xlabel(\"Petal length\")\n",
    "plt.annotate(\n",
    "    \"Outlier\",\n",
    "    xy=(X_outliers[1][0], X_outliers[1][1]),\n",
    "    xytext=(3.2, 0.08),\n",
    "    ha=\"center\",\n",
    "    arrowprops=dict(facecolor='black', shrink=0.1),\n",
    ")\n",
    "plt.axis([0, 5.5, 0, 2])\n",
    "plt.grid()\n",
    "\n",
    "save_fig(\"sensitivity_to_outliers_plot\")\n",
    "plt.show()"
   ]
  },
  {
   "cell_type": "code",
   "execution_count": 8,
   "id": "75437370",
   "metadata": {
    "execution": {
     "iopub.execute_input": "2022-10-29T23:49:36.835276Z",
     "iopub.status.busy": "2022-10-29T23:49:36.834899Z",
     "iopub.status.idle": "2022-10-29T23:49:36.859746Z",
     "shell.execute_reply": "2022-10-29T23:49:36.858829Z"
    },
    "papermill": {
     "duration": 0.05235,
     "end_time": "2022-10-29T23:49:36.862183",
     "exception": false,
     "start_time": "2022-10-29T23:49:36.809833",
     "status": "completed"
    },
    "tags": []
   },
   "outputs": [
    {
     "data": {
      "text/plain": [
       "Pipeline(steps=[('standardscaler', StandardScaler()),\n",
       "                ('linearsvc', LinearSVC(C=1, random_state=42))])"
      ]
     },
     "execution_count": 8,
     "metadata": {},
     "output_type": "execute_result"
    }
   ],
   "source": [
    "import numpy as np\n",
    "from sklearn.datasets import load_iris\n",
    "from sklearn.pipeline import make_pipeline\n",
    "from sklearn.preprocessing import StandardScaler\n",
    "from sklearn.svm import LinearSVC\n",
    "\n",
    "iris = load_iris(as_frame=True)\n",
    "X = iris.data[[\"petal length (cm)\", \"petal width (cm)\"]].values\n",
    "y = (iris.target == 2)  # Iris virginica\n",
    "\n",
    "svm_clf = make_pipeline(StandardScaler(),\n",
    "                        LinearSVC(C=1, random_state=42))\n",
    "svm_clf.fit(X, y)"
   ]
  },
  {
   "cell_type": "code",
   "execution_count": 9,
   "id": "67a38de2",
   "metadata": {
    "execution": {
     "iopub.execute_input": "2022-10-29T23:49:36.912393Z",
     "iopub.status.busy": "2022-10-29T23:49:36.911797Z",
     "iopub.status.idle": "2022-10-29T23:49:36.920512Z",
     "shell.execute_reply": "2022-10-29T23:49:36.919392Z"
    },
    "papermill": {
     "duration": 0.03608,
     "end_time": "2022-10-29T23:49:36.922713",
     "exception": false,
     "start_time": "2022-10-29T23:49:36.886633",
     "status": "completed"
    },
    "tags": []
   },
   "outputs": [
    {
     "data": {
      "text/plain": [
       "array([ True, False])"
      ]
     },
     "execution_count": 9,
     "metadata": {},
     "output_type": "execute_result"
    }
   ],
   "source": [
    "X_new = [[5.5, 1.7], [5.0, 1.5]]\n",
    "svm_clf.predict(X_new)"
   ]
  },
  {
   "cell_type": "code",
   "execution_count": 10,
   "id": "40b2fcb5",
   "metadata": {
    "execution": {
     "iopub.execute_input": "2022-10-29T23:49:36.973441Z",
     "iopub.status.busy": "2022-10-29T23:49:36.972930Z",
     "iopub.status.idle": "2022-10-29T23:49:36.981352Z",
     "shell.execute_reply": "2022-10-29T23:49:36.980208Z"
    },
    "papermill": {
     "duration": 0.035892,
     "end_time": "2022-10-29T23:49:36.983544",
     "exception": false,
     "start_time": "2022-10-29T23:49:36.947652",
     "status": "completed"
    },
    "tags": []
   },
   "outputs": [
    {
     "data": {
      "text/plain": [
       "array([ 0.66163411, -0.22036063])"
      ]
     },
     "execution_count": 10,
     "metadata": {},
     "output_type": "execute_result"
    }
   ],
   "source": [
    "svm_clf.decision_function(X_new)"
   ]
  },
  {
   "cell_type": "code",
   "execution_count": 11,
   "id": "6dafb8c9",
   "metadata": {
    "execution": {
     "iopub.execute_input": "2022-10-29T23:49:37.034566Z",
     "iopub.status.busy": "2022-10-29T23:49:37.033518Z",
     "iopub.status.idle": "2022-10-29T23:49:37.980149Z",
     "shell.execute_reply": "2022-10-29T23:49:37.979395Z"
    },
    "papermill": {
     "duration": 0.974482,
     "end_time": "2022-10-29T23:49:37.982312",
     "exception": false,
     "start_time": "2022-10-29T23:49:37.007830",
     "status": "completed"
    },
    "tags": []
   },
   "outputs": [
    {
     "data": {
      "image/png": "[encoded data removed]",
      "text/plain": [
       "<Figure size 720x194.4 with 2 Axes>"
      ]
     },
     "metadata": {
      "needs_background": "light"
     },
     "output_type": "display_data"
    }
   ],
   "source": [
    "# extra code – this cell generates and saves Figure 5–4\n",
    "\n",
    "scaler = StandardScaler()\n",
    "svm_clf1 = LinearSVC(C=1, max_iter=10_000, random_state=42)\n",
    "svm_clf2 = LinearSVC(C=100, max_iter=10_000, random_state=42)\n",
    "\n",
    "scaled_svm_clf1 = make_pipeline(scaler, svm_clf1)\n",
    "scaled_svm_clf2 = make_pipeline(scaler, svm_clf2)\n",
    "\n",
    "scaled_svm_clf1.fit(X, y)\n",
    "scaled_svm_clf2.fit(X, y)\n",
    "\n",
    "# Convert to unscaled parameters\n",
    "b1 = svm_clf1.decision_function([-scaler.mean_ / scaler.scale_])\n",
    "b2 = svm_clf2.decision_function([-scaler.mean_ / scaler.scale_])\n",
    "w1 = svm_clf1.coef_[0] / scaler.scale_\n",
    "w2 = svm_clf2.coef_[0] / scaler.scale_\n",
    "svm_clf1.intercept_ = np.array([b1])\n",
    "svm_clf2.intercept_ = np.array([b2])\n",
    "svm_clf1.coef_ = np.array([w1])\n",
    "svm_clf2.coef_ = np.array([w2])\n",
    "\n",
    "# Find support vectors (LinearSVC does not do this automatically)\n",
    "t = y * 2 - 1\n",
    "support_vectors_idx1 = (t * (X.dot(w1) + b1) < 1).ravel()\n",
    "support_vectors_idx2 = (t * (X.dot(w2) + b2) < 1).ravel()\n",
    "svm_clf1.support_vectors_ = X[support_vectors_idx1]\n",
    "svm_clf2.support_vectors_ = X[support_vectors_idx2]\n",
    "\n",
    "fig, axes = plt.subplots(ncols=2, figsize=(10, 2.7), sharey=True)\n",
    "\n",
    "plt.sca(axes[0])\n",
    "plt.plot(X[:, 0][y==1], X[:, 1][y==1], \"g^\", label=\"Iris virginica\")\n",
    "plt.plot(X[:, 0][y==0], X[:, 1][y==0], \"bs\", label=\"Iris versicolor\")\n",
    "plot_svc_decision_boundary(svm_clf1, 4, 5.9)\n",
    "plt.xlabel(\"Petal length\")\n",
    "plt.ylabel(\"Petal width\")\n",
    "plt.legend(loc=\"upper left\")\n",
    "plt.title(f\"$C = {svm_clf1.C}$\")\n",
    "plt.axis([4, 5.9, 0.8, 2.8])\n",
    "plt.grid()\n",
    "\n",
    "plt.sca(axes[1])\n",
    "plt.plot(X[:, 0][y==1], X[:, 1][y==1], \"g^\")\n",
    "plt.plot(X[:, 0][y==0], X[:, 1][y==0], \"bs\")\n",
    "plot_svc_decision_boundary(svm_clf2, 4, 5.99)\n",
    "plt.xlabel(\"Petal length\")\n",
    "plt.title(f\"$C = {svm_clf2.C}$\")\n",
    "plt.axis([4, 5.9, 0.8, 2.8])\n",
    "plt.grid()\n",
    "\n",
    "save_fig(\"regularization_plot\")\n",
    "plt.show()"
   ]
  },
  {
   "cell_type": "markdown",
   "id": "17f0e80c",
   "metadata": {
    "papermill": {
     "duration": 0.023775,
     "end_time": "2022-10-29T23:49:38.030278",
     "exception": false,
     "start_time": "2022-10-29T23:49:38.006503",
     "status": "completed"
    },
    "tags": []
   },
   "source": [
    "# Nonlinear SVM Classification"
   ]
  },
  {
   "cell_type": "code",
   "execution_count": 12,
   "id": "401bce21",
   "metadata": {
    "execution": {
     "iopub.execute_input": "2022-10-29T23:49:38.081901Z",
     "iopub.status.busy": "2022-10-29T23:49:38.081220Z",
     "iopub.status.idle": "2022-10-29T23:49:38.744292Z",
     "shell.execute_reply": "2022-10-29T23:49:38.743165Z"
    },
    "papermill": {
     "duration": 0.692047,
     "end_time": "2022-10-29T23:49:38.746650",
     "exception": false,
     "start_time": "2022-10-29T23:49:38.054603",
     "status": "completed"
    },
    "tags": []
   },
   "outputs": [
    {
     "data": {
      "image/png": "[encoded data removed]",
      "text/plain": [
       "<Figure size 720x216 with 2 Axes>"
      ]
     },
     "metadata": {
      "needs_background": "light"
     },
     "output_type": "display_data"
    }
   ],
   "source": [
    "# extra code – this cell generates and saves Figure 5–5\n",
    "\n",
    "X1D = np.linspace(-4, 4, 9).reshape(-1, 1)\n",
    "X2D = np.c_[X1D, X1D**2]\n",
    "y = np.array([0, 0, 1, 1, 1, 1, 1, 0, 0])\n",
    "\n",
    "plt.figure(figsize=(10, 3))\n",
    "\n",
    "plt.subplot(121)\n",
    "plt.grid(True)\n",
    "plt.axhline(y=0, color='k')\n",
    "plt.plot(X1D[:, 0][y==0], np.zeros(4), \"bs\")\n",
    "plt.plot(X1D[:, 0][y==1], np.zeros(5), \"g^\")\n",
    "plt.gca().get_yaxis().set_ticks([])\n",
    "plt.xlabel(\"$x_1$\")\n",
    "plt.axis([-4.5, 4.5, -0.2, 0.2])\n",
    "\n",
    "plt.subplot(122)\n",
    "plt.grid(True)\n",
    "plt.axhline(y=0, color='k')\n",
    "plt.axvline(x=0, color='k')\n",
    "plt.plot(X2D[:, 0][y==0], X2D[:, 1][y==0], \"bs\")\n",
    "plt.plot(X2D[:, 0][y==1], X2D[:, 1][y==1], \"g^\")\n",
    "plt.xlabel(\"$x_1$\")\n",
    "plt.ylabel(\"$x_2$  \", rotation=0)\n",
    "plt.gca().get_yaxis().set_ticks([0, 4, 8, 12, 16])\n",
    "plt.plot([-4.5, 4.5], [6.5, 6.5], \"r--\", linewidth=3)\n",
    "plt.axis([-4.5, 4.5, -1, 17])\n",
    "\n",
    "plt.subplots_adjust(right=1)\n",
    "\n",
    "save_fig(\"higher_dimensions_plot\", tight_layout=False)\n",
    "plt.show()"
   ]
  },
  {
   "cell_type": "code",
   "execution_count": 13,
   "id": "92423b7e",
   "metadata": {
    "execution": {
     "iopub.execute_input": "2022-10-29T23:49:38.797881Z",
     "iopub.status.busy": "2022-10-29T23:49:38.797104Z",
     "iopub.status.idle": "2022-10-29T23:49:38.812581Z",
     "shell.execute_reply": "2022-10-29T23:49:38.811633Z"
    },
    "papermill": {
     "duration": 0.043491,
     "end_time": "2022-10-29T23:49:38.814876",
     "exception": false,
     "start_time": "2022-10-29T23:49:38.771385",
     "status": "completed"
    },
    "tags": []
   },
   "outputs": [
    {
     "data": {
      "text/plain": [
       "Pipeline(steps=[('polynomialfeatures', PolynomialFeatures(degree=3)),\n",
       "                ('standardscaler', StandardScaler()),\n",
       "                ('linearsvc',\n",
       "                 LinearSVC(C=10, max_iter=10000, random_state=42))])"
      ]
     },
     "execution_count": 13,
     "metadata": {},
     "output_type": "execute_result"
    }
   ],
   "source": [
    "from sklearn.datasets import make_moons\n",
    "from sklearn.preprocessing import PolynomialFeatures\n",
    "\n",
    "X, y = make_moons(n_samples=100, noise=0.15, random_state=42)\n",
    "\n",
    "polynomial_svm_clf = make_pipeline(\n",
    "    PolynomialFeatures(degree=3),\n",
    "    StandardScaler(),\n",
    "    LinearSVC(C=10, max_iter=10_000, random_state=42)\n",
    ")\n",
    "polynomial_svm_clf.fit(X, y)"
   ]
  },
  {
   "cell_type": "code",
   "execution_count": 14,
   "id": "eeaa1c69",
   "metadata": {
    "execution": {
     "iopub.execute_input": "2022-10-29T23:49:38.865792Z",
     "iopub.status.busy": "2022-10-29T23:49:38.865368Z",
     "iopub.status.idle": "2022-10-29T23:49:39.770820Z",
     "shell.execute_reply": "2022-10-29T23:49:39.769686Z"
    },
    "papermill": {
     "duration": 0.933723,
     "end_time": "2022-10-29T23:49:39.773207",
     "exception": false,
     "start_time": "2022-10-29T23:49:38.839484",
     "status": "completed"
    },
    "tags": []
   },
   "outputs": [
    {
     "data": {
      "image/png": "[encoded data removed]",
      "text/plain": [
       "<Figure size 432x288 with 1 Axes>"
      ]
     },
     "metadata": {
      "needs_background": "light"
     },
     "output_type": "display_data"
    }
   ],
   "source": [
    "# extra code – this cell generates and saves Figure 5–6\n",
    "\n",
    "def plot_dataset(X, y, axes):\n",
    "    plt.plot(X[:, 0][y==0], X[:, 1][y==0], \"bs\")\n",
    "    plt.plot(X[:, 0][y==1], X[:, 1][y==1], \"g^\")\n",
    "    plt.axis(axes)\n",
    "    plt.grid(True)\n",
    "    plt.xlabel(\"$x_1$\")\n",
    "    plt.ylabel(\"$x_2$\", rotation=0)\n",
    "\n",
    "def plot_predictions(clf, axes):\n",
    "    x0s = np.linspace(axes[0], axes[1], 100)\n",
    "    x1s = np.linspace(axes[2], axes[3], 100)\n",
    "    x0, x1 = np.meshgrid(x0s, x1s)\n",
    "    X = np.c_[x0.ravel(), x1.ravel()]\n",
    "    y_pred = clf.predict(X).reshape(x0.shape)\n",
    "    y_decision = clf.decision_function(X).reshape(x0.shape)\n",
    "    plt.contourf(x0, x1, y_pred, cmap=plt.cm.brg, alpha=0.2)\n",
    "    plt.contourf(x0, x1, y_decision, cmap=plt.cm.brg, alpha=0.1)\n",
    "\n",
    "plot_predictions(polynomial_svm_clf, [-1.5, 2.5, -1, 1.5])\n",
    "plot_dataset(X, y, [-1.5, 2.5, -1, 1.5])\n",
    "\n",
    "save_fig(\"moons_polynomial_svc_plot\")\n",
    "plt.show()"
   ]
  },
  {
   "cell_type": "markdown",
   "id": "c5d116c8",
   "metadata": {
    "papermill": {
     "duration": 0.024579,
     "end_time": "2022-10-29T23:49:39.822671",
     "exception": false,
     "start_time": "2022-10-29T23:49:39.798092",
     "status": "completed"
    },
    "tags": []
   },
   "source": [
    "## Polynomial Kernel"
   ]
  },
  {
   "cell_type": "code",
   "execution_count": 15,
   "id": "f3805b1f",
   "metadata": {
    "execution": {
     "iopub.execute_input": "2022-10-29T23:49:39.875091Z",
     "iopub.status.busy": "2022-10-29T23:49:39.874355Z",
     "iopub.status.idle": "2022-10-29T23:49:39.885771Z",
     "shell.execute_reply": "2022-10-29T23:49:39.884878Z"
    },
    "papermill": {
     "duration": 0.039904,
     "end_time": "2022-10-29T23:49:39.887888",
     "exception": false,
     "start_time": "2022-10-29T23:49:39.847984",
     "status": "completed"
    },
    "tags": []
   },
   "outputs": [
    {
     "data": {
      "text/plain": [
       "Pipeline(steps=[('standardscaler', StandardScaler()),\n",
       "                ('svc', SVC(C=5, coef0=1, kernel='poly'))])"
      ]
     },
     "execution_count": 15,
     "metadata": {},
     "output_type": "execute_result"
    }
   ],
   "source": [
    "from sklearn.svm import SVC\n",
    "\n",
    "poly_kernel_svm_clf = make_pipeline(StandardScaler(),\n",
    "                                    SVC(kernel=\"poly\", degree=3, coef0=1, C=5))\n",
    "poly_kernel_svm_clf.fit(X, y)"
   ]
  },
  {
   "cell_type": "code",
   "execution_count": 16,
   "id": "07a1c57d",
   "metadata": {
    "execution": {
     "iopub.execute_input": "2022-10-29T23:49:39.939938Z",
     "iopub.status.busy": "2022-10-29T23:49:39.939525Z",
     "iopub.status.idle": "2022-10-29T23:49:41.175699Z",
     "shell.execute_reply": "2022-10-29T23:49:41.174406Z"
    },
    "papermill": {
     "duration": 1.265174,
     "end_time": "2022-10-29T23:49:41.178240",
     "exception": false,
     "start_time": "2022-10-29T23:49:39.913066",
     "status": "completed"
    },
    "tags": []
   },
   "outputs": [
    {
     "data": {
      "image/png": "[encoded data removed]",
      "text/plain": [
       "<Figure size 756x288 with 2 Axes>"
      ]
     },
     "metadata": {
      "needs_background": "light"
     },
     "output_type": "display_data"
    }
   ],
   "source": [
    "# extra code – this cell generates and saves Figure 5–7\n",
    "\n",
    "poly100_kernel_svm_clf = make_pipeline(\n",
    "    StandardScaler(),\n",
    "    SVC(kernel=\"poly\", degree=10, coef0=100, C=5)\n",
    ")\n",
    "poly100_kernel_svm_clf.fit(X, y)\n",
    "\n",
    "fig, axes = plt.subplots(ncols=2, figsize=(10.5, 4), sharey=True)\n",
    "\n",
    "plt.sca(axes[0])\n",
    "plot_predictions(poly_kernel_svm_clf, [-1.5, 2.45, -1, 1.5])\n",
    "plot_dataset(X, y, [-1.5, 2.4, -1, 1.5])\n",
    "plt.title(\"degree=3, coef0=1, C=5\")\n",
    "\n",
    "plt.sca(axes[1])\n",
    "plot_predictions(poly100_kernel_svm_clf, [-1.5, 2.45, -1, 1.5])\n",
    "plot_dataset(X, y, [-1.5, 2.4, -1, 1.5])\n",
    "plt.title(\"degree=10, coef0=100, C=5\")\n",
    "plt.ylabel(\"\")\n",
    "\n",
    "save_fig(\"moons_kernelized_polynomial_svc_plot\")\n",
    "plt.show()"
   ]
  },
  {
   "cell_type": "markdown",
   "id": "d91a3aab",
   "metadata": {
    "papermill": {
     "duration": 0.027004,
     "end_time": "2022-10-29T23:49:41.232757",
     "exception": false,
     "start_time": "2022-10-29T23:49:41.205753",
     "status": "completed"
    },
    "tags": []
   },
   "source": [
    "## Similarity Features"
   ]
  },
  {
   "cell_type": "code",
   "execution_count": 17,
   "id": "f1e3cec0",
   "metadata": {
    "execution": {
     "iopub.execute_input": "2022-10-29T23:49:41.286674Z",
     "iopub.status.busy": "2022-10-29T23:49:41.285578Z",
     "iopub.status.idle": "2022-10-29T23:49:42.607305Z",
     "shell.execute_reply": "2022-10-29T23:49:42.606135Z"
    },
    "papermill": {
     "duration": 1.351312,
     "end_time": "2022-10-29T23:49:42.609852",
     "exception": false,
     "start_time": "2022-10-29T23:49:41.258540",
     "status": "completed"
    },
    "scrolled": true,
    "tags": []
   },
   "outputs": [
    {
     "data": {
      "image/png": "[encoded data removed]",
      "text/plain": [
       "<Figure size 756x288 with 2 Axes>"
      ]
     },
     "metadata": {
      "needs_background": "light"
     },
     "output_type": "display_data"
    }
   ],
   "source": [
    "# extra code – this cell generates and saves Figure 5–8\n",
    "\n",
    "def gaussian_rbf(x, landmark, gamma):\n",
    "    return np.exp(-gamma * np.linalg.norm(x - landmark, axis=1)**2)\n",
    "\n",
    "gamma = 0.3\n",
    "\n",
    "x1s = np.linspace(-4.5, 4.5, 200).reshape(-1, 1)\n",
    "x2s = gaussian_rbf(x1s, -2, gamma)\n",
    "x3s = gaussian_rbf(x1s, 1, gamma)\n",
    "\n",
    "XK = np.c_[gaussian_rbf(X1D, -2, gamma), gaussian_rbf(X1D, 1, gamma)]\n",
    "yk = np.array([0, 0, 1, 1, 1, 1, 1, 0, 0])\n",
    "\n",
    "plt.figure(figsize=(10.5, 4))\n",
    "\n",
    "plt.subplot(121)\n",
    "plt.grid(True)\n",
    "plt.axhline(y=0, color='k')\n",
    "plt.scatter(x=[-2, 1], y=[0, 0], s=150, alpha=0.5, c=\"red\")\n",
    "plt.plot(X1D[:, 0][yk==0], np.zeros(4), \"bs\")\n",
    "plt.plot(X1D[:, 0][yk==1], np.zeros(5), \"g^\")\n",
    "plt.plot(x1s, x2s, \"g--\")\n",
    "plt.plot(x1s, x3s, \"b:\")\n",
    "plt.gca().get_yaxis().set_ticks([0, 0.25, 0.5, 0.75, 1])\n",
    "plt.xlabel(\"$x_1$\")\n",
    "plt.ylabel(\"Similarity\")\n",
    "plt.annotate(\n",
    "    r'$\\mathbf{x}$',\n",
    "    xy=(X1D[3, 0], 0),\n",
    "    xytext=(-0.5, 0.20),\n",
    "    ha=\"center\",\n",
    "    arrowprops=dict(facecolor='black', shrink=0.1),\n",
    "    fontsize=16,\n",
    ")\n",
    "plt.text(-2, 0.9, \"$x_2$\", ha=\"center\", fontsize=15)\n",
    "plt.text(1, 0.9, \"$x_3$\", ha=\"center\", fontsize=15)\n",
    "plt.axis([-4.5, 4.5, -0.1, 1.1])\n",
    "\n",
    "plt.subplot(122)\n",
    "plt.grid(True)\n",
    "plt.axhline(y=0, color='k')\n",
    "plt.axvline(x=0, color='k')\n",
    "plt.plot(XK[:, 0][yk==0], XK[:, 1][yk==0], \"bs\")\n",
    "plt.plot(XK[:, 0][yk==1], XK[:, 1][yk==1], \"g^\")\n",
    "plt.xlabel(\"$x_2$\")\n",
    "plt.ylabel(\"$x_3$  \", rotation=0)\n",
    "plt.annotate(\n",
    "    r'$\\phi\\left(\\mathbf{x}\\right)$',\n",
    "    xy=(XK[3, 0], XK[3, 1]),\n",
    "    xytext=(0.65, 0.50),\n",
    "    ha=\"center\",\n",
    "    arrowprops=dict(facecolor='black', shrink=0.1),\n",
    "    fontsize=16,\n",
    ")\n",
    "plt.plot([-0.1, 1.1], [0.57, -0.1], \"r--\", linewidth=3)\n",
    "plt.axis([-0.1, 1.1, -0.1, 1.1])\n",
    "    \n",
    "plt.subplots_adjust(right=1)\n",
    "\n",
    "save_fig(\"kernel_method_plot\")\n",
    "plt.show()"
   ]
  },
  {
   "cell_type": "markdown",
   "id": "f4b19c1b",
   "metadata": {
    "papermill": {
     "duration": 0.025877,
     "end_time": "2022-10-29T23:49:42.661914",
     "exception": false,
     "start_time": "2022-10-29T23:49:42.636037",
     "status": "completed"
    },
    "tags": []
   },
   "source": [
    "## Gaussian RBF Kernel"
   ]
  },
  {
   "cell_type": "code",
   "execution_count": 18,
   "id": "a50cecbe",
   "metadata": {
    "execution": {
     "iopub.execute_input": "2022-10-29T23:49:42.717093Z",
     "iopub.status.busy": "2022-10-29T23:49:42.716435Z",
     "iopub.status.idle": "2022-10-29T23:49:42.727980Z",
     "shell.execute_reply": "2022-10-29T23:49:42.727116Z"
    },
    "papermill": {
     "duration": 0.04154,
     "end_time": "2022-10-29T23:49:42.729967",
     "exception": false,
     "start_time": "2022-10-29T23:49:42.688427",
     "status": "completed"
    },
    "tags": []
   },
   "outputs": [
    {
     "data": {
      "text/plain": [
       "Pipeline(steps=[('standardscaler', StandardScaler()),\n",
       "                ('svc', SVC(C=0.001, gamma=5))])"
      ]
     },
     "execution_count": 18,
     "metadata": {},
     "output_type": "execute_result"
    }
   ],
   "source": [
    "rbf_kernel_svm_clf = make_pipeline(StandardScaler(),\n",
    "                                   SVC(kernel=\"rbf\", gamma=5, C=0.001))\n",
    "rbf_kernel_svm_clf.fit(X, y)"
   ]
  },
  {
   "cell_type": "code",
   "execution_count": 19,
   "id": "ee6da639",
   "metadata": {
    "execution": {
     "iopub.execute_input": "2022-10-29T23:49:42.784563Z",
     "iopub.status.busy": "2022-10-29T23:49:42.783928Z",
     "iopub.status.idle": "2022-10-29T23:49:44.936763Z",
     "shell.execute_reply": "2022-10-29T23:49:44.935632Z"
    },
    "papermill": {
     "duration": 2.183283,
     "end_time": "2022-10-29T23:49:44.939594",
     "exception": false,
     "start_time": "2022-10-29T23:49:42.756311",
     "status": "completed"
    },
    "scrolled": true,
    "tags": []
   },
   "outputs": [
    {
     "data": {
      "image/png": "[encoded data removed]",
      "text/plain": [
       "<Figure size 756x504 with 4 Axes>"
      ]
     },
     "metadata": {
      "needs_background": "light"
     },
     "output_type": "display_data"
    }
   ],
   "source": [
    "# extra code – this cell generates and saves Figure 5–9\n",
    "\n",
    "from sklearn.svm import SVC\n",
    "\n",
    "gamma1, gamma2 = 0.1, 5\n",
    "C1, C2 = 0.001, 1000\n",
    "hyperparams = (gamma1, C1), (gamma1, C2), (gamma2, C1), (gamma2, C2)\n",
    "\n",
    "svm_clfs = []\n",
    "for gamma, C in hyperparams:\n",
    "    rbf_kernel_svm_clf = make_pipeline(\n",
    "        StandardScaler(),\n",
    "        SVC(kernel=\"rbf\", gamma=gamma, C=C)\n",
    "    )\n",
    "    rbf_kernel_svm_clf.fit(X, y)\n",
    "    svm_clfs.append(rbf_kernel_svm_clf)\n",
    "\n",
    "fig, axes = plt.subplots(nrows=2, ncols=2, figsize=(10.5, 7), sharex=True, sharey=True)\n",
    "\n",
    "for i, svm_clf in enumerate(svm_clfs):\n",
    "    plt.sca(axes[i // 2, i % 2])\n",
    "    plot_predictions(svm_clf, [-1.5, 2.45, -1, 1.5])\n",
    "    plot_dataset(X, y, [-1.5, 2.45, -1, 1.5])\n",
    "    gamma, C = hyperparams[i]\n",
    "    plt.title(f\"gamma={gamma}, C={C}\")\n",
    "    if i in (0, 1):\n",
    "        plt.xlabel(\"\")\n",
    "    if i in (1, 3):\n",
    "        plt.ylabel(\"\")\n",
    "\n",
    "save_fig(\"moons_rbf_svc_plot\")\n",
    "plt.show()"
   ]
  },
  {
   "cell_type": "markdown",
   "id": "64add84c",
   "metadata": {
    "papermill": {
     "duration": 0.028407,
     "end_time": "2022-10-29T23:49:44.997003",
     "exception": false,
     "start_time": "2022-10-29T23:49:44.968596",
     "status": "completed"
    },
    "tags": []
   },
   "source": [
    "# SVM Regression"
   ]
  },
  {
   "cell_type": "code",
   "execution_count": 20,
   "id": "027ff757",
   "metadata": {
    "execution": {
     "iopub.execute_input": "2022-10-29T23:49:45.056034Z",
     "iopub.status.busy": "2022-10-29T23:49:45.055039Z",
     "iopub.status.idle": "2022-10-29T23:49:45.069034Z",
     "shell.execute_reply": "2022-10-29T23:49:45.067746Z"
    },
    "papermill": {
     "duration": 0.046385,
     "end_time": "2022-10-29T23:49:45.071318",
     "exception": false,
     "start_time": "2022-10-29T23:49:45.024933",
     "status": "completed"
    },
    "tags": []
   },
   "outputs": [
    {
     "data": {
      "text/plain": [
       "Pipeline(steps=[('standardscaler', StandardScaler()),\n",
       "                ('linearsvr', LinearSVR(epsilon=0.5, random_state=42))])"
      ]
     },
     "execution_count": 20,
     "metadata": {},
     "output_type": "execute_result"
    }
   ],
   "source": [
    "from sklearn.svm import LinearSVR\n",
    "\n",
    "# extra code – these 3 lines generate a simple linear dataset\n",
    "np.random.seed(42)\n",
    "X = 2 * np.random.rand(50, 1)\n",
    "y = 4 + 3 * X[:, 0] + np.random.randn(50)\n",
    "\n",
    "svm_reg = make_pipeline(StandardScaler(),\n",
    "                        LinearSVR(epsilon=0.5, random_state=42))\n",
    "svm_reg.fit(X, y)"
   ]
  },
  {
   "cell_type": "code",
   "execution_count": 21,
   "id": "0ccc5168",
   "metadata": {
    "execution": {
     "iopub.execute_input": "2022-10-29T23:49:45.130401Z",
     "iopub.status.busy": "2022-10-29T23:49:45.129198Z",
     "iopub.status.idle": "2022-10-29T23:49:46.274576Z",
     "shell.execute_reply": "2022-10-29T23:49:46.273286Z"
    },
    "papermill": {
     "duration": 1.177989,
     "end_time": "2022-10-29T23:49:46.277464",
     "exception": false,
     "start_time": "2022-10-29T23:49:45.099475",
     "status": "completed"
    },
    "tags": []
   },
   "outputs": [
    {
     "data": {
      "image/png": "[encoded data removed]",
      "text/plain": [
       "<Figure size 648x288 with 2 Axes>"
      ]
     },
     "metadata": {
      "needs_background": "light"
     },
     "output_type": "display_data"
    }
   ],
   "source": [
    "# extra code – this cell generates and saves Figure 5–10\n",
    "\n",
    "def find_support_vectors(svm_reg, X, y):\n",
    "    y_pred = svm_reg.predict(X)\n",
    "    epsilon = svm_reg[-1].epsilon\n",
    "    off_margin = np.abs(y - y_pred) >= epsilon\n",
    "    return np.argwhere(off_margin)\n",
    "\n",
    "def plot_svm_regression(svm_reg, X, y, axes):\n",
    "    x1s = np.linspace(axes[0], axes[1], 100).reshape(100, 1)\n",
    "    y_pred = svm_reg.predict(x1s)\n",
    "    epsilon = svm_reg[-1].epsilon\n",
    "    plt.plot(x1s, y_pred, \"k-\", linewidth=2, label=r\"$\\hat{y}$\", zorder=-2)\n",
    "    plt.plot(x1s, y_pred + epsilon, \"k--\", zorder=-2)\n",
    "    plt.plot(x1s, y_pred - epsilon, \"k--\", zorder=-2)\n",
    "    plt.scatter(X[svm_reg._support], y[svm_reg._support], s=180,\n",
    "                facecolors='#AAA', zorder=-1)\n",
    "    plt.plot(X, y, \"bo\")\n",
    "    plt.xlabel(\"$x_1$\")\n",
    "    plt.legend(loc=\"upper left\")\n",
    "    plt.axis(axes)\n",
    "\n",
    "svm_reg2 = make_pipeline(StandardScaler(),\n",
    "                         LinearSVR(epsilon=1.2, random_state=42))\n",
    "svm_reg2.fit(X, y)\n",
    "\n",
    "svm_reg._support = find_support_vectors(svm_reg, X, y)\n",
    "svm_reg2._support = find_support_vectors(svm_reg2, X, y)\n",
    "\n",
    "eps_x1 = 1\n",
    "eps_y_pred = svm_reg2.predict([[eps_x1]])\n",
    "\n",
    "fig, axes = plt.subplots(ncols=2, figsize=(9, 4), sharey=True)\n",
    "plt.sca(axes[0])\n",
    "plot_svm_regression(svm_reg, X, y, [0, 2, 3, 11])\n",
    "plt.title(f\"epsilon={svm_reg[-1].epsilon}\")\n",
    "plt.ylabel(\"$y$\", rotation=0)\n",
    "plt.grid()\n",
    "plt.sca(axes[1])\n",
    "plot_svm_regression(svm_reg2, X, y, [0, 2, 3, 11])\n",
    "plt.title(f\"epsilon={svm_reg2[-1].epsilon}\")\n",
    "plt.annotate(\n",
    "        '', xy=(eps_x1, eps_y_pred), xycoords='data',\n",
    "        xytext=(eps_x1, eps_y_pred - svm_reg2[-1].epsilon),\n",
    "        textcoords='data', arrowprops={'arrowstyle': '<->', 'linewidth': 1.5}\n",
    "    )\n",
    "plt.text(0.90, 5.4, r\"$\\epsilon$\", fontsize=16)\n",
    "plt.grid()\n",
    "save_fig(\"svm_regression_plot\")\n",
    "plt.show()"
   ]
  },
  {
   "cell_type": "code",
   "execution_count": 22,
   "id": "89f481c8",
   "metadata": {
    "execution": {
     "iopub.execute_input": "2022-10-29T23:49:46.348350Z",
     "iopub.status.busy": "2022-10-29T23:49:46.347832Z",
     "iopub.status.idle": "2022-10-29T23:49:46.364240Z",
     "shell.execute_reply": "2022-10-29T23:49:46.363046Z"
    },
    "papermill": {
     "duration": 0.055757,
     "end_time": "2022-10-29T23:49:46.366914",
     "exception": false,
     "start_time": "2022-10-29T23:49:46.311157",
     "status": "completed"
    },
    "tags": []
   },
   "outputs": [
    {
     "data": {
      "text/plain": [
       "Pipeline(steps=[('standardscaler', StandardScaler()),\n",
       "                ('svr', SVR(C=0.01, degree=2, kernel='poly'))])"
      ]
     },
     "execution_count": 22,
     "metadata": {},
     "output_type": "execute_result"
    }
   ],
   "source": [
    "from sklearn.svm import SVR\n",
    "\n",
    "# extra code – these 3 lines generate a simple quadratic dataset\n",
    "np.random.seed(42)\n",
    "X = 2 * np.random.rand(50, 1) - 1\n",
    "y = 0.2 + 0.1 * X[:, 0] + 0.5 * X[:, 0] ** 2 + np.random.randn(50) / 10\n",
    "\n",
    "svm_poly_reg = make_pipeline(StandardScaler(),\n",
    "                             SVR(kernel=\"poly\", degree=2, C=0.01, epsilon=0.1))\n",
    "svm_poly_reg.fit(X, y)"
   ]
  },
  {
   "cell_type": "code",
   "execution_count": 23,
   "id": "6c8334ea",
   "metadata": {
    "execution": {
     "iopub.execute_input": "2022-10-29T23:49:46.436252Z",
     "iopub.status.busy": "2022-10-29T23:49:46.435767Z",
     "iopub.status.idle": "2022-10-29T23:49:47.602521Z",
     "shell.execute_reply": "2022-10-29T23:49:47.601363Z"
    },
    "papermill": {
     "duration": 1.205469,
     "end_time": "2022-10-29T23:49:47.605016",
     "exception": false,
     "start_time": "2022-10-29T23:49:46.399547",
     "status": "completed"
    },
    "tags": []
   },
   "outputs": [
    {
     "data": {
      "image/png": "[encoded data removed]",
      "text/plain": [
       "<Figure size 648x288 with 2 Axes>"
      ]
     },
     "metadata": {
      "needs_background": "light"
     },
     "output_type": "display_data"
    }
   ],
   "source": [
    "# extra code – this cell generates and saves Figure 5–11\n",
    "\n",
    "svm_poly_reg2 = make_pipeline(StandardScaler(),\n",
    "                             SVR(kernel=\"poly\", degree=2, C=100))\n",
    "svm_poly_reg2.fit(X, y)\n",
    "\n",
    "svm_poly_reg._support = find_support_vectors(svm_poly_reg, X, y)\n",
    "svm_poly_reg2._support = find_support_vectors(svm_poly_reg2, X, y)\n",
    "\n",
    "fig, axes = plt.subplots(ncols=2, figsize=(9, 4), sharey=True)\n",
    "plt.sca(axes[0])\n",
    "plot_svm_regression(svm_poly_reg, X, y, [-1, 1, 0, 1])\n",
    "plt.title(f\"degree={svm_poly_reg[-1].degree}, \"\n",
    "          f\"C={svm_poly_reg[-1].C}, \"\n",
    "          f\"epsilon={svm_poly_reg[-1].epsilon}\")\n",
    "plt.ylabel(\"$y$\", rotation=0)\n",
    "plt.grid()\n",
    "\n",
    "plt.sca(axes[1])\n",
    "plot_svm_regression(svm_poly_reg2, X, y, [-1, 1, 0, 1])\n",
    "plt.title(f\"degree={svm_poly_reg2[-1].degree}, \"\n",
    "          f\"C={svm_poly_reg2[-1].C}, \"\n",
    "          f\"epsilon={svm_poly_reg2[-1].epsilon}\")\n",
    "plt.grid()\n",
    "save_fig(\"svm_with_polynomial_kernel_plot\")\n",
    "plt.show()"
   ]
  },
  {
   "cell_type": "markdown",
   "id": "df842371",
   "metadata": {
    "papermill": {
     "duration": 0.029637,
     "end_time": "2022-10-29T23:49:47.664356",
     "exception": false,
     "start_time": "2022-10-29T23:49:47.634719",
     "status": "completed"
    },
    "tags": []
   },
   "source": [
    "# Under the hood"
   ]
  },
  {
   "cell_type": "code",
   "execution_count": 24,
   "id": "c37bd0b6",
   "metadata": {
    "execution": {
     "iopub.execute_input": "2022-10-29T23:49:47.725300Z",
     "iopub.status.busy": "2022-10-29T23:49:47.724926Z",
     "iopub.status.idle": "2022-10-29T23:49:48.983493Z",
     "shell.execute_reply": "2022-10-29T23:49:48.982322Z"
    },
    "papermill": {
     "duration": 1.292534,
     "end_time": "2022-10-29T23:49:48.986303",
     "exception": false,
     "start_time": "2022-10-29T23:49:47.693769",
     "status": "completed"
    },
    "tags": []
   },
   "outputs": [
    {
     "data": {
      "image/png": "[encoded data removed]",
      "text/plain": [
       "<Figure size 648x230.4 with 2 Axes>"
      ]
     },
     "metadata": {
      "needs_background": "light"
     },
     "output_type": "display_data"
    }
   ],
   "source": [
    "# extra code – this cell generates and saves Figure 5–12\n",
    "\n",
    "import matplotlib.patches as patches\n",
    "\n",
    "def plot_2D_decision_function(w, b, ylabel=True, x1_lim=[-3, 3]):\n",
    "    x1 = np.linspace(x1_lim[0], x1_lim[1], 200)\n",
    "    y = w * x1 + b\n",
    "    half_margin = 1 / w\n",
    "\n",
    "    plt.plot(x1, y, \"b-\", linewidth=2, label=r\"$s = w_1 x_1$\")\n",
    "    plt.axhline(y=0, color='k', linewidth=1)\n",
    "    plt.axvline(x=0, color='k', linewidth=1)\n",
    "    rect = patches.Rectangle((-half_margin, -2), 2 * half_margin, 4,\n",
    "                             edgecolor='none', facecolor='gray', alpha=0.2)\n",
    "    plt.gca().add_patch(rect)\n",
    "    plt.plot([-3, 3], [1, 1], \"k--\", linewidth=1)\n",
    "    plt.plot([-3, 3], [-1, -1], \"k--\", linewidth=1)\n",
    "    plt.plot(half_margin, 1, \"k.\")\n",
    "    plt.plot(-half_margin, -1, \"k.\")\n",
    "    plt.axis(x1_lim + [-2, 2])\n",
    "    plt.xlabel(\"$x_1$\")\n",
    "    if ylabel:\n",
    "        plt.ylabel(\"$s$\", rotation=0, labelpad=5)\n",
    "        plt.legend()\n",
    "        plt.text(1.02, -1.6, \"Margin\", ha=\"left\", va=\"center\", color=\"k\")\n",
    "\n",
    "    plt.annotate(\n",
    "        '', xy=(-half_margin, -1.6), xytext=(half_margin, -1.6),\n",
    "        arrowprops={'ec': 'k', 'arrowstyle': '<->', 'linewidth': 1.5}\n",
    "    )\n",
    "    plt.title(f\"$w_1 = {w}$\")\n",
    "\n",
    "fig, axes = plt.subplots(ncols=2, figsize=(9, 3.2), sharey=True)\n",
    "plt.sca(axes[0])\n",
    "plot_2D_decision_function(1, 0)\n",
    "plt.grid()\n",
    "plt.sca(axes[1])\n",
    "plot_2D_decision_function(0.5, 0, ylabel=False)\n",
    "plt.grid()\n",
    "save_fig(\"small_w_large_margin_plot\")\n",
    "plt.show()"
   ]
  },
  {
   "cell_type": "code",
   "execution_count": 25,
   "id": "3310178e",
   "metadata": {
    "execution": {
     "iopub.execute_input": "2022-10-29T23:49:49.049804Z",
     "iopub.status.busy": "2022-10-29T23:49:49.048749Z",
     "iopub.status.idle": "2022-10-29T23:49:49.943929Z",
     "shell.execute_reply": "2022-10-29T23:49:49.942759Z"
    },
    "papermill": {
     "duration": 0.929689,
     "end_time": "2022-10-29T23:49:49.946606",
     "exception": false,
     "start_time": "2022-10-29T23:49:49.016917",
     "status": "completed"
    },
    "tags": []
   },
   "outputs": [
    {
     "data": {
      "image/png": "[encoded data removed]",
      "text/plain": [
       "<Figure size 590.4x216 with 2 Axes>"
      ]
     },
     "metadata": {
      "needs_background": "light"
     },
     "output_type": "display_data"
    }
   ],
   "source": [
    "# extra code – this cell generates and saves Figure 5–13\n",
    "\n",
    "s = np.linspace(-2.5, 2.5, 200)\n",
    "hinge_pos = np.where(1 - s < 0, 0, 1 - s)  # max(0, 1 - s)\n",
    "hinge_neg = np.where(1 + s < 0, 0, 1 + s)  # max(0, 1 + s)\n",
    "\n",
    "titles = (r\"Hinge loss = $max(0, 1 - s\\,t)$\", \"Squared Hinge loss\")\n",
    "\n",
    "fix, axs = plt.subplots(1, 2, sharey=True, figsize=(8.2, 3))\n",
    "\n",
    "for ax, loss_pos, loss_neg, title in zip(\n",
    "        axs, (hinge_pos, hinge_pos ** 2), (hinge_neg, hinge_neg ** 2), titles):\n",
    "    ax.plot(s, loss_pos, \"g-\", linewidth=2, zorder=10, label=\"$t=1$\")\n",
    "    ax.plot(s, loss_neg, \"r--\", linewidth=2, zorder=10, label=\"$t=-1$\")\n",
    "    ax.grid(True)\n",
    "    ax.axhline(y=0, color='k')\n",
    "    ax.axvline(x=0, color='k')\n",
    "    ax.set_xlabel(r\"$s = \\mathbf{w}^\\intercal \\mathbf{x} + b$\")\n",
    "    ax.axis([-2.5, 2.5, -0.5, 2.5])\n",
    "    ax.legend(loc=\"center right\")\n",
    "    ax.set_title(title)\n",
    "    ax.set_yticks(np.arange(0, 2.5, 1))\n",
    "    ax.set_aspect(\"equal\")\n",
    "\n",
    "save_fig(\"hinge_plot\")\n",
    "plt.show()"
   ]
  },
  {
   "cell_type": "markdown",
   "id": "09359bdd",
   "metadata": {
    "papermill": {
     "duration": 0.030822,
     "end_time": "2022-10-29T23:49:50.008746",
     "exception": false,
     "start_time": "2022-10-29T23:49:49.977924",
     "status": "completed"
    },
    "tags": []
   },
   "source": [
    "# Extra Material"
   ]
  },
  {
   "cell_type": "markdown",
   "id": "bcccdb5e",
   "metadata": {
    "papermill": {
     "duration": 0.03063,
     "end_time": "2022-10-29T23:49:50.070482",
     "exception": false,
     "start_time": "2022-10-29T23:49:50.039852",
     "status": "completed"
    },
    "tags": []
   },
   "source": [
    "## Linear SVM classifier implementation using Batch Gradient Descent"
   ]
  },
  {
   "cell_type": "code",
   "execution_count": 26,
   "id": "8204dea0",
   "metadata": {
    "execution": {
     "iopub.execute_input": "2022-10-29T23:49:50.133910Z",
     "iopub.status.busy": "2022-10-29T23:49:50.133184Z",
     "iopub.status.idle": "2022-10-29T23:49:50.139088Z",
     "shell.execute_reply": "2022-10-29T23:49:50.138231Z"
    },
    "papermill": {
     "duration": 0.040117,
     "end_time": "2022-10-29T23:49:50.141325",
     "exception": false,
     "start_time": "2022-10-29T23:49:50.101208",
     "status": "completed"
    },
    "tags": []
   },
   "outputs": [],
   "source": [
    "X = iris.data[[\"petal length (cm)\", \"petal width (cm)\"]].values\n",
    "y = (iris.target == 2)"
   ]
  },
  {
   "cell_type": "code",
   "execution_count": 27,
   "id": "f5f015f8",
   "metadata": {
    "execution": {
     "iopub.execute_input": "2022-10-29T23:49:50.205755Z",
     "iopub.status.busy": "2022-10-29T23:49:50.205326Z",
     "iopub.status.idle": "2022-10-29T23:49:50.219834Z",
     "shell.execute_reply": "2022-10-29T23:49:50.218672Z"
    },
    "papermill": {
     "duration": 0.049699,
     "end_time": "2022-10-29T23:49:50.222011",
     "exception": false,
     "start_time": "2022-10-29T23:49:50.172312",
     "status": "completed"
    },
    "tags": []
   },
   "outputs": [],
   "source": [
    "from sklearn.base import BaseEstimator\n",
    "\n",
    "class MyLinearSVC(BaseEstimator):\n",
    "    def __init__(self, C=1, eta0=1, eta_d=10000, n_epochs=1000,\n",
    "                 random_state=None):\n",
    "        self.C = C\n",
    "        self.eta0 = eta0\n",
    "        self.n_epochs = n_epochs\n",
    "        self.random_state = random_state\n",
    "        self.eta_d = eta_d\n",
    "\n",
    "    def eta(self, epoch):\n",
    "        return self.eta0 / (epoch + self.eta_d)\n",
    "        \n",
    "    def fit(self, X, y):\n",
    "        # Random initialization\n",
    "        if self.random_state:\n",
    "            np.random.seed(self.random_state)\n",
    "        w = np.random.randn(X.shape[1], 1)  # n feature weights\n",
    "        b = 0\n",
    "\n",
    "        t = np.array(y, dtype=np.float64).reshape(-1, 1) * 2 - 1\n",
    "        X_t = X * t\n",
    "        self.Js = []\n",
    "\n",
    "        # Training\n",
    "        for epoch in range(self.n_epochs):\n",
    "            support_vectors_idx = (X_t.dot(w) + t * b < 1).ravel()\n",
    "            X_t_sv = X_t[support_vectors_idx]\n",
    "            t_sv = t[support_vectors_idx]\n",
    "\n",
    "            J = 1/2 * (w * w).sum() + self.C * ((1 - X_t_sv.dot(w)).sum() - b * t_sv.sum())\n",
    "            self.Js.append(J)\n",
    "\n",
    "            w_gradient_vector = w - self.C * X_t_sv.sum(axis=0).reshape(-1, 1)\n",
    "            b_derivative = -self.C * t_sv.sum()\n",
    "                \n",
    "            w = w - self.eta(epoch) * w_gradient_vector\n",
    "            b = b - self.eta(epoch) * b_derivative\n",
    "            \n",
    "\n",
    "        self.intercept_ = np.array([b])\n",
    "        self.coef_ = np.array([w])\n",
    "        support_vectors_idx = (X_t.dot(w) + t * b < 1).ravel()\n",
    "        self.support_vectors_ = X[support_vectors_idx]\n",
    "        return self\n",
    "\n",
    "    def decision_function(self, X):\n",
    "        return X.dot(self.coef_[0]) + self.intercept_[0]\n",
    "\n",
    "    def predict(self, X):\n",
    "        return self.decision_function(X) >= 0"
   ]
  },
  {
   "cell_type": "code",
   "execution_count": 28,
   "id": "dd5c4d84",
   "metadata": {
    "execution": {
     "iopub.execute_input": "2022-10-29T23:49:50.285105Z",
     "iopub.status.busy": "2022-10-29T23:49:50.284675Z",
     "iopub.status.idle": "2022-10-29T23:49:52.459812Z",
     "shell.execute_reply": "2022-10-29T23:49:52.458747Z"
    },
    "papermill": {
     "duration": 2.209494,
     "end_time": "2022-10-29T23:49:52.462064",
     "exception": false,
     "start_time": "2022-10-29T23:49:50.252570",
     "status": "completed"
    },
    "tags": []
   },
   "outputs": [
    {
     "data": {
      "text/plain": [
       "array([[ True],\n",
       "       [False]])"
      ]
     },
     "execution_count": 28,
     "metadata": {},
     "output_type": "execute_result"
    }
   ],
   "source": [
    "C = 2\n",
    "svm_clf = MyLinearSVC(C=C, eta0 = 10, eta_d = 1000, n_epochs=60000,\n",
    "                      random_state=2)\n",
    "svm_clf.fit(X, y)\n",
    "svm_clf.predict(np.array([[5, 2], [4, 1]]))"
   ]
  },
  {
   "cell_type": "code",
   "execution_count": 29,
   "id": "7a036473",
   "metadata": {
    "execution": {
     "iopub.execute_input": "2022-10-29T23:49:52.527176Z",
     "iopub.status.busy": "2022-10-29T23:49:52.526352Z",
     "iopub.status.idle": "2022-10-29T23:49:52.735991Z",
     "shell.execute_reply": "2022-10-29T23:49:52.734878Z"
    },
    "papermill": {
     "duration": 0.24547,
     "end_time": "2022-10-29T23:49:52.738218",
     "exception": false,
     "start_time": "2022-10-29T23:49:52.492748",
     "status": "completed"
    },
    "tags": []
   },
   "outputs": [
    {
     "data": {
      "image/png": "[encoded data removed]",
      "text/plain": [
       "<Figure size 432x288 with 1 Axes>"
      ]
     },
     "metadata": {
      "needs_background": "light"
     },
     "output_type": "display_data"
    }
   ],
   "source": [
    "plt.plot(range(svm_clf.n_epochs), svm_clf.Js)\n",
    "plt.axis([0, svm_clf.n_epochs, 0, 100])\n",
    "plt.xlabel(\"Epochs\")\n",
    "plt.ylabel(\"Loss\")\n",
    "plt.grid()\n",
    "plt.show()"
   ]
  },
  {
   "cell_type": "code",
   "execution_count": 30,
   "id": "3891a07e",
   "metadata": {
    "execution": {
     "iopub.execute_input": "2022-10-29T23:49:52.802262Z",
     "iopub.status.busy": "2022-10-29T23:49:52.801403Z",
     "iopub.status.idle": "2022-10-29T23:49:52.809259Z",
     "shell.execute_reply": "2022-10-29T23:49:52.807221Z"
    },
    "papermill": {
     "duration": 0.043178,
     "end_time": "2022-10-29T23:49:52.812462",
     "exception": false,
     "start_time": "2022-10-29T23:49:52.769284",
     "status": "completed"
    },
    "tags": []
   },
   "outputs": [
    {
     "name": "stdout",
     "output_type": "stream",
     "text": [
      "[-15.56761653] [[[2.28120287]\n",
      "  [2.71621742]]]\n"
     ]
    }
   ],
   "source": [
    "print(svm_clf.intercept_, svm_clf.coef_)"
   ]
  },
  {
   "cell_type": "code",
   "execution_count": 31,
   "id": "7d8ab27c",
   "metadata": {
    "execution": {
     "iopub.execute_input": "2022-10-29T23:49:52.878390Z",
     "iopub.status.busy": "2022-10-29T23:49:52.877700Z",
     "iopub.status.idle": "2022-10-29T23:49:52.885479Z",
     "shell.execute_reply": "2022-10-29T23:49:52.884158Z"
    },
    "papermill": {
     "duration": 0.043017,
     "end_time": "2022-10-29T23:49:52.888403",
     "exception": false,
     "start_time": "2022-10-29T23:49:52.845386",
     "status": "completed"
    },
    "tags": []
   },
   "outputs": [
    {
     "name": "stdout",
     "output_type": "stream",
     "text": [
      "[-15.51721253] [[2.27128546 2.71287145]]\n"
     ]
    }
   ],
   "source": [
    "svm_clf2 = SVC(kernel=\"linear\", C=C)\n",
    "svm_clf2.fit(X, y.ravel())\n",
    "print(svm_clf2.intercept_, svm_clf2.coef_)"
   ]
  },
  {
   "cell_type": "code",
   "execution_count": 32,
   "id": "8ce94b5d",
   "metadata": {
    "execution": {
     "iopub.execute_input": "2022-10-29T23:49:52.951869Z",
     "iopub.status.busy": "2022-10-29T23:49:52.951417Z",
     "iopub.status.idle": "2022-10-29T23:49:53.321642Z",
     "shell.execute_reply": "2022-10-29T23:49:53.320622Z"
    },
    "papermill": {
     "duration": 0.404318,
     "end_time": "2022-10-29T23:49:53.323975",
     "exception": false,
     "start_time": "2022-10-29T23:49:52.919657",
     "status": "completed"
    },
    "tags": []
   },
   "outputs": [
    {
     "data": {
      "image/png": "[encoded data removed]",
      "text/plain": [
       "<Figure size 792x230.4 with 2 Axes>"
      ]
     },
     "metadata": {
      "needs_background": "light"
     },
     "output_type": "display_data"
    }
   ],
   "source": [
    "yr = y.ravel()\n",
    "fig, axes = plt.subplots(ncols=2, figsize=(11, 3.2), sharey=True)\n",
    "plt.sca(axes[0])\n",
    "plt.plot(X[:, 0][yr==1], X[:, 1][yr==1], \"g^\", label=\"Iris virginica\")\n",
    "plt.plot(X[:, 0][yr==0], X[:, 1][yr==0], \"bs\", label=\"Not Iris virginica\")\n",
    "plot_svc_decision_boundary(svm_clf, 4, 6)\n",
    "plt.xlabel(\"Petal length\")\n",
    "plt.ylabel(\"Petal width\")\n",
    "plt.title(\"MyLinearSVC\")\n",
    "plt.axis([4, 6, 0.8, 2.8])\n",
    "plt.legend(loc=\"upper left\")\n",
    "plt.grid()\n",
    "\n",
    "plt.sca(axes[1])\n",
    "plt.plot(X[:, 0][yr==1], X[:, 1][yr==1], \"g^\")\n",
    "plt.plot(X[:, 0][yr==0], X[:, 1][yr==0], \"bs\")\n",
    "plot_svc_decision_boundary(svm_clf2, 4, 6)\n",
    "plt.xlabel(\"Petal length\")\n",
    "plt.title(\"SVC\")\n",
    "plt.axis([4, 6, 0.8, 2.8])\n",
    "plt.grid()\n",
    "\n",
    "plt.show()"
   ]
  },
  {
   "cell_type": "code",
   "execution_count": 33,
   "id": "a54f2f41",
   "metadata": {
    "execution": {
     "iopub.execute_input": "2022-10-29T23:49:53.390353Z",
     "iopub.status.busy": "2022-10-29T23:49:53.389955Z",
     "iopub.status.idle": "2022-10-29T23:49:53.631146Z",
     "shell.execute_reply": "2022-10-29T23:49:53.630197Z"
    },
    "papermill": {
     "duration": 0.277107,
     "end_time": "2022-10-29T23:49:53.633611",
     "exception": false,
     "start_time": "2022-10-29T23:49:53.356504",
     "status": "completed"
    },
    "scrolled": true,
    "tags": []
   },
   "outputs": [
    {
     "name": "stdout",
     "output_type": "stream",
     "text": [
      "[-12.52988101   1.94162342   1.84544824]\n"
     ]
    },
    {
     "data": {
      "image/png": "[encoded data removed]",
      "text/plain": [
       "<Figure size 396x230.4 with 1 Axes>"
      ]
     },
     "metadata": {
      "needs_background": "light"
     },
     "output_type": "display_data"
    }
   ],
   "source": [
    "from sklearn.linear_model import SGDClassifier\n",
    "\n",
    "sgd_clf = SGDClassifier(loss=\"hinge\", alpha=0.017, max_iter=1000, tol=1e-3,\n",
    "                        random_state=42)\n",
    "sgd_clf.fit(X, y)\n",
    "\n",
    "m = len(X)\n",
    "t = np.array(y).reshape(-1, 1) * 2 - 1  # -1 if y == 0, or +1 if y == 1\n",
    "X_b = np.c_[np.ones((m, 1)), X]  # Add bias input x0=1\n",
    "X_b_t = X_b * t\n",
    "sgd_theta = np.r_[sgd_clf.intercept_[0], sgd_clf.coef_[0]]\n",
    "print(sgd_theta)\n",
    "support_vectors_idx = (X_b_t.dot(sgd_theta) < 1).ravel()\n",
    "sgd_clf.support_vectors_ = X[support_vectors_idx]\n",
    "sgd_clf.C = C\n",
    "\n",
    "plt.figure(figsize=(5.5, 3.2))\n",
    "plt.plot(X[:, 0][yr==1], X[:, 1][yr==1], \"g^\")\n",
    "plt.plot(X[:, 0][yr==0], X[:, 1][yr==0], \"bs\")\n",
    "plot_svc_decision_boundary(sgd_clf, 4, 6)\n",
    "plt.xlabel(\"Petal length\")\n",
    "plt.ylabel(\"Petal width\")\n",
    "plt.title(\"SGDClassifier\")\n",
    "plt.axis([4, 6, 0.8, 2.8])\n",
    "plt.grid()\n",
    "\n",
    "plt.show()"
   ]
  },
  {
   "cell_type": "markdown",
   "id": "73fea29d",
   "metadata": {
    "papermill": {
     "duration": 0.032618,
     "end_time": "2022-10-29T23:49:53.698893",
     "exception": false,
     "start_time": "2022-10-29T23:49:53.666275",
     "status": "completed"
    },
    "tags": []
   },
   "source": [
    "# Exercise solutions"
   ]
  },
  {
   "cell_type": "markdown",
   "id": "49318504",
   "metadata": {
    "papermill": {
     "duration": 0.031489,
     "end_time": "2022-10-29T23:49:53.762583",
     "exception": false,
     "start_time": "2022-10-29T23:49:53.731094",
     "status": "completed"
    },
    "tags": []
   },
   "source": [
    "## 1. to 8."
   ]
  },
  {
   "cell_type": "markdown",
   "id": "dbff6e24",
   "metadata": {
    "papermill": {
     "duration": 0.033748,
     "end_time": "2022-10-29T23:49:53.828070",
     "exception": false,
     "start_time": "2022-10-29T23:49:53.794322",
     "status": "completed"
    },
    "tags": []
   },
   "source": [
    "1. The fundamental idea behind Support Vector Machines is to fit the widest possible \"street\" between the classes. In other words, the goal is to have the largest possible margin between the decision boundary that separates the two classes and the training instances. When performing soft margin classification, the SVM searches for a compromise between perfectly separating the two classes and having the widest possible street (i.e., a few instances may end up on the street). Another key idea is to use kernels when training on nonlinear datasets. SVMs can also be tweaked to perform linear and nonlinear regression, as well as novelty detection.\n",
    "2. After training an SVM, a _support vector_ is any instance located on the \"street\" (see the previous answer), including its border. The decision boundary is entirely determined by the support vectors. Any instance that is _not_ a support vector (i.e., is off the street) has no influence whatsoever; you could remove them, add more instances, or move them around, and as long as they stay off the street they won't affect the decision boundary. Computing the predictions with a kernelized SVM only involves the support vectors, not the whole training set.\n",
    "3. SVMs try to fit the largest possible \"street\" between the classes (see the first answer), so if the training set is not scaled, the SVM will tend to neglect small features (see Figure 5–2).\n",
    "4. You can use the `decision_function()` method to get confidence scores. These scores represent the distance between the instance and the decision boundary. However, they cannot be directly converted into an estimation of the class probability. If you set `probability=True` when creating an `SVC`, then at the end of training it will use 5-fold cross-validation to generate out-of-sample scores for the training samples, and it will train a `LogisticRegression` model to map these scores to estimated probabilities. The `predict_proba()` and `predict_log_proba()` methods will then be available.\n",
    "5. All three classes can be used for large-margin linear classification. The `SVC` class also supports the kernel trick, which makes it capable of handling nonlinear tasks. However, this comes at a cost: the `SVC` class does not scale well to datasets with many instances. It does scale well to a large number of features, though. The `LinearSVC` class implements an optimized algorithm for linear SVMs, while `SGDClassifier` uses Stochastic Gradient Descent. Depending on the dataset `LinearSVC` may be a bit faster than `SGDClassifier`, but not always, and `SGDClassifier` is more flexible, plus it supports incremental learning.\n",
    "6. If an SVM classifier trained with an RBF kernel underfits the training set, there might be too much regularization. To decrease it, you need to increase `gamma` or `C` (or both).\n",
    "7. A Regression SVM model tries to fit as many instances within a small margin around its predictions. If you add instances within this margin, the model will not be affected at all: it is said to be _ϵ-insensitive_.\n",
    "8. The kernel trick is mathematical technique that makes it possible to train a nonlinear SVM model. The resulting model is equivalent to mapping the inputs to another space using a nonlinear transformation, then training a linear SVM on the resulting high-dimensional inputs. The kernel trick gives the same result without having to transform the inputs at all."
   ]
  },
  {
   "cell_type": "markdown",
   "id": "f05a8c8b",
   "metadata": {
    "papermill": {
     "duration": 0.032501,
     "end_time": "2022-10-29T23:49:53.893192",
     "exception": false,
     "start_time": "2022-10-29T23:49:53.860691",
     "status": "completed"
    },
    "tags": []
   },
   "source": [
    "# 9."
   ]
  },
  {
   "cell_type": "markdown",
   "id": "1f9bbe5d",
   "metadata": {
    "papermill": {
     "duration": 0.031901,
     "end_time": "2022-10-29T23:49:53.956593",
     "exception": false,
     "start_time": "2022-10-29T23:49:53.924692",
     "status": "completed"
    },
    "tags": []
   },
   "source": [
    "_Exercise: Train a `LinearSVC` on a linearly separable dataset. Then train an `SVC` and a `SGDClassifier` on the same dataset. See if you can get them to produce roughly the same model._"
   ]
  },
  {
   "cell_type": "markdown",
   "id": "f31785eb",
   "metadata": {
    "papermill": {
     "duration": 0.032203,
     "end_time": "2022-10-29T23:49:54.020653",
     "exception": false,
     "start_time": "2022-10-29T23:49:53.988450",
     "status": "completed"
    },
    "tags": []
   },
   "source": [
    "Let's use the Iris dataset: the Iris Setosa and Iris Versicolor classes are linearly separable."
   ]
  },
  {
   "cell_type": "code",
   "execution_count": 34,
   "id": "33be5cb0",
   "metadata": {
    "execution": {
     "iopub.execute_input": "2022-10-29T23:49:54.088556Z",
     "iopub.status.busy": "2022-10-29T23:49:54.087822Z",
     "iopub.status.idle": "2022-10-29T23:49:54.098105Z",
     "shell.execute_reply": "2022-10-29T23:49:54.097274Z"
    },
    "papermill": {
     "duration": 0.046999,
     "end_time": "2022-10-29T23:49:54.100384",
     "exception": false,
     "start_time": "2022-10-29T23:49:54.053385",
     "status": "completed"
    },
    "tags": []
   },
   "outputs": [],
   "source": [
    "from sklearn import datasets\n",
    "\n",
    "iris = datasets.load_iris(as_frame=True)\n",
    "X = iris.data[[\"petal length (cm)\", \"petal width (cm)\"]].values\n",
    "y = iris.target\n",
    "\n",
    "setosa_or_versicolor = (y == 0) | (y == 1)\n",
    "X = X[setosa_or_versicolor]\n",
    "y = y[setosa_or_versicolor]"
   ]
  },
  {
   "cell_type": "markdown",
   "id": "b40eb453",
   "metadata": {
    "papermill": {
     "duration": 0.0326,
     "end_time": "2022-10-29T23:49:54.166128",
     "exception": false,
     "start_time": "2022-10-29T23:49:54.133528",
     "status": "completed"
    },
    "tags": []
   },
   "source": [
    "Now let's build and train 3 models:\n",
    "* Remember that `LinearSVC` uses `loss=\"squared_hinge\"` by default, so if we want all 3 models to produce similar results, we need to set `loss=\"hinge\"`.\n",
    "* Also, the `SVC` class uses an RBF kernel by default, so we need to set `kernel=\"linear\"` to get similar results as the other two models.\n",
    "* Lastly, the `SGDClassifier` class does not have a `C` hyperparameter, but it has another regularization hyperparameter called `alpha`, so we can tweak it to get similar results as the other two models."
   ]
  },
  {
   "cell_type": "code",
   "execution_count": 35,
   "id": "c3702767",
   "metadata": {
    "execution": {
     "iopub.execute_input": "2022-10-29T23:49:54.234001Z",
     "iopub.status.busy": "2022-10-29T23:49:54.233572Z",
     "iopub.status.idle": "2022-10-29T23:49:54.243244Z",
     "shell.execute_reply": "2022-10-29T23:49:54.242194Z"
    },
    "papermill": {
     "duration": 0.046938,
     "end_time": "2022-10-29T23:49:54.245890",
     "exception": false,
     "start_time": "2022-10-29T23:49:54.198952",
     "status": "completed"
    },
    "tags": []
   },
   "outputs": [],
   "source": [
    "from sklearn.svm import SVC, LinearSVC\n",
    "from sklearn.linear_model import SGDClassifier\n",
    "from sklearn.preprocessing import StandardScaler\n",
    "\n",
    "C = 5\n",
    "alpha = 0.05\n",
    "\n",
    "scaler = StandardScaler()\n",
    "X_scaled = scaler.fit_transform(X)\n",
    "\n",
    "lin_clf = LinearSVC(loss=\"hinge\", C=C, random_state=42).fit(X_scaled, y)\n",
    "svc_clf = SVC(kernel=\"linear\", C=C).fit(X_scaled, y)\n",
    "sgd_clf = SGDClassifier(alpha=alpha, random_state=42).fit(X_scaled, y)"
   ]
  },
  {
   "cell_type": "markdown",
   "id": "08405d3c",
   "metadata": {
    "papermill": {
     "duration": 0.031989,
     "end_time": "2022-10-29T23:49:54.310635",
     "exception": false,
     "start_time": "2022-10-29T23:49:54.278646",
     "status": "completed"
    },
    "tags": []
   },
   "source": [
    "Let's plot the decision boundaries of these three models:"
   ]
  },
  {
   "cell_type": "code",
   "execution_count": 36,
   "id": "931a63e4",
   "metadata": {
    "execution": {
     "iopub.execute_input": "2022-10-29T23:49:54.377371Z",
     "iopub.status.busy": "2022-10-29T23:49:54.376656Z",
     "iopub.status.idle": "2022-10-29T23:49:54.614633Z",
     "shell.execute_reply": "2022-10-29T23:49:54.613588Z"
    },
    "papermill": {
     "duration": 0.274392,
     "end_time": "2022-10-29T23:49:54.617036",
     "exception": false,
     "start_time": "2022-10-29T23:49:54.342644",
     "status": "completed"
    },
    "tags": []
   },
   "outputs": [
    {
     "data": {
      "image/png": "[encoded data removed]",
      "text/plain": [
       "<Figure size 792x288 with 1 Axes>"
      ]
     },
     "metadata": {
      "needs_background": "light"
     },
     "output_type": "display_data"
    }
   ],
   "source": [
    "def compute_decision_boundary(model):\n",
    "    w = -model.coef_[0, 0] / model.coef_[0, 1]\n",
    "    b = -model.intercept_[0] / model.coef_[0, 1]\n",
    "    return scaler.inverse_transform([[-10, -10 * w + b], [10, 10 * w + b]])\n",
    "\n",
    "lin_line = compute_decision_boundary(lin_clf)\n",
    "svc_line = compute_decision_boundary(svc_clf)\n",
    "sgd_line = compute_decision_boundary(sgd_clf)\n",
    "\n",
    "# Plot all three decision boundaries\n",
    "plt.figure(figsize=(11, 4))\n",
    "plt.plot(lin_line[:, 0], lin_line[:, 1], \"k:\", label=\"LinearSVC\")\n",
    "plt.plot(svc_line[:, 0], svc_line[:, 1], \"b--\", linewidth=2, label=\"SVC\")\n",
    "plt.plot(sgd_line[:, 0], sgd_line[:, 1], \"r-\", label=\"SGDClassifier\")\n",
    "plt.plot(X[:, 0][y==1], X[:, 1][y==1], \"bs\") # label=\"Iris versicolor\"\n",
    "plt.plot(X[:, 0][y==0], X[:, 1][y==0], \"yo\") # label=\"Iris setosa\"\n",
    "plt.xlabel(\"Petal length\")\n",
    "plt.ylabel(\"Petal width\")\n",
    "plt.legend(loc=\"upper center\")\n",
    "plt.axis([0, 5.5, 0, 2])\n",
    "plt.grid()\n",
    "\n",
    "plt.show()"
   ]
  },
  {
   "cell_type": "markdown",
   "id": "51a49f52",
   "metadata": {
    "papermill": {
     "duration": 0.03272,
     "end_time": "2022-10-29T23:49:54.682614",
     "exception": false,
     "start_time": "2022-10-29T23:49:54.649894",
     "status": "completed"
    },
    "tags": []
   },
   "source": [
    "Close enough!"
   ]
  },
  {
   "cell_type": "markdown",
   "id": "dcfc095c",
   "metadata": {
    "papermill": {
     "duration": 0.032894,
     "end_time": "2022-10-29T23:49:54.748377",
     "exception": false,
     "start_time": "2022-10-29T23:49:54.715483",
     "status": "completed"
    },
    "tags": []
   },
   "source": [
    "# 10."
   ]
  },
  {
   "cell_type": "markdown",
   "id": "f1c44625",
   "metadata": {
    "papermill": {
     "duration": 0.033103,
     "end_time": "2022-10-29T23:49:54.814271",
     "exception": false,
     "start_time": "2022-10-29T23:49:54.781168",
     "status": "completed"
    },
    "tags": []
   },
   "source": [
    "_Exercise: Train an SVM classifier on the Wine dataset, which you can load using `sklearn.datasets.load_wine()`. This dataset contains the chemical analysis of 178 wine samples produced by 3 different cultivators: the goal is to train a classification model capable of predicting the cultivator based on the wine's chemical analysis. Since SVM classifiers are binary classifiers, you will need to use one-versus-all to classify all 3 classes. What accuracy can you reach?_"
   ]
  },
  {
   "cell_type": "markdown",
   "id": "269d3cee",
   "metadata": {
    "papermill": {
     "duration": 0.032708,
     "end_time": "2022-10-29T23:49:54.880536",
     "exception": false,
     "start_time": "2022-10-29T23:49:54.847828",
     "status": "completed"
    },
    "tags": []
   },
   "source": [
    "First, let's fetch the dataset, look at its description, then split it into a training set and a test set:"
   ]
  },
  {
   "cell_type": "code",
   "execution_count": 37,
   "id": "9f95141f",
   "metadata": {
    "execution": {
     "iopub.execute_input": "2022-10-29T23:49:54.949537Z",
     "iopub.status.busy": "2022-10-29T23:49:54.949133Z",
     "iopub.status.idle": "2022-10-29T23:49:54.958686Z",
     "shell.execute_reply": "2022-10-29T23:49:54.957953Z"
    },
    "papermill": {
     "duration": 0.04662,
     "end_time": "2022-10-29T23:49:54.960968",
     "exception": false,
     "start_time": "2022-10-29T23:49:54.914348",
     "status": "completed"
    },
    "tags": []
   },
   "outputs": [],
   "source": [
    "from sklearn.datasets import load_wine\n",
    "\n",
    "wine = load_wine(as_frame=True)"
   ]
  },
  {
   "cell_type": "code",
   "execution_count": 38,
   "id": "e200d147",
   "metadata": {
    "execution": {
     "iopub.execute_input": "2022-10-29T23:49:55.030955Z",
     "iopub.status.busy": "2022-10-29T23:49:55.030051Z",
     "iopub.status.idle": "2022-10-29T23:49:55.035760Z",
     "shell.execute_reply": "2022-10-29T23:49:55.034577Z"
    },
    "papermill": {
     "duration": 0.042839,
     "end_time": "2022-10-29T23:49:55.038546",
     "exception": false,
     "start_time": "2022-10-29T23:49:54.995707",
     "status": "completed"
    },
    "tags": []
   },
   "outputs": [
    {
     "name": "stdout",
     "output_type": "stream",
     "text": [
      ".. _wine_dataset:\n",
      "\n",
      "Wine recognition dataset\n",
      "------------------------\n",
      "\n",
      "**Data Set Characteristics:**\n",
      "\n",
      "    :Number of Instances: 178 (50 in each of three classes)\n",
      "    :Number of Attributes: 13 numeric, predictive attributes and the class\n",
      "    :Attribute Information:\n",
      " \t\t- Alcohol\n",
      " \t\t- Malic acid\n",
      " \t\t- Ash\n",
      "\t\t- Alcalinity of ash  \n",
      " \t\t- Magnesium\n",
      "\t\t- Total phenols\n",
      " \t\t- Flavanoids\n",
      " \t\t- Nonflavanoid phenols\n",
      " \t\t- Proanthocyanins\n",
      "\t\t- Color intensity\n",
      " \t\t- Hue\n",
      " \t\t- OD280/OD315 of diluted wines\n",
      " \t\t- Proline\n",
      "\n",
      "    - class:\n",
      "            - class_0\n",
      "            - class_1\n",
      "            - class_2\n",
      "\t\t\n",
      "    :Summary Statistics:\n",
      "    \n",
      "    ============================= ==== ===== ======= =====\n",
      "                                   Min   Max   Mean     SD\n",
      "    ============================= ==== ===== ======= =====\n",
      "    Alcohol:                      11.0  14.8    13.0   0.8\n",
      "    Malic Acid:                   0.74  5.80    2.34  1.12\n",
      "    Ash:                          1.36  3.23    2.36  0.27\n",
      "    Alcalinity of Ash:            10.6  30.0    19.5   3.3\n",
      "    Magnesium:                    70.0 162.0    99.7  14.3\n",
      "    Total Phenols:                0.98  3.88    2.29  0.63\n",
      "    Flavanoids:                   0.34  5.08    2.03  1.00\n",
      "    Nonflavanoid Phenols:         0.13  0.66    0.36  0.12\n",
      "    Proanthocyanins:              0.41  3.58    1.59  0.57\n",
      "    Colour Intensity:              1.3  13.0     5.1   2.3\n",
      "    Hue:                          0.48  1.71    0.96  0.23\n",
      "    OD280/OD315 of diluted wines: 1.27  4.00    2.61  0.71\n",
      "    Proline:                       278  1680     746   315\n",
      "    ============================= ==== ===== ======= =====\n",
      "\n",
      "    :Missing Attribute Values: None\n",
      "    :Class Distribution: class_0 (59), class_1 (71), class_2 (48)\n",
      "    :Creator: R.A. Fisher\n",
      "    :Donor: Michael Marshall (MARSHALL%PLU@io.arc.nasa.gov)\n",
      "    :Date: July, 1988\n",
      "\n",
      "This is a copy of UCI ML Wine recognition datasets.\n",
      "https://archive.ics.uci.edu/ml/machine-learning-databases/wine/wine.data\n",
      "\n",
      "The data is the results of a chemical analysis of wines grown in the same\n",
      "region in Italy by three different cultivators. There are thirteen different\n",
      "measurements taken for different constituents found in the three types of\n",
      "wine.\n",
      "\n",
      "Original Owners: \n",
      "\n",
      "Forina, M. et al, PARVUS - \n",
      "An Extendible Package for Data Exploration, Classification and Correlation. \n",
      "Institute of Pharmaceutical and Food Analysis and Technologies,\n",
      "Via Brigata Salerno, 16147 Genoa, Italy.\n",
      "\n",
      "Citation:\n",
      "\n",
      "Lichman, M. (2013). UCI Machine Learning Repository\n",
      "[https://archive.ics.uci.edu/ml]. Irvine, CA: University of California,\n",
      "School of Information and Computer Science. \n",
      "\n",
      ".. topic:: References\n",
      "\n",
      "  (1) S. Aeberhard, D. Coomans and O. de Vel, \n",
      "  Comparison of Classifiers in High Dimensional Settings, \n",
      "  Tech. Rep. no. 92-02, (1992), Dept. of Computer Science and Dept. of  \n",
      "  Mathematics and Statistics, James Cook University of North Queensland. \n",
      "  (Also submitted to Technometrics). \n",
      "\n",
      "  The data was used with many others for comparing various \n",
      "  classifiers. The classes are separable, though only RDA \n",
      "  has achieved 100% correct classification. \n",
      "  (RDA : 100%, QDA 99.4%, LDA 98.9%, 1NN 96.1% (z-transformed data)) \n",
      "  (All results using the leave-one-out technique) \n",
      "\n",
      "  (2) S. Aeberhard, D. Coomans and O. de Vel, \n",
      "  \"THE CLASSIFICATION PERFORMANCE OF RDA\" \n",
      "  Tech. Rep. no. 92-01, (1992), Dept. of Computer Science and Dept. of \n",
      "  Mathematics and Statistics, James Cook University of North Queensland. \n",
      "  (Also submitted to Journal of Chemometrics).\n",
      "\n"
     ]
    }
   ],
   "source": [
    "print(wine.DESCR)"
   ]
  },
  {
   "cell_type": "code",
   "execution_count": 39,
   "id": "14eeb5d4",
   "metadata": {
    "execution": {
     "iopub.execute_input": "2022-10-29T23:49:55.108373Z",
     "iopub.status.busy": "2022-10-29T23:49:55.107631Z",
     "iopub.status.idle": "2022-10-29T23:49:55.113705Z",
     "shell.execute_reply": "2022-10-29T23:49:55.112937Z"
    },
    "papermill": {
     "duration": 0.043786,
     "end_time": "2022-10-29T23:49:55.115957",
     "exception": false,
     "start_time": "2022-10-29T23:49:55.072171",
     "status": "completed"
    },
    "tags": []
   },
   "outputs": [],
   "source": [
    "from sklearn.model_selection import train_test_split\n",
    "\n",
    "X_train, X_test, y_train, y_test = train_test_split(\n",
    "    wine.data, wine.target, random_state=42)"
   ]
  },
  {
   "cell_type": "code",
   "execution_count": 40,
   "id": "46a79c0e",
   "metadata": {
    "execution": {
     "iopub.execute_input": "2022-10-29T23:49:55.186571Z",
     "iopub.status.busy": "2022-10-29T23:49:55.185846Z",
     "iopub.status.idle": "2022-10-29T23:49:55.210563Z",
     "shell.execute_reply": "2022-10-29T23:49:55.209783Z"
    },
    "papermill": {
     "duration": 0.062746,
     "end_time": "2022-10-29T23:49:55.212511",
     "exception": false,
     "start_time": "2022-10-29T23:49:55.149765",
     "status": "completed"
    },
    "tags": []
   },
   "outputs": [
    {
     "data": {
      "text/html": [
       "<div>\n",
       "<style scoped>\n",
       "    .dataframe tbody tr th:only-of-type {\n",
       "        vertical-align: middle;\n",
       "    }\n",
       "\n",
       "    .dataframe tbody tr th {\n",
       "        vertical-align: top;\n",
       "    }\n",
       "\n",
       "    .dataframe thead th {\n",
       "        text-align: right;\n",
       "    }\n",
       "</style>\n",
       "<table border=\"1\" class=\"dataframe\">\n",
       "  <thead>\n",
       "    <tr style=\"text-align: right;\">\n",
       "      <th></th>\n",
       "      <th>alcohol</th>\n",
       "      <th>malic_acid</th>\n",
       "      <th>ash</th>\n",
       "      <th>alcalinity_of_ash</th>\n",
       "      <th>magnesium</th>\n",
       "      <th>total_phenols</th>\n",
       "      <th>flavanoids</th>\n",
       "      <th>nonflavanoid_phenols</th>\n",
       "      <th>proanthocyanins</th>\n",
       "      <th>color_intensity</th>\n",
       "      <th>hue</th>\n",
       "      <th>od280/od315_of_diluted_wines</th>\n",
       "      <th>proline</th>\n",
       "    </tr>\n",
       "  </thead>\n",
       "  <tbody>\n",
       "    <tr>\n",
       "      <th>2</th>\n",
       "      <td>13.16</td>\n",
       "      <td>2.36</td>\n",
       "      <td>2.67</td>\n",
       "      <td>18.6</td>\n",
       "      <td>101.0</td>\n",
       "      <td>2.80</td>\n",
       "      <td>3.24</td>\n",
       "      <td>0.30</td>\n",
       "      <td>2.81</td>\n",
       "      <td>5.68</td>\n",
       "      <td>1.03</td>\n",
       "      <td>3.17</td>\n",
       "      <td>1185.0</td>\n",
       "    </tr>\n",
       "    <tr>\n",
       "      <th>100</th>\n",
       "      <td>12.08</td>\n",
       "      <td>2.08</td>\n",
       "      <td>1.70</td>\n",
       "      <td>17.5</td>\n",
       "      <td>97.0</td>\n",
       "      <td>2.23</td>\n",
       "      <td>2.17</td>\n",
       "      <td>0.26</td>\n",
       "      <td>1.40</td>\n",
       "      <td>3.30</td>\n",
       "      <td>1.27</td>\n",
       "      <td>2.96</td>\n",
       "      <td>710.0</td>\n",
       "    </tr>\n",
       "    <tr>\n",
       "      <th>122</th>\n",
       "      <td>12.42</td>\n",
       "      <td>4.43</td>\n",
       "      <td>2.73</td>\n",
       "      <td>26.5</td>\n",
       "      <td>102.0</td>\n",
       "      <td>2.20</td>\n",
       "      <td>2.13</td>\n",
       "      <td>0.43</td>\n",
       "      <td>1.71</td>\n",
       "      <td>2.08</td>\n",
       "      <td>0.92</td>\n",
       "      <td>3.12</td>\n",
       "      <td>365.0</td>\n",
       "    </tr>\n",
       "    <tr>\n",
       "      <th>154</th>\n",
       "      <td>12.58</td>\n",
       "      <td>1.29</td>\n",
       "      <td>2.10</td>\n",
       "      <td>20.0</td>\n",
       "      <td>103.0</td>\n",
       "      <td>1.48</td>\n",
       "      <td>0.58</td>\n",
       "      <td>0.53</td>\n",
       "      <td>1.40</td>\n",
       "      <td>7.60</td>\n",
       "      <td>0.58</td>\n",
       "      <td>1.55</td>\n",
       "      <td>640.0</td>\n",
       "    </tr>\n",
       "    <tr>\n",
       "      <th>51</th>\n",
       "      <td>13.83</td>\n",
       "      <td>1.65</td>\n",
       "      <td>2.60</td>\n",
       "      <td>17.2</td>\n",
       "      <td>94.0</td>\n",
       "      <td>2.45</td>\n",
       "      <td>2.99</td>\n",
       "      <td>0.22</td>\n",
       "      <td>2.29</td>\n",
       "      <td>5.60</td>\n",
       "      <td>1.24</td>\n",
       "      <td>3.37</td>\n",
       "      <td>1265.0</td>\n",
       "    </tr>\n",
       "  </tbody>\n",
       "</table>\n",
       "</div>"
      ],
      "text/plain": [
       "     alcohol  malic_acid   ash  alcalinity_of_ash  magnesium  total_phenols  \\\n",
       "2      13.16        2.36  2.67               18.6      101.0           2.80   \n",
       "100    12.08        2.08  1.70               17.5       97.0           2.23   \n",
       "122    12.42        4.43  2.73               26.5      102.0           2.20   \n",
       "154    12.58        1.29  2.10               20.0      103.0           1.48   \n",
       "51     13.83        1.65  2.60               17.2       94.0           2.45   \n",
       "\n",
       "     flavanoids  nonflavanoid_phenols  proanthocyanins  color_intensity   hue  \\\n",
       "2          3.24                  0.30             2.81             5.68  1.03   \n",
       "100        2.17                  0.26             1.40             3.30  1.27   \n",
       "122        2.13                  0.43             1.71             2.08  0.92   \n",
       "154        0.58                  0.53             1.40             7.60  0.58   \n",
       "51         2.99                  0.22             2.29             5.60  1.24   \n",
       "\n",
       "     od280/od315_of_diluted_wines  proline  \n",
       "2                            3.17   1185.0  \n",
       "100                          2.96    710.0  \n",
       "122                          3.12    365.0  \n",
       "154                          1.55    640.0  \n",
       "51                           3.37   1265.0  "
      ]
     },
     "execution_count": 40,
     "metadata": {},
     "output_type": "execute_result"
    }
   ],
   "source": [
    "X_train.head()"
   ]
  },
  {
   "cell_type": "code",
   "execution_count": 41,
   "id": "521a8388",
   "metadata": {
    "execution": {
     "iopub.execute_input": "2022-10-29T23:49:55.282370Z",
     "iopub.status.busy": "2022-10-29T23:49:55.281569Z",
     "iopub.status.idle": "2022-10-29T23:49:55.288291Z",
     "shell.execute_reply": "2022-10-29T23:49:55.287456Z"
    },
    "papermill": {
     "duration": 0.044139,
     "end_time": "2022-10-29T23:49:55.290352",
     "exception": false,
     "start_time": "2022-10-29T23:49:55.246213",
     "status": "completed"
    },
    "tags": []
   },
   "outputs": [
    {
     "data": {
      "text/plain": [
       "2      0\n",
       "100    1\n",
       "122    1\n",
       "154    2\n",
       "51     0\n",
       "Name: target, dtype: int64"
      ]
     },
     "execution_count": 41,
     "metadata": {},
     "output_type": "execute_result"
    }
   ],
   "source": [
    "y_train.head()"
   ]
  },
  {
   "cell_type": "markdown",
   "id": "93ac4e69",
   "metadata": {
    "papermill": {
     "duration": 0.034189,
     "end_time": "2022-10-29T23:49:55.358630",
     "exception": false,
     "start_time": "2022-10-29T23:49:55.324441",
     "status": "completed"
    },
    "tags": []
   },
   "source": [
    "Let's start simple, with a linear SVM classifier. It will automatically use the One-vs-All (also called One-vs-the-Rest, OvR) strategy, so there's nothing special we need to do to handle multiple classes. Easy, right?"
   ]
  },
  {
   "cell_type": "code",
   "execution_count": 42,
   "id": "67654f9b",
   "metadata": {
    "execution": {
     "iopub.execute_input": "2022-10-29T23:49:55.428600Z",
     "iopub.status.busy": "2022-10-29T23:49:55.427628Z",
     "iopub.status.idle": "2022-10-29T23:49:55.462530Z",
     "shell.execute_reply": "2022-10-29T23:49:55.460758Z"
    },
    "papermill": {
     "duration": 0.072689,
     "end_time": "2022-10-29T23:49:55.465233",
     "exception": false,
     "start_time": "2022-10-29T23:49:55.392544",
     "status": "completed"
    },
    "tags": []
   },
   "outputs": [
    {
     "name": "stderr",
     "output_type": "stream",
     "text": [
      "/opt/conda/lib/python3.7/site-packages/sklearn/svm/_base.py:1208: ConvergenceWarning: Liblinear failed to converge, increase the number of iterations.\n",
      "  ConvergenceWarning,\n"
     ]
    },
    {
     "data": {
      "text/plain": [
       "LinearSVC(random_state=42)"
      ]
     },
     "execution_count": 42,
     "metadata": {},
     "output_type": "execute_result"
    }
   ],
   "source": [
    "lin_clf = LinearSVC(random_state=42)\n",
    "lin_clf.fit(X_train, y_train)"
   ]
  },
  {
   "cell_type": "markdown",
   "id": "e9b56cd8",
   "metadata": {
    "papermill": {
     "duration": 0.033699,
     "end_time": "2022-10-29T23:49:55.532682",
     "exception": false,
     "start_time": "2022-10-29T23:49:55.498983",
     "status": "completed"
    },
    "tags": []
   },
   "source": [
    "Oh no! It failed to converge. Can you guess why? Do you think we must just increase the number of training iterations? Let's see:"
   ]
  },
  {
   "cell_type": "code",
   "execution_count": 43,
   "id": "6fa6c851",
   "metadata": {
    "execution": {
     "iopub.execute_input": "2022-10-29T23:49:55.604698Z",
     "iopub.status.busy": "2022-10-29T23:49:55.603404Z",
     "iopub.status.idle": "2022-10-29T23:50:00.598968Z",
     "shell.execute_reply": "2022-10-29T23:50:00.597621Z"
    },
    "papermill": {
     "duration": 5.03505,
     "end_time": "2022-10-29T23:50:00.602364",
     "exception": false,
     "start_time": "2022-10-29T23:49:55.567314",
     "status": "completed"
    },
    "tags": []
   },
   "outputs": [
    {
     "name": "stderr",
     "output_type": "stream",
     "text": [
      "/opt/conda/lib/python3.7/site-packages/sklearn/svm/_base.py:1208: ConvergenceWarning: Liblinear failed to converge, increase the number of iterations.\n",
      "  ConvergenceWarning,\n"
     ]
    },
    {
     "data": {
      "text/plain": [
       "LinearSVC(max_iter=1000000, random_state=42)"
      ]
     },
     "execution_count": 43,
     "metadata": {},
     "output_type": "execute_result"
    }
   ],
   "source": [
    "lin_clf = LinearSVC(max_iter=1_000_000, random_state=42)\n",
    "lin_clf.fit(X_train, y_train)"
   ]
  },
  {
   "cell_type": "markdown",
   "id": "718a5bf1",
   "metadata": {
    "papermill": {
     "duration": 0.03523,
     "end_time": "2022-10-29T23:50:00.673131",
     "exception": false,
     "start_time": "2022-10-29T23:50:00.637901",
     "status": "completed"
    },
    "tags": []
   },
   "source": [
    "Even with one million iterations, it still did not converge. There must be another problem.\n",
    "\n",
    "Let's still evaluate this model with `cross_val_score`, it will serve as a baseline:"
   ]
  },
  {
   "cell_type": "code",
   "execution_count": 44,
   "id": "1eaf27a5",
   "metadata": {
    "execution": {
     "iopub.execute_input": "2022-10-29T23:50:00.746331Z",
     "iopub.status.busy": "2022-10-29T23:50:00.745231Z",
     "iopub.status.idle": "2022-10-29T23:50:21.303378Z",
     "shell.execute_reply": "2022-10-29T23:50:21.302066Z"
    },
    "papermill": {
     "duration": 20.597568,
     "end_time": "2022-10-29T23:50:21.306244",
     "exception": false,
     "start_time": "2022-10-29T23:50:00.708676",
     "status": "completed"
    },
    "tags": []
   },
   "outputs": [
    {
     "name": "stderr",
     "output_type": "stream",
     "text": [
      "/opt/conda/lib/python3.7/site-packages/sklearn/svm/_base.py:1208: ConvergenceWarning: Liblinear failed to converge, increase the number of iterations.\n",
      "  ConvergenceWarning,\n",
      "/opt/conda/lib/python3.7/site-packages/sklearn/svm/_base.py:1208: ConvergenceWarning: Liblinear failed to converge, increase the number of iterations.\n",
      "  ConvergenceWarning,\n",
      "/opt/conda/lib/python3.7/site-packages/sklearn/svm/_base.py:1208: ConvergenceWarning: Liblinear failed to converge, increase the number of iterations.\n",
      "  ConvergenceWarning,\n",
      "/opt/conda/lib/python3.7/site-packages/sklearn/svm/_base.py:1208: ConvergenceWarning: Liblinear failed to converge, increase the number of iterations.\n",
      "  ConvergenceWarning,\n",
      "/opt/conda/lib/python3.7/site-packages/sklearn/svm/_base.py:1208: ConvergenceWarning: Liblinear failed to converge, increase the number of iterations.\n",
      "  ConvergenceWarning,\n"
     ]
    },
    {
     "data": {
      "text/plain": [
       "0.90997150997151"
      ]
     },
     "execution_count": 44,
     "metadata": {},
     "output_type": "execute_result"
    }
   ],
   "source": [
    "from sklearn.model_selection import cross_val_score\n",
    "\n",
    "cross_val_score(lin_clf, X_train, y_train).mean()"
   ]
  },
  {
   "cell_type": "markdown",
   "id": "91d1f903",
   "metadata": {
    "papermill": {
     "duration": 0.034091,
     "end_time": "2022-10-29T23:50:21.376682",
     "exception": false,
     "start_time": "2022-10-29T23:50:21.342591",
     "status": "completed"
    },
    "tags": []
   },
   "source": [
    "Well 91% accuracy on this dataset is not great. So did you guess what the problem is?\n",
    "\n",
    "That's right, we forgot to scale the features! Always remember to scale the features when using SVMs:"
   ]
  },
  {
   "cell_type": "code",
   "execution_count": 45,
   "id": "7f2ee940",
   "metadata": {
    "execution": {
     "iopub.execute_input": "2022-10-29T23:50:21.447284Z",
     "iopub.status.busy": "2022-10-29T23:50:21.446895Z",
     "iopub.status.idle": "2022-10-29T23:50:21.461934Z",
     "shell.execute_reply": "2022-10-29T23:50:21.461011Z"
    },
    "papermill": {
     "duration": 0.052845,
     "end_time": "2022-10-29T23:50:21.464036",
     "exception": false,
     "start_time": "2022-10-29T23:50:21.411191",
     "status": "completed"
    },
    "tags": []
   },
   "outputs": [
    {
     "data": {
      "text/plain": [
       "Pipeline(steps=[('standardscaler', StandardScaler()),\n",
       "                ('linearsvc', LinearSVC(random_state=42))])"
      ]
     },
     "execution_count": 45,
     "metadata": {},
     "output_type": "execute_result"
    }
   ],
   "source": [
    "lin_clf = make_pipeline(StandardScaler(),\n",
    "                        LinearSVC(random_state=42))\n",
    "lin_clf.fit(X_train, y_train)"
   ]
  },
  {
   "cell_type": "markdown",
   "id": "fe223b6c",
   "metadata": {
    "papermill": {
     "duration": 0.033691,
     "end_time": "2022-10-29T23:50:21.532215",
     "exception": false,
     "start_time": "2022-10-29T23:50:21.498524",
     "status": "completed"
    },
    "tags": []
   },
   "source": [
    "Now it converges without any problem. Let's measure its performance:"
   ]
  },
  {
   "cell_type": "code",
   "execution_count": 46,
   "id": "1ad136ad",
   "metadata": {
    "execution": {
     "iopub.execute_input": "2022-10-29T23:50:21.602295Z",
     "iopub.status.busy": "2022-10-29T23:50:21.601904Z",
     "iopub.status.idle": "2022-10-29T23:50:21.649984Z",
     "shell.execute_reply": "2022-10-29T23:50:21.649114Z"
    },
    "papermill": {
     "duration": 0.08628,
     "end_time": "2022-10-29T23:50:21.652617",
     "exception": false,
     "start_time": "2022-10-29T23:50:21.566337",
     "status": "completed"
    },
    "tags": []
   },
   "outputs": [
    {
     "data": {
      "text/plain": [
       "0.9774928774928775"
      ]
     },
     "execution_count": 46,
     "metadata": {},
     "output_type": "execute_result"
    }
   ],
   "source": [
    "from sklearn.model_selection import cross_val_score\n",
    "\n",
    "cross_val_score(lin_clf, X_train, y_train).mean()"
   ]
  },
  {
   "cell_type": "markdown",
   "id": "52fd7e66",
   "metadata": {
    "papermill": {
     "duration": 0.036382,
     "end_time": "2022-10-29T23:50:21.726675",
     "exception": false,
     "start_time": "2022-10-29T23:50:21.690293",
     "status": "completed"
    },
    "tags": []
   },
   "source": [
    "Nice! We get 97.7% accuracy, that's much better."
   ]
  },
  {
   "cell_type": "markdown",
   "id": "686731dc",
   "metadata": {
    "papermill": {
     "duration": 0.035857,
     "end_time": "2022-10-29T23:50:21.799197",
     "exception": false,
     "start_time": "2022-10-29T23:50:21.763340",
     "status": "completed"
    },
    "tags": []
   },
   "source": [
    "Let's see if a kernelized SVM will do better. We will use a default `SVC` for now:"
   ]
  },
  {
   "cell_type": "code",
   "execution_count": 47,
   "id": "547a954b",
   "metadata": {
    "execution": {
     "iopub.execute_input": "2022-10-29T23:50:21.872688Z",
     "iopub.status.busy": "2022-10-29T23:50:21.872021Z",
     "iopub.status.idle": "2022-10-29T23:50:21.920746Z",
     "shell.execute_reply": "2022-10-29T23:50:21.919895Z"
    },
    "papermill": {
     "duration": 0.088223,
     "end_time": "2022-10-29T23:50:21.923125",
     "exception": false,
     "start_time": "2022-10-29T23:50:21.834902",
     "status": "completed"
    },
    "tags": []
   },
   "outputs": [
    {
     "data": {
      "text/plain": [
       "0.9698005698005698"
      ]
     },
     "execution_count": 47,
     "metadata": {},
     "output_type": "execute_result"
    }
   ],
   "source": [
    "svm_clf = make_pipeline(StandardScaler(), SVC(random_state=42))\n",
    "cross_val_score(svm_clf, X_train, y_train).mean()"
   ]
  },
  {
   "cell_type": "markdown",
   "id": "92e306a5",
   "metadata": {
    "papermill": {
     "duration": 0.034679,
     "end_time": "2022-10-29T23:50:21.992680",
     "exception": false,
     "start_time": "2022-10-29T23:50:21.958001",
     "status": "completed"
    },
    "tags": []
   },
   "source": [
    "That's not better, but perhaps we need to do a bit of hyperparameter tuning:"
   ]
  },
  {
   "cell_type": "code",
   "execution_count": 48,
   "id": "12c75617",
   "metadata": {
    "execution": {
     "iopub.execute_input": "2022-10-29T23:50:22.066030Z",
     "iopub.status.busy": "2022-10-29T23:50:22.064917Z",
     "iopub.status.idle": "2022-10-29T23:50:25.707174Z",
     "shell.execute_reply": "2022-10-29T23:50:25.706047Z"
    },
    "papermill": {
     "duration": 3.682063,
     "end_time": "2022-10-29T23:50:25.709603",
     "exception": false,
     "start_time": "2022-10-29T23:50:22.027540",
     "status": "completed"
    },
    "tags": []
   },
   "outputs": [
    {
     "data": {
      "text/plain": [
       "Pipeline(steps=[('standardscaler', StandardScaler()),\n",
       "                ('svc',\n",
       "                 SVC(C=9.925589984899778, gamma=0.011986281799901176,\n",
       "                     random_state=42))])"
      ]
     },
     "execution_count": 48,
     "metadata": {},
     "output_type": "execute_result"
    }
   ],
   "source": [
    "from sklearn.model_selection import RandomizedSearchCV\n",
    "from scipy.stats import reciprocal, uniform\n",
    "\n",
    "param_distrib = {\n",
    "    \"svc__gamma\": reciprocal(0.001, 0.1),\n",
    "    \"svc__C\": uniform(1, 10)\n",
    "}\n",
    "rnd_search_cv = RandomizedSearchCV(svm_clf, param_distrib, n_iter=100, cv=5,\n",
    "                                   random_state=42)\n",
    "rnd_search_cv.fit(X_train, y_train)\n",
    "rnd_search_cv.best_estimator_"
   ]
  },
  {
   "cell_type": "code",
   "execution_count": 49,
   "id": "d5920d9d",
   "metadata": {
    "execution": {
     "iopub.execute_input": "2022-10-29T23:50:25.782953Z",
     "iopub.status.busy": "2022-10-29T23:50:25.782499Z",
     "iopub.status.idle": "2022-10-29T23:50:25.790105Z",
     "shell.execute_reply": "2022-10-29T23:50:25.788947Z"
    },
    "papermill": {
     "duration": 0.046883,
     "end_time": "2022-10-29T23:50:25.792153",
     "exception": false,
     "start_time": "2022-10-29T23:50:25.745270",
     "status": "completed"
    },
    "tags": []
   },
   "outputs": [
    {
     "data": {
      "text/plain": [
       "0.9925925925925926"
      ]
     },
     "execution_count": 49,
     "metadata": {},
     "output_type": "execute_result"
    }
   ],
   "source": [
    "rnd_search_cv.best_score_"
   ]
  },
  {
   "cell_type": "markdown",
   "id": "79dda6e1",
   "metadata": {
    "papermill": {
     "duration": 0.034344,
     "end_time": "2022-10-29T23:50:25.861482",
     "exception": false,
     "start_time": "2022-10-29T23:50:25.827138",
     "status": "completed"
    },
    "tags": []
   },
   "source": [
    "Ah, this looks excellent! Let's select this model. Now we can test it on the test set:"
   ]
  },
  {
   "cell_type": "code",
   "execution_count": 50,
   "id": "0f7e968c",
   "metadata": {
    "execution": {
     "iopub.execute_input": "2022-10-29T23:50:25.933908Z",
     "iopub.status.busy": "2022-10-29T23:50:25.933477Z",
     "iopub.status.idle": "2022-10-29T23:50:25.943544Z",
     "shell.execute_reply": "2022-10-29T23:50:25.942781Z"
    },
    "papermill": {
     "duration": 0.048661,
     "end_time": "2022-10-29T23:50:25.945544",
     "exception": false,
     "start_time": "2022-10-29T23:50:25.896883",
     "status": "completed"
    },
    "tags": []
   },
   "outputs": [
    {
     "data": {
      "text/plain": [
       "0.9777777777777777"
      ]
     },
     "execution_count": 50,
     "metadata": {},
     "output_type": "execute_result"
    }
   ],
   "source": [
    "rnd_search_cv.score(X_test, y_test)"
   ]
  },
  {
   "cell_type": "markdown",
   "id": "39325f8a",
   "metadata": {
    "papermill": {
     "duration": 0.038873,
     "end_time": "2022-10-29T23:50:26.020086",
     "exception": false,
     "start_time": "2022-10-29T23:50:25.981213",
     "status": "completed"
    },
    "tags": []
   },
   "source": [
    "This tuned kernelized SVM performs better than the `LinearSVC` model, but we get a lower score on the test set than we measured using cross-validation. This is quite common: since we did so much hyperparameter tuning, we ended up slightly overfitting the cross-validation test sets. It's tempting to tweak the hyperparameters a bit more until we get a better result on the test set, but this would probably not help, as we would just start overfitting the test set. Anyway, this score is not bad at all, so let's stop here."
   ]
  },
  {
   "cell_type": "markdown",
   "id": "21609f47",
   "metadata": {
    "papermill": {
     "duration": 0.035802,
     "end_time": "2022-10-29T23:50:26.091705",
     "exception": false,
     "start_time": "2022-10-29T23:50:26.055903",
     "status": "completed"
    },
    "tags": []
   },
   "source": [
    "## 11."
   ]
  },
  {
   "cell_type": "markdown",
   "id": "07c58f30",
   "metadata": {
    "papermill": {
     "duration": 0.034815,
     "end_time": "2022-10-29T23:50:26.161380",
     "exception": false,
     "start_time": "2022-10-29T23:50:26.126565",
     "status": "completed"
    },
    "tags": []
   },
   "source": [
    "_Exercise: Train and fine-tune an SVM regressor on the California housing dataset. You can use the original dataset rather than the tweaked version we used in Chapter 2. The original dataset can be fetched using `sklearn.datasets.fetch_california_housing()`. The targets represent hundreds of thousands of dollars. Since there are over 20,000 instances, SVMs can be slow, so for hyperparameter tuning you should use much less instances (e.g., 2,000), to test many more hyperparameter combinations. What is your best model's RMSE?_"
   ]
  },
  {
   "cell_type": "markdown",
   "id": "94d0f21f",
   "metadata": {
    "papermill": {
     "duration": 0.034049,
     "end_time": "2022-10-29T23:50:26.230370",
     "exception": false,
     "start_time": "2022-10-29T23:50:26.196321",
     "status": "completed"
    },
    "tags": []
   },
   "source": [
    "Let's load the dataset:"
   ]
  },
  {
   "cell_type": "code",
   "execution_count": 51,
   "id": "af41a18a",
   "metadata": {
    "execution": {
     "iopub.execute_input": "2022-10-29T23:50:26.302032Z",
     "iopub.status.busy": "2022-10-29T23:50:26.301211Z",
     "iopub.status.idle": "2022-10-29T23:50:27.960640Z",
     "shell.execute_reply": "2022-10-29T23:50:27.959228Z"
    },
    "papermill": {
     "duration": 1.698513,
     "end_time": "2022-10-29T23:50:27.963423",
     "exception": false,
     "start_time": "2022-10-29T23:50:26.264910",
     "status": "completed"
    },
    "tags": []
   },
   "outputs": [],
   "source": [
    "from sklearn.datasets import fetch_california_housing\n",
    "\n",
    "housing = fetch_california_housing()\n",
    "X = housing.data\n",
    "y = housing.target"
   ]
  },
  {
   "cell_type": "markdown",
   "id": "badb4438",
   "metadata": {
    "papermill": {
     "duration": 0.03533,
     "end_time": "2022-10-29T23:50:28.034678",
     "exception": false,
     "start_time": "2022-10-29T23:50:27.999348",
     "status": "completed"
    },
    "tags": []
   },
   "source": [
    "Split it into a training set and a test set:"
   ]
  },
  {
   "cell_type": "code",
   "execution_count": 52,
   "id": "bd1772a8",
   "metadata": {
    "execution": {
     "iopub.execute_input": "2022-10-29T23:50:28.107797Z",
     "iopub.status.busy": "2022-10-29T23:50:28.107370Z",
     "iopub.status.idle": "2022-10-29T23:50:28.114646Z",
     "shell.execute_reply": "2022-10-29T23:50:28.113887Z"
    },
    "papermill": {
     "duration": 0.046548,
     "end_time": "2022-10-29T23:50:28.116655",
     "exception": false,
     "start_time": "2022-10-29T23:50:28.070107",
     "status": "completed"
    },
    "tags": []
   },
   "outputs": [],
   "source": [
    "from sklearn.model_selection import train_test_split\n",
    "\n",
    "X_train, X_test, y_train, y_test = train_test_split(X, y, test_size=0.2,\n",
    "                                                    random_state=42)"
   ]
  },
  {
   "cell_type": "markdown",
   "id": "807427a8",
   "metadata": {
    "papermill": {
     "duration": 0.034967,
     "end_time": "2022-10-29T23:50:28.187325",
     "exception": false,
     "start_time": "2022-10-29T23:50:28.152358",
     "status": "completed"
    },
    "tags": []
   },
   "source": [
    "Don't forget to scale the data!"
   ]
  },
  {
   "cell_type": "markdown",
   "id": "a74d3cec",
   "metadata": {
    "papermill": {
     "duration": 0.034642,
     "end_time": "2022-10-29T23:50:28.257331",
     "exception": false,
     "start_time": "2022-10-29T23:50:28.222689",
     "status": "completed"
    },
    "tags": []
   },
   "source": [
    "Let's train a simple `LinearSVR` first:"
   ]
  },
  {
   "cell_type": "code",
   "execution_count": 53,
   "id": "c586929e",
   "metadata": {
    "execution": {
     "iopub.execute_input": "2022-10-29T23:50:28.330055Z",
     "iopub.status.busy": "2022-10-29T23:50:28.329378Z",
     "iopub.status.idle": "2022-10-29T23:50:29.518195Z",
     "shell.execute_reply": "2022-10-29T23:50:29.516818Z"
    },
    "papermill": {
     "duration": 1.227864,
     "end_time": "2022-10-29T23:50:29.520548",
     "exception": false,
     "start_time": "2022-10-29T23:50:28.292684",
     "status": "completed"
    },
    "tags": []
   },
   "outputs": [
    {
     "name": "stderr",
     "output_type": "stream",
     "text": [
      "/opt/conda/lib/python3.7/site-packages/sklearn/svm/_base.py:1208: ConvergenceWarning: Liblinear failed to converge, increase the number of iterations.\n",
      "  ConvergenceWarning,\n"
     ]
    },
    {
     "data": {
      "text/plain": [
       "Pipeline(steps=[('standardscaler', StandardScaler()),\n",
       "                ('linearsvr', LinearSVR(random_state=42))])"
      ]
     },
     "execution_count": 53,
     "metadata": {},
     "output_type": "execute_result"
    }
   ],
   "source": [
    "from sklearn.svm import LinearSVR\n",
    "\n",
    "lin_svr = make_pipeline(StandardScaler(), LinearSVR(random_state=42))\n",
    "lin_svr.fit(X_train, y_train)"
   ]
  },
  {
   "cell_type": "markdown",
   "id": "4cc4205d",
   "metadata": {
    "papermill": {
     "duration": 0.035636,
     "end_time": "2022-10-29T23:50:29.592253",
     "exception": false,
     "start_time": "2022-10-29T23:50:29.556617",
     "status": "completed"
    },
    "tags": []
   },
   "source": [
    "It did not converge, so let's increase `max_iter`:"
   ]
  },
  {
   "cell_type": "code",
   "execution_count": 54,
   "id": "5a49c78c",
   "metadata": {
    "execution": {
     "iopub.execute_input": "2022-10-29T23:50:29.665505Z",
     "iopub.status.busy": "2022-10-29T23:50:29.664291Z",
     "iopub.status.idle": "2022-10-29T23:50:32.405717Z",
     "shell.execute_reply": "2022-10-29T23:50:32.404668Z"
    },
    "papermill": {
     "duration": 2.780398,
     "end_time": "2022-10-29T23:50:32.408036",
     "exception": false,
     "start_time": "2022-10-29T23:50:29.627638",
     "status": "completed"
    },
    "tags": []
   },
   "outputs": [
    {
     "data": {
      "text/plain": [
       "Pipeline(steps=[('standardscaler', StandardScaler()),\n",
       "                ('linearsvr', LinearSVR(max_iter=5000, random_state=42))])"
      ]
     },
     "execution_count": 54,
     "metadata": {},
     "output_type": "execute_result"
    }
   ],
   "source": [
    "lin_svr = make_pipeline(StandardScaler(),\n",
    "                        LinearSVR(max_iter=5000, random_state=42))\n",
    "lin_svr.fit(X_train, y_train)"
   ]
  },
  {
   "cell_type": "markdown",
   "id": "2780530c",
   "metadata": {
    "papermill": {
     "duration": 0.035877,
     "end_time": "2022-10-29T23:50:32.480546",
     "exception": false,
     "start_time": "2022-10-29T23:50:32.444669",
     "status": "completed"
    },
    "tags": []
   },
   "source": [
    "Let's see how it performs on the training set:"
   ]
  },
  {
   "cell_type": "code",
   "execution_count": 55,
   "id": "13be478f",
   "metadata": {
    "execution": {
     "iopub.execute_input": "2022-10-29T23:50:32.555297Z",
     "iopub.status.busy": "2022-10-29T23:50:32.554263Z",
     "iopub.status.idle": "2022-10-29T23:50:32.572435Z",
     "shell.execute_reply": "2022-10-29T23:50:32.571024Z"
    },
    "papermill": {
     "duration": 0.059856,
     "end_time": "2022-10-29T23:50:32.576444",
     "exception": false,
     "start_time": "2022-10-29T23:50:32.516588",
     "status": "completed"
    },
    "tags": []
   },
   "outputs": [
    {
     "data": {
      "text/plain": [
       "0.9595484665813285"
      ]
     },
     "execution_count": 55,
     "metadata": {},
     "output_type": "execute_result"
    }
   ],
   "source": [
    "from sklearn.metrics import mean_squared_error\n",
    "\n",
    "y_pred = lin_svr.predict(X_train)\n",
    "mse = mean_squared_error(y_train, y_pred)\n",
    "mse"
   ]
  },
  {
   "cell_type": "markdown",
   "id": "daf213b6",
   "metadata": {
    "papermill": {
     "duration": 0.04697,
     "end_time": "2022-10-29T23:50:32.713172",
     "exception": false,
     "start_time": "2022-10-29T23:50:32.666202",
     "status": "completed"
    },
    "tags": []
   },
   "source": [
    "Let's look at the RMSE:"
   ]
  },
  {
   "cell_type": "code",
   "execution_count": 56,
   "id": "949582bc",
   "metadata": {
    "execution": {
     "iopub.execute_input": "2022-10-29T23:50:32.787719Z",
     "iopub.status.busy": "2022-10-29T23:50:32.787322Z",
     "iopub.status.idle": "2022-10-29T23:50:32.795000Z",
     "shell.execute_reply": "2022-10-29T23:50:32.793853Z"
    },
    "papermill": {
     "duration": 0.047881,
     "end_time": "2022-10-29T23:50:32.797257",
     "exception": false,
     "start_time": "2022-10-29T23:50:32.749376",
     "status": "completed"
    },
    "tags": []
   },
   "outputs": [
    {
     "data": {
      "text/plain": [
       "0.979565447829459"
      ]
     },
     "execution_count": 56,
     "metadata": {},
     "output_type": "execute_result"
    }
   ],
   "source": [
    "np.sqrt(mse)"
   ]
  },
  {
   "cell_type": "markdown",
   "id": "d110bfc6",
   "metadata": {
    "papermill": {
     "duration": 0.035834,
     "end_time": "2022-10-29T23:50:32.872878",
     "exception": false,
     "start_time": "2022-10-29T23:50:32.837044",
     "status": "completed"
    },
    "tags": []
   },
   "source": [
    "In this dataset, the targets represent hundreds of thousands of dollars. The RMSE gives a rough idea of the kind of error you should expect (with a higher weight for large errors): so with this model we can expect errors close to $98,000! Not great. Let's see if we can do better with an RBF Kernel. We will use randomized search with cross validation to find the appropriate hyperparameter values for `C` and `gamma`:"
   ]
  },
  {
   "cell_type": "code",
   "execution_count": 57,
   "id": "72f00620",
   "metadata": {
    "execution": {
     "iopub.execute_input": "2022-10-29T23:50:32.945847Z",
     "iopub.status.busy": "2022-10-29T23:50:32.945434Z",
     "iopub.status.idle": "2022-10-29T23:51:18.226918Z",
     "shell.execute_reply": "2022-10-29T23:51:18.225775Z"
    },
    "papermill": {
     "duration": 45.356742,
     "end_time": "2022-10-29T23:51:18.265177",
     "exception": false,
     "start_time": "2022-10-29T23:50:32.908435",
     "status": "completed"
    },
    "tags": []
   },
   "outputs": [
    {
     "data": {
      "text/plain": [
       "RandomizedSearchCV(cv=3,\n",
       "                   estimator=Pipeline(steps=[('standardscaler',\n",
       "                                              StandardScaler()),\n",
       "                                             ('svr', SVR())]),\n",
       "                   n_iter=100,\n",
       "                   param_distributions={'svr__C': <scipy.stats._distn_infrastructure.rv_frozen object at 0x7ff814cadbd0>,\n",
       "                                        'svr__gamma': <scipy.stats._distn_infrastructure.rv_frozen object at 0x7ff814bdb9d0>},\n",
       "                   random_state=42)"
      ]
     },
     "execution_count": 57,
     "metadata": {},
     "output_type": "execute_result"
    }
   ],
   "source": [
    "from sklearn.svm import SVR\n",
    "from sklearn.model_selection import RandomizedSearchCV\n",
    "from scipy.stats import reciprocal, uniform\n",
    "\n",
    "svm_clf = make_pipeline(StandardScaler(), SVR())\n",
    "\n",
    "param_distrib = {\n",
    "    \"svr__gamma\": reciprocal(0.001, 0.1),\n",
    "    \"svr__C\": uniform(1, 10)\n",
    "}\n",
    "rnd_search_cv = RandomizedSearchCV(svm_clf, param_distrib,\n",
    "                                   n_iter=100, cv=3, random_state=42)\n",
    "rnd_search_cv.fit(X_train[:2000], y_train[:2000])"
   ]
  },
  {
   "cell_type": "code",
   "execution_count": 58,
   "id": "153f48de",
   "metadata": {
    "execution": {
     "iopub.execute_input": "2022-10-29T23:51:18.338623Z",
     "iopub.status.busy": "2022-10-29T23:51:18.338222Z",
     "iopub.status.idle": "2022-10-29T23:51:18.346606Z",
     "shell.execute_reply": "2022-10-29T23:51:18.345579Z"
    },
    "papermill": {
     "duration": 0.047941,
     "end_time": "2022-10-29T23:51:18.348860",
     "exception": false,
     "start_time": "2022-10-29T23:51:18.300919",
     "status": "completed"
    },
    "tags": []
   },
   "outputs": [
    {
     "data": {
      "text/plain": [
       "Pipeline(steps=[('standardscaler', StandardScaler()),\n",
       "                ('svr', SVR(C=4.63629602379294, gamma=0.08781408196485974))])"
      ]
     },
     "execution_count": 58,
     "metadata": {},
     "output_type": "execute_result"
    }
   ],
   "source": [
    "rnd_search_cv.best_estimator_"
   ]
  },
  {
   "cell_type": "code",
   "execution_count": 59,
   "id": "b454adf5",
   "metadata": {
    "execution": {
     "iopub.execute_input": "2022-10-29T23:51:18.422570Z",
     "iopub.status.busy": "2022-10-29T23:51:18.422201Z",
     "iopub.status.idle": "2022-10-29T23:52:17.455066Z",
     "shell.execute_reply": "2022-10-29T23:52:17.453914Z"
    },
    "papermill": {
     "duration": 59.107011,
     "end_time": "2022-10-29T23:52:17.491925",
     "exception": false,
     "start_time": "2022-10-29T23:51:18.384914",
     "status": "completed"
    },
    "tags": []
   },
   "outputs": [
    {
     "data": {
      "text/plain": [
       "array([0.58835648, 0.57468589, 0.58085278, 0.57109886, 0.59853029])"
      ]
     },
     "execution_count": 59,
     "metadata": {},
     "output_type": "execute_result"
    }
   ],
   "source": [
    "-cross_val_score(rnd_search_cv.best_estimator_, X_train, y_train,\n",
    "                 scoring=\"neg_root_mean_squared_error\")"
   ]
  },
  {
   "cell_type": "markdown",
   "id": "cca400ac",
   "metadata": {
    "papermill": {
     "duration": 0.03566,
     "end_time": "2022-10-29T23:52:17.563437",
     "exception": false,
     "start_time": "2022-10-29T23:52:17.527777",
     "status": "completed"
    },
    "tags": []
   },
   "source": [
    "Looks much better than the linear model. Let's select this model and evaluate it on the test set:"
   ]
  },
  {
   "cell_type": "code",
   "execution_count": 60,
   "id": "b57714b6",
   "metadata": {
    "execution": {
     "iopub.execute_input": "2022-10-29T23:52:17.637449Z",
     "iopub.status.busy": "2022-10-29T23:52:17.637056Z",
     "iopub.status.idle": "2022-10-29T23:52:18.005215Z",
     "shell.execute_reply": "2022-10-29T23:52:18.003854Z"
    },
    "papermill": {
     "duration": 0.408571,
     "end_time": "2022-10-29T23:52:18.007763",
     "exception": false,
     "start_time": "2022-10-29T23:52:17.599192",
     "status": "completed"
    },
    "tags": []
   },
   "outputs": [
    {
     "data": {
      "text/plain": [
       "0.5854732265172222"
      ]
     },
     "execution_count": 60,
     "metadata": {},
     "output_type": "execute_result"
    }
   ],
   "source": [
    "y_pred = rnd_search_cv.best_estimator_.predict(X_test)\n",
    "rmse = mean_squared_error(y_test, y_pred, squared=False)\n",
    "rmse"
   ]
  },
  {
   "cell_type": "markdown",
   "id": "4493945c",
   "metadata": {
    "papermill": {
     "duration": 0.036654,
     "end_time": "2022-10-29T23:52:18.081481",
     "exception": false,
     "start_time": "2022-10-29T23:52:18.044827",
     "status": "completed"
    },
    "tags": []
   },
   "source": [
    "So SVMs worked very well on the Wine dataset, but not so much on the California Housing dataset. In Chapter 2, we found that Random Forests worked better for that dataset."
   ]
  },
  {
   "cell_type": "markdown",
   "id": "1fb8da03",
   "metadata": {
    "papermill": {
     "duration": 0.034792,
     "end_time": "2022-10-29T23:52:18.152454",
     "exception": false,
     "start_time": "2022-10-29T23:52:18.117662",
     "status": "completed"
    },
    "tags": []
   },
   "source": [
    "And that's all for today!"
   ]
  },
  {
   "cell_type": "code",
   "execution_count": null,
   "id": "b917c6c0",
   "metadata": {
    "papermill": {
     "duration": 0.035406,
     "end_time": "2022-10-29T23:52:18.223239",
     "exception": false,
     "start_time": "2022-10-29T23:52:18.187833",
     "status": "completed"
    },
    "tags": []
   },
   "outputs": [],
   "source": []
  }
 ],
 "metadata": {
  "kernelspec": {
   "display_name": "Python 3",
   "language": "python",
   "name": "python3"
  },
  "language_info": {
   "codemirror_mode": {
    "name": "ipython",
    "version": 3
   },
   "file_extension": ".py",
   "mimetype": "text/x-python",
   "name": "python",
   "nbconvert_exporter": "python",
   "pygments_lexer": "ipython3",
   "version": "3.7.12"
  },
  "papermill": {
   "default_parameters": {},
   "duration": 175.294827,
   "end_time": "2022-10-29T23:52:18.981156",
   "environment_variables": {},
   "exception": null,
   "input_path": "__notebook__.ipynb",
   "output_path": "__notebook__.ipynb",
   "parameters": {},
   "start_time": "2022-10-29T23:49:23.686329",
   "version": "2.3.4"
  }
 },
 "nbformat": 4,
 "nbformat_minor": 5
}
