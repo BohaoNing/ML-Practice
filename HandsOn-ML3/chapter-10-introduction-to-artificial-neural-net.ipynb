{
 "cells": [
  {
   "cell_type": "markdown",
   "id": "ce1d9a95",
   "metadata": {
    "papermill": {
     "duration": 0.036822,
     "end_time": "2022-11-22T01:35:56.123972",
     "exception": false,
     "start_time": "2022-11-22T01:35:56.087150",
     "status": "completed"
    },
    "tags": []
   },
   "source": [
    "**Chapter 10 – Introduction to Artificial Neural Networks with Keras**"
   ]
  },
  {
   "cell_type": "markdown",
   "id": "2f76441d",
   "metadata": {
    "papermill": {
     "duration": 0.033203,
     "end_time": "2022-11-22T01:35:56.190746",
     "exception": false,
     "start_time": "2022-11-22T01:35:56.157543",
     "status": "completed"
    },
    "tags": []
   },
   "source": [
    "_This notebook contains all the sample code and solutions to the exercises in chapter 10._"
   ]
  },
  {
   "cell_type": "markdown",
   "id": "dc6f5b9d",
   "metadata": {
    "papermill": {
     "duration": 0.03324,
     "end_time": "2022-11-22T01:35:56.257587",
     "exception": false,
     "start_time": "2022-11-22T01:35:56.224347",
     "status": "completed"
    },
    "tags": []
   },
   "source": [
    "<table align=\"left\">\n",
    "  <td>\n",
    "    <a href=\"https://colab.research.google.com/github/ageron/handson-ml3/blob/main/10_neural_nets_with_keras.ipynb\" target=\"_parent\"><img src=\"https://colab.research.google.com/assets/colab-badge.svg\" alt=\"Open In Colab\"/></a>\n",
    "  </td>\n",
    "  <td>\n",
    "    <a target=\"_blank\" href=\"https://kaggle.com/kernels/welcome?src=https://github.com/ageron/handson-ml3/blob/main/10_neural_nets_with_keras.ipynb\"><img src=\"https://kaggle.com/static/images/open-in-kaggle.svg\" /></a>\n",
    "  </td>\n",
    "</table>"
   ]
  },
  {
   "cell_type": "markdown",
   "id": "e7a17a48",
   "metadata": {
    "papermill": {
     "duration": 0.034268,
     "end_time": "2022-11-22T01:35:56.325553",
     "exception": false,
     "start_time": "2022-11-22T01:35:56.291285",
     "status": "completed"
    },
    "tags": []
   },
   "source": [
    "# Setup"
   ]
  },
  {
   "cell_type": "markdown",
   "id": "33a004a3",
   "metadata": {
    "papermill": {
     "duration": 0.033562,
     "end_time": "2022-11-22T01:35:56.393418",
     "exception": false,
     "start_time": "2022-11-22T01:35:56.359856",
     "status": "completed"
    },
    "tags": []
   },
   "source": [
    "This project requires Python 3.7 or above:"
   ]
  },
  {
   "cell_type": "code",
   "execution_count": 1,
   "id": "1b5bbf9c",
   "metadata": {
    "execution": {
     "iopub.execute_input": "2022-11-22T01:35:56.461962Z",
     "iopub.status.busy": "2022-11-22T01:35:56.461521Z",
     "iopub.status.idle": "2022-11-22T01:35:56.471325Z",
     "shell.execute_reply": "2022-11-22T01:35:56.470565Z"
    },
    "papermill": {
     "duration": 0.046534,
     "end_time": "2022-11-22T01:35:56.473442",
     "exception": false,
     "start_time": "2022-11-22T01:35:56.426908",
     "status": "completed"
    },
    "tags": []
   },
   "outputs": [],
   "source": [
    "import sys\n",
    "\n",
    "assert sys.version_info >= (3, 7)"
   ]
  },
  {
   "cell_type": "markdown",
   "id": "c53ed771",
   "metadata": {
    "papermill": {
     "duration": 0.033723,
     "end_time": "2022-11-22T01:35:56.541688",
     "exception": false,
     "start_time": "2022-11-22T01:35:56.507965",
     "status": "completed"
    },
    "tags": []
   },
   "source": [
    "It also requires Scikit-Learn ≥ 1.0.1:"
   ]
  },
  {
   "cell_type": "code",
   "execution_count": 2,
   "id": "e178cef8",
   "metadata": {
    "execution": {
     "iopub.execute_input": "2022-11-22T01:35:56.611731Z",
     "iopub.status.busy": "2022-11-22T01:35:56.610931Z",
     "iopub.status.idle": "2022-11-22T01:35:57.555379Z",
     "shell.execute_reply": "2022-11-22T01:35:57.554555Z"
    },
    "papermill": {
     "duration": 0.981956,
     "end_time": "2022-11-22T01:35:57.557599",
     "exception": false,
     "start_time": "2022-11-22T01:35:56.575643",
     "status": "completed"
    },
    "tags": []
   },
   "outputs": [],
   "source": [
    "from packaging import version\n",
    "import sklearn\n",
    "\n",
    "assert version.parse(sklearn.__version__) >= version.parse(\"1.0.1\")"
   ]
  },
  {
   "cell_type": "markdown",
   "id": "e0eb64de",
   "metadata": {
    "papermill": {
     "duration": 0.033316,
     "end_time": "2022-11-22T01:35:57.628921",
     "exception": false,
     "start_time": "2022-11-22T01:35:57.595605",
     "status": "completed"
    },
    "tags": []
   },
   "source": [
    "And TensorFlow ≥ 2.8:"
   ]
  },
  {
   "cell_type": "code",
   "execution_count": 3,
   "id": "80730c9f",
   "metadata": {
    "execution": {
     "iopub.execute_input": "2022-11-22T01:35:57.698346Z",
     "iopub.status.busy": "2022-11-22T01:35:57.697921Z",
     "iopub.status.idle": "2022-11-22T01:36:03.348776Z",
     "shell.execute_reply": "2022-11-22T01:36:03.347256Z"
    },
    "papermill": {
     "duration": 5.688786,
     "end_time": "2022-11-22T01:36:03.351300",
     "exception": false,
     "start_time": "2022-11-22T01:35:57.662514",
     "status": "completed"
    },
    "tags": []
   },
   "outputs": [],
   "source": [
    "import tensorflow as tf\n",
    "\n",
    "# assert version.parse(tf.__version__) >= version.parse(\"2.8.0\")"
   ]
  },
  {
   "cell_type": "markdown",
   "id": "21317edf",
   "metadata": {
    "papermill": {
     "duration": 0.033859,
     "end_time": "2022-11-22T01:36:03.419977",
     "exception": false,
     "start_time": "2022-11-22T01:36:03.386118",
     "status": "completed"
    },
    "tags": []
   },
   "source": [
    "As we did in previous chapters, let's define the default font sizes to make the figures prettier:"
   ]
  },
  {
   "cell_type": "code",
   "execution_count": 4,
   "id": "0e82836d",
   "metadata": {
    "execution": {
     "iopub.execute_input": "2022-11-22T01:36:03.490186Z",
     "iopub.status.busy": "2022-11-22T01:36:03.489604Z",
     "iopub.status.idle": "2022-11-22T01:36:03.495556Z",
     "shell.execute_reply": "2022-11-22T01:36:03.494480Z"
    },
    "papermill": {
     "duration": 0.043291,
     "end_time": "2022-11-22T01:36:03.497237",
     "exception": false,
     "start_time": "2022-11-22T01:36:03.453946",
     "status": "completed"
    },
    "tags": []
   },
   "outputs": [],
   "source": [
    "import matplotlib.pyplot as plt\n",
    "\n",
    "plt.rc('font', size=14)\n",
    "plt.rc('axes', labelsize=14, titlesize=14)\n",
    "plt.rc('legend', fontsize=14)\n",
    "plt.rc('xtick', labelsize=10)\n",
    "plt.rc('ytick', labelsize=10)"
   ]
  },
  {
   "cell_type": "markdown",
   "id": "e9e4d137",
   "metadata": {
    "papermill": {
     "duration": 0.033256,
     "end_time": "2022-11-22T01:36:03.564184",
     "exception": false,
     "start_time": "2022-11-22T01:36:03.530928",
     "status": "completed"
    },
    "tags": []
   },
   "source": [
    "And let's create the `images/ann` folder (if it doesn't already exist), and define the `save_fig()` function which is used through this notebook to save the figures in high-res for the book:"
   ]
  },
  {
   "cell_type": "code",
   "execution_count": 5,
   "id": "1b1aff9c",
   "metadata": {
    "execution": {
     "iopub.execute_input": "2022-11-22T01:36:03.633132Z",
     "iopub.status.busy": "2022-11-22T01:36:03.632490Z",
     "iopub.status.idle": "2022-11-22T01:36:03.639144Z",
     "shell.execute_reply": "2022-11-22T01:36:03.637921Z"
    },
    "papermill": {
     "duration": 0.044216,
     "end_time": "2022-11-22T01:36:03.641734",
     "exception": false,
     "start_time": "2022-11-22T01:36:03.597518",
     "status": "completed"
    },
    "tags": []
   },
   "outputs": [],
   "source": [
    "from pathlib import Path\n",
    "\n",
    "IMAGES_PATH = Path() / \"images\" / \"ann\"\n",
    "IMAGES_PATH.mkdir(parents=True, exist_ok=True)\n",
    "\n",
    "def save_fig(fig_id, tight_layout=True, fig_extension=\"png\", resolution=300):\n",
    "    path = IMAGES_PATH / f\"{fig_id}.{fig_extension}\"\n",
    "    if tight_layout:\n",
    "        plt.tight_layout()\n",
    "    plt.savefig(path, format=fig_extension, dpi=resolution)"
   ]
  },
  {
   "cell_type": "markdown",
   "id": "6f87018c",
   "metadata": {
    "papermill": {
     "duration": 0.033609,
     "end_time": "2022-11-22T01:36:03.709614",
     "exception": false,
     "start_time": "2022-11-22T01:36:03.676005",
     "status": "completed"
    },
    "tags": []
   },
   "source": [
    "# From Biological to Artificial Neurons\n",
    "## The Perceptron"
   ]
  },
  {
   "cell_type": "code",
   "execution_count": 6,
   "id": "b6514599",
   "metadata": {
    "execution": {
     "iopub.execute_input": "2022-11-22T01:36:03.780113Z",
     "iopub.status.busy": "2022-11-22T01:36:03.779194Z",
     "iopub.status.idle": "2022-11-22T01:36:04.247575Z",
     "shell.execute_reply": "2022-11-22T01:36:04.246578Z"
    },
    "papermill": {
     "duration": 0.506276,
     "end_time": "2022-11-22T01:36:04.249789",
     "exception": false,
     "start_time": "2022-11-22T01:36:03.743513",
     "status": "completed"
    },
    "tags": []
   },
   "outputs": [],
   "source": [
    "import numpy as np\n",
    "from sklearn.datasets import load_iris\n",
    "from sklearn.linear_model import Perceptron\n",
    "\n",
    "iris = load_iris(as_frame=True)\n",
    "X = iris.data[[\"petal length (cm)\", \"petal width (cm)\"]].values\n",
    "y = (iris.target == 0)  # Iris setosa\n",
    "\n",
    "per_clf = Perceptron(random_state=42)\n",
    "per_clf.fit(X, y)\n",
    "\n",
    "X_new = [[2, 0.5], [3, 1]]\n",
    "y_pred = per_clf.predict(X_new)  # predicts True and False for these 2 flowers"
   ]
  },
  {
   "cell_type": "code",
   "execution_count": 7,
   "id": "150060f4",
   "metadata": {
    "execution": {
     "iopub.execute_input": "2022-11-22T01:36:04.318431Z",
     "iopub.status.busy": "2022-11-22T01:36:04.318038Z",
     "iopub.status.idle": "2022-11-22T01:36:04.326132Z",
     "shell.execute_reply": "2022-11-22T01:36:04.325031Z"
    },
    "papermill": {
     "duration": 0.04532,
     "end_time": "2022-11-22T01:36:04.328479",
     "exception": false,
     "start_time": "2022-11-22T01:36:04.283159",
     "status": "completed"
    },
    "tags": []
   },
   "outputs": [
    {
     "data": {
      "text/plain": [
       "array([ True, False])"
      ]
     },
     "execution_count": 7,
     "metadata": {},
     "output_type": "execute_result"
    }
   ],
   "source": [
    "y_pred"
   ]
  },
  {
   "cell_type": "markdown",
   "id": "c906bb4b",
   "metadata": {
    "papermill": {
     "duration": 0.0344,
     "end_time": "2022-11-22T01:36:04.397175",
     "exception": false,
     "start_time": "2022-11-22T01:36:04.362775",
     "status": "completed"
    },
    "tags": []
   },
   "source": [
    "The `Perceptron` is equivalent to a `SGDClassifier` with `loss=\"perceptron\"`, no regularization, and a constant learning rate equal to 1:"
   ]
  },
  {
   "cell_type": "code",
   "execution_count": 8,
   "id": "bdce2af4",
   "metadata": {
    "execution": {
     "iopub.execute_input": "2022-11-22T01:36:04.467653Z",
     "iopub.status.busy": "2022-11-22T01:36:04.467203Z",
     "iopub.status.idle": "2022-11-22T01:36:04.474781Z",
     "shell.execute_reply": "2022-11-22T01:36:04.474047Z"
    },
    "papermill": {
     "duration": 0.045985,
     "end_time": "2022-11-22T01:36:04.477146",
     "exception": false,
     "start_time": "2022-11-22T01:36:04.431161",
     "status": "completed"
    },
    "tags": []
   },
   "outputs": [],
   "source": [
    "# extra code – shows how to build and train a Perceptron\n",
    "\n",
    "from sklearn.linear_model import SGDClassifier\n",
    "\n",
    "sgd_clf = SGDClassifier(loss=\"perceptron\", penalty=None,\n",
    "                        learning_rate=\"constant\", eta0=1, random_state=42)\n",
    "sgd_clf.fit(X, y)\n",
    "assert (sgd_clf.coef_ == per_clf.coef_).all()\n",
    "assert (sgd_clf.intercept_ == per_clf.intercept_).all()"
   ]
  },
  {
   "cell_type": "markdown",
   "id": "60f44fea",
   "metadata": {
    "papermill": {
     "duration": 0.033543,
     "end_time": "2022-11-22T01:36:04.544930",
     "exception": false,
     "start_time": "2022-11-22T01:36:04.511387",
     "status": "completed"
    },
    "tags": []
   },
   "source": [
    "When the Perceptron finds a decision boundary that properly separates the classes, it stops learning. This means that the decision boundary is often quite close to one class:"
   ]
  },
  {
   "cell_type": "code",
   "execution_count": 9,
   "id": "b6f8becf",
   "metadata": {
    "execution": {
     "iopub.execute_input": "2022-11-22T01:36:04.615636Z",
     "iopub.status.busy": "2022-11-22T01:36:04.615212Z",
     "iopub.status.idle": "2022-11-22T01:36:04.859979Z",
     "shell.execute_reply": "2022-11-22T01:36:04.858321Z"
    },
    "papermill": {
     "duration": 0.284416,
     "end_time": "2022-11-22T01:36:04.863053",
     "exception": false,
     "start_time": "2022-11-22T01:36:04.578637",
     "status": "completed"
    },
    "tags": []
   },
   "outputs": [
    {
     "data": {
      "image/png": "[encoded data removed]",
      "text/plain": [
       "<Figure size 504x216 with 1 Axes>"
      ]
     },
     "metadata": {
      "needs_background": "light"
     },
     "output_type": "display_data"
    }
   ],
   "source": [
    "# extra code – plots the decision boundary of a Perceptron on the iris dataset\n",
    "\n",
    "import matplotlib.pyplot as plt\n",
    "from matplotlib.colors import ListedColormap\n",
    "\n",
    "a = -per_clf.coef_[0, 0] / per_clf.coef_[0, 1]\n",
    "b = -per_clf.intercept_ / per_clf.coef_[0, 1]\n",
    "axes = [0, 5, 0, 2]\n",
    "x0, x1 = np.meshgrid(\n",
    "    np.linspace(axes[0], axes[1], 500).reshape(-1, 1),\n",
    "    np.linspace(axes[2], axes[3], 200).reshape(-1, 1),\n",
    ")\n",
    "X_new = np.c_[x0.ravel(), x1.ravel()]\n",
    "y_predict = per_clf.predict(X_new)\n",
    "zz = y_predict.reshape(x0.shape)\n",
    "custom_cmap = ListedColormap(['#9898ff', '#fafab0'])\n",
    "\n",
    "plt.figure(figsize=(7, 3))\n",
    "plt.plot(X[y == 0, 0], X[y == 0, 1], \"bs\", label=\"Not Iris setosa\")\n",
    "plt.plot(X[y == 1, 0], X[y == 1, 1], \"yo\", label=\"Iris setosa\")\n",
    "plt.plot([axes[0], axes[1]], [a * axes[0] + b, a * axes[1] + b], \"k-\",\n",
    "         linewidth=3)\n",
    "plt.contourf(x0, x1, zz, cmap=custom_cmap)\n",
    "plt.xlabel(\"Petal length\")\n",
    "plt.ylabel(\"Petal width\")\n",
    "plt.legend(loc=\"lower right\")\n",
    "plt.axis(axes)\n",
    "plt.show()"
   ]
  },
  {
   "cell_type": "markdown",
   "id": "f66354c2",
   "metadata": {
    "papermill": {
     "duration": 0.034519,
     "end_time": "2022-11-22T01:36:04.933626",
     "exception": false,
     "start_time": "2022-11-22T01:36:04.899107",
     "status": "completed"
    },
    "tags": []
   },
   "source": [
    "**Activation functions**"
   ]
  },
  {
   "cell_type": "code",
   "execution_count": 10,
   "id": "b05cebc1",
   "metadata": {
    "execution": {
     "iopub.execute_input": "2022-11-22T01:36:05.003784Z",
     "iopub.status.busy": "2022-11-22T01:36:05.003408Z",
     "iopub.status.idle": "2022-11-22T01:36:05.723817Z",
     "shell.execute_reply": "2022-11-22T01:36:05.722248Z"
    },
    "papermill": {
     "duration": 0.759271,
     "end_time": "2022-11-22T01:36:05.727177",
     "exception": false,
     "start_time": "2022-11-22T01:36:04.967906",
     "status": "completed"
    },
    "tags": []
   },
   "outputs": [
    {
     "data": {
      "image/png": "[encoded data removed]",
      "text/plain": [
       "<Figure size 792x223.2 with 2 Axes>"
      ]
     },
     "metadata": {
      "needs_background": "light"
     },
     "output_type": "display_data"
    }
   ],
   "source": [
    "# extra code – this cell generates and saves Figure 10–8\n",
    "\n",
    "from scipy.special import expit as sigmoid\n",
    "\n",
    "def relu(z):\n",
    "    return np.maximum(0, z)\n",
    "\n",
    "def derivative(f, z, eps=0.000001):\n",
    "    return (f(z + eps) - f(z - eps))/(2 * eps)\n",
    "\n",
    "max_z = 4.5\n",
    "z = np.linspace(-max_z, max_z, 200)\n",
    "\n",
    "plt.figure(figsize=(11, 3.1))\n",
    "\n",
    "plt.subplot(121)\n",
    "plt.plot([-max_z, 0], [0, 0], \"r-\", linewidth=2, label=\"Heaviside\")\n",
    "plt.plot(z, relu(z), \"m-.\", linewidth=2, label=\"ReLU\")\n",
    "plt.plot([0, 0], [0, 1], \"r-\", linewidth=0.5)\n",
    "plt.plot([0, max_z], [1, 1], \"r-\", linewidth=2)\n",
    "plt.plot(z, sigmoid(z), \"g--\", linewidth=2, label=\"Sigmoid\")\n",
    "plt.plot(z, np.tanh(z), \"b-\", linewidth=1, label=\"Tanh\")\n",
    "plt.grid(True)\n",
    "plt.title(\"Activation functions\")\n",
    "plt.axis([-max_z, max_z, -1.65, 2.4])\n",
    "plt.gca().set_yticks([-1, 0, 1, 2])\n",
    "plt.legend(loc=\"lower right\", fontsize=13)\n",
    "\n",
    "plt.subplot(122)\n",
    "plt.plot(z, derivative(np.sign, z), \"r-\", linewidth=2, label=\"Heaviside\")\n",
    "plt.plot(0, 0, \"ro\", markersize=5)\n",
    "plt.plot(0, 0, \"rx\", markersize=10)\n",
    "plt.plot(z, derivative(sigmoid, z), \"g--\", linewidth=2, label=\"Sigmoid\")\n",
    "plt.plot(z, derivative(np.tanh, z), \"b-\", linewidth=1, label=\"Tanh\")\n",
    "plt.plot([-max_z, 0], [0, 0], \"m-.\", linewidth=2)\n",
    "plt.plot([0, max_z], [1, 1], \"m-.\", linewidth=2)\n",
    "plt.plot([0, 0], [0, 1], \"m-.\", linewidth=1.2)\n",
    "plt.plot(0, 1, \"mo\", markersize=5)\n",
    "plt.plot(0, 1, \"mx\", markersize=10)\n",
    "plt.grid(True)\n",
    "plt.title(\"Derivatives\")\n",
    "plt.axis([-max_z, max_z, -0.2, 1.2])\n",
    "\n",
    "save_fig(\"activation_functions_plot\")\n",
    "plt.show()"
   ]
  },
  {
   "cell_type": "markdown",
   "id": "c22d7bbc",
   "metadata": {
    "papermill": {
     "duration": 0.035748,
     "end_time": "2022-11-22T01:36:05.797495",
     "exception": false,
     "start_time": "2022-11-22T01:36:05.761747",
     "status": "completed"
    },
    "tags": []
   },
   "source": [
    "## Regression MLPs"
   ]
  },
  {
   "cell_type": "code",
   "execution_count": 11,
   "id": "e5f0292e",
   "metadata": {
    "execution": {
     "iopub.execute_input": "2022-11-22T01:36:05.868525Z",
     "iopub.status.busy": "2022-11-22T01:36:05.868173Z",
     "iopub.status.idle": "2022-11-22T01:36:22.967081Z",
     "shell.execute_reply": "2022-11-22T01:36:22.966283Z"
    },
    "papermill": {
     "duration": 17.137775,
     "end_time": "2022-11-22T01:36:22.969795",
     "exception": false,
     "start_time": "2022-11-22T01:36:05.832020",
     "status": "completed"
    },
    "tags": []
   },
   "outputs": [],
   "source": [
    "from sklearn.datasets import fetch_california_housing\n",
    "from sklearn.metrics import mean_squared_error\n",
    "from sklearn.model_selection import train_test_split\n",
    "from sklearn.neural_network import MLPRegressor\n",
    "from sklearn.pipeline import make_pipeline\n",
    "from sklearn.preprocessing import StandardScaler\n",
    "\n",
    "housing = fetch_california_housing()\n",
    "X_train_full, X_test, y_train_full, y_test = train_test_split(\n",
    "    housing.data, housing.target, random_state=42)\n",
    "X_train, X_valid, y_train, y_valid = train_test_split(\n",
    "    X_train_full, y_train_full, random_state=42)\n",
    "\n",
    "mlp_reg = MLPRegressor(hidden_layer_sizes=[50, 50, 50], random_state=42)\n",
    "pipeline = make_pipeline(StandardScaler(), mlp_reg)\n",
    "pipeline.fit(X_train, y_train)\n",
    "y_pred = pipeline.predict(X_valid)\n",
    "rmse = mean_squared_error(y_valid, y_pred, squared=False)"
   ]
  },
  {
   "cell_type": "code",
   "execution_count": 12,
   "id": "80f8a737",
   "metadata": {
    "execution": {
     "iopub.execute_input": "2022-11-22T01:36:23.063288Z",
     "iopub.status.busy": "2022-11-22T01:36:23.062846Z",
     "iopub.status.idle": "2022-11-22T01:36:23.071715Z",
     "shell.execute_reply": "2022-11-22T01:36:23.070881Z"
    },
    "papermill": {
     "duration": 0.058508,
     "end_time": "2022-11-22T01:36:23.074018",
     "exception": false,
     "start_time": "2022-11-22T01:36:23.015510",
     "status": "completed"
    },
    "tags": []
   },
   "outputs": [
    {
     "data": {
      "text/plain": [
       "0.5053326657968376"
      ]
     },
     "execution_count": 12,
     "metadata": {},
     "output_type": "execute_result"
    }
   ],
   "source": [
    "rmse"
   ]
  },
  {
   "cell_type": "markdown",
   "id": "6f1fc300",
   "metadata": {
    "papermill": {
     "duration": 0.034892,
     "end_time": "2022-11-22T01:36:23.145933",
     "exception": false,
     "start_time": "2022-11-22T01:36:23.111041",
     "status": "completed"
    },
    "tags": []
   },
   "source": [
    "## Classification MLPs"
   ]
  },
  {
   "cell_type": "code",
   "execution_count": 13,
   "id": "e25ca590",
   "metadata": {
    "execution": {
     "iopub.execute_input": "2022-11-22T01:36:23.216973Z",
     "iopub.status.busy": "2022-11-22T01:36:23.216589Z",
     "iopub.status.idle": "2022-11-22T01:36:23.659744Z",
     "shell.execute_reply": "2022-11-22T01:36:23.658135Z"
    },
    "papermill": {
     "duration": 0.481736,
     "end_time": "2022-11-22T01:36:23.662476",
     "exception": false,
     "start_time": "2022-11-22T01:36:23.180740",
     "status": "completed"
    },
    "tags": []
   },
   "outputs": [
    {
     "data": {
      "text/plain": [
       "1.0"
      ]
     },
     "execution_count": 13,
     "metadata": {},
     "output_type": "execute_result"
    }
   ],
   "source": [
    "# extra code – this was left as an exercise for the reader\n",
    "\n",
    "from sklearn.datasets import load_iris\n",
    "from sklearn.model_selection import train_test_split\n",
    "from sklearn.neural_network import MLPClassifier\n",
    "\n",
    "iris = load_iris()\n",
    "X_train_full, X_test, y_train_full, y_test = train_test_split(\n",
    "    iris.data, iris.target, test_size=0.1, random_state=42)\n",
    "X_train, X_valid, y_train, y_valid = train_test_split(\n",
    "    X_train_full, y_train_full, test_size=0.1, random_state=42)\n",
    "\n",
    "mlp_clf = MLPClassifier(hidden_layer_sizes=[5], max_iter=10_000,\n",
    "                        random_state=42)\n",
    "pipeline = make_pipeline(StandardScaler(), mlp_clf)\n",
    "pipeline.fit(X_train, y_train)\n",
    "accuracy = pipeline.score(X_valid, y_valid)\n",
    "accuracy"
   ]
  },
  {
   "cell_type": "markdown",
   "id": "4ff6043b",
   "metadata": {
    "papermill": {
     "duration": 0.034983,
     "end_time": "2022-11-22T01:36:23.732898",
     "exception": false,
     "start_time": "2022-11-22T01:36:23.697915",
     "status": "completed"
    },
    "tags": []
   },
   "source": [
    "# Implementing MLPs with Keras\n",
    "## Building an Image Classifier Using the Sequential API\n",
    "### Using Keras to load the dataset"
   ]
  },
  {
   "cell_type": "markdown",
   "id": "b14f5395",
   "metadata": {
    "papermill": {
     "duration": 0.03527,
     "end_time": "2022-11-22T01:36:23.804898",
     "exception": false,
     "start_time": "2022-11-22T01:36:23.769628",
     "status": "completed"
    },
    "tags": []
   },
   "source": [
    "Let's start by loading the fashion MNIST dataset. Keras has a number of functions to load popular datasets in `tf.keras.datasets`. The dataset is already split for you between a training set (60,000 images) and a test set (10,000 images), but it can be useful to split the training set further to have a validation set. We'll use 55,000 images for training, and 5,000 for validation."
   ]
  },
  {
   "cell_type": "code",
   "execution_count": 14,
   "id": "e5ddb274",
   "metadata": {
    "execution": {
     "iopub.execute_input": "2022-11-22T01:36:23.876842Z",
     "iopub.status.busy": "2022-11-22T01:36:23.876426Z",
     "iopub.status.idle": "2022-11-22T01:36:27.578286Z",
     "shell.execute_reply": "2022-11-22T01:36:27.577179Z"
    },
    "papermill": {
     "duration": 3.741024,
     "end_time": "2022-11-22T01:36:27.580714",
     "exception": false,
     "start_time": "2022-11-22T01:36:23.839690",
     "status": "completed"
    },
    "tags": []
   },
   "outputs": [
    {
     "name": "stdout",
     "output_type": "stream",
     "text": [
      "Downloading data from https://storage.googleapis.com/tensorflow/tf-keras-datasets/train-labels-idx1-ubyte.gz\n",
      "32768/29515 [=================================] - 0s 0us/step\n",
      "40960/29515 [=========================================] - 0s 0us/step\n",
      "Downloading data from https://storage.googleapis.com/tensorflow/tf-keras-datasets/train-images-idx3-ubyte.gz\n",
      "26427392/26421880 [==============================] - 1s 0us/step\n",
      "26435584/26421880 [==============================] - 1s 0us/step\n",
      "Downloading data from https://storage.googleapis.com/tensorflow/tf-keras-datasets/t10k-labels-idx1-ubyte.gz\n",
      "16384/5148 [===============================================================================================] - 0s 0us/step\n",
      "Downloading data from https://storage.googleapis.com/tensorflow/tf-keras-datasets/t10k-images-idx3-ubyte.gz\n",
      "4423680/4422102 [==============================] - 0s 0us/step\n",
      "4431872/4422102 [==============================] - 0s 0us/step\n"
     ]
    }
   ],
   "source": [
    "import tensorflow as tf\n",
    "\n",
    "fashion_mnist = tf.keras.datasets.fashion_mnist.load_data()\n",
    "(X_train_full, y_train_full), (X_test, y_test) = fashion_mnist\n",
    "X_train, y_train = X_train_full[:-5000], y_train_full[:-5000]\n",
    "X_valid, y_valid = X_train_full[-5000:], y_train_full[-5000:]"
   ]
  },
  {
   "cell_type": "markdown",
   "id": "347e2e84",
   "metadata": {
    "papermill": {
     "duration": 0.037916,
     "end_time": "2022-11-22T01:36:27.656438",
     "exception": false,
     "start_time": "2022-11-22T01:36:27.618522",
     "status": "completed"
    },
    "tags": []
   },
   "source": [
    "The training set contains 60,000 grayscale images, each 28x28 pixels:"
   ]
  },
  {
   "cell_type": "code",
   "execution_count": 15,
   "id": "99250ac1",
   "metadata": {
    "execution": {
     "iopub.execute_input": "2022-11-22T01:36:27.733498Z",
     "iopub.status.busy": "2022-11-22T01:36:27.732869Z",
     "iopub.status.idle": "2022-11-22T01:36:27.738832Z",
     "shell.execute_reply": "2022-11-22T01:36:27.738143Z"
    },
    "papermill": {
     "duration": 0.04786,
     "end_time": "2022-11-22T01:36:27.741032",
     "exception": false,
     "start_time": "2022-11-22T01:36:27.693172",
     "status": "completed"
    },
    "tags": []
   },
   "outputs": [
    {
     "data": {
      "text/plain": [
       "(55000, 28, 28)"
      ]
     },
     "execution_count": 15,
     "metadata": {},
     "output_type": "execute_result"
    }
   ],
   "source": [
    "X_train.shape"
   ]
  },
  {
   "cell_type": "markdown",
   "id": "1b0093f3",
   "metadata": {
    "papermill": {
     "duration": 0.038203,
     "end_time": "2022-11-22T01:36:27.817078",
     "exception": false,
     "start_time": "2022-11-22T01:36:27.778875",
     "status": "completed"
    },
    "tags": []
   },
   "source": [
    "Each pixel intensity is represented as a byte (0 to 255):"
   ]
  },
  {
   "cell_type": "code",
   "execution_count": 16,
   "id": "d87e677c",
   "metadata": {
    "execution": {
     "iopub.execute_input": "2022-11-22T01:36:27.894071Z",
     "iopub.status.busy": "2022-11-22T01:36:27.893408Z",
     "iopub.status.idle": "2022-11-22T01:36:27.900067Z",
     "shell.execute_reply": "2022-11-22T01:36:27.898915Z"
    },
    "papermill": {
     "duration": 0.047825,
     "end_time": "2022-11-22T01:36:27.902843",
     "exception": false,
     "start_time": "2022-11-22T01:36:27.855018",
     "status": "completed"
    },
    "tags": []
   },
   "outputs": [
    {
     "data": {
      "text/plain": [
       "dtype('uint8')"
      ]
     },
     "execution_count": 16,
     "metadata": {},
     "output_type": "execute_result"
    }
   ],
   "source": [
    "X_train.dtype"
   ]
  },
  {
   "cell_type": "markdown",
   "id": "7a5739b3",
   "metadata": {
    "papermill": {
     "duration": 0.036634,
     "end_time": "2022-11-22T01:36:27.976896",
     "exception": false,
     "start_time": "2022-11-22T01:36:27.940262",
     "status": "completed"
    },
    "tags": []
   },
   "source": [
    "Let's scale the pixel intensities down to the 0-1 range and convert them to floats, by dividing by 255:"
   ]
  },
  {
   "cell_type": "code",
   "execution_count": 17,
   "id": "3d7756ef",
   "metadata": {
    "execution": {
     "iopub.execute_input": "2022-11-22T01:36:28.055596Z",
     "iopub.status.busy": "2022-11-22T01:36:28.055201Z",
     "iopub.status.idle": "2022-11-22T01:36:28.141961Z",
     "shell.execute_reply": "2022-11-22T01:36:28.140895Z"
    },
    "papermill": {
     "duration": 0.128714,
     "end_time": "2022-11-22T01:36:28.144682",
     "exception": false,
     "start_time": "2022-11-22T01:36:28.015968",
     "status": "completed"
    },
    "tags": []
   },
   "outputs": [],
   "source": [
    "X_train, X_valid, X_test = X_train / 255., X_valid / 255., X_test / 255."
   ]
  },
  {
   "cell_type": "markdown",
   "id": "e0cc3214",
   "metadata": {
    "papermill": {
     "duration": 0.037348,
     "end_time": "2022-11-22T01:36:28.220005",
     "exception": false,
     "start_time": "2022-11-22T01:36:28.182657",
     "status": "completed"
    },
    "tags": []
   },
   "source": [
    "You can plot an image using Matplotlib's `imshow()` function, with a `'binary'`\n",
    " color map:"
   ]
  },
  {
   "cell_type": "code",
   "execution_count": 18,
   "id": "3688fca3",
   "metadata": {
    "execution": {
     "iopub.execute_input": "2022-11-22T01:36:28.295736Z",
     "iopub.status.busy": "2022-11-22T01:36:28.295300Z",
     "iopub.status.idle": "2022-11-22T01:36:28.354711Z",
     "shell.execute_reply": "2022-11-22T01:36:28.353911Z"
    },
    "papermill": {
     "duration": 0.100174,
     "end_time": "2022-11-22T01:36:28.356989",
     "exception": false,
     "start_time": "2022-11-22T01:36:28.256815",
     "status": "completed"
    },
    "tags": []
   },
   "outputs": [
    {
     "data": {
      "image/png": "[encoded data removed]",
      "text/plain": [
       "<Figure size 432x288 with 1 Axes>"
      ]
     },
     "metadata": {
      "needs_background": "light"
     },
     "output_type": "display_data"
    }
   ],
   "source": [
    "# extra code\n",
    "\n",
    "plt.imshow(X_train[0], cmap=\"binary\")\n",
    "plt.axis('off')\n",
    "plt.show()"
   ]
  },
  {
   "cell_type": "markdown",
   "id": "871286a0",
   "metadata": {
    "papermill": {
     "duration": 0.04359,
     "end_time": "2022-11-22T01:36:28.450250",
     "exception": false,
     "start_time": "2022-11-22T01:36:28.406660",
     "status": "completed"
    },
    "tags": []
   },
   "source": [
    "The labels are the class IDs (represented as uint8), from 0 to 9:"
   ]
  },
  {
   "cell_type": "code",
   "execution_count": 19,
   "id": "66fead16",
   "metadata": {
    "execution": {
     "iopub.execute_input": "2022-11-22T01:36:28.526936Z",
     "iopub.status.busy": "2022-11-22T01:36:28.526529Z",
     "iopub.status.idle": "2022-11-22T01:36:28.533670Z",
     "shell.execute_reply": "2022-11-22T01:36:28.532736Z"
    },
    "papermill": {
     "duration": 0.049222,
     "end_time": "2022-11-22T01:36:28.536767",
     "exception": false,
     "start_time": "2022-11-22T01:36:28.487545",
     "status": "completed"
    },
    "tags": []
   },
   "outputs": [
    {
     "data": {
      "text/plain": [
       "array([9, 0, 0, ..., 9, 0, 2], dtype=uint8)"
      ]
     },
     "execution_count": 19,
     "metadata": {},
     "output_type": "execute_result"
    }
   ],
   "source": [
    "y_train"
   ]
  },
  {
   "cell_type": "markdown",
   "id": "75b10332",
   "metadata": {
    "papermill": {
     "duration": 0.044015,
     "end_time": "2022-11-22T01:36:28.618500",
     "exception": false,
     "start_time": "2022-11-22T01:36:28.574485",
     "status": "completed"
    },
    "tags": []
   },
   "source": [
    "Here are the corresponding class names:"
   ]
  },
  {
   "cell_type": "code",
   "execution_count": 20,
   "id": "68c516b4",
   "metadata": {
    "execution": {
     "iopub.execute_input": "2022-11-22T01:36:28.696217Z",
     "iopub.status.busy": "2022-11-22T01:36:28.695625Z",
     "iopub.status.idle": "2022-11-22T01:36:28.700016Z",
     "shell.execute_reply": "2022-11-22T01:36:28.698877Z"
    },
    "papermill": {
     "duration": 0.046192,
     "end_time": "2022-11-22T01:36:28.702229",
     "exception": false,
     "start_time": "2022-11-22T01:36:28.656037",
     "status": "completed"
    },
    "tags": []
   },
   "outputs": [],
   "source": [
    "class_names = [\"T-shirt/top\", \"Trouser\", \"Pullover\", \"Dress\", \"Coat\",\n",
    "               \"Sandal\", \"Shirt\", \"Sneaker\", \"Bag\", \"Ankle boot\"]"
   ]
  },
  {
   "cell_type": "markdown",
   "id": "1a79fa38",
   "metadata": {
    "papermill": {
     "duration": 0.037822,
     "end_time": "2022-11-22T01:36:28.777577",
     "exception": false,
     "start_time": "2022-11-22T01:36:28.739755",
     "status": "completed"
    },
    "tags": []
   },
   "source": [
    "So the first image in the training set is an ankle boot:"
   ]
  },
  {
   "cell_type": "code",
   "execution_count": 21,
   "id": "1ff8ecdc",
   "metadata": {
    "execution": {
     "iopub.execute_input": "2022-11-22T01:36:28.856554Z",
     "iopub.status.busy": "2022-11-22T01:36:28.856007Z",
     "iopub.status.idle": "2022-11-22T01:36:28.861573Z",
     "shell.execute_reply": "2022-11-22T01:36:28.860453Z"
    },
    "papermill": {
     "duration": 0.046488,
     "end_time": "2022-11-22T01:36:28.863329",
     "exception": false,
     "start_time": "2022-11-22T01:36:28.816841",
     "status": "completed"
    },
    "tags": []
   },
   "outputs": [
    {
     "data": {
      "text/plain": [
       "'Ankle boot'"
      ]
     },
     "execution_count": 21,
     "metadata": {},
     "output_type": "execute_result"
    }
   ],
   "source": [
    "class_names[y_train[0]]"
   ]
  },
  {
   "cell_type": "markdown",
   "id": "dd3d6528",
   "metadata": {
    "papermill": {
     "duration": 0.037746,
     "end_time": "2022-11-22T01:36:28.938947",
     "exception": false,
     "start_time": "2022-11-22T01:36:28.901201",
     "status": "completed"
    },
    "tags": []
   },
   "source": [
    "Let's take a look at a sample of the images in the dataset:"
   ]
  },
  {
   "cell_type": "code",
   "execution_count": 22,
   "id": "01b2b18b",
   "metadata": {
    "execution": {
     "iopub.execute_input": "2022-11-22T01:36:29.016253Z",
     "iopub.status.busy": "2022-11-22T01:36:29.015685Z",
     "iopub.status.idle": "2022-11-22T01:36:31.053825Z",
     "shell.execute_reply": "2022-11-22T01:36:31.052692Z"
    },
    "papermill": {
     "duration": 2.080462,
     "end_time": "2022-11-22T01:36:31.057089",
     "exception": false,
     "start_time": "2022-11-22T01:36:28.976627",
     "status": "completed"
    },
    "tags": []
   },
   "outputs": [
    {
     "data": {
      "image/png": "[encoded data removed]",
      "text/plain": [
       "<Figure size 864x345.6 with 40 Axes>"
      ]
     },
     "metadata": {
      "needs_background": "light"
     },
     "output_type": "display_data"
    }
   ],
   "source": [
    "# extra code – this cell generates and saves Figure 10–10\n",
    "\n",
    "n_rows = 4\n",
    "n_cols = 10\n",
    "plt.figure(figsize=(n_cols * 1.2, n_rows * 1.2))\n",
    "for row in range(n_rows):\n",
    "    for col in range(n_cols):\n",
    "        index = n_cols * row + col\n",
    "        plt.subplot(n_rows, n_cols, index + 1)\n",
    "        plt.imshow(X_train[index], cmap=\"binary\", interpolation=\"nearest\")\n",
    "        plt.axis('off')\n",
    "        plt.title(class_names[y_train[index]])\n",
    "plt.subplots_adjust(wspace=0.2, hspace=0.5)\n",
    "\n",
    "save_fig(\"fashion_mnist_plot\")\n",
    "plt.show()"
   ]
  },
  {
   "cell_type": "markdown",
   "id": "8d532992",
   "metadata": {
    "papermill": {
     "duration": 0.038279,
     "end_time": "2022-11-22T01:36:31.135106",
     "exception": false,
     "start_time": "2022-11-22T01:36:31.096827",
     "status": "completed"
    },
    "tags": []
   },
   "source": [
    "### Creating the model using the Sequential API"
   ]
  },
  {
   "cell_type": "code",
   "execution_count": 23,
   "id": "5d6de3eb",
   "metadata": {
    "execution": {
     "iopub.execute_input": "2022-11-22T01:36:31.213953Z",
     "iopub.status.busy": "2022-11-22T01:36:31.213208Z",
     "iopub.status.idle": "2022-11-22T01:36:31.346554Z",
     "shell.execute_reply": "2022-11-22T01:36:31.344921Z"
    },
    "papermill": {
     "duration": 0.176368,
     "end_time": "2022-11-22T01:36:31.349238",
     "exception": false,
     "start_time": "2022-11-22T01:36:31.172870",
     "status": "completed"
    },
    "tags": []
   },
   "outputs": [
    {
     "name": "stderr",
     "output_type": "stream",
     "text": [
      "2022-11-22 01:36:31.250219: I tensorflow/core/common_runtime/process_util.cc:146] Creating new thread pool with default inter op setting: 2. Tune using inter_op_parallelism_threads for best performance.\n"
     ]
    }
   ],
   "source": [
    "tf.random.set_seed(42)\n",
    "model = tf.keras.Sequential()\n",
    "model.add(tf.keras.layers.InputLayer(input_shape=[28, 28]))\n",
    "model.add(tf.keras.layers.Flatten())\n",
    "model.add(tf.keras.layers.Dense(300, activation=\"relu\"))\n",
    "model.add(tf.keras.layers.Dense(100, activation=\"relu\"))\n",
    "model.add(tf.keras.layers.Dense(10, activation=\"softmax\"))"
   ]
  },
  {
   "cell_type": "code",
   "execution_count": 24,
   "id": "1e778069",
   "metadata": {
    "execution": {
     "iopub.execute_input": "2022-11-22T01:36:31.430188Z",
     "iopub.status.busy": "2022-11-22T01:36:31.429823Z",
     "iopub.status.idle": "2022-11-22T01:36:31.472118Z",
     "shell.execute_reply": "2022-11-22T01:36:31.470494Z"
    },
    "papermill": {
     "duration": 0.085084,
     "end_time": "2022-11-22T01:36:31.474887",
     "exception": false,
     "start_time": "2022-11-22T01:36:31.389803",
     "status": "completed"
    },
    "tags": []
   },
   "outputs": [],
   "source": [
    "# extra code – clear the session to reset the name counters\n",
    "tf.keras.backend.clear_session()\n",
    "tf.random.set_seed(42)\n",
    "\n",
    "model = tf.keras.Sequential([\n",
    "    tf.keras.layers.Flatten(input_shape=[28, 28]),\n",
    "    tf.keras.layers.Dense(300, activation=\"relu\"),\n",
    "    tf.keras.layers.Dense(100, activation=\"relu\"),\n",
    "    tf.keras.layers.Dense(10, activation=\"softmax\")\n",
    "])"
   ]
  },
  {
   "cell_type": "code",
   "execution_count": 25,
   "id": "1dd493d1",
   "metadata": {
    "execution": {
     "iopub.execute_input": "2022-11-22T01:36:31.553192Z",
     "iopub.status.busy": "2022-11-22T01:36:31.552203Z",
     "iopub.status.idle": "2022-11-22T01:36:31.559117Z",
     "shell.execute_reply": "2022-11-22T01:36:31.557237Z"
    },
    "papermill": {
     "duration": 0.048515,
     "end_time": "2022-11-22T01:36:31.561665",
     "exception": false,
     "start_time": "2022-11-22T01:36:31.513150",
     "status": "completed"
    },
    "tags": []
   },
   "outputs": [
    {
     "name": "stdout",
     "output_type": "stream",
     "text": [
      "Model: \"sequential\"\n",
      "_________________________________________________________________\n",
      "Layer (type)                 Output Shape              Param #   \n",
      "=================================================================\n",
      "flatten (Flatten)            (None, 784)               0         \n",
      "_________________________________________________________________\n",
      "dense (Dense)                (None, 300)               235500    \n",
      "_________________________________________________________________\n",
      "dense_1 (Dense)              (None, 100)               30100     \n",
      "_________________________________________________________________\n",
      "dense_2 (Dense)              (None, 10)                1010      \n",
      "=================================================================\n",
      "Total params: 266,610\n",
      "Trainable params: 266,610\n",
      "Non-trainable params: 0\n",
      "_________________________________________________________________\n"
     ]
    }
   ],
   "source": [
    "model.summary()"
   ]
  },
  {
   "cell_type": "code",
   "execution_count": 26,
   "id": "fa0a718e",
   "metadata": {
    "execution": {
     "iopub.execute_input": "2022-11-22T01:36:31.642834Z",
     "iopub.status.busy": "2022-11-22T01:36:31.641808Z",
     "iopub.status.idle": "2022-11-22T01:36:32.828200Z",
     "shell.execute_reply": "2022-11-22T01:36:32.826745Z"
    },
    "papermill": {
     "duration": 1.23022,
     "end_time": "2022-11-22T01:36:32.830938",
     "exception": false,
     "start_time": "2022-11-22T01:36:31.600718",
     "status": "completed"
    },
    "tags": []
   },
   "outputs": [
    {
     "data": {
      "image/png": "[encoded data removed]",
      "text/plain": [
       "<IPython.core.display.Image object>"
      ]
     },
     "execution_count": 26,
     "metadata": {},
     "output_type": "execute_result"
    }
   ],
   "source": [
    "# extra code – another way to display the model's architecture\n",
    "tf.keras.utils.plot_model(model, \"my_fashion_mnist_model.png\", show_shapes=True)"
   ]
  },
  {
   "cell_type": "code",
   "execution_count": 27,
   "id": "839e60f5",
   "metadata": {
    "execution": {
     "iopub.execute_input": "2022-11-22T01:36:32.911814Z",
     "iopub.status.busy": "2022-11-22T01:36:32.911426Z",
     "iopub.status.idle": "2022-11-22T01:36:32.918981Z",
     "shell.execute_reply": "2022-11-22T01:36:32.917651Z"
    },
    "papermill": {
     "duration": 0.052088,
     "end_time": "2022-11-22T01:36:32.922031",
     "exception": false,
     "start_time": "2022-11-22T01:36:32.869943",
     "status": "completed"
    },
    "tags": []
   },
   "outputs": [
    {
     "data": {
      "text/plain": [
       "[<keras.layers.core.Flatten at 0x7f1c88196110>,\n",
       " <keras.layers.core.Dense at 0x7f1c6a4cc190>,\n",
       " <keras.layers.core.Dense at 0x7f1c68c188d0>,\n",
       " <keras.layers.core.Dense at 0x7f1c88196310>]"
      ]
     },
     "execution_count": 27,
     "metadata": {},
     "output_type": "execute_result"
    }
   ],
   "source": [
    "model.layers"
   ]
  },
  {
   "cell_type": "code",
   "execution_count": 28,
   "id": "8210f5a7",
   "metadata": {
    "execution": {
     "iopub.execute_input": "2022-11-22T01:36:33.003819Z",
     "iopub.status.busy": "2022-11-22T01:36:33.003383Z",
     "iopub.status.idle": "2022-11-22T01:36:33.009275Z",
     "shell.execute_reply": "2022-11-22T01:36:33.008412Z"
    },
    "papermill": {
     "duration": 0.049673,
     "end_time": "2022-11-22T01:36:33.011143",
     "exception": false,
     "start_time": "2022-11-22T01:36:32.961470",
     "status": "completed"
    },
    "tags": []
   },
   "outputs": [
    {
     "data": {
      "text/plain": [
       "'dense'"
      ]
     },
     "execution_count": 28,
     "metadata": {},
     "output_type": "execute_result"
    }
   ],
   "source": [
    "hidden1 = model.layers[1]\n",
    "hidden1.name"
   ]
  },
  {
   "cell_type": "code",
   "execution_count": 29,
   "id": "9ff0173e",
   "metadata": {
    "execution": {
     "iopub.execute_input": "2022-11-22T01:36:33.093658Z",
     "iopub.status.busy": "2022-11-22T01:36:33.093152Z",
     "iopub.status.idle": "2022-11-22T01:36:33.100246Z",
     "shell.execute_reply": "2022-11-22T01:36:33.099007Z"
    },
    "papermill": {
     "duration": 0.051081,
     "end_time": "2022-11-22T01:36:33.103149",
     "exception": false,
     "start_time": "2022-11-22T01:36:33.052068",
     "status": "completed"
    },
    "tags": []
   },
   "outputs": [
    {
     "data": {
      "text/plain": [
       "True"
      ]
     },
     "execution_count": 29,
     "metadata": {},
     "output_type": "execute_result"
    }
   ],
   "source": [
    "model.get_layer('dense') is hidden1"
   ]
  },
  {
   "cell_type": "code",
   "execution_count": 30,
   "id": "8f126b63",
   "metadata": {
    "execution": {
     "iopub.execute_input": "2022-11-22T01:36:33.190921Z",
     "iopub.status.busy": "2022-11-22T01:36:33.190500Z",
     "iopub.status.idle": "2022-11-22T01:36:33.200245Z",
     "shell.execute_reply": "2022-11-22T01:36:33.199088Z"
    },
    "papermill": {
     "duration": 0.056762,
     "end_time": "2022-11-22T01:36:33.202153",
     "exception": false,
     "start_time": "2022-11-22T01:36:33.145391",
     "status": "completed"
    },
    "tags": []
   },
   "outputs": [
    {
     "data": {
      "text/plain": [
       "array([[ 0.02448617, -0.00877795, -0.02189048, ..., -0.02766046,\n",
       "         0.03859074, -0.06889391],\n",
       "       [ 0.00476504, -0.03105379, -0.0586676 , ...,  0.00602964,\n",
       "        -0.02763776, -0.04165364],\n",
       "       [-0.06189284, -0.06901957,  0.07102345, ..., -0.04238207,\n",
       "         0.07121518, -0.07331658],\n",
       "       ...,\n",
       "       [-0.03048757,  0.02155137, -0.05400612, ..., -0.00113463,\n",
       "         0.00228987,  0.05581069],\n",
       "       [ 0.07061854, -0.06960931,  0.07038955, ..., -0.00384101,\n",
       "         0.00034875,  0.02878492],\n",
       "       [-0.06022581,  0.01577859, -0.02585464, ..., -0.00527829,\n",
       "         0.00272203, -0.06793761]], dtype=float32)"
      ]
     },
     "execution_count": 30,
     "metadata": {},
     "output_type": "execute_result"
    }
   ],
   "source": [
    "weights, biases = hidden1.get_weights()\n",
    "weights"
   ]
  },
  {
   "cell_type": "code",
   "execution_count": 31,
   "id": "6ab161f3",
   "metadata": {
    "execution": {
     "iopub.execute_input": "2022-11-22T01:36:33.284533Z",
     "iopub.status.busy": "2022-11-22T01:36:33.282926Z",
     "iopub.status.idle": "2022-11-22T01:36:33.289495Z",
     "shell.execute_reply": "2022-11-22T01:36:33.288818Z"
    },
    "papermill": {
     "duration": 0.049469,
     "end_time": "2022-11-22T01:36:33.291469",
     "exception": false,
     "start_time": "2022-11-22T01:36:33.242000",
     "status": "completed"
    },
    "tags": []
   },
   "outputs": [
    {
     "data": {
      "text/plain": [
       "(784, 300)"
      ]
     },
     "execution_count": 31,
     "metadata": {},
     "output_type": "execute_result"
    }
   ],
   "source": [
    "weights.shape"
   ]
  },
  {
   "cell_type": "code",
   "execution_count": 32,
   "id": "41d18d31",
   "metadata": {
    "execution": {
     "iopub.execute_input": "2022-11-22T01:36:33.383110Z",
     "iopub.status.busy": "2022-11-22T01:36:33.382487Z",
     "iopub.status.idle": "2022-11-22T01:36:33.392968Z",
     "shell.execute_reply": "2022-11-22T01:36:33.391448Z"
    },
    "papermill": {
     "duration": 0.06317,
     "end_time": "2022-11-22T01:36:33.396011",
     "exception": false,
     "start_time": "2022-11-22T01:36:33.332841",
     "status": "completed"
    },
    "tags": []
   },
   "outputs": [
    {
     "data": {
      "text/plain": [
       "array([0., 0., 0., 0., 0., 0., 0., 0., 0., 0., 0., 0., 0., 0., 0., 0., 0.,\n",
       "       0., 0., 0., 0., 0., 0., 0., 0., 0., 0., 0., 0., 0., 0., 0., 0., 0.,\n",
       "       0., 0., 0., 0., 0., 0., 0., 0., 0., 0., 0., 0., 0., 0., 0., 0., 0.,\n",
       "       0., 0., 0., 0., 0., 0., 0., 0., 0., 0., 0., 0., 0., 0., 0., 0., 0.,\n",
       "       0., 0., 0., 0., 0., 0., 0., 0., 0., 0., 0., 0., 0., 0., 0., 0., 0.,\n",
       "       0., 0., 0., 0., 0., 0., 0., 0., 0., 0., 0., 0., 0., 0., 0., 0., 0.,\n",
       "       0., 0., 0., 0., 0., 0., 0., 0., 0., 0., 0., 0., 0., 0., 0., 0., 0.,\n",
       "       0., 0., 0., 0., 0., 0., 0., 0., 0., 0., 0., 0., 0., 0., 0., 0., 0.,\n",
       "       0., 0., 0., 0., 0., 0., 0., 0., 0., 0., 0., 0., 0., 0., 0., 0., 0.,\n",
       "       0., 0., 0., 0., 0., 0., 0., 0., 0., 0., 0., 0., 0., 0., 0., 0., 0.,\n",
       "       0., 0., 0., 0., 0., 0., 0., 0., 0., 0., 0., 0., 0., 0., 0., 0., 0.,\n",
       "       0., 0., 0., 0., 0., 0., 0., 0., 0., 0., 0., 0., 0., 0., 0., 0., 0.,\n",
       "       0., 0., 0., 0., 0., 0., 0., 0., 0., 0., 0., 0., 0., 0., 0., 0., 0.,\n",
       "       0., 0., 0., 0., 0., 0., 0., 0., 0., 0., 0., 0., 0., 0., 0., 0., 0.,\n",
       "       0., 0., 0., 0., 0., 0., 0., 0., 0., 0., 0., 0., 0., 0., 0., 0., 0.,\n",
       "       0., 0., 0., 0., 0., 0., 0., 0., 0., 0., 0., 0., 0., 0., 0., 0., 0.,\n",
       "       0., 0., 0., 0., 0., 0., 0., 0., 0., 0., 0., 0., 0., 0., 0., 0., 0.,\n",
       "       0., 0., 0., 0., 0., 0., 0., 0., 0., 0., 0.], dtype=float32)"
      ]
     },
     "execution_count": 32,
     "metadata": {},
     "output_type": "execute_result"
    }
   ],
   "source": [
    "biases"
   ]
  },
  {
   "cell_type": "code",
   "execution_count": 33,
   "id": "04ee2842",
   "metadata": {
    "execution": {
     "iopub.execute_input": "2022-11-22T01:36:33.485664Z",
     "iopub.status.busy": "2022-11-22T01:36:33.485272Z",
     "iopub.status.idle": "2022-11-22T01:36:33.492266Z",
     "shell.execute_reply": "2022-11-22T01:36:33.491061Z"
    },
    "papermill": {
     "duration": 0.052844,
     "end_time": "2022-11-22T01:36:33.494850",
     "exception": false,
     "start_time": "2022-11-22T01:36:33.442006",
     "status": "completed"
    },
    "tags": []
   },
   "outputs": [
    {
     "data": {
      "text/plain": [
       "(300,)"
      ]
     },
     "execution_count": 33,
     "metadata": {},
     "output_type": "execute_result"
    }
   ],
   "source": [
    "biases.shape"
   ]
  },
  {
   "cell_type": "markdown",
   "id": "447c5748",
   "metadata": {
    "papermill": {
     "duration": 0.039345,
     "end_time": "2022-11-22T01:36:33.573535",
     "exception": false,
     "start_time": "2022-11-22T01:36:33.534190",
     "status": "completed"
    },
    "tags": []
   },
   "source": [
    "### Compiling the model"
   ]
  },
  {
   "cell_type": "code",
   "execution_count": 34,
   "id": "6644fda6",
   "metadata": {
    "execution": {
     "iopub.execute_input": "2022-11-22T01:36:33.656436Z",
     "iopub.status.busy": "2022-11-22T01:36:33.655774Z",
     "iopub.status.idle": "2022-11-22T01:36:33.670347Z",
     "shell.execute_reply": "2022-11-22T01:36:33.669117Z"
    },
    "papermill": {
     "duration": 0.059023,
     "end_time": "2022-11-22T01:36:33.673179",
     "exception": false,
     "start_time": "2022-11-22T01:36:33.614156",
     "status": "completed"
    },
    "tags": []
   },
   "outputs": [],
   "source": [
    "model.compile(loss=\"sparse_categorical_crossentropy\",\n",
    "              optimizer=\"sgd\",\n",
    "              metrics=[\"accuracy\"])"
   ]
  },
  {
   "cell_type": "markdown",
   "id": "349fb571",
   "metadata": {
    "papermill": {
     "duration": 0.03977,
     "end_time": "2022-11-22T01:36:33.752557",
     "exception": false,
     "start_time": "2022-11-22T01:36:33.712787",
     "status": "completed"
    },
    "tags": []
   },
   "source": [
    "This is equivalent to:"
   ]
  },
  {
   "cell_type": "code",
   "execution_count": 35,
   "id": "f9dc98d6",
   "metadata": {
    "execution": {
     "iopub.execute_input": "2022-11-22T01:36:33.835809Z",
     "iopub.status.busy": "2022-11-22T01:36:33.835122Z",
     "iopub.status.idle": "2022-11-22T01:36:33.843458Z",
     "shell.execute_reply": "2022-11-22T01:36:33.842816Z"
    },
    "papermill": {
     "duration": 0.052902,
     "end_time": "2022-11-22T01:36:33.845590",
     "exception": false,
     "start_time": "2022-11-22T01:36:33.792688",
     "status": "completed"
    },
    "tags": []
   },
   "outputs": [],
   "source": [
    "# extra code – this cell is equivalent to the previous cell\n",
    "model.compile(loss=tf.keras.losses.sparse_categorical_crossentropy,\n",
    "              optimizer=tf.keras.optimizers.SGD(),\n",
    "              metrics=[tf.keras.metrics.sparse_categorical_accuracy])"
   ]
  },
  {
   "cell_type": "code",
   "execution_count": 36,
   "id": "acc7f095",
   "metadata": {
    "execution": {
     "iopub.execute_input": "2022-11-22T01:36:33.991827Z",
     "iopub.status.busy": "2022-11-22T01:36:33.991344Z",
     "iopub.status.idle": "2022-11-22T01:36:33.999077Z",
     "shell.execute_reply": "2022-11-22T01:36:33.997667Z"
    },
    "papermill": {
     "duration": 0.115378,
     "end_time": "2022-11-22T01:36:34.001548",
     "exception": false,
     "start_time": "2022-11-22T01:36:33.886170",
     "status": "completed"
    },
    "tags": []
   },
   "outputs": [
    {
     "data": {
      "text/plain": [
       "array([[1., 0., 0., 0., 0., 0., 0., 0., 0., 0.],\n",
       "       [0., 0., 0., 0., 0., 1., 0., 0., 0., 0.],\n",
       "       [0., 1., 0., 0., 0., 0., 0., 0., 0., 0.],\n",
       "       [1., 0., 0., 0., 0., 0., 0., 0., 0., 0.]], dtype=float32)"
      ]
     },
     "execution_count": 36,
     "metadata": {},
     "output_type": "execute_result"
    }
   ],
   "source": [
    "# extra code – shows how to convert class ids to one-hot vectors\n",
    "tf.keras.utils.to_categorical([0, 5, 1, 0], num_classes=10)"
   ]
  },
  {
   "cell_type": "markdown",
   "id": "6ae40e88",
   "metadata": {
    "papermill": {
     "duration": 0.041305,
     "end_time": "2022-11-22T01:36:34.082855",
     "exception": false,
     "start_time": "2022-11-22T01:36:34.041550",
     "status": "completed"
    },
    "tags": []
   },
   "source": [
    "Note: it's important to set `num_classes` when the number of classes is greater than the maximum class id in the sample."
   ]
  },
  {
   "cell_type": "code",
   "execution_count": 37,
   "id": "1ef8d643",
   "metadata": {
    "execution": {
     "iopub.execute_input": "2022-11-22T01:36:34.166207Z",
     "iopub.status.busy": "2022-11-22T01:36:34.165625Z",
     "iopub.status.idle": "2022-11-22T01:36:34.172961Z",
     "shell.execute_reply": "2022-11-22T01:36:34.172303Z"
    },
    "papermill": {
     "duration": 0.050907,
     "end_time": "2022-11-22T01:36:34.174910",
     "exception": false,
     "start_time": "2022-11-22T01:36:34.124003",
     "status": "completed"
    },
    "tags": []
   },
   "outputs": [
    {
     "data": {
      "text/plain": [
       "array([0, 5, 1, 0])"
      ]
     },
     "execution_count": 37,
     "metadata": {},
     "output_type": "execute_result"
    }
   ],
   "source": [
    "# extra code – shows how to convert one-hot vectors to class ids\n",
    "np.argmax(\n",
    "    [[1., 0., 0., 0., 0., 0., 0., 0., 0., 0.],\n",
    "     [0., 0., 0., 0., 0., 1., 0., 0., 0., 0.],\n",
    "     [0., 1., 0., 0., 0., 0., 0., 0., 0., 0.],\n",
    "     [1., 0., 0., 0., 0., 0., 0., 0., 0., 0.]],\n",
    "    axis=1\n",
    ")"
   ]
  },
  {
   "cell_type": "markdown",
   "id": "a984dcd4",
   "metadata": {
    "papermill": {
     "duration": 0.040686,
     "end_time": "2022-11-22T01:36:34.256773",
     "exception": false,
     "start_time": "2022-11-22T01:36:34.216087",
     "status": "completed"
    },
    "tags": []
   },
   "source": [
    "### Training and evaluating the model"
   ]
  },
  {
   "cell_type": "code",
   "execution_count": 38,
   "id": "b09c18a3",
   "metadata": {
    "execution": {
     "iopub.execute_input": "2022-11-22T01:36:34.339819Z",
     "iopub.status.busy": "2022-11-22T01:36:34.339089Z",
     "iopub.status.idle": "2022-11-22T01:39:33.673779Z",
     "shell.execute_reply": "2022-11-22T01:39:33.672431Z"
    },
    "papermill": {
     "duration": 179.380137,
     "end_time": "2022-11-22T01:39:33.677697",
     "exception": false,
     "start_time": "2022-11-22T01:36:34.297560",
     "status": "completed"
    },
    "tags": []
   },
   "outputs": [
    {
     "name": "stderr",
     "output_type": "stream",
     "text": [
      "2022-11-22 01:36:34.551759: I tensorflow/compiler/mlir/mlir_graph_optimization_pass.cc:185] None of the MLIR Optimization Passes are enabled (registered 2)\n"
     ]
    },
    {
     "name": "stdout",
     "output_type": "stream",
     "text": [
      "Epoch 1/30\n",
      "1719/1719 [==============================] - 7s 4ms/step - loss: 0.7221 - sparse_categorical_accuracy: 0.7648 - val_loss: 0.4959 - val_sparse_categorical_accuracy: 0.8330\n",
      "Epoch 2/30\n",
      "1719/1719 [==============================] - 6s 4ms/step - loss: 0.4826 - sparse_categorical_accuracy: 0.8333 - val_loss: 0.4556 - val_sparse_categorical_accuracy: 0.8388\n",
      "Epoch 3/30\n",
      "1719/1719 [==============================] - 6s 3ms/step - loss: 0.4369 - sparse_categorical_accuracy: 0.8479 - val_loss: 0.4229 - val_sparse_categorical_accuracy: 0.8556\n",
      "Epoch 4/30\n",
      "1719/1719 [==============================] - 6s 3ms/step - loss: 0.4120 - sparse_categorical_accuracy: 0.8561 - val_loss: 0.3970 - val_sparse_categorical_accuracy: 0.8616\n",
      "Epoch 5/30\n",
      "1719/1719 [==============================] - 6s 4ms/step - loss: 0.3909 - sparse_categorical_accuracy: 0.8631 - val_loss: 0.3890 - val_sparse_categorical_accuracy: 0.8612\n",
      "Epoch 6/30\n",
      "1719/1719 [==============================] - 6s 4ms/step - loss: 0.3749 - sparse_categorical_accuracy: 0.8691 - val_loss: 0.3930 - val_sparse_categorical_accuracy: 0.8610\n",
      "Epoch 7/30\n",
      "1719/1719 [==============================] - 6s 4ms/step - loss: 0.3626 - sparse_categorical_accuracy: 0.8714 - val_loss: 0.3708 - val_sparse_categorical_accuracy: 0.8696\n",
      "Epoch 8/30\n",
      "1719/1719 [==============================] - 6s 3ms/step - loss: 0.3512 - sparse_categorical_accuracy: 0.8758 - val_loss: 0.3772 - val_sparse_categorical_accuracy: 0.8622\n",
      "Epoch 9/30\n",
      "1719/1719 [==============================] - 6s 3ms/step - loss: 0.3403 - sparse_categorical_accuracy: 0.8794 - val_loss: 0.3514 - val_sparse_categorical_accuracy: 0.8742\n",
      "Epoch 10/30\n",
      "1719/1719 [==============================] - 6s 4ms/step - loss: 0.3307 - sparse_categorical_accuracy: 0.8814 - val_loss: 0.3547 - val_sparse_categorical_accuracy: 0.8736\n",
      "Epoch 11/30\n",
      "1719/1719 [==============================] - 6s 4ms/step - loss: 0.3222 - sparse_categorical_accuracy: 0.8856 - val_loss: 0.3603 - val_sparse_categorical_accuracy: 0.8704\n",
      "Epoch 12/30\n",
      "1719/1719 [==============================] - 6s 4ms/step - loss: 0.3145 - sparse_categorical_accuracy: 0.8872 - val_loss: 0.3485 - val_sparse_categorical_accuracy: 0.8732\n",
      "Epoch 13/30\n",
      "1719/1719 [==============================] - 6s 3ms/step - loss: 0.3071 - sparse_categorical_accuracy: 0.8906 - val_loss: 0.3283 - val_sparse_categorical_accuracy: 0.8786\n",
      "Epoch 14/30\n",
      "1719/1719 [==============================] - 6s 3ms/step - loss: 0.3001 - sparse_categorical_accuracy: 0.8924 - val_loss: 0.3402 - val_sparse_categorical_accuracy: 0.8776\n",
      "Epoch 15/30\n",
      "1719/1719 [==============================] - 6s 3ms/step - loss: 0.2938 - sparse_categorical_accuracy: 0.8956 - val_loss: 0.3389 - val_sparse_categorical_accuracy: 0.8818\n",
      "Epoch 16/30\n",
      "1719/1719 [==============================] - 6s 3ms/step - loss: 0.2869 - sparse_categorical_accuracy: 0.8968 - val_loss: 0.3257 - val_sparse_categorical_accuracy: 0.8800\n",
      "Epoch 17/30\n",
      "1719/1719 [==============================] - 6s 4ms/step - loss: 0.2824 - sparse_categorical_accuracy: 0.8979 - val_loss: 0.3332 - val_sparse_categorical_accuracy: 0.8774\n",
      "Epoch 18/30\n",
      "1719/1719 [==============================] - 6s 3ms/step - loss: 0.2758 - sparse_categorical_accuracy: 0.9006 - val_loss: 0.3242 - val_sparse_categorical_accuracy: 0.8826\n",
      "Epoch 19/30\n",
      "1719/1719 [==============================] - 6s 3ms/step - loss: 0.2712 - sparse_categorical_accuracy: 0.9029 - val_loss: 0.3484 - val_sparse_categorical_accuracy: 0.8714\n",
      "Epoch 20/30\n",
      "1719/1719 [==============================] - 6s 3ms/step - loss: 0.2665 - sparse_categorical_accuracy: 0.9047 - val_loss: 0.3200 - val_sparse_categorical_accuracy: 0.8818\n",
      "Epoch 21/30\n",
      "1719/1719 [==============================] - 6s 3ms/step - loss: 0.2614 - sparse_categorical_accuracy: 0.9047 - val_loss: 0.3185 - val_sparse_categorical_accuracy: 0.8838\n",
      "Epoch 22/30\n",
      "1719/1719 [==============================] - 6s 3ms/step - loss: 0.2565 - sparse_categorical_accuracy: 0.9071 - val_loss: 0.3128 - val_sparse_categorical_accuracy: 0.8842\n",
      "Epoch 23/30\n",
      "1719/1719 [==============================] - 6s 3ms/step - loss: 0.2521 - sparse_categorical_accuracy: 0.9093 - val_loss: 0.3447 - val_sparse_categorical_accuracy: 0.8738\n",
      "Epoch 24/30\n",
      "1719/1719 [==============================] - 6s 3ms/step - loss: 0.2469 - sparse_categorical_accuracy: 0.9115 - val_loss: 0.3217 - val_sparse_categorical_accuracy: 0.8856\n",
      "Epoch 25/30\n",
      "1719/1719 [==============================] - 6s 3ms/step - loss: 0.2427 - sparse_categorical_accuracy: 0.9130 - val_loss: 0.3175 - val_sparse_categorical_accuracy: 0.8838\n",
      "Epoch 26/30\n",
      "1719/1719 [==============================] - 5s 3ms/step - loss: 0.2393 - sparse_categorical_accuracy: 0.9143 - val_loss: 0.3106 - val_sparse_categorical_accuracy: 0.8860\n",
      "Epoch 27/30\n",
      "1719/1719 [==============================] - 6s 3ms/step - loss: 0.2340 - sparse_categorical_accuracy: 0.9151 - val_loss: 0.3191 - val_sparse_categorical_accuracy: 0.8854\n",
      "Epoch 28/30\n",
      "1719/1719 [==============================] - 6s 4ms/step - loss: 0.2313 - sparse_categorical_accuracy: 0.9166 - val_loss: 0.3091 - val_sparse_categorical_accuracy: 0.8920\n",
      "Epoch 29/30\n",
      "1719/1719 [==============================] - 6s 4ms/step - loss: 0.2267 - sparse_categorical_accuracy: 0.9188 - val_loss: 0.3216 - val_sparse_categorical_accuracy: 0.8842\n",
      "Epoch 30/30\n",
      "1719/1719 [==============================] - 6s 4ms/step - loss: 0.2237 - sparse_categorical_accuracy: 0.9197 - val_loss: 0.3051 - val_sparse_categorical_accuracy: 0.8914\n"
     ]
    }
   ],
   "source": [
    "history = model.fit(X_train, y_train, epochs=30,\n",
    "                    validation_data=(X_valid, y_valid))"
   ]
  },
  {
   "cell_type": "code",
   "execution_count": 39,
   "id": "43b83014",
   "metadata": {
    "execution": {
     "iopub.execute_input": "2022-11-22T01:39:34.129701Z",
     "iopub.status.busy": "2022-11-22T01:39:34.129080Z",
     "iopub.status.idle": "2022-11-22T01:39:34.134621Z",
     "shell.execute_reply": "2022-11-22T01:39:34.133770Z"
    },
    "papermill": {
     "duration": 0.233101,
     "end_time": "2022-11-22T01:39:34.136460",
     "exception": false,
     "start_time": "2022-11-22T01:39:33.903359",
     "status": "completed"
    },
    "tags": []
   },
   "outputs": [
    {
     "data": {
      "text/plain": [
       "{'verbose': 1, 'epochs': 30, 'steps': 1719}"
      ]
     },
     "execution_count": 39,
     "metadata": {},
     "output_type": "execute_result"
    }
   ],
   "source": [
    "history.params"
   ]
  },
  {
   "cell_type": "code",
   "execution_count": 40,
   "id": "bc03b19e",
   "metadata": {
    "execution": {
     "iopub.execute_input": "2022-11-22T01:39:34.662985Z",
     "iopub.status.busy": "2022-11-22T01:39:34.662574Z",
     "iopub.status.idle": "2022-11-22T01:39:34.668230Z",
     "shell.execute_reply": "2022-11-22T01:39:34.667285Z"
    },
    "papermill": {
     "duration": 0.308332,
     "end_time": "2022-11-22T01:39:34.670191",
     "exception": false,
     "start_time": "2022-11-22T01:39:34.361859",
     "status": "completed"
    },
    "tags": []
   },
   "outputs": [
    {
     "name": "stdout",
     "output_type": "stream",
     "text": [
      "[0, 1, 2, 3, 4, 5, 6, 7, 8, 9, 10, 11, 12, 13, 14, 15, 16, 17, 18, 19, 20, 21, 22, 23, 24, 25, 26, 27, 28, 29]\n"
     ]
    }
   ],
   "source": [
    "print(history.epoch)"
   ]
  },
  {
   "cell_type": "code",
   "execution_count": 41,
   "id": "3e42bee6",
   "metadata": {
    "execution": {
     "iopub.execute_input": "2022-11-22T01:39:35.135665Z",
     "iopub.status.busy": "2022-11-22T01:39:35.134486Z",
     "iopub.status.idle": "2022-11-22T01:39:35.761656Z",
     "shell.execute_reply": "2022-11-22T01:39:35.760064Z"
    },
    "papermill": {
     "duration": 0.8621,
     "end_time": "2022-11-22T01:39:35.764874",
     "exception": false,
     "start_time": "2022-11-22T01:39:34.902774",
     "status": "completed"
    },
    "tags": []
   },
   "outputs": [
    {
     "data": {
      "image/png": "[encoded data removed]",
      "text/plain": [
       "<Figure size 576x360 with 1 Axes>"
      ]
     },
     "metadata": {
      "needs_background": "light"
     },
     "output_type": "display_data"
    }
   ],
   "source": [
    "import matplotlib.pyplot as plt\n",
    "import pandas as pd\n",
    "\n",
    "pd.DataFrame(history.history).plot(\n",
    "    figsize=(8, 5), xlim=[0, 29], ylim=[0, 1], grid=True, xlabel=\"Epoch\",\n",
    "    style=[\"r--\", \"r--.\", \"b-\", \"b-*\"])\n",
    "plt.legend(loc=\"lower left\")  # extra code\n",
    "save_fig(\"keras_learning_curves_plot\")  # extra code\n",
    "plt.show()"
   ]
  },
  {
   "cell_type": "code",
   "execution_count": 42,
   "id": "ca365bcd",
   "metadata": {
    "execution": {
     "iopub.execute_input": "2022-11-22T01:39:36.223417Z",
     "iopub.status.busy": "2022-11-22T01:39:36.222140Z",
     "iopub.status.idle": "2022-11-22T01:39:36.387722Z",
     "shell.execute_reply": "2022-11-22T01:39:36.386708Z"
    },
    "papermill": {
     "duration": 0.393565,
     "end_time": "2022-11-22T01:39:36.389957",
     "exception": false,
     "start_time": "2022-11-22T01:39:35.996392",
     "status": "completed"
    },
    "tags": []
   },
   "outputs": [
    {
     "data": {
      "image/png": "[encoded data removed]",
      "text/plain": [
       "<Figure size 576x360 with 1 Axes>"
      ]
     },
     "metadata": {
      "needs_background": "light"
     },
     "output_type": "display_data"
    }
   ],
   "source": [
    "# extra code – shows how to shift the training curve by -1/2 epoch\n",
    "plt.figure(figsize=(8, 5))\n",
    "for key, style in zip(history.history, [\"r--\", \"r--.\", \"b-\", \"b-*\"]):\n",
    "    epochs = np.array(history.epoch) + (0 if key.startswith(\"val_\") else -0.5)\n",
    "    plt.plot(epochs, history.history[key], style, label=key)\n",
    "plt.xlabel(\"Epoch\")\n",
    "plt.axis([-0.5, 29, 0., 1])\n",
    "plt.legend(loc=\"lower left\")\n",
    "plt.grid()\n",
    "plt.show()"
   ]
  },
  {
   "cell_type": "code",
   "execution_count": 43,
   "id": "77ee8048",
   "metadata": {
    "execution": {
     "iopub.execute_input": "2022-11-22T01:39:36.853673Z",
     "iopub.status.busy": "2022-11-22T01:39:36.852967Z",
     "iopub.status.idle": "2022-11-22T01:39:37.762852Z",
     "shell.execute_reply": "2022-11-22T01:39:37.760921Z"
    },
    "papermill": {
     "duration": 1.142086,
     "end_time": "2022-11-22T01:39:37.765174",
     "exception": false,
     "start_time": "2022-11-22T01:39:36.623088",
     "status": "completed"
    },
    "tags": []
   },
   "outputs": [
    {
     "name": "stdout",
     "output_type": "stream",
     "text": [
      "313/313 [==============================] - 1s 3ms/step - loss: 0.3251 - sparse_categorical_accuracy: 0.8858\n"
     ]
    },
    {
     "data": {
      "text/plain": [
       "[0.3250797986984253, 0.8858000040054321]"
      ]
     },
     "execution_count": 43,
     "metadata": {},
     "output_type": "execute_result"
    }
   ],
   "source": [
    "model.evaluate(X_test, y_test)"
   ]
  },
  {
   "cell_type": "markdown",
   "id": "24cc6d93",
   "metadata": {
    "papermill": {
     "duration": 0.228619,
     "end_time": "2022-11-22T01:39:38.221409",
     "exception": false,
     "start_time": "2022-11-22T01:39:37.992790",
     "status": "completed"
    },
    "tags": []
   },
   "source": [
    "### Using the model to make predictions"
   ]
  },
  {
   "cell_type": "code",
   "execution_count": 44,
   "id": "47af674f",
   "metadata": {
    "execution": {
     "iopub.execute_input": "2022-11-22T01:39:38.744648Z",
     "iopub.status.busy": "2022-11-22T01:39:38.743056Z",
     "iopub.status.idle": "2022-11-22T01:39:38.865074Z",
     "shell.execute_reply": "2022-11-22T01:39:38.863752Z"
    },
    "papermill": {
     "duration": 0.35895,
     "end_time": "2022-11-22T01:39:38.867639",
     "exception": false,
     "start_time": "2022-11-22T01:39:38.508689",
     "status": "completed"
    },
    "tags": []
   },
   "outputs": [
    {
     "data": {
      "text/plain": [
       "array([[0.  , 0.  , 0.  , 0.  , 0.  , 0.01, 0.  , 0.02, 0.  , 0.97],\n",
       "       [0.  , 0.  , 0.99, 0.  , 0.01, 0.  , 0.  , 0.  , 0.  , 0.  ],\n",
       "       [0.  , 1.  , 0.  , 0.  , 0.  , 0.  , 0.  , 0.  , 0.  , 0.  ]],\n",
       "      dtype=float32)"
      ]
     },
     "execution_count": 44,
     "metadata": {},
     "output_type": "execute_result"
    }
   ],
   "source": [
    "X_new = X_test[:3]\n",
    "y_proba = model.predict(X_new)\n",
    "y_proba.round(2)"
   ]
  },
  {
   "cell_type": "code",
   "execution_count": 45,
   "id": "05671ede",
   "metadata": {
    "execution": {
     "iopub.execute_input": "2022-11-22T01:39:39.334790Z",
     "iopub.status.busy": "2022-11-22T01:39:39.333818Z",
     "iopub.status.idle": "2022-11-22T01:39:39.341741Z",
     "shell.execute_reply": "2022-11-22T01:39:39.340415Z"
    },
    "papermill": {
     "duration": 0.24373,
     "end_time": "2022-11-22T01:39:39.343802",
     "exception": false,
     "start_time": "2022-11-22T01:39:39.100072",
     "status": "completed"
    },
    "tags": []
   },
   "outputs": [
    {
     "data": {
      "text/plain": [
       "array([9, 2, 1])"
      ]
     },
     "execution_count": 45,
     "metadata": {},
     "output_type": "execute_result"
    }
   ],
   "source": [
    "y_pred = y_proba.argmax(axis=-1)\n",
    "y_pred"
   ]
  },
  {
   "cell_type": "code",
   "execution_count": 46,
   "id": "1511b27c",
   "metadata": {
    "execution": {
     "iopub.execute_input": "2022-11-22T01:39:39.807632Z",
     "iopub.status.busy": "2022-11-22T01:39:39.807197Z",
     "iopub.status.idle": "2022-11-22T01:39:39.815462Z",
     "shell.execute_reply": "2022-11-22T01:39:39.814311Z"
    },
    "papermill": {
     "duration": 0.245002,
     "end_time": "2022-11-22T01:39:39.818052",
     "exception": false,
     "start_time": "2022-11-22T01:39:39.573050",
     "status": "completed"
    },
    "tags": []
   },
   "outputs": [
    {
     "data": {
      "text/plain": [
       "array(['Ankle boot', 'Pullover', 'Trouser'], dtype='<U11')"
      ]
     },
     "execution_count": 46,
     "metadata": {},
     "output_type": "execute_result"
    }
   ],
   "source": [
    "np.array(class_names)[y_pred]"
   ]
  },
  {
   "cell_type": "code",
   "execution_count": 47,
   "id": "117180a7",
   "metadata": {
    "execution": {
     "iopub.execute_input": "2022-11-22T01:39:40.276825Z",
     "iopub.status.busy": "2022-11-22T01:39:40.276483Z",
     "iopub.status.idle": "2022-11-22T01:39:40.283310Z",
     "shell.execute_reply": "2022-11-22T01:39:40.281782Z"
    },
    "papermill": {
     "duration": 0.236508,
     "end_time": "2022-11-22T01:39:40.286193",
     "exception": false,
     "start_time": "2022-11-22T01:39:40.049685",
     "status": "completed"
    },
    "tags": []
   },
   "outputs": [
    {
     "data": {
      "text/plain": [
       "array([9, 2, 1], dtype=uint8)"
      ]
     },
     "execution_count": 47,
     "metadata": {},
     "output_type": "execute_result"
    }
   ],
   "source": [
    "y_new = y_test[:3]\n",
    "y_new"
   ]
  },
  {
   "cell_type": "code",
   "execution_count": 48,
   "id": "e3c7a310",
   "metadata": {
    "execution": {
     "iopub.execute_input": "2022-11-22T01:39:40.767537Z",
     "iopub.status.busy": "2022-11-22T01:39:40.767155Z",
     "iopub.status.idle": "2022-11-22T01:39:41.038963Z",
     "shell.execute_reply": "2022-11-22T01:39:41.037781Z"
    },
    "papermill": {
     "duration": 0.507645,
     "end_time": "2022-11-22T01:39:41.041343",
     "exception": false,
     "start_time": "2022-11-22T01:39:40.533698",
     "status": "completed"
    },
    "tags": []
   },
   "outputs": [
    {
     "data": {
      "image/png": "[encoded data removed]",
      "text/plain": [
       "<Figure size 518.4x172.8 with 3 Axes>"
      ]
     },
     "metadata": {
      "needs_background": "light"
     },
     "output_type": "display_data"
    }
   ],
   "source": [
    "# extra code – this cell generates and saves Figure 10–12\n",
    "plt.figure(figsize=(7.2, 2.4))\n",
    "for index, image in enumerate(X_new):\n",
    "    plt.subplot(1, 3, index + 1)\n",
    "    plt.imshow(image, cmap=\"binary\", interpolation=\"nearest\")\n",
    "    plt.axis('off')\n",
    "    plt.title(class_names[y_test[index]])\n",
    "plt.subplots_adjust(wspace=0.2, hspace=0.5)\n",
    "save_fig('fashion_mnist_images_plot', tight_layout=False)\n",
    "plt.show()"
   ]
  },
  {
   "cell_type": "markdown",
   "id": "99043fab",
   "metadata": {
    "papermill": {
     "duration": 0.225444,
     "end_time": "2022-11-22T01:39:41.562112",
     "exception": false,
     "start_time": "2022-11-22T01:39:41.336668",
     "status": "completed"
    },
    "tags": []
   },
   "source": [
    "## Building a Regression MLP Using the Sequential API"
   ]
  },
  {
   "cell_type": "markdown",
   "id": "f80da797",
   "metadata": {
    "papermill": {
     "duration": 0.231706,
     "end_time": "2022-11-22T01:39:42.023944",
     "exception": false,
     "start_time": "2022-11-22T01:39:41.792238",
     "status": "completed"
    },
    "tags": []
   },
   "source": [
    "Let's load, split and scale the California housing dataset (the original one, not the modified one as in chapter 2):"
   ]
  },
  {
   "cell_type": "code",
   "execution_count": 49,
   "id": "15e57755",
   "metadata": {
    "execution": {
     "iopub.execute_input": "2022-11-22T01:39:42.476979Z",
     "iopub.status.busy": "2022-11-22T01:39:42.476599Z",
     "iopub.status.idle": "2022-11-22T01:39:42.505561Z",
     "shell.execute_reply": "2022-11-22T01:39:42.504509Z"
    },
    "papermill": {
     "duration": 0.256063,
     "end_time": "2022-11-22T01:39:42.507741",
     "exception": false,
     "start_time": "2022-11-22T01:39:42.251678",
     "status": "completed"
    },
    "tags": []
   },
   "outputs": [],
   "source": [
    "# extra code – load and split the California housing dataset, like earlier\n",
    "housing = fetch_california_housing()\n",
    "X_train_full, X_test, y_train_full, y_test = train_test_split(\n",
    "    housing.data, housing.target, random_state=42)\n",
    "X_train, X_valid, y_train, y_valid = train_test_split(\n",
    "    X_train_full, y_train_full, random_state=42)"
   ]
  },
  {
   "cell_type": "code",
   "execution_count": 50,
   "id": "1940e909",
   "metadata": {
    "execution": {
     "iopub.execute_input": "2022-11-22T01:39:42.965878Z",
     "iopub.status.busy": "2022-11-22T01:39:42.965332Z",
     "iopub.status.idle": "2022-11-22T01:40:12.017258Z",
     "shell.execute_reply": "2022-11-22T01:40:12.016239Z"
    },
    "papermill": {
     "duration": 29.283539,
     "end_time": "2022-11-22T01:40:12.019531",
     "exception": false,
     "start_time": "2022-11-22T01:39:42.735992",
     "status": "completed"
    },
    "tags": []
   },
   "outputs": [
    {
     "name": "stdout",
     "output_type": "stream",
     "text": [
      "Epoch 1/20\n",
      "363/363 [==============================] - 2s 4ms/step - loss: 0.9051 - root_mean_squared_error: 0.9514 - val_loss: 0.4030 - val_root_mean_squared_error: 0.6348\n",
      "Epoch 2/20\n",
      "363/363 [==============================] - 1s 4ms/step - loss: 0.3843 - root_mean_squared_error: 0.6199 - val_loss: 0.8436 - val_root_mean_squared_error: 0.9185\n",
      "Epoch 3/20\n",
      "363/363 [==============================] - 1s 4ms/step - loss: 0.3609 - root_mean_squared_error: 0.6007 - val_loss: 0.3744 - val_root_mean_squared_error: 0.6119\n",
      "Epoch 4/20\n",
      "363/363 [==============================] - 1s 4ms/step - loss: 0.3416 - root_mean_squared_error: 0.5845 - val_loss: 0.4361 - val_root_mean_squared_error: 0.6604\n",
      "Epoch 5/20\n",
      "363/363 [==============================] - 1s 4ms/step - loss: 0.3300 - root_mean_squared_error: 0.5744 - val_loss: 0.3088 - val_root_mean_squared_error: 0.5557\n",
      "Epoch 6/20\n",
      "363/363 [==============================] - 1s 4ms/step - loss: 0.3169 - root_mean_squared_error: 0.5629 - val_loss: 0.5149 - val_root_mean_squared_error: 0.7176\n",
      "Epoch 7/20\n",
      "363/363 [==============================] - 1s 4ms/step - loss: 0.3154 - root_mean_squared_error: 0.5616 - val_loss: 0.2922 - val_root_mean_squared_error: 0.5406\n",
      "Epoch 8/20\n",
      "363/363 [==============================] - 1s 4ms/step - loss: 0.3038 - root_mean_squared_error: 0.5512 - val_loss: 0.4299 - val_root_mean_squared_error: 0.6556\n",
      "Epoch 9/20\n",
      "363/363 [==============================] - 1s 4ms/step - loss: 0.2976 - root_mean_squared_error: 0.5455 - val_loss: 0.7698 - val_root_mean_squared_error: 0.8774\n",
      "Epoch 10/20\n",
      "363/363 [==============================] - 1s 4ms/step - loss: 0.2983 - root_mean_squared_error: 0.5462 - val_loss: 0.2914 - val_root_mean_squared_error: 0.5398\n",
      "Epoch 11/20\n",
      "363/363 [==============================] - 1s 4ms/step - loss: 0.2870 - root_mean_squared_error: 0.5358 - val_loss: 0.2894 - val_root_mean_squared_error: 0.5379\n",
      "Epoch 12/20\n",
      "363/363 [==============================] - 1s 4ms/step - loss: 0.2908 - root_mean_squared_error: 0.5392 - val_loss: 0.7311 - val_root_mean_squared_error: 0.8551\n",
      "Epoch 13/20\n",
      "363/363 [==============================] - 1s 4ms/step - loss: 0.2830 - root_mean_squared_error: 0.5320 - val_loss: 0.3191 - val_root_mean_squared_error: 0.5649\n",
      "Epoch 14/20\n",
      "363/363 [==============================] - 2s 4ms/step - loss: 0.2802 - root_mean_squared_error: 0.5293 - val_loss: 0.7946 - val_root_mean_squared_error: 0.8914\n",
      "Epoch 15/20\n",
      "363/363 [==============================] - 1s 4ms/step - loss: 0.2804 - root_mean_squared_error: 0.5295 - val_loss: 0.3177 - val_root_mean_squared_error: 0.5636\n",
      "Epoch 16/20\n",
      "363/363 [==============================] - 1s 4ms/step - loss: 0.2752 - root_mean_squared_error: 0.5246 - val_loss: 0.2839 - val_root_mean_squared_error: 0.5328\n",
      "Epoch 17/20\n",
      "363/363 [==============================] - 1s 4ms/step - loss: 0.2747 - root_mean_squared_error: 0.5241 - val_loss: 1.4537 - val_root_mean_squared_error: 1.2057\n",
      "Epoch 18/20\n",
      "363/363 [==============================] - 1s 4ms/step - loss: 0.2704 - root_mean_squared_error: 0.5200 - val_loss: 0.3867 - val_root_mean_squared_error: 0.6219\n",
      "Epoch 19/20\n",
      "363/363 [==============================] - 1s 4ms/step - loss: 0.2677 - root_mean_squared_error: 0.5174 - val_loss: 1.5866 - val_root_mean_squared_error: 1.2596\n",
      "Epoch 20/20\n",
      "363/363 [==============================] - 1s 4ms/step - loss: 0.2791 - root_mean_squared_error: 0.5283 - val_loss: 0.2713 - val_root_mean_squared_error: 0.5209\n",
      "162/162 [==============================] - 0s 2ms/step - loss: 0.2825 - root_mean_squared_error: 0.5315\n"
     ]
    }
   ],
   "source": [
    "tf.random.set_seed(42)\n",
    "norm_layer = tf.keras.layers.Normalization(input_shape=X_train.shape[1:])\n",
    "model = tf.keras.Sequential([\n",
    "    norm_layer,\n",
    "    tf.keras.layers.Dense(50, activation=\"relu\"),\n",
    "    tf.keras.layers.Dense(50, activation=\"relu\"),\n",
    "    tf.keras.layers.Dense(50, activation=\"relu\"),\n",
    "    tf.keras.layers.Dense(1)\n",
    "])\n",
    "optimizer = tf.keras.optimizers.Adam(learning_rate=1e-3)\n",
    "model.compile(loss=\"mse\", optimizer=optimizer, metrics=[\"RootMeanSquaredError\"])\n",
    "norm_layer.adapt(X_train)\n",
    "history = model.fit(X_train, y_train, epochs=20,\n",
    "                    validation_data=(X_valid, y_valid))\n",
    "mse_test, rmse_test = model.evaluate(X_test, y_test)\n",
    "X_new = X_test[:3]\n",
    "y_pred = model.predict(X_new)"
   ]
  },
  {
   "cell_type": "code",
   "execution_count": 51,
   "id": "63058321",
   "metadata": {
    "execution": {
     "iopub.execute_input": "2022-11-22T01:40:12.588566Z",
     "iopub.status.busy": "2022-11-22T01:40:12.588203Z",
     "iopub.status.idle": "2022-11-22T01:40:12.595486Z",
     "shell.execute_reply": "2022-11-22T01:40:12.593838Z"
    },
    "papermill": {
     "duration": 0.326672,
     "end_time": "2022-11-22T01:40:12.597676",
     "exception": false,
     "start_time": "2022-11-22T01:40:12.271004",
     "status": "completed"
    },
    "tags": []
   },
   "outputs": [
    {
     "data": {
      "text/plain": [
       "0.5315253138542175"
      ]
     },
     "execution_count": 51,
     "metadata": {},
     "output_type": "execute_result"
    }
   ],
   "source": [
    "rmse_test"
   ]
  },
  {
   "cell_type": "code",
   "execution_count": 52,
   "id": "4ddfcfb1",
   "metadata": {
    "execution": {
     "iopub.execute_input": "2022-11-22T01:40:13.114022Z",
     "iopub.status.busy": "2022-11-22T01:40:13.113604Z",
     "iopub.status.idle": "2022-11-22T01:40:13.122132Z",
     "shell.execute_reply": "2022-11-22T01:40:13.120492Z"
    },
    "papermill": {
     "duration": 0.266121,
     "end_time": "2022-11-22T01:40:13.124685",
     "exception": false,
     "start_time": "2022-11-22T01:40:12.858564",
     "status": "completed"
    },
    "tags": []
   },
   "outputs": [
    {
     "data": {
      "text/plain": [
       "array([[0.4787591],\n",
       "       [1.244392 ],\n",
       "       [5.153459 ]], dtype=float32)"
      ]
     },
     "execution_count": 52,
     "metadata": {},
     "output_type": "execute_result"
    }
   ],
   "source": [
    "y_pred"
   ]
  },
  {
   "cell_type": "markdown",
   "id": "447f553a",
   "metadata": {
    "papermill": {
     "duration": 0.259798,
     "end_time": "2022-11-22T01:40:13.656967",
     "exception": false,
     "start_time": "2022-11-22T01:40:13.397169",
     "status": "completed"
    },
    "tags": []
   },
   "source": [
    "## Building Complex Models Using the Functional API"
   ]
  },
  {
   "cell_type": "markdown",
   "id": "29cd2b00",
   "metadata": {
    "papermill": {
     "duration": 0.307896,
     "end_time": "2022-11-22T01:40:14.223777",
     "exception": false,
     "start_time": "2022-11-22T01:40:13.915881",
     "status": "completed"
    },
    "tags": []
   },
   "source": [
    "Not all neural network models are simply sequential. Some may have complex topologies. Some may have multiple inputs and/or multiple outputs. For example, a Wide & Deep neural network (see [paper](https://ai.google/research/pubs/pub45413)) connects all or part of the inputs directly to the output layer."
   ]
  },
  {
   "cell_type": "code",
   "execution_count": 53,
   "id": "490de3f6",
   "metadata": {
    "execution": {
     "iopub.execute_input": "2022-11-22T01:40:14.738073Z",
     "iopub.status.busy": "2022-11-22T01:40:14.737297Z",
     "iopub.status.idle": "2022-11-22T01:40:14.750898Z",
     "shell.execute_reply": "2022-11-22T01:40:14.749831Z"
    },
    "papermill": {
     "duration": 0.272258,
     "end_time": "2022-11-22T01:40:14.753808",
     "exception": false,
     "start_time": "2022-11-22T01:40:14.481550",
     "status": "completed"
    },
    "tags": []
   },
   "outputs": [],
   "source": [
    "# extra code – reset the name counters and make the code reproducible\n",
    "tf.keras.backend.clear_session()\n",
    "tf.random.set_seed(42)"
   ]
  },
  {
   "cell_type": "code",
   "execution_count": 54,
   "id": "c757f577",
   "metadata": {
    "execution": {
     "iopub.execute_input": "2022-11-22T01:40:15.259207Z",
     "iopub.status.busy": "2022-11-22T01:40:15.258474Z",
     "iopub.status.idle": "2022-11-22T01:40:15.295924Z",
     "shell.execute_reply": "2022-11-22T01:40:15.295225Z"
    },
    "papermill": {
     "duration": 0.290645,
     "end_time": "2022-11-22T01:40:15.298054",
     "exception": false,
     "start_time": "2022-11-22T01:40:15.007409",
     "status": "completed"
    },
    "tags": []
   },
   "outputs": [],
   "source": [
    "normalization_layer = tf.keras.layers.Normalization()\n",
    "hidden_layer1 = tf.keras.layers.Dense(30, activation=\"relu\")\n",
    "hidden_layer2 = tf.keras.layers.Dense(30, activation=\"relu\")\n",
    "concat_layer = tf.keras.layers.Concatenate()\n",
    "output_layer = tf.keras.layers.Dense(1)\n",
    "\n",
    "input_ = tf.keras.layers.Input(shape=X_train.shape[1:])\n",
    "normalized = normalization_layer(input_)\n",
    "hidden1 = hidden_layer1(normalized)\n",
    "hidden2 = hidden_layer2(hidden1)\n",
    "concat = concat_layer([normalized, hidden2])\n",
    "output = output_layer(concat)\n",
    "\n",
    "model = tf.keras.Model(inputs=[input_], outputs=[output])"
   ]
  },
  {
   "cell_type": "code",
   "execution_count": 55,
   "id": "0f6dbe06",
   "metadata": {
    "execution": {
     "iopub.execute_input": "2022-11-22T01:40:15.808012Z",
     "iopub.status.busy": "2022-11-22T01:40:15.807480Z",
     "iopub.status.idle": "2022-11-22T01:40:15.813292Z",
     "shell.execute_reply": "2022-11-22T01:40:15.812497Z"
    },
    "papermill": {
     "duration": 0.263375,
     "end_time": "2022-11-22T01:40:15.815035",
     "exception": false,
     "start_time": "2022-11-22T01:40:15.551660",
     "status": "completed"
    },
    "tags": []
   },
   "outputs": [
    {
     "name": "stdout",
     "output_type": "stream",
     "text": [
      "Model: \"model\"\n",
      "__________________________________________________________________________________________________\n",
      "Layer (type)                    Output Shape         Param #     Connected to                     \n",
      "==================================================================================================\n",
      "input_1 (InputLayer)            [(None, 8)]          0                                            \n",
      "__________________________________________________________________________________________________\n",
      "normalization (Normalization)   (None, 8)            17          input_1[0][0]                    \n",
      "__________________________________________________________________________________________________\n",
      "dense (Dense)                   (None, 30)           270         normalization[0][0]              \n",
      "__________________________________________________________________________________________________\n",
      "dense_1 (Dense)                 (None, 30)           930         dense[0][0]                      \n",
      "__________________________________________________________________________________________________\n",
      "concatenate (Concatenate)       (None, 38)           0           normalization[0][0]              \n",
      "                                                                 dense_1[0][0]                    \n",
      "__________________________________________________________________________________________________\n",
      "dense_2 (Dense)                 (None, 1)            39          concatenate[0][0]                \n",
      "==================================================================================================\n",
      "Total params: 1,256\n",
      "Trainable params: 1,239\n",
      "Non-trainable params: 17\n",
      "__________________________________________________________________________________________________\n"
     ]
    }
   ],
   "source": [
    "model.summary()"
   ]
  },
  {
   "cell_type": "code",
   "execution_count": 56,
   "id": "8874f068",
   "metadata": {
    "execution": {
     "iopub.execute_input": "2022-11-22T01:40:16.386307Z",
     "iopub.status.busy": "2022-11-22T01:40:16.385683Z",
     "iopub.status.idle": "2022-11-22T01:40:37.964095Z",
     "shell.execute_reply": "2022-11-22T01:40:37.962575Z"
    },
    "papermill": {
     "duration": 21.836287,
     "end_time": "2022-11-22T01:40:37.966595",
     "exception": false,
     "start_time": "2022-11-22T01:40:16.130308",
     "status": "completed"
    },
    "tags": []
   },
   "outputs": [
    {
     "name": "stdout",
     "output_type": "stream",
     "text": [
      "Epoch 1/20\n",
      "363/363 [==============================] - 1s 3ms/step - loss: 0.8358 - root_mean_squared_error: 0.9142 - val_loss: 0.5117 - val_root_mean_squared_error: 0.7153\n",
      "Epoch 2/20\n",
      "363/363 [==============================] - 1s 3ms/step - loss: 0.4329 - root_mean_squared_error: 0.6579 - val_loss: 0.7802 - val_root_mean_squared_error: 0.8833\n",
      "Epoch 3/20\n",
      "363/363 [==============================] - 1s 3ms/step - loss: 0.3900 - root_mean_squared_error: 0.6245 - val_loss: 0.3525 - val_root_mean_squared_error: 0.5937\n",
      "Epoch 4/20\n",
      "363/363 [==============================] - 1s 3ms/step - loss: 0.3646 - root_mean_squared_error: 0.6038 - val_loss: 0.3524 - val_root_mean_squared_error: 0.5937\n",
      "Epoch 5/20\n",
      "363/363 [==============================] - 1s 3ms/step - loss: 0.3523 - root_mean_squared_error: 0.5935 - val_loss: 0.3285 - val_root_mean_squared_error: 0.5731\n",
      "Epoch 6/20\n",
      "363/363 [==============================] - 1s 3ms/step - loss: 0.3419 - root_mean_squared_error: 0.5847 - val_loss: 0.6086 - val_root_mean_squared_error: 0.7801\n",
      "Epoch 7/20\n",
      "363/363 [==============================] - 1s 3ms/step - loss: 0.3408 - root_mean_squared_error: 0.5838 - val_loss: 1.1018 - val_root_mean_squared_error: 1.0497\n",
      "Epoch 8/20\n",
      "363/363 [==============================] - 1s 3ms/step - loss: 0.3288 - root_mean_squared_error: 0.5734 - val_loss: 2.1516 - val_root_mean_squared_error: 1.4668\n",
      "Epoch 9/20\n",
      "363/363 [==============================] - 1s 3ms/step - loss: 0.3294 - root_mean_squared_error: 0.5740 - val_loss: 2.1129 - val_root_mean_squared_error: 1.4536\n",
      "Epoch 10/20\n",
      "363/363 [==============================] - 1s 3ms/step - loss: 0.3360 - root_mean_squared_error: 0.5796 - val_loss: 1.9122 - val_root_mean_squared_error: 1.3828\n",
      "Epoch 11/20\n",
      "363/363 [==============================] - 1s 3ms/step - loss: 0.3181 - root_mean_squared_error: 0.5640 - val_loss: 0.3889 - val_root_mean_squared_error: 0.6236\n",
      "Epoch 12/20\n",
      "363/363 [==============================] - 1s 3ms/step - loss: 0.3179 - root_mean_squared_error: 0.5639 - val_loss: 0.9404 - val_root_mean_squared_error: 0.9697\n",
      "Epoch 13/20\n",
      "363/363 [==============================] - 1s 3ms/step - loss: 0.3085 - root_mean_squared_error: 0.5554 - val_loss: 0.3325 - val_root_mean_squared_error: 0.5766\n",
      "Epoch 14/20\n",
      "363/363 [==============================] - 1s 3ms/step - loss: 0.3013 - root_mean_squared_error: 0.5489 - val_loss: 0.3124 - val_root_mean_squared_error: 0.5590\n",
      "Epoch 15/20\n",
      "363/363 [==============================] - 1s 3ms/step - loss: 0.2999 - root_mean_squared_error: 0.5476 - val_loss: 0.4154 - val_root_mean_squared_error: 0.6445\n",
      "Epoch 16/20\n",
      "363/363 [==============================] - 1s 3ms/step - loss: 0.2987 - root_mean_squared_error: 0.5465 - val_loss: 0.3925 - val_root_mean_squared_error: 0.6265\n",
      "Epoch 17/20\n",
      "363/363 [==============================] - 1s 3ms/step - loss: 0.2978 - root_mean_squared_error: 0.5457 - val_loss: 0.4698 - val_root_mean_squared_error: 0.6855\n",
      "Epoch 18/20\n",
      "363/363 [==============================] - 1s 3ms/step - loss: 0.2935 - root_mean_squared_error: 0.5418 - val_loss: 1.7293 - val_root_mean_squared_error: 1.3150\n",
      "Epoch 19/20\n",
      "363/363 [==============================] - 1s 3ms/step - loss: 0.3013 - root_mean_squared_error: 0.5489 - val_loss: 1.2133 - val_root_mean_squared_error: 1.1015\n",
      "Epoch 20/20\n",
      "363/363 [==============================] - 1s 3ms/step - loss: 0.3052 - root_mean_squared_error: 0.5524 - val_loss: 0.8825 - val_root_mean_squared_error: 0.9394\n",
      "162/162 [==============================] - 0s 2ms/step - loss: 0.2974 - root_mean_squared_error: 0.5454\n"
     ]
    }
   ],
   "source": [
    "optimizer = tf.keras.optimizers.Adam(learning_rate=1e-3)\n",
    "model.compile(loss=\"mse\", optimizer=optimizer, metrics=[\"RootMeanSquaredError\"])\n",
    "normalization_layer.adapt(X_train)\n",
    "history = model.fit(X_train, y_train, epochs=20,\n",
    "                    validation_data=(X_valid, y_valid))\n",
    "mse_test = model.evaluate(X_test, y_test)\n",
    "y_pred = model.predict(X_new)"
   ]
  },
  {
   "cell_type": "markdown",
   "id": "6c8c284e",
   "metadata": {
    "papermill": {
     "duration": 0.272489,
     "end_time": "2022-11-22T01:40:38.512030",
     "exception": false,
     "start_time": "2022-11-22T01:40:38.239541",
     "status": "completed"
    },
    "tags": []
   },
   "source": [
    "What if you want to send different subsets of input features through the wide or deep paths? We will send 5 features (features 0 to 4), and 6 through the deep path (features 2 to 7). Note that 3 features will go through both (features 2, 3 and 4)."
   ]
  },
  {
   "cell_type": "code",
   "execution_count": 57,
   "id": "0929c9dc",
   "metadata": {
    "execution": {
     "iopub.execute_input": "2022-11-22T01:40:39.061027Z",
     "iopub.status.busy": "2022-11-22T01:40:39.060114Z",
     "iopub.status.idle": "2022-11-22T01:40:39.067253Z",
     "shell.execute_reply": "2022-11-22T01:40:39.066120Z"
    },
    "papermill": {
     "duration": 0.285138,
     "end_time": "2022-11-22T01:40:39.069771",
     "exception": false,
     "start_time": "2022-11-22T01:40:38.784633",
     "status": "completed"
    },
    "tags": []
   },
   "outputs": [],
   "source": [
    "tf.random.set_seed(42)  # extra code"
   ]
  },
  {
   "cell_type": "code",
   "execution_count": 58,
   "id": "1e71155d",
   "metadata": {
    "execution": {
     "iopub.execute_input": "2022-11-22T01:40:39.719797Z",
     "iopub.status.busy": "2022-11-22T01:40:39.719115Z",
     "iopub.status.idle": "2022-11-22T01:40:39.767828Z",
     "shell.execute_reply": "2022-11-22T01:40:39.766889Z"
    },
    "papermill": {
     "duration": 0.346711,
     "end_time": "2022-11-22T01:40:39.770393",
     "exception": false,
     "start_time": "2022-11-22T01:40:39.423682",
     "status": "completed"
    },
    "tags": []
   },
   "outputs": [],
   "source": [
    "input_wide = tf.keras.layers.Input(shape=[5])  # features 0 to 4\n",
    "input_deep = tf.keras.layers.Input(shape=[6])  # features 2 to 7\n",
    "norm_layer_wide = tf.keras.layers.Normalization()\n",
    "norm_layer_deep = tf.keras.layers.Normalization()\n",
    "norm_wide = norm_layer_wide(input_wide)\n",
    "norm_deep = norm_layer_deep(input_deep)\n",
    "hidden1 = tf.keras.layers.Dense(30, activation=\"relu\")(norm_deep)\n",
    "hidden2 = tf.keras.layers.Dense(30, activation=\"relu\")(hidden1)\n",
    "concat = tf.keras.layers.concatenate([norm_wide, hidden2])\n",
    "output = tf.keras.layers.Dense(1)(concat)\n",
    "model = tf.keras.Model(inputs=[input_wide, input_deep], outputs=[output])"
   ]
  },
  {
   "cell_type": "code",
   "execution_count": 59,
   "id": "89066949",
   "metadata": {
    "execution": {
     "iopub.execute_input": "2022-11-22T01:40:40.327849Z",
     "iopub.status.busy": "2022-11-22T01:40:40.327328Z",
     "iopub.status.idle": "2022-11-22T01:41:03.199021Z",
     "shell.execute_reply": "2022-11-22T01:41:03.197927Z"
    },
    "papermill": {
     "duration": 23.153754,
     "end_time": "2022-11-22T01:41:03.201331",
     "exception": false,
     "start_time": "2022-11-22T01:40:40.047577",
     "status": "completed"
    },
    "tags": []
   },
   "outputs": [
    {
     "name": "stdout",
     "output_type": "stream",
     "text": [
      "Epoch 1/20\n",
      "363/363 [==============================] - 2s 3ms/step - loss: 1.2768 - root_mean_squared_error: 1.1300 - val_loss: 0.9497 - val_root_mean_squared_error: 0.9745\n",
      "Epoch 2/20\n",
      "363/363 [==============================] - 1s 3ms/step - loss: 0.4767 - root_mean_squared_error: 0.6904 - val_loss: 1.4311 - val_root_mean_squared_error: 1.1963\n",
      "Epoch 3/20\n",
      "363/363 [==============================] - 1s 3ms/step - loss: 0.4433 - root_mean_squared_error: 0.6658 - val_loss: 0.4258 - val_root_mean_squared_error: 0.6525\n",
      "Epoch 4/20\n",
      "363/363 [==============================] - 1s 3ms/step - loss: 0.4057 - root_mean_squared_error: 0.6370 - val_loss: 0.4009 - val_root_mean_squared_error: 0.6332\n",
      "Epoch 5/20\n",
      "363/363 [==============================] - 1s 3ms/step - loss: 0.3939 - root_mean_squared_error: 0.6276 - val_loss: 1.4774 - val_root_mean_squared_error: 1.2155\n",
      "Epoch 6/20\n",
      "363/363 [==============================] - 1s 3ms/step - loss: 0.3873 - root_mean_squared_error: 0.6223 - val_loss: 2.6819 - val_root_mean_squared_error: 1.6376\n",
      "Epoch 7/20\n",
      "363/363 [==============================] - 1s 3ms/step - loss: 0.3917 - root_mean_squared_error: 0.6259 - val_loss: 3.0769 - val_root_mean_squared_error: 1.7541\n",
      "Epoch 8/20\n",
      "363/363 [==============================] - 1s 3ms/step - loss: 0.3737 - root_mean_squared_error: 0.6113 - val_loss: 3.3293 - val_root_mean_squared_error: 1.8246\n",
      "Epoch 9/20\n",
      "363/363 [==============================] - 1s 3ms/step - loss: 0.3711 - root_mean_squared_error: 0.6092 - val_loss: 2.1121 - val_root_mean_squared_error: 1.4533\n",
      "Epoch 10/20\n",
      "363/363 [==============================] - 1s 3ms/step - loss: 0.3687 - root_mean_squared_error: 0.6072 - val_loss: 1.7401 - val_root_mean_squared_error: 1.3191\n",
      "Epoch 11/20\n",
      "363/363 [==============================] - 1s 3ms/step - loss: 0.3590 - root_mean_squared_error: 0.5992 - val_loss: 0.6135 - val_root_mean_squared_error: 0.7833\n",
      "Epoch 12/20\n",
      "363/363 [==============================] - 1s 3ms/step - loss: 0.3604 - root_mean_squared_error: 0.6003 - val_loss: 1.3951 - val_root_mean_squared_error: 1.1811\n",
      "Epoch 13/20\n",
      "363/363 [==============================] - 1s 3ms/step - loss: 0.3523 - root_mean_squared_error: 0.5936 - val_loss: 0.9423 - val_root_mean_squared_error: 0.9707\n",
      "Epoch 14/20\n",
      "363/363 [==============================] - 1s 3ms/step - loss: 0.3434 - root_mean_squared_error: 0.5860 - val_loss: 0.7881 - val_root_mean_squared_error: 0.8878\n",
      "Epoch 15/20\n",
      "363/363 [==============================] - 1s 3ms/step - loss: 0.3426 - root_mean_squared_error: 0.5853 - val_loss: 0.9298 - val_root_mean_squared_error: 0.9642\n",
      "Epoch 16/20\n",
      "363/363 [==============================] - 1s 3ms/step - loss: 0.3385 - root_mean_squared_error: 0.5818 - val_loss: 1.1576 - val_root_mean_squared_error: 1.0759\n",
      "Epoch 17/20\n",
      "363/363 [==============================] - 1s 3ms/step - loss: 0.3416 - root_mean_squared_error: 0.5845 - val_loss: 1.7364 - val_root_mean_squared_error: 1.3177\n",
      "Epoch 18/20\n",
      "363/363 [==============================] - 1s 3ms/step - loss: 0.3414 - root_mean_squared_error: 0.5843 - val_loss: 2.4878 - val_root_mean_squared_error: 1.5773\n",
      "Epoch 19/20\n",
      "363/363 [==============================] - 1s 3ms/step - loss: 0.3440 - root_mean_squared_error: 0.5865 - val_loss: 1.6113 - val_root_mean_squared_error: 1.2694\n",
      "Epoch 20/20\n",
      "363/363 [==============================] - 1s 3ms/step - loss: 0.3452 - root_mean_squared_error: 0.5875 - val_loss: 1.0289 - val_root_mean_squared_error: 1.0143\n",
      "162/162 [==============================] - 0s 2ms/step - loss: 0.3369 - root_mean_squared_error: 0.5804\n"
     ]
    }
   ],
   "source": [
    "optimizer = tf.keras.optimizers.Adam(learning_rate=1e-3)\n",
    "model.compile(loss=\"mse\", optimizer=optimizer, metrics=[\"RootMeanSquaredError\"])\n",
    "\n",
    "X_train_wide, X_train_deep = X_train[:, :5], X_train[:, 2:]\n",
    "X_valid_wide, X_valid_deep = X_valid[:, :5], X_valid[:, 2:]\n",
    "X_test_wide, X_test_deep = X_test[:, :5], X_test[:, 2:]\n",
    "X_new_wide, X_new_deep = X_test_wide[:3], X_test_deep[:3]\n",
    "\n",
    "norm_layer_wide.adapt(X_train_wide)\n",
    "norm_layer_deep.adapt(X_train_deep)\n",
    "history = model.fit((X_train_wide, X_train_deep), y_train, epochs=20,\n",
    "                    validation_data=((X_valid_wide, X_valid_deep), y_valid))\n",
    "mse_test = model.evaluate((X_test_wide, X_test_deep), y_test)\n",
    "y_pred = model.predict((X_new_wide, X_new_deep))"
   ]
  },
  {
   "cell_type": "markdown",
   "id": "1a1f57df",
   "metadata": {
    "papermill": {
     "duration": 0.355899,
     "end_time": "2022-11-22T01:41:03.853694",
     "exception": false,
     "start_time": "2022-11-22T01:41:03.497795",
     "status": "completed"
    },
    "tags": []
   },
   "source": [
    "Adding an auxiliary output for regularization:"
   ]
  },
  {
   "cell_type": "code",
   "execution_count": 60,
   "id": "83fad174",
   "metadata": {
    "execution": {
     "iopub.execute_input": "2022-11-22T01:41:04.441722Z",
     "iopub.status.busy": "2022-11-22T01:41:04.441297Z",
     "iopub.status.idle": "2022-11-22T01:41:04.454024Z",
     "shell.execute_reply": "2022-11-22T01:41:04.452789Z"
    },
    "papermill": {
     "duration": 0.30955,
     "end_time": "2022-11-22T01:41:04.456654",
     "exception": false,
     "start_time": "2022-11-22T01:41:04.147104",
     "status": "completed"
    },
    "tags": []
   },
   "outputs": [],
   "source": [
    "tf.keras.backend.clear_session()\n",
    "tf.random.set_seed(42)"
   ]
  },
  {
   "cell_type": "code",
   "execution_count": 61,
   "id": "c0becd9e",
   "metadata": {
    "execution": {
     "iopub.execute_input": "2022-11-22T01:41:05.052207Z",
     "iopub.status.busy": "2022-11-22T01:41:05.051809Z",
     "iopub.status.idle": "2022-11-22T01:41:05.111425Z",
     "shell.execute_reply": "2022-11-22T01:41:05.110000Z"
    },
    "papermill": {
     "duration": 0.360038,
     "end_time": "2022-11-22T01:41:05.114064",
     "exception": false,
     "start_time": "2022-11-22T01:41:04.754026",
     "status": "completed"
    },
    "tags": []
   },
   "outputs": [],
   "source": [
    "input_wide = tf.keras.layers.Input(shape=[5])  # features 0 to 4\n",
    "input_deep = tf.keras.layers.Input(shape=[6])  # features 2 to 7\n",
    "norm_layer_wide = tf.keras.layers.Normalization()\n",
    "norm_layer_deep = tf.keras.layers.Normalization()\n",
    "norm_wide = norm_layer_wide(input_wide)\n",
    "norm_deep = norm_layer_deep(input_deep)\n",
    "hidden1 = tf.keras.layers.Dense(30, activation=\"relu\")(norm_deep)\n",
    "hidden2 = tf.keras.layers.Dense(30, activation=\"relu\")(hidden1)\n",
    "concat = tf.keras.layers.concatenate([norm_wide, hidden2])\n",
    "output = tf.keras.layers.Dense(1)(concat)\n",
    "aux_output = tf.keras.layers.Dense(1)(hidden2)\n",
    "model = tf.keras.Model(inputs=[input_wide, input_deep],\n",
    "                       outputs=[output, aux_output])"
   ]
  },
  {
   "cell_type": "code",
   "execution_count": 62,
   "id": "3322f10a",
   "metadata": {
    "execution": {
     "iopub.execute_input": "2022-11-22T01:41:05.766903Z",
     "iopub.status.busy": "2022-11-22T01:41:05.765905Z",
     "iopub.status.idle": "2022-11-22T01:41:05.776256Z",
     "shell.execute_reply": "2022-11-22T01:41:05.775526Z"
    },
    "papermill": {
     "duration": 0.310836,
     "end_time": "2022-11-22T01:41:05.779500",
     "exception": false,
     "start_time": "2022-11-22T01:41:05.468664",
     "status": "completed"
    },
    "tags": []
   },
   "outputs": [],
   "source": [
    "optimizer = tf.keras.optimizers.Adam(learning_rate=1e-3)\n",
    "model.compile(loss=(\"mse\", \"mse\"), loss_weights=(0.9, 0.1), optimizer=optimizer,\n",
    "              metrics=[\"RootMeanSquaredError\"])"
   ]
  },
  {
   "cell_type": "code",
   "execution_count": 63,
   "id": "63676a82",
   "metadata": {
    "execution": {
     "iopub.execute_input": "2022-11-22T01:41:06.370924Z",
     "iopub.status.busy": "2022-11-22T01:41:06.370002Z",
     "iopub.status.idle": "2022-11-22T01:41:30.760309Z",
     "shell.execute_reply": "2022-11-22T01:41:30.758309Z"
    },
    "papermill": {
     "duration": 24.68732,
     "end_time": "2022-11-22T01:41:30.763330",
     "exception": false,
     "start_time": "2022-11-22T01:41:06.076010",
     "status": "completed"
    },
    "tags": []
   },
   "outputs": [
    {
     "name": "stdout",
     "output_type": "stream",
     "text": [
      "Epoch 1/20\n",
      "363/363 [==============================] - 2s 4ms/step - loss: 1.3490 - dense_2_loss: 1.2742 - dense_3_loss: 2.0215 - dense_2_root_mean_squared_error: 1.1288 - dense_3_root_mean_squared_error: 1.4218 - val_loss: 1.5415 - val_dense_2_loss: 0.9593 - val_dense_3_loss: 6.7806 - val_dense_2_root_mean_squared_error: 0.9795 - val_dense_3_root_mean_squared_error: 2.6040\n",
      "Epoch 2/20\n",
      "363/363 [==============================] - 1s 3ms/step - loss: 0.5101 - dense_2_loss: 0.4785 - dense_3_loss: 0.7952 - dense_2_root_mean_squared_error: 0.6917 - dense_3_root_mean_squared_error: 0.8917 - val_loss: 1.3624 - val_dense_2_loss: 1.0094 - val_dense_3_loss: 4.5401 - val_dense_2_root_mean_squared_error: 1.0047 - val_dense_3_root_mean_squared_error: 2.1308\n",
      "Epoch 3/20\n",
      "363/363 [==============================] - 1s 3ms/step - loss: 0.4618 - dense_2_loss: 0.4404 - dense_3_loss: 0.6546 - dense_2_root_mean_squared_error: 0.6636 - dense_3_root_mean_squared_error: 0.8091 - val_loss: 0.5361 - val_dense_2_loss: 0.3975 - val_dense_3_loss: 1.7837 - val_dense_2_root_mean_squared_error: 0.6305 - val_dense_3_root_mean_squared_error: 1.3356\n",
      "Epoch 4/20\n",
      "363/363 [==============================] - 1s 3ms/step - loss: 0.4252 - dense_2_loss: 0.4059 - dense_3_loss: 0.5985 - dense_2_root_mean_squared_error: 0.6371 - dense_3_root_mean_squared_error: 0.7736 - val_loss: 0.5182 - val_dense_2_loss: 0.4590 - val_dense_3_loss: 1.0517 - val_dense_2_root_mean_squared_error: 0.6775 - val_dense_3_root_mean_squared_error: 1.0255\n",
      "Epoch 5/20\n",
      "363/363 [==============================] - 1s 3ms/step - loss: 0.4106 - dense_2_loss: 0.3931 - dense_3_loss: 0.5690 - dense_2_root_mean_squared_error: 0.6269 - dense_3_root_mean_squared_error: 0.7543 - val_loss: 0.4049 - val_dense_2_loss: 0.3588 - val_dense_3_loss: 0.8196 - val_dense_2_root_mean_squared_error: 0.5990 - val_dense_3_root_mean_squared_error: 0.9053\n",
      "Epoch 6/20\n",
      "363/363 [==============================] - 1s 3ms/step - loss: 0.3944 - dense_2_loss: 0.3780 - dense_3_loss: 0.5424 - dense_2_root_mean_squared_error: 0.6148 - dense_3_root_mean_squared_error: 0.7365 - val_loss: 0.4168 - val_dense_2_loss: 0.3934 - val_dense_3_loss: 0.6275 - val_dense_2_root_mean_squared_error: 0.6272 - val_dense_3_root_mean_squared_error: 0.7921\n",
      "Epoch 7/20\n",
      "363/363 [==============================] - 1s 3ms/step - loss: 0.3837 - dense_2_loss: 0.3694 - dense_3_loss: 0.5126 - dense_2_root_mean_squared_error: 0.6078 - dense_3_root_mean_squared_error: 0.7160 - val_loss: 0.3661 - val_dense_2_loss: 0.3430 - val_dense_3_loss: 0.5747 - val_dense_2_root_mean_squared_error: 0.5856 - val_dense_3_root_mean_squared_error: 0.7581\n",
      "Epoch 8/20\n",
      "363/363 [==============================] - 1s 3ms/step - loss: 0.3731 - dense_2_loss: 0.3608 - dense_3_loss: 0.4840 - dense_2_root_mean_squared_error: 0.6007 - dense_3_root_mean_squared_error: 0.6957 - val_loss: 0.8555 - val_dense_2_loss: 0.8704 - val_dense_3_loss: 0.7217 - val_dense_2_root_mean_squared_error: 0.9329 - val_dense_3_root_mean_squared_error: 0.8496\n",
      "Epoch 9/20\n",
      "363/363 [==============================] - 1s 4ms/step - loss: 0.3672 - dense_2_loss: 0.3567 - dense_3_loss: 0.4624 - dense_2_root_mean_squared_error: 0.5972 - dense_3_root_mean_squared_error: 0.6800 - val_loss: 2.6824 - val_dense_2_loss: 2.8953 - val_dense_3_loss: 0.7660 - val_dense_2_root_mean_squared_error: 1.7016 - val_dense_3_root_mean_squared_error: 0.8752\n",
      "Epoch 10/20\n",
      "363/363 [==============================] - 1s 3ms/step - loss: 0.3836 - dense_2_loss: 0.3764 - dense_3_loss: 0.4479 - dense_2_root_mean_squared_error: 0.6135 - dense_3_root_mean_squared_error: 0.6693 - val_loss: 3.5987 - val_dense_2_loss: 3.7969 - val_dense_3_loss: 1.8156 - val_dense_2_root_mean_squared_error: 1.9486 - val_dense_3_root_mean_squared_error: 1.3474\n",
      "Epoch 11/20\n",
      "363/363 [==============================] - 1s 3ms/step - loss: 0.3726 - dense_2_loss: 0.3654 - dense_3_loss: 0.4376 - dense_2_root_mean_squared_error: 0.6045 - dense_3_root_mean_squared_error: 0.6615 - val_loss: 0.5204 - val_dense_2_loss: 0.5322 - val_dense_3_loss: 0.4144 - val_dense_2_root_mean_squared_error: 0.7295 - val_dense_3_root_mean_squared_error: 0.6437\n",
      "Epoch 12/20\n",
      "363/363 [==============================] - 1s 3ms/step - loss: 0.3726 - dense_2_loss: 0.3664 - dense_3_loss: 0.4285 - dense_2_root_mean_squared_error: 0.6053 - dense_3_root_mean_squared_error: 0.6546 - val_loss: 1.2706 - val_dense_2_loss: 1.2559 - val_dense_3_loss: 1.4026 - val_dense_2_root_mean_squared_error: 1.1207 - val_dense_3_root_mean_squared_error: 1.1843\n",
      "Epoch 13/20\n",
      "363/363 [==============================] - 1s 3ms/step - loss: 0.3608 - dense_2_loss: 0.3536 - dense_3_loss: 0.4256 - dense_2_root_mean_squared_error: 0.5946 - dense_3_root_mean_squared_error: 0.6524 - val_loss: 0.6472 - val_dense_2_loss: 0.6724 - val_dense_3_loss: 0.4207 - val_dense_2_root_mean_squared_error: 0.8200 - val_dense_3_root_mean_squared_error: 0.6486\n",
      "Epoch 14/20\n",
      "363/363 [==============================] - 1s 3ms/step - loss: 0.3514 - dense_2_loss: 0.3443 - dense_3_loss: 0.4151 - dense_2_root_mean_squared_error: 0.5868 - dense_3_root_mean_squared_error: 0.6443 - val_loss: 0.5351 - val_dense_2_loss: 0.5102 - val_dense_3_loss: 0.7596 - val_dense_2_root_mean_squared_error: 0.7143 - val_dense_3_root_mean_squared_error: 0.8716\n",
      "Epoch 15/20\n",
      "363/363 [==============================] - 1s 3ms/step - loss: 0.3506 - dense_2_loss: 0.3442 - dense_3_loss: 0.4084 - dense_2_root_mean_squared_error: 0.5866 - dense_3_root_mean_squared_error: 0.6391 - val_loss: 0.8265 - val_dense_2_loss: 0.8747 - val_dense_3_loss: 0.3935 - val_dense_2_root_mean_squared_error: 0.9352 - val_dense_3_root_mean_squared_error: 0.6273\n",
      "Epoch 16/20\n",
      "363/363 [==============================] - 1s 3ms/step - loss: 0.3452 - dense_2_loss: 0.3389 - dense_3_loss: 0.4014 - dense_2_root_mean_squared_error: 0.5822 - dense_3_root_mean_squared_error: 0.6336 - val_loss: 1.1867 - val_dense_2_loss: 1.2206 - val_dense_3_loss: 0.8816 - val_dense_2_root_mean_squared_error: 1.1048 - val_dense_3_root_mean_squared_error: 0.9390\n",
      "Epoch 17/20\n",
      "363/363 [==============================] - 1s 3ms/step - loss: 0.3494 - dense_2_loss: 0.3433 - dense_3_loss: 0.4041 - dense_2_root_mean_squared_error: 0.5859 - dense_3_root_mean_squared_error: 0.6357 - val_loss: 1.4367 - val_dense_2_loss: 1.5361 - val_dense_3_loss: 0.5424 - val_dense_2_root_mean_squared_error: 1.2394 - val_dense_3_root_mean_squared_error: 0.7365\n",
      "Epoch 18/20\n",
      "363/363 [==============================] - 1s 3ms/step - loss: 0.3463 - dense_2_loss: 0.3405 - dense_3_loss: 0.3985 - dense_2_root_mean_squared_error: 0.5835 - dense_3_root_mean_squared_error: 0.6313 - val_loss: 2.1333 - val_dense_2_loss: 2.2243 - val_dense_3_loss: 1.3137 - val_dense_2_root_mean_squared_error: 1.4914 - val_dense_3_root_mean_squared_error: 1.1462\n",
      "Epoch 19/20\n",
      "363/363 [==============================] - 1s 3ms/step - loss: 0.3464 - dense_2_loss: 0.3408 - dense_3_loss: 0.3971 - dense_2_root_mean_squared_error: 0.5838 - dense_3_root_mean_squared_error: 0.6302 - val_loss: 1.0010 - val_dense_2_loss: 1.0613 - val_dense_3_loss: 0.4577 - val_dense_2_root_mean_squared_error: 1.0302 - val_dense_3_root_mean_squared_error: 0.6765\n",
      "Epoch 20/20\n",
      "363/363 [==============================] - 2s 4ms/step - loss: 0.3470 - dense_2_loss: 0.3417 - dense_3_loss: 0.3944 - dense_2_root_mean_squared_error: 0.5846 - dense_3_root_mean_squared_error: 0.6280 - val_loss: 0.8686 - val_dense_2_loss: 0.8812 - val_dense_3_loss: 0.7550 - val_dense_2_root_mean_squared_error: 0.9387 - val_dense_3_root_mean_squared_error: 0.8689\n"
     ]
    }
   ],
   "source": [
    "norm_layer_wide.adapt(X_train_wide)\n",
    "norm_layer_deep.adapt(X_train_deep)\n",
    "history = model.fit(\n",
    "    (X_train_wide, X_train_deep), (y_train, y_train), epochs=20,\n",
    "    validation_data=((X_valid_wide, X_valid_deep), (y_valid, y_valid))\n",
    ")"
   ]
  },
  {
   "cell_type": "code",
   "execution_count": 64,
   "id": "b4020c4f",
   "metadata": {
    "execution": {
     "iopub.execute_input": "2022-11-22T01:41:31.486215Z",
     "iopub.status.busy": "2022-11-22T01:41:31.485591Z",
     "iopub.status.idle": "2022-11-22T01:41:32.180126Z",
     "shell.execute_reply": "2022-11-22T01:41:32.179325Z"
    },
    "papermill": {
     "duration": 1.09259,
     "end_time": "2022-11-22T01:41:32.182458",
     "exception": false,
     "start_time": "2022-11-22T01:41:31.089868",
     "status": "completed"
    },
    "tags": []
   },
   "outputs": [
    {
     "name": "stdout",
     "output_type": "stream",
     "text": [
      "162/162 [==============================] - 0s 2ms/step - loss: 0.3422 - dense_2_loss: 0.3361 - dense_3_loss: 0.3970 - dense_2_root_mean_squared_error: 0.5797 - dense_3_root_mean_squared_error: 0.6301\n"
     ]
    }
   ],
   "source": [
    "eval_results = model.evaluate((X_test_wide, X_test_deep), (y_test, y_test))\n",
    "weighted_sum_of_losses, main_loss, aux_loss, main_rmse, aux_rmse = eval_results"
   ]
  },
  {
   "cell_type": "code",
   "execution_count": 65,
   "id": "19cb5856",
   "metadata": {
    "execution": {
     "iopub.execute_input": "2022-11-22T01:41:32.830541Z",
     "iopub.status.busy": "2022-11-22T01:41:32.830189Z",
     "iopub.status.idle": "2022-11-22T01:41:32.942246Z",
     "shell.execute_reply": "2022-11-22T01:41:32.941117Z"
    },
    "papermill": {
     "duration": 0.436036,
     "end_time": "2022-11-22T01:41:32.944794",
     "exception": false,
     "start_time": "2022-11-22T01:41:32.508758",
     "status": "completed"
    },
    "tags": []
   },
   "outputs": [],
   "source": [
    "y_pred_main, y_pred_aux = model.predict((X_new_wide, X_new_deep))"
   ]
  },
  {
   "cell_type": "code",
   "execution_count": 66,
   "id": "45cb0434",
   "metadata": {
    "execution": {
     "iopub.execute_input": "2022-11-22T01:41:33.643398Z",
     "iopub.status.busy": "2022-11-22T01:41:33.642417Z",
     "iopub.status.idle": "2022-11-22T01:41:33.695111Z",
     "shell.execute_reply": "2022-11-22T01:41:33.693734Z"
    },
    "papermill": {
     "duration": 0.437348,
     "end_time": "2022-11-22T01:41:33.697933",
     "exception": false,
     "start_time": "2022-11-22T01:41:33.260585",
     "status": "completed"
    },
    "tags": []
   },
   "outputs": [],
   "source": [
    "y_pred_tuple = model.predict((X_new_wide, X_new_deep))\n",
    "y_pred = dict(zip(model.output_names, y_pred_tuple))"
   ]
  },
  {
   "cell_type": "markdown",
   "id": "2c7d7e40",
   "metadata": {
    "papermill": {
     "duration": 0.313421,
     "end_time": "2022-11-22T01:41:34.330765",
     "exception": false,
     "start_time": "2022-11-22T01:41:34.017344",
     "status": "completed"
    },
    "tags": []
   },
   "source": [
    "## Using the Subclassing API to Build Dynamic Models"
   ]
  },
  {
   "cell_type": "code",
   "execution_count": 67,
   "id": "7a3a3e5a",
   "metadata": {
    "execution": {
     "iopub.execute_input": "2022-11-22T01:41:34.973717Z",
     "iopub.status.busy": "2022-11-22T01:41:34.973137Z",
     "iopub.status.idle": "2022-11-22T01:41:35.001726Z",
     "shell.execute_reply": "2022-11-22T01:41:35.000544Z"
    },
    "papermill": {
     "duration": 0.354217,
     "end_time": "2022-11-22T01:41:35.004143",
     "exception": false,
     "start_time": "2022-11-22T01:41:34.649926",
     "status": "completed"
    },
    "tags": []
   },
   "outputs": [],
   "source": [
    "class WideAndDeepModel(tf.keras.Model):\n",
    "    def __init__(self, units=30, activation=\"relu\", **kwargs):\n",
    "        super().__init__(**kwargs)  # needed to support naming the model\n",
    "        self.norm_layer_wide = tf.keras.layers.Normalization()\n",
    "        self.norm_layer_deep = tf.keras.layers.Normalization()\n",
    "        self.hidden1 = tf.keras.layers.Dense(units, activation=activation)\n",
    "        self.hidden2 = tf.keras.layers.Dense(units, activation=activation)\n",
    "        self.main_output = tf.keras.layers.Dense(1)\n",
    "        self.aux_output = tf.keras.layers.Dense(1)\n",
    "        \n",
    "    def call(self, inputs):\n",
    "        input_wide, input_deep = inputs\n",
    "        norm_wide = self.norm_layer_wide(input_wide)\n",
    "        norm_deep = self.norm_layer_deep(input_deep)\n",
    "        hidden1 = self.hidden1(norm_deep)\n",
    "        hidden2 = self.hidden2(hidden1)\n",
    "        concat = tf.keras.layers.concatenate([norm_wide, hidden2])\n",
    "        output = self.main_output(concat)\n",
    "        aux_output = self.aux_output(hidden2)\n",
    "        return output, aux_output\n",
    "\n",
    "tf.random.set_seed(42)  # extra code – just for reproducibility\n",
    "model = WideAndDeepModel(30, activation=\"relu\", name=\"my_cool_model\")"
   ]
  },
  {
   "cell_type": "code",
   "execution_count": 68,
   "id": "5a748b4f",
   "metadata": {
    "execution": {
     "iopub.execute_input": "2022-11-22T01:41:35.703171Z",
     "iopub.status.busy": "2022-11-22T01:41:35.702290Z",
     "iopub.status.idle": "2022-11-22T01:41:51.224690Z",
     "shell.execute_reply": "2022-11-22T01:41:51.222544Z"
    },
    "papermill": {
     "duration": 15.847001,
     "end_time": "2022-11-22T01:41:51.227755",
     "exception": false,
     "start_time": "2022-11-22T01:41:35.380754",
     "status": "completed"
    },
    "tags": []
   },
   "outputs": [
    {
     "name": "stdout",
     "output_type": "stream",
     "text": [
      "Epoch 1/10\n",
      "363/363 [==============================] - 2s 4ms/step - loss: 1.3490 - output_1_loss: 1.2742 - output_2_loss: 2.0215 - output_1_root_mean_squared_error: 1.1288 - output_2_root_mean_squared_error: 1.4218 - val_loss: 1.5415 - val_output_1_loss: 0.9593 - val_output_2_loss: 6.7806 - val_output_1_root_mean_squared_error: 0.9795 - val_output_2_root_mean_squared_error: 2.6040\n",
      "Epoch 2/10\n",
      "363/363 [==============================] - 1s 4ms/step - loss: 0.5101 - output_1_loss: 0.4785 - output_2_loss: 0.7952 - output_1_root_mean_squared_error: 0.6917 - output_2_root_mean_squared_error: 0.8917 - val_loss: 1.3624 - val_output_1_loss: 1.0094 - val_output_2_loss: 4.5401 - val_output_1_root_mean_squared_error: 1.0047 - val_output_2_root_mean_squared_error: 2.1308\n",
      "Epoch 3/10\n",
      "363/363 [==============================] - 1s 4ms/step - loss: 0.4618 - output_1_loss: 0.4404 - output_2_loss: 0.6546 - output_1_root_mean_squared_error: 0.6636 - output_2_root_mean_squared_error: 0.8091 - val_loss: 0.5361 - val_output_1_loss: 0.3975 - val_output_2_loss: 1.7837 - val_output_1_root_mean_squared_error: 0.6305 - val_output_2_root_mean_squared_error: 1.3356\n",
      "Epoch 4/10\n",
      "363/363 [==============================] - 1s 4ms/step - loss: 0.4252 - output_1_loss: 0.4059 - output_2_loss: 0.5985 - output_1_root_mean_squared_error: 0.6371 - output_2_root_mean_squared_error: 0.7736 - val_loss: 0.5182 - val_output_1_loss: 0.4590 - val_output_2_loss: 1.0517 - val_output_1_root_mean_squared_error: 0.6775 - val_output_2_root_mean_squared_error: 1.0255\n",
      "Epoch 5/10\n",
      "363/363 [==============================] - 1s 3ms/step - loss: 0.4106 - output_1_loss: 0.3931 - output_2_loss: 0.5690 - output_1_root_mean_squared_error: 0.6269 - output_2_root_mean_squared_error: 0.7543 - val_loss: 0.4049 - val_output_1_loss: 0.3588 - val_output_2_loss: 0.8196 - val_output_1_root_mean_squared_error: 0.5990 - val_output_2_root_mean_squared_error: 0.9053\n",
      "Epoch 6/10\n",
      "363/363 [==============================] - 1s 3ms/step - loss: 0.3944 - output_1_loss: 0.3780 - output_2_loss: 0.5424 - output_1_root_mean_squared_error: 0.6148 - output_2_root_mean_squared_error: 0.7365 - val_loss: 0.4168 - val_output_1_loss: 0.3934 - val_output_2_loss: 0.6275 - val_output_1_root_mean_squared_error: 0.6272 - val_output_2_root_mean_squared_error: 0.7921\n",
      "Epoch 7/10\n",
      "363/363 [==============================] - 1s 4ms/step - loss: 0.3837 - output_1_loss: 0.3694 - output_2_loss: 0.5126 - output_1_root_mean_squared_error: 0.6078 - output_2_root_mean_squared_error: 0.7160 - val_loss: 0.3661 - val_output_1_loss: 0.3430 - val_output_2_loss: 0.5747 - val_output_1_root_mean_squared_error: 0.5856 - val_output_2_root_mean_squared_error: 0.7581\n",
      "Epoch 8/10\n",
      "363/363 [==============================] - 1s 4ms/step - loss: 0.3731 - output_1_loss: 0.3608 - output_2_loss: 0.4840 - output_1_root_mean_squared_error: 0.6007 - output_2_root_mean_squared_error: 0.6957 - val_loss: 0.8555 - val_output_1_loss: 0.8704 - val_output_2_loss: 0.7217 - val_output_1_root_mean_squared_error: 0.9329 - val_output_2_root_mean_squared_error: 0.8496\n",
      "Epoch 9/10\n",
      "363/363 [==============================] - 1s 3ms/step - loss: 0.3672 - output_1_loss: 0.3567 - output_2_loss: 0.4624 - output_1_root_mean_squared_error: 0.5972 - output_2_root_mean_squared_error: 0.6800 - val_loss: 2.6824 - val_output_1_loss: 2.8953 - val_output_2_loss: 0.7660 - val_output_1_root_mean_squared_error: 1.7016 - val_output_2_root_mean_squared_error: 0.8752\n",
      "Epoch 10/10\n",
      "363/363 [==============================] - 1s 3ms/step - loss: 0.3836 - output_1_loss: 0.3764 - output_2_loss: 0.4479 - output_1_root_mean_squared_error: 0.6135 - output_2_root_mean_squared_error: 0.6693 - val_loss: 3.5987 - val_output_1_loss: 3.7969 - val_output_2_loss: 1.8156 - val_output_1_root_mean_squared_error: 1.9486 - val_output_2_root_mean_squared_error: 1.3474\n",
      "162/162 [==============================] - 0s 2ms/step - loss: 0.3653 - output_1_loss: 0.3571 - output_2_loss: 0.4389 - output_1_root_mean_squared_error: 0.5976 - output_2_root_mean_squared_error: 0.6625\n"
     ]
    }
   ],
   "source": [
    "optimizer = tf.keras.optimizers.Adam(learning_rate=1e-3)\n",
    "model.compile(loss=\"mse\", loss_weights=[0.9, 0.1], optimizer=optimizer,\n",
    "              metrics=[\"RootMeanSquaredError\"])\n",
    "model.norm_layer_wide.adapt(X_train_wide)\n",
    "model.norm_layer_deep.adapt(X_train_deep)\n",
    "history = model.fit(\n",
    "    (X_train_wide, X_train_deep), (y_train, y_train), epochs=10,\n",
    "    validation_data=((X_valid_wide, X_valid_deep), (y_valid, y_valid)))\n",
    "eval_results = model.evaluate((X_test_wide, X_test_deep), (y_test, y_test))\n",
    "weighted_sum_of_losses, main_loss, aux_loss, main_rmse, aux_rmse = eval_results\n",
    "y_pred_main, y_pred_aux = model.predict((X_new_wide, X_new_deep))"
   ]
  },
  {
   "cell_type": "markdown",
   "id": "4adb40c8",
   "metadata": {
    "papermill": {
     "duration": 0.339764,
     "end_time": "2022-11-22T01:41:51.902077",
     "exception": false,
     "start_time": "2022-11-22T01:41:51.562313",
     "status": "completed"
    },
    "tags": []
   },
   "source": [
    "## Saving and Restoring a Model"
   ]
  },
  {
   "cell_type": "code",
   "execution_count": 69,
   "id": "09d1f28f",
   "metadata": {
    "execution": {
     "iopub.execute_input": "2022-11-22T01:41:52.650774Z",
     "iopub.status.busy": "2022-11-22T01:41:52.650052Z",
     "iopub.status.idle": "2022-11-22T01:41:52.654295Z",
     "shell.execute_reply": "2022-11-22T01:41:52.653585Z"
    },
    "papermill": {
     "duration": 0.359056,
     "end_time": "2022-11-22T01:41:52.657245",
     "exception": false,
     "start_time": "2022-11-22T01:41:52.298189",
     "status": "completed"
    },
    "tags": []
   },
   "outputs": [],
   "source": [
    "# extra code – delete the directory, in case it already exists\n",
    "\n",
    "import shutil\n",
    "\n",
    "shutil.rmtree(\"my_keras_model\", ignore_errors=True)"
   ]
  },
  {
   "cell_type": "code",
   "execution_count": 70,
   "id": "993f4788",
   "metadata": {
    "execution": {
     "iopub.execute_input": "2022-11-22T01:41:53.350728Z",
     "iopub.status.busy": "2022-11-22T01:41:53.350015Z",
     "iopub.status.idle": "2022-11-22T01:41:54.395865Z",
     "shell.execute_reply": "2022-11-22T01:41:54.394449Z"
    },
    "papermill": {
     "duration": 1.395274,
     "end_time": "2022-11-22T01:41:54.398737",
     "exception": false,
     "start_time": "2022-11-22T01:41:53.003463",
     "status": "completed"
    },
    "tags": []
   },
   "outputs": [
    {
     "name": "stderr",
     "output_type": "stream",
     "text": [
      "2022-11-22 01:41:53.735663: W tensorflow/python/util/util.cc:348] Sets are not currently considered sequences, but this may change in the future, so consider avoiding using them.\n"
     ]
    }
   ],
   "source": [
    "model.save(\"my_keras_model\", save_format=\"tf\")"
   ]
  },
  {
   "cell_type": "code",
   "execution_count": 71,
   "id": "f818ec94",
   "metadata": {
    "execution": {
     "iopub.execute_input": "2022-11-22T01:41:55.127537Z",
     "iopub.status.busy": "2022-11-22T01:41:55.126933Z",
     "iopub.status.idle": "2022-11-22T01:41:55.132653Z",
     "shell.execute_reply": "2022-11-22T01:41:55.131412Z"
    },
    "papermill": {
     "duration": 0.33572,
     "end_time": "2022-11-22T01:41:55.135072",
     "exception": false,
     "start_time": "2022-11-22T01:41:54.799352",
     "status": "completed"
    },
    "tags": []
   },
   "outputs": [
    {
     "name": "stdout",
     "output_type": "stream",
     "text": [
      "my_keras_model/assets\n",
      "my_keras_model/keras_metadata.pb\n",
      "my_keras_model/saved_model.pb\n",
      "my_keras_model/variables\n",
      "my_keras_model/variables/variables.data-00000-of-00001\n",
      "my_keras_model/variables/variables.index\n"
     ]
    }
   ],
   "source": [
    "# extra code – show the contents of the my_keras_model/ directory\n",
    "for path in sorted(Path(\"my_keras_model\").glob(\"**/*\")):\n",
    "    print(path)"
   ]
  },
  {
   "cell_type": "code",
   "execution_count": 72,
   "id": "d813dc53",
   "metadata": {
    "execution": {
     "iopub.execute_input": "2022-11-22T01:41:55.831137Z",
     "iopub.status.busy": "2022-11-22T01:41:55.830142Z",
     "iopub.status.idle": "2022-11-22T01:41:56.236548Z",
     "shell.execute_reply": "2022-11-22T01:41:56.235081Z"
    },
    "papermill": {
     "duration": 0.77292,
     "end_time": "2022-11-22T01:41:56.238914",
     "exception": false,
     "start_time": "2022-11-22T01:41:55.465994",
     "status": "completed"
    },
    "tags": []
   },
   "outputs": [],
   "source": [
    "model = tf.keras.models.load_model(\"my_keras_model\")\n",
    "y_pred_main, y_pred_aux = model.predict((X_new_wide, X_new_deep))"
   ]
  },
  {
   "cell_type": "code",
   "execution_count": 73,
   "id": "144e8a17",
   "metadata": {
    "execution": {
     "iopub.execute_input": "2022-11-22T01:41:56.967136Z",
     "iopub.status.busy": "2022-11-22T01:41:56.966542Z",
     "iopub.status.idle": "2022-11-22T01:41:56.978943Z",
     "shell.execute_reply": "2022-11-22T01:41:56.977859Z"
    },
    "papermill": {
     "duration": 0.409772,
     "end_time": "2022-11-22T01:41:56.981333",
     "exception": false,
     "start_time": "2022-11-22T01:41:56.571561",
     "status": "completed"
    },
    "tags": []
   },
   "outputs": [],
   "source": [
    "model.save_weights(\"my_weights\")"
   ]
  },
  {
   "cell_type": "code",
   "execution_count": 74,
   "id": "f6b8f74a",
   "metadata": {
    "execution": {
     "iopub.execute_input": "2022-11-22T01:41:57.645718Z",
     "iopub.status.busy": "2022-11-22T01:41:57.645222Z",
     "iopub.status.idle": "2022-11-22T01:41:57.662721Z",
     "shell.execute_reply": "2022-11-22T01:41:57.661557Z"
    },
    "papermill": {
     "duration": 0.353274,
     "end_time": "2022-11-22T01:41:57.665076",
     "exception": false,
     "start_time": "2022-11-22T01:41:57.311802",
     "status": "completed"
    },
    "tags": []
   },
   "outputs": [
    {
     "data": {
      "text/plain": [
       "<tensorflow.python.training.tracking.util.CheckpointLoadStatus at 0x7f1cfcff61d0>"
      ]
     },
     "execution_count": 74,
     "metadata": {},
     "output_type": "execute_result"
    }
   ],
   "source": [
    "model.load_weights(\"my_weights\")"
   ]
  },
  {
   "cell_type": "code",
   "execution_count": 75,
   "id": "8b90a45d",
   "metadata": {
    "execution": {
     "iopub.execute_input": "2022-11-22T01:41:58.394991Z",
     "iopub.status.busy": "2022-11-22T01:41:58.394563Z",
     "iopub.status.idle": "2022-11-22T01:41:58.402097Z",
     "shell.execute_reply": "2022-11-22T01:41:58.400736Z"
    },
    "papermill": {
     "duration": 0.402861,
     "end_time": "2022-11-22T01:41:58.404986",
     "exception": false,
     "start_time": "2022-11-22T01:41:58.002125",
     "status": "completed"
    },
    "tags": []
   },
   "outputs": [
    {
     "name": "stdout",
     "output_type": "stream",
     "text": [
      "my_weights.data-00000-of-00001\n",
      "my_weights.index\n"
     ]
    }
   ],
   "source": [
    "# extra code – show the list of my_weights.* files\n",
    "for path in sorted(Path().glob(\"my_weights.*\")):\n",
    "    print(path)"
   ]
  },
  {
   "cell_type": "markdown",
   "id": "5e1cc45f",
   "metadata": {
    "papermill": {
     "duration": 0.333141,
     "end_time": "2022-11-22T01:41:59.068484",
     "exception": false,
     "start_time": "2022-11-22T01:41:58.735343",
     "status": "completed"
    },
    "tags": []
   },
   "source": [
    "## Using Callbacks"
   ]
  },
  {
   "cell_type": "code",
   "execution_count": 76,
   "id": "f9b9ba28",
   "metadata": {
    "execution": {
     "iopub.execute_input": "2022-11-22T01:41:59.730431Z",
     "iopub.status.busy": "2022-11-22T01:41:59.729653Z",
     "iopub.status.idle": "2022-11-22T01:41:59.734028Z",
     "shell.execute_reply": "2022-11-22T01:41:59.733329Z"
    },
    "papermill": {
     "duration": 0.339247,
     "end_time": "2022-11-22T01:41:59.735761",
     "exception": false,
     "start_time": "2022-11-22T01:41:59.396514",
     "status": "completed"
    },
    "tags": []
   },
   "outputs": [],
   "source": [
    "shutil.rmtree(\"my_checkpoints\", ignore_errors=True)  # extra code"
   ]
  },
  {
   "cell_type": "code",
   "execution_count": 77,
   "id": "f1bb397f",
   "metadata": {
    "execution": {
     "iopub.execute_input": "2022-11-22T01:42:00.471318Z",
     "iopub.status.busy": "2022-11-22T01:42:00.470883Z",
     "iopub.status.idle": "2022-11-22T01:42:13.979331Z",
     "shell.execute_reply": "2022-11-22T01:42:13.978123Z"
    },
    "papermill": {
     "duration": 13.845786,
     "end_time": "2022-11-22T01:42:13.981951",
     "exception": false,
     "start_time": "2022-11-22T01:42:00.136165",
     "status": "completed"
    },
    "tags": []
   },
   "outputs": [
    {
     "name": "stdout",
     "output_type": "stream",
     "text": [
      "Epoch 1/10\n",
      "363/363 [==============================] - 2s 4ms/step - loss: 0.3772 - output_1_loss: 0.3702 - output_2_loss: 0.4402 - output_1_root_mean_squared_error: 0.6084 - output_2_root_mean_squared_error: 0.6635 - val_loss: 0.3377 - val_output_1_loss: 0.3249 - val_output_2_loss: 0.4530 - val_output_1_root_mean_squared_error: 0.5700 - val_output_2_root_mean_squared_error: 0.6731\n",
      "Epoch 2/10\n",
      "363/363 [==============================] - 1s 4ms/step - loss: 0.3572 - output_1_loss: 0.3497 - output_2_loss: 0.4248 - output_1_root_mean_squared_error: 0.5913 - output_2_root_mean_squared_error: 0.6518 - val_loss: 0.4969 - val_output_1_loss: 0.4667 - val_output_2_loss: 0.7680 - val_output_1_root_mean_squared_error: 0.6832 - val_output_2_root_mean_squared_error: 0.8764\n",
      "Epoch 3/10\n",
      "363/363 [==============================] - 1s 3ms/step - loss: 0.3598 - output_1_loss: 0.3532 - output_2_loss: 0.4193 - output_1_root_mean_squared_error: 0.5943 - output_2_root_mean_squared_error: 0.6475 - val_loss: 0.3334 - val_output_1_loss: 0.3256 - val_output_2_loss: 0.4035 - val_output_1_root_mean_squared_error: 0.5706 - val_output_2_root_mean_squared_error: 0.6352\n",
      "Epoch 4/10\n",
      "363/363 [==============================] - 1s 3ms/step - loss: 0.3492 - output_1_loss: 0.3423 - output_2_loss: 0.4112 - output_1_root_mean_squared_error: 0.5850 - output_2_root_mean_squared_error: 0.6413 - val_loss: 0.3860 - val_output_1_loss: 0.3762 - val_output_2_loss: 0.4735 - val_output_1_root_mean_squared_error: 0.6134 - val_output_2_root_mean_squared_error: 0.6881\n",
      "Epoch 5/10\n",
      "363/363 [==============================] - 1s 3ms/step - loss: 0.3517 - output_1_loss: 0.3456 - output_2_loss: 0.4065 - output_1_root_mean_squared_error: 0.5879 - output_2_root_mean_squared_error: 0.6376 - val_loss: 0.4450 - val_output_1_loss: 0.4388 - val_output_2_loss: 0.5009 - val_output_1_root_mean_squared_error: 0.6624 - val_output_2_root_mean_squared_error: 0.7077\n",
      "Epoch 6/10\n",
      "363/363 [==============================] - 1s 3ms/step - loss: 0.3436 - output_1_loss: 0.3370 - output_2_loss: 0.4033 - output_1_root_mean_squared_error: 0.5805 - output_2_root_mean_squared_error: 0.6351 - val_loss: 0.7723 - val_output_1_loss: 0.8092 - val_output_2_loss: 0.4396 - val_output_1_root_mean_squared_error: 0.8996 - val_output_2_root_mean_squared_error: 0.6631\n",
      "Epoch 7/10\n",
      "363/363 [==============================] - 1s 4ms/step - loss: 0.3441 - output_1_loss: 0.3379 - output_2_loss: 0.3996 - output_1_root_mean_squared_error: 0.5813 - output_2_root_mean_squared_error: 0.6322 - val_loss: 1.3229 - val_output_1_loss: 1.3316 - val_output_2_loss: 1.2443 - val_output_1_root_mean_squared_error: 1.1539 - val_output_2_root_mean_squared_error: 1.1155\n",
      "Epoch 8/10\n",
      "363/363 [==============================] - 1s 4ms/step - loss: 0.3416 - output_1_loss: 0.3354 - output_2_loss: 0.3967 - output_1_root_mean_squared_error: 0.5792 - output_2_root_mean_squared_error: 0.6298 - val_loss: 4.2329 - val_output_1_loss: 4.4846 - val_output_2_loss: 1.9677 - val_output_1_root_mean_squared_error: 2.1177 - val_output_2_root_mean_squared_error: 1.4027\n",
      "Epoch 9/10\n",
      "363/363 [==============================] - 1s 3ms/step - loss: 0.3509 - output_1_loss: 0.3453 - output_2_loss: 0.4005 - output_1_root_mean_squared_error: 0.5877 - output_2_root_mean_squared_error: 0.6328 - val_loss: 5.7122 - val_output_1_loss: 5.9256 - val_output_2_loss: 3.7915 - val_output_1_root_mean_squared_error: 2.4343 - val_output_2_root_mean_squared_error: 1.9472\n",
      "Epoch 10/10\n",
      "363/363 [==============================] - 1s 3ms/step - loss: 0.3803 - output_1_loss: 0.3764 - output_2_loss: 0.4155 - output_1_root_mean_squared_error: 0.6135 - output_2_root_mean_squared_error: 0.6446 - val_loss: 0.7330 - val_output_1_loss: 0.7696 - val_output_2_loss: 0.4041 - val_output_1_root_mean_squared_error: 0.8773 - val_output_2_root_mean_squared_error: 0.6357\n"
     ]
    }
   ],
   "source": [
    "checkpoint_cb = tf.keras.callbacks.ModelCheckpoint(\"my_checkpoints\",\n",
    "                                                   save_weights_only=True)\n",
    "history = model.fit(\n",
    "    (X_train_wide, X_train_deep), (y_train, y_train), epochs=10,\n",
    "    validation_data=((X_valid_wide, X_valid_deep), (y_valid, y_valid)),\n",
    "    callbacks=[checkpoint_cb])"
   ]
  },
  {
   "cell_type": "code",
   "execution_count": 78,
   "id": "a97f35d5",
   "metadata": {
    "execution": {
     "iopub.execute_input": "2022-11-22T01:42:14.686015Z",
     "iopub.status.busy": "2022-11-22T01:42:14.685703Z",
     "iopub.status.idle": "2022-11-22T01:42:44.284155Z",
     "shell.execute_reply": "2022-11-22T01:42:44.282179Z"
    },
    "papermill": {
     "duration": 29.960191,
     "end_time": "2022-11-22T01:42:44.286930",
     "exception": false,
     "start_time": "2022-11-22T01:42:14.326739",
     "status": "completed"
    },
    "tags": []
   },
   "outputs": [
    {
     "name": "stdout",
     "output_type": "stream",
     "text": [
      "Epoch 1/100\n",
      "363/363 [==============================] - 1s 3ms/step - loss: 0.3367 - output_1_loss: 0.3309 - output_2_loss: 0.3888 - output_1_root_mean_squared_error: 0.5752 - output_2_root_mean_squared_error: 0.6236 - val_loss: 0.8361 - val_output_1_loss: 0.8478 - val_output_2_loss: 0.7306 - val_output_1_root_mean_squared_error: 0.9208 - val_output_2_root_mean_squared_error: 0.8547\n",
      "Epoch 2/100\n",
      "363/363 [==============================] - 1s 4ms/step - loss: 0.3405 - output_1_loss: 0.3349 - output_2_loss: 0.3911 - output_1_root_mean_squared_error: 0.5787 - output_2_root_mean_squared_error: 0.6254 - val_loss: 0.5074 - val_output_1_loss: 0.5210 - val_output_2_loss: 0.3847 - val_output_1_root_mean_squared_error: 0.7218 - val_output_2_root_mean_squared_error: 0.6202\n",
      "Epoch 3/100\n",
      "363/363 [==============================] - 1s 3ms/step - loss: 0.3413 - output_1_loss: 0.3361 - output_2_loss: 0.3881 - output_1_root_mean_squared_error: 0.5797 - output_2_root_mean_squared_error: 0.6229 - val_loss: 0.7473 - val_output_1_loss: 0.7517 - val_output_2_loss: 0.7079 - val_output_1_root_mean_squared_error: 0.8670 - val_output_2_root_mean_squared_error: 0.8414\n",
      "Epoch 4/100\n",
      "363/363 [==============================] - 1s 3ms/step - loss: 0.3352 - output_1_loss: 0.3294 - output_2_loss: 0.3877 - output_1_root_mean_squared_error: 0.5739 - output_2_root_mean_squared_error: 0.6227 - val_loss: 0.9209 - val_output_1_loss: 0.9704 - val_output_2_loss: 0.4751 - val_output_1_root_mean_squared_error: 0.9851 - val_output_2_root_mean_squared_error: 0.6893\n",
      "Epoch 5/100\n",
      "363/363 [==============================] - 1s 3ms/step - loss: 0.3468 - output_1_loss: 0.3419 - output_2_loss: 0.3909 - output_1_root_mean_squared_error: 0.5847 - output_2_root_mean_squared_error: 0.6252 - val_loss: 1.0521 - val_output_1_loss: 1.0743 - val_output_2_loss: 0.8525 - val_output_1_root_mean_squared_error: 1.0365 - val_output_2_root_mean_squared_error: 0.9233\n",
      "Epoch 6/100\n",
      "363/363 [==============================] - 1s 3ms/step - loss: 0.3330 - output_1_loss: 0.3274 - output_2_loss: 0.3835 - output_1_root_mean_squared_error: 0.5722 - output_2_root_mean_squared_error: 0.6193 - val_loss: 0.7871 - val_output_1_loss: 0.8272 - val_output_2_loss: 0.4260 - val_output_1_root_mean_squared_error: 0.9095 - val_output_2_root_mean_squared_error: 0.6527\n",
      "Epoch 7/100\n",
      "363/363 [==============================] - 1s 4ms/step - loss: 0.3334 - output_1_loss: 0.3278 - output_2_loss: 0.3833 - output_1_root_mean_squared_error: 0.5726 - output_2_root_mean_squared_error: 0.6191 - val_loss: 1.2385 - val_output_1_loss: 1.1410 - val_output_2_loss: 2.1159 - val_output_1_root_mean_squared_error: 1.0682 - val_output_2_root_mean_squared_error: 1.4546\n",
      "Epoch 8/100\n",
      "363/363 [==============================] - 1s 3ms/step - loss: 0.3301 - output_1_loss: 0.3241 - output_2_loss: 0.3836 - output_1_root_mean_squared_error: 0.5693 - output_2_root_mean_squared_error: 0.6193 - val_loss: 1.0846 - val_output_1_loss: 1.1340 - val_output_2_loss: 0.6397 - val_output_1_root_mean_squared_error: 1.0649 - val_output_2_root_mean_squared_error: 0.7998\n",
      "Epoch 9/100\n",
      "363/363 [==============================] - 1s 3ms/step - loss: 0.3304 - output_1_loss: 0.3249 - output_2_loss: 0.3797 - output_1_root_mean_squared_error: 0.5700 - output_2_root_mean_squared_error: 0.6162 - val_loss: 1.0822 - val_output_1_loss: 1.1264 - val_output_2_loss: 0.6839 - val_output_1_root_mean_squared_error: 1.0613 - val_output_2_root_mean_squared_error: 0.8270\n",
      "Epoch 10/100\n",
      "363/363 [==============================] - 1s 3ms/step - loss: 0.3300 - output_1_loss: 0.3250 - output_2_loss: 0.3753 - output_1_root_mean_squared_error: 0.5701 - output_2_root_mean_squared_error: 0.6126 - val_loss: 0.3999 - val_output_1_loss: 0.4019 - val_output_2_loss: 0.3817 - val_output_1_root_mean_squared_error: 0.6339 - val_output_2_root_mean_squared_error: 0.6178\n",
      "Epoch 11/100\n",
      "363/363 [==============================] - 1s 3ms/step - loss: 0.3219 - output_1_loss: 0.3166 - output_2_loss: 0.3703 - output_1_root_mean_squared_error: 0.5626 - output_2_root_mean_squared_error: 0.6085 - val_loss: 0.4016 - val_output_1_loss: 0.3826 - val_output_2_loss: 0.5723 - val_output_1_root_mean_squared_error: 0.6186 - val_output_2_root_mean_squared_error: 0.7565\n",
      "Epoch 12/100\n",
      "363/363 [==============================] - 1s 3ms/step - loss: 0.3259 - output_1_loss: 0.3206 - output_2_loss: 0.3737 - output_1_root_mean_squared_error: 0.5662 - output_2_root_mean_squared_error: 0.6113 - val_loss: 0.3497 - val_output_1_loss: 0.3463 - val_output_2_loss: 0.3803 - val_output_1_root_mean_squared_error: 0.5885 - val_output_2_root_mean_squared_error: 0.6167\n",
      "Epoch 13/100\n",
      "363/363 [==============================] - 1s 4ms/step - loss: 0.3226 - output_1_loss: 0.3173 - output_2_loss: 0.3706 - output_1_root_mean_squared_error: 0.5633 - output_2_root_mean_squared_error: 0.6088 - val_loss: 0.3210 - val_output_1_loss: 0.3128 - val_output_2_loss: 0.3948 - val_output_1_root_mean_squared_error: 0.5593 - val_output_2_root_mean_squared_error: 0.6283\n",
      "Epoch 14/100\n",
      "363/363 [==============================] - 1s 4ms/step - loss: 0.3202 - output_1_loss: 0.3148 - output_2_loss: 0.3690 - output_1_root_mean_squared_error: 0.5611 - output_2_root_mean_squared_error: 0.6074 - val_loss: 0.6805 - val_output_1_loss: 0.6984 - val_output_2_loss: 0.5199 - val_output_1_root_mean_squared_error: 0.8357 - val_output_2_root_mean_squared_error: 0.7210\n",
      "Epoch 15/100\n",
      "363/363 [==============================] - 1s 3ms/step - loss: 0.3215 - output_1_loss: 0.3164 - output_2_loss: 0.3682 - output_1_root_mean_squared_error: 0.5625 - output_2_root_mean_squared_error: 0.6068 - val_loss: 1.4824 - val_output_1_loss: 1.5396 - val_output_2_loss: 0.9677 - val_output_1_root_mean_squared_error: 1.2408 - val_output_2_root_mean_squared_error: 0.9837\n",
      "Epoch 16/100\n",
      "363/363 [==============================] - 1s 3ms/step - loss: 0.3241 - output_1_loss: 0.3193 - output_2_loss: 0.3678 - output_1_root_mean_squared_error: 0.5651 - output_2_root_mean_squared_error: 0.6064 - val_loss: 0.5565 - val_output_1_loss: 0.5727 - val_output_2_loss: 0.4106 - val_output_1_root_mean_squared_error: 0.7568 - val_output_2_root_mean_squared_error: 0.6408\n",
      "Epoch 17/100\n",
      "363/363 [==============================] - 1s 3ms/step - loss: 0.3207 - output_1_loss: 0.3155 - output_2_loss: 0.3681 - output_1_root_mean_squared_error: 0.5617 - output_2_root_mean_squared_error: 0.6067 - val_loss: 0.8646 - val_output_1_loss: 0.8832 - val_output_2_loss: 0.6970 - val_output_1_root_mean_squared_error: 0.9398 - val_output_2_root_mean_squared_error: 0.8349\n",
      "Epoch 18/100\n",
      "363/363 [==============================] - 1s 4ms/step - loss: 0.3179 - output_1_loss: 0.3126 - output_2_loss: 0.3648 - output_1_root_mean_squared_error: 0.5591 - output_2_root_mean_squared_error: 0.6040 - val_loss: 0.4674 - val_output_1_loss: 0.4592 - val_output_2_loss: 0.5417 - val_output_1_root_mean_squared_error: 0.6776 - val_output_2_root_mean_squared_error: 0.7360\n",
      "Epoch 19/100\n",
      "363/363 [==============================] - 1s 4ms/step - loss: 0.3154 - output_1_loss: 0.3103 - output_2_loss: 0.3619 - output_1_root_mean_squared_error: 0.5570 - output_2_root_mean_squared_error: 0.6016 - val_loss: 0.7098 - val_output_1_loss: 0.7102 - val_output_2_loss: 0.7062 - val_output_1_root_mean_squared_error: 0.8427 - val_output_2_root_mean_squared_error: 0.8404\n",
      "Epoch 20/100\n",
      "363/363 [==============================] - 1s 4ms/step - loss: 0.3205 - output_1_loss: 0.3157 - output_2_loss: 0.3636 - output_1_root_mean_squared_error: 0.5619 - output_2_root_mean_squared_error: 0.6030 - val_loss: 0.3584 - val_output_1_loss: 0.3585 - val_output_2_loss: 0.3582 - val_output_1_root_mean_squared_error: 0.5987 - val_output_2_root_mean_squared_error: 0.5985\n",
      "Epoch 21/100\n",
      "363/363 [==============================] - 1s 4ms/step - loss: 0.3129 - output_1_loss: 0.3080 - output_2_loss: 0.3570 - output_1_root_mean_squared_error: 0.5549 - output_2_root_mean_squared_error: 0.5975 - val_loss: 0.7740 - val_output_1_loss: 0.7485 - val_output_2_loss: 1.0040 - val_output_1_root_mean_squared_error: 0.8652 - val_output_2_root_mean_squared_error: 1.0020\n",
      "Epoch 22/100\n",
      "363/363 [==============================] - 1s 3ms/step - loss: 0.3128 - output_1_loss: 0.3076 - output_2_loss: 0.3590 - output_1_root_mean_squared_error: 0.5546 - output_2_root_mean_squared_error: 0.5992 - val_loss: 0.5109 - val_output_1_loss: 0.5233 - val_output_2_loss: 0.3998 - val_output_1_root_mean_squared_error: 0.7234 - val_output_2_root_mean_squared_error: 0.6323\n",
      "Epoch 23/100\n",
      "363/363 [==============================] - 1s 3ms/step - loss: 0.3098 - output_1_loss: 0.3048 - output_2_loss: 0.3549 - output_1_root_mean_squared_error: 0.5521 - output_2_root_mean_squared_error: 0.5957 - val_loss: 0.3294 - val_output_1_loss: 0.3183 - val_output_2_loss: 0.4295 - val_output_1_root_mean_squared_error: 0.5642 - val_output_2_root_mean_squared_error: 0.6554\n"
     ]
    }
   ],
   "source": [
    "early_stopping_cb = tf.keras.callbacks.EarlyStopping(patience=10,\n",
    "                                                     restore_best_weights=True)\n",
    "history = model.fit(\n",
    "    (X_train_wide, X_train_deep), (y_train, y_train), epochs=100,\n",
    "    validation_data=((X_valid_wide, X_valid_deep), (y_valid, y_valid)),\n",
    "    callbacks=[checkpoint_cb, early_stopping_cb])"
   ]
  },
  {
   "cell_type": "code",
   "execution_count": 79,
   "id": "be21e0cb",
   "metadata": {
    "execution": {
     "iopub.execute_input": "2022-11-22T01:42:45.098688Z",
     "iopub.status.busy": "2022-11-22T01:42:45.097730Z",
     "iopub.status.idle": "2022-11-22T01:42:45.103744Z",
     "shell.execute_reply": "2022-11-22T01:42:45.102599Z"
    },
    "papermill": {
     "duration": 0.380921,
     "end_time": "2022-11-22T01:42:45.106272",
     "exception": false,
     "start_time": "2022-11-22T01:42:44.725351",
     "status": "completed"
    },
    "tags": []
   },
   "outputs": [],
   "source": [
    "class PrintValTrainRatioCallback(tf.keras.callbacks.Callback):\n",
    "    def on_epoch_end(self, epoch, logs):\n",
    "        ratio = logs[\"val_loss\"] / logs[\"loss\"]\n",
    "        print(f\"Epoch={epoch}, val/train={ratio:.2f}\")"
   ]
  },
  {
   "cell_type": "code",
   "execution_count": 80,
   "id": "48757ee8",
   "metadata": {
    "execution": {
     "iopub.execute_input": "2022-11-22T01:42:45.848241Z",
     "iopub.status.busy": "2022-11-22T01:42:45.847315Z",
     "iopub.status.idle": "2022-11-22T01:42:55.327933Z",
     "shell.execute_reply": "2022-11-22T01:42:55.326435Z"
    },
    "papermill": {
     "duration": 9.851558,
     "end_time": "2022-11-22T01:42:55.330537",
     "exception": false,
     "start_time": "2022-11-22T01:42:45.478979",
     "status": "completed"
    },
    "tags": []
   },
   "outputs": [
    {
     "name": "stdout",
     "output_type": "stream",
     "text": [
      "Epoch=0, val/train=4.45\n",
      "Epoch=1, val/train=1.74\n",
      "Epoch=2, val/train=1.00\n",
      "Epoch=3, val/train=1.02\n",
      "Epoch=4, val/train=0.97\n",
      "Epoch=5, val/train=1.23\n",
      "Epoch=6, val/train=0.96\n",
      "Epoch=7, val/train=1.26\n",
      "Epoch=8, val/train=0.98\n",
      "Epoch=9, val/train=1.45\n"
     ]
    }
   ],
   "source": [
    "val_train_ratio_cb = PrintValTrainRatioCallback()\n",
    "history = model.fit(\n",
    "    (X_train_wide, X_train_deep), (y_train, y_train), epochs=10,\n",
    "    validation_data=((X_valid_wide, X_valid_deep), (y_valid, y_valid)),\n",
    "    callbacks=[val_train_ratio_cb], verbose=0)"
   ]
  },
  {
   "cell_type": "markdown",
   "id": "f6d4dcbc",
   "metadata": {
    "papermill": {
     "duration": 0.370486,
     "end_time": "2022-11-22T01:42:56.141048",
     "exception": false,
     "start_time": "2022-11-22T01:42:55.770562",
     "status": "completed"
    },
    "tags": []
   },
   "source": [
    "## Using TensorBoard for Visualization"
   ]
  },
  {
   "cell_type": "markdown",
   "id": "af9e688c",
   "metadata": {
    "papermill": {
     "duration": 0.375909,
     "end_time": "2022-11-22T01:42:56.888433",
     "exception": false,
     "start_time": "2022-11-22T01:42:56.512524",
     "status": "completed"
    },
    "tags": []
   },
   "source": [
    "TensorBoard is preinstalled on Colab, but not the `tensorboard-plugin-profile`, so let's install it:"
   ]
  },
  {
   "cell_type": "code",
   "execution_count": 81,
   "id": "d0d250d9",
   "metadata": {
    "execution": {
     "iopub.execute_input": "2022-11-22T01:42:57.705202Z",
     "iopub.status.busy": "2022-11-22T01:42:57.704818Z",
     "iopub.status.idle": "2022-11-22T01:42:57.711233Z",
     "shell.execute_reply": "2022-11-22T01:42:57.709476Z"
    },
    "papermill": {
     "duration": 0.395895,
     "end_time": "2022-11-22T01:42:57.713838",
     "exception": false,
     "start_time": "2022-11-22T01:42:57.317943",
     "status": "completed"
    },
    "tags": []
   },
   "outputs": [],
   "source": [
    "if \"google.colab\" in sys.modules:  # extra code\n",
    "    %pip install -q -U tensorboard-plugin-profile"
   ]
  },
  {
   "cell_type": "code",
   "execution_count": 82,
   "id": "f17a2631",
   "metadata": {
    "execution": {
     "iopub.execute_input": "2022-11-22T01:42:58.585084Z",
     "iopub.status.busy": "2022-11-22T01:42:58.584329Z",
     "iopub.status.idle": "2022-11-22T01:42:58.591477Z",
     "shell.execute_reply": "2022-11-22T01:42:58.589870Z"
    },
    "papermill": {
     "duration": 0.486579,
     "end_time": "2022-11-22T01:42:58.593461",
     "exception": false,
     "start_time": "2022-11-22T01:42:58.106882",
     "status": "completed"
    },
    "tags": []
   },
   "outputs": [],
   "source": [
    "shutil.rmtree(\"my_logs\", ignore_errors=True)"
   ]
  },
  {
   "cell_type": "code",
   "execution_count": 83,
   "id": "fb960eba",
   "metadata": {
    "execution": {
     "iopub.execute_input": "2022-11-22T01:42:59.343741Z",
     "iopub.status.busy": "2022-11-22T01:42:59.341947Z",
     "iopub.status.idle": "2022-11-22T01:42:59.348327Z",
     "shell.execute_reply": "2022-11-22T01:42:59.347531Z"
    },
    "papermill": {
     "duration": 0.382774,
     "end_time": "2022-11-22T01:42:59.351193",
     "exception": false,
     "start_time": "2022-11-22T01:42:58.968419",
     "status": "completed"
    },
    "tags": []
   },
   "outputs": [],
   "source": [
    "from pathlib import Path\n",
    "from time import strftime\n",
    "\n",
    "def get_run_logdir(root_logdir=\"my_logs\"):\n",
    "    return Path(root_logdir) / strftime(\"run_%Y_%m_%d_%H_%M_%S\")\n",
    "\n",
    "run_logdir = get_run_logdir()"
   ]
  },
  {
   "cell_type": "code",
   "execution_count": 84,
   "id": "3c146ecc",
   "metadata": {
    "execution": {
     "iopub.execute_input": "2022-11-22T01:43:00.181289Z",
     "iopub.status.busy": "2022-11-22T01:43:00.180156Z",
     "iopub.status.idle": "2022-11-22T01:43:00.514584Z",
     "shell.execute_reply": "2022-11-22T01:43:00.512928Z"
    },
    "papermill": {
     "duration": 0.7818,
     "end_time": "2022-11-22T01:43:00.517050",
     "exception": false,
     "start_time": "2022-11-22T01:42:59.735250",
     "status": "completed"
    },
    "tags": []
   },
   "outputs": [],
   "source": [
    "# extra code – builds the first regression model we used earlier\n",
    "tf.keras.backend.clear_session()\n",
    "tf.random.set_seed(42)\n",
    "norm_layer = tf.keras.layers.Normalization(input_shape=X_train.shape[1:])\n",
    "model = tf.keras.Sequential([\n",
    "    norm_layer,\n",
    "    tf.keras.layers.Dense(30, activation=\"relu\"),\n",
    "    tf.keras.layers.Dense(30, activation=\"relu\"),\n",
    "    tf.keras.layers.Dense(1)\n",
    "])\n",
    "optimizer = tf.keras.optimizers.SGD(learning_rate=1e-3)\n",
    "model.compile(loss=\"mse\", optimizer=optimizer, metrics=[\"RootMeanSquaredError\"])\n",
    "norm_layer.adapt(X_train)"
   ]
  },
  {
   "cell_type": "code",
   "execution_count": 85,
   "id": "f790c211",
   "metadata": {
    "execution": {
     "iopub.execute_input": "2022-11-22T01:43:01.269945Z",
     "iopub.status.busy": "2022-11-22T01:43:01.269160Z",
     "iopub.status.idle": "2022-11-22T01:43:18.297261Z",
     "shell.execute_reply": "2022-11-22T01:43:18.296208Z"
    },
    "papermill": {
     "duration": 17.410535,
     "end_time": "2022-11-22T01:43:18.299400",
     "exception": false,
     "start_time": "2022-11-22T01:43:00.888865",
     "status": "completed"
    },
    "tags": []
   },
   "outputs": [
    {
     "name": "stderr",
     "output_type": "stream",
     "text": [
      "2022-11-22 01:43:01.275343: I tensorflow/core/profiler/lib/profiler_session.cc:131] Profiler session initializing.\n",
      "2022-11-22 01:43:01.275553: I tensorflow/core/profiler/lib/profiler_session.cc:146] Profiler session started.\n",
      "2022-11-22 01:43:01.277502: I tensorflow/core/profiler/lib/profiler_session.cc:164] Profiler session tear down.\n"
     ]
    },
    {
     "name": "stdout",
     "output_type": "stream",
     "text": [
      "Epoch 1/20\n",
      "170/363 [=============>................] - ETA: 0s - loss: 2.9461 - root_mean_squared_error: 1.7164"
     ]
    },
    {
     "name": "stderr",
     "output_type": "stream",
     "text": [
      "2022-11-22 01:43:01.808205: I tensorflow/core/profiler/lib/profiler_session.cc:131] Profiler session initializing.\n",
      "2022-11-22 01:43:01.808424: I tensorflow/core/profiler/lib/profiler_session.cc:146] Profiler session started.\n"
     ]
    },
    {
     "name": "stdout",
     "output_type": "stream",
     "text": [
      "229/363 [=================>............] - ETA: 0s - loss: 2.5103 - root_mean_squared_error: 1.5844"
     ]
    },
    {
     "name": "stderr",
     "output_type": "stream",
     "text": [
      "2022-11-22 01:43:02.035538: I tensorflow/core/profiler/lib/profiler_session.cc:66] Profiler session collecting data.\n",
      "2022-11-22 01:43:02.057653: I tensorflow/core/profiler/lib/profiler_session.cc:164] Profiler session tear down.\n",
      "2022-11-22 01:43:02.105864: I tensorflow/core/profiler/rpc/client/save_profile.cc:136] Creating directory: my_logs/run_2022_11_22_01_42_59/train/plugins/profile/2022_11_22_01_43_02\n",
      "\n",
      "2022-11-22 01:43:02.136720: I tensorflow/core/profiler/rpc/client/save_profile.cc:142] Dumped gzipped tool data for trace.json.gz to my_logs/run_2022_11_22_01_42_59/train/plugins/profile/2022_11_22_01_43_02/120f22547c6d.trace.json.gz\n",
      "2022-11-22 01:43:02.164498: I tensorflow/core/profiler/rpc/client/save_profile.cc:136] Creating directory: my_logs/run_2022_11_22_01_42_59/train/plugins/profile/2022_11_22_01_43_02\n",
      "\n",
      "2022-11-22 01:43:02.164853: I tensorflow/core/profiler/rpc/client/save_profile.cc:142] Dumped gzipped tool data for memory_profile.json.gz to my_logs/run_2022_11_22_01_42_59/train/plugins/profile/2022_11_22_01_43_02/120f22547c6d.memory_profile.json.gz\n",
      "2022-11-22 01:43:02.165875: I tensorflow/core/profiler/rpc/client/capture_profile.cc:251] Creating directory: my_logs/run_2022_11_22_01_42_59/train/plugins/profile/2022_11_22_01_43_02\n",
      "Dumped tool data for xplane.pb to my_logs/run_2022_11_22_01_42_59/train/plugins/profile/2022_11_22_01_43_02/120f22547c6d.xplane.pb\n",
      "Dumped tool data for overview_page.pb to my_logs/run_2022_11_22_01_42_59/train/plugins/profile/2022_11_22_01_43_02/120f22547c6d.overview_page.pb\n",
      "Dumped tool data for input_pipeline.pb to my_logs/run_2022_11_22_01_42_59/train/plugins/profile/2022_11_22_01_43_02/120f22547c6d.input_pipeline.pb\n",
      "Dumped tool data for tensorflow_stats.pb to my_logs/run_2022_11_22_01_42_59/train/plugins/profile/2022_11_22_01_43_02/120f22547c6d.tensorflow_stats.pb\n",
      "Dumped tool data for kernel_stats.pb to my_logs/run_2022_11_22_01_42_59/train/plugins/profile/2022_11_22_01_43_02/120f22547c6d.kernel_stats.pb\n",
      "\n"
     ]
    },
    {
     "name": "stdout",
     "output_type": "stream",
     "text": [
      "363/363 [==============================] - 1s 3ms/step - loss: 1.8866 - root_mean_squared_error: 1.3736 - val_loss: 0.7126 - val_root_mean_squared_error: 0.8442\n",
      "Epoch 2/20\n",
      "363/363 [==============================] - 1s 2ms/step - loss: 0.6577 - root_mean_squared_error: 0.8110 - val_loss: 0.6880 - val_root_mean_squared_error: 0.8295\n",
      "Epoch 3/20\n",
      "363/363 [==============================] - 1s 2ms/step - loss: 0.5934 - root_mean_squared_error: 0.7703 - val_loss: 0.5803 - val_root_mean_squared_error: 0.7618\n",
      "Epoch 4/20\n",
      "363/363 [==============================] - 1s 2ms/step - loss: 0.5557 - root_mean_squared_error: 0.7455 - val_loss: 0.5166 - val_root_mean_squared_error: 0.7188\n",
      "Epoch 5/20\n",
      "363/363 [==============================] - 1s 2ms/step - loss: 0.5272 - root_mean_squared_error: 0.7261 - val_loss: 0.4895 - val_root_mean_squared_error: 0.6997\n",
      "Epoch 6/20\n",
      "363/363 [==============================] - 1s 2ms/step - loss: 0.5033 - root_mean_squared_error: 0.7094 - val_loss: 0.4951 - val_root_mean_squared_error: 0.7036\n",
      "Epoch 7/20\n",
      "363/363 [==============================] - 1s 2ms/step - loss: 0.4854 - root_mean_squared_error: 0.6967 - val_loss: 0.4862 - val_root_mean_squared_error: 0.6973\n",
      "Epoch 8/20\n",
      "363/363 [==============================] - 1s 2ms/step - loss: 0.4709 - root_mean_squared_error: 0.6862 - val_loss: 0.4554 - val_root_mean_squared_error: 0.6748\n",
      "Epoch 9/20\n",
      "363/363 [==============================] - 1s 2ms/step - loss: 0.4578 - root_mean_squared_error: 0.6766 - val_loss: 0.4413 - val_root_mean_squared_error: 0.6643\n",
      "Epoch 10/20\n",
      "363/363 [==============================] - 1s 2ms/step - loss: 0.4474 - root_mean_squared_error: 0.6689 - val_loss: 0.4379 - val_root_mean_squared_error: 0.6617\n",
      "Epoch 11/20\n",
      "363/363 [==============================] - 1s 2ms/step - loss: 0.4393 - root_mean_squared_error: 0.6628 - val_loss: 0.4396 - val_root_mean_squared_error: 0.6630\n",
      "Epoch 12/20\n",
      "363/363 [==============================] - 1s 2ms/step - loss: 0.4318 - root_mean_squared_error: 0.6571 - val_loss: 0.4505 - val_root_mean_squared_error: 0.6712\n",
      "Epoch 13/20\n",
      "363/363 [==============================] - 1s 2ms/step - loss: 0.4260 - root_mean_squared_error: 0.6527 - val_loss: 0.3997 - val_root_mean_squared_error: 0.6322\n",
      "Epoch 14/20\n",
      "363/363 [==============================] - 1s 2ms/step - loss: 0.4202 - root_mean_squared_error: 0.6482 - val_loss: 0.3956 - val_root_mean_squared_error: 0.6290\n",
      "Epoch 15/20\n",
      "363/363 [==============================] - 1s 2ms/step - loss: 0.4155 - root_mean_squared_error: 0.6446 - val_loss: 0.3916 - val_root_mean_squared_error: 0.6258\n",
      "Epoch 16/20\n",
      "363/363 [==============================] - 1s 2ms/step - loss: 0.4112 - root_mean_squared_error: 0.6412 - val_loss: 0.3937 - val_root_mean_squared_error: 0.6275\n",
      "Epoch 17/20\n",
      "363/363 [==============================] - 1s 2ms/step - loss: 0.4077 - root_mean_squared_error: 0.6385 - val_loss: 0.3809 - val_root_mean_squared_error: 0.6172\n",
      "Epoch 18/20\n",
      "363/363 [==============================] - 1s 2ms/step - loss: 0.4039 - root_mean_squared_error: 0.6356 - val_loss: 0.3793 - val_root_mean_squared_error: 0.6159\n",
      "Epoch 19/20\n",
      "363/363 [==============================] - 1s 2ms/step - loss: 0.4004 - root_mean_squared_error: 0.6328 - val_loss: 0.3850 - val_root_mean_squared_error: 0.6205\n",
      "Epoch 20/20\n",
      "363/363 [==============================] - 1s 2ms/step - loss: 0.3980 - root_mean_squared_error: 0.6308 - val_loss: 0.3810 - val_root_mean_squared_error: 0.6172\n"
     ]
    }
   ],
   "source": [
    "tensorboard_cb = tf.keras.callbacks.TensorBoard(run_logdir,\n",
    "                                                profile_batch=(100, 200))\n",
    "history = model.fit(X_train, y_train, epochs=20,\n",
    "                    validation_data=(X_valid, y_valid),\n",
    "                    callbacks=[tensorboard_cb])"
   ]
  },
  {
   "cell_type": "code",
   "execution_count": 86,
   "id": "971bf8b0",
   "metadata": {
    "execution": {
     "iopub.execute_input": "2022-11-22T01:43:19.143357Z",
     "iopub.status.busy": "2022-11-22T01:43:19.142113Z",
     "iopub.status.idle": "2022-11-22T01:43:19.150451Z",
     "shell.execute_reply": "2022-11-22T01:43:19.148800Z"
    },
    "papermill": {
     "duration": 0.461566,
     "end_time": "2022-11-22T01:43:19.152894",
     "exception": false,
     "start_time": "2022-11-22T01:43:18.691328",
     "status": "completed"
    },
    "tags": []
   },
   "outputs": [
    {
     "name": "stdout",
     "output_type": "stream",
     "text": [
      "my_logs\n",
      "  run_2022_11_22_01_42_59\n",
      "    train\n",
      "      events.out.tfevents.1669081381.120f22547c6d.19.0.v2\n",
      "      events.out.tfevents.1669081382.120f22547c6d.profile-empty\n",
      "      plugins\n",
      "        profile\n",
      "          2022_11_22_01_43_02\n",
      "            120f22547c6d.input_pipeline.pb\n",
      "            120f22547c6d.kernel_stats.pb\n",
      "            120f22547c6d.memory_profile.json.gz\n",
      "            120f22547c6d.overview_page.pb\n",
      "            120f22547c6d.tensorflow_stats.pb\n",
      "            120f22547c6d.trace.json.gz\n",
      "            120f22547c6d.xplane.pb\n",
      "    validation\n",
      "      events.out.tfevents.1669081382.120f22547c6d.19.1.v2\n"
     ]
    }
   ],
   "source": [
    "print(\"my_logs\")\n",
    "for path in sorted(Path(\"my_logs\").glob(\"**/*\")):\n",
    "    print(\"  \" * (len(path.parts) - 1) + path.parts[-1])"
   ]
  },
  {
   "cell_type": "markdown",
   "id": "5228e335",
   "metadata": {
    "papermill": {
     "duration": 0.389745,
     "end_time": "2022-11-22T01:43:19.936934",
     "exception": false,
     "start_time": "2022-11-22T01:43:19.547189",
     "status": "completed"
    },
    "tags": []
   },
   "source": [
    "Let's load the `tensorboard` Jupyter extension and start the TensorBoard server: "
   ]
  },
  {
   "cell_type": "code",
   "execution_count": 87,
   "id": "dbd19602",
   "metadata": {
    "execution": {
     "iopub.execute_input": "2022-11-22T01:43:20.800848Z",
     "iopub.status.busy": "2022-11-22T01:43:20.800241Z",
     "iopub.status.idle": "2022-11-22T01:43:24.862473Z",
     "shell.execute_reply": "2022-11-22T01:43:24.861379Z"
    },
    "papermill": {
     "duration": 4.454004,
     "end_time": "2022-11-22T01:43:24.865051",
     "exception": false,
     "start_time": "2022-11-22T01:43:20.411047",
     "status": "completed"
    },
    "tags": []
   },
   "outputs": [
    {
     "data": {
      "text/html": [
       "\n",
       "      <iframe id=\"tensorboard-frame-dda8adda87768586\" width=\"100%\" height=\"800\" frameborder=\"0\">\n",
       "      </iframe>\n",
       "      <script>\n",
       "        (function() {\n",
       "          const frame = document.getElementById(\"tensorboard-frame-dda8adda87768586\");\n",
       "          const url = new URL(\"/\", window.location);\n",
       "          const port = 6006;\n",
       "          if (port) {\n",
       "            url.port = port;\n",
       "          }\n",
       "          frame.src = url;\n",
       "        })();\n",
       "      </script>\n",
       "    "
      ],
      "text/plain": [
       "<IPython.core.display.HTML object>"
      ]
     },
     "metadata": {},
     "output_type": "display_data"
    }
   ],
   "source": [
    "%load_ext tensorboard\n",
    "%tensorboard --logdir=./my_logs"
   ]
  },
  {
   "cell_type": "markdown",
   "id": "8870a523",
   "metadata": {
    "papermill": {
     "duration": 0.38825,
     "end_time": "2022-11-22T01:43:25.642058",
     "exception": false,
     "start_time": "2022-11-22T01:43:25.253808",
     "status": "completed"
    },
    "tags": []
   },
   "source": [
    "**Note**: if you prefer to access TensorBoard in a separate tab, click the \"localhost:6006\" link below:"
   ]
  },
  {
   "cell_type": "code",
   "execution_count": 88,
   "id": "0f4773bc",
   "metadata": {
    "execution": {
     "iopub.execute_input": "2022-11-22T01:43:26.484776Z",
     "iopub.status.busy": "2022-11-22T01:43:26.484133Z",
     "iopub.status.idle": "2022-11-22T01:43:26.490705Z",
     "shell.execute_reply": "2022-11-22T01:43:26.489578Z"
    },
    "papermill": {
     "duration": 0.398693,
     "end_time": "2022-11-22T01:43:26.493524",
     "exception": false,
     "start_time": "2022-11-22T01:43:26.094831",
     "status": "completed"
    },
    "tags": []
   },
   "outputs": [
    {
     "data": {
      "text/html": [
       "<a href=\"http://localhost:6006/\">http://localhost:6006/</a>"
      ],
      "text/plain": [
       "<IPython.core.display.HTML object>"
      ]
     },
     "metadata": {},
     "output_type": "display_data"
    }
   ],
   "source": [
    "# extra code\n",
    "\n",
    "if \"google.colab\" in sys.modules:\n",
    "    from google.colab import output\n",
    "\n",
    "    output.serve_kernel_port_as_window(6006)\n",
    "else:\n",
    "    from IPython.display import display, HTML\n",
    "\n",
    "    display(HTML('<a href=\"http://localhost:6006/\">http://localhost:6006/</a>'))"
   ]
  },
  {
   "cell_type": "markdown",
   "id": "ad3a3c0b",
   "metadata": {
    "papermill": {
     "duration": 0.388527,
     "end_time": "2022-11-22T01:43:27.271699",
     "exception": false,
     "start_time": "2022-11-22T01:43:26.883172",
     "status": "completed"
    },
    "tags": []
   },
   "source": [
    "You can use also visualize histograms, images, text, and even listen to audio using TensorBoard:"
   ]
  },
  {
   "cell_type": "code",
   "execution_count": 89,
   "id": "464b4fe8",
   "metadata": {
    "execution": {
     "iopub.execute_input": "2022-11-22T01:43:28.125463Z",
     "iopub.status.busy": "2022-11-22T01:43:28.124179Z",
     "iopub.status.idle": "2022-11-22T01:43:38.834553Z",
     "shell.execute_reply": "2022-11-22T01:43:38.833528Z"
    },
    "papermill": {
     "duration": 11.107428,
     "end_time": "2022-11-22T01:43:38.837067",
     "exception": false,
     "start_time": "2022-11-22T01:43:27.729639",
     "status": "completed"
    },
    "tags": []
   },
   "outputs": [],
   "source": [
    "test_logdir = get_run_logdir()\n",
    "writer = tf.summary.create_file_writer(str(test_logdir))\n",
    "with writer.as_default():\n",
    "    for step in range(1, 1000 + 1):\n",
    "        tf.summary.scalar(\"my_scalar\", np.sin(step / 10), step=step)\n",
    "        \n",
    "        data = (np.random.randn(100) + 2) * step / 100  # gets larger\n",
    "        tf.summary.histogram(\"my_hist\", data, buckets=50, step=step)\n",
    "        \n",
    "        images = np.random.rand(2, 32, 32, 3) * step / 1000  # gets brighter\n",
    "        tf.summary.image(\"my_images\", images, step=step)\n",
    "        \n",
    "        texts = [\"The step is \" + str(step), \"Its square is \" + str(step ** 2)]\n",
    "        tf.summary.text(\"my_text\", texts, step=step)\n",
    "        \n",
    "        sine_wave = tf.math.sin(tf.range(12000) / 48000 * 2 * np.pi * step)\n",
    "        audio = tf.reshape(tf.cast(sine_wave, tf.float32), [1, -1, 1])\n",
    "        tf.summary.audio(\"my_audio\", audio, sample_rate=48000, step=step)"
   ]
  },
  {
   "cell_type": "markdown",
   "id": "1de3f276",
   "metadata": {
    "papermill": {
     "duration": 0.395353,
     "end_time": "2022-11-22T01:43:39.625055",
     "exception": false,
     "start_time": "2022-11-22T01:43:39.229702",
     "status": "completed"
    },
    "tags": []
   },
   "source": [
    "You can share your TensorBoard logs with the world by uploading them to https://tensorboard.dev/. For this, you can run the `tensorboard dev upload` command, with the `--logdir` and `--one_shot` options, and optionally the `--name` and `--description` options. The first time, it will ask you to accept Google's Terms of Service, and to authenticate.\n",
    "\n",
    "Notes:\n",
    "* Authenticating requires user input. Colab supports user input from shell commands, but the main other Jupyter environments do not, so for them we use a hackish workaround (alternatively, you could run the command in a terminal window, after you make sure to activate this project's conda environment and move to this notebook's directory).\n",
    "* If you get an authentication related error (such as *invalid_grant: Bad Request*), it's likely that your login session has expired. In this case, try running the command `tensorboard dev auth revoke` to logout, and try again."
   ]
  },
  {
   "cell_type": "code",
   "execution_count": 90,
   "id": "cffbc784",
   "metadata": {
    "execution": {
     "iopub.execute_input": "2022-11-22T01:43:40.480031Z",
     "iopub.status.busy": "2022-11-22T01:43:40.479086Z",
     "iopub.status.idle": "2022-11-22T01:43:40.484004Z",
     "shell.execute_reply": "2022-11-22T01:43:40.482795Z"
    },
    "papermill": {
     "duration": 0.402713,
     "end_time": "2022-11-22T01:43:40.486989",
     "exception": false,
     "start_time": "2022-11-22T01:43:40.084276",
     "status": "completed"
    },
    "tags": []
   },
   "outputs": [],
   "source": [
    "# extra code\n",
    "\n",
    "# if \"google.colab\" in sys.modules:\n",
    "#     !tensorboard dev upload --logdir ./my_logs --one_shot \\\n",
    "#                             --name \"Quick test\" --description \"This is a test\" \n",
    "# else:\n",
    "#     from tensorboard.main import run_main\n",
    "\n",
    "#     argv = \"tensorboard dev upload --logdir ./my_logs --one_shot\".split()\n",
    "#     argv += [\"--name\", \"Quick test\", \"--description\", \"This is a test\"]\n",
    "#     try:\n",
    "#         original_sys_argv_and_sys_exit = sys.argv, sys.exit\n",
    "#         sys.argv, sys.exit = argv, lambda status: None\n",
    "#         run_main()\n",
    "#     finally:\n",
    "#         sys.argv, sys.exit = original_sys_argv_and_sys_exit"
   ]
  },
  {
   "cell_type": "markdown",
   "id": "c69334d2",
   "metadata": {
    "papermill": {
     "duration": 0.457996,
     "end_time": "2022-11-22T01:43:41.335224",
     "exception": false,
     "start_time": "2022-11-22T01:43:40.877228",
     "status": "completed"
    },
    "tags": []
   },
   "source": [
    "You can get list your published experiments:"
   ]
  },
  {
   "cell_type": "code",
   "execution_count": 91,
   "id": "f2cb13fd",
   "metadata": {
    "execution": {
     "iopub.execute_input": "2022-11-22T01:43:42.110191Z",
     "iopub.status.busy": "2022-11-22T01:43:42.109560Z",
     "iopub.status.idle": "2022-11-22T01:43:42.113784Z",
     "shell.execute_reply": "2022-11-22T01:43:42.112863Z"
    },
    "papermill": {
     "duration": 0.394669,
     "end_time": "2022-11-22T01:43:42.115483",
     "exception": false,
     "start_time": "2022-11-22T01:43:41.720814",
     "status": "completed"
    },
    "tags": []
   },
   "outputs": [],
   "source": [
    "# !tensorboard dev list"
   ]
  },
  {
   "cell_type": "markdown",
   "id": "1bc33650",
   "metadata": {
    "papermill": {
     "duration": 0.453457,
     "end_time": "2022-11-22T01:43:42.972606",
     "exception": false,
     "start_time": "2022-11-22T01:43:42.519149",
     "status": "completed"
    },
    "tags": []
   },
   "source": [
    "To delete an experiment, use the following command:\n",
    "\n",
    "```python\n",
    "!tensorboard dev delete --experiment_id <experiment_id>\n",
    "```"
   ]
  },
  {
   "cell_type": "markdown",
   "id": "f5043c82",
   "metadata": {
    "papermill": {
     "duration": 0.391116,
     "end_time": "2022-11-22T01:43:43.758658",
     "exception": false,
     "start_time": "2022-11-22T01:43:43.367542",
     "status": "completed"
    },
    "tags": []
   },
   "source": [
    "When you stop this Jupyter kernel (a.k.a. Runtime), it will automatically stop the TensorBoard server as well. Another way to stop the TensorBoard server is to kill it, if you are running on Linux or MacOSX. First, you need to find its process ID:"
   ]
  },
  {
   "cell_type": "code",
   "execution_count": 92,
   "id": "eb18e6cf",
   "metadata": {
    "execution": {
     "iopub.execute_input": "2022-11-22T01:43:44.602630Z",
     "iopub.status.busy": "2022-11-22T01:43:44.602013Z",
     "iopub.status.idle": "2022-11-22T01:43:44.606771Z",
     "shell.execute_reply": "2022-11-22T01:43:44.605443Z"
    },
    "papermill": {
     "duration": 0.401858,
     "end_time": "2022-11-22T01:43:44.608750",
     "exception": false,
     "start_time": "2022-11-22T01:43:44.206892",
     "status": "completed"
    },
    "tags": []
   },
   "outputs": [],
   "source": [
    "# extra code – lists all running TensorBoard server instances\n",
    "\n",
    "# from tensorboard import notebook\n",
    "\n",
    "# notebook.list()"
   ]
  },
  {
   "cell_type": "markdown",
   "id": "46481366",
   "metadata": {
    "papermill": {
     "duration": 0.45625,
     "end_time": "2022-11-22T01:43:45.457848",
     "exception": false,
     "start_time": "2022-11-22T01:43:45.001598",
     "status": "completed"
    },
    "tags": []
   },
   "source": [
    "Next you can use the following command on Linux or MacOSX, replacing `<pid>` with the pid listed above:\n",
    "\n",
    "    !kill <pid>\n",
    "\n",
    "On Windows:\n",
    "\n",
    "    !taskkill /F /PID <pid>"
   ]
  },
  {
   "cell_type": "markdown",
   "id": "e33efd6d",
   "metadata": {
    "papermill": {
     "duration": 0.382522,
     "end_time": "2022-11-22T01:43:46.226917",
     "exception": false,
     "start_time": "2022-11-22T01:43:45.844395",
     "status": "completed"
    },
    "tags": []
   },
   "source": [
    "# Fine-Tuning Neural Network Hyperparameters"
   ]
  },
  {
   "cell_type": "markdown",
   "id": "24c6c2e0",
   "metadata": {
    "papermill": {
     "duration": 0.451062,
     "end_time": "2022-11-22T01:43:47.070044",
     "exception": false,
     "start_time": "2022-11-22T01:43:46.618982",
     "status": "completed"
    },
    "tags": []
   },
   "source": [
    "In this section we'll use the Fashion MNIST dataset again:"
   ]
  },
  {
   "cell_type": "code",
   "execution_count": 93,
   "id": "f447eae9",
   "metadata": {
    "execution": {
     "iopub.execute_input": "2022-11-22T01:43:47.852304Z",
     "iopub.status.busy": "2022-11-22T01:43:47.851655Z",
     "iopub.status.idle": "2022-11-22T01:43:47.856255Z",
     "shell.execute_reply": "2022-11-22T01:43:47.855638Z"
    },
    "papermill": {
     "duration": 0.399544,
     "end_time": "2022-11-22T01:43:47.858542",
     "exception": false,
     "start_time": "2022-11-22T01:43:47.458998",
     "status": "completed"
    },
    "tags": []
   },
   "outputs": [],
   "source": [
    "(X_train_full, y_train_full), (X_test, y_test) = fashion_mnist\n",
    "X_train, y_train = X_train_full[:-5000], y_train_full[:-5000]\n",
    "X_valid, y_valid = X_train_full[-5000:], y_train_full[-5000:]"
   ]
  },
  {
   "cell_type": "code",
   "execution_count": 94,
   "id": "22df9599",
   "metadata": {
    "execution": {
     "iopub.execute_input": "2022-11-22T01:43:48.700689Z",
     "iopub.status.busy": "2022-11-22T01:43:48.700285Z",
     "iopub.status.idle": "2022-11-22T01:43:48.710964Z",
     "shell.execute_reply": "2022-11-22T01:43:48.710128Z"
    },
    "papermill": {
     "duration": 0.466403,
     "end_time": "2022-11-22T01:43:48.713184",
     "exception": false,
     "start_time": "2022-11-22T01:43:48.246781",
     "status": "completed"
    },
    "tags": []
   },
   "outputs": [],
   "source": [
    "tf.keras.backend.clear_session()\n",
    "tf.random.set_seed(42)"
   ]
  },
  {
   "cell_type": "code",
   "execution_count": 95,
   "id": "4cbc6852",
   "metadata": {
    "execution": {
     "iopub.execute_input": "2022-11-22T01:43:49.493921Z",
     "iopub.status.busy": "2022-11-22T01:43:49.493162Z",
     "iopub.status.idle": "2022-11-22T01:43:49.498097Z",
     "shell.execute_reply": "2022-11-22T01:43:49.496956Z"
    },
    "papermill": {
     "duration": 0.398388,
     "end_time": "2022-11-22T01:43:49.499864",
     "exception": false,
     "start_time": "2022-11-22T01:43:49.101476",
     "status": "completed"
    },
    "tags": []
   },
   "outputs": [],
   "source": [
    "if \"google.colab\" in sys.modules:\n",
    "    %pip install -q -U keras_tuner"
   ]
  },
  {
   "cell_type": "code",
   "execution_count": 96,
   "id": "922a4bb1",
   "metadata": {
    "execution": {
     "iopub.execute_input": "2022-11-22T01:43:50.337242Z",
     "iopub.status.busy": "2022-11-22T01:43:50.336608Z",
     "iopub.status.idle": "2022-11-22T01:43:50.445014Z",
     "shell.execute_reply": "2022-11-22T01:43:50.443657Z"
    },
    "papermill": {
     "duration": 0.49465,
     "end_time": "2022-11-22T01:43:50.447476",
     "exception": false,
     "start_time": "2022-11-22T01:43:49.952826",
     "status": "completed"
    },
    "tags": []
   },
   "outputs": [],
   "source": [
    "import keras_tuner as kt\n",
    "\n",
    "def build_model(hp):\n",
    "    n_hidden = hp.Int(\"n_hidden\", min_value=0, max_value=8, default=2)\n",
    "    n_neurons = hp.Int(\"n_neurons\", min_value=16, max_value=256)\n",
    "    learning_rate = hp.Float(\"learning_rate\", min_value=1e-4, max_value=1e-2,\n",
    "                             sampling=\"log\")\n",
    "    optimizer = hp.Choice(\"optimizer\", values=[\"sgd\", \"adam\"])\n",
    "    if optimizer == \"sgd\":\n",
    "        optimizer = tf.keras.optimizers.SGD(learning_rate=learning_rate)\n",
    "    else:\n",
    "        optimizer = tf.keras.optimizers.Adam(learning_rate=learning_rate)\n",
    "\n",
    "    model = tf.keras.Sequential()\n",
    "    model.add(tf.keras.layers.Flatten())\n",
    "    for _ in range(n_hidden):\n",
    "        model.add(tf.keras.layers.Dense(n_neurons, activation=\"relu\"))\n",
    "    model.add(tf.keras.layers.Dense(10, activation=\"softmax\"))\n",
    "    model.compile(loss=\"sparse_categorical_crossentropy\", optimizer=optimizer,\n",
    "                  metrics=[\"accuracy\"])\n",
    "    return model"
   ]
  },
  {
   "cell_type": "code",
   "execution_count": 97,
   "id": "f2c53de8",
   "metadata": {
    "execution": {
     "iopub.execute_input": "2022-11-22T01:43:51.222618Z",
     "iopub.status.busy": "2022-11-22T01:43:51.222267Z",
     "iopub.status.idle": "2022-11-22T01:50:10.068517Z",
     "shell.execute_reply": "2022-11-22T01:50:10.067064Z"
    },
    "papermill": {
     "duration": 379.237067,
     "end_time": "2022-11-22T01:50:10.071500",
     "exception": false,
     "start_time": "2022-11-22T01:43:50.834433",
     "status": "completed"
    },
    "tags": []
   },
   "outputs": [
    {
     "name": "stdout",
     "output_type": "stream",
     "text": [
      "Trial 5 Complete [00h 01m 26s]\n",
      "val_accuracy: 0.875\n",
      "\n",
      "Best val_accuracy So Far: 0.875\n",
      "Total elapsed time: 00h 06m 18s\n"
     ]
    }
   ],
   "source": [
    "random_search_tuner = kt.RandomSearch(\n",
    "    build_model, objective=\"val_accuracy\", max_trials=5, overwrite=True,\n",
    "    directory=\"my_fashion_mnist\", project_name=\"my_rnd_search\", seed=42)\n",
    "random_search_tuner.search(X_train, y_train, epochs=10,\n",
    "                           validation_data=(X_valid, y_valid))"
   ]
  },
  {
   "cell_type": "code",
   "execution_count": 98,
   "id": "0136efe2",
   "metadata": {
    "execution": {
     "iopub.execute_input": "2022-11-22T01:50:10.919851Z",
     "iopub.status.busy": "2022-11-22T01:50:10.919466Z",
     "iopub.status.idle": "2022-11-22T01:50:11.668503Z",
     "shell.execute_reply": "2022-11-22T01:50:11.667075Z"
    },
    "papermill": {
     "duration": 1.14071,
     "end_time": "2022-11-22T01:50:11.671210",
     "exception": false,
     "start_time": "2022-11-22T01:50:10.530500",
     "status": "completed"
    },
    "tags": []
   },
   "outputs": [],
   "source": [
    "top3_models = random_search_tuner.get_best_models(num_models=3)\n",
    "best_model = top3_models[0]"
   ]
  },
  {
   "cell_type": "code",
   "execution_count": 99,
   "id": "02a158f4",
   "metadata": {
    "execution": {
     "iopub.execute_input": "2022-11-22T01:50:12.454888Z",
     "iopub.status.busy": "2022-11-22T01:50:12.454145Z",
     "iopub.status.idle": "2022-11-22T01:50:12.461806Z",
     "shell.execute_reply": "2022-11-22T01:50:12.460786Z"
    },
    "papermill": {
     "duration": 0.398977,
     "end_time": "2022-11-22T01:50:12.464313",
     "exception": false,
     "start_time": "2022-11-22T01:50:12.065336",
     "status": "completed"
    },
    "tags": []
   },
   "outputs": [
    {
     "data": {
      "text/plain": [
       "{'n_hidden': 5,\n",
       " 'n_neurons': 70,\n",
       " 'learning_rate': 0.00041268008323824807,\n",
       " 'optimizer': 'adam'}"
      ]
     },
     "execution_count": 99,
     "metadata": {},
     "output_type": "execute_result"
    }
   ],
   "source": [
    "top3_params = random_search_tuner.get_best_hyperparameters(num_trials=3)\n",
    "top3_params[0].values  # best hyperparameter values"
   ]
  },
  {
   "cell_type": "code",
   "execution_count": 100,
   "id": "4a5e1662",
   "metadata": {
    "execution": {
     "iopub.execute_input": "2022-11-22T01:50:13.312683Z",
     "iopub.status.busy": "2022-11-22T01:50:13.310313Z",
     "iopub.status.idle": "2022-11-22T01:50:13.318588Z",
     "shell.execute_reply": "2022-11-22T01:50:13.317203Z"
    },
    "papermill": {
     "duration": 0.401724,
     "end_time": "2022-11-22T01:50:13.321913",
     "exception": false,
     "start_time": "2022-11-22T01:50:12.920189",
     "status": "completed"
    },
    "tags": []
   },
   "outputs": [
    {
     "name": "stdout",
     "output_type": "stream",
     "text": [
      "Trial summary\n",
      "Hyperparameters:\n",
      "n_hidden: 5\n",
      "n_neurons: 70\n",
      "learning_rate: 0.00041268008323824807\n",
      "optimizer: adam\n",
      "Score: 0.875\n"
     ]
    }
   ],
   "source": [
    "best_trial = random_search_tuner.oracle.get_best_trials(num_trials=1)[0]\n",
    "best_trial.summary()"
   ]
  },
  {
   "cell_type": "code",
   "execution_count": 101,
   "id": "91e6cf36",
   "metadata": {
    "execution": {
     "iopub.execute_input": "2022-11-22T01:50:14.181114Z",
     "iopub.status.busy": "2022-11-22T01:50:14.180083Z",
     "iopub.status.idle": "2022-11-22T01:50:14.186081Z",
     "shell.execute_reply": "2022-11-22T01:50:14.185446Z"
    },
    "papermill": {
     "duration": 0.471827,
     "end_time": "2022-11-22T01:50:14.187948",
     "exception": false,
     "start_time": "2022-11-22T01:50:13.716121",
     "status": "completed"
    },
    "tags": []
   },
   "outputs": [
    {
     "data": {
      "text/plain": [
       "0.875"
      ]
     },
     "execution_count": 101,
     "metadata": {},
     "output_type": "execute_result"
    }
   ],
   "source": [
    "best_trial.metrics.get_last_value(\"val_accuracy\")"
   ]
  },
  {
   "cell_type": "code",
   "execution_count": 102,
   "id": "8cbbb0f7",
   "metadata": {
    "execution": {
     "iopub.execute_input": "2022-11-22T01:50:14.973424Z",
     "iopub.status.busy": "2022-11-22T01:50:14.972732Z",
     "iopub.status.idle": "2022-11-22T01:51:36.099896Z",
     "shell.execute_reply": "2022-11-22T01:51:36.098165Z"
    },
    "papermill": {
     "duration": 81.525802,
     "end_time": "2022-11-22T01:51:36.102652",
     "exception": false,
     "start_time": "2022-11-22T01:50:14.576850",
     "status": "completed"
    },
    "tags": []
   },
   "outputs": [
    {
     "name": "stdout",
     "output_type": "stream",
     "text": [
      "Epoch 1/10\n",
      "1875/1875 [==============================] - 9s 4ms/step - loss: 0.3229 - accuracy: 0.8824\n",
      "Epoch 2/10\n",
      "1875/1875 [==============================] - 8s 4ms/step - loss: 0.3112 - accuracy: 0.8842\n",
      "Epoch 3/10\n",
      "1875/1875 [==============================] - 8s 4ms/step - loss: 0.3029 - accuracy: 0.8890\n",
      "Epoch 4/10\n",
      "1875/1875 [==============================] - 8s 4ms/step - loss: 0.2931 - accuracy: 0.8914\n",
      "Epoch 5/10\n",
      "1875/1875 [==============================] - 8s 4ms/step - loss: 0.2857 - accuracy: 0.8947\n",
      "Epoch 6/10\n",
      "1875/1875 [==============================] - 8s 4ms/step - loss: 0.2809 - accuracy: 0.8951\n",
      "Epoch 7/10\n",
      "1875/1875 [==============================] - 7s 4ms/step - loss: 0.2774 - accuracy: 0.8971\n",
      "Epoch 8/10\n",
      "1875/1875 [==============================] - 8s 4ms/step - loss: 0.2699 - accuracy: 0.8999\n",
      "Epoch 9/10\n",
      "1875/1875 [==============================] - 8s 5ms/step - loss: 0.2646 - accuracy: 0.9008\n",
      "Epoch 10/10\n",
      "1875/1875 [==============================] - 8s 4ms/step - loss: 0.2608 - accuracy: 0.9032\n",
      "313/313 [==============================] - 1s 3ms/step - loss: 0.3611 - accuracy: 0.8735\n"
     ]
    }
   ],
   "source": [
    "best_model.fit(X_train_full, y_train_full, epochs=10)\n",
    "test_loss, test_accuracy = best_model.evaluate(X_test, y_test)"
   ]
  },
  {
   "cell_type": "code",
   "execution_count": 103,
   "id": "61da00a4",
   "metadata": {
    "execution": {
     "iopub.execute_input": "2022-11-22T01:51:37.155289Z",
     "iopub.status.busy": "2022-11-22T01:51:37.154747Z",
     "iopub.status.idle": "2022-11-22T01:51:37.160306Z",
     "shell.execute_reply": "2022-11-22T01:51:37.159675Z"
    },
    "papermill": {
     "duration": 0.57249,
     "end_time": "2022-11-22T01:51:37.162275",
     "exception": false,
     "start_time": "2022-11-22T01:51:36.589785",
     "status": "completed"
    },
    "tags": []
   },
   "outputs": [],
   "source": [
    "class MyClassificationHyperModel(kt.HyperModel):\n",
    "    def build(self, hp):\n",
    "        return build_model(hp)\n",
    "\n",
    "    def fit(self, hp, model, X, y, **kwargs):\n",
    "        if hp.Boolean(\"normalize\"):\n",
    "            norm_layer = tf.keras.layers.Normalization()\n",
    "            X = norm_layer(X)\n",
    "        return model.fit(X, y, **kwargs)"
   ]
  },
  {
   "cell_type": "code",
   "execution_count": 104,
   "id": "a52f798e",
   "metadata": {
    "execution": {
     "iopub.execute_input": "2022-11-22T01:51:38.119581Z",
     "iopub.status.busy": "2022-11-22T01:51:38.118716Z",
     "iopub.status.idle": "2022-11-22T01:51:38.135617Z",
     "shell.execute_reply": "2022-11-22T01:51:38.134641Z"
    },
    "papermill": {
     "duration": 0.497053,
     "end_time": "2022-11-22T01:51:38.138154",
     "exception": false,
     "start_time": "2022-11-22T01:51:37.641101",
     "status": "completed"
    },
    "tags": []
   },
   "outputs": [],
   "source": [
    "hyperband_tuner = kt.Hyperband(\n",
    "    MyClassificationHyperModel(), objective=\"val_accuracy\", seed=42,\n",
    "    max_epochs=10, factor=3, hyperband_iterations=2,\n",
    "    overwrite=True, directory=\"my_fashion_mnist\", project_name=\"hyperband\")"
   ]
  },
  {
   "cell_type": "code",
   "execution_count": 105,
   "id": "c4902a00",
   "metadata": {
    "execution": {
     "iopub.execute_input": "2022-11-22T01:51:39.166745Z",
     "iopub.status.busy": "2022-11-22T01:51:39.165283Z",
     "iopub.status.idle": "2022-11-22T02:23:38.649065Z",
     "shell.execute_reply": "2022-11-22T02:23:38.647163Z"
    },
    "papermill": {
     "duration": 1920.038384,
     "end_time": "2022-11-22T02:23:38.652587",
     "exception": false,
     "start_time": "2022-11-22T01:51:38.614203",
     "status": "completed"
    },
    "tags": []
   },
   "outputs": [
    {
     "name": "stdout",
     "output_type": "stream",
     "text": [
      "Trial 60 Complete [00h 01m 27s]\n",
      "val_accuracy: 0.8199999928474426\n",
      "\n",
      "Best val_accuracy So Far: 0.8687999844551086\n",
      "Total elapsed time: 00h 31m 59s\n"
     ]
    }
   ],
   "source": [
    "root_logdir = Path(hyperband_tuner.project_dir) / \"tensorboard\"\n",
    "tensorboard_cb = tf.keras.callbacks.TensorBoard(root_logdir)\n",
    "early_stopping_cb = tf.keras.callbacks.EarlyStopping(patience=2)\n",
    "hyperband_tuner.search(X_train, y_train, epochs=10,\n",
    "                       validation_data=(X_valid, y_valid),\n",
    "                       callbacks=[early_stopping_cb, tensorboard_cb])"
   ]
  },
  {
   "cell_type": "code",
   "execution_count": 106,
   "id": "6ecb97bb",
   "metadata": {
    "execution": {
     "iopub.execute_input": "2022-11-22T02:23:39.692105Z",
     "iopub.status.busy": "2022-11-22T02:23:39.691629Z",
     "iopub.status.idle": "2022-11-22T02:32:46.074964Z",
     "shell.execute_reply": "2022-11-22T02:32:46.073858Z"
    },
    "papermill": {
     "duration": 546.925347,
     "end_time": "2022-11-22T02:32:46.076933",
     "exception": false,
     "start_time": "2022-11-22T02:23:39.151586",
     "status": "completed"
    },
    "tags": []
   },
   "outputs": [
    {
     "name": "stdout",
     "output_type": "stream",
     "text": [
      "Trial 10 Complete [00h 00m 45s]\n",
      "val_accuracy: 0.7982000112533569\n",
      "\n",
      "Best val_accuracy So Far: 0.868399977684021\n",
      "Total elapsed time: 00h 09m 06s\n"
     ]
    }
   ],
   "source": [
    "bayesian_opt_tuner = kt.BayesianOptimization(\n",
    "    MyClassificationHyperModel(), objective=\"val_accuracy\", seed=42,\n",
    "    max_trials=10, alpha=1e-4, beta=2.6,\n",
    "    overwrite=True, directory=\"my_fashion_mnist\", project_name=\"bayesian_opt\")\n",
    "bayesian_opt_tuner.search(X_train, y_train, epochs=10,\n",
    "                          validation_data=(X_valid, y_valid),\n",
    "                          callbacks=[early_stopping_cb])"
   ]
  },
  {
   "cell_type": "code",
   "execution_count": 107,
   "id": "57a6acd5",
   "metadata": {
    "execution": {
     "iopub.execute_input": "2022-11-22T02:32:47.125153Z",
     "iopub.status.busy": "2022-11-22T02:32:47.124212Z",
     "iopub.status.idle": "2022-11-22T02:32:50.674814Z",
     "shell.execute_reply": "2022-11-22T02:32:50.673562Z"
    },
    "papermill": {
     "duration": 4.039789,
     "end_time": "2022-11-22T02:32:50.677081",
     "exception": false,
     "start_time": "2022-11-22T02:32:46.637292",
     "status": "completed"
    },
    "tags": []
   },
   "outputs": [
    {
     "data": {
      "text/html": [
       "\n",
       "      <iframe id=\"tensorboard-frame-befb237fa2f2ceca\" width=\"100%\" height=\"800\" frameborder=\"0\">\n",
       "      </iframe>\n",
       "      <script>\n",
       "        (function() {\n",
       "          const frame = document.getElementById(\"tensorboard-frame-befb237fa2f2ceca\");\n",
       "          const url = new URL(\"/\", window.location);\n",
       "          const port = 6007;\n",
       "          if (port) {\n",
       "            url.port = port;\n",
       "          }\n",
       "          frame.src = url;\n",
       "        })();\n",
       "      </script>\n",
       "    "
      ],
      "text/plain": [
       "<IPython.core.display.HTML object>"
      ]
     },
     "metadata": {},
     "output_type": "display_data"
    }
   ],
   "source": [
    "%tensorboard --logdir {root_logdir}"
   ]
  },
  {
   "cell_type": "markdown",
   "id": "0b88888f",
   "metadata": {
    "papermill": {
     "duration": 0.475033,
     "end_time": "2022-11-22T02:32:51.630198",
     "exception": false,
     "start_time": "2022-11-22T02:32:51.155165",
     "status": "completed"
    },
    "tags": []
   },
   "source": [
    "# Exercise solutions"
   ]
  },
  {
   "cell_type": "markdown",
   "id": "cc06685f",
   "metadata": {
    "papermill": {
     "duration": 0.47592,
     "end_time": "2022-11-22T02:32:52.669042",
     "exception": false,
     "start_time": "2022-11-22T02:32:52.193122",
     "status": "completed"
    },
    "tags": []
   },
   "source": [
    "## 1. to 9."
   ]
  },
  {
   "cell_type": "markdown",
   "id": "b9cbce4e",
   "metadata": {
    "papermill": {
     "duration": 0.481871,
     "end_time": "2022-11-22T02:32:53.625779",
     "exception": false,
     "start_time": "2022-11-22T02:32:53.143908",
     "status": "completed"
    },
    "tags": []
   },
   "source": [
    "1. Visit the [TensorFlow Playground](https://playground.tensorflow.org/) and play around with it, as described in this exercise.\n",
    "2. Here is a neural network based on the original artificial neurons that computes _A_ ⊕ _B_ (where ⊕ represents the exclusive OR), using the fact that _A_ ⊕ _B_ = (_A_ ∧ ¬ _B_) ∨ (¬ _A_ ∧ _B_). There are other solutions—for example, using the fact that _A_ ⊕ _B_ = (_A_ ∨ _B_) ∧ ¬(_A_ ∧ _B_), or the fact that _A_ ⊕ _B_ = (_A_ ∨ _B_) ∧ (¬ _A_ ∨ ¬ _B_), and so on.<br /><img width=\"70%\" src=\"images/ann/exercise2.png\" />\n",
    "3. A classical Perceptron will converge only if the dataset is linearly separable, and it won't be able to estimate class probabilities. In contrast, a Logistic Regression classifier will generally converge to a reasonably good solution even if the dataset is not linearly separable, and it will output class probabilities. If you change the Perceptron's activation function to the sigmoid activation function (or the softmax activation function if there are multiple neurons), and if you train it using Gradient Descent (or some other optimization algorithm minimizing the cost function, typically cross entropy), then it becomes equivalent to a Logistic Regression classifier.\n",
    "4. The sigmoid activation function was a key ingredient in training the first MLPs because its derivative is always nonzero, so Gradient Descent can always roll down the slope. When the activation function is a step function, Gradient Descent cannot move, as there is no slope at all.\n",
    "5. Popular activation functions include the step function, the sigmoid function, the hyperbolic tangent (tanh) function, and the Rectified Linear Unit (ReLU) function (see Figure 10-8). See Chapter 11 for other examples, such as ELU and variants of the ReLU function.\n",
    "6. Considering the MLP described in the question, composed of one input layer with 10 passthrough neurons, followed by one hidden layer with 50 artificial neurons, and finally one output layer with 3 artificial neurons, where all artificial neurons use the ReLU activation function:\n",
    "    * The shape of the input matrix **X** is _m_ × 10, where _m_ represents the training batch size.\n",
    "    * The shape of the hidden layer's weight matrix **W**<sub>_h_</sub> is 10 × 50, and the length of its bias vector **b**<sub>_h_</sub> is 50.\n",
    "    * The shape of the output layer's weight matrix **W**<sub>_o_</sub> is 50 × 3, and the length of its bias vector **b**<sub>_o_</sub> is 3.\n",
    "    * The shape of the network's output matrix **Y** is _m_ × 3.\n",
    "    * **Y** = ReLU(ReLU(**X** **W**<sub>_h_</sub> + **b**<sub>_h_</sub>) **W**<sub>_o_</sub> + **b**<sub>_o_</sub>). Recall that the ReLU function just sets every negative number in the matrix to zero. Also note that when you are adding a bias vector to a matrix, it is added to every single row in the matrix, which is called _broadcasting_.\n",
    "7. To classify email into spam or ham, you just need one neuron in the output layer of a neural network—for example, indicating the probability that the email is spam. You would typically use the sigmoid activation function in the output layer when estimating a probability. If instead you want to tackle MNIST, you need 10 neurons in the output layer, and you must replace the sigmoid function with the softmax activation function, which can handle multiple classes, outputting one probability per class. If you want your neural network to predict housing prices like in Chapter 2, then you need one output neuron, using no activation function at all in the output layer. Note: when the values to predict can vary by many orders of magnitude, you may want to predict the logarithm of the target value rather than the target value directly. Simply computing the exponential of the neural network's output will give you the estimated value (since exp(log _v_) = _v_).\n",
    "8. Backpropagation is a technique used to train artificial neural networks. It first computes the gradients of the cost function with regard to every model parameter (all the weights and biases), then it performs a Gradient Descent step using these gradients. This backpropagation step is typically performed thousands or millions of times, using many training batches, until the model parameters converge to values that (hopefully) minimize the cost function. To compute the gradients, backpropagation uses reverse-mode autodiff (although it wasn't called that when backpropagation was invented, and it has been reinvented several times). Reverse-mode autodiff performs a forward pass through a computation graph, computing every node's value for the current training batch, and then it performs a reverse pass, computing all the gradients at once (see Appendix B for more details). So what's the difference? Well, backpropagation refers to the whole process of training an artificial neural network using multiple backpropagation steps, each of which computes gradients and uses them to perform a Gradient Descent step. In contrast, reverse-mode autodiff is just a technique to compute gradients efficiently, and it happens to be used by backpropagation.\n",
    "9. Here is a list of all the hyperparameters you can tweak in a basic MLP: the number of hidden layers, the number of neurons in each hidden layer, and the activation function used in each hidden layer and in the output layer. In general, the ReLU activation function (or one of its variants; see Chapter 11) is a good default for the hidden layers. For the output layer, in general you will want the sigmoid activation function for binary classification, the softmax activation function for multiclass classification, or no activation function for regression. If the MLP overfits the training data, you can try reducing the number of hidden layers and reducing the number of neurons per hidden layer."
   ]
  },
  {
   "cell_type": "markdown",
   "id": "5db1f407",
   "metadata": {
    "papermill": {
     "duration": 0.476847,
     "end_time": "2022-11-22T02:32:54.662774",
     "exception": false,
     "start_time": "2022-11-22T02:32:54.185927",
     "status": "completed"
    },
    "tags": []
   },
   "source": [
    "## 10."
   ]
  },
  {
   "cell_type": "markdown",
   "id": "ec6441d6",
   "metadata": {
    "papermill": {
     "duration": 0.473879,
     "end_time": "2022-11-22T02:32:55.702218",
     "exception": false,
     "start_time": "2022-11-22T02:32:55.228339",
     "status": "completed"
    },
    "tags": []
   },
   "source": [
    "*Exercise: Train a deep MLP on the MNIST dataset (you can load it using `tf.keras.datasets.mnist.load_data()`. See if you can get over 98% accuracy by manually tuning the hyperparameters. Try searching for the optimal learning rate by using the approach presented in this chapter (i.e., by growing the learning rate exponentially, plotting the loss, and finding the point where the loss shoots up). Next, try tuning the hyperparameters using Keras Tuner with all the bells and whistles—save checkpoints, use early stopping, and plot learning curves using TensorBoard.*"
   ]
  },
  {
   "cell_type": "markdown",
   "id": "f75c519c",
   "metadata": {
    "papermill": {
     "duration": 0.476178,
     "end_time": "2022-11-22T02:32:56.655150",
     "exception": false,
     "start_time": "2022-11-22T02:32:56.178972",
     "status": "completed"
    },
    "tags": []
   },
   "source": [
    "**TODO**: update this solution to use Keras Tuner."
   ]
  },
  {
   "cell_type": "markdown",
   "id": "5a8a4107",
   "metadata": {
    "papermill": {
     "duration": 0.552044,
     "end_time": "2022-11-22T02:32:57.682944",
     "exception": false,
     "start_time": "2022-11-22T02:32:57.130900",
     "status": "completed"
    },
    "tags": []
   },
   "source": [
    "Let's load the dataset:"
   ]
  },
  {
   "cell_type": "code",
   "execution_count": 108,
   "id": "5a3b9b89",
   "metadata": {
    "execution": {
     "iopub.execute_input": "2022-11-22T02:32:58.741247Z",
     "iopub.status.busy": "2022-11-22T02:32:58.740868Z",
     "iopub.status.idle": "2022-11-22T02:33:00.094788Z",
     "shell.execute_reply": "2022-11-22T02:33:00.093518Z"
    },
    "papermill": {
     "duration": 1.938067,
     "end_time": "2022-11-22T02:33:00.097506",
     "exception": false,
     "start_time": "2022-11-22T02:32:58.159439",
     "status": "completed"
    },
    "tags": []
   },
   "outputs": [
    {
     "name": "stdout",
     "output_type": "stream",
     "text": [
      "Downloading data from https://storage.googleapis.com/tensorflow/tf-keras-datasets/mnist.npz\n",
      "11493376/11490434 [==============================] - 1s 0us/step\n",
      "11501568/11490434 [==============================] - 1s 0us/step\n"
     ]
    }
   ],
   "source": [
    "(X_train_full, y_train_full), (X_test, y_test) = tf.keras.datasets.mnist.load_data()"
   ]
  },
  {
   "cell_type": "markdown",
   "id": "62c481e4",
   "metadata": {
    "papermill": {
     "duration": 0.477571,
     "end_time": "2022-11-22T02:33:01.053619",
     "exception": false,
     "start_time": "2022-11-22T02:33:00.576048",
     "status": "completed"
    },
    "tags": []
   },
   "source": [
    "Just like for the Fashion MNIST dataset, the MNIST training set contains 60,000 grayscale images, each 28x28 pixels:"
   ]
  },
  {
   "cell_type": "code",
   "execution_count": 109,
   "id": "b691630b",
   "metadata": {
    "execution": {
     "iopub.execute_input": "2022-11-22T02:33:02.140851Z",
     "iopub.status.busy": "2022-11-22T02:33:02.139753Z",
     "iopub.status.idle": "2022-11-22T02:33:02.146425Z",
     "shell.execute_reply": "2022-11-22T02:33:02.145618Z"
    },
    "papermill": {
     "duration": 0.597539,
     "end_time": "2022-11-22T02:33:02.148150",
     "exception": false,
     "start_time": "2022-11-22T02:33:01.550611",
     "status": "completed"
    },
    "tags": []
   },
   "outputs": [
    {
     "data": {
      "text/plain": [
       "(60000, 28, 28)"
      ]
     },
     "execution_count": 109,
     "metadata": {},
     "output_type": "execute_result"
    }
   ],
   "source": [
    "X_train_full.shape"
   ]
  },
  {
   "cell_type": "markdown",
   "id": "439eaea8",
   "metadata": {
    "papermill": {
     "duration": 0.48203,
     "end_time": "2022-11-22T02:33:03.129034",
     "exception": false,
     "start_time": "2022-11-22T02:33:02.647004",
     "status": "completed"
    },
    "tags": []
   },
   "source": [
    "Each pixel intensity is also represented as a byte (0 to 255):"
   ]
  },
  {
   "cell_type": "code",
   "execution_count": 110,
   "id": "403df16f",
   "metadata": {
    "execution": {
     "iopub.execute_input": "2022-11-22T02:33:04.169933Z",
     "iopub.status.busy": "2022-11-22T02:33:04.169332Z",
     "iopub.status.idle": "2022-11-22T02:33:04.175741Z",
     "shell.execute_reply": "2022-11-22T02:33:04.173798Z"
    },
    "papermill": {
     "duration": 0.494067,
     "end_time": "2022-11-22T02:33:04.178314",
     "exception": false,
     "start_time": "2022-11-22T02:33:03.684247",
     "status": "completed"
    },
    "tags": []
   },
   "outputs": [
    {
     "data": {
      "text/plain": [
       "dtype('uint8')"
      ]
     },
     "execution_count": 110,
     "metadata": {},
     "output_type": "execute_result"
    }
   ],
   "source": [
    "X_train_full.dtype"
   ]
  },
  {
   "cell_type": "markdown",
   "id": "a7758cb5",
   "metadata": {
    "papermill": {
     "duration": 0.4902,
     "end_time": "2022-11-22T02:33:05.152875",
     "exception": false,
     "start_time": "2022-11-22T02:33:04.662675",
     "status": "completed"
    },
    "tags": []
   },
   "source": [
    "Let's split the full training set into a validation set and a (smaller) training set. We also scale the pixel intensities down to the 0-1 range and convert them to floats, by dividing by 255, just like we did for Fashion MNIST:"
   ]
  },
  {
   "cell_type": "code",
   "execution_count": 111,
   "id": "d4a16b6b",
   "metadata": {
    "execution": {
     "iopub.execute_input": "2022-11-22T02:33:06.201034Z",
     "iopub.status.busy": "2022-11-22T02:33:06.200704Z",
     "iopub.status.idle": "2022-11-22T02:33:06.302400Z",
     "shell.execute_reply": "2022-11-22T02:33:06.300500Z"
    },
    "papermill": {
     "duration": 0.589317,
     "end_time": "2022-11-22T02:33:06.305028",
     "exception": false,
     "start_time": "2022-11-22T02:33:05.715711",
     "status": "completed"
    },
    "tags": []
   },
   "outputs": [],
   "source": [
    "X_valid, X_train = X_train_full[:5000] / 255., X_train_full[5000:] / 255.\n",
    "y_valid, y_train = y_train_full[:5000], y_train_full[5000:]\n",
    "X_test = X_test / 255."
   ]
  },
  {
   "cell_type": "markdown",
   "id": "ec78360b",
   "metadata": {
    "papermill": {
     "duration": 0.551516,
     "end_time": "2022-11-22T02:33:07.335802",
     "exception": false,
     "start_time": "2022-11-22T02:33:06.784286",
     "status": "completed"
    },
    "tags": []
   },
   "source": [
    "Let's plot an image using Matplotlib's `imshow()` function, with a `'binary'`\n",
    " color map:"
   ]
  },
  {
   "cell_type": "code",
   "execution_count": 112,
   "id": "fd9ef088",
   "metadata": {
    "execution": {
     "iopub.execute_input": "2022-11-22T02:33:08.289895Z",
     "iopub.status.busy": "2022-11-22T02:33:08.289554Z",
     "iopub.status.idle": "2022-11-22T02:33:08.366869Z",
     "shell.execute_reply": "2022-11-22T02:33:08.366055Z"
    },
    "papermill": {
     "duration": 0.556413,
     "end_time": "2022-11-22T02:33:08.369065",
     "exception": false,
     "start_time": "2022-11-22T02:33:07.812652",
     "status": "completed"
    },
    "tags": []
   },
   "outputs": [
    {
     "data": {
      "image/png": "[encoded data removed]",
      "text/plain": [
       "<Figure size 432x288 with 1 Axes>"
      ]
     },
     "metadata": {
      "needs_background": "light"
     },
     "output_type": "display_data"
    }
   ],
   "source": [
    "plt.imshow(X_train[0], cmap=\"binary\")\n",
    "plt.axis('off')\n",
    "plt.show()"
   ]
  },
  {
   "cell_type": "markdown",
   "id": "201b2a1c",
   "metadata": {
    "papermill": {
     "duration": 0.553785,
     "end_time": "2022-11-22T02:33:09.412927",
     "exception": false,
     "start_time": "2022-11-22T02:33:08.859142",
     "status": "completed"
    },
    "tags": []
   },
   "source": [
    "The labels are the class IDs (represented as uint8), from 0 to 9. Conveniently, the class IDs correspond to the digits represented in the images, so we don't need a `class_names` array:"
   ]
  },
  {
   "cell_type": "code",
   "execution_count": 113,
   "id": "0700ca05",
   "metadata": {
    "execution": {
     "iopub.execute_input": "2022-11-22T02:33:10.379857Z",
     "iopub.status.busy": "2022-11-22T02:33:10.379361Z",
     "iopub.status.idle": "2022-11-22T02:33:10.385326Z",
     "shell.execute_reply": "2022-11-22T02:33:10.384559Z"
    },
    "papermill": {
     "duration": 0.490497,
     "end_time": "2022-11-22T02:33:10.387051",
     "exception": false,
     "start_time": "2022-11-22T02:33:09.896554",
     "status": "completed"
    },
    "tags": []
   },
   "outputs": [
    {
     "data": {
      "text/plain": [
       "array([7, 3, 4, ..., 5, 6, 8], dtype=uint8)"
      ]
     },
     "execution_count": 113,
     "metadata": {},
     "output_type": "execute_result"
    }
   ],
   "source": [
    "y_train"
   ]
  },
  {
   "cell_type": "markdown",
   "id": "c44a4057",
   "metadata": {
    "papermill": {
     "duration": 0.477072,
     "end_time": "2022-11-22T02:33:11.428407",
     "exception": false,
     "start_time": "2022-11-22T02:33:10.951335",
     "status": "completed"
    },
    "tags": []
   },
   "source": [
    "The validation set contains 5,000 images, and the test set contains 10,000 images:"
   ]
  },
  {
   "cell_type": "code",
   "execution_count": 114,
   "id": "e2d18db4",
   "metadata": {
    "execution": {
     "iopub.execute_input": "2022-11-22T02:33:12.392254Z",
     "iopub.status.busy": "2022-11-22T02:33:12.391744Z",
     "iopub.status.idle": "2022-11-22T02:33:12.398324Z",
     "shell.execute_reply": "2022-11-22T02:33:12.396975Z"
    },
    "papermill": {
     "duration": 0.492377,
     "end_time": "2022-11-22T02:33:12.400212",
     "exception": false,
     "start_time": "2022-11-22T02:33:11.907835",
     "status": "completed"
    },
    "tags": []
   },
   "outputs": [
    {
     "data": {
      "text/plain": [
       "(5000, 28, 28)"
      ]
     },
     "execution_count": 114,
     "metadata": {},
     "output_type": "execute_result"
    }
   ],
   "source": [
    "X_valid.shape"
   ]
  },
  {
   "cell_type": "code",
   "execution_count": 115,
   "id": "37b50666",
   "metadata": {
    "execution": {
     "iopub.execute_input": "2022-11-22T02:33:13.447822Z",
     "iopub.status.busy": "2022-11-22T02:33:13.447120Z",
     "iopub.status.idle": "2022-11-22T02:33:13.453085Z",
     "shell.execute_reply": "2022-11-22T02:33:13.451683Z"
    },
    "papermill": {
     "duration": 0.487679,
     "end_time": "2022-11-22T02:33:13.455443",
     "exception": false,
     "start_time": "2022-11-22T02:33:12.967764",
     "status": "completed"
    },
    "tags": []
   },
   "outputs": [
    {
     "data": {
      "text/plain": [
       "(10000, 28, 28)"
      ]
     },
     "execution_count": 115,
     "metadata": {},
     "output_type": "execute_result"
    }
   ],
   "source": [
    "X_test.shape"
   ]
  },
  {
   "cell_type": "markdown",
   "id": "53c44312",
   "metadata": {
    "papermill": {
     "duration": 0.470843,
     "end_time": "2022-11-22T02:33:14.399846",
     "exception": false,
     "start_time": "2022-11-22T02:33:13.929003",
     "status": "completed"
    },
    "tags": []
   },
   "source": [
    "Let's take a look at a sample of the images in the dataset:"
   ]
  },
  {
   "cell_type": "code",
   "execution_count": 116,
   "id": "32861b35",
   "metadata": {
    "execution": {
     "iopub.execute_input": "2022-11-22T02:33:15.421568Z",
     "iopub.status.busy": "2022-11-22T02:33:15.420831Z",
     "iopub.status.idle": "2022-11-22T02:33:16.501951Z",
     "shell.execute_reply": "2022-11-22T02:33:16.500874Z"
    },
    "papermill": {
     "duration": 1.560526,
     "end_time": "2022-11-22T02:33:16.504223",
     "exception": false,
     "start_time": "2022-11-22T02:33:14.943697",
     "status": "completed"
    },
    "tags": []
   },
   "outputs": [
    {
     "data": {
      "image/png": "[encoded data removed]",
      "text/plain": [
       "<Figure size 864x345.6 with 40 Axes>"
      ]
     },
     "metadata": {
      "needs_background": "light"
     },
     "output_type": "display_data"
    }
   ],
   "source": [
    "n_rows = 4\n",
    "n_cols = 10\n",
    "plt.figure(figsize=(n_cols * 1.2, n_rows * 1.2))\n",
    "for row in range(n_rows):\n",
    "    for col in range(n_cols):\n",
    "        index = n_cols * row + col\n",
    "        plt.subplot(n_rows, n_cols, index + 1)\n",
    "        plt.imshow(X_train[index], cmap=\"binary\", interpolation=\"nearest\")\n",
    "        plt.axis('off')\n",
    "        plt.title(y_train[index])\n",
    "plt.subplots_adjust(wspace=0.2, hspace=0.5)\n",
    "plt.show()"
   ]
  },
  {
   "cell_type": "markdown",
   "id": "77120e7c",
   "metadata": {
    "papermill": {
     "duration": 0.478146,
     "end_time": "2022-11-22T02:33:17.564425",
     "exception": false,
     "start_time": "2022-11-22T02:33:17.086279",
     "status": "completed"
    },
    "tags": []
   },
   "source": [
    "Let's build a simple dense network and find the optimal learning rate. We will need a callback to grow the learning rate at each iteration. It will also record the learning rate and the loss at each iteration:"
   ]
  },
  {
   "cell_type": "code",
   "execution_count": 117,
   "id": "9674983d",
   "metadata": {
    "execution": {
     "iopub.execute_input": "2022-11-22T02:33:18.517520Z",
     "iopub.status.busy": "2022-11-22T02:33:18.516899Z",
     "iopub.status.idle": "2022-11-22T02:33:18.524119Z",
     "shell.execute_reply": "2022-11-22T02:33:18.522512Z"
    },
    "papermill": {
     "duration": 0.487218,
     "end_time": "2022-11-22T02:33:18.526817",
     "exception": false,
     "start_time": "2022-11-22T02:33:18.039599",
     "status": "completed"
    },
    "tags": []
   },
   "outputs": [],
   "source": [
    "K = tf.keras.backend\n",
    "\n",
    "class ExponentialLearningRate(tf.keras.callbacks.Callback):\n",
    "    def __init__(self, factor):\n",
    "        self.factor = factor\n",
    "        self.rates = []\n",
    "        self.losses = []\n",
    "    def on_batch_end(self, batch, logs):\n",
    "        self.rates.append(K.get_value(self.model.optimizer.learning_rate))\n",
    "        self.losses.append(logs[\"loss\"])\n",
    "        K.set_value(self.model.optimizer.learning_rate, self.model.optimizer.learning_rate * self.factor)"
   ]
  },
  {
   "cell_type": "code",
   "execution_count": 118,
   "id": "791126ef",
   "metadata": {
    "execution": {
     "iopub.execute_input": "2022-11-22T02:33:19.555566Z",
     "iopub.status.busy": "2022-11-22T02:33:19.554829Z",
     "iopub.status.idle": "2022-11-22T02:33:19.566156Z",
     "shell.execute_reply": "2022-11-22T02:33:19.565012Z"
    },
    "papermill": {
     "duration": 0.561889,
     "end_time": "2022-11-22T02:33:19.568503",
     "exception": false,
     "start_time": "2022-11-22T02:33:19.006614",
     "status": "completed"
    },
    "tags": []
   },
   "outputs": [],
   "source": [
    "tf.keras.backend.clear_session()\n",
    "np.random.seed(42)\n",
    "tf.random.set_seed(42)"
   ]
  },
  {
   "cell_type": "code",
   "execution_count": 119,
   "id": "6488aad8",
   "metadata": {
    "execution": {
     "iopub.execute_input": "2022-11-22T02:33:20.606874Z",
     "iopub.status.busy": "2022-11-22T02:33:20.606493Z",
     "iopub.status.idle": "2022-11-22T02:33:20.647549Z",
     "shell.execute_reply": "2022-11-22T02:33:20.646125Z"
    },
    "papermill": {
     "duration": 0.600075,
     "end_time": "2022-11-22T02:33:20.650176",
     "exception": false,
     "start_time": "2022-11-22T02:33:20.050101",
     "status": "completed"
    },
    "tags": []
   },
   "outputs": [],
   "source": [
    "model = tf.keras.Sequential([\n",
    "    tf.keras.layers.Flatten(input_shape=[28, 28]),\n",
    "    tf.keras.layers.Dense(300, activation=\"relu\"),\n",
    "    tf.keras.layers.Dense(100, activation=\"relu\"),\n",
    "    tf.keras.layers.Dense(10, activation=\"softmax\")\n",
    "])"
   ]
  },
  {
   "cell_type": "markdown",
   "id": "e024b182",
   "metadata": {
    "papermill": {
     "duration": 0.476672,
     "end_time": "2022-11-22T02:33:21.606896",
     "exception": false,
     "start_time": "2022-11-22T02:33:21.130224",
     "status": "completed"
    },
    "tags": []
   },
   "source": [
    "We will start with a small learning rate of 1e-3, and grow it by 0.5% at each iteration:"
   ]
  },
  {
   "cell_type": "code",
   "execution_count": 120,
   "id": "28f66ac4",
   "metadata": {
    "execution": {
     "iopub.execute_input": "2022-11-22T02:33:22.657828Z",
     "iopub.status.busy": "2022-11-22T02:33:22.657104Z",
     "iopub.status.idle": "2022-11-22T02:33:22.666963Z",
     "shell.execute_reply": "2022-11-22T02:33:22.665770Z"
    },
    "papermill": {
     "duration": 0.577465,
     "end_time": "2022-11-22T02:33:22.669397",
     "exception": false,
     "start_time": "2022-11-22T02:33:22.091932",
     "status": "completed"
    },
    "tags": []
   },
   "outputs": [],
   "source": [
    "optimizer = tf.keras.optimizers.SGD(learning_rate=1e-3)\n",
    "model.compile(loss=\"sparse_categorical_crossentropy\", optimizer=optimizer,\n",
    "              metrics=[\"accuracy\"])\n",
    "expon_lr = ExponentialLearningRate(factor=1.005)"
   ]
  },
  {
   "cell_type": "markdown",
   "id": "929d3d52",
   "metadata": {
    "papermill": {
     "duration": 0.491623,
     "end_time": "2022-11-22T02:33:23.648092",
     "exception": false,
     "start_time": "2022-11-22T02:33:23.156469",
     "status": "completed"
    },
    "tags": []
   },
   "source": [
    "Now let's train the model for just 1 epoch:"
   ]
  },
  {
   "cell_type": "code",
   "execution_count": 121,
   "id": "1651314e",
   "metadata": {
    "execution": {
     "iopub.execute_input": "2022-11-22T02:33:24.714880Z",
     "iopub.status.busy": "2022-11-22T02:33:24.714517Z",
     "iopub.status.idle": "2022-11-22T02:33:32.174505Z",
     "shell.execute_reply": "2022-11-22T02:33:32.173425Z"
    },
    "papermill": {
     "duration": 7.955582,
     "end_time": "2022-11-22T02:33:32.177631",
     "exception": false,
     "start_time": "2022-11-22T02:33:24.222049",
     "status": "completed"
    },
    "tags": []
   },
   "outputs": [
    {
     "name": "stdout",
     "output_type": "stream",
     "text": [
      "1719/1719 [==============================] - 7s 4ms/step - loss: nan - accuracy: 0.5733 - val_loss: nan - val_accuracy: 0.0958\n"
     ]
    }
   ],
   "source": [
    "history = model.fit(X_train, y_train, epochs=1,\n",
    "                    validation_data=(X_valid, y_valid),\n",
    "                    callbacks=[expon_lr])"
   ]
  },
  {
   "cell_type": "markdown",
   "id": "08bd866d",
   "metadata": {
    "papermill": {
     "duration": 0.489415,
     "end_time": "2022-11-22T02:33:33.153942",
     "exception": false,
     "start_time": "2022-11-22T02:33:32.664527",
     "status": "completed"
    },
    "tags": []
   },
   "source": [
    "We can now plot the loss as a functionof the learning rate:"
   ]
  },
  {
   "cell_type": "code",
   "execution_count": 122,
   "id": "39a97fba",
   "metadata": {
    "execution": {
     "iopub.execute_input": "2022-11-22T02:33:34.245911Z",
     "iopub.status.busy": "2022-11-22T02:33:34.245217Z",
     "iopub.status.idle": "2022-11-22T02:33:34.781605Z",
     "shell.execute_reply": "2022-11-22T02:33:34.780246Z"
    },
    "papermill": {
     "duration": 1.034056,
     "end_time": "2022-11-22T02:33:34.785156",
     "exception": false,
     "start_time": "2022-11-22T02:33:33.751100",
     "status": "completed"
    },
    "tags": []
   },
   "outputs": [
    {
     "data": {
      "text/plain": [
       "Text(0, 0.5, 'Loss')"
      ]
     },
     "execution_count": 122,
     "metadata": {},
     "output_type": "execute_result"
    },
    {
     "data": {
      "image/png": "[encoded data removed]",
      "text/plain": [
       "<Figure size 432x288 with 1 Axes>"
      ]
     },
     "metadata": {
      "needs_background": "light"
     },
     "output_type": "display_data"
    }
   ],
   "source": [
    "plt.plot(expon_lr.rates, expon_lr.losses)\n",
    "plt.gca().set_xscale('log')\n",
    "plt.hlines(min(expon_lr.losses), min(expon_lr.rates), max(expon_lr.rates))\n",
    "plt.axis([min(expon_lr.rates), max(expon_lr.rates), 0, expon_lr.losses[0]])\n",
    "plt.grid()\n",
    "plt.xlabel(\"Learning rate\")\n",
    "plt.ylabel(\"Loss\")"
   ]
  },
  {
   "cell_type": "markdown",
   "id": "2645b338",
   "metadata": {
    "papermill": {
     "duration": 0.488737,
     "end_time": "2022-11-22T02:33:35.758356",
     "exception": false,
     "start_time": "2022-11-22T02:33:35.269619",
     "status": "completed"
    },
    "tags": []
   },
   "source": [
    "The loss starts shooting back up violently when the learning rate goes over 6e-1, so let's try using half of that, at 3e-1:"
   ]
  },
  {
   "cell_type": "code",
   "execution_count": 123,
   "id": "3b70e3a4",
   "metadata": {
    "execution": {
     "iopub.execute_input": "2022-11-22T02:33:36.813714Z",
     "iopub.status.busy": "2022-11-22T02:33:36.813354Z",
     "iopub.status.idle": "2022-11-22T02:33:36.821297Z",
     "shell.execute_reply": "2022-11-22T02:33:36.820461Z"
    },
    "papermill": {
     "duration": 0.492453,
     "end_time": "2022-11-22T02:33:36.823186",
     "exception": false,
     "start_time": "2022-11-22T02:33:36.330733",
     "status": "completed"
    },
    "tags": []
   },
   "outputs": [],
   "source": [
    "tf.keras.backend.clear_session()\n",
    "np.random.seed(42)\n",
    "tf.random.set_seed(42)"
   ]
  },
  {
   "cell_type": "code",
   "execution_count": 124,
   "id": "1f60865c",
   "metadata": {
    "execution": {
     "iopub.execute_input": "2022-11-22T02:33:37.887942Z",
     "iopub.status.busy": "2022-11-22T02:33:37.887245Z",
     "iopub.status.idle": "2022-11-22T02:33:37.928502Z",
     "shell.execute_reply": "2022-11-22T02:33:37.926694Z"
    },
    "papermill": {
     "duration": 0.531513,
     "end_time": "2022-11-22T02:33:37.931221",
     "exception": false,
     "start_time": "2022-11-22T02:33:37.399708",
     "status": "completed"
    },
    "tags": []
   },
   "outputs": [],
   "source": [
    "model = tf.keras.Sequential([\n",
    "    tf.keras.layers.Flatten(input_shape=[28, 28]),\n",
    "    tf.keras.layers.Dense(300, activation=\"relu\"),\n",
    "    tf.keras.layers.Dense(100, activation=\"relu\"),\n",
    "    tf.keras.layers.Dense(10, activation=\"softmax\")\n",
    "])"
   ]
  },
  {
   "cell_type": "code",
   "execution_count": 125,
   "id": "c4a57118",
   "metadata": {
    "execution": {
     "iopub.execute_input": "2022-11-22T02:33:38.912393Z",
     "iopub.status.busy": "2022-11-22T02:33:38.911811Z",
     "iopub.status.idle": "2022-11-22T02:33:38.921281Z",
     "shell.execute_reply": "2022-11-22T02:33:38.919655Z"
    },
    "papermill": {
     "duration": 0.504681,
     "end_time": "2022-11-22T02:33:38.923916",
     "exception": false,
     "start_time": "2022-11-22T02:33:38.419235",
     "status": "completed"
    },
    "tags": []
   },
   "outputs": [],
   "source": [
    "optimizer = tf.keras.optimizers.SGD(learning_rate=3e-1)\n",
    "model.compile(loss=\"sparse_categorical_crossentropy\", optimizer=optimizer,\n",
    "              metrics=[\"accuracy\"])"
   ]
  },
  {
   "cell_type": "code",
   "execution_count": 126,
   "id": "7bd37ab2",
   "metadata": {
    "execution": {
     "iopub.execute_input": "2022-11-22T02:33:39.998938Z",
     "iopub.status.busy": "2022-11-22T02:33:39.998248Z",
     "iopub.status.idle": "2022-11-22T02:33:40.004577Z",
     "shell.execute_reply": "2022-11-22T02:33:40.003100Z"
    },
    "papermill": {
     "duration": 0.507832,
     "end_time": "2022-11-22T02:33:40.007109",
     "exception": false,
     "start_time": "2022-11-22T02:33:39.499277",
     "status": "completed"
    },
    "tags": []
   },
   "outputs": [
    {
     "data": {
      "text/plain": [
       "PosixPath('my_mnist_logs/run_001')"
      ]
     },
     "execution_count": 126,
     "metadata": {},
     "output_type": "execute_result"
    }
   ],
   "source": [
    "run_index = 1 # increment this at every run\n",
    "run_logdir = Path() / \"my_mnist_logs\" / \"run_{:03d}\".format(run_index)\n",
    "run_logdir"
   ]
  },
  {
   "cell_type": "code",
   "execution_count": 127,
   "id": "3f01d163",
   "metadata": {
    "execution": {
     "iopub.execute_input": "2022-11-22T02:33:41.077758Z",
     "iopub.status.busy": "2022-11-22T02:33:41.077105Z",
     "iopub.status.idle": "2022-11-22T02:36:42.869495Z",
     "shell.execute_reply": "2022-11-22T02:36:42.867639Z"
    },
    "papermill": {
     "duration": 182.376022,
     "end_time": "2022-11-22T02:36:42.872533",
     "exception": false,
     "start_time": "2022-11-22T02:33:40.496511",
     "status": "completed"
    },
    "tags": []
   },
   "outputs": [
    {
     "name": "stderr",
     "output_type": "stream",
     "text": [
      "2022-11-22 02:33:41.080743: I tensorflow/core/profiler/lib/profiler_session.cc:131] Profiler session initializing.\n",
      "2022-11-22 02:33:41.081209: I tensorflow/core/profiler/lib/profiler_session.cc:146] Profiler session started.\n",
      "2022-11-22 02:33:41.081404: I tensorflow/core/profiler/lib/profiler_session.cc:164] Profiler session tear down.\n"
     ]
    },
    {
     "name": "stdout",
     "output_type": "stream",
     "text": [
      "Epoch 1/100\n",
      "   1/1719 [..............................] - ETA: 7:35 - loss: 2.5649 - accuracy: 0.0625"
     ]
    },
    {
     "name": "stderr",
     "output_type": "stream",
     "text": [
      "2022-11-22 02:33:41.498494: I tensorflow/core/profiler/lib/profiler_session.cc:131] Profiler session initializing.\n",
      "2022-11-22 02:33:41.498823: I tensorflow/core/profiler/lib/profiler_session.cc:146] Profiler session started.\n"
     ]
    },
    {
     "name": "stdout",
     "output_type": "stream",
     "text": [
      "  55/1719 [..............................] - ETA: 15s - loss: 1.1593 - accuracy: 0.6375"
     ]
    },
    {
     "name": "stderr",
     "output_type": "stream",
     "text": [
      "2022-11-22 02:33:41.815248: I tensorflow/core/profiler/lib/profiler_session.cc:66] Profiler session collecting data.\n",
      "2022-11-22 02:33:41.819413: I tensorflow/core/profiler/lib/profiler_session.cc:164] Profiler session tear down.\n",
      "2022-11-22 02:33:41.821003: I tensorflow/core/profiler/rpc/client/save_profile.cc:136] Creating directory: my_mnist_logs/run_001/train/plugins/profile/2022_11_22_02_33_41\n",
      "\n",
      "2022-11-22 02:33:41.822064: I tensorflow/core/profiler/rpc/client/save_profile.cc:142] Dumped gzipped tool data for trace.json.gz to my_mnist_logs/run_001/train/plugins/profile/2022_11_22_02_33_41/120f22547c6d.trace.json.gz\n",
      "2022-11-22 02:33:41.826480: I tensorflow/core/profiler/rpc/client/save_profile.cc:136] Creating directory: my_mnist_logs/run_001/train/plugins/profile/2022_11_22_02_33_41\n",
      "\n",
      "2022-11-22 02:33:41.827130: I tensorflow/core/profiler/rpc/client/save_profile.cc:142] Dumped gzipped tool data for memory_profile.json.gz to my_mnist_logs/run_001/train/plugins/profile/2022_11_22_02_33_41/120f22547c6d.memory_profile.json.gz\n",
      "2022-11-22 02:33:41.827622: I tensorflow/core/profiler/rpc/client/capture_profile.cc:251] Creating directory: my_mnist_logs/run_001/train/plugins/profile/2022_11_22_02_33_41\n",
      "Dumped tool data for xplane.pb to my_mnist_logs/run_001/train/plugins/profile/2022_11_22_02_33_41/120f22547c6d.xplane.pb\n",
      "Dumped tool data for overview_page.pb to my_mnist_logs/run_001/train/plugins/profile/2022_11_22_02_33_41/120f22547c6d.overview_page.pb\n",
      "Dumped tool data for input_pipeline.pb to my_mnist_logs/run_001/train/plugins/profile/2022_11_22_02_33_41/120f22547c6d.input_pipeline.pb\n",
      "Dumped tool data for tensorflow_stats.pb to my_mnist_logs/run_001/train/plugins/profile/2022_11_22_02_33_41/120f22547c6d.tensorflow_stats.pb\n",
      "Dumped tool data for kernel_stats.pb to my_mnist_logs/run_001/train/plugins/profile/2022_11_22_02_33_41/120f22547c6d.kernel_stats.pb\n",
      "\n"
     ]
    },
    {
     "name": "stdout",
     "output_type": "stream",
     "text": [
      "1719/1719 [==============================] - 7s 4ms/step - loss: 0.2356 - accuracy: 0.9263 - val_loss: 0.0995 - val_accuracy: 0.9724\n",
      "Epoch 2/100\n",
      "1719/1719 [==============================] - 7s 4ms/step - loss: 0.0942 - accuracy: 0.9707 - val_loss: 0.0996 - val_accuracy: 0.9708\n",
      "Epoch 3/100\n",
      "1719/1719 [==============================] - 7s 4ms/step - loss: 0.0655 - accuracy: 0.9793 - val_loss: 0.0753 - val_accuracy: 0.9772\n",
      "Epoch 4/100\n",
      "1719/1719 [==============================] - 7s 4ms/step - loss: 0.0482 - accuracy: 0.9847 - val_loss: 0.0815 - val_accuracy: 0.9784\n",
      "Epoch 5/100\n",
      "1719/1719 [==============================] - 7s 4ms/step - loss: 0.0348 - accuracy: 0.9887 - val_loss: 0.0739 - val_accuracy: 0.9798\n",
      "Epoch 6/100\n",
      "1719/1719 [==============================] - 7s 4ms/step - loss: 0.0298 - accuracy: 0.9905 - val_loss: 0.0676 - val_accuracy: 0.9826\n",
      "Epoch 7/100\n",
      "1719/1719 [==============================] - 7s 4ms/step - loss: 0.0235 - accuracy: 0.9921 - val_loss: 0.0829 - val_accuracy: 0.9792\n",
      "Epoch 8/100\n",
      "1719/1719 [==============================] - 7s 4ms/step - loss: 0.0213 - accuracy: 0.9931 - val_loss: 0.0904 - val_accuracy: 0.9762\n",
      "Epoch 9/100\n",
      "1719/1719 [==============================] - 7s 4ms/step - loss: 0.0158 - accuracy: 0.9954 - val_loss: 0.0886 - val_accuracy: 0.9810\n",
      "Epoch 10/100\n",
      "1719/1719 [==============================] - 7s 4ms/step - loss: 0.0141 - accuracy: 0.9955 - val_loss: 0.0847 - val_accuracy: 0.9818\n",
      "Epoch 11/100\n",
      "1719/1719 [==============================] - 7s 4ms/step - loss: 0.0077 - accuracy: 0.9975 - val_loss: 0.0797 - val_accuracy: 0.9832\n",
      "Epoch 12/100\n",
      "1719/1719 [==============================] - 7s 4ms/step - loss: 0.0102 - accuracy: 0.9968 - val_loss: 0.0988 - val_accuracy: 0.9776\n",
      "Epoch 13/100\n",
      "1719/1719 [==============================] - 7s 4ms/step - loss: 0.0117 - accuracy: 0.9962 - val_loss: 0.1075 - val_accuracy: 0.9756\n",
      "Epoch 14/100\n",
      "1719/1719 [==============================] - 7s 4ms/step - loss: 0.0093 - accuracy: 0.9970 - val_loss: 0.1014 - val_accuracy: 0.9798\n",
      "Epoch 15/100\n",
      "1719/1719 [==============================] - 7s 4ms/step - loss: 0.0059 - accuracy: 0.9981 - val_loss: 0.0889 - val_accuracy: 0.9838\n",
      "Epoch 16/100\n",
      "1719/1719 [==============================] - 7s 4ms/step - loss: 0.0051 - accuracy: 0.9984 - val_loss: 0.0957 - val_accuracy: 0.9820\n",
      "Epoch 17/100\n",
      "1719/1719 [==============================] - 7s 4ms/step - loss: 0.0105 - accuracy: 0.9968 - val_loss: 0.1133 - val_accuracy: 0.9816\n",
      "Epoch 18/100\n",
      "1719/1719 [==============================] - 7s 4ms/step - loss: 0.0122 - accuracy: 0.9960 - val_loss: 0.0977 - val_accuracy: 0.9814\n",
      "Epoch 19/100\n",
      "1719/1719 [==============================] - 7s 4ms/step - loss: 0.0136 - accuracy: 0.9960 - val_loss: 0.0997 - val_accuracy: 0.9810\n",
      "Epoch 20/100\n",
      "1719/1719 [==============================] - 7s 4ms/step - loss: 0.0054 - accuracy: 0.9983 - val_loss: 0.0959 - val_accuracy: 0.9828\n",
      "Epoch 21/100\n",
      "1719/1719 [==============================] - 7s 4ms/step - loss: 0.0023 - accuracy: 0.9993 - val_loss: 0.0942 - val_accuracy: 0.9850\n",
      "Epoch 22/100\n",
      "1719/1719 [==============================] - 7s 4ms/step - loss: 0.0014 - accuracy: 0.9995 - val_loss: 0.1008 - val_accuracy: 0.9836\n",
      "Epoch 23/100\n",
      "1719/1719 [==============================] - 7s 4ms/step - loss: 1.9746e-04 - accuracy: 1.0000 - val_loss: 0.0980 - val_accuracy: 0.9860\n",
      "Epoch 24/100\n",
      "1719/1719 [==============================] - 7s 4ms/step - loss: 6.9733e-05 - accuracy: 1.0000 - val_loss: 0.0991 - val_accuracy: 0.9866\n",
      "Epoch 25/100\n",
      "1719/1719 [==============================] - 7s 4ms/step - loss: 5.3753e-05 - accuracy: 1.0000 - val_loss: 0.0997 - val_accuracy: 0.9868\n",
      "Epoch 26/100\n",
      "1719/1719 [==============================] - 7s 4ms/step - loss: 4.5411e-05 - accuracy: 1.0000 - val_loss: 0.1004 - val_accuracy: 0.9868\n"
     ]
    }
   ],
   "source": [
    "early_stopping_cb = tf.keras.callbacks.EarlyStopping(patience=20)\n",
    "checkpoint_cb = tf.keras.callbacks.ModelCheckpoint(\"my_mnist_model\", save_best_only=True)\n",
    "tensorboard_cb = tf.keras.callbacks.TensorBoard(run_logdir)\n",
    "\n",
    "history = model.fit(X_train, y_train, epochs=100,\n",
    "                    validation_data=(X_valid, y_valid),\n",
    "                    callbacks=[checkpoint_cb, early_stopping_cb, tensorboard_cb])"
   ]
  },
  {
   "cell_type": "code",
   "execution_count": 128,
   "id": "4269da76",
   "metadata": {
    "execution": {
     "iopub.execute_input": "2022-11-22T02:36:44.214609Z",
     "iopub.status.busy": "2022-11-22T02:36:44.213933Z",
     "iopub.status.idle": "2022-11-22T02:36:45.412003Z",
     "shell.execute_reply": "2022-11-22T02:36:45.410584Z"
    },
    "papermill": {
     "duration": 1.87469,
     "end_time": "2022-11-22T02:36:45.414929",
     "exception": false,
     "start_time": "2022-11-22T02:36:43.540239",
     "status": "completed"
    },
    "tags": []
   },
   "outputs": [
    {
     "name": "stdout",
     "output_type": "stream",
     "text": [
      "313/313 [==============================] - 1s 3ms/step - loss: 0.0731 - accuracy: 0.9799\n"
     ]
    },
    {
     "data": {
      "text/plain": [
       "[0.07312726229429245, 0.9799000024795532]"
      ]
     },
     "execution_count": 128,
     "metadata": {},
     "output_type": "execute_result"
    }
   ],
   "source": [
    "model = tf.keras.models.load_model(\"my_mnist_model\") # rollback to best model\n",
    "model.evaluate(X_test, y_test)"
   ]
  },
  {
   "cell_type": "markdown",
   "id": "6b4bf171",
   "metadata": {
    "papermill": {
     "duration": 0.677531,
     "end_time": "2022-11-22T02:36:46.861801",
     "exception": false,
     "start_time": "2022-11-22T02:36:46.184270",
     "status": "completed"
    },
    "tags": []
   },
   "source": [
    "We got over 98% accuracy. Finally, let's look at the learning curves using TensorBoard:"
   ]
  },
  {
   "cell_type": "code",
   "execution_count": 129,
   "id": "d154c253",
   "metadata": {
    "execution": {
     "iopub.execute_input": "2022-11-22T02:36:48.288396Z",
     "iopub.status.busy": "2022-11-22T02:36:48.287714Z",
     "iopub.status.idle": "2022-11-22T02:36:51.337214Z",
     "shell.execute_reply": "2022-11-22T02:36:51.335425Z"
    },
    "papermill": {
     "duration": 3.722509,
     "end_time": "2022-11-22T02:36:51.340086",
     "exception": false,
     "start_time": "2022-11-22T02:36:47.617577",
     "status": "completed"
    },
    "tags": []
   },
   "outputs": [
    {
     "data": {
      "text/html": [
       "\n",
       "      <iframe id=\"tensorboard-frame-99efa44b65aa11a3\" width=\"100%\" height=\"800\" frameborder=\"0\">\n",
       "      </iframe>\n",
       "      <script>\n",
       "        (function() {\n",
       "          const frame = document.getElementById(\"tensorboard-frame-99efa44b65aa11a3\");\n",
       "          const url = new URL(\"/\", window.location);\n",
       "          const port = 6008;\n",
       "          if (port) {\n",
       "            url.port = port;\n",
       "          }\n",
       "          frame.src = url;\n",
       "        })();\n",
       "      </script>\n",
       "    "
      ],
      "text/plain": [
       "<IPython.core.display.HTML object>"
      ]
     },
     "metadata": {},
     "output_type": "display_data"
    }
   ],
   "source": [
    "%tensorboard --logdir=./my_mnist_logs"
   ]
  },
  {
   "cell_type": "code",
   "execution_count": null,
   "id": "ddc43463",
   "metadata": {
    "papermill": {
     "duration": 0.685846,
     "end_time": "2022-11-22T02:36:52.789518",
     "exception": false,
     "start_time": "2022-11-22T02:36:52.103672",
     "status": "completed"
    },
    "tags": []
   },
   "outputs": [],
   "source": []
  }
 ],
 "metadata": {
  "kernelspec": {
   "display_name": "Python 3",
   "language": "python",
   "name": "python3"
  },
  "language_info": {
   "codemirror_mode": {
    "name": "ipython",
    "version": 3
   },
   "file_extension": ".py",
   "mimetype": "text/x-python",
   "name": "python",
   "nbconvert_exporter": "python",
   "pygments_lexer": "ipython3",
   "version": "3.7.12"
  },
  "papermill": {
   "default_parameters": {},
   "duration": 3667.882267,
   "end_time": "2022-11-22T02:36:56.173407",
   "environment_variables": {},
   "exception": null,
   "input_path": "__notebook__.ipynb",
   "output_path": "__notebook__.ipynb",
   "parameters": {},
   "start_time": "2022-11-22T01:35:48.291140",
   "version": "2.3.4"
  }
 },
 "nbformat": 4,
 "nbformat_minor": 5
}
