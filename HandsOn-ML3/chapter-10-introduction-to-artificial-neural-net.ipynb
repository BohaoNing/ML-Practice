{
 "cells": [
  {
   "cell_type": "markdown",
   "id": "33bbe78f",
   "metadata": {
    "papermill": {
     "duration": 0.043712,
     "end_time": "2022-11-25T02:24:16.392538",
     "exception": false,
     "start_time": "2022-11-25T02:24:16.348826",
     "status": "completed"
    },
    "tags": []
   },
   "source": [
    "**Chapter 10 – Introduction to Artificial Neural Networks with Keras**"
   ]
  },
  {
   "cell_type": "markdown",
   "id": "67149a33",
   "metadata": {
    "papermill": {
     "duration": 0.04126,
     "end_time": "2022-11-25T02:24:16.472171",
     "exception": false,
     "start_time": "2022-11-25T02:24:16.430911",
     "status": "completed"
    },
    "tags": []
   },
   "source": [
    "_This notebook contains all the sample code and solutions to the exercises in chapter 10._"
   ]
  },
  {
   "cell_type": "markdown",
   "id": "5b31da7b",
   "metadata": {
    "papermill": {
     "duration": 0.042551,
     "end_time": "2022-11-25T02:24:16.561459",
     "exception": false,
     "start_time": "2022-11-25T02:24:16.518908",
     "status": "completed"
    },
    "tags": []
   },
   "source": [
    "<table align=\"left\">\n",
    "  <td>\n",
    "    <a href=\"https://colab.research.google.com/github/ageron/handson-ml3/blob/main/10_neural_nets_with_keras.ipynb\" target=\"_parent\"><img src=\"https://colab.research.google.com/assets/colab-badge.svg\" alt=\"Open In Colab\"/></a>\n",
    "  </td>\n",
    "  <td>\n",
    "    <a target=\"_blank\" href=\"https://kaggle.com/kernels/welcome?src=https://github.com/ageron/handson-ml3/blob/main/10_neural_nets_with_keras.ipynb\"><img src=\"https://kaggle.com/static/images/open-in-kaggle.svg\" /></a>\n",
    "  </td>\n",
    "</table>"
   ]
  },
  {
   "cell_type": "markdown",
   "id": "89b0fca5",
   "metadata": {
    "papermill": {
     "duration": 0.041626,
     "end_time": "2022-11-25T02:24:16.641911",
     "exception": false,
     "start_time": "2022-11-25T02:24:16.600285",
     "status": "completed"
    },
    "tags": []
   },
   "source": [
    "# Setup"
   ]
  },
  {
   "cell_type": "markdown",
   "id": "9752b790",
   "metadata": {
    "papermill": {
     "duration": 0.038681,
     "end_time": "2022-11-25T02:24:16.722281",
     "exception": false,
     "start_time": "2022-11-25T02:24:16.683600",
     "status": "completed"
    },
    "tags": []
   },
   "source": [
    "This project requires Python 3.7 or above:"
   ]
  },
  {
   "cell_type": "code",
   "execution_count": 1,
   "id": "fd8ad5ac",
   "metadata": {
    "execution": {
     "iopub.execute_input": "2022-11-25T02:24:16.802388Z",
     "iopub.status.busy": "2022-11-25T02:24:16.801393Z",
     "iopub.status.idle": "2022-11-25T02:24:16.812274Z",
     "shell.execute_reply": "2022-11-25T02:24:16.811048Z"
    },
    "papermill": {
     "duration": 0.052748,
     "end_time": "2022-11-25T02:24:16.814948",
     "exception": false,
     "start_time": "2022-11-25T02:24:16.762200",
     "status": "completed"
    },
    "tags": []
   },
   "outputs": [],
   "source": [
    "import sys\n",
    "\n",
    "assert sys.version_info >= (3, 7)"
   ]
  },
  {
   "cell_type": "markdown",
   "id": "98d7b9a1",
   "metadata": {
    "papermill": {
     "duration": 0.053063,
     "end_time": "2022-11-25T02:24:16.909085",
     "exception": false,
     "start_time": "2022-11-25T02:24:16.856022",
     "status": "completed"
    },
    "tags": []
   },
   "source": [
    "It also requires Scikit-Learn ≥ 1.0.1:"
   ]
  },
  {
   "cell_type": "code",
   "execution_count": 2,
   "id": "9b5f614d",
   "metadata": {
    "execution": {
     "iopub.execute_input": "2022-11-25T02:24:16.990281Z",
     "iopub.status.busy": "2022-11-25T02:24:16.989850Z",
     "iopub.status.idle": "2022-11-25T02:24:18.074333Z",
     "shell.execute_reply": "2022-11-25T02:24:18.073063Z"
    },
    "papermill": {
     "duration": 1.127183,
     "end_time": "2022-11-25T02:24:18.077529",
     "exception": false,
     "start_time": "2022-11-25T02:24:16.950346",
     "status": "completed"
    },
    "tags": []
   },
   "outputs": [],
   "source": [
    "from packaging import version\n",
    "import sklearn\n",
    "\n",
    "assert version.parse(sklearn.__version__) >= version.parse(\"1.0.1\")"
   ]
  },
  {
   "cell_type": "markdown",
   "id": "ae1bbb6d",
   "metadata": {
    "papermill": {
     "duration": 0.037845,
     "end_time": "2022-11-25T02:24:18.152894",
     "exception": false,
     "start_time": "2022-11-25T02:24:18.115049",
     "status": "completed"
    },
    "tags": []
   },
   "source": [
    "And TensorFlow ≥ 2.8:"
   ]
  },
  {
   "cell_type": "code",
   "execution_count": 3,
   "id": "1a09c2b4",
   "metadata": {
    "execution": {
     "iopub.execute_input": "2022-11-25T02:24:18.231028Z",
     "iopub.status.busy": "2022-11-25T02:24:18.230520Z",
     "iopub.status.idle": "2022-11-25T02:24:23.756961Z",
     "shell.execute_reply": "2022-11-25T02:24:23.755707Z"
    },
    "papermill": {
     "duration": 5.569303,
     "end_time": "2022-11-25T02:24:23.760193",
     "exception": false,
     "start_time": "2022-11-25T02:24:18.190890",
     "status": "completed"
    },
    "tags": []
   },
   "outputs": [],
   "source": [
    "import tensorflow as tf\n",
    "\n",
    "# assert version.parse(tf.__version__) >= version.parse(\"2.8.0\")"
   ]
  },
  {
   "cell_type": "markdown",
   "id": "6c1ee3c9",
   "metadata": {
    "papermill": {
     "duration": 0.037249,
     "end_time": "2022-11-25T02:24:23.835108",
     "exception": false,
     "start_time": "2022-11-25T02:24:23.797859",
     "status": "completed"
    },
    "tags": []
   },
   "source": [
    "As we did in previous chapters, let's define the default font sizes to make the figures prettier:"
   ]
  },
  {
   "cell_type": "code",
   "execution_count": 4,
   "id": "751a861b",
   "metadata": {
    "execution": {
     "iopub.execute_input": "2022-11-25T02:24:23.913292Z",
     "iopub.status.busy": "2022-11-25T02:24:23.912448Z",
     "iopub.status.idle": "2022-11-25T02:24:23.919627Z",
     "shell.execute_reply": "2022-11-25T02:24:23.918417Z"
    },
    "papermill": {
     "duration": 0.049309,
     "end_time": "2022-11-25T02:24:23.922322",
     "exception": false,
     "start_time": "2022-11-25T02:24:23.873013",
     "status": "completed"
    },
    "tags": []
   },
   "outputs": [],
   "source": [
    "import matplotlib.pyplot as plt\n",
    "\n",
    "plt.rc('font', size=14)\n",
    "plt.rc('axes', labelsize=14, titlesize=14)\n",
    "plt.rc('legend', fontsize=14)\n",
    "plt.rc('xtick', labelsize=10)\n",
    "plt.rc('ytick', labelsize=10)"
   ]
  },
  {
   "cell_type": "markdown",
   "id": "31ffc035",
   "metadata": {
    "papermill": {
     "duration": 0.037117,
     "end_time": "2022-11-25T02:24:23.997335",
     "exception": false,
     "start_time": "2022-11-25T02:24:23.960218",
     "status": "completed"
    },
    "tags": []
   },
   "source": [
    "And let's create the `images/ann` folder (if it doesn't already exist), and define the `save_fig()` function which is used through this notebook to save the figures in high-res for the book:"
   ]
  },
  {
   "cell_type": "code",
   "execution_count": 5,
   "id": "75e36849",
   "metadata": {
    "execution": {
     "iopub.execute_input": "2022-11-25T02:24:24.075254Z",
     "iopub.status.busy": "2022-11-25T02:24:24.074486Z",
     "iopub.status.idle": "2022-11-25T02:24:24.081160Z",
     "shell.execute_reply": "2022-11-25T02:24:24.080255Z"
    },
    "papermill": {
     "duration": 0.04823,
     "end_time": "2022-11-25T02:24:24.083616",
     "exception": false,
     "start_time": "2022-11-25T02:24:24.035386",
     "status": "completed"
    },
    "tags": []
   },
   "outputs": [],
   "source": [
    "from pathlib import Path\n",
    "\n",
    "IMAGES_PATH = Path() / \"images\" / \"ann\"\n",
    "IMAGES_PATH.mkdir(parents=True, exist_ok=True)\n",
    "\n",
    "def save_fig(fig_id, tight_layout=True, fig_extension=\"png\", resolution=300):\n",
    "    path = IMAGES_PATH / f\"{fig_id}.{fig_extension}\"\n",
    "    if tight_layout:\n",
    "        plt.tight_layout()\n",
    "    plt.savefig(path, format=fig_extension, dpi=resolution)"
   ]
  },
  {
   "cell_type": "markdown",
   "id": "977fd472",
   "metadata": {
    "papermill": {
     "duration": 0.037361,
     "end_time": "2022-11-25T02:24:24.159080",
     "exception": false,
     "start_time": "2022-11-25T02:24:24.121719",
     "status": "completed"
    },
    "tags": []
   },
   "source": [
    "# From Biological to Artificial Neurons\n",
    "## The Perceptron"
   ]
  },
  {
   "cell_type": "code",
   "execution_count": 6,
   "id": "e7d4f691",
   "metadata": {
    "execution": {
     "iopub.execute_input": "2022-11-25T02:24:24.236728Z",
     "iopub.status.busy": "2022-11-25T02:24:24.236258Z",
     "iopub.status.idle": "2022-11-25T02:24:24.769046Z",
     "shell.execute_reply": "2022-11-25T02:24:24.767560Z"
    },
    "papermill": {
     "duration": 0.575977,
     "end_time": "2022-11-25T02:24:24.772311",
     "exception": false,
     "start_time": "2022-11-25T02:24:24.196334",
     "status": "completed"
    },
    "tags": []
   },
   "outputs": [],
   "source": [
    "import numpy as np\n",
    "from sklearn.datasets import load_iris\n",
    "from sklearn.linear_model import Perceptron\n",
    "\n",
    "iris = load_iris(as_frame=True)\n",
    "X = iris.data[[\"petal length (cm)\", \"petal width (cm)\"]].values\n",
    "y = (iris.target == 0)  # Iris setosa\n",
    "\n",
    "per_clf = Perceptron(random_state=42)\n",
    "per_clf.fit(X, y)\n",
    "\n",
    "X_new = [[2, 0.5], [3, 1]]\n",
    "y_pred = per_clf.predict(X_new)  # predicts True and False for these 2 flowers"
   ]
  },
  {
   "cell_type": "code",
   "execution_count": 7,
   "id": "ebea8a34",
   "metadata": {
    "execution": {
     "iopub.execute_input": "2022-11-25T02:24:24.856212Z",
     "iopub.status.busy": "2022-11-25T02:24:24.855757Z",
     "iopub.status.idle": "2022-11-25T02:24:24.865277Z",
     "shell.execute_reply": "2022-11-25T02:24:24.864038Z"
    },
    "papermill": {
     "duration": 0.053874,
     "end_time": "2022-11-25T02:24:24.868107",
     "exception": false,
     "start_time": "2022-11-25T02:24:24.814233",
     "status": "completed"
    },
    "tags": []
   },
   "outputs": [
    {
     "data": {
      "text/plain": [
       "array([ True, False])"
      ]
     },
     "execution_count": 7,
     "metadata": {},
     "output_type": "execute_result"
    }
   ],
   "source": [
    "y_pred"
   ]
  },
  {
   "cell_type": "markdown",
   "id": "66ea598c",
   "metadata": {
    "papermill": {
     "duration": 0.039277,
     "end_time": "2022-11-25T02:24:24.945802",
     "exception": false,
     "start_time": "2022-11-25T02:24:24.906525",
     "status": "completed"
    },
    "tags": []
   },
   "source": [
    "The `Perceptron` is equivalent to a `SGDClassifier` with `loss=\"perceptron\"`, no regularization, and a constant learning rate equal to 1:"
   ]
  },
  {
   "cell_type": "code",
   "execution_count": 8,
   "id": "fc69fc08",
   "metadata": {
    "execution": {
     "iopub.execute_input": "2022-11-25T02:24:25.024763Z",
     "iopub.status.busy": "2022-11-25T02:24:25.023834Z",
     "iopub.status.idle": "2022-11-25T02:24:25.032680Z",
     "shell.execute_reply": "2022-11-25T02:24:25.031606Z"
    },
    "papermill": {
     "duration": 0.051144,
     "end_time": "2022-11-25T02:24:25.035361",
     "exception": false,
     "start_time": "2022-11-25T02:24:24.984217",
     "status": "completed"
    },
    "tags": []
   },
   "outputs": [],
   "source": [
    "# extra code – shows how to build and train a Perceptron\n",
    "\n",
    "from sklearn.linear_model import SGDClassifier\n",
    "\n",
    "sgd_clf = SGDClassifier(loss=\"perceptron\", penalty=None,\n",
    "                        learning_rate=\"constant\", eta0=1, random_state=42)\n",
    "sgd_clf.fit(X, y)\n",
    "assert (sgd_clf.coef_ == per_clf.coef_).all()\n",
    "assert (sgd_clf.intercept_ == per_clf.intercept_).all()"
   ]
  },
  {
   "cell_type": "markdown",
   "id": "96541323",
   "metadata": {
    "papermill": {
     "duration": 0.038448,
     "end_time": "2022-11-25T02:24:25.111778",
     "exception": false,
     "start_time": "2022-11-25T02:24:25.073330",
     "status": "completed"
    },
    "tags": []
   },
   "source": [
    "When the Perceptron finds a decision boundary that properly separates the classes, it stops learning. This means that the decision boundary is often quite close to one class:"
   ]
  },
  {
   "cell_type": "code",
   "execution_count": 9,
   "id": "6e35efda",
   "metadata": {
    "execution": {
     "iopub.execute_input": "2022-11-25T02:24:25.190694Z",
     "iopub.status.busy": "2022-11-25T02:24:25.189765Z",
     "iopub.status.idle": "2022-11-25T02:24:25.546361Z",
     "shell.execute_reply": "2022-11-25T02:24:25.545070Z"
    },
    "papermill": {
     "duration": 0.398923,
     "end_time": "2022-11-25T02:24:25.549090",
     "exception": false,
     "start_time": "2022-11-25T02:24:25.150167",
     "status": "completed"
    },
    "tags": []
   },
   "outputs": [
    {
     "data": {
      "image/png": "[encoded data removed]",
      "text/plain": [
       "<Figure size 504x216 with 1 Axes>"
      ]
     },
     "metadata": {
      "needs_background": "light"
     },
     "output_type": "display_data"
    }
   ],
   "source": [
    "# extra code – plots the decision boundary of a Perceptron on the iris dataset\n",
    "\n",
    "import matplotlib.pyplot as plt\n",
    "from matplotlib.colors import ListedColormap\n",
    "\n",
    "a = -per_clf.coef_[0, 0] / per_clf.coef_[0, 1]\n",
    "b = -per_clf.intercept_ / per_clf.coef_[0, 1]\n",
    "axes = [0, 5, 0, 2]\n",
    "x0, x1 = np.meshgrid(\n",
    "    np.linspace(axes[0], axes[1], 500).reshape(-1, 1),\n",
    "    np.linspace(axes[2], axes[3], 200).reshape(-1, 1),\n",
    ")\n",
    "X_new = np.c_[x0.ravel(), x1.ravel()]\n",
    "y_predict = per_clf.predict(X_new)\n",
    "zz = y_predict.reshape(x0.shape)\n",
    "custom_cmap = ListedColormap(['#9898ff', '#fafab0'])\n",
    "\n",
    "plt.figure(figsize=(7, 3))\n",
    "plt.plot(X[y == 0, 0], X[y == 0, 1], \"bs\", label=\"Not Iris setosa\")\n",
    "plt.plot(X[y == 1, 0], X[y == 1, 1], \"yo\", label=\"Iris setosa\")\n",
    "plt.plot([axes[0], axes[1]], [a * axes[0] + b, a * axes[1] + b], \"k-\",\n",
    "         linewidth=3)\n",
    "plt.contourf(x0, x1, zz, cmap=custom_cmap)\n",
    "plt.xlabel(\"Petal length\")\n",
    "plt.ylabel(\"Petal width\")\n",
    "plt.legend(loc=\"lower right\")\n",
    "plt.axis(axes)\n",
    "plt.show()"
   ]
  },
  {
   "cell_type": "markdown",
   "id": "9badb24d",
   "metadata": {
    "papermill": {
     "duration": 0.040041,
     "end_time": "2022-11-25T02:24:25.627861",
     "exception": false,
     "start_time": "2022-11-25T02:24:25.587820",
     "status": "completed"
    },
    "tags": []
   },
   "source": [
    "**Activation functions**"
   ]
  },
  {
   "cell_type": "code",
   "execution_count": 10,
   "id": "df765e51",
   "metadata": {
    "execution": {
     "iopub.execute_input": "2022-11-25T02:24:25.706977Z",
     "iopub.status.busy": "2022-11-25T02:24:25.706085Z",
     "iopub.status.idle": "2022-11-25T02:24:26.746181Z",
     "shell.execute_reply": "2022-11-25T02:24:26.744887Z"
    },
    "papermill": {
     "duration": 1.082506,
     "end_time": "2022-11-25T02:24:26.748768",
     "exception": false,
     "start_time": "2022-11-25T02:24:25.666262",
     "status": "completed"
    },
    "tags": []
   },
   "outputs": [
    {
     "data": {
      "image/png": "[encoded data removed]",
      "text/plain": [
       "<Figure size 792x223.2 with 2 Axes>"
      ]
     },
     "metadata": {
      "needs_background": "light"
     },
     "output_type": "display_data"
    }
   ],
   "source": [
    "# extra code – this cell generates and saves Figure 10–8\n",
    "\n",
    "from scipy.special import expit as sigmoid\n",
    "\n",
    "def relu(z):\n",
    "    return np.maximum(0, z)\n",
    "\n",
    "def derivative(f, z, eps=0.000001):\n",
    "    return (f(z + eps) - f(z - eps))/(2 * eps)\n",
    "\n",
    "max_z = 4.5\n",
    "z = np.linspace(-max_z, max_z, 200)\n",
    "\n",
    "plt.figure(figsize=(11, 3.1))\n",
    "\n",
    "plt.subplot(121)\n",
    "plt.plot([-max_z, 0], [0, 0], \"r-\", linewidth=2, label=\"Heaviside\")\n",
    "plt.plot(z, relu(z), \"m-.\", linewidth=2, label=\"ReLU\")\n",
    "plt.plot([0, 0], [0, 1], \"r-\", linewidth=0.5)\n",
    "plt.plot([0, max_z], [1, 1], \"r-\", linewidth=2)\n",
    "plt.plot(z, sigmoid(z), \"g--\", linewidth=2, label=\"Sigmoid\")\n",
    "plt.plot(z, np.tanh(z), \"b-\", linewidth=1, label=\"Tanh\")\n",
    "plt.grid(True)\n",
    "plt.title(\"Activation functions\")\n",
    "plt.axis([-max_z, max_z, -1.65, 2.4])\n",
    "plt.gca().set_yticks([-1, 0, 1, 2])\n",
    "plt.legend(loc=\"lower right\", fontsize=13)\n",
    "\n",
    "plt.subplot(122)\n",
    "plt.plot(z, derivative(np.sign, z), \"r-\", linewidth=2, label=\"Heaviside\")\n",
    "plt.plot(0, 0, \"ro\", markersize=5)\n",
    "plt.plot(0, 0, \"rx\", markersize=10)\n",
    "plt.plot(z, derivative(sigmoid, z), \"g--\", linewidth=2, label=\"Sigmoid\")\n",
    "plt.plot(z, derivative(np.tanh, z), \"b-\", linewidth=1, label=\"Tanh\")\n",
    "plt.plot([-max_z, 0], [0, 0], \"m-.\", linewidth=2)\n",
    "plt.plot([0, max_z], [1, 1], \"m-.\", linewidth=2)\n",
    "plt.plot([0, 0], [0, 1], \"m-.\", linewidth=1.2)\n",
    "plt.plot(0, 1, \"mo\", markersize=5)\n",
    "plt.plot(0, 1, \"mx\", markersize=10)\n",
    "plt.grid(True)\n",
    "plt.title(\"Derivatives\")\n",
    "plt.axis([-max_z, max_z, -0.2, 1.2])\n",
    "\n",
    "save_fig(\"activation_functions_plot\")\n",
    "plt.show()"
   ]
  },
  {
   "cell_type": "markdown",
   "id": "1c237b38",
   "metadata": {
    "papermill": {
     "duration": 0.039768,
     "end_time": "2022-11-25T02:24:26.828208",
     "exception": false,
     "start_time": "2022-11-25T02:24:26.788440",
     "status": "completed"
    },
    "tags": []
   },
   "source": [
    "## Regression MLPs"
   ]
  },
  {
   "cell_type": "code",
   "execution_count": 11,
   "id": "530531dd",
   "metadata": {
    "execution": {
     "iopub.execute_input": "2022-11-25T02:24:26.909086Z",
     "iopub.status.busy": "2022-11-25T02:24:26.908275Z",
     "iopub.status.idle": "2022-11-25T02:25:00.377103Z",
     "shell.execute_reply": "2022-11-25T02:25:00.375328Z"
    },
    "papermill": {
     "duration": 33.514877,
     "end_time": "2022-11-25T02:25:00.381779",
     "exception": false,
     "start_time": "2022-11-25T02:24:26.866902",
     "status": "completed"
    },
    "tags": []
   },
   "outputs": [],
   "source": [
    "from sklearn.datasets import fetch_california_housing\n",
    "from sklearn.metrics import mean_squared_error\n",
    "from sklearn.model_selection import train_test_split\n",
    "from sklearn.neural_network import MLPRegressor\n",
    "from sklearn.pipeline import make_pipeline\n",
    "from sklearn.preprocessing import StandardScaler\n",
    "\n",
    "housing = fetch_california_housing()\n",
    "X_train_full, X_test, y_train_full, y_test = train_test_split(\n",
    "    housing.data, housing.target, random_state=42)\n",
    "X_train, X_valid, y_train, y_valid = train_test_split(\n",
    "    X_train_full, y_train_full, random_state=42)\n",
    "\n",
    "mlp_reg = MLPRegressor(hidden_layer_sizes=[50, 50, 50], random_state=42)\n",
    "pipeline = make_pipeline(StandardScaler(), mlp_reg)\n",
    "pipeline.fit(X_train, y_train)\n",
    "y_pred = pipeline.predict(X_valid)\n",
    "rmse = mean_squared_error(y_valid, y_pred, squared=False)"
   ]
  },
  {
   "cell_type": "code",
   "execution_count": 12,
   "id": "91167dd4",
   "metadata": {
    "execution": {
     "iopub.execute_input": "2022-11-25T02:25:00.533233Z",
     "iopub.status.busy": "2022-11-25T02:25:00.532782Z",
     "iopub.status.idle": "2022-11-25T02:25:00.541047Z",
     "shell.execute_reply": "2022-11-25T02:25:00.539738Z"
    },
    "papermill": {
     "duration": 0.056864,
     "end_time": "2022-11-25T02:25:00.543736",
     "exception": false,
     "start_time": "2022-11-25T02:25:00.486872",
     "status": "completed"
    },
    "tags": []
   },
   "outputs": [
    {
     "data": {
      "text/plain": [
       "0.5053326657968376"
      ]
     },
     "execution_count": 12,
     "metadata": {},
     "output_type": "execute_result"
    }
   ],
   "source": [
    "rmse"
   ]
  },
  {
   "cell_type": "markdown",
   "id": "c68e33bb",
   "metadata": {
    "papermill": {
     "duration": 0.038627,
     "end_time": "2022-11-25T02:25:00.621225",
     "exception": false,
     "start_time": "2022-11-25T02:25:00.582598",
     "status": "completed"
    },
    "tags": []
   },
   "source": [
    "## Classification MLPs"
   ]
  },
  {
   "cell_type": "code",
   "execution_count": 13,
   "id": "869e133a",
   "metadata": {
    "execution": {
     "iopub.execute_input": "2022-11-25T02:25:00.704493Z",
     "iopub.status.busy": "2022-11-25T02:25:00.703985Z",
     "iopub.status.idle": "2022-11-25T02:25:01.340966Z",
     "shell.execute_reply": "2022-11-25T02:25:01.339728Z"
    },
    "papermill": {
     "duration": 0.681546,
     "end_time": "2022-11-25T02:25:01.343900",
     "exception": false,
     "start_time": "2022-11-25T02:25:00.662354",
     "status": "completed"
    },
    "tags": []
   },
   "outputs": [
    {
     "data": {
      "text/plain": [
       "1.0"
      ]
     },
     "execution_count": 13,
     "metadata": {},
     "output_type": "execute_result"
    }
   ],
   "source": [
    "# extra code – this was left as an exercise for the reader\n",
    "\n",
    "from sklearn.datasets import load_iris\n",
    "from sklearn.model_selection import train_test_split\n",
    "from sklearn.neural_network import MLPClassifier\n",
    "\n",
    "iris = load_iris()\n",
    "X_train_full, X_test, y_train_full, y_test = train_test_split(\n",
    "    iris.data, iris.target, test_size=0.1, random_state=42)\n",
    "X_train, X_valid, y_train, y_valid = train_test_split(\n",
    "    X_train_full, y_train_full, test_size=0.1, random_state=42)\n",
    "\n",
    "mlp_clf = MLPClassifier(hidden_layer_sizes=[5], max_iter=10_000,\n",
    "                        random_state=42)\n",
    "pipeline = make_pipeline(StandardScaler(), mlp_clf)\n",
    "pipeline.fit(X_train, y_train)\n",
    "accuracy = pipeline.score(X_valid, y_valid)\n",
    "accuracy"
   ]
  },
  {
   "cell_type": "markdown",
   "id": "1bb69308",
   "metadata": {
    "papermill": {
     "duration": 0.039297,
     "end_time": "2022-11-25T02:25:01.422468",
     "exception": false,
     "start_time": "2022-11-25T02:25:01.383171",
     "status": "completed"
    },
    "tags": []
   },
   "source": [
    "# Implementing MLPs with Keras\n",
    "## Building an Image Classifier Using the Sequential API\n",
    "### Using Keras to load the dataset"
   ]
  },
  {
   "cell_type": "markdown",
   "id": "61f1c6aa",
   "metadata": {
    "papermill": {
     "duration": 0.038641,
     "end_time": "2022-11-25T02:25:01.501352",
     "exception": false,
     "start_time": "2022-11-25T02:25:01.462711",
     "status": "completed"
    },
    "tags": []
   },
   "source": [
    "Let's start by loading the fashion MNIST dataset. Keras has a number of functions to load popular datasets in `tf.keras.datasets`. The dataset is already split for you between a training set (60,000 images) and a test set (10,000 images), but it can be useful to split the training set further to have a validation set. We'll use 55,000 images for training, and 5,000 for validation."
   ]
  },
  {
   "cell_type": "code",
   "execution_count": 14,
   "id": "af8dc6ba",
   "metadata": {
    "execution": {
     "iopub.execute_input": "2022-11-25T02:25:01.583354Z",
     "iopub.status.busy": "2022-11-25T02:25:01.582894Z",
     "iopub.status.idle": "2022-11-25T02:25:04.215023Z",
     "shell.execute_reply": "2022-11-25T02:25:04.213585Z"
    },
    "papermill": {
     "duration": 2.6766,
     "end_time": "2022-11-25T02:25:04.217961",
     "exception": false,
     "start_time": "2022-11-25T02:25:01.541361",
     "status": "completed"
    },
    "tags": []
   },
   "outputs": [
    {
     "name": "stdout",
     "output_type": "stream",
     "text": [
      "Downloading data from https://storage.googleapis.com/tensorflow/tf-keras-datasets/train-labels-idx1-ubyte.gz\n",
      "32768/29515 [=================================] - 0s 0us/step\n",
      "40960/29515 [=========================================] - 0s 0us/step\n",
      "Downloading data from https://storage.googleapis.com/tensorflow/tf-keras-datasets/train-images-idx3-ubyte.gz\n",
      "26427392/26421880 [==============================] - 0s 0us/step\n",
      "26435584/26421880 [==============================] - 0s 0us/step\n",
      "Downloading data from https://storage.googleapis.com/tensorflow/tf-keras-datasets/t10k-labels-idx1-ubyte.gz\n",
      "16384/5148 [===============================================================================================] - 0s 0us/step\n",
      "Downloading data from https://storage.googleapis.com/tensorflow/tf-keras-datasets/t10k-images-idx3-ubyte.gz\n",
      "4423680/4422102 [==============================] - 0s 0us/step\n",
      "4431872/4422102 [==============================] - 0s 0us/step\n"
     ]
    }
   ],
   "source": [
    "import tensorflow as tf\n",
    "\n",
    "fashion_mnist = tf.keras.datasets.fashion_mnist.load_data()\n",
    "(X_train_full, y_train_full), (X_test, y_test) = fashion_mnist\n",
    "X_train, y_train = X_train_full[:-5000], y_train_full[:-5000]\n",
    "X_valid, y_valid = X_train_full[-5000:], y_train_full[-5000:]"
   ]
  },
  {
   "cell_type": "markdown",
   "id": "7864215e",
   "metadata": {
    "papermill": {
     "duration": 0.039916,
     "end_time": "2022-11-25T02:25:04.300477",
     "exception": false,
     "start_time": "2022-11-25T02:25:04.260561",
     "status": "completed"
    },
    "tags": []
   },
   "source": [
    "The training set contains 60,000 grayscale images, each 28x28 pixels:"
   ]
  },
  {
   "cell_type": "code",
   "execution_count": 15,
   "id": "6c1da547",
   "metadata": {
    "execution": {
     "iopub.execute_input": "2022-11-25T02:25:04.385297Z",
     "iopub.status.busy": "2022-11-25T02:25:04.384847Z",
     "iopub.status.idle": "2022-11-25T02:25:04.392341Z",
     "shell.execute_reply": "2022-11-25T02:25:04.391098Z"
    },
    "papermill": {
     "duration": 0.053951,
     "end_time": "2022-11-25T02:25:04.394764",
     "exception": false,
     "start_time": "2022-11-25T02:25:04.340813",
     "status": "completed"
    },
    "tags": []
   },
   "outputs": [
    {
     "data": {
      "text/plain": [
       "(55000, 28, 28)"
      ]
     },
     "execution_count": 15,
     "metadata": {},
     "output_type": "execute_result"
    }
   ],
   "source": [
    "X_train.shape"
   ]
  },
  {
   "cell_type": "markdown",
   "id": "9d25c950",
   "metadata": {
    "papermill": {
     "duration": 0.040498,
     "end_time": "2022-11-25T02:25:04.475405",
     "exception": false,
     "start_time": "2022-11-25T02:25:04.434907",
     "status": "completed"
    },
    "tags": []
   },
   "source": [
    "Each pixel intensity is represented as a byte (0 to 255):"
   ]
  },
  {
   "cell_type": "code",
   "execution_count": 16,
   "id": "9b229835",
   "metadata": {
    "execution": {
     "iopub.execute_input": "2022-11-25T02:25:04.558920Z",
     "iopub.status.busy": "2022-11-25T02:25:04.558292Z",
     "iopub.status.idle": "2022-11-25T02:25:04.566049Z",
     "shell.execute_reply": "2022-11-25T02:25:04.564829Z"
    },
    "papermill": {
     "duration": 0.052734,
     "end_time": "2022-11-25T02:25:04.568312",
     "exception": false,
     "start_time": "2022-11-25T02:25:04.515578",
     "status": "completed"
    },
    "tags": []
   },
   "outputs": [
    {
     "data": {
      "text/plain": [
       "dtype('uint8')"
      ]
     },
     "execution_count": 16,
     "metadata": {},
     "output_type": "execute_result"
    }
   ],
   "source": [
    "X_train.dtype"
   ]
  },
  {
   "cell_type": "markdown",
   "id": "9e96fd97",
   "metadata": {
    "papermill": {
     "duration": 0.039973,
     "end_time": "2022-11-25T02:25:04.648880",
     "exception": false,
     "start_time": "2022-11-25T02:25:04.608907",
     "status": "completed"
    },
    "tags": []
   },
   "source": [
    "Let's scale the pixel intensities down to the 0-1 range and convert them to floats, by dividing by 255:"
   ]
  },
  {
   "cell_type": "code",
   "execution_count": 17,
   "id": "1c8b2b3d",
   "metadata": {
    "execution": {
     "iopub.execute_input": "2022-11-25T02:25:04.732305Z",
     "iopub.status.busy": "2022-11-25T02:25:04.731877Z",
     "iopub.status.idle": "2022-11-25T02:25:05.054465Z",
     "shell.execute_reply": "2022-11-25T02:25:05.052702Z"
    },
    "papermill": {
     "duration": 0.367572,
     "end_time": "2022-11-25T02:25:05.057530",
     "exception": false,
     "start_time": "2022-11-25T02:25:04.689958",
     "status": "completed"
    },
    "tags": []
   },
   "outputs": [],
   "source": [
    "X_train, X_valid, X_test = X_train / 255., X_valid / 255., X_test / 255."
   ]
  },
  {
   "cell_type": "markdown",
   "id": "f2ab9340",
   "metadata": {
    "papermill": {
     "duration": 0.039666,
     "end_time": "2022-11-25T02:25:05.137451",
     "exception": false,
     "start_time": "2022-11-25T02:25:05.097785",
     "status": "completed"
    },
    "tags": []
   },
   "source": [
    "You can plot an image using Matplotlib's `imshow()` function, with a `'binary'`\n",
    " color map:"
   ]
  },
  {
   "cell_type": "code",
   "execution_count": 18,
   "id": "9ed59721",
   "metadata": {
    "execution": {
     "iopub.execute_input": "2022-11-25T02:25:05.220778Z",
     "iopub.status.busy": "2022-11-25T02:25:05.220314Z",
     "iopub.status.idle": "2022-11-25T02:25:05.338815Z",
     "shell.execute_reply": "2022-11-25T02:25:05.336875Z"
    },
    "papermill": {
     "duration": 0.164286,
     "end_time": "2022-11-25T02:25:05.343232",
     "exception": false,
     "start_time": "2022-11-25T02:25:05.178946",
     "status": "completed"
    },
    "tags": []
   },
   "outputs": [
    {
     "data": {
      "image/png": "[encoded data removed]",
      "text/plain": [
       "<Figure size 432x288 with 1 Axes>"
      ]
     },
     "metadata": {
      "needs_background": "light"
     },
     "output_type": "display_data"
    }
   ],
   "source": [
    "# extra code\n",
    "\n",
    "plt.imshow(X_train[0], cmap=\"binary\")\n",
    "plt.axis('off')\n",
    "plt.show()"
   ]
  },
  {
   "cell_type": "markdown",
   "id": "389fce60",
   "metadata": {
    "papermill": {
     "duration": 0.05049,
     "end_time": "2022-11-25T02:25:05.451230",
     "exception": false,
     "start_time": "2022-11-25T02:25:05.400740",
     "status": "completed"
    },
    "tags": []
   },
   "source": [
    "The labels are the class IDs (represented as uint8), from 0 to 9:"
   ]
  },
  {
   "cell_type": "code",
   "execution_count": 19,
   "id": "81b286fe",
   "metadata": {
    "execution": {
     "iopub.execute_input": "2022-11-25T02:25:05.538159Z",
     "iopub.status.busy": "2022-11-25T02:25:05.536590Z",
     "iopub.status.idle": "2022-11-25T02:25:05.545077Z",
     "shell.execute_reply": "2022-11-25T02:25:05.543490Z"
    },
    "papermill": {
     "duration": 0.054253,
     "end_time": "2022-11-25T02:25:05.547544",
     "exception": false,
     "start_time": "2022-11-25T02:25:05.493291",
     "status": "completed"
    },
    "tags": []
   },
   "outputs": [
    {
     "data": {
      "text/plain": [
       "array([9, 0, 0, ..., 9, 0, 2], dtype=uint8)"
      ]
     },
     "execution_count": 19,
     "metadata": {},
     "output_type": "execute_result"
    }
   ],
   "source": [
    "y_train"
   ]
  },
  {
   "cell_type": "markdown",
   "id": "e7f94a1c",
   "metadata": {
    "papermill": {
     "duration": 0.041903,
     "end_time": "2022-11-25T02:25:05.630905",
     "exception": false,
     "start_time": "2022-11-25T02:25:05.589002",
     "status": "completed"
    },
    "tags": []
   },
   "source": [
    "Here are the corresponding class names:"
   ]
  },
  {
   "cell_type": "code",
   "execution_count": 20,
   "id": "a1f16c70",
   "metadata": {
    "execution": {
     "iopub.execute_input": "2022-11-25T02:25:05.715380Z",
     "iopub.status.busy": "2022-11-25T02:25:05.714664Z",
     "iopub.status.idle": "2022-11-25T02:25:05.719556Z",
     "shell.execute_reply": "2022-11-25T02:25:05.718684Z"
    },
    "papermill": {
     "duration": 0.049558,
     "end_time": "2022-11-25T02:25:05.721860",
     "exception": false,
     "start_time": "2022-11-25T02:25:05.672302",
     "status": "completed"
    },
    "tags": []
   },
   "outputs": [],
   "source": [
    "class_names = [\"T-shirt/top\", \"Trouser\", \"Pullover\", \"Dress\", \"Coat\",\n",
    "               \"Sandal\", \"Shirt\", \"Sneaker\", \"Bag\", \"Ankle boot\"]"
   ]
  },
  {
   "cell_type": "markdown",
   "id": "31e661fe",
   "metadata": {
    "papermill": {
     "duration": 0.040677,
     "end_time": "2022-11-25T02:25:05.804607",
     "exception": false,
     "start_time": "2022-11-25T02:25:05.763930",
     "status": "completed"
    },
    "tags": []
   },
   "source": [
    "So the first image in the training set is an ankle boot:"
   ]
  },
  {
   "cell_type": "code",
   "execution_count": 21,
   "id": "cc569883",
   "metadata": {
    "execution": {
     "iopub.execute_input": "2022-11-25T02:25:05.887893Z",
     "iopub.status.busy": "2022-11-25T02:25:05.886570Z",
     "iopub.status.idle": "2022-11-25T02:25:05.894441Z",
     "shell.execute_reply": "2022-11-25T02:25:05.893217Z"
    },
    "papermill": {
     "duration": 0.052316,
     "end_time": "2022-11-25T02:25:05.897112",
     "exception": false,
     "start_time": "2022-11-25T02:25:05.844796",
     "status": "completed"
    },
    "tags": []
   },
   "outputs": [
    {
     "data": {
      "text/plain": [
       "'Ankle boot'"
      ]
     },
     "execution_count": 21,
     "metadata": {},
     "output_type": "execute_result"
    }
   ],
   "source": [
    "class_names[y_train[0]]"
   ]
  },
  {
   "cell_type": "markdown",
   "id": "4c8233f3",
   "metadata": {
    "papermill": {
     "duration": 0.040503,
     "end_time": "2022-11-25T02:25:05.978000",
     "exception": false,
     "start_time": "2022-11-25T02:25:05.937497",
     "status": "completed"
    },
    "tags": []
   },
   "source": [
    "Let's take a look at a sample of the images in the dataset:"
   ]
  },
  {
   "cell_type": "code",
   "execution_count": 22,
   "id": "5d4073c6",
   "metadata": {
    "execution": {
     "iopub.execute_input": "2022-11-25T02:25:06.060530Z",
     "iopub.status.busy": "2022-11-25T02:25:06.060066Z",
     "iopub.status.idle": "2022-11-25T02:25:08.771129Z",
     "shell.execute_reply": "2022-11-25T02:25:08.769760Z"
    },
    "papermill": {
     "duration": 2.756028,
     "end_time": "2022-11-25T02:25:08.774076",
     "exception": false,
     "start_time": "2022-11-25T02:25:06.018048",
     "status": "completed"
    },
    "tags": []
   },
   "outputs": [
    {
     "data": {
      "image/png": "[encoded data removed]",
      "text/plain": [
       "<Figure size 864x345.6 with 40 Axes>"
      ]
     },
     "metadata": {
      "needs_background": "light"
     },
     "output_type": "display_data"
    }
   ],
   "source": [
    "# extra code – this cell generates and saves Figure 10–10\n",
    "\n",
    "n_rows = 4\n",
    "n_cols = 10\n",
    "plt.figure(figsize=(n_cols * 1.2, n_rows * 1.2))\n",
    "for row in range(n_rows):\n",
    "    for col in range(n_cols):\n",
    "        index = n_cols * row + col\n",
    "        plt.subplot(n_rows, n_cols, index + 1)\n",
    "        plt.imshow(X_train[index], cmap=\"binary\", interpolation=\"nearest\")\n",
    "        plt.axis('off')\n",
    "        plt.title(class_names[y_train[index]])\n",
    "plt.subplots_adjust(wspace=0.2, hspace=0.5)\n",
    "\n",
    "save_fig(\"fashion_mnist_plot\")\n",
    "plt.show()"
   ]
  },
  {
   "cell_type": "markdown",
   "id": "d346c200",
   "metadata": {
    "papermill": {
     "duration": 0.04145,
     "end_time": "2022-11-25T02:25:08.857773",
     "exception": false,
     "start_time": "2022-11-25T02:25:08.816323",
     "status": "completed"
    },
    "tags": []
   },
   "source": [
    "### Creating the model using the Sequential API"
   ]
  },
  {
   "cell_type": "code",
   "execution_count": 23,
   "id": "7b7b77b5",
   "metadata": {
    "execution": {
     "iopub.execute_input": "2022-11-25T02:25:08.944285Z",
     "iopub.status.busy": "2022-11-25T02:25:08.943348Z",
     "iopub.status.idle": "2022-11-25T02:25:09.095463Z",
     "shell.execute_reply": "2022-11-25T02:25:09.093807Z"
    },
    "papermill": {
     "duration": 0.198501,
     "end_time": "2022-11-25T02:25:09.098362",
     "exception": false,
     "start_time": "2022-11-25T02:25:08.899861",
     "status": "completed"
    },
    "tags": []
   },
   "outputs": [
    {
     "name": "stderr",
     "output_type": "stream",
     "text": [
      "2022-11-25 02:25:08.991160: I tensorflow/core/common_runtime/process_util.cc:146] Creating new thread pool with default inter op setting: 2. Tune using inter_op_parallelism_threads for best performance.\n"
     ]
    }
   ],
   "source": [
    "tf.random.set_seed(42)\n",
    "model = tf.keras.Sequential()\n",
    "model.add(tf.keras.layers.InputLayer(input_shape=[28, 28]))\n",
    "model.add(tf.keras.layers.Flatten())\n",
    "model.add(tf.keras.layers.Dense(300, activation=\"relu\"))\n",
    "model.add(tf.keras.layers.Dense(100, activation=\"relu\"))\n",
    "model.add(tf.keras.layers.Dense(10, activation=\"softmax\"))"
   ]
  },
  {
   "cell_type": "code",
   "execution_count": 24,
   "id": "0c9ce792",
   "metadata": {
    "execution": {
     "iopub.execute_input": "2022-11-25T02:25:09.186610Z",
     "iopub.status.busy": "2022-11-25T02:25:09.186156Z",
     "iopub.status.idle": "2022-11-25T02:25:09.235444Z",
     "shell.execute_reply": "2022-11-25T02:25:09.234001Z"
    },
    "papermill": {
     "duration": 0.097985,
     "end_time": "2022-11-25T02:25:09.238531",
     "exception": false,
     "start_time": "2022-11-25T02:25:09.140546",
     "status": "completed"
    },
    "tags": []
   },
   "outputs": [],
   "source": [
    "# extra code – clear the session to reset the name counters\n",
    "tf.keras.backend.clear_session()\n",
    "tf.random.set_seed(42)\n",
    "\n",
    "model = tf.keras.Sequential([\n",
    "    tf.keras.layers.Flatten(input_shape=[28, 28]),\n",
    "    tf.keras.layers.Dense(300, activation=\"relu\"),\n",
    "    tf.keras.layers.Dense(100, activation=\"relu\"),\n",
    "    tf.keras.layers.Dense(10, activation=\"softmax\")\n",
    "])"
   ]
  },
  {
   "cell_type": "code",
   "execution_count": 25,
   "id": "fd5cdc29",
   "metadata": {
    "execution": {
     "iopub.execute_input": "2022-11-25T02:25:09.326465Z",
     "iopub.status.busy": "2022-11-25T02:25:09.326020Z",
     "iopub.status.idle": "2022-11-25T02:25:09.332941Z",
     "shell.execute_reply": "2022-11-25T02:25:09.331715Z"
    },
    "papermill": {
     "duration": 0.05455,
     "end_time": "2022-11-25T02:25:09.336365",
     "exception": false,
     "start_time": "2022-11-25T02:25:09.281815",
     "status": "completed"
    },
    "tags": []
   },
   "outputs": [
    {
     "name": "stdout",
     "output_type": "stream",
     "text": [
      "Model: \"sequential\"\n",
      "_________________________________________________________________\n",
      "Layer (type)                 Output Shape              Param #   \n",
      "=================================================================\n",
      "flatten (Flatten)            (None, 784)               0         \n",
      "_________________________________________________________________\n",
      "dense (Dense)                (None, 300)               235500    \n",
      "_________________________________________________________________\n",
      "dense_1 (Dense)              (None, 100)               30100     \n",
      "_________________________________________________________________\n",
      "dense_2 (Dense)              (None, 10)                1010      \n",
      "=================================================================\n",
      "Total params: 266,610\n",
      "Trainable params: 266,610\n",
      "Non-trainable params: 0\n",
      "_________________________________________________________________\n"
     ]
    }
   ],
   "source": [
    "model.summary()"
   ]
  },
  {
   "cell_type": "code",
   "execution_count": 26,
   "id": "d448abec",
   "metadata": {
    "execution": {
     "iopub.execute_input": "2022-11-25T02:25:09.425364Z",
     "iopub.status.busy": "2022-11-25T02:25:09.424822Z",
     "iopub.status.idle": "2022-11-25T02:25:10.774760Z",
     "shell.execute_reply": "2022-11-25T02:25:10.773482Z"
    },
    "papermill": {
     "duration": 1.396432,
     "end_time": "2022-11-25T02:25:10.777206",
     "exception": false,
     "start_time": "2022-11-25T02:25:09.380774",
     "status": "completed"
    },
    "tags": []
   },
   "outputs": [
    {
     "data": {
      "image/png": "[encoded data removed]",
      "text/plain": [
       "<IPython.core.display.Image object>"
      ]
     },
     "execution_count": 26,
     "metadata": {},
     "output_type": "execute_result"
    }
   ],
   "source": [
    "# extra code – another way to display the model's architecture\n",
    "tf.keras.utils.plot_model(model, \"my_fashion_mnist_model.png\", show_shapes=True)"
   ]
  },
  {
   "cell_type": "code",
   "execution_count": 27,
   "id": "0b8e0df5",
   "metadata": {
    "execution": {
     "iopub.execute_input": "2022-11-25T02:25:10.866949Z",
     "iopub.status.busy": "2022-11-25T02:25:10.865927Z",
     "iopub.status.idle": "2022-11-25T02:25:10.873840Z",
     "shell.execute_reply": "2022-11-25T02:25:10.872936Z"
    },
    "papermill": {
     "duration": 0.05578,
     "end_time": "2022-11-25T02:25:10.875981",
     "exception": false,
     "start_time": "2022-11-25T02:25:10.820201",
     "status": "completed"
    },
    "tags": []
   },
   "outputs": [
    {
     "data": {
      "text/plain": [
       "[<keras.layers.core.Flatten at 0x7f07bc2f2fd0>,\n",
       " <keras.layers.core.Dense at 0x7f07bc2d9350>,\n",
       " <keras.layers.core.Dense at 0x7f07bc2d9690>,\n",
       " <keras.layers.core.Dense at 0x7f07da85fb50>]"
      ]
     },
     "execution_count": 27,
     "metadata": {},
     "output_type": "execute_result"
    }
   ],
   "source": [
    "model.layers"
   ]
  },
  {
   "cell_type": "code",
   "execution_count": 28,
   "id": "547cac1b",
   "metadata": {
    "execution": {
     "iopub.execute_input": "2022-11-25T02:25:10.964976Z",
     "iopub.status.busy": "2022-11-25T02:25:10.964114Z",
     "iopub.status.idle": "2022-11-25T02:25:10.970833Z",
     "shell.execute_reply": "2022-11-25T02:25:10.969849Z"
    },
    "papermill": {
     "duration": 0.054058,
     "end_time": "2022-11-25T02:25:10.973072",
     "exception": false,
     "start_time": "2022-11-25T02:25:10.919014",
     "status": "completed"
    },
    "tags": []
   },
   "outputs": [
    {
     "data": {
      "text/plain": [
       "'dense'"
      ]
     },
     "execution_count": 28,
     "metadata": {},
     "output_type": "execute_result"
    }
   ],
   "source": [
    "hidden1 = model.layers[1]\n",
    "hidden1.name"
   ]
  },
  {
   "cell_type": "code",
   "execution_count": 29,
   "id": "4ce17bdd",
   "metadata": {
    "execution": {
     "iopub.execute_input": "2022-11-25T02:25:11.062815Z",
     "iopub.status.busy": "2022-11-25T02:25:11.061979Z",
     "iopub.status.idle": "2022-11-25T02:25:11.068258Z",
     "shell.execute_reply": "2022-11-25T02:25:11.067489Z"
    },
    "papermill": {
     "duration": 0.053221,
     "end_time": "2022-11-25T02:25:11.070241",
     "exception": false,
     "start_time": "2022-11-25T02:25:11.017020",
     "status": "completed"
    },
    "tags": []
   },
   "outputs": [
    {
     "data": {
      "text/plain": [
       "True"
      ]
     },
     "execution_count": 29,
     "metadata": {},
     "output_type": "execute_result"
    }
   ],
   "source": [
    "model.get_layer('dense') is hidden1"
   ]
  },
  {
   "cell_type": "code",
   "execution_count": 30,
   "id": "a2bed8cb",
   "metadata": {
    "execution": {
     "iopub.execute_input": "2022-11-25T02:25:11.159116Z",
     "iopub.status.busy": "2022-11-25T02:25:11.158263Z",
     "iopub.status.idle": "2022-11-25T02:25:11.171349Z",
     "shell.execute_reply": "2022-11-25T02:25:11.170504Z"
    },
    "papermill": {
     "duration": 0.060351,
     "end_time": "2022-11-25T02:25:11.173848",
     "exception": false,
     "start_time": "2022-11-25T02:25:11.113497",
     "status": "completed"
    },
    "tags": []
   },
   "outputs": [
    {
     "data": {
      "text/plain": [
       "array([[ 0.02448617, -0.00877795, -0.02189048, ..., -0.02766046,\n",
       "         0.03859074, -0.06889391],\n",
       "       [ 0.00476504, -0.03105379, -0.0586676 , ...,  0.00602964,\n",
       "        -0.02763776, -0.04165364],\n",
       "       [-0.06189284, -0.06901957,  0.07102345, ..., -0.04238207,\n",
       "         0.07121518, -0.07331658],\n",
       "       ...,\n",
       "       [-0.03048757,  0.02155137, -0.05400612, ..., -0.00113463,\n",
       "         0.00228987,  0.05581069],\n",
       "       [ 0.07061854, -0.06960931,  0.07038955, ..., -0.00384101,\n",
       "         0.00034875,  0.02878492],\n",
       "       [-0.06022581,  0.01577859, -0.02585464, ..., -0.00527829,\n",
       "         0.00272203, -0.06793761]], dtype=float32)"
      ]
     },
     "execution_count": 30,
     "metadata": {},
     "output_type": "execute_result"
    }
   ],
   "source": [
    "weights, biases = hidden1.get_weights()\n",
    "weights"
   ]
  },
  {
   "cell_type": "code",
   "execution_count": 31,
   "id": "a229b7f3",
   "metadata": {
    "execution": {
     "iopub.execute_input": "2022-11-25T02:25:11.264352Z",
     "iopub.status.busy": "2022-11-25T02:25:11.263047Z",
     "iopub.status.idle": "2022-11-25T02:25:11.271125Z",
     "shell.execute_reply": "2022-11-25T02:25:11.269918Z"
    },
    "papermill": {
     "duration": 0.055358,
     "end_time": "2022-11-25T02:25:11.273358",
     "exception": false,
     "start_time": "2022-11-25T02:25:11.218000",
     "status": "completed"
    },
    "tags": []
   },
   "outputs": [
    {
     "data": {
      "text/plain": [
       "(784, 300)"
      ]
     },
     "execution_count": 31,
     "metadata": {},
     "output_type": "execute_result"
    }
   ],
   "source": [
    "weights.shape"
   ]
  },
  {
   "cell_type": "code",
   "execution_count": 32,
   "id": "f9cb51f6",
   "metadata": {
    "execution": {
     "iopub.execute_input": "2022-11-25T02:25:11.363844Z",
     "iopub.status.busy": "2022-11-25T02:25:11.363380Z",
     "iopub.status.idle": "2022-11-25T02:25:11.373286Z",
     "shell.execute_reply": "2022-11-25T02:25:11.372025Z"
    },
    "papermill": {
     "duration": 0.058823,
     "end_time": "2022-11-25T02:25:11.375742",
     "exception": false,
     "start_time": "2022-11-25T02:25:11.316919",
     "status": "completed"
    },
    "tags": []
   },
   "outputs": [
    {
     "data": {
      "text/plain": [
       "array([0., 0., 0., 0., 0., 0., 0., 0., 0., 0., 0., 0., 0., 0., 0., 0., 0.,\n",
       "       0., 0., 0., 0., 0., 0., 0., 0., 0., 0., 0., 0., 0., 0., 0., 0., 0.,\n",
       "       0., 0., 0., 0., 0., 0., 0., 0., 0., 0., 0., 0., 0., 0., 0., 0., 0.,\n",
       "       0., 0., 0., 0., 0., 0., 0., 0., 0., 0., 0., 0., 0., 0., 0., 0., 0.,\n",
       "       0., 0., 0., 0., 0., 0., 0., 0., 0., 0., 0., 0., 0., 0., 0., 0., 0.,\n",
       "       0., 0., 0., 0., 0., 0., 0., 0., 0., 0., 0., 0., 0., 0., 0., 0., 0.,\n",
       "       0., 0., 0., 0., 0., 0., 0., 0., 0., 0., 0., 0., 0., 0., 0., 0., 0.,\n",
       "       0., 0., 0., 0., 0., 0., 0., 0., 0., 0., 0., 0., 0., 0., 0., 0., 0.,\n",
       "       0., 0., 0., 0., 0., 0., 0., 0., 0., 0., 0., 0., 0., 0., 0., 0., 0.,\n",
       "       0., 0., 0., 0., 0., 0., 0., 0., 0., 0., 0., 0., 0., 0., 0., 0., 0.,\n",
       "       0., 0., 0., 0., 0., 0., 0., 0., 0., 0., 0., 0., 0., 0., 0., 0., 0.,\n",
       "       0., 0., 0., 0., 0., 0., 0., 0., 0., 0., 0., 0., 0., 0., 0., 0., 0.,\n",
       "       0., 0., 0., 0., 0., 0., 0., 0., 0., 0., 0., 0., 0., 0., 0., 0., 0.,\n",
       "       0., 0., 0., 0., 0., 0., 0., 0., 0., 0., 0., 0., 0., 0., 0., 0., 0.,\n",
       "       0., 0., 0., 0., 0., 0., 0., 0., 0., 0., 0., 0., 0., 0., 0., 0., 0.,\n",
       "       0., 0., 0., 0., 0., 0., 0., 0., 0., 0., 0., 0., 0., 0., 0., 0., 0.,\n",
       "       0., 0., 0., 0., 0., 0., 0., 0., 0., 0., 0., 0., 0., 0., 0., 0., 0.,\n",
       "       0., 0., 0., 0., 0., 0., 0., 0., 0., 0., 0.], dtype=float32)"
      ]
     },
     "execution_count": 32,
     "metadata": {},
     "output_type": "execute_result"
    }
   ],
   "source": [
    "biases"
   ]
  },
  {
   "cell_type": "code",
   "execution_count": 33,
   "id": "6f6f6f46",
   "metadata": {
    "execution": {
     "iopub.execute_input": "2022-11-25T02:25:11.466240Z",
     "iopub.status.busy": "2022-11-25T02:25:11.465790Z",
     "iopub.status.idle": "2022-11-25T02:25:11.472725Z",
     "shell.execute_reply": "2022-11-25T02:25:11.471506Z"
    },
    "papermill": {
     "duration": 0.055871,
     "end_time": "2022-11-25T02:25:11.475157",
     "exception": false,
     "start_time": "2022-11-25T02:25:11.419286",
     "status": "completed"
    },
    "tags": []
   },
   "outputs": [
    {
     "data": {
      "text/plain": [
       "(300,)"
      ]
     },
     "execution_count": 33,
     "metadata": {},
     "output_type": "execute_result"
    }
   ],
   "source": [
    "biases.shape"
   ]
  },
  {
   "cell_type": "markdown",
   "id": "829761e1",
   "metadata": {
    "papermill": {
     "duration": 0.044153,
     "end_time": "2022-11-25T02:25:11.563745",
     "exception": false,
     "start_time": "2022-11-25T02:25:11.519592",
     "status": "completed"
    },
    "tags": []
   },
   "source": [
    "### Compiling the model"
   ]
  },
  {
   "cell_type": "code",
   "execution_count": 34,
   "id": "503acd85",
   "metadata": {
    "execution": {
     "iopub.execute_input": "2022-11-25T02:25:11.654090Z",
     "iopub.status.busy": "2022-11-25T02:25:11.652895Z",
     "iopub.status.idle": "2022-11-25T02:25:11.672187Z",
     "shell.execute_reply": "2022-11-25T02:25:11.670939Z"
    },
    "papermill": {
     "duration": 0.067292,
     "end_time": "2022-11-25T02:25:11.674894",
     "exception": false,
     "start_time": "2022-11-25T02:25:11.607602",
     "status": "completed"
    },
    "tags": []
   },
   "outputs": [],
   "source": [
    "model.compile(loss=\"sparse_categorical_crossentropy\",\n",
    "              optimizer=\"sgd\",\n",
    "              metrics=[\"accuracy\"])"
   ]
  },
  {
   "cell_type": "markdown",
   "id": "8abeeb8c",
   "metadata": {
    "papermill": {
     "duration": 0.043255,
     "end_time": "2022-11-25T02:25:11.762840",
     "exception": false,
     "start_time": "2022-11-25T02:25:11.719585",
     "status": "completed"
    },
    "tags": []
   },
   "source": [
    "This is equivalent to:"
   ]
  },
  {
   "cell_type": "code",
   "execution_count": 35,
   "id": "b4a86526",
   "metadata": {
    "execution": {
     "iopub.execute_input": "2022-11-25T02:25:11.929125Z",
     "iopub.status.busy": "2022-11-25T02:25:11.928172Z",
     "iopub.status.idle": "2022-11-25T02:25:11.941132Z",
     "shell.execute_reply": "2022-11-25T02:25:11.939931Z"
    },
    "papermill": {
     "duration": 0.062289,
     "end_time": "2022-11-25T02:25:11.944099",
     "exception": false,
     "start_time": "2022-11-25T02:25:11.881810",
     "status": "completed"
    },
    "tags": []
   },
   "outputs": [],
   "source": [
    "# extra code – this cell is equivalent to the previous cell\n",
    "model.compile(loss=tf.keras.losses.sparse_categorical_crossentropy,\n",
    "              optimizer=tf.keras.optimizers.SGD(),\n",
    "              metrics=[tf.keras.metrics.sparse_categorical_accuracy])"
   ]
  },
  {
   "cell_type": "code",
   "execution_count": 36,
   "id": "ee6ae6ee",
   "metadata": {
    "execution": {
     "iopub.execute_input": "2022-11-25T02:25:12.037289Z",
     "iopub.status.busy": "2022-11-25T02:25:12.036164Z",
     "iopub.status.idle": "2022-11-25T02:25:12.045257Z",
     "shell.execute_reply": "2022-11-25T02:25:12.044244Z"
    },
    "papermill": {
     "duration": 0.05797,
     "end_time": "2022-11-25T02:25:12.047670",
     "exception": false,
     "start_time": "2022-11-25T02:25:11.989700",
     "status": "completed"
    },
    "tags": []
   },
   "outputs": [
    {
     "data": {
      "text/plain": [
       "array([[1., 0., 0., 0., 0., 0., 0., 0., 0., 0.],\n",
       "       [0., 0., 0., 0., 0., 1., 0., 0., 0., 0.],\n",
       "       [0., 1., 0., 0., 0., 0., 0., 0., 0., 0.],\n",
       "       [1., 0., 0., 0., 0., 0., 0., 0., 0., 0.]], dtype=float32)"
      ]
     },
     "execution_count": 36,
     "metadata": {},
     "output_type": "execute_result"
    }
   ],
   "source": [
    "# extra code – shows how to convert class ids to one-hot vectors\n",
    "tf.keras.utils.to_categorical([0, 5, 1, 0], num_classes=10)"
   ]
  },
  {
   "cell_type": "markdown",
   "id": "472d7323",
   "metadata": {
    "papermill": {
     "duration": 0.04451,
     "end_time": "2022-11-25T02:25:12.137107",
     "exception": false,
     "start_time": "2022-11-25T02:25:12.092597",
     "status": "completed"
    },
    "tags": []
   },
   "source": [
    "Note: it's important to set `num_classes` when the number of classes is greater than the maximum class id in the sample."
   ]
  },
  {
   "cell_type": "code",
   "execution_count": 37,
   "id": "0a582f77",
   "metadata": {
    "execution": {
     "iopub.execute_input": "2022-11-25T02:25:12.228824Z",
     "iopub.status.busy": "2022-11-25T02:25:12.227654Z",
     "iopub.status.idle": "2022-11-25T02:25:12.239046Z",
     "shell.execute_reply": "2022-11-25T02:25:12.237818Z"
    },
    "papermill": {
     "duration": 0.060038,
     "end_time": "2022-11-25T02:25:12.241325",
     "exception": false,
     "start_time": "2022-11-25T02:25:12.181287",
     "status": "completed"
    },
    "tags": []
   },
   "outputs": [
    {
     "data": {
      "text/plain": [
       "array([0, 5, 1, 0])"
      ]
     },
     "execution_count": 37,
     "metadata": {},
     "output_type": "execute_result"
    }
   ],
   "source": [
    "# extra code – shows how to convert one-hot vectors to class ids\n",
    "np.argmax(\n",
    "    [[1., 0., 0., 0., 0., 0., 0., 0., 0., 0.],\n",
    "     [0., 0., 0., 0., 0., 1., 0., 0., 0., 0.],\n",
    "     [0., 1., 0., 0., 0., 0., 0., 0., 0., 0.],\n",
    "     [1., 0., 0., 0., 0., 0., 0., 0., 0., 0.]],\n",
    "    axis=1\n",
    ")"
   ]
  },
  {
   "cell_type": "markdown",
   "id": "26b67ae9",
   "metadata": {
    "papermill": {
     "duration": 0.044538,
     "end_time": "2022-11-25T02:25:12.332203",
     "exception": false,
     "start_time": "2022-11-25T02:25:12.287665",
     "status": "completed"
    },
    "tags": []
   },
   "source": [
    "### Training and evaluating the model"
   ]
  },
  {
   "cell_type": "code",
   "execution_count": 38,
   "id": "155afe11",
   "metadata": {
    "execution": {
     "iopub.execute_input": "2022-11-25T02:25:12.424282Z",
     "iopub.status.busy": "2022-11-25T02:25:12.422937Z",
     "iopub.status.idle": "2022-11-25T02:28:13.550118Z",
     "shell.execute_reply": "2022-11-25T02:28:13.548518Z"
    },
    "papermill": {
     "duration": 181.176646,
     "end_time": "2022-11-25T02:28:13.553196",
     "exception": false,
     "start_time": "2022-11-25T02:25:12.376550",
     "status": "completed"
    },
    "tags": []
   },
   "outputs": [
    {
     "name": "stderr",
     "output_type": "stream",
     "text": [
      "2022-11-25 02:25:12.951761: I tensorflow/compiler/mlir/mlir_graph_optimization_pass.cc:185] None of the MLIR Optimization Passes are enabled (registered 2)\n"
     ]
    },
    {
     "name": "stdout",
     "output_type": "stream",
     "text": [
      "Epoch 1/30\n",
      "1719/1719 [==============================] - 7s 4ms/step - loss: 0.7221 - sparse_categorical_accuracy: 0.7648 - val_loss: 0.4959 - val_sparse_categorical_accuracy: 0.8330\n",
      "Epoch 2/30\n",
      "1719/1719 [==============================] - 6s 4ms/step - loss: 0.4826 - sparse_categorical_accuracy: 0.8333 - val_loss: 0.4556 - val_sparse_categorical_accuracy: 0.8388\n",
      "Epoch 3/30\n",
      "1719/1719 [==============================] - 6s 3ms/step - loss: 0.4369 - sparse_categorical_accuracy: 0.8479 - val_loss: 0.4229 - val_sparse_categorical_accuracy: 0.8556\n",
      "Epoch 4/30\n",
      "1719/1719 [==============================] - 6s 4ms/step - loss: 0.4120 - sparse_categorical_accuracy: 0.8561 - val_loss: 0.3970 - val_sparse_categorical_accuracy: 0.8616\n",
      "Epoch 5/30\n",
      "1719/1719 [==============================] - 7s 4ms/step - loss: 0.3909 - sparse_categorical_accuracy: 0.8631 - val_loss: 0.3890 - val_sparse_categorical_accuracy: 0.8612\n",
      "Epoch 6/30\n",
      "1719/1719 [==============================] - 6s 3ms/step - loss: 0.3749 - sparse_categorical_accuracy: 0.8691 - val_loss: 0.3930 - val_sparse_categorical_accuracy: 0.8610\n",
      "Epoch 7/30\n",
      "1719/1719 [==============================] - 6s 4ms/step - loss: 0.3626 - sparse_categorical_accuracy: 0.8714 - val_loss: 0.3708 - val_sparse_categorical_accuracy: 0.8696\n",
      "Epoch 8/30\n",
      "1719/1719 [==============================] - 6s 4ms/step - loss: 0.3512 - sparse_categorical_accuracy: 0.8758 - val_loss: 0.3772 - val_sparse_categorical_accuracy: 0.8622\n",
      "Epoch 9/30\n",
      "1719/1719 [==============================] - 6s 3ms/step - loss: 0.3403 - sparse_categorical_accuracy: 0.8794 - val_loss: 0.3514 - val_sparse_categorical_accuracy: 0.8742\n",
      "Epoch 10/30\n",
      "1719/1719 [==============================] - 6s 4ms/step - loss: 0.3307 - sparse_categorical_accuracy: 0.8814 - val_loss: 0.3547 - val_sparse_categorical_accuracy: 0.8736\n",
      "Epoch 11/30\n",
      "1719/1719 [==============================] - 6s 4ms/step - loss: 0.3222 - sparse_categorical_accuracy: 0.8856 - val_loss: 0.3603 - val_sparse_categorical_accuracy: 0.8704\n",
      "Epoch 12/30\n",
      "1719/1719 [==============================] - 6s 3ms/step - loss: 0.3145 - sparse_categorical_accuracy: 0.8872 - val_loss: 0.3485 - val_sparse_categorical_accuracy: 0.8732\n",
      "Epoch 13/30\n",
      "1719/1719 [==============================] - 6s 4ms/step - loss: 0.3071 - sparse_categorical_accuracy: 0.8906 - val_loss: 0.3283 - val_sparse_categorical_accuracy: 0.8786\n",
      "Epoch 14/30\n",
      "1719/1719 [==============================] - 6s 3ms/step - loss: 0.3001 - sparse_categorical_accuracy: 0.8924 - val_loss: 0.3402 - val_sparse_categorical_accuracy: 0.8776\n",
      "Epoch 15/30\n",
      "1719/1719 [==============================] - 6s 4ms/step - loss: 0.2938 - sparse_categorical_accuracy: 0.8956 - val_loss: 0.3389 - val_sparse_categorical_accuracy: 0.8818\n",
      "Epoch 16/30\n",
      "1719/1719 [==============================] - 6s 3ms/step - loss: 0.2869 - sparse_categorical_accuracy: 0.8968 - val_loss: 0.3257 - val_sparse_categorical_accuracy: 0.8800\n",
      "Epoch 17/30\n",
      "1719/1719 [==============================] - 6s 3ms/step - loss: 0.2824 - sparse_categorical_accuracy: 0.8979 - val_loss: 0.3332 - val_sparse_categorical_accuracy: 0.8774\n",
      "Epoch 18/30\n",
      "1719/1719 [==============================] - 5s 3ms/step - loss: 0.2758 - sparse_categorical_accuracy: 0.9006 - val_loss: 0.3242 - val_sparse_categorical_accuracy: 0.8826\n",
      "Epoch 19/30\n",
      "1719/1719 [==============================] - 6s 3ms/step - loss: 0.2712 - sparse_categorical_accuracy: 0.9029 - val_loss: 0.3484 - val_sparse_categorical_accuracy: 0.8714\n",
      "Epoch 20/30\n",
      "1719/1719 [==============================] - 6s 4ms/step - loss: 0.2665 - sparse_categorical_accuracy: 0.9047 - val_loss: 0.3200 - val_sparse_categorical_accuracy: 0.8818\n",
      "Epoch 21/30\n",
      "1719/1719 [==============================] - 6s 3ms/step - loss: 0.2614 - sparse_categorical_accuracy: 0.9047 - val_loss: 0.3185 - val_sparse_categorical_accuracy: 0.8838\n",
      "Epoch 22/30\n",
      "1719/1719 [==============================] - 6s 3ms/step - loss: 0.2565 - sparse_categorical_accuracy: 0.9071 - val_loss: 0.3128 - val_sparse_categorical_accuracy: 0.8842\n",
      "Epoch 23/30\n",
      "1719/1719 [==============================] - 6s 3ms/step - loss: 0.2521 - sparse_categorical_accuracy: 0.9093 - val_loss: 0.3447 - val_sparse_categorical_accuracy: 0.8738\n",
      "Epoch 24/30\n",
      "1719/1719 [==============================] - 6s 3ms/step - loss: 0.2469 - sparse_categorical_accuracy: 0.9115 - val_loss: 0.3217 - val_sparse_categorical_accuracy: 0.8856\n",
      "Epoch 25/30\n",
      "1719/1719 [==============================] - 6s 3ms/step - loss: 0.2427 - sparse_categorical_accuracy: 0.9130 - val_loss: 0.3175 - val_sparse_categorical_accuracy: 0.8838\n",
      "Epoch 26/30\n",
      "1719/1719 [==============================] - 7s 4ms/step - loss: 0.2393 - sparse_categorical_accuracy: 0.9143 - val_loss: 0.3106 - val_sparse_categorical_accuracy: 0.8860\n",
      "Epoch 27/30\n",
      "1719/1719 [==============================] - 6s 3ms/step - loss: 0.2340 - sparse_categorical_accuracy: 0.9151 - val_loss: 0.3191 - val_sparse_categorical_accuracy: 0.8854\n",
      "Epoch 28/30\n",
      "1719/1719 [==============================] - 6s 4ms/step - loss: 0.2313 - sparse_categorical_accuracy: 0.9166 - val_loss: 0.3091 - val_sparse_categorical_accuracy: 0.8920\n",
      "Epoch 29/30\n",
      "1719/1719 [==============================] - 6s 3ms/step - loss: 0.2267 - sparse_categorical_accuracy: 0.9188 - val_loss: 0.3216 - val_sparse_categorical_accuracy: 0.8842\n",
      "Epoch 30/30\n",
      "1719/1719 [==============================] - 6s 4ms/step - loss: 0.2237 - sparse_categorical_accuracy: 0.9197 - val_loss: 0.3051 - val_sparse_categorical_accuracy: 0.8914\n"
     ]
    }
   ],
   "source": [
    "history = model.fit(X_train, y_train, epochs=30,\n",
    "                    validation_data=(X_valid, y_valid))"
   ]
  },
  {
   "cell_type": "code",
   "execution_count": 39,
   "id": "5a91bb41",
   "metadata": {
    "execution": {
     "iopub.execute_input": "2022-11-25T02:28:14.082442Z",
     "iopub.status.busy": "2022-11-25T02:28:14.081206Z",
     "iopub.status.idle": "2022-11-25T02:28:14.089750Z",
     "shell.execute_reply": "2022-11-25T02:28:14.088538Z"
    },
    "papermill": {
     "duration": 0.276752,
     "end_time": "2022-11-25T02:28:14.092171",
     "exception": false,
     "start_time": "2022-11-25T02:28:13.815419",
     "status": "completed"
    },
    "tags": []
   },
   "outputs": [
    {
     "data": {
      "text/plain": [
       "{'verbose': 1, 'epochs': 30, 'steps': 1719}"
      ]
     },
     "execution_count": 39,
     "metadata": {},
     "output_type": "execute_result"
    }
   ],
   "source": [
    "history.params"
   ]
  },
  {
   "cell_type": "code",
   "execution_count": 40,
   "id": "777b3379",
   "metadata": {
    "execution": {
     "iopub.execute_input": "2022-11-25T02:28:14.685006Z",
     "iopub.status.busy": "2022-11-25T02:28:14.684458Z",
     "iopub.status.idle": "2022-11-25T02:28:14.690246Z",
     "shell.execute_reply": "2022-11-25T02:28:14.689322Z"
    },
    "papermill": {
     "duration": 0.267774,
     "end_time": "2022-11-25T02:28:14.693450",
     "exception": false,
     "start_time": "2022-11-25T02:28:14.425676",
     "status": "completed"
    },
    "tags": []
   },
   "outputs": [
    {
     "name": "stdout",
     "output_type": "stream",
     "text": [
      "[0, 1, 2, 3, 4, 5, 6, 7, 8, 9, 10, 11, 12, 13, 14, 15, 16, 17, 18, 19, 20, 21, 22, 23, 24, 25, 26, 27, 28, 29]\n"
     ]
    }
   ],
   "source": [
    "print(history.epoch)"
   ]
  },
  {
   "cell_type": "code",
   "execution_count": 41,
   "id": "dc8665ac",
   "metadata": {
    "execution": {
     "iopub.execute_input": "2022-11-25T02:28:15.249180Z",
     "iopub.status.busy": "2022-11-25T02:28:15.248038Z",
     "iopub.status.idle": "2022-11-25T02:28:16.117472Z",
     "shell.execute_reply": "2022-11-25T02:28:16.116085Z"
    },
    "papermill": {
     "duration": 1.155639,
     "end_time": "2022-11-25T02:28:16.120185",
     "exception": false,
     "start_time": "2022-11-25T02:28:14.964546",
     "status": "completed"
    },
    "tags": []
   },
   "outputs": [
    {
     "data": {
      "image/png": "[encoded data removed]",
      "text/plain": [
       "<Figure size 576x360 with 1 Axes>"
      ]
     },
     "metadata": {
      "needs_background": "light"
     },
     "output_type": "display_data"
    }
   ],
   "source": [
    "import matplotlib.pyplot as plt\n",
    "import pandas as pd\n",
    "\n",
    "pd.DataFrame(history.history).plot(\n",
    "    figsize=(8, 5), xlim=[0, 29], ylim=[0, 1], grid=True, xlabel=\"Epoch\",\n",
    "    style=[\"r--\", \"r--.\", \"b-\", \"b-*\"])\n",
    "plt.legend(loc=\"lower left\")  # extra code\n",
    "save_fig(\"keras_learning_curves_plot\")  # extra code\n",
    "plt.show()"
   ]
  },
  {
   "cell_type": "code",
   "execution_count": 42,
   "id": "2357ad23",
   "metadata": {
    "execution": {
     "iopub.execute_input": "2022-11-25T02:28:16.648095Z",
     "iopub.status.busy": "2022-11-25T02:28:16.647571Z",
     "iopub.status.idle": "2022-11-25T02:28:16.892349Z",
     "shell.execute_reply": "2022-11-25T02:28:16.890746Z"
    },
    "papermill": {
     "duration": 0.514339,
     "end_time": "2022-11-25T02:28:16.895145",
     "exception": false,
     "start_time": "2022-11-25T02:28:16.380806",
     "status": "completed"
    },
    "tags": []
   },
   "outputs": [
    {
     "data": {
      "image/png": "[encoded data removed]",
      "text/plain": [
       "<Figure size 576x360 with 1 Axes>"
      ]
     },
     "metadata": {
      "needs_background": "light"
     },
     "output_type": "display_data"
    }
   ],
   "source": [
    "# extra code – shows how to shift the training curve by -1/2 epoch\n",
    "plt.figure(figsize=(8, 5))\n",
    "for key, style in zip(history.history, [\"r--\", \"r--.\", \"b-\", \"b-*\"]):\n",
    "    epochs = np.array(history.epoch) + (0 if key.startswith(\"val_\") else -0.5)\n",
    "    plt.plot(epochs, history.history[key], style, label=key)\n",
    "plt.xlabel(\"Epoch\")\n",
    "plt.axis([-0.5, 29, 0., 1])\n",
    "plt.legend(loc=\"lower left\")\n",
    "plt.grid()\n",
    "plt.show()"
   ]
  },
  {
   "cell_type": "code",
   "execution_count": 43,
   "id": "167f66b5",
   "metadata": {
    "execution": {
     "iopub.execute_input": "2022-11-25T02:28:17.425522Z",
     "iopub.status.busy": "2022-11-25T02:28:17.425083Z",
     "iopub.status.idle": "2022-11-25T02:28:18.341030Z",
     "shell.execute_reply": "2022-11-25T02:28:18.340005Z"
    },
    "papermill": {
     "duration": 1.185969,
     "end_time": "2022-11-25T02:28:18.343368",
     "exception": false,
     "start_time": "2022-11-25T02:28:17.157399",
     "status": "completed"
    },
    "tags": []
   },
   "outputs": [
    {
     "name": "stdout",
     "output_type": "stream",
     "text": [
      "313/313 [==============================] - 1s 3ms/step - loss: 0.3251 - sparse_categorical_accuracy: 0.8858\n"
     ]
    },
    {
     "data": {
      "text/plain": [
       "[0.3250797986984253, 0.8858000040054321]"
      ]
     },
     "execution_count": 43,
     "metadata": {},
     "output_type": "execute_result"
    }
   ],
   "source": [
    "model.evaluate(X_test, y_test)"
   ]
  },
  {
   "cell_type": "markdown",
   "id": "a9934126",
   "metadata": {
    "papermill": {
     "duration": 0.326443,
     "end_time": "2022-11-25T02:28:18.930297",
     "exception": false,
     "start_time": "2022-11-25T02:28:18.603854",
     "status": "completed"
    },
    "tags": []
   },
   "source": [
    "### Using the model to make predictions"
   ]
  },
  {
   "cell_type": "code",
   "execution_count": 44,
   "id": "6d4420ab",
   "metadata": {
    "execution": {
     "iopub.execute_input": "2022-11-25T02:28:19.452519Z",
     "iopub.status.busy": "2022-11-25T02:28:19.451662Z",
     "iopub.status.idle": "2022-11-25T02:28:19.618807Z",
     "shell.execute_reply": "2022-11-25T02:28:19.617787Z"
    },
    "papermill": {
     "duration": 0.43046,
     "end_time": "2022-11-25T02:28:19.621125",
     "exception": false,
     "start_time": "2022-11-25T02:28:19.190665",
     "status": "completed"
    },
    "tags": []
   },
   "outputs": [
    {
     "data": {
      "text/plain": [
       "array([[0.  , 0.  , 0.  , 0.  , 0.  , 0.01, 0.  , 0.02, 0.  , 0.97],\n",
       "       [0.  , 0.  , 0.99, 0.  , 0.01, 0.  , 0.  , 0.  , 0.  , 0.  ],\n",
       "       [0.  , 1.  , 0.  , 0.  , 0.  , 0.  , 0.  , 0.  , 0.  , 0.  ]],\n",
       "      dtype=float32)"
      ]
     },
     "execution_count": 44,
     "metadata": {},
     "output_type": "execute_result"
    }
   ],
   "source": [
    "X_new = X_test[:3]\n",
    "y_proba = model.predict(X_new)\n",
    "y_proba.round(2)"
   ]
  },
  {
   "cell_type": "code",
   "execution_count": 45,
   "id": "b307c6a3",
   "metadata": {
    "execution": {
     "iopub.execute_input": "2022-11-25T02:28:20.143557Z",
     "iopub.status.busy": "2022-11-25T02:28:20.142702Z",
     "iopub.status.idle": "2022-11-25T02:28:20.150263Z",
     "shell.execute_reply": "2022-11-25T02:28:20.149341Z"
    },
    "papermill": {
     "duration": 0.267226,
     "end_time": "2022-11-25T02:28:20.152706",
     "exception": false,
     "start_time": "2022-11-25T02:28:19.885480",
     "status": "completed"
    },
    "tags": []
   },
   "outputs": [
    {
     "data": {
      "text/plain": [
       "array([9, 2, 1])"
      ]
     },
     "execution_count": 45,
     "metadata": {},
     "output_type": "execute_result"
    }
   ],
   "source": [
    "y_pred = y_proba.argmax(axis=-1)\n",
    "y_pred"
   ]
  },
  {
   "cell_type": "code",
   "execution_count": 46,
   "id": "7bd67522",
   "metadata": {
    "execution": {
     "iopub.execute_input": "2022-11-25T02:28:20.711224Z",
     "iopub.status.busy": "2022-11-25T02:28:20.710411Z",
     "iopub.status.idle": "2022-11-25T02:28:20.718767Z",
     "shell.execute_reply": "2022-11-25T02:28:20.717476Z"
    },
    "papermill": {
     "duration": 0.307092,
     "end_time": "2022-11-25T02:28:20.721056",
     "exception": false,
     "start_time": "2022-11-25T02:28:20.413964",
     "status": "completed"
    },
    "tags": []
   },
   "outputs": [
    {
     "data": {
      "text/plain": [
       "array(['Ankle boot', 'Pullover', 'Trouser'], dtype='<U11')"
      ]
     },
     "execution_count": 46,
     "metadata": {},
     "output_type": "execute_result"
    }
   ],
   "source": [
    "np.array(class_names)[y_pred]"
   ]
  },
  {
   "cell_type": "code",
   "execution_count": 47,
   "id": "706dc928",
   "metadata": {
    "execution": {
     "iopub.execute_input": "2022-11-25T02:28:21.241577Z",
     "iopub.status.busy": "2022-11-25T02:28:21.240731Z",
     "iopub.status.idle": "2022-11-25T02:28:21.247670Z",
     "shell.execute_reply": "2022-11-25T02:28:21.246714Z"
    },
    "papermill": {
     "duration": 0.269427,
     "end_time": "2022-11-25T02:28:21.249924",
     "exception": false,
     "start_time": "2022-11-25T02:28:20.980497",
     "status": "completed"
    },
    "tags": []
   },
   "outputs": [
    {
     "data": {
      "text/plain": [
       "array([9, 2, 1], dtype=uint8)"
      ]
     },
     "execution_count": 47,
     "metadata": {},
     "output_type": "execute_result"
    }
   ],
   "source": [
    "y_new = y_test[:3]\n",
    "y_new"
   ]
  },
  {
   "cell_type": "code",
   "execution_count": 48,
   "id": "2d1ce29b",
   "metadata": {
    "execution": {
     "iopub.execute_input": "2022-11-25T02:28:21.835942Z",
     "iopub.status.busy": "2022-11-25T02:28:21.835472Z",
     "iopub.status.idle": "2022-11-25T02:28:22.215023Z",
     "shell.execute_reply": "2022-11-25T02:28:22.213955Z"
    },
    "papermill": {
     "duration": 0.640722,
     "end_time": "2022-11-25T02:28:22.217658",
     "exception": false,
     "start_time": "2022-11-25T02:28:21.576936",
     "status": "completed"
    },
    "tags": []
   },
   "outputs": [
    {
     "data": {
      "image/png": "[encoded data removed]",
      "text/plain": [
       "<Figure size 518.4x172.8 with 3 Axes>"
      ]
     },
     "metadata": {
      "needs_background": "light"
     },
     "output_type": "display_data"
    }
   ],
   "source": [
    "# extra code – this cell generates and saves Figure 10–12\n",
    "plt.figure(figsize=(7.2, 2.4))\n",
    "for index, image in enumerate(X_new):\n",
    "    plt.subplot(1, 3, index + 1)\n",
    "    plt.imshow(image, cmap=\"binary\", interpolation=\"nearest\")\n",
    "    plt.axis('off')\n",
    "    plt.title(class_names[y_test[index]])\n",
    "plt.subplots_adjust(wspace=0.2, hspace=0.5)\n",
    "save_fig('fashion_mnist_images_plot', tight_layout=False)\n",
    "plt.show()"
   ]
  },
  {
   "cell_type": "markdown",
   "id": "0b95d628",
   "metadata": {
    "papermill": {
     "duration": 0.260162,
     "end_time": "2022-11-25T02:28:22.736130",
     "exception": false,
     "start_time": "2022-11-25T02:28:22.475968",
     "status": "completed"
    },
    "tags": []
   },
   "source": [
    "## Building a Regression MLP Using the Sequential API"
   ]
  },
  {
   "cell_type": "markdown",
   "id": "713f6a79",
   "metadata": {
    "papermill": {
     "duration": 0.260824,
     "end_time": "2022-11-25T02:28:23.257438",
     "exception": false,
     "start_time": "2022-11-25T02:28:22.996614",
     "status": "completed"
    },
    "tags": []
   },
   "source": [
    "Let's load, split and scale the California housing dataset (the original one, not the modified one as in chapter 2):"
   ]
  },
  {
   "cell_type": "code",
   "execution_count": 49,
   "id": "ea33ffc8",
   "metadata": {
    "execution": {
     "iopub.execute_input": "2022-11-25T02:28:23.779914Z",
     "iopub.status.busy": "2022-11-25T02:28:23.778966Z",
     "iopub.status.idle": "2022-11-25T02:28:23.803319Z",
     "shell.execute_reply": "2022-11-25T02:28:23.802220Z"
    },
    "papermill": {
     "duration": 0.289312,
     "end_time": "2022-11-25T02:28:23.806198",
     "exception": false,
     "start_time": "2022-11-25T02:28:23.516886",
     "status": "completed"
    },
    "tags": []
   },
   "outputs": [],
   "source": [
    "# extra code – load and split the California housing dataset, like earlier\n",
    "housing = fetch_california_housing()\n",
    "X_train_full, X_test, y_train_full, y_test = train_test_split(\n",
    "    housing.data, housing.target, random_state=42)\n",
    "X_train, X_valid, y_train, y_valid = train_test_split(\n",
    "    X_train_full, y_train_full, random_state=42)"
   ]
  },
  {
   "cell_type": "code",
   "execution_count": 50,
   "id": "8c5a1106",
   "metadata": {
    "execution": {
     "iopub.execute_input": "2022-11-25T02:28:24.336895Z",
     "iopub.status.busy": "2022-11-25T02:28:24.336023Z",
     "iopub.status.idle": "2022-11-25T02:28:50.353069Z",
     "shell.execute_reply": "2022-11-25T02:28:50.351727Z"
    },
    "papermill": {
     "duration": 26.283577,
     "end_time": "2022-11-25T02:28:50.356310",
     "exception": false,
     "start_time": "2022-11-25T02:28:24.072733",
     "status": "completed"
    },
    "tags": []
   },
   "outputs": [
    {
     "name": "stdout",
     "output_type": "stream",
     "text": [
      "Epoch 1/20\n",
      "363/363 [==============================] - 2s 4ms/step - loss: 0.9051 - root_mean_squared_error: 0.9514 - val_loss: 0.4030 - val_root_mean_squared_error: 0.6348\n",
      "Epoch 2/20\n",
      "363/363 [==============================] - 1s 3ms/step - loss: 0.3843 - root_mean_squared_error: 0.6199 - val_loss: 0.8436 - val_root_mean_squared_error: 0.9185\n",
      "Epoch 3/20\n",
      "363/363 [==============================] - 1s 3ms/step - loss: 0.3609 - root_mean_squared_error: 0.6007 - val_loss: 0.3744 - val_root_mean_squared_error: 0.6119\n",
      "Epoch 4/20\n",
      "363/363 [==============================] - 1s 3ms/step - loss: 0.3416 - root_mean_squared_error: 0.5844 - val_loss: 0.4343 - val_root_mean_squared_error: 0.6590\n",
      "Epoch 5/20\n",
      "363/363 [==============================] - 1s 4ms/step - loss: 0.3301 - root_mean_squared_error: 0.5746 - val_loss: 0.3084 - val_root_mean_squared_error: 0.5554\n",
      "Epoch 6/20\n",
      "363/363 [==============================] - 1s 3ms/step - loss: 0.3169 - root_mean_squared_error: 0.5629 - val_loss: 0.4574 - val_root_mean_squared_error: 0.6763\n",
      "Epoch 7/20\n",
      "363/363 [==============================] - 1s 3ms/step - loss: 0.3162 - root_mean_squared_error: 0.5623 - val_loss: 0.2935 - val_root_mean_squared_error: 0.5418\n",
      "Epoch 8/20\n",
      "363/363 [==============================] - 1s 3ms/step - loss: 0.3044 - root_mean_squared_error: 0.5517 - val_loss: 0.3186 - val_root_mean_squared_error: 0.5644\n",
      "Epoch 9/20\n",
      "363/363 [==============================] - 1s 4ms/step - loss: 0.2980 - root_mean_squared_error: 0.5459 - val_loss: 0.4805 - val_root_mean_squared_error: 0.6931\n",
      "Epoch 10/20\n",
      "363/363 [==============================] - 1s 3ms/step - loss: 0.2938 - root_mean_squared_error: 0.5420 - val_loss: 0.8135 - val_root_mean_squared_error: 0.9020\n",
      "Epoch 11/20\n",
      "363/363 [==============================] - 1s 3ms/step - loss: 0.2871 - root_mean_squared_error: 0.5358 - val_loss: 0.2739 - val_root_mean_squared_error: 0.5234\n",
      "Epoch 12/20\n",
      "363/363 [==============================] - 1s 3ms/step - loss: 0.2927 - root_mean_squared_error: 0.5410 - val_loss: 1.0644 - val_root_mean_squared_error: 1.0317\n",
      "Epoch 13/20\n",
      "363/363 [==============================] - 1s 3ms/step - loss: 0.2874 - root_mean_squared_error: 0.5361 - val_loss: 0.2839 - val_root_mean_squared_error: 0.5328\n",
      "Epoch 14/20\n",
      "363/363 [==============================] - 1s 3ms/step - loss: 0.2788 - root_mean_squared_error: 0.5280 - val_loss: 0.4284 - val_root_mean_squared_error: 0.6545\n",
      "Epoch 15/20\n",
      "363/363 [==============================] - 1s 3ms/step - loss: 0.2781 - root_mean_squared_error: 0.5273 - val_loss: 0.2902 - val_root_mean_squared_error: 0.5387\n",
      "Epoch 16/20\n",
      "363/363 [==============================] - 1s 3ms/step - loss: 0.2746 - root_mean_squared_error: 0.5240 - val_loss: 0.4056 - val_root_mean_squared_error: 0.6369\n",
      "Epoch 17/20\n",
      "363/363 [==============================] - 1s 3ms/step - loss: 0.2754 - root_mean_squared_error: 0.5247 - val_loss: 0.6132 - val_root_mean_squared_error: 0.7831\n",
      "Epoch 18/20\n",
      "363/363 [==============================] - 1s 4ms/step - loss: 0.2695 - root_mean_squared_error: 0.5191 - val_loss: 0.3789 - val_root_mean_squared_error: 0.6156\n",
      "Epoch 19/20\n",
      "363/363 [==============================] - 1s 3ms/step - loss: 0.2670 - root_mean_squared_error: 0.5167 - val_loss: 1.0646 - val_root_mean_squared_error: 1.0318\n",
      "Epoch 20/20\n",
      "363/363 [==============================] - 1s 3ms/step - loss: 0.2744 - root_mean_squared_error: 0.5238 - val_loss: 0.2819 - val_root_mean_squared_error: 0.5309\n",
      "162/162 [==============================] - 0s 2ms/step - loss: 0.2816 - root_mean_squared_error: 0.5307\n"
     ]
    }
   ],
   "source": [
    "tf.random.set_seed(42)\n",
    "norm_layer = tf.keras.layers.Normalization(input_shape=X_train.shape[1:])\n",
    "model = tf.keras.Sequential([\n",
    "    norm_layer,\n",
    "    tf.keras.layers.Dense(50, activation=\"relu\"),\n",
    "    tf.keras.layers.Dense(50, activation=\"relu\"),\n",
    "    tf.keras.layers.Dense(50, activation=\"relu\"),\n",
    "    tf.keras.layers.Dense(1)\n",
    "])\n",
    "optimizer = tf.keras.optimizers.Adam(learning_rate=1e-3)\n",
    "model.compile(loss=\"mse\", optimizer=optimizer, metrics=[\"RootMeanSquaredError\"])\n",
    "norm_layer.adapt(X_train)\n",
    "history = model.fit(X_train, y_train, epochs=20,\n",
    "                    validation_data=(X_valid, y_valid))\n",
    "mse_test, rmse_test = model.evaluate(X_test, y_test)\n",
    "X_new = X_test[:3]\n",
    "y_pred = model.predict(X_new)"
   ]
  },
  {
   "cell_type": "code",
   "execution_count": 51,
   "id": "1022a0b4",
   "metadata": {
    "execution": {
     "iopub.execute_input": "2022-11-25T02:28:51.020111Z",
     "iopub.status.busy": "2022-11-25T02:28:51.019179Z",
     "iopub.status.idle": "2022-11-25T02:28:51.027108Z",
     "shell.execute_reply": "2022-11-25T02:28:51.025841Z"
    },
    "papermill": {
     "duration": 0.31143,
     "end_time": "2022-11-25T02:28:51.029498",
     "exception": false,
     "start_time": "2022-11-25T02:28:50.718068",
     "status": "completed"
    },
    "tags": []
   },
   "outputs": [
    {
     "data": {
      "text/plain": [
       "0.530688464641571"
      ]
     },
     "execution_count": 51,
     "metadata": {},
     "output_type": "execute_result"
    }
   ],
   "source": [
    "rmse_test"
   ]
  },
  {
   "cell_type": "code",
   "execution_count": 52,
   "id": "3a82414b",
   "metadata": {
    "execution": {
     "iopub.execute_input": "2022-11-25T02:28:51.636080Z",
     "iopub.status.busy": "2022-11-25T02:28:51.635026Z",
     "iopub.status.idle": "2022-11-25T02:28:51.643876Z",
     "shell.execute_reply": "2022-11-25T02:28:51.642286Z"
    },
    "papermill": {
     "duration": 0.314355,
     "end_time": "2022-11-25T02:28:51.646017",
     "exception": false,
     "start_time": "2022-11-25T02:28:51.331662",
     "status": "completed"
    },
    "tags": []
   },
   "outputs": [
    {
     "data": {
      "text/plain": [
       "array([[0.47568852],\n",
       "       [1.1840843 ],\n",
       "       [4.9436154 ]], dtype=float32)"
      ]
     },
     "execution_count": 52,
     "metadata": {},
     "output_type": "execute_result"
    }
   ],
   "source": [
    "y_pred"
   ]
  },
  {
   "cell_type": "markdown",
   "id": "cf557a45",
   "metadata": {
    "papermill": {
     "duration": 0.293603,
     "end_time": "2022-11-25T02:28:52.239190",
     "exception": false,
     "start_time": "2022-11-25T02:28:51.945587",
     "status": "completed"
    },
    "tags": []
   },
   "source": [
    "## Building Complex Models Using the Functional API"
   ]
  },
  {
   "cell_type": "markdown",
   "id": "626dc336",
   "metadata": {
    "papermill": {
     "duration": 0.297183,
     "end_time": "2022-11-25T02:28:52.901277",
     "exception": false,
     "start_time": "2022-11-25T02:28:52.604094",
     "status": "completed"
    },
    "tags": []
   },
   "source": [
    "Not all neural network models are simply sequential. Some may have complex topologies. Some may have multiple inputs and/or multiple outputs. For example, a Wide & Deep neural network (see [paper](https://ai.google/research/pubs/pub45413)) connects all or part of the inputs directly to the output layer."
   ]
  },
  {
   "cell_type": "code",
   "execution_count": 53,
   "id": "f08489ae",
   "metadata": {
    "execution": {
     "iopub.execute_input": "2022-11-25T02:28:53.485830Z",
     "iopub.status.busy": "2022-11-25T02:28:53.484136Z",
     "iopub.status.idle": "2022-11-25T02:28:53.507677Z",
     "shell.execute_reply": "2022-11-25T02:28:53.506282Z"
    },
    "papermill": {
     "duration": 0.322411,
     "end_time": "2022-11-25T02:28:53.511597",
     "exception": false,
     "start_time": "2022-11-25T02:28:53.189186",
     "status": "completed"
    },
    "tags": []
   },
   "outputs": [],
   "source": [
    "# extra code – reset the name counters and make the code reproducible\n",
    "tf.keras.backend.clear_session()\n",
    "tf.random.set_seed(42)"
   ]
  },
  {
   "cell_type": "code",
   "execution_count": 54,
   "id": "f6997fb4",
   "metadata": {
    "execution": {
     "iopub.execute_input": "2022-11-25T02:28:54.096810Z",
     "iopub.status.busy": "2022-11-25T02:28:54.095550Z",
     "iopub.status.idle": "2022-11-25T02:28:54.147057Z",
     "shell.execute_reply": "2022-11-25T02:28:54.145697Z"
    },
    "papermill": {
     "duration": 0.341274,
     "end_time": "2022-11-25T02:28:54.150063",
     "exception": false,
     "start_time": "2022-11-25T02:28:53.808789",
     "status": "completed"
    },
    "tags": []
   },
   "outputs": [],
   "source": [
    "normalization_layer = tf.keras.layers.Normalization()\n",
    "hidden_layer1 = tf.keras.layers.Dense(30, activation=\"relu\")\n",
    "hidden_layer2 = tf.keras.layers.Dense(30, activation=\"relu\")\n",
    "concat_layer = tf.keras.layers.Concatenate()\n",
    "output_layer = tf.keras.layers.Dense(1)\n",
    "\n",
    "input_ = tf.keras.layers.Input(shape=X_train.shape[1:])\n",
    "normalized = normalization_layer(input_)\n",
    "hidden1 = hidden_layer1(normalized)\n",
    "hidden2 = hidden_layer2(hidden1)\n",
    "concat = concat_layer([normalized, hidden2])\n",
    "output = output_layer(concat)\n",
    "\n",
    "model = tf.keras.Model(inputs=[input_], outputs=[output])"
   ]
  },
  {
   "cell_type": "code",
   "execution_count": 55,
   "id": "4f129585",
   "metadata": {
    "execution": {
     "iopub.execute_input": "2022-11-25T02:28:54.789394Z",
     "iopub.status.busy": "2022-11-25T02:28:54.788934Z",
     "iopub.status.idle": "2022-11-25T02:28:54.796830Z",
     "shell.execute_reply": "2022-11-25T02:28:54.795214Z"
    },
    "papermill": {
     "duration": 0.364123,
     "end_time": "2022-11-25T02:28:54.799983",
     "exception": false,
     "start_time": "2022-11-25T02:28:54.435860",
     "status": "completed"
    },
    "tags": []
   },
   "outputs": [
    {
     "name": "stdout",
     "output_type": "stream",
     "text": [
      "Model: \"model\"\n",
      "__________________________________________________________________________________________________\n",
      "Layer (type)                    Output Shape         Param #     Connected to                     \n",
      "==================================================================================================\n",
      "input_1 (InputLayer)            [(None, 8)]          0                                            \n",
      "__________________________________________________________________________________________________\n",
      "normalization (Normalization)   (None, 8)            17          input_1[0][0]                    \n",
      "__________________________________________________________________________________________________\n",
      "dense (Dense)                   (None, 30)           270         normalization[0][0]              \n",
      "__________________________________________________________________________________________________\n",
      "dense_1 (Dense)                 (None, 30)           930         dense[0][0]                      \n",
      "__________________________________________________________________________________________________\n",
      "concatenate (Concatenate)       (None, 38)           0           normalization[0][0]              \n",
      "                                                                 dense_1[0][0]                    \n",
      "__________________________________________________________________________________________________\n",
      "dense_2 (Dense)                 (None, 1)            39          concatenate[0][0]                \n",
      "==================================================================================================\n",
      "Total params: 1,256\n",
      "Trainable params: 1,239\n",
      "Non-trainable params: 17\n",
      "__________________________________________________________________________________________________\n"
     ]
    }
   ],
   "source": [
    "model.summary()"
   ]
  },
  {
   "cell_type": "code",
   "execution_count": 56,
   "id": "33eece7b",
   "metadata": {
    "execution": {
     "iopub.execute_input": "2022-11-25T02:28:55.393778Z",
     "iopub.status.busy": "2022-11-25T02:28:55.393211Z",
     "iopub.status.idle": "2022-11-25T02:29:12.273913Z",
     "shell.execute_reply": "2022-11-25T02:29:12.272720Z"
    },
    "papermill": {
     "duration": 17.173211,
     "end_time": "2022-11-25T02:29:12.276901",
     "exception": false,
     "start_time": "2022-11-25T02:28:55.103690",
     "status": "completed"
    },
    "tags": []
   },
   "outputs": [
    {
     "name": "stdout",
     "output_type": "stream",
     "text": [
      "Epoch 1/20\n",
      "363/363 [==============================] - 1s 3ms/step - loss: 0.8358 - root_mean_squared_error: 0.9142 - val_loss: 0.5117 - val_root_mean_squared_error: 0.7153\n",
      "Epoch 2/20\n",
      "363/363 [==============================] - 1s 2ms/step - loss: 0.4329 - root_mean_squared_error: 0.6579 - val_loss: 0.7802 - val_root_mean_squared_error: 0.8833\n",
      "Epoch 3/20\n",
      "363/363 [==============================] - 1s 2ms/step - loss: 0.3900 - root_mean_squared_error: 0.6245 - val_loss: 0.3525 - val_root_mean_squared_error: 0.5937\n",
      "Epoch 4/20\n",
      "363/363 [==============================] - 1s 2ms/step - loss: 0.3646 - root_mean_squared_error: 0.6038 - val_loss: 0.3524 - val_root_mean_squared_error: 0.5937\n",
      "Epoch 5/20\n",
      "363/363 [==============================] - 1s 2ms/step - loss: 0.3523 - root_mean_squared_error: 0.5935 - val_loss: 0.3285 - val_root_mean_squared_error: 0.5731\n",
      "Epoch 6/20\n",
      "363/363 [==============================] - 1s 2ms/step - loss: 0.3419 - root_mean_squared_error: 0.5847 - val_loss: 0.6086 - val_root_mean_squared_error: 0.7801\n",
      "Epoch 7/20\n",
      "363/363 [==============================] - 1s 2ms/step - loss: 0.3408 - root_mean_squared_error: 0.5838 - val_loss: 1.1025 - val_root_mean_squared_error: 1.0500\n",
      "Epoch 8/20\n",
      "363/363 [==============================] - 1s 2ms/step - loss: 0.3288 - root_mean_squared_error: 0.5734 - val_loss: 2.0927 - val_root_mean_squared_error: 1.4466\n",
      "Epoch 9/20\n",
      "363/363 [==============================] - 1s 2ms/step - loss: 0.3293 - root_mean_squared_error: 0.5739 - val_loss: 2.0999 - val_root_mean_squared_error: 1.4491\n",
      "Epoch 10/20\n",
      "363/363 [==============================] - 1s 2ms/step - loss: 0.3352 - root_mean_squared_error: 0.5789 - val_loss: 1.9001 - val_root_mean_squared_error: 1.3784\n",
      "Epoch 11/20\n",
      "363/363 [==============================] - 1s 2ms/step - loss: 0.3175 - root_mean_squared_error: 0.5635 - val_loss: 0.3529 - val_root_mean_squared_error: 0.5941\n",
      "Epoch 12/20\n",
      "363/363 [==============================] - 1s 2ms/step - loss: 0.3172 - root_mean_squared_error: 0.5632 - val_loss: 1.0082 - val_root_mean_squared_error: 1.0041\n",
      "Epoch 13/20\n",
      "363/363 [==============================] - 1s 2ms/step - loss: 0.3082 - root_mean_squared_error: 0.5552 - val_loss: 0.3278 - val_root_mean_squared_error: 0.5725\n",
      "Epoch 14/20\n",
      "363/363 [==============================] - 1s 2ms/step - loss: 0.3013 - root_mean_squared_error: 0.5489 - val_loss: 0.3712 - val_root_mean_squared_error: 0.6092\n",
      "Epoch 15/20\n",
      "363/363 [==============================] - 1s 2ms/step - loss: 0.3003 - root_mean_squared_error: 0.5480 - val_loss: 0.4342 - val_root_mean_squared_error: 0.6590\n",
      "Epoch 16/20\n",
      "363/363 [==============================] - 1s 2ms/step - loss: 0.2987 - root_mean_squared_error: 0.5466 - val_loss: 0.5071 - val_root_mean_squared_error: 0.7121\n",
      "Epoch 17/20\n",
      "363/363 [==============================] - 1s 2ms/step - loss: 0.3000 - root_mean_squared_error: 0.5477 - val_loss: 0.7155 - val_root_mean_squared_error: 0.8458\n",
      "Epoch 18/20\n",
      "363/363 [==============================] - 1s 2ms/step - loss: 0.2964 - root_mean_squared_error: 0.5444 - val_loss: 1.8597 - val_root_mean_squared_error: 1.3637\n",
      "Epoch 19/20\n",
      "363/363 [==============================] - 1s 2ms/step - loss: 0.3005 - root_mean_squared_error: 0.5482 - val_loss: 0.7703 - val_root_mean_squared_error: 0.8777\n",
      "Epoch 20/20\n",
      "363/363 [==============================] - 1s 2ms/step - loss: 0.2981 - root_mean_squared_error: 0.5460 - val_loss: 1.1052 - val_root_mean_squared_error: 1.0513\n",
      "162/162 [==============================] - 0s 1ms/step - loss: 0.2993 - root_mean_squared_error: 0.5471\n"
     ]
    }
   ],
   "source": [
    "optimizer = tf.keras.optimizers.Adam(learning_rate=1e-3)\n",
    "model.compile(loss=\"mse\", optimizer=optimizer, metrics=[\"RootMeanSquaredError\"])\n",
    "normalization_layer.adapt(X_train)\n",
    "history = model.fit(X_train, y_train, epochs=20,\n",
    "                    validation_data=(X_valid, y_valid))\n",
    "mse_test = model.evaluate(X_test, y_test)\n",
    "y_pred = model.predict(X_new)"
   ]
  },
  {
   "cell_type": "markdown",
   "id": "87ba0548",
   "metadata": {
    "papermill": {
     "duration": 0.304926,
     "end_time": "2022-11-25T02:29:12.889173",
     "exception": false,
     "start_time": "2022-11-25T02:29:12.584247",
     "status": "completed"
    },
    "tags": []
   },
   "source": [
    "What if you want to send different subsets of input features through the wide or deep paths? We will send 5 features (features 0 to 4), and 6 through the deep path (features 2 to 7). Note that 3 features will go through both (features 2, 3 and 4)."
   ]
  },
  {
   "cell_type": "code",
   "execution_count": 57,
   "id": "67f3b849",
   "metadata": {
    "execution": {
     "iopub.execute_input": "2022-11-25T02:29:13.572525Z",
     "iopub.status.busy": "2022-11-25T02:29:13.571221Z",
     "iopub.status.idle": "2022-11-25T02:29:13.580306Z",
     "shell.execute_reply": "2022-11-25T02:29:13.579086Z"
    },
    "papermill": {
     "duration": 0.386859,
     "end_time": "2022-11-25T02:29:13.582623",
     "exception": false,
     "start_time": "2022-11-25T02:29:13.195764",
     "status": "completed"
    },
    "tags": []
   },
   "outputs": [],
   "source": [
    "tf.random.set_seed(42)  # extra code"
   ]
  },
  {
   "cell_type": "code",
   "execution_count": 58,
   "id": "e26ca4df",
   "metadata": {
    "execution": {
     "iopub.execute_input": "2022-11-25T02:29:14.193527Z",
     "iopub.status.busy": "2022-11-25T02:29:14.192408Z",
     "iopub.status.idle": "2022-11-25T02:29:14.254646Z",
     "shell.execute_reply": "2022-11-25T02:29:14.253485Z"
    },
    "papermill": {
     "duration": 0.370403,
     "end_time": "2022-11-25T02:29:14.257258",
     "exception": false,
     "start_time": "2022-11-25T02:29:13.886855",
     "status": "completed"
    },
    "tags": []
   },
   "outputs": [],
   "source": [
    "input_wide = tf.keras.layers.Input(shape=[5])  # features 0 to 4\n",
    "input_deep = tf.keras.layers.Input(shape=[6])  # features 2 to 7\n",
    "norm_layer_wide = tf.keras.layers.Normalization()\n",
    "norm_layer_deep = tf.keras.layers.Normalization()\n",
    "norm_wide = norm_layer_wide(input_wide)\n",
    "norm_deep = norm_layer_deep(input_deep)\n",
    "hidden1 = tf.keras.layers.Dense(30, activation=\"relu\")(norm_deep)\n",
    "hidden2 = tf.keras.layers.Dense(30, activation=\"relu\")(hidden1)\n",
    "concat = tf.keras.layers.concatenate([norm_wide, hidden2])\n",
    "output = tf.keras.layers.Dense(1)(concat)\n",
    "model = tf.keras.Model(inputs=[input_wide, input_deep], outputs=[output])"
   ]
  },
  {
   "cell_type": "code",
   "execution_count": 59,
   "id": "7b00e265",
   "metadata": {
    "execution": {
     "iopub.execute_input": "2022-11-25T02:29:14.870114Z",
     "iopub.status.busy": "2022-11-25T02:29:14.869245Z",
     "iopub.status.idle": "2022-11-25T02:29:34.187967Z",
     "shell.execute_reply": "2022-11-25T02:29:34.186740Z"
    },
    "papermill": {
     "duration": 19.62896,
     "end_time": "2022-11-25T02:29:34.190779",
     "exception": false,
     "start_time": "2022-11-25T02:29:14.561819",
     "status": "completed"
    },
    "tags": []
   },
   "outputs": [
    {
     "name": "stdout",
     "output_type": "stream",
     "text": [
      "Epoch 1/20\n",
      "363/363 [==============================] - 2s 3ms/step - loss: 1.2768 - root_mean_squared_error: 1.1300 - val_loss: 0.9497 - val_root_mean_squared_error: 0.9745\n",
      "Epoch 2/20\n",
      "363/363 [==============================] - 1s 3ms/step - loss: 0.4767 - root_mean_squared_error: 0.6904 - val_loss: 1.4311 - val_root_mean_squared_error: 1.1963\n",
      "Epoch 3/20\n",
      "363/363 [==============================] - 1s 2ms/step - loss: 0.4433 - root_mean_squared_error: 0.6658 - val_loss: 0.4258 - val_root_mean_squared_error: 0.6525\n",
      "Epoch 4/20\n",
      "363/363 [==============================] - 1s 2ms/step - loss: 0.4057 - root_mean_squared_error: 0.6370 - val_loss: 0.4009 - val_root_mean_squared_error: 0.6332\n",
      "Epoch 5/20\n",
      "363/363 [==============================] - 1s 2ms/step - loss: 0.3939 - root_mean_squared_error: 0.6276 - val_loss: 1.4774 - val_root_mean_squared_error: 1.2155\n",
      "Epoch 6/20\n",
      "363/363 [==============================] - 1s 2ms/step - loss: 0.3873 - root_mean_squared_error: 0.6223 - val_loss: 2.6819 - val_root_mean_squared_error: 1.6376\n",
      "Epoch 7/20\n",
      "363/363 [==============================] - 1s 2ms/step - loss: 0.3917 - root_mean_squared_error: 0.6259 - val_loss: 3.0769 - val_root_mean_squared_error: 1.7541\n",
      "Epoch 8/20\n",
      "363/363 [==============================] - 1s 2ms/step - loss: 0.3737 - root_mean_squared_error: 0.6113 - val_loss: 3.3294 - val_root_mean_squared_error: 1.8247\n",
      "Epoch 9/20\n",
      "363/363 [==============================] - 1s 2ms/step - loss: 0.3711 - root_mean_squared_error: 0.6092 - val_loss: 2.1121 - val_root_mean_squared_error: 1.4533\n",
      "Epoch 10/20\n",
      "363/363 [==============================] - 1s 2ms/step - loss: 0.3687 - root_mean_squared_error: 0.6072 - val_loss: 1.7401 - val_root_mean_squared_error: 1.3191\n",
      "Epoch 11/20\n",
      "363/363 [==============================] - 1s 2ms/step - loss: 0.3590 - root_mean_squared_error: 0.5992 - val_loss: 0.6135 - val_root_mean_squared_error: 0.7833\n",
      "Epoch 12/20\n",
      "363/363 [==============================] - 1s 3ms/step - loss: 0.3604 - root_mean_squared_error: 0.6003 - val_loss: 1.3951 - val_root_mean_squared_error: 1.1811\n",
      "Epoch 13/20\n",
      "363/363 [==============================] - 1s 2ms/step - loss: 0.3523 - root_mean_squared_error: 0.5936 - val_loss: 0.9423 - val_root_mean_squared_error: 0.9707\n",
      "Epoch 14/20\n",
      "363/363 [==============================] - 1s 2ms/step - loss: 0.3434 - root_mean_squared_error: 0.5860 - val_loss: 0.7881 - val_root_mean_squared_error: 0.8878\n",
      "Epoch 15/20\n",
      "363/363 [==============================] - 1s 2ms/step - loss: 0.3426 - root_mean_squared_error: 0.5853 - val_loss: 0.9298 - val_root_mean_squared_error: 0.9642\n",
      "Epoch 16/20\n",
      "363/363 [==============================] - 1s 2ms/step - loss: 0.3385 - root_mean_squared_error: 0.5818 - val_loss: 1.1576 - val_root_mean_squared_error: 1.0759\n",
      "Epoch 17/20\n",
      "363/363 [==============================] - 1s 2ms/step - loss: 0.3416 - root_mean_squared_error: 0.5845 - val_loss: 1.7364 - val_root_mean_squared_error: 1.3177\n",
      "Epoch 18/20\n",
      "363/363 [==============================] - 1s 2ms/step - loss: 0.3414 - root_mean_squared_error: 0.5843 - val_loss: 2.4878 - val_root_mean_squared_error: 1.5773\n",
      "Epoch 19/20\n",
      "363/363 [==============================] - 1s 2ms/step - loss: 0.3440 - root_mean_squared_error: 0.5865 - val_loss: 1.6113 - val_root_mean_squared_error: 1.2694\n",
      "Epoch 20/20\n",
      "363/363 [==============================] - 1s 2ms/step - loss: 0.3452 - root_mean_squared_error: 0.5875 - val_loss: 1.0289 - val_root_mean_squared_error: 1.0143\n",
      "162/162 [==============================] - 0s 1ms/step - loss: 0.3369 - root_mean_squared_error: 0.5804\n"
     ]
    }
   ],
   "source": [
    "optimizer = tf.keras.optimizers.Adam(learning_rate=1e-3)\n",
    "model.compile(loss=\"mse\", optimizer=optimizer, metrics=[\"RootMeanSquaredError\"])\n",
    "\n",
    "X_train_wide, X_train_deep = X_train[:, :5], X_train[:, 2:]\n",
    "X_valid_wide, X_valid_deep = X_valid[:, :5], X_valid[:, 2:]\n",
    "X_test_wide, X_test_deep = X_test[:, :5], X_test[:, 2:]\n",
    "X_new_wide, X_new_deep = X_test_wide[:3], X_test_deep[:3]\n",
    "\n",
    "norm_layer_wide.adapt(X_train_wide)\n",
    "norm_layer_deep.adapt(X_train_deep)\n",
    "history = model.fit((X_train_wide, X_train_deep), y_train, epochs=20,\n",
    "                    validation_data=((X_valid_wide, X_valid_deep), y_valid))\n",
    "mse_test = model.evaluate((X_test_wide, X_test_deep), y_test)\n",
    "y_pred = model.predict((X_new_wide, X_new_deep))"
   ]
  },
  {
   "cell_type": "markdown",
   "id": "6ddce08b",
   "metadata": {
    "papermill": {
     "duration": 0.391001,
     "end_time": "2022-11-25T02:29:34.908326",
     "exception": false,
     "start_time": "2022-11-25T02:29:34.517325",
     "status": "completed"
    },
    "tags": []
   },
   "source": [
    "Adding an auxiliary output for regularization:"
   ]
  },
  {
   "cell_type": "code",
   "execution_count": 60,
   "id": "f5b701aa",
   "metadata": {
    "execution": {
     "iopub.execute_input": "2022-11-25T02:29:35.556253Z",
     "iopub.status.busy": "2022-11-25T02:29:35.555768Z",
     "iopub.status.idle": "2022-11-25T02:29:35.569086Z",
     "shell.execute_reply": "2022-11-25T02:29:35.567870Z"
    },
    "papermill": {
     "duration": 0.338359,
     "end_time": "2022-11-25T02:29:35.571819",
     "exception": false,
     "start_time": "2022-11-25T02:29:35.233460",
     "status": "completed"
    },
    "tags": []
   },
   "outputs": [],
   "source": [
    "tf.keras.backend.clear_session()\n",
    "tf.random.set_seed(42)"
   ]
  },
  {
   "cell_type": "code",
   "execution_count": 61,
   "id": "e10b6d4c",
   "metadata": {
    "execution": {
     "iopub.execute_input": "2022-11-25T02:29:36.213804Z",
     "iopub.status.busy": "2022-11-25T02:29:36.213080Z",
     "iopub.status.idle": "2022-11-25T02:29:36.284199Z",
     "shell.execute_reply": "2022-11-25T02:29:36.283157Z"
    },
    "papermill": {
     "duration": 0.398139,
     "end_time": "2022-11-25T02:29:36.287047",
     "exception": false,
     "start_time": "2022-11-25T02:29:35.888908",
     "status": "completed"
    },
    "tags": []
   },
   "outputs": [],
   "source": [
    "input_wide = tf.keras.layers.Input(shape=[5])  # features 0 to 4\n",
    "input_deep = tf.keras.layers.Input(shape=[6])  # features 2 to 7\n",
    "norm_layer_wide = tf.keras.layers.Normalization()\n",
    "norm_layer_deep = tf.keras.layers.Normalization()\n",
    "norm_wide = norm_layer_wide(input_wide)\n",
    "norm_deep = norm_layer_deep(input_deep)\n",
    "hidden1 = tf.keras.layers.Dense(30, activation=\"relu\")(norm_deep)\n",
    "hidden2 = tf.keras.layers.Dense(30, activation=\"relu\")(hidden1)\n",
    "concat = tf.keras.layers.concatenate([norm_wide, hidden2])\n",
    "output = tf.keras.layers.Dense(1)(concat)\n",
    "aux_output = tf.keras.layers.Dense(1)(hidden2)\n",
    "model = tf.keras.Model(inputs=[input_wide, input_deep],\n",
    "                       outputs=[output, aux_output])"
   ]
  },
  {
   "cell_type": "code",
   "execution_count": 62,
   "id": "5f8331a9",
   "metadata": {
    "execution": {
     "iopub.execute_input": "2022-11-25T02:29:37.008505Z",
     "iopub.status.busy": "2022-11-25T02:29:37.008009Z",
     "iopub.status.idle": "2022-11-25T02:29:37.021129Z",
     "shell.execute_reply": "2022-11-25T02:29:37.020072Z"
    },
    "papermill": {
     "duration": 0.407086,
     "end_time": "2022-11-25T02:29:37.023696",
     "exception": false,
     "start_time": "2022-11-25T02:29:36.616610",
     "status": "completed"
    },
    "tags": []
   },
   "outputs": [],
   "source": [
    "optimizer = tf.keras.optimizers.Adam(learning_rate=1e-3)\n",
    "model.compile(loss=(\"mse\", \"mse\"), loss_weights=(0.9, 0.1), optimizer=optimizer,\n",
    "              metrics=[\"RootMeanSquaredError\"])"
   ]
  },
  {
   "cell_type": "code",
   "execution_count": 63,
   "id": "4b4b5ece",
   "metadata": {
    "execution": {
     "iopub.execute_input": "2022-11-25T02:29:37.704146Z",
     "iopub.status.busy": "2022-11-25T02:29:37.702976Z",
     "iopub.status.idle": "2022-11-25T02:29:59.235668Z",
     "shell.execute_reply": "2022-11-25T02:29:59.234094Z"
    },
    "papermill": {
     "duration": 21.893627,
     "end_time": "2022-11-25T02:29:59.238695",
     "exception": false,
     "start_time": "2022-11-25T02:29:37.345068",
     "status": "completed"
    },
    "tags": []
   },
   "outputs": [
    {
     "name": "stdout",
     "output_type": "stream",
     "text": [
      "Epoch 1/20\n",
      "363/363 [==============================] - 2s 3ms/step - loss: 1.3490 - dense_2_loss: 1.2742 - dense_3_loss: 2.0215 - dense_2_root_mean_squared_error: 1.1288 - dense_3_root_mean_squared_error: 1.4218 - val_loss: 1.5415 - val_dense_2_loss: 0.9593 - val_dense_3_loss: 6.7806 - val_dense_2_root_mean_squared_error: 0.9795 - val_dense_3_root_mean_squared_error: 2.6040\n",
      "Epoch 2/20\n",
      "363/363 [==============================] - 1s 3ms/step - loss: 0.5101 - dense_2_loss: 0.4785 - dense_3_loss: 0.7952 - dense_2_root_mean_squared_error: 0.6917 - dense_3_root_mean_squared_error: 0.8917 - val_loss: 1.3624 - val_dense_2_loss: 1.0094 - val_dense_3_loss: 4.5401 - val_dense_2_root_mean_squared_error: 1.0047 - val_dense_3_root_mean_squared_error: 2.1308\n",
      "Epoch 3/20\n",
      "363/363 [==============================] - 1s 3ms/step - loss: 0.4618 - dense_2_loss: 0.4404 - dense_3_loss: 0.6546 - dense_2_root_mean_squared_error: 0.6636 - dense_3_root_mean_squared_error: 0.8091 - val_loss: 0.5361 - val_dense_2_loss: 0.3975 - val_dense_3_loss: 1.7837 - val_dense_2_root_mean_squared_error: 0.6305 - val_dense_3_root_mean_squared_error: 1.3355\n",
      "Epoch 4/20\n",
      "363/363 [==============================] - 1s 3ms/step - loss: 0.4252 - dense_2_loss: 0.4059 - dense_3_loss: 0.5985 - dense_2_root_mean_squared_error: 0.6371 - dense_3_root_mean_squared_error: 0.7736 - val_loss: 0.5182 - val_dense_2_loss: 0.4590 - val_dense_3_loss: 1.0517 - val_dense_2_root_mean_squared_error: 0.6775 - val_dense_3_root_mean_squared_error: 1.0255\n",
      "Epoch 5/20\n",
      "363/363 [==============================] - 1s 3ms/step - loss: 0.4106 - dense_2_loss: 0.3931 - dense_3_loss: 0.5690 - dense_2_root_mean_squared_error: 0.6269 - dense_3_root_mean_squared_error: 0.7543 - val_loss: 0.4049 - val_dense_2_loss: 0.3588 - val_dense_3_loss: 0.8196 - val_dense_2_root_mean_squared_error: 0.5990 - val_dense_3_root_mean_squared_error: 0.9053\n",
      "Epoch 6/20\n",
      "363/363 [==============================] - 1s 3ms/step - loss: 0.3944 - dense_2_loss: 0.3780 - dense_3_loss: 0.5424 - dense_2_root_mean_squared_error: 0.6148 - dense_3_root_mean_squared_error: 0.7365 - val_loss: 0.4168 - val_dense_2_loss: 0.3934 - val_dense_3_loss: 0.6275 - val_dense_2_root_mean_squared_error: 0.6272 - val_dense_3_root_mean_squared_error: 0.7921\n",
      "Epoch 7/20\n",
      "363/363 [==============================] - 1s 3ms/step - loss: 0.3837 - dense_2_loss: 0.3694 - dense_3_loss: 0.5126 - dense_2_root_mean_squared_error: 0.6078 - dense_3_root_mean_squared_error: 0.7160 - val_loss: 0.3661 - val_dense_2_loss: 0.3430 - val_dense_3_loss: 0.5747 - val_dense_2_root_mean_squared_error: 0.5856 - val_dense_3_root_mean_squared_error: 0.7581\n",
      "Epoch 8/20\n",
      "363/363 [==============================] - 1s 3ms/step - loss: 0.3731 - dense_2_loss: 0.3608 - dense_3_loss: 0.4840 - dense_2_root_mean_squared_error: 0.6007 - dense_3_root_mean_squared_error: 0.6957 - val_loss: 0.8556 - val_dense_2_loss: 0.8704 - val_dense_3_loss: 0.7218 - val_dense_2_root_mean_squared_error: 0.9330 - val_dense_3_root_mean_squared_error: 0.8496\n",
      "Epoch 9/20\n",
      "363/363 [==============================] - 1s 3ms/step - loss: 0.3672 - dense_2_loss: 0.3567 - dense_3_loss: 0.4624 - dense_2_root_mean_squared_error: 0.5972 - dense_3_root_mean_squared_error: 0.6800 - val_loss: 2.6878 - val_dense_2_loss: 2.9011 - val_dense_3_loss: 0.7675 - val_dense_2_root_mean_squared_error: 1.7033 - val_dense_3_root_mean_squared_error: 0.8761\n",
      "Epoch 10/20\n",
      "363/363 [==============================] - 1s 4ms/step - loss: 0.3837 - dense_2_loss: 0.3765 - dense_3_loss: 0.4481 - dense_2_root_mean_squared_error: 0.6136 - dense_3_root_mean_squared_error: 0.6694 - val_loss: 3.6017 - val_dense_2_loss: 3.8004 - val_dense_3_loss: 1.8132 - val_dense_2_root_mean_squared_error: 1.9495 - val_dense_3_root_mean_squared_error: 1.3466\n",
      "Epoch 11/20\n",
      "363/363 [==============================] - 1s 3ms/step - loss: 0.3728 - dense_2_loss: 0.3656 - dense_3_loss: 0.4377 - dense_2_root_mean_squared_error: 0.6046 - dense_3_root_mean_squared_error: 0.6616 - val_loss: 0.6115 - val_dense_2_loss: 0.6324 - val_dense_3_loss: 0.4226 - val_dense_2_root_mean_squared_error: 0.7953 - val_dense_3_root_mean_squared_error: 0.6501\n",
      "Epoch 12/20\n",
      "363/363 [==============================] - 1s 3ms/step - loss: 0.3750 - dense_2_loss: 0.3688 - dense_3_loss: 0.4303 - dense_2_root_mean_squared_error: 0.6073 - dense_3_root_mean_squared_error: 0.6560 - val_loss: 0.9371 - val_dense_2_loss: 0.9545 - val_dense_3_loss: 0.7799 - val_dense_2_root_mean_squared_error: 0.9770 - val_dense_3_root_mean_squared_error: 0.8831\n",
      "Epoch 13/20\n",
      "363/363 [==============================] - 1s 3ms/step - loss: 0.3570 - dense_2_loss: 0.3499 - dense_3_loss: 0.4203 - dense_2_root_mean_squared_error: 0.5915 - dense_3_root_mean_squared_error: 0.6483 - val_loss: 0.4224 - val_dense_2_loss: 0.4245 - val_dense_3_loss: 0.4039 - val_dense_2_root_mean_squared_error: 0.6515 - val_dense_3_root_mean_squared_error: 0.6355\n",
      "Epoch 14/20\n",
      "363/363 [==============================] - 1s 3ms/step - loss: 0.3493 - dense_2_loss: 0.3421 - dense_3_loss: 0.4148 - dense_2_root_mean_squared_error: 0.5849 - dense_3_root_mean_squared_error: 0.6440 - val_loss: 0.3410 - val_dense_2_loss: 0.3221 - val_dense_3_loss: 0.5105 - val_dense_2_root_mean_squared_error: 0.5676 - val_dense_3_root_mean_squared_error: 0.7145\n",
      "Epoch 15/20\n",
      "363/363 [==============================] - 1s 3ms/step - loss: 0.3496 - dense_2_loss: 0.3432 - dense_3_loss: 0.4076 - dense_2_root_mean_squared_error: 0.5858 - dense_3_root_mean_squared_error: 0.6384 - val_loss: 0.6461 - val_dense_2_loss: 0.6671 - val_dense_3_loss: 0.4570 - val_dense_2_root_mean_squared_error: 0.8168 - val_dense_3_root_mean_squared_error: 0.6760\n",
      "Epoch 16/20\n",
      "363/363 [==============================] - 1s 3ms/step - loss: 0.3435 - dense_2_loss: 0.3370 - dense_3_loss: 0.4022 - dense_2_root_mean_squared_error: 0.5805 - dense_3_root_mean_squared_error: 0.6342 - val_loss: 0.6875 - val_dense_2_loss: 0.6841 - val_dense_3_loss: 0.7182 - val_dense_2_root_mean_squared_error: 0.8271 - val_dense_3_root_mean_squared_error: 0.8475\n",
      "Epoch 17/20\n",
      "363/363 [==============================] - 1s 3ms/step - loss: 0.3458 - dense_2_loss: 0.3393 - dense_3_loss: 0.4037 - dense_2_root_mean_squared_error: 0.5825 - dense_3_root_mean_squared_error: 0.6354 - val_loss: 1.1564 - val_dense_2_loss: 1.2129 - val_dense_3_loss: 0.6483 - val_dense_2_root_mean_squared_error: 1.1013 - val_dense_3_root_mean_squared_error: 0.8052\n",
      "Epoch 18/20\n",
      "363/363 [==============================] - 1s 3ms/step - loss: 0.3446 - dense_2_loss: 0.3385 - dense_3_loss: 0.3994 - dense_2_root_mean_squared_error: 0.5818 - dense_3_root_mean_squared_error: 0.6320 - val_loss: 3.9325 - val_dense_2_loss: 4.0947 - val_dense_3_loss: 2.4722 - val_dense_2_root_mean_squared_error: 2.0235 - val_dense_3_root_mean_squared_error: 1.5723\n",
      "Epoch 19/20\n",
      "363/363 [==============================] - 1s 3ms/step - loss: 0.3563 - dense_2_loss: 0.3511 - dense_3_loss: 0.4029 - dense_2_root_mean_squared_error: 0.5925 - dense_3_root_mean_squared_error: 0.6347 - val_loss: 1.4560 - val_dense_2_loss: 1.5434 - val_dense_3_loss: 0.6697 - val_dense_2_root_mean_squared_error: 1.2423 - val_dense_3_root_mean_squared_error: 0.8183\n",
      "Epoch 20/20\n",
      "363/363 [==============================] - 1s 3ms/step - loss: 0.3546 - dense_2_loss: 0.3498 - dense_3_loss: 0.3981 - dense_2_root_mean_squared_error: 0.5914 - dense_3_root_mean_squared_error: 0.6310 - val_loss: 1.1710 - val_dense_2_loss: 1.1945 - val_dense_3_loss: 0.9589 - val_dense_2_root_mean_squared_error: 1.0929 - val_dense_3_root_mean_squared_error: 0.9792\n"
     ]
    }
   ],
   "source": [
    "norm_layer_wide.adapt(X_train_wide)\n",
    "norm_layer_deep.adapt(X_train_deep)\n",
    "history = model.fit(\n",
    "    (X_train_wide, X_train_deep), (y_train, y_train), epochs=20,\n",
    "    validation_data=((X_valid_wide, X_valid_deep), (y_valid, y_valid))\n",
    ")"
   ]
  },
  {
   "cell_type": "code",
   "execution_count": 64,
   "id": "c5478154",
   "metadata": {
    "execution": {
     "iopub.execute_input": "2022-11-25T02:29:59.975781Z",
     "iopub.status.busy": "2022-11-25T02:29:59.974856Z",
     "iopub.status.idle": "2022-11-25T02:30:00.368966Z",
     "shell.execute_reply": "2022-11-25T02:30:00.367476Z"
    },
    "papermill": {
     "duration": 0.750682,
     "end_time": "2022-11-25T02:30:00.371961",
     "exception": false,
     "start_time": "2022-11-25T02:29:59.621279",
     "status": "completed"
    },
    "tags": []
   },
   "outputs": [
    {
     "name": "stdout",
     "output_type": "stream",
     "text": [
      "162/162 [==============================] - 0s 2ms/step - loss: 0.3446 - dense_2_loss: 0.3381 - dense_3_loss: 0.4031 - dense_2_root_mean_squared_error: 0.5815 - dense_3_root_mean_squared_error: 0.6349\n"
     ]
    }
   ],
   "source": [
    "eval_results = model.evaluate((X_test_wide, X_test_deep), (y_test, y_test))\n",
    "weighted_sum_of_losses, main_loss, aux_loss, main_rmse, aux_rmse = eval_results"
   ]
  },
  {
   "cell_type": "code",
   "execution_count": 65,
   "id": "31ea4b05",
   "metadata": {
    "execution": {
     "iopub.execute_input": "2022-11-25T02:30:01.141916Z",
     "iopub.status.busy": "2022-11-25T02:30:01.141066Z",
     "iopub.status.idle": "2022-11-25T02:30:01.300457Z",
     "shell.execute_reply": "2022-11-25T02:30:01.299058Z"
    },
    "papermill": {
     "duration": 0.514559,
     "end_time": "2022-11-25T02:30:01.303455",
     "exception": false,
     "start_time": "2022-11-25T02:30:00.788896",
     "status": "completed"
    },
    "tags": []
   },
   "outputs": [],
   "source": [
    "y_pred_main, y_pred_aux = model.predict((X_new_wide, X_new_deep))"
   ]
  },
  {
   "cell_type": "code",
   "execution_count": 66,
   "id": "15ba040d",
   "metadata": {
    "execution": {
     "iopub.execute_input": "2022-11-25T02:30:02.004225Z",
     "iopub.status.busy": "2022-11-25T02:30:02.002915Z",
     "iopub.status.idle": "2022-11-25T02:30:02.079685Z",
     "shell.execute_reply": "2022-11-25T02:30:02.078190Z"
    },
    "papermill": {
     "duration": 0.431567,
     "end_time": "2022-11-25T02:30:02.083553",
     "exception": false,
     "start_time": "2022-11-25T02:30:01.651986",
     "status": "completed"
    },
    "tags": []
   },
   "outputs": [],
   "source": [
    "y_pred_tuple = model.predict((X_new_wide, X_new_deep))\n",
    "y_pred = dict(zip(model.output_names, y_pred_tuple))"
   ]
  },
  {
   "cell_type": "markdown",
   "id": "4d0ec972",
   "metadata": {
    "papermill": {
     "duration": 0.423687,
     "end_time": "2022-11-25T02:30:02.856242",
     "exception": false,
     "start_time": "2022-11-25T02:30:02.432555",
     "status": "completed"
    },
    "tags": []
   },
   "source": [
    "## Using the Subclassing API to Build Dynamic Models"
   ]
  },
  {
   "cell_type": "code",
   "execution_count": 67,
   "id": "29e50ced",
   "metadata": {
    "execution": {
     "iopub.execute_input": "2022-11-25T02:30:03.561965Z",
     "iopub.status.busy": "2022-11-25T02:30:03.561467Z",
     "iopub.status.idle": "2022-11-25T02:30:03.599607Z",
     "shell.execute_reply": "2022-11-25T02:30:03.598244Z"
    },
    "papermill": {
     "duration": 0.392382,
     "end_time": "2022-11-25T02:30:03.602708",
     "exception": false,
     "start_time": "2022-11-25T02:30:03.210326",
     "status": "completed"
    },
    "tags": []
   },
   "outputs": [],
   "source": [
    "class WideAndDeepModel(tf.keras.Model):\n",
    "    def __init__(self, units=30, activation=\"relu\", **kwargs):\n",
    "        super().__init__(**kwargs)  # needed to support naming the model\n",
    "        self.norm_layer_wide = tf.keras.layers.Normalization()\n",
    "        self.norm_layer_deep = tf.keras.layers.Normalization()\n",
    "        self.hidden1 = tf.keras.layers.Dense(units, activation=activation)\n",
    "        self.hidden2 = tf.keras.layers.Dense(units, activation=activation)\n",
    "        self.main_output = tf.keras.layers.Dense(1)\n",
    "        self.aux_output = tf.keras.layers.Dense(1)\n",
    "        \n",
    "    def call(self, inputs):\n",
    "        input_wide, input_deep = inputs\n",
    "        norm_wide = self.norm_layer_wide(input_wide)\n",
    "        norm_deep = self.norm_layer_deep(input_deep)\n",
    "        hidden1 = self.hidden1(norm_deep)\n",
    "        hidden2 = self.hidden2(hidden1)\n",
    "        concat = tf.keras.layers.concatenate([norm_wide, hidden2])\n",
    "        output = self.main_output(concat)\n",
    "        aux_output = self.aux_output(hidden2)\n",
    "        return output, aux_output\n",
    "\n",
    "tf.random.set_seed(42)  # extra code – just for reproducibility\n",
    "model = WideAndDeepModel(30, activation=\"relu\", name=\"my_cool_model\")"
   ]
  },
  {
   "cell_type": "code",
   "execution_count": 68,
   "id": "514ed9f2",
   "metadata": {
    "execution": {
     "iopub.execute_input": "2022-11-25T02:30:04.304791Z",
     "iopub.status.busy": "2022-11-25T02:30:04.304282Z",
     "iopub.status.idle": "2022-11-25T02:30:18.285082Z",
     "shell.execute_reply": "2022-11-25T02:30:18.283518Z"
    },
    "papermill": {
     "duration": 14.336067,
     "end_time": "2022-11-25T02:30:18.288306",
     "exception": false,
     "start_time": "2022-11-25T02:30:03.952239",
     "status": "completed"
    },
    "tags": []
   },
   "outputs": [
    {
     "name": "stdout",
     "output_type": "stream",
     "text": [
      "Epoch 1/10\n",
      "363/363 [==============================] - 2s 4ms/step - loss: 1.3490 - output_1_loss: 1.2742 - output_2_loss: 2.0215 - output_1_root_mean_squared_error: 1.1288 - output_2_root_mean_squared_error: 1.4218 - val_loss: 1.5415 - val_output_1_loss: 0.9593 - val_output_2_loss: 6.7806 - val_output_1_root_mean_squared_error: 0.9795 - val_output_2_root_mean_squared_error: 2.6040\n",
      "Epoch 2/10\n",
      "363/363 [==============================] - 1s 3ms/step - loss: 0.5101 - output_1_loss: 0.4785 - output_2_loss: 0.7952 - output_1_root_mean_squared_error: 0.6917 - output_2_root_mean_squared_error: 0.8917 - val_loss: 1.3624 - val_output_1_loss: 1.0094 - val_output_2_loss: 4.5401 - val_output_1_root_mean_squared_error: 1.0047 - val_output_2_root_mean_squared_error: 2.1308\n",
      "Epoch 3/10\n",
      "363/363 [==============================] - 1s 3ms/step - loss: 0.4618 - output_1_loss: 0.4404 - output_2_loss: 0.6546 - output_1_root_mean_squared_error: 0.6636 - output_2_root_mean_squared_error: 0.8091 - val_loss: 0.5361 - val_output_1_loss: 0.3975 - val_output_2_loss: 1.7837 - val_output_1_root_mean_squared_error: 0.6305 - val_output_2_root_mean_squared_error: 1.3355\n",
      "Epoch 4/10\n",
      "363/363 [==============================] - 1s 3ms/step - loss: 0.4252 - output_1_loss: 0.4059 - output_2_loss: 0.5985 - output_1_root_mean_squared_error: 0.6371 - output_2_root_mean_squared_error: 0.7736 - val_loss: 0.5182 - val_output_1_loss: 0.4590 - val_output_2_loss: 1.0517 - val_output_1_root_mean_squared_error: 0.6775 - val_output_2_root_mean_squared_error: 1.0255\n",
      "Epoch 5/10\n",
      "363/363 [==============================] - 1s 3ms/step - loss: 0.4106 - output_1_loss: 0.3931 - output_2_loss: 0.5690 - output_1_root_mean_squared_error: 0.6269 - output_2_root_mean_squared_error: 0.7543 - val_loss: 0.4049 - val_output_1_loss: 0.3588 - val_output_2_loss: 0.8196 - val_output_1_root_mean_squared_error: 0.5990 - val_output_2_root_mean_squared_error: 0.9053\n",
      "Epoch 6/10\n",
      "363/363 [==============================] - 1s 3ms/step - loss: 0.3944 - output_1_loss: 0.3780 - output_2_loss: 0.5424 - output_1_root_mean_squared_error: 0.6148 - output_2_root_mean_squared_error: 0.7365 - val_loss: 0.4168 - val_output_1_loss: 0.3934 - val_output_2_loss: 0.6275 - val_output_1_root_mean_squared_error: 0.6272 - val_output_2_root_mean_squared_error: 0.7921\n",
      "Epoch 7/10\n",
      "363/363 [==============================] - 1s 3ms/step - loss: 0.3837 - output_1_loss: 0.3694 - output_2_loss: 0.5126 - output_1_root_mean_squared_error: 0.6078 - output_2_root_mean_squared_error: 0.7160 - val_loss: 0.3661 - val_output_1_loss: 0.3430 - val_output_2_loss: 0.5747 - val_output_1_root_mean_squared_error: 0.5856 - val_output_2_root_mean_squared_error: 0.7581\n",
      "Epoch 8/10\n",
      "363/363 [==============================] - 1s 3ms/step - loss: 0.3731 - output_1_loss: 0.3608 - output_2_loss: 0.4840 - output_1_root_mean_squared_error: 0.6007 - output_2_root_mean_squared_error: 0.6957 - val_loss: 0.8556 - val_output_1_loss: 0.8704 - val_output_2_loss: 0.7218 - val_output_1_root_mean_squared_error: 0.9330 - val_output_2_root_mean_squared_error: 0.8496\n",
      "Epoch 9/10\n",
      "363/363 [==============================] - 1s 3ms/step - loss: 0.3672 - output_1_loss: 0.3567 - output_2_loss: 0.4624 - output_1_root_mean_squared_error: 0.5972 - output_2_root_mean_squared_error: 0.6800 - val_loss: 2.6878 - val_output_1_loss: 2.9011 - val_output_2_loss: 0.7675 - val_output_1_root_mean_squared_error: 1.7033 - val_output_2_root_mean_squared_error: 0.8761\n",
      "Epoch 10/10\n",
      "363/363 [==============================] - 1s 3ms/step - loss: 0.3837 - output_1_loss: 0.3765 - output_2_loss: 0.4481 - output_1_root_mean_squared_error: 0.6136 - output_2_root_mean_squared_error: 0.6694 - val_loss: 3.6017 - val_output_1_loss: 3.8004 - val_output_2_loss: 1.8132 - val_output_1_root_mean_squared_error: 1.9495 - val_output_2_root_mean_squared_error: 1.3466\n",
      "162/162 [==============================] - 0s 2ms/step - loss: 0.3652 - output_1_loss: 0.3570 - output_2_loss: 0.4387 - output_1_root_mean_squared_error: 0.5975 - output_2_root_mean_squared_error: 0.6624\n"
     ]
    }
   ],
   "source": [
    "optimizer = tf.keras.optimizers.Adam(learning_rate=1e-3)\n",
    "model.compile(loss=\"mse\", loss_weights=[0.9, 0.1], optimizer=optimizer,\n",
    "              metrics=[\"RootMeanSquaredError\"])\n",
    "model.norm_layer_wide.adapt(X_train_wide)\n",
    "model.norm_layer_deep.adapt(X_train_deep)\n",
    "history = model.fit(\n",
    "    (X_train_wide, X_train_deep), (y_train, y_train), epochs=10,\n",
    "    validation_data=((X_valid_wide, X_valid_deep), (y_valid, y_valid)))\n",
    "eval_results = model.evaluate((X_test_wide, X_test_deep), (y_test, y_test))\n",
    "weighted_sum_of_losses, main_loss, aux_loss, main_rmse, aux_rmse = eval_results\n",
    "y_pred_main, y_pred_aux = model.predict((X_new_wide, X_new_deep))"
   ]
  },
  {
   "cell_type": "markdown",
   "id": "13a6bee7",
   "metadata": {
    "papermill": {
     "duration": 0.359821,
     "end_time": "2022-11-25T02:30:19.081743",
     "exception": false,
     "start_time": "2022-11-25T02:30:18.721922",
     "status": "completed"
    },
    "tags": []
   },
   "source": [
    "## Saving and Restoring a Model"
   ]
  },
  {
   "cell_type": "code",
   "execution_count": 69,
   "id": "ae488b38",
   "metadata": {
    "execution": {
     "iopub.execute_input": "2022-11-25T02:30:19.844357Z",
     "iopub.status.busy": "2022-11-25T02:30:19.843124Z",
     "iopub.status.idle": "2022-11-25T02:30:19.850019Z",
     "shell.execute_reply": "2022-11-25T02:30:19.848740Z"
    },
    "papermill": {
     "duration": 0.410557,
     "end_time": "2022-11-25T02:30:19.853004",
     "exception": false,
     "start_time": "2022-11-25T02:30:19.442447",
     "status": "completed"
    },
    "tags": []
   },
   "outputs": [],
   "source": [
    "# extra code – delete the directory, in case it already exists\n",
    "\n",
    "import shutil\n",
    "\n",
    "shutil.rmtree(\"my_keras_model\", ignore_errors=True)"
   ]
  },
  {
   "cell_type": "code",
   "execution_count": 70,
   "id": "73926508",
   "metadata": {
    "execution": {
     "iopub.execute_input": "2022-11-25T02:30:20.688854Z",
     "iopub.status.busy": "2022-11-25T02:30:20.687988Z",
     "iopub.status.idle": "2022-11-25T02:30:21.981632Z",
     "shell.execute_reply": "2022-11-25T02:30:21.980081Z"
    },
    "papermill": {
     "duration": 1.743533,
     "end_time": "2022-11-25T02:30:21.984820",
     "exception": false,
     "start_time": "2022-11-25T02:30:20.241287",
     "status": "completed"
    },
    "tags": []
   },
   "outputs": [
    {
     "name": "stderr",
     "output_type": "stream",
     "text": [
      "2022-11-25 02:30:21.162166: W tensorflow/python/util/util.cc:348] Sets are not currently considered sequences, but this may change in the future, so consider avoiding using them.\n"
     ]
    }
   ],
   "source": [
    "model.save(\"my_keras_model\", save_format=\"tf\")"
   ]
  },
  {
   "cell_type": "code",
   "execution_count": 71,
   "id": "23f708b0",
   "metadata": {
    "execution": {
     "iopub.execute_input": "2022-11-25T02:30:22.718804Z",
     "iopub.status.busy": "2022-11-25T02:30:22.718284Z",
     "iopub.status.idle": "2022-11-25T02:30:22.727078Z",
     "shell.execute_reply": "2022-11-25T02:30:22.724698Z"
    },
    "papermill": {
     "duration": 0.377293,
     "end_time": "2022-11-25T02:30:22.729808",
     "exception": false,
     "start_time": "2022-11-25T02:30:22.352515",
     "status": "completed"
    },
    "tags": []
   },
   "outputs": [
    {
     "name": "stdout",
     "output_type": "stream",
     "text": [
      "my_keras_model/assets\n",
      "my_keras_model/keras_metadata.pb\n",
      "my_keras_model/saved_model.pb\n",
      "my_keras_model/variables\n",
      "my_keras_model/variables/variables.data-00000-of-00001\n",
      "my_keras_model/variables/variables.index\n"
     ]
    }
   ],
   "source": [
    "# extra code – show the contents of the my_keras_model/ directory\n",
    "for path in sorted(Path(\"my_keras_model\").glob(\"**/*\")):\n",
    "    print(path)"
   ]
  },
  {
   "cell_type": "code",
   "execution_count": 72,
   "id": "fcc94761",
   "metadata": {
    "execution": {
     "iopub.execute_input": "2022-11-25T02:30:23.458248Z",
     "iopub.status.busy": "2022-11-25T02:30:23.456469Z",
     "iopub.status.idle": "2022-11-25T02:30:23.998380Z",
     "shell.execute_reply": "2022-11-25T02:30:23.996898Z"
    },
    "papermill": {
     "duration": 0.91265,
     "end_time": "2022-11-25T02:30:24.001232",
     "exception": false,
     "start_time": "2022-11-25T02:30:23.088582",
     "status": "completed"
    },
    "tags": []
   },
   "outputs": [],
   "source": [
    "model = tf.keras.models.load_model(\"my_keras_model\")\n",
    "y_pred_main, y_pred_aux = model.predict((X_new_wide, X_new_deep))"
   ]
  },
  {
   "cell_type": "code",
   "execution_count": 73,
   "id": "bb5d164a",
   "metadata": {
    "execution": {
     "iopub.execute_input": "2022-11-25T02:30:24.814210Z",
     "iopub.status.busy": "2022-11-25T02:30:24.813368Z",
     "iopub.status.idle": "2022-11-25T02:30:24.829662Z",
     "shell.execute_reply": "2022-11-25T02:30:24.828202Z"
    },
    "papermill": {
     "duration": 0.388613,
     "end_time": "2022-11-25T02:30:24.832517",
     "exception": false,
     "start_time": "2022-11-25T02:30:24.443904",
     "status": "completed"
    },
    "tags": []
   },
   "outputs": [],
   "source": [
    "model.save_weights(\"my_weights\")"
   ]
  },
  {
   "cell_type": "code",
   "execution_count": 74,
   "id": "1a632cff",
   "metadata": {
    "execution": {
     "iopub.execute_input": "2022-11-25T02:30:25.568378Z",
     "iopub.status.busy": "2022-11-25T02:30:25.567899Z",
     "iopub.status.idle": "2022-11-25T02:30:25.586135Z",
     "shell.execute_reply": "2022-11-25T02:30:25.585042Z"
    },
    "papermill": {
     "duration": 0.389848,
     "end_time": "2022-11-25T02:30:25.588510",
     "exception": false,
     "start_time": "2022-11-25T02:30:25.198662",
     "status": "completed"
    },
    "tags": []
   },
   "outputs": [
    {
     "data": {
      "text/plain": [
       "<tensorflow.python.training.tracking.util.CheckpointLoadStatus at 0x7f08208c9a90>"
      ]
     },
     "execution_count": 74,
     "metadata": {},
     "output_type": "execute_result"
    }
   ],
   "source": [
    "model.load_weights(\"my_weights\")"
   ]
  },
  {
   "cell_type": "code",
   "execution_count": 75,
   "id": "12057c80",
   "metadata": {
    "execution": {
     "iopub.execute_input": "2022-11-25T02:30:26.384053Z",
     "iopub.status.busy": "2022-11-25T02:30:26.383238Z",
     "iopub.status.idle": "2022-11-25T02:30:26.390128Z",
     "shell.execute_reply": "2022-11-25T02:30:26.388688Z"
    },
    "papermill": {
     "duration": 0.371185,
     "end_time": "2022-11-25T02:30:26.393083",
     "exception": false,
     "start_time": "2022-11-25T02:30:26.021898",
     "status": "completed"
    },
    "tags": []
   },
   "outputs": [
    {
     "name": "stdout",
     "output_type": "stream",
     "text": [
      "my_weights.data-00000-of-00001\n",
      "my_weights.index\n"
     ]
    }
   ],
   "source": [
    "# extra code – show the list of my_weights.* files\n",
    "for path in sorted(Path().glob(\"my_weights.*\")):\n",
    "    print(path)"
   ]
  },
  {
   "cell_type": "markdown",
   "id": "7b213a16",
   "metadata": {
    "papermill": {
     "duration": 0.357559,
     "end_time": "2022-11-25T02:30:27.114680",
     "exception": false,
     "start_time": "2022-11-25T02:30:26.757121",
     "status": "completed"
    },
    "tags": []
   },
   "source": [
    "## Using Callbacks"
   ]
  },
  {
   "cell_type": "code",
   "execution_count": 76,
   "id": "87552901",
   "metadata": {
    "execution": {
     "iopub.execute_input": "2022-11-25T02:30:27.849242Z",
     "iopub.status.busy": "2022-11-25T02:30:27.848806Z",
     "iopub.status.idle": "2022-11-25T02:30:27.854159Z",
     "shell.execute_reply": "2022-11-25T02:30:27.853126Z"
    },
    "papermill": {
     "duration": 0.371851,
     "end_time": "2022-11-25T02:30:27.856389",
     "exception": false,
     "start_time": "2022-11-25T02:30:27.484538",
     "status": "completed"
    },
    "tags": []
   },
   "outputs": [],
   "source": [
    "shutil.rmtree(\"my_checkpoints\", ignore_errors=True)  # extra code"
   ]
  },
  {
   "cell_type": "code",
   "execution_count": 77,
   "id": "92127f8f",
   "metadata": {
    "execution": {
     "iopub.execute_input": "2022-11-25T02:30:28.669518Z",
     "iopub.status.busy": "2022-11-25T02:30:28.668387Z",
     "iopub.status.idle": "2022-11-25T02:30:43.093886Z",
     "shell.execute_reply": "2022-11-25T02:30:43.092549Z"
    },
    "papermill": {
     "duration": 14.803981,
     "end_time": "2022-11-25T02:30:43.096810",
     "exception": false,
     "start_time": "2022-11-25T02:30:28.292829",
     "status": "completed"
    },
    "tags": []
   },
   "outputs": [
    {
     "name": "stdout",
     "output_type": "stream",
     "text": [
      "Epoch 1/10\n",
      "363/363 [==============================] - 2s 4ms/step - loss: 0.3775 - output_1_loss: 0.3706 - output_2_loss: 0.4402 - output_1_root_mean_squared_error: 0.6087 - output_2_root_mean_squared_error: 0.6635 - val_loss: 0.3369 - val_output_1_loss: 0.3234 - val_output_2_loss: 0.4587 - val_output_1_root_mean_squared_error: 0.5687 - val_output_2_root_mean_squared_error: 0.6773\n",
      "Epoch 2/10\n",
      "363/363 [==============================] - 1s 4ms/step - loss: 0.3556 - output_1_loss: 0.3480 - output_2_loss: 0.4242 - output_1_root_mean_squared_error: 0.5899 - output_2_root_mean_squared_error: 0.6513 - val_loss: 0.4940 - val_output_1_loss: 0.4650 - val_output_2_loss: 0.7551 - val_output_1_root_mean_squared_error: 0.6819 - val_output_2_root_mean_squared_error: 0.8689\n",
      "Epoch 3/10\n",
      "363/363 [==============================] - 1s 4ms/step - loss: 0.3612 - output_1_loss: 0.3547 - output_2_loss: 0.4198 - output_1_root_mean_squared_error: 0.5956 - output_2_root_mean_squared_error: 0.6480 - val_loss: 0.3443 - val_output_1_loss: 0.3355 - val_output_2_loss: 0.4241 - val_output_1_root_mean_squared_error: 0.5792 - val_output_2_root_mean_squared_error: 0.6512\n",
      "Epoch 4/10\n",
      "363/363 [==============================] - 1s 4ms/step - loss: 0.3494 - output_1_loss: 0.3425 - output_2_loss: 0.4110 - output_1_root_mean_squared_error: 0.5852 - output_2_root_mean_squared_error: 0.6411 - val_loss: 0.4676 - val_output_1_loss: 0.4635 - val_output_2_loss: 0.5046 - val_output_1_root_mean_squared_error: 0.6808 - val_output_2_root_mean_squared_error: 0.7103\n",
      "Epoch 5/10\n",
      "363/363 [==============================] - 1s 3ms/step - loss: 0.3526 - output_1_loss: 0.3465 - output_2_loss: 0.4070 - output_1_root_mean_squared_error: 0.5887 - output_2_root_mean_squared_error: 0.6379 - val_loss: 1.2893 - val_output_1_loss: 1.3708 - val_output_2_loss: 0.5566 - val_output_1_root_mean_squared_error: 1.1708 - val_output_2_root_mean_squared_error: 0.7461\n",
      "Epoch 6/10\n",
      "363/363 [==============================] - 1s 3ms/step - loss: 0.3510 - output_1_loss: 0.3451 - output_2_loss: 0.4037 - output_1_root_mean_squared_error: 0.5875 - output_2_root_mean_squared_error: 0.6354 - val_loss: 1.6742 - val_output_1_loss: 1.7525 - val_output_2_loss: 0.9693 - val_output_1_root_mean_squared_error: 1.3238 - val_output_2_root_mean_squared_error: 0.9845\n",
      "Epoch 7/10\n",
      "363/363 [==============================] - 1s 4ms/step - loss: 0.3534 - output_1_loss: 0.3478 - output_2_loss: 0.4039 - output_1_root_mean_squared_error: 0.5898 - output_2_root_mean_squared_error: 0.6355 - val_loss: 0.6924 - val_output_1_loss: 0.7223 - val_output_2_loss: 0.4230 - val_output_1_root_mean_squared_error: 0.8499 - val_output_2_root_mean_squared_error: 0.6504\n",
      "Epoch 8/10\n",
      "363/363 [==============================] - 1s 4ms/step - loss: 0.3408 - output_1_loss: 0.3347 - output_2_loss: 0.3961 - output_1_root_mean_squared_error: 0.5785 - output_2_root_mean_squared_error: 0.6294 - val_loss: 1.7330 - val_output_1_loss: 1.7672 - val_output_2_loss: 1.4256 - val_output_1_root_mean_squared_error: 1.3293 - val_output_2_root_mean_squared_error: 1.1940\n",
      "Epoch 9/10\n",
      "363/363 [==============================] - 1s 4ms/step - loss: 0.3428 - output_1_loss: 0.3367 - output_2_loss: 0.3976 - output_1_root_mean_squared_error: 0.5802 - output_2_root_mean_squared_error: 0.6306 - val_loss: 1.5293 - val_output_1_loss: 1.6359 - val_output_2_loss: 0.5699 - val_output_1_root_mean_squared_error: 1.2790 - val_output_2_root_mean_squared_error: 0.7549\n",
      "Epoch 10/10\n",
      "363/363 [==============================] - 1s 3ms/step - loss: 0.3509 - output_1_loss: 0.3461 - output_2_loss: 0.3949 - output_1_root_mean_squared_error: 0.5883 - output_2_root_mean_squared_error: 0.6284 - val_loss: 1.4536 - val_output_1_loss: 1.4664 - val_output_2_loss: 1.3384 - val_output_1_root_mean_squared_error: 1.2110 - val_output_2_root_mean_squared_error: 1.1569\n"
     ]
    }
   ],
   "source": [
    "checkpoint_cb = tf.keras.callbacks.ModelCheckpoint(\"my_checkpoints\",\n",
    "                                                   save_weights_only=True)\n",
    "history = model.fit(\n",
    "    (X_train_wide, X_train_deep), (y_train, y_train), epochs=10,\n",
    "    validation_data=((X_valid_wide, X_valid_deep), (y_valid, y_valid)),\n",
    "    callbacks=[checkpoint_cb])"
   ]
  },
  {
   "cell_type": "code",
   "execution_count": 78,
   "id": "24c6e6f7",
   "metadata": {
    "execution": {
     "iopub.execute_input": "2022-11-25T02:30:43.890748Z",
     "iopub.status.busy": "2022-11-25T02:30:43.890164Z",
     "iopub.status.idle": "2022-11-25T02:31:10.926667Z",
     "shell.execute_reply": "2022-11-25T02:31:10.925202Z"
    },
    "papermill": {
     "duration": 27.438601,
     "end_time": "2022-11-25T02:31:10.929457",
     "exception": false,
     "start_time": "2022-11-25T02:30:43.490856",
     "status": "completed"
    },
    "tags": []
   },
   "outputs": [
    {
     "name": "stdout",
     "output_type": "stream",
     "text": [
      "Epoch 1/100\n",
      "363/363 [==============================] - 1s 4ms/step - loss: 0.3416 - output_1_loss: 0.3359 - output_2_loss: 0.3932 - output_1_root_mean_squared_error: 0.5796 - output_2_root_mean_squared_error: 0.6271 - val_loss: 0.7698 - val_output_1_loss: 0.8093 - val_output_2_loss: 0.4144 - val_output_1_root_mean_squared_error: 0.8996 - val_output_2_root_mean_squared_error: 0.6437\n",
      "Epoch 2/100\n",
      "363/363 [==============================] - 1s 4ms/step - loss: 0.3405 - output_1_loss: 0.3351 - output_2_loss: 0.3892 - output_1_root_mean_squared_error: 0.5789 - output_2_root_mean_squared_error: 0.6239 - val_loss: 1.0004 - val_output_1_loss: 1.0048 - val_output_2_loss: 0.9603 - val_output_1_root_mean_squared_error: 1.0024 - val_output_2_root_mean_squared_error: 0.9799\n",
      "Epoch 3/100\n",
      "363/363 [==============================] - 1s 4ms/step - loss: 0.3448 - output_1_loss: 0.3396 - output_2_loss: 0.3922 - output_1_root_mean_squared_error: 0.5827 - output_2_root_mean_squared_error: 0.6263 - val_loss: 0.3705 - val_output_1_loss: 0.3704 - val_output_2_loss: 0.3717 - val_output_1_root_mean_squared_error: 0.6086 - val_output_2_root_mean_squared_error: 0.6097\n",
      "Epoch 4/100\n",
      "363/363 [==============================] - 1s 3ms/step - loss: 0.3346 - output_1_loss: 0.3287 - output_2_loss: 0.3870 - output_1_root_mean_squared_error: 0.5733 - output_2_root_mean_squared_error: 0.6221 - val_loss: 0.4435 - val_output_1_loss: 0.4294 - val_output_2_loss: 0.5706 - val_output_1_root_mean_squared_error: 0.6553 - val_output_2_root_mean_squared_error: 0.7554\n",
      "Epoch 5/100\n",
      "363/363 [==============================] - 1s 3ms/step - loss: 0.3370 - output_1_loss: 0.3319 - output_2_loss: 0.3833 - output_1_root_mean_squared_error: 0.5761 - output_2_root_mean_squared_error: 0.6191 - val_loss: 0.5855 - val_output_1_loss: 0.6062 - val_output_2_loss: 0.3996 - val_output_1_root_mean_squared_error: 0.7786 - val_output_2_root_mean_squared_error: 0.6322\n",
      "Epoch 6/100\n",
      "363/363 [==============================] - 2s 5ms/step - loss: 0.3310 - output_1_loss: 0.3255 - output_2_loss: 0.3799 - output_1_root_mean_squared_error: 0.5705 - output_2_root_mean_squared_error: 0.6164 - val_loss: 1.0197 - val_output_1_loss: 1.0327 - val_output_2_loss: 0.9022 - val_output_1_root_mean_squared_error: 1.0162 - val_output_2_root_mean_squared_error: 0.9499\n",
      "Epoch 7/100\n",
      "363/363 [==============================] - 1s 3ms/step - loss: 0.3338 - output_1_loss: 0.3284 - output_2_loss: 0.3817 - output_1_root_mean_squared_error: 0.5731 - output_2_root_mean_squared_error: 0.6178 - val_loss: 0.6948 - val_output_1_loss: 0.7256 - val_output_2_loss: 0.4177 - val_output_1_root_mean_squared_error: 0.8518 - val_output_2_root_mean_squared_error: 0.6463\n",
      "Epoch 8/100\n",
      "363/363 [==============================] - 1s 4ms/step - loss: 0.3284 - output_1_loss: 0.3230 - output_2_loss: 0.3770 - output_1_root_mean_squared_error: 0.5683 - output_2_root_mean_squared_error: 0.6140 - val_loss: 2.2389 - val_output_1_loss: 2.2545 - val_output_2_loss: 2.0987 - val_output_1_root_mean_squared_error: 1.5015 - val_output_2_root_mean_squared_error: 1.4487\n",
      "Epoch 9/100\n",
      "363/363 [==============================] - 1s 3ms/step - loss: 0.3314 - output_1_loss: 0.3260 - output_2_loss: 0.3796 - output_1_root_mean_squared_error: 0.5710 - output_2_root_mean_squared_error: 0.6161 - val_loss: 1.0001 - val_output_1_loss: 1.0525 - val_output_2_loss: 0.5279 - val_output_1_root_mean_squared_error: 1.0259 - val_output_2_root_mean_squared_error: 0.7266\n",
      "Epoch 10/100\n",
      "363/363 [==============================] - 1s 3ms/step - loss: 0.3331 - output_1_loss: 0.3282 - output_2_loss: 0.3771 - output_1_root_mean_squared_error: 0.5729 - output_2_root_mean_squared_error: 0.6141 - val_loss: 1.0554 - val_output_1_loss: 1.0723 - val_output_2_loss: 0.9032 - val_output_1_root_mean_squared_error: 1.0355 - val_output_2_root_mean_squared_error: 0.9503\n",
      "Epoch 11/100\n",
      "363/363 [==============================] - 1s 3ms/step - loss: 0.3249 - output_1_loss: 0.3197 - output_2_loss: 0.3718 - output_1_root_mean_squared_error: 0.5655 - output_2_root_mean_squared_error: 0.6098 - val_loss: 0.3160 - val_output_1_loss: 0.3094 - val_output_2_loss: 0.3747 - val_output_1_root_mean_squared_error: 0.5563 - val_output_2_root_mean_squared_error: 0.6122\n",
      "Epoch 12/100\n",
      "363/363 [==============================] - 1s 4ms/step - loss: 0.3288 - output_1_loss: 0.3239 - output_2_loss: 0.3735 - output_1_root_mean_squared_error: 0.5691 - output_2_root_mean_squared_error: 0.6112 - val_loss: 0.6674 - val_output_1_loss: 0.6644 - val_output_2_loss: 0.6946 - val_output_1_root_mean_squared_error: 0.8151 - val_output_2_root_mean_squared_error: 0.8334\n",
      "Epoch 13/100\n",
      "363/363 [==============================] - 1s 4ms/step - loss: 0.3217 - output_1_loss: 0.3164 - output_2_loss: 0.3695 - output_1_root_mean_squared_error: 0.5625 - output_2_root_mean_squared_error: 0.6078 - val_loss: 0.3560 - val_output_1_loss: 0.3556 - val_output_2_loss: 0.3598 - val_output_1_root_mean_squared_error: 0.5963 - val_output_2_root_mean_squared_error: 0.5999\n",
      "Epoch 14/100\n",
      "363/363 [==============================] - 1s 3ms/step - loss: 0.3190 - output_1_loss: 0.3136 - output_2_loss: 0.3679 - output_1_root_mean_squared_error: 0.5600 - output_2_root_mean_squared_error: 0.6066 - val_loss: 0.3267 - val_output_1_loss: 0.3135 - val_output_2_loss: 0.4456 - val_output_1_root_mean_squared_error: 0.5599 - val_output_2_root_mean_squared_error: 0.6676\n",
      "Epoch 15/100\n",
      "363/363 [==============================] - 1s 3ms/step - loss: 0.3187 - output_1_loss: 0.3135 - output_2_loss: 0.3651 - output_1_root_mean_squared_error: 0.5599 - output_2_root_mean_squared_error: 0.6042 - val_loss: 0.4327 - val_output_1_loss: 0.4357 - val_output_2_loss: 0.4051 - val_output_1_root_mean_squared_error: 0.6601 - val_output_2_root_mean_squared_error: 0.6365\n",
      "Epoch 16/100\n",
      "363/363 [==============================] - 1s 3ms/step - loss: 0.3172 - output_1_loss: 0.3119 - output_2_loss: 0.3647 - output_1_root_mean_squared_error: 0.5585 - output_2_root_mean_squared_error: 0.6039 - val_loss: 0.6472 - val_output_1_loss: 0.6563 - val_output_2_loss: 0.5648 - val_output_1_root_mean_squared_error: 0.8101 - val_output_2_root_mean_squared_error: 0.7516\n",
      "Epoch 17/100\n",
      "363/363 [==============================] - 1s 4ms/step - loss: 0.3190 - output_1_loss: 0.3139 - output_2_loss: 0.3651 - output_1_root_mean_squared_error: 0.5603 - output_2_root_mean_squared_error: 0.6042 - val_loss: 0.4704 - val_output_1_loss: 0.4807 - val_output_2_loss: 0.3775 - val_output_1_root_mean_squared_error: 0.6933 - val_output_2_root_mean_squared_error: 0.6144\n",
      "Epoch 18/100\n",
      "363/363 [==============================] - 1s 3ms/step - loss: 0.3152 - output_1_loss: 0.3100 - output_2_loss: 0.3616 - output_1_root_mean_squared_error: 0.5568 - output_2_root_mean_squared_error: 0.6014 - val_loss: 2.0428 - val_output_1_loss: 1.9480 - val_output_2_loss: 2.8962 - val_output_1_root_mean_squared_error: 1.3957 - val_output_2_root_mean_squared_error: 1.7018\n",
      "Epoch 19/100\n",
      "363/363 [==============================] - 1s 3ms/step - loss: 0.3220 - output_1_loss: 0.3165 - output_2_loss: 0.3710 - output_1_root_mean_squared_error: 0.5626 - output_2_root_mean_squared_error: 0.6091 - val_loss: 1.0195 - val_output_1_loss: 1.0290 - val_output_2_loss: 0.9340 - val_output_1_root_mean_squared_error: 1.0144 - val_output_2_root_mean_squared_error: 0.9664\n",
      "Epoch 20/100\n",
      "363/363 [==============================] - 1s 3ms/step - loss: 0.3232 - output_1_loss: 0.3182 - output_2_loss: 0.3681 - output_1_root_mean_squared_error: 0.5641 - output_2_root_mean_squared_error: 0.6067 - val_loss: 0.9366 - val_output_1_loss: 0.9883 - val_output_2_loss: 0.4718 - val_output_1_root_mean_squared_error: 0.9941 - val_output_2_root_mean_squared_error: 0.6869\n",
      "Epoch 21/100\n",
      "363/363 [==============================] - 1s 3ms/step - loss: 0.3161 - output_1_loss: 0.3115 - output_2_loss: 0.3576 - output_1_root_mean_squared_error: 0.5582 - output_2_root_mean_squared_error: 0.5980 - val_loss: 0.3242 - val_output_1_loss: 0.3193 - val_output_2_loss: 0.3686 - val_output_1_root_mean_squared_error: 0.5650 - val_output_2_root_mean_squared_error: 0.6071\n"
     ]
    }
   ],
   "source": [
    "early_stopping_cb = tf.keras.callbacks.EarlyStopping(patience=10,\n",
    "                                                     restore_best_weights=True)\n",
    "history = model.fit(\n",
    "    (X_train_wide, X_train_deep), (y_train, y_train), epochs=100,\n",
    "    validation_data=((X_valid_wide, X_valid_deep), (y_valid, y_valid)),\n",
    "    callbacks=[checkpoint_cb, early_stopping_cb])"
   ]
  },
  {
   "cell_type": "code",
   "execution_count": 79,
   "id": "b7753ddd",
   "metadata": {
    "execution": {
     "iopub.execute_input": "2022-11-25T02:31:11.841939Z",
     "iopub.status.busy": "2022-11-25T02:31:11.841418Z",
     "iopub.status.idle": "2022-11-25T02:31:11.848471Z",
     "shell.execute_reply": "2022-11-25T02:31:11.846882Z"
    },
    "papermill": {
     "duration": 0.430187,
     "end_time": "2022-11-25T02:31:11.851088",
     "exception": false,
     "start_time": "2022-11-25T02:31:11.420901",
     "status": "completed"
    },
    "tags": []
   },
   "outputs": [],
   "source": [
    "class PrintValTrainRatioCallback(tf.keras.callbacks.Callback):\n",
    "    def on_epoch_end(self, epoch, logs):\n",
    "        ratio = logs[\"val_loss\"] / logs[\"loss\"]\n",
    "        print(f\"Epoch={epoch}, val/train={ratio:.2f}\")"
   ]
  },
  {
   "cell_type": "code",
   "execution_count": 80,
   "id": "fed9d8c5",
   "metadata": {
    "execution": {
     "iopub.execute_input": "2022-11-25T02:31:12.677785Z",
     "iopub.status.busy": "2022-11-25T02:31:12.677293Z",
     "iopub.status.idle": "2022-11-25T02:31:22.444740Z",
     "shell.execute_reply": "2022-11-25T02:31:22.443577Z"
    },
    "papermill": {
     "duration": 10.187297,
     "end_time": "2022-11-25T02:31:22.448556",
     "exception": false,
     "start_time": "2022-11-25T02:31:12.261259",
     "status": "completed"
    },
    "tags": []
   },
   "outputs": [
    {
     "name": "stdout",
     "output_type": "stream",
     "text": [
      "Epoch=0, val/train=0.98\n",
      "Epoch=1, val/train=1.47\n",
      "Epoch=2, val/train=0.93\n",
      "Epoch=3, val/train=1.03\n",
      "Epoch=4, val/train=1.38\n",
      "Epoch=5, val/train=4.03\n",
      "Epoch=6, val/train=2.47\n",
      "Epoch=7, val/train=10.63\n",
      "Epoch=8, val/train=3.38\n",
      "Epoch=9, val/train=1.71\n"
     ]
    }
   ],
   "source": [
    "val_train_ratio_cb = PrintValTrainRatioCallback()\n",
    "history = model.fit(\n",
    "    (X_train_wide, X_train_deep), (y_train, y_train), epochs=10,\n",
    "    validation_data=((X_valid_wide, X_valid_deep), (y_valid, y_valid)),\n",
    "    callbacks=[val_train_ratio_cb], verbose=0)"
   ]
  },
  {
   "cell_type": "markdown",
   "id": "d8aeaaf2",
   "metadata": {
    "papermill": {
     "duration": 0.479686,
     "end_time": "2022-11-25T02:31:23.351750",
     "exception": false,
     "start_time": "2022-11-25T02:31:22.872064",
     "status": "completed"
    },
    "tags": []
   },
   "source": [
    "## Using TensorBoard for Visualization"
   ]
  },
  {
   "cell_type": "markdown",
   "id": "332d9dfb",
   "metadata": {
    "papermill": {
     "duration": 0.411072,
     "end_time": "2022-11-25T02:31:24.170089",
     "exception": false,
     "start_time": "2022-11-25T02:31:23.759017",
     "status": "completed"
    },
    "tags": []
   },
   "source": [
    "TensorBoard is preinstalled on Colab, but not the `tensorboard-plugin-profile`, so let's install it:"
   ]
  },
  {
   "cell_type": "code",
   "execution_count": 81,
   "id": "69b59a38",
   "metadata": {
    "execution": {
     "iopub.execute_input": "2022-11-25T02:31:25.067965Z",
     "iopub.status.busy": "2022-11-25T02:31:25.067228Z",
     "iopub.status.idle": "2022-11-25T02:31:25.072660Z",
     "shell.execute_reply": "2022-11-25T02:31:25.071658Z"
    },
    "papermill": {
     "duration": 0.491338,
     "end_time": "2022-11-25T02:31:25.075039",
     "exception": false,
     "start_time": "2022-11-25T02:31:24.583701",
     "status": "completed"
    },
    "tags": []
   },
   "outputs": [],
   "source": [
    "if \"google.colab\" in sys.modules:  # extra code\n",
    "    %pip install -q -U tensorboard-plugin-profile"
   ]
  },
  {
   "cell_type": "code",
   "execution_count": 82,
   "id": "65b06a40",
   "metadata": {
    "execution": {
     "iopub.execute_input": "2022-11-25T02:31:25.893475Z",
     "iopub.status.busy": "2022-11-25T02:31:25.892342Z",
     "iopub.status.idle": "2022-11-25T02:31:25.898438Z",
     "shell.execute_reply": "2022-11-25T02:31:25.897390Z"
    },
    "papermill": {
     "duration": 0.419717,
     "end_time": "2022-11-25T02:31:25.900970",
     "exception": false,
     "start_time": "2022-11-25T02:31:25.481253",
     "status": "completed"
    },
    "tags": []
   },
   "outputs": [],
   "source": [
    "shutil.rmtree(\"my_logs\", ignore_errors=True)"
   ]
  },
  {
   "cell_type": "code",
   "execution_count": 83,
   "id": "e9a269cc",
   "metadata": {
    "execution": {
     "iopub.execute_input": "2022-11-25T02:31:26.799093Z",
     "iopub.status.busy": "2022-11-25T02:31:26.798627Z",
     "iopub.status.idle": "2022-11-25T02:31:26.804908Z",
     "shell.execute_reply": "2022-11-25T02:31:26.803665Z"
    },
    "papermill": {
     "duration": 0.497972,
     "end_time": "2022-11-25T02:31:26.807247",
     "exception": false,
     "start_time": "2022-11-25T02:31:26.309275",
     "status": "completed"
    },
    "tags": []
   },
   "outputs": [],
   "source": [
    "from pathlib import Path\n",
    "from time import strftime\n",
    "\n",
    "def get_run_logdir(root_logdir=\"my_logs\"):\n",
    "    return Path(root_logdir) / strftime(\"run_%Y_%m_%d_%H_%M_%S\")\n",
    "\n",
    "run_logdir = get_run_logdir()"
   ]
  },
  {
   "cell_type": "code",
   "execution_count": 84,
   "id": "789203ea",
   "metadata": {
    "execution": {
     "iopub.execute_input": "2022-11-25T02:31:27.658586Z",
     "iopub.status.busy": "2022-11-25T02:31:27.658119Z",
     "iopub.status.idle": "2022-11-25T02:31:28.083536Z",
     "shell.execute_reply": "2022-11-25T02:31:28.082331Z"
    },
    "papermill": {
     "duration": 0.869225,
     "end_time": "2022-11-25T02:31:28.086511",
     "exception": false,
     "start_time": "2022-11-25T02:31:27.217286",
     "status": "completed"
    },
    "tags": []
   },
   "outputs": [],
   "source": [
    "# extra code – builds the first regression model we used earlier\n",
    "tf.keras.backend.clear_session()\n",
    "tf.random.set_seed(42)\n",
    "norm_layer = tf.keras.layers.Normalization(input_shape=X_train.shape[1:])\n",
    "model = tf.keras.Sequential([\n",
    "    norm_layer,\n",
    "    tf.keras.layers.Dense(30, activation=\"relu\"),\n",
    "    tf.keras.layers.Dense(30, activation=\"relu\"),\n",
    "    tf.keras.layers.Dense(1)\n",
    "])\n",
    "optimizer = tf.keras.optimizers.SGD(learning_rate=1e-3)\n",
    "model.compile(loss=\"mse\", optimizer=optimizer, metrics=[\"RootMeanSquaredError\"])\n",
    "norm_layer.adapt(X_train)"
   ]
  },
  {
   "cell_type": "code",
   "execution_count": 85,
   "id": "c7b5732e",
   "metadata": {
    "execution": {
     "iopub.execute_input": "2022-11-25T02:31:28.987600Z",
     "iopub.status.busy": "2022-11-25T02:31:28.986687Z",
     "iopub.status.idle": "2022-11-25T02:31:44.574513Z",
     "shell.execute_reply": "2022-11-25T02:31:44.573514Z"
    },
    "papermill": {
     "duration": 16.079198,
     "end_time": "2022-11-25T02:31:44.577250",
     "exception": false,
     "start_time": "2022-11-25T02:31:28.498052",
     "status": "completed"
    },
    "tags": []
   },
   "outputs": [
    {
     "name": "stderr",
     "output_type": "stream",
     "text": [
      "2022-11-25 02:31:28.993935: I tensorflow/core/profiler/lib/profiler_session.cc:131] Profiler session initializing.\n",
      "2022-11-25 02:31:28.994152: I tensorflow/core/profiler/lib/profiler_session.cc:146] Profiler session started.\n",
      "2022-11-25 02:31:28.995570: I tensorflow/core/profiler/lib/profiler_session.cc:164] Profiler session tear down.\n"
     ]
    },
    {
     "name": "stdout",
     "output_type": "stream",
     "text": [
      "Epoch 1/20\n",
      "174/363 [=============>................] - ETA: 0s - loss: 2.9027 - root_mean_squared_error: 1.7037"
     ]
    },
    {
     "name": "stderr",
     "output_type": "stream",
     "text": [
      "2022-11-25 02:31:29.657275: I tensorflow/core/profiler/lib/profiler_session.cc:131] Profiler session initializing.\n",
      "2022-11-25 02:31:29.657343: I tensorflow/core/profiler/lib/profiler_session.cc:146] Profiler session started.\n",
      "2022-11-25 02:31:29.834311: I tensorflow/core/profiler/lib/profiler_session.cc:66] Profiler session collecting data.\n",
      "2022-11-25 02:31:29.858619: I tensorflow/core/profiler/lib/profiler_session.cc:164] Profiler session tear down.\n"
     ]
    },
    {
     "name": "stdout",
     "output_type": "stream",
     "text": [
      "260/363 [====================>.........] - ETA: 0s - loss: 2.3235 - root_mean_squared_error: 1.5243"
     ]
    },
    {
     "name": "stderr",
     "output_type": "stream",
     "text": [
      "2022-11-25 02:31:29.922073: I tensorflow/core/profiler/rpc/client/save_profile.cc:136] Creating directory: my_logs/run_2022_11_25_02_31_26/train/plugins/profile/2022_11_25_02_31_29\n",
      "\n",
      "2022-11-25 02:31:29.955592: I tensorflow/core/profiler/rpc/client/save_profile.cc:142] Dumped gzipped tool data for trace.json.gz to my_logs/run_2022_11_25_02_31_26/train/plugins/profile/2022_11_25_02_31_29/909636ce4a93.trace.json.gz\n",
      "2022-11-25 02:31:29.988359: I tensorflow/core/profiler/rpc/client/save_profile.cc:136] Creating directory: my_logs/run_2022_11_25_02_31_26/train/plugins/profile/2022_11_25_02_31_29\n",
      "\n",
      "2022-11-25 02:31:29.988784: I tensorflow/core/profiler/rpc/client/save_profile.cc:142] Dumped gzipped tool data for memory_profile.json.gz to my_logs/run_2022_11_25_02_31_26/train/plugins/profile/2022_11_25_02_31_29/909636ce4a93.memory_profile.json.gz\n",
      "2022-11-25 02:31:29.990539: I tensorflow/core/profiler/rpc/client/capture_profile.cc:251] Creating directory: my_logs/run_2022_11_25_02_31_26/train/plugins/profile/2022_11_25_02_31_29\n",
      "Dumped tool data for xplane.pb to my_logs/run_2022_11_25_02_31_26/train/plugins/profile/2022_11_25_02_31_29/909636ce4a93.xplane.pb\n",
      "Dumped tool data for overview_page.pb to my_logs/run_2022_11_25_02_31_26/train/plugins/profile/2022_11_25_02_31_29/909636ce4a93.overview_page.pb\n",
      "Dumped tool data for input_pipeline.pb to my_logs/run_2022_11_25_02_31_26/train/plugins/profile/2022_11_25_02_31_29/909636ce4a93.input_pipeline.pb\n",
      "Dumped tool data for tensorflow_stats.pb to my_logs/run_2022_11_25_02_31_26/train/plugins/profile/2022_11_25_02_31_29/909636ce4a93.tensorflow_stats.pb\n",
      "Dumped tool data for kernel_stats.pb to my_logs/run_2022_11_25_02_31_26/train/plugins/profile/2022_11_25_02_31_29/909636ce4a93.kernel_stats.pb\n",
      "\n"
     ]
    },
    {
     "name": "stdout",
     "output_type": "stream",
     "text": [
      "363/363 [==============================] - 2s 3ms/step - loss: 1.8866 - root_mean_squared_error: 1.3736 - val_loss: 0.7126 - val_root_mean_squared_error: 0.8442\n",
      "Epoch 2/20\n",
      "363/363 [==============================] - 1s 2ms/step - loss: 0.6577 - root_mean_squared_error: 0.8110 - val_loss: 0.6880 - val_root_mean_squared_error: 0.8295\n",
      "Epoch 3/20\n",
      "363/363 [==============================] - 1s 2ms/step - loss: 0.5934 - root_mean_squared_error: 0.7703 - val_loss: 0.5803 - val_root_mean_squared_error: 0.7618\n",
      "Epoch 4/20\n",
      "363/363 [==============================] - 1s 2ms/step - loss: 0.5557 - root_mean_squared_error: 0.7455 - val_loss: 0.5166 - val_root_mean_squared_error: 0.7188\n",
      "Epoch 5/20\n",
      "363/363 [==============================] - 1s 2ms/step - loss: 0.5272 - root_mean_squared_error: 0.7261 - val_loss: 0.4895 - val_root_mean_squared_error: 0.6997\n",
      "Epoch 6/20\n",
      "363/363 [==============================] - 1s 2ms/step - loss: 0.5033 - root_mean_squared_error: 0.7094 - val_loss: 0.4951 - val_root_mean_squared_error: 0.7036\n",
      "Epoch 7/20\n",
      "363/363 [==============================] - 1s 2ms/step - loss: 0.4854 - root_mean_squared_error: 0.6967 - val_loss: 0.4862 - val_root_mean_squared_error: 0.6973\n",
      "Epoch 8/20\n",
      "363/363 [==============================] - 1s 2ms/step - loss: 0.4709 - root_mean_squared_error: 0.6862 - val_loss: 0.4554 - val_root_mean_squared_error: 0.6748\n",
      "Epoch 9/20\n",
      "363/363 [==============================] - 1s 2ms/step - loss: 0.4578 - root_mean_squared_error: 0.6766 - val_loss: 0.4413 - val_root_mean_squared_error: 0.6643\n",
      "Epoch 10/20\n",
      "363/363 [==============================] - 1s 2ms/step - loss: 0.4474 - root_mean_squared_error: 0.6689 - val_loss: 0.4379 - val_root_mean_squared_error: 0.6617\n",
      "Epoch 11/20\n",
      "363/363 [==============================] - 1s 2ms/step - loss: 0.4393 - root_mean_squared_error: 0.6628 - val_loss: 0.4396 - val_root_mean_squared_error: 0.6630\n",
      "Epoch 12/20\n",
      "363/363 [==============================] - 1s 2ms/step - loss: 0.4318 - root_mean_squared_error: 0.6571 - val_loss: 0.4505 - val_root_mean_squared_error: 0.6712\n",
      "Epoch 13/20\n",
      "363/363 [==============================] - 1s 2ms/step - loss: 0.4260 - root_mean_squared_error: 0.6527 - val_loss: 0.3997 - val_root_mean_squared_error: 0.6322\n",
      "Epoch 14/20\n",
      "363/363 [==============================] - 1s 2ms/step - loss: 0.4202 - root_mean_squared_error: 0.6482 - val_loss: 0.3956 - val_root_mean_squared_error: 0.6290\n",
      "Epoch 15/20\n",
      "363/363 [==============================] - 1s 2ms/step - loss: 0.4155 - root_mean_squared_error: 0.6446 - val_loss: 0.3916 - val_root_mean_squared_error: 0.6257\n",
      "Epoch 16/20\n",
      "363/363 [==============================] - 1s 2ms/step - loss: 0.4112 - root_mean_squared_error: 0.6412 - val_loss: 0.3937 - val_root_mean_squared_error: 0.6275\n",
      "Epoch 17/20\n",
      "363/363 [==============================] - 1s 2ms/step - loss: 0.4077 - root_mean_squared_error: 0.6385 - val_loss: 0.3809 - val_root_mean_squared_error: 0.6172\n",
      "Epoch 18/20\n",
      "363/363 [==============================] - 1s 2ms/step - loss: 0.4039 - root_mean_squared_error: 0.6356 - val_loss: 0.3793 - val_root_mean_squared_error: 0.6159\n",
      "Epoch 19/20\n",
      "363/363 [==============================] - 1s 2ms/step - loss: 0.4004 - root_mean_squared_error: 0.6328 - val_loss: 0.3850 - val_root_mean_squared_error: 0.6205\n",
      "Epoch 20/20\n",
      "363/363 [==============================] - 1s 2ms/step - loss: 0.3980 - root_mean_squared_error: 0.6308 - val_loss: 0.3809 - val_root_mean_squared_error: 0.6172\n"
     ]
    }
   ],
   "source": [
    "tensorboard_cb = tf.keras.callbacks.TensorBoard(run_logdir,\n",
    "                                                profile_batch=(100, 200))\n",
    "history = model.fit(X_train, y_train, epochs=20,\n",
    "                    validation_data=(X_valid, y_valid),\n",
    "                    callbacks=[tensorboard_cb])"
   ]
  },
  {
   "cell_type": "code",
   "execution_count": 86,
   "id": "2077b60a",
   "metadata": {
    "execution": {
     "iopub.execute_input": "2022-11-25T02:31:45.436779Z",
     "iopub.status.busy": "2022-11-25T02:31:45.436267Z",
     "iopub.status.idle": "2022-11-25T02:31:45.444803Z",
     "shell.execute_reply": "2022-11-25T02:31:45.443012Z"
    },
    "papermill": {
     "duration": 0.438043,
     "end_time": "2022-11-25T02:31:45.447092",
     "exception": false,
     "start_time": "2022-11-25T02:31:45.009049",
     "status": "completed"
    },
    "tags": []
   },
   "outputs": [
    {
     "name": "stdout",
     "output_type": "stream",
     "text": [
      "my_logs\n",
      "  run_2022_11_25_02_31_26\n",
      "    train\n",
      "      events.out.tfevents.1669343489.909636ce4a93.20.0.v2\n",
      "      events.out.tfevents.1669343489.909636ce4a93.profile-empty\n",
      "      plugins\n",
      "        profile\n",
      "          2022_11_25_02_31_29\n",
      "            909636ce4a93.input_pipeline.pb\n",
      "            909636ce4a93.kernel_stats.pb\n",
      "            909636ce4a93.memory_profile.json.gz\n",
      "            909636ce4a93.overview_page.pb\n",
      "            909636ce4a93.tensorflow_stats.pb\n",
      "            909636ce4a93.trace.json.gz\n",
      "            909636ce4a93.xplane.pb\n",
      "    validation\n",
      "      events.out.tfevents.1669343490.909636ce4a93.20.1.v2\n"
     ]
    }
   ],
   "source": [
    "print(\"my_logs\")\n",
    "for path in sorted(Path(\"my_logs\").glob(\"**/*\")):\n",
    "    print(\"  \" * (len(path.parts) - 1) + path.parts[-1])"
   ]
  },
  {
   "cell_type": "markdown",
   "id": "81245187",
   "metadata": {
    "papermill": {
     "duration": 0.425675,
     "end_time": "2022-11-25T02:31:46.297684",
     "exception": false,
     "start_time": "2022-11-25T02:31:45.872009",
     "status": "completed"
    },
    "tags": []
   },
   "source": [
    "Let's load the `tensorboard` Jupyter extension and start the TensorBoard server: "
   ]
  },
  {
   "cell_type": "code",
   "execution_count": 87,
   "id": "a5a301f3",
   "metadata": {
    "execution": {
     "iopub.execute_input": "2022-11-25T02:31:47.234564Z",
     "iopub.status.busy": "2022-11-25T02:31:47.233770Z",
     "iopub.status.idle": "2022-11-25T02:31:52.292336Z",
     "shell.execute_reply": "2022-11-25T02:31:52.291031Z"
    },
    "papermill": {
     "duration": 5.491811,
     "end_time": "2022-11-25T02:31:52.295039",
     "exception": false,
     "start_time": "2022-11-25T02:31:46.803228",
     "status": "completed"
    },
    "tags": []
   },
   "outputs": [
    {
     "data": {
      "text/html": [
       "\n",
       "      <iframe id=\"tensorboard-frame-60283cca8d00872c\" width=\"100%\" height=\"800\" frameborder=\"0\">\n",
       "      </iframe>\n",
       "      <script>\n",
       "        (function() {\n",
       "          const frame = document.getElementById(\"tensorboard-frame-60283cca8d00872c\");\n",
       "          const url = new URL(\"/\", window.location);\n",
       "          const port = 6006;\n",
       "          if (port) {\n",
       "            url.port = port;\n",
       "          }\n",
       "          frame.src = url;\n",
       "        })();\n",
       "      </script>\n",
       "    "
      ],
      "text/plain": [
       "<IPython.core.display.HTML object>"
      ]
     },
     "metadata": {},
     "output_type": "display_data"
    }
   ],
   "source": [
    "%load_ext tensorboard\n",
    "%tensorboard --logdir=./my_logs"
   ]
  },
  {
   "cell_type": "markdown",
   "id": "fd763b47",
   "metadata": {
    "papermill": {
     "duration": 0.486512,
     "end_time": "2022-11-25T02:31:53.211327",
     "exception": false,
     "start_time": "2022-11-25T02:31:52.724815",
     "status": "completed"
    },
    "tags": []
   },
   "source": [
    "**Note**: if you prefer to access TensorBoard in a separate tab, click the \"localhost:6006\" link below:"
   ]
  },
  {
   "cell_type": "code",
   "execution_count": 88,
   "id": "46bd6026",
   "metadata": {
    "execution": {
     "iopub.execute_input": "2022-11-25T02:31:54.148149Z",
     "iopub.status.busy": "2022-11-25T02:31:54.147611Z",
     "iopub.status.idle": "2022-11-25T02:31:54.156284Z",
     "shell.execute_reply": "2022-11-25T02:31:54.155340Z"
    },
    "papermill": {
     "duration": 0.444473,
     "end_time": "2022-11-25T02:31:54.158663",
     "exception": false,
     "start_time": "2022-11-25T02:31:53.714190",
     "status": "completed"
    },
    "tags": []
   },
   "outputs": [
    {
     "data": {
      "text/html": [
       "<a href=\"http://localhost:6006/\">http://localhost:6006/</a>"
      ],
      "text/plain": [
       "<IPython.core.display.HTML object>"
      ]
     },
     "metadata": {},
     "output_type": "display_data"
    }
   ],
   "source": [
    "# extra code\n",
    "\n",
    "if \"google.colab\" in sys.modules:\n",
    "    from google.colab import output\n",
    "\n",
    "    output.serve_kernel_port_as_window(6006)\n",
    "else:\n",
    "    from IPython.display import display, HTML\n",
    "\n",
    "    display(HTML('<a href=\"http://localhost:6006/\">http://localhost:6006/</a>'))"
   ]
  },
  {
   "cell_type": "markdown",
   "id": "746e6e1d",
   "metadata": {
    "papermill": {
     "duration": 0.500941,
     "end_time": "2022-11-25T02:31:55.094076",
     "exception": false,
     "start_time": "2022-11-25T02:31:54.593135",
     "status": "completed"
    },
    "tags": []
   },
   "source": [
    "You can use also visualize histograms, images, text, and even listen to audio using TensorBoard:"
   ]
  },
  {
   "cell_type": "code",
   "execution_count": 89,
   "id": "3b0b7894",
   "metadata": {
    "execution": {
     "iopub.execute_input": "2022-11-25T02:31:55.945971Z",
     "iopub.status.busy": "2022-11-25T02:31:55.945364Z",
     "iopub.status.idle": "2022-11-25T02:32:10.096963Z",
     "shell.execute_reply": "2022-11-25T02:32:10.095619Z"
    },
    "papermill": {
     "duration": 14.579895,
     "end_time": "2022-11-25T02:32:10.099930",
     "exception": false,
     "start_time": "2022-11-25T02:31:55.520035",
     "status": "completed"
    },
    "tags": []
   },
   "outputs": [],
   "source": [
    "test_logdir = get_run_logdir()\n",
    "writer = tf.summary.create_file_writer(str(test_logdir))\n",
    "with writer.as_default():\n",
    "    for step in range(1, 1000 + 1):\n",
    "        tf.summary.scalar(\"my_scalar\", np.sin(step / 10), step=step)\n",
    "        \n",
    "        data = (np.random.randn(100) + 2) * step / 100  # gets larger\n",
    "        tf.summary.histogram(\"my_hist\", data, buckets=50, step=step)\n",
    "        \n",
    "        images = np.random.rand(2, 32, 32, 3) * step / 1000  # gets brighter\n",
    "        tf.summary.image(\"my_images\", images, step=step)\n",
    "        \n",
    "        texts = [\"The step is \" + str(step), \"Its square is \" + str(step ** 2)]\n",
    "        tf.summary.text(\"my_text\", texts, step=step)\n",
    "        \n",
    "        sine_wave = tf.math.sin(tf.range(12000) / 48000 * 2 * np.pi * step)\n",
    "        audio = tf.reshape(tf.cast(sine_wave, tf.float32), [1, -1, 1])\n",
    "        tf.summary.audio(\"my_audio\", audio, sample_rate=48000, step=step)"
   ]
  },
  {
   "cell_type": "markdown",
   "id": "2d5319cc",
   "metadata": {
    "papermill": {
     "duration": 0.50311,
     "end_time": "2022-11-25T02:32:11.031047",
     "exception": false,
     "start_time": "2022-11-25T02:32:10.527937",
     "status": "completed"
    },
    "tags": []
   },
   "source": [
    "You can share your TensorBoard logs with the world by uploading them to https://tensorboard.dev/. For this, you can run the `tensorboard dev upload` command, with the `--logdir` and `--one_shot` options, and optionally the `--name` and `--description` options. The first time, it will ask you to accept Google's Terms of Service, and to authenticate.\n",
    "\n",
    "Notes:\n",
    "* Authenticating requires user input. Colab supports user input from shell commands, but the main other Jupyter environments do not, so for them we use a hackish workaround (alternatively, you could run the command in a terminal window, after you make sure to activate this project's conda environment and move to this notebook's directory).\n",
    "* If you get an authentication related error (such as *invalid_grant: Bad Request*), it's likely that your login session has expired. In this case, try running the command `tensorboard dev auth revoke` to logout, and try again."
   ]
  },
  {
   "cell_type": "code",
   "execution_count": 90,
   "id": "953e07fd",
   "metadata": {
    "execution": {
     "iopub.execute_input": "2022-11-25T02:32:11.906313Z",
     "iopub.status.busy": "2022-11-25T02:32:11.905255Z",
     "iopub.status.idle": "2022-11-25T02:32:11.911870Z",
     "shell.execute_reply": "2022-11-25T02:32:11.910432Z"
    },
    "papermill": {
     "duration": 0.455899,
     "end_time": "2022-11-25T02:32:11.914229",
     "exception": false,
     "start_time": "2022-11-25T02:32:11.458330",
     "status": "completed"
    },
    "tags": []
   },
   "outputs": [],
   "source": [
    "# extra code\n",
    "\n",
    "# if \"google.colab\" in sys.modules:\n",
    "#     !tensorboard dev upload --logdir ./my_logs --one_shot \\\n",
    "#                             --name \"Quick test\" --description \"This is a test\" \n",
    "# else:\n",
    "#     from tensorboard.main import run_main\n",
    "\n",
    "#     argv = \"tensorboard dev upload --logdir ./my_logs --one_shot\".split()\n",
    "#     argv += [\"--name\", \"Quick test\", \"--description\", \"This is a test\"]\n",
    "#     try:\n",
    "#         original_sys_argv_and_sys_exit = sys.argv, sys.exit\n",
    "#         sys.argv, sys.exit = argv, lambda status: None\n",
    "#         run_main()\n",
    "#     finally:\n",
    "#         sys.argv, sys.exit = original_sys_argv_and_sys_exit"
   ]
  },
  {
   "cell_type": "markdown",
   "id": "e957dce0",
   "metadata": {
    "papermill": {
     "duration": 0.425122,
     "end_time": "2022-11-25T02:32:12.765302",
     "exception": false,
     "start_time": "2022-11-25T02:32:12.340180",
     "status": "completed"
    },
    "tags": []
   },
   "source": [
    "You can get list your published experiments:"
   ]
  },
  {
   "cell_type": "code",
   "execution_count": 91,
   "id": "e0bb5a78",
   "metadata": {
    "execution": {
     "iopub.execute_input": "2022-11-25T02:32:13.690925Z",
     "iopub.status.busy": "2022-11-25T02:32:13.690446Z",
     "iopub.status.idle": "2022-11-25T02:32:13.695113Z",
     "shell.execute_reply": "2022-11-25T02:32:13.694115Z"
    },
    "papermill": {
     "duration": 0.435381,
     "end_time": "2022-11-25T02:32:13.697434",
     "exception": false,
     "start_time": "2022-11-25T02:32:13.262053",
     "status": "completed"
    },
    "tags": []
   },
   "outputs": [],
   "source": [
    "# !tensorboard dev list"
   ]
  },
  {
   "cell_type": "markdown",
   "id": "11c64a28",
   "metadata": {
    "papermill": {
     "duration": 0.420291,
     "end_time": "2022-11-25T02:32:14.540293",
     "exception": false,
     "start_time": "2022-11-25T02:32:14.120002",
     "status": "completed"
    },
    "tags": []
   },
   "source": [
    "To delete an experiment, use the following command:\n",
    "\n",
    "```python\n",
    "!tensorboard dev delete --experiment_id <experiment_id>\n",
    "```"
   ]
  },
  {
   "cell_type": "markdown",
   "id": "83537962",
   "metadata": {
    "papermill": {
     "duration": 0.423879,
     "end_time": "2022-11-25T02:32:15.465499",
     "exception": false,
     "start_time": "2022-11-25T02:32:15.041620",
     "status": "completed"
    },
    "tags": []
   },
   "source": [
    "When you stop this Jupyter kernel (a.k.a. Runtime), it will automatically stop the TensorBoard server as well. Another way to stop the TensorBoard server is to kill it, if you are running on Linux or MacOSX. First, you need to find its process ID:"
   ]
  },
  {
   "cell_type": "code",
   "execution_count": 92,
   "id": "d686a71e",
   "metadata": {
    "execution": {
     "iopub.execute_input": "2022-11-25T02:32:16.316066Z",
     "iopub.status.busy": "2022-11-25T02:32:16.315590Z",
     "iopub.status.idle": "2022-11-25T02:32:16.320888Z",
     "shell.execute_reply": "2022-11-25T02:32:16.319730Z"
    },
    "papermill": {
     "duration": 0.433082,
     "end_time": "2022-11-25T02:32:16.323337",
     "exception": false,
     "start_time": "2022-11-25T02:32:15.890255",
     "status": "completed"
    },
    "tags": []
   },
   "outputs": [],
   "source": [
    "# extra code – lists all running TensorBoard server instances\n",
    "\n",
    "# from tensorboard import notebook\n",
    "\n",
    "# notebook.list()"
   ]
  },
  {
   "cell_type": "markdown",
   "id": "a1062bb1",
   "metadata": {
    "papermill": {
     "duration": 0.428441,
     "end_time": "2022-11-25T02:32:17.249463",
     "exception": false,
     "start_time": "2022-11-25T02:32:16.821022",
     "status": "completed"
    },
    "tags": []
   },
   "source": [
    "Next you can use the following command on Linux or MacOSX, replacing `<pid>` with the pid listed above:\n",
    "\n",
    "    !kill <pid>\n",
    "\n",
    "On Windows:\n",
    "\n",
    "    !taskkill /F /PID <pid>"
   ]
  },
  {
   "cell_type": "markdown",
   "id": "b6da3aea",
   "metadata": {
    "papermill": {
     "duration": 0.499419,
     "end_time": "2022-11-25T02:32:18.178173",
     "exception": false,
     "start_time": "2022-11-25T02:32:17.678754",
     "status": "completed"
    },
    "tags": []
   },
   "source": [
    "# Fine-Tuning Neural Network Hyperparameters"
   ]
  },
  {
   "cell_type": "markdown",
   "id": "9a9a66eb",
   "metadata": {
    "papermill": {
     "duration": 0.424935,
     "end_time": "2022-11-25T02:32:19.034423",
     "exception": false,
     "start_time": "2022-11-25T02:32:18.609488",
     "status": "completed"
    },
    "tags": []
   },
   "source": [
    "In this section we'll use the Fashion MNIST dataset again:"
   ]
  },
  {
   "cell_type": "code",
   "execution_count": 93,
   "id": "85d46cf7",
   "metadata": {
    "execution": {
     "iopub.execute_input": "2022-11-25T02:32:19.961041Z",
     "iopub.status.busy": "2022-11-25T02:32:19.959823Z",
     "iopub.status.idle": "2022-11-25T02:32:19.966839Z",
     "shell.execute_reply": "2022-11-25T02:32:19.965718Z"
    },
    "papermill": {
     "duration": 0.512538,
     "end_time": "2022-11-25T02:32:19.969379",
     "exception": false,
     "start_time": "2022-11-25T02:32:19.456841",
     "status": "completed"
    },
    "tags": []
   },
   "outputs": [],
   "source": [
    "(X_train_full, y_train_full), (X_test, y_test) = fashion_mnist\n",
    "X_train, y_train = X_train_full[:-5000], y_train_full[:-5000]\n",
    "X_valid, y_valid = X_train_full[-5000:], y_train_full[-5000:]"
   ]
  },
  {
   "cell_type": "code",
   "execution_count": 94,
   "id": "7d471f9a",
   "metadata": {
    "execution": {
     "iopub.execute_input": "2022-11-25T02:32:20.828755Z",
     "iopub.status.busy": "2022-11-25T02:32:20.827823Z",
     "iopub.status.idle": "2022-11-25T02:32:20.844405Z",
     "shell.execute_reply": "2022-11-25T02:32:20.843249Z"
    },
    "papermill": {
     "duration": 0.451787,
     "end_time": "2022-11-25T02:32:20.847199",
     "exception": false,
     "start_time": "2022-11-25T02:32:20.395412",
     "status": "completed"
    },
    "tags": []
   },
   "outputs": [],
   "source": [
    "tf.keras.backend.clear_session()\n",
    "tf.random.set_seed(42)"
   ]
  },
  {
   "cell_type": "code",
   "execution_count": 95,
   "id": "56893010",
   "metadata": {
    "execution": {
     "iopub.execute_input": "2022-11-25T02:32:21.709499Z",
     "iopub.status.busy": "2022-11-25T02:32:21.708682Z",
     "iopub.status.idle": "2022-11-25T02:32:21.715289Z",
     "shell.execute_reply": "2022-11-25T02:32:21.714137Z"
    },
    "papermill": {
     "duration": 0.444723,
     "end_time": "2022-11-25T02:32:21.717677",
     "exception": false,
     "start_time": "2022-11-25T02:32:21.272954",
     "status": "completed"
    },
    "tags": []
   },
   "outputs": [],
   "source": [
    "if \"google.colab\" in sys.modules:\n",
    "    %pip install -q -U keras_tuner"
   ]
  },
  {
   "cell_type": "code",
   "execution_count": 96,
   "id": "6d17047b",
   "metadata": {
    "execution": {
     "iopub.execute_input": "2022-11-25T02:32:22.681245Z",
     "iopub.status.busy": "2022-11-25T02:32:22.680806Z",
     "iopub.status.idle": "2022-11-25T02:32:22.814152Z",
     "shell.execute_reply": "2022-11-25T02:32:22.813136Z"
    },
    "papermill": {
     "duration": 0.600461,
     "end_time": "2022-11-25T02:32:22.816854",
     "exception": false,
     "start_time": "2022-11-25T02:32:22.216393",
     "status": "completed"
    },
    "tags": []
   },
   "outputs": [],
   "source": [
    "import keras_tuner as kt\n",
    "\n",
    "def build_model(hp):\n",
    "    n_hidden = hp.Int(\"n_hidden\", min_value=0, max_value=8, default=2)\n",
    "    n_neurons = hp.Int(\"n_neurons\", min_value=16, max_value=256)\n",
    "    learning_rate = hp.Float(\"learning_rate\", min_value=1e-4, max_value=1e-2,\n",
    "                             sampling=\"log\")\n",
    "    optimizer = hp.Choice(\"optimizer\", values=[\"sgd\", \"adam\"])\n",
    "    if optimizer == \"sgd\":\n",
    "        optimizer = tf.keras.optimizers.SGD(learning_rate=learning_rate)\n",
    "    else:\n",
    "        optimizer = tf.keras.optimizers.Adam(learning_rate=learning_rate)\n",
    "\n",
    "    model = tf.keras.Sequential()\n",
    "    model.add(tf.keras.layers.Flatten())\n",
    "    for _ in range(n_hidden):\n",
    "        model.add(tf.keras.layers.Dense(n_neurons, activation=\"relu\"))\n",
    "    model.add(tf.keras.layers.Dense(10, activation=\"softmax\"))\n",
    "    model.compile(loss=\"sparse_categorical_crossentropy\", optimizer=optimizer,\n",
    "                  metrics=[\"accuracy\"])\n",
    "    return model"
   ]
  },
  {
   "cell_type": "code",
   "execution_count": 97,
   "id": "186d08bc",
   "metadata": {
    "execution": {
     "iopub.execute_input": "2022-11-25T02:32:23.675625Z",
     "iopub.status.busy": "2022-11-25T02:32:23.674898Z",
     "iopub.status.idle": "2022-11-25T02:38:45.211179Z",
     "shell.execute_reply": "2022-11-25T02:38:45.209048Z"
    },
    "papermill": {
     "duration": 381.97004,
     "end_time": "2022-11-25T02:38:45.214917",
     "exception": false,
     "start_time": "2022-11-25T02:32:23.244877",
     "status": "completed"
    },
    "tags": []
   },
   "outputs": [
    {
     "name": "stdout",
     "output_type": "stream",
     "text": [
      "Trial 5 Complete [00h 01m 22s]\n",
      "val_accuracy: 0.8641999959945679\n",
      "\n",
      "Best val_accuracy So Far: 0.8641999959945679\n",
      "Total elapsed time: 00h 06m 21s\n"
     ]
    }
   ],
   "source": [
    "random_search_tuner = kt.RandomSearch(\n",
    "    build_model, objective=\"val_accuracy\", max_trials=5, overwrite=True,\n",
    "    directory=\"my_fashion_mnist\", project_name=\"my_rnd_search\", seed=42)\n",
    "random_search_tuner.search(X_train, y_train, epochs=10,\n",
    "                           validation_data=(X_valid, y_valid))"
   ]
  },
  {
   "cell_type": "code",
   "execution_count": 98,
   "id": "bce477e6",
   "metadata": {
    "execution": {
     "iopub.execute_input": "2022-11-25T02:38:46.147077Z",
     "iopub.status.busy": "2022-11-25T02:38:46.145856Z",
     "iopub.status.idle": "2022-11-25T02:38:47.125760Z",
     "shell.execute_reply": "2022-11-25T02:38:47.124625Z"
    },
    "papermill": {
     "duration": 1.485503,
     "end_time": "2022-11-25T02:38:47.128349",
     "exception": false,
     "start_time": "2022-11-25T02:38:45.642846",
     "status": "completed"
    },
    "tags": []
   },
   "outputs": [],
   "source": [
    "top3_models = random_search_tuner.get_best_models(num_models=3)\n",
    "best_model = top3_models[0]"
   ]
  },
  {
   "cell_type": "code",
   "execution_count": 99,
   "id": "202f5194",
   "metadata": {
    "execution": {
     "iopub.execute_input": "2022-11-25T02:38:48.003058Z",
     "iopub.status.busy": "2022-11-25T02:38:48.002233Z",
     "iopub.status.idle": "2022-11-25T02:38:48.009300Z",
     "shell.execute_reply": "2022-11-25T02:38:48.008495Z"
    },
    "papermill": {
     "duration": 0.430247,
     "end_time": "2022-11-25T02:38:48.011456",
     "exception": false,
     "start_time": "2022-11-25T02:38:47.581209",
     "status": "completed"
    },
    "tags": []
   },
   "outputs": [
    {
     "data": {
      "text/plain": [
       "{'n_hidden': 5,\n",
       " 'n_neurons': 70,\n",
       " 'learning_rate': 0.00041268008323824807,\n",
       " 'optimizer': 'adam'}"
      ]
     },
     "execution_count": 99,
     "metadata": {},
     "output_type": "execute_result"
    }
   ],
   "source": [
    "top3_params = random_search_tuner.get_best_hyperparameters(num_trials=3)\n",
    "top3_params[0].values  # best hyperparameter values"
   ]
  },
  {
   "cell_type": "code",
   "execution_count": 100,
   "id": "e6ca254f",
   "metadata": {
    "execution": {
     "iopub.execute_input": "2022-11-25T02:38:48.940091Z",
     "iopub.status.busy": "2022-11-25T02:38:48.939280Z",
     "iopub.status.idle": "2022-11-25T02:38:48.945999Z",
     "shell.execute_reply": "2022-11-25T02:38:48.944538Z"
    },
    "papermill": {
     "duration": 0.514631,
     "end_time": "2022-11-25T02:38:48.948414",
     "exception": false,
     "start_time": "2022-11-25T02:38:48.433783",
     "status": "completed"
    },
    "tags": []
   },
   "outputs": [
    {
     "name": "stdout",
     "output_type": "stream",
     "text": [
      "Trial summary\n",
      "Hyperparameters:\n",
      "n_hidden: 5\n",
      "n_neurons: 70\n",
      "learning_rate: 0.00041268008323824807\n",
      "optimizer: adam\n",
      "Score: 0.8641999959945679\n"
     ]
    }
   ],
   "source": [
    "best_trial = random_search_tuner.oracle.get_best_trials(num_trials=1)[0]\n",
    "best_trial.summary()"
   ]
  },
  {
   "cell_type": "code",
   "execution_count": 101,
   "id": "9f3ed844",
   "metadata": {
    "execution": {
     "iopub.execute_input": "2022-11-25T02:38:49.796392Z",
     "iopub.status.busy": "2022-11-25T02:38:49.795530Z",
     "iopub.status.idle": "2022-11-25T02:38:49.803564Z",
     "shell.execute_reply": "2022-11-25T02:38:49.802358Z"
    },
    "papermill": {
     "duration": 0.431836,
     "end_time": "2022-11-25T02:38:49.805915",
     "exception": false,
     "start_time": "2022-11-25T02:38:49.374079",
     "status": "completed"
    },
    "tags": []
   },
   "outputs": [
    {
     "data": {
      "text/plain": [
       "0.8641999959945679"
      ]
     },
     "execution_count": 101,
     "metadata": {},
     "output_type": "execute_result"
    }
   ],
   "source": [
    "best_trial.metrics.get_last_value(\"val_accuracy\")"
   ]
  },
  {
   "cell_type": "code",
   "execution_count": 102,
   "id": "fd838e2a",
   "metadata": {
    "execution": {
     "iopub.execute_input": "2022-11-25T02:38:50.728164Z",
     "iopub.status.busy": "2022-11-25T02:38:50.727698Z",
     "iopub.status.idle": "2022-11-25T02:40:13.818163Z",
     "shell.execute_reply": "2022-11-25T02:40:13.816558Z"
    },
    "papermill": {
     "duration": 83.593168,
     "end_time": "2022-11-25T02:40:13.822016",
     "exception": false,
     "start_time": "2022-11-25T02:38:50.228848",
     "status": "completed"
    },
    "tags": []
   },
   "outputs": [
    {
     "name": "stdout",
     "output_type": "stream",
     "text": [
      "Epoch 1/10\n",
      "1875/1875 [==============================] - 9s 4ms/step - loss: 0.3081 - accuracy: 0.8868\n",
      "Epoch 2/10\n",
      "1875/1875 [==============================] - 8s 4ms/step - loss: 0.3016 - accuracy: 0.8892\n",
      "Epoch 3/10\n",
      "1875/1875 [==============================] - 8s 4ms/step - loss: 0.2936 - accuracy: 0.8911\n",
      "Epoch 4/10\n",
      "1875/1875 [==============================] - 8s 4ms/step - loss: 0.2833 - accuracy: 0.8963\n",
      "Epoch 5/10\n",
      "1875/1875 [==============================] - 8s 4ms/step - loss: 0.2759 - accuracy: 0.8971\n",
      "Epoch 6/10\n",
      "1875/1875 [==============================] - 8s 4ms/step - loss: 0.2704 - accuracy: 0.8980\n",
      "Epoch 7/10\n",
      "1875/1875 [==============================] - 9s 5ms/step - loss: 0.2675 - accuracy: 0.9000\n",
      "Epoch 8/10\n",
      "1875/1875 [==============================] - 9s 5ms/step - loss: 0.2643 - accuracy: 0.9033\n",
      "Epoch 9/10\n",
      "1875/1875 [==============================] - 8s 4ms/step - loss: 0.2570 - accuracy: 0.9040\n",
      "Epoch 10/10\n",
      "1875/1875 [==============================] - 8s 4ms/step - loss: 0.2531 - accuracy: 0.9057\n",
      "313/313 [==============================] - 1s 3ms/step - loss: 0.3622 - accuracy: 0.8786\n"
     ]
    }
   ],
   "source": [
    "best_model.fit(X_train_full, y_train_full, epochs=10)\n",
    "test_loss, test_accuracy = best_model.evaluate(X_test, y_test)"
   ]
  },
  {
   "cell_type": "code",
   "execution_count": 103,
   "id": "7ca01a17",
   "metadata": {
    "execution": {
     "iopub.execute_input": "2022-11-25T02:40:14.967093Z",
     "iopub.status.busy": "2022-11-25T02:40:14.966616Z",
     "iopub.status.idle": "2022-11-25T02:40:14.974221Z",
     "shell.execute_reply": "2022-11-25T02:40:14.973272Z"
    },
    "papermill": {
     "duration": 0.539502,
     "end_time": "2022-11-25T02:40:14.976374",
     "exception": false,
     "start_time": "2022-11-25T02:40:14.436872",
     "status": "completed"
    },
    "tags": []
   },
   "outputs": [],
   "source": [
    "class MyClassificationHyperModel(kt.HyperModel):\n",
    "    def build(self, hp):\n",
    "        return build_model(hp)\n",
    "\n",
    "    def fit(self, hp, model, X, y, **kwargs):\n",
    "        if hp.Boolean(\"normalize\"):\n",
    "            norm_layer = tf.keras.layers.Normalization()\n",
    "            X = norm_layer(X)\n",
    "        return model.fit(X, y, **kwargs)"
   ]
  },
  {
   "cell_type": "code",
   "execution_count": 104,
   "id": "73213701",
   "metadata": {
    "execution": {
     "iopub.execute_input": "2022-11-25T02:40:16.137043Z",
     "iopub.status.busy": "2022-11-25T02:40:16.136186Z",
     "iopub.status.idle": "2022-11-25T02:40:16.154313Z",
     "shell.execute_reply": "2022-11-25T02:40:16.153163Z"
    },
    "papermill": {
     "duration": 0.643911,
     "end_time": "2022-11-25T02:40:16.157117",
     "exception": false,
     "start_time": "2022-11-25T02:40:15.513206",
     "status": "completed"
    },
    "tags": []
   },
   "outputs": [],
   "source": [
    "hyperband_tuner = kt.Hyperband(\n",
    "    MyClassificationHyperModel(), objective=\"val_accuracy\", seed=42,\n",
    "    max_epochs=10, factor=3, hyperband_iterations=2,\n",
    "    overwrite=True, directory=\"my_fashion_mnist\", project_name=\"hyperband\")"
   ]
  },
  {
   "cell_type": "code",
   "execution_count": 105,
   "id": "b705cfe7",
   "metadata": {
    "execution": {
     "iopub.execute_input": "2022-11-25T02:40:17.214578Z",
     "iopub.status.busy": "2022-11-25T02:40:17.214122Z",
     "iopub.status.idle": "2022-11-25T03:10:00.377586Z",
     "shell.execute_reply": "2022-11-25T03:10:00.375624Z"
    },
    "papermill": {
     "duration": 1783.692384,
     "end_time": "2022-11-25T03:10:00.380270",
     "exception": false,
     "start_time": "2022-11-25T02:40:16.687886",
     "status": "completed"
    },
    "tags": []
   },
   "outputs": [
    {
     "name": "stdout",
     "output_type": "stream",
     "text": [
      "Trial 60 Complete [00h 01m 04s]\n",
      "val_accuracy: 0.852400004863739\n",
      "\n",
      "Best val_accuracy So Far: 0.8759999871253967\n",
      "Total elapsed time: 00h 29m 43s\n"
     ]
    }
   ],
   "source": [
    "root_logdir = Path(hyperband_tuner.project_dir) / \"tensorboard\"\n",
    "tensorboard_cb = tf.keras.callbacks.TensorBoard(root_logdir)\n",
    "early_stopping_cb = tf.keras.callbacks.EarlyStopping(patience=2)\n",
    "hyperband_tuner.search(X_train, y_train, epochs=10,\n",
    "                       validation_data=(X_valid, y_valid),\n",
    "                       callbacks=[early_stopping_cb, tensorboard_cb])"
   ]
  },
  {
   "cell_type": "code",
   "execution_count": 106,
   "id": "519b3388",
   "metadata": {
    "execution": {
     "iopub.execute_input": "2022-11-25T03:10:01.505032Z",
     "iopub.status.busy": "2022-11-25T03:10:01.504187Z",
     "iopub.status.idle": "2022-11-25T03:21:34.869473Z",
     "shell.execute_reply": "2022-11-25T03:21:34.868326Z"
    },
    "papermill": {
     "duration": 693.886443,
     "end_time": "2022-11-25T03:21:34.871731",
     "exception": false,
     "start_time": "2022-11-25T03:10:00.985288",
     "status": "completed"
    },
    "tags": []
   },
   "outputs": [
    {
     "name": "stdout",
     "output_type": "stream",
     "text": [
      "Trial 10 Complete [00h 01m 58s]\n",
      "val_accuracy: 0.8755999803543091\n",
      "\n",
      "Best val_accuracy So Far: 0.8773999810218811\n",
      "Total elapsed time: 00h 11m 33s\n"
     ]
    }
   ],
   "source": [
    "bayesian_opt_tuner = kt.BayesianOptimization(\n",
    "    MyClassificationHyperModel(), objective=\"val_accuracy\", seed=42,\n",
    "    max_trials=10, alpha=1e-4, beta=2.6,\n",
    "    overwrite=True, directory=\"my_fashion_mnist\", project_name=\"bayesian_opt\")\n",
    "bayesian_opt_tuner.search(X_train, y_train, epochs=10,\n",
    "                          validation_data=(X_valid, y_valid),\n",
    "                          callbacks=[early_stopping_cb])"
   ]
  },
  {
   "cell_type": "code",
   "execution_count": 107,
   "id": "ac273a9a",
   "metadata": {
    "execution": {
     "iopub.execute_input": "2022-11-25T03:21:35.906981Z",
     "iopub.status.busy": "2022-11-25T03:21:35.906518Z",
     "iopub.status.idle": "2022-11-25T03:21:39.972961Z",
     "shell.execute_reply": "2022-11-25T03:21:39.971021Z"
    },
    "papermill": {
     "duration": 4.587064,
     "end_time": "2022-11-25T03:21:39.975802",
     "exception": false,
     "start_time": "2022-11-25T03:21:35.388738",
     "status": "completed"
    },
    "tags": []
   },
   "outputs": [
    {
     "data": {
      "text/html": [
       "\n",
       "      <iframe id=\"tensorboard-frame-2d2abb2a7815e98\" width=\"100%\" height=\"800\" frameborder=\"0\">\n",
       "      </iframe>\n",
       "      <script>\n",
       "        (function() {\n",
       "          const frame = document.getElementById(\"tensorboard-frame-2d2abb2a7815e98\");\n",
       "          const url = new URL(\"/\", window.location);\n",
       "          const port = 6007;\n",
       "          if (port) {\n",
       "            url.port = port;\n",
       "          }\n",
       "          frame.src = url;\n",
       "        })();\n",
       "      </script>\n",
       "    "
      ],
      "text/plain": [
       "<IPython.core.display.HTML object>"
      ]
     },
     "metadata": {},
     "output_type": "display_data"
    }
   ],
   "source": [
    "%tensorboard --logdir {root_logdir}"
   ]
  },
  {
   "cell_type": "markdown",
   "id": "fd594fdf",
   "metadata": {
    "papermill": {
     "duration": 0.516011,
     "end_time": "2022-11-25T03:21:41.094184",
     "exception": false,
     "start_time": "2022-11-25T03:21:40.578173",
     "status": "completed"
    },
    "tags": []
   },
   "source": [
    "# Exercise solutions"
   ]
  },
  {
   "cell_type": "markdown",
   "id": "1d28924e",
   "metadata": {
    "papermill": {
     "duration": 0.516557,
     "end_time": "2022-11-25T03:21:42.135720",
     "exception": false,
     "start_time": "2022-11-25T03:21:41.619163",
     "status": "completed"
    },
    "tags": []
   },
   "source": [
    "## 1. to 9."
   ]
  },
  {
   "cell_type": "markdown",
   "id": "dd24156c",
   "metadata": {
    "papermill": {
     "duration": 0.51578,
     "end_time": "2022-11-25T03:21:43.249564",
     "exception": false,
     "start_time": "2022-11-25T03:21:42.733784",
     "status": "completed"
    },
    "tags": []
   },
   "source": [
    "1. Visit the [TensorFlow Playground](https://playground.tensorflow.org/) and play around with it, as described in this exercise.\n",
    "2. Here is a neural network based on the original artificial neurons that computes _A_ ⊕ _B_ (where ⊕ represents the exclusive OR), using the fact that _A_ ⊕ _B_ = (_A_ ∧ ¬ _B_) ∨ (¬ _A_ ∧ _B_). There are other solutions—for example, using the fact that _A_ ⊕ _B_ = (_A_ ∨ _B_) ∧ ¬(_A_ ∧ _B_), or the fact that _A_ ⊕ _B_ = (_A_ ∨ _B_) ∧ (¬ _A_ ∨ ¬ _B_), and so on.<br /><img width=\"70%\" src=\"images/ann/exercise2.png\" />\n",
    "3. A classical Perceptron will converge only if the dataset is linearly separable, and it won't be able to estimate class probabilities. In contrast, a Logistic Regression classifier will generally converge to a reasonably good solution even if the dataset is not linearly separable, and it will output class probabilities. If you change the Perceptron's activation function to the sigmoid activation function (or the softmax activation function if there are multiple neurons), and if you train it using Gradient Descent (or some other optimization algorithm minimizing the cost function, typically cross entropy), then it becomes equivalent to a Logistic Regression classifier.\n",
    "4. The sigmoid activation function was a key ingredient in training the first MLPs because its derivative is always nonzero, so Gradient Descent can always roll down the slope. When the activation function is a step function, Gradient Descent cannot move, as there is no slope at all.\n",
    "5. Popular activation functions include the step function, the sigmoid function, the hyperbolic tangent (tanh) function, and the Rectified Linear Unit (ReLU) function (see Figure 10-8). See Chapter 11 for other examples, such as ELU and variants of the ReLU function.\n",
    "6. Considering the MLP described in the question, composed of one input layer with 10 passthrough neurons, followed by one hidden layer with 50 artificial neurons, and finally one output layer with 3 artificial neurons, where all artificial neurons use the ReLU activation function:\n",
    "    * The shape of the input matrix **X** is _m_ × 10, where _m_ represents the training batch size.\n",
    "    * The shape of the hidden layer's weight matrix **W**<sub>_h_</sub> is 10 × 50, and the length of its bias vector **b**<sub>_h_</sub> is 50.\n",
    "    * The shape of the output layer's weight matrix **W**<sub>_o_</sub> is 50 × 3, and the length of its bias vector **b**<sub>_o_</sub> is 3.\n",
    "    * The shape of the network's output matrix **Y** is _m_ × 3.\n",
    "    * **Y** = ReLU(ReLU(**X** **W**<sub>_h_</sub> + **b**<sub>_h_</sub>) **W**<sub>_o_</sub> + **b**<sub>_o_</sub>). Recall that the ReLU function just sets every negative number in the matrix to zero. Also note that when you are adding a bias vector to a matrix, it is added to every single row in the matrix, which is called _broadcasting_.\n",
    "7. To classify email into spam or ham, you just need one neuron in the output layer of a neural network—for example, indicating the probability that the email is spam. You would typically use the sigmoid activation function in the output layer when estimating a probability. If instead you want to tackle MNIST, you need 10 neurons in the output layer, and you must replace the sigmoid function with the softmax activation function, which can handle multiple classes, outputting one probability per class. If you want your neural network to predict housing prices like in Chapter 2, then you need one output neuron, using no activation function at all in the output layer. Note: when the values to predict can vary by many orders of magnitude, you may want to predict the logarithm of the target value rather than the target value directly. Simply computing the exponential of the neural network's output will give you the estimated value (since exp(log _v_) = _v_).\n",
    "8. Backpropagation is a technique used to train artificial neural networks. It first computes the gradients of the cost function with regard to every model parameter (all the weights and biases), then it performs a Gradient Descent step using these gradients. This backpropagation step is typically performed thousands or millions of times, using many training batches, until the model parameters converge to values that (hopefully) minimize the cost function. To compute the gradients, backpropagation uses reverse-mode autodiff (although it wasn't called that when backpropagation was invented, and it has been reinvented several times). Reverse-mode autodiff performs a forward pass through a computation graph, computing every node's value for the current training batch, and then it performs a reverse pass, computing all the gradients at once (see Appendix B for more details). So what's the difference? Well, backpropagation refers to the whole process of training an artificial neural network using multiple backpropagation steps, each of which computes gradients and uses them to perform a Gradient Descent step. In contrast, reverse-mode autodiff is just a technique to compute gradients efficiently, and it happens to be used by backpropagation.\n",
    "9. Here is a list of all the hyperparameters you can tweak in a basic MLP: the number of hidden layers, the number of neurons in each hidden layer, and the activation function used in each hidden layer and in the output layer. In general, the ReLU activation function (or one of its variants; see Chapter 11) is a good default for the hidden layers. For the output layer, in general you will want the sigmoid activation function for binary classification, the softmax activation function for multiclass classification, or no activation function for regression. If the MLP overfits the training data, you can try reducing the number of hidden layers and reducing the number of neurons per hidden layer."
   ]
  },
  {
   "cell_type": "markdown",
   "id": "65fc3c33",
   "metadata": {
    "papermill": {
     "duration": 0.516151,
     "end_time": "2022-11-25T03:21:44.287019",
     "exception": false,
     "start_time": "2022-11-25T03:21:43.770868",
     "status": "completed"
    },
    "tags": []
   },
   "source": [
    "## 10."
   ]
  },
  {
   "cell_type": "markdown",
   "id": "66175a93",
   "metadata": {
    "papermill": {
     "duration": 0.602179,
     "end_time": "2022-11-25T03:21:45.402868",
     "exception": false,
     "start_time": "2022-11-25T03:21:44.800689",
     "status": "completed"
    },
    "tags": []
   },
   "source": [
    "*Exercise: Train a deep MLP on the MNIST dataset (you can load it using `tf.keras.datasets.mnist.load_data()`. See if you can get over 98% accuracy by manually tuning the hyperparameters. Try searching for the optimal learning rate by using the approach presented in this chapter (i.e., by growing the learning rate exponentially, plotting the loss, and finding the point where the loss shoots up). Next, try tuning the hyperparameters using Keras Tuner with all the bells and whistles—save checkpoints, use early stopping, and plot learning curves using TensorBoard.*"
   ]
  },
  {
   "cell_type": "markdown",
   "id": "3e84ccd8",
   "metadata": {
    "papermill": {
     "duration": 0.516889,
     "end_time": "2022-11-25T03:21:46.438111",
     "exception": false,
     "start_time": "2022-11-25T03:21:45.921222",
     "status": "completed"
    },
    "tags": []
   },
   "source": [
    "**TODO**: update this solution to use Keras Tuner."
   ]
  },
  {
   "cell_type": "markdown",
   "id": "95e5acd2",
   "metadata": {
    "papermill": {
     "duration": 0.524024,
     "end_time": "2022-11-25T03:21:47.479195",
     "exception": false,
     "start_time": "2022-11-25T03:21:46.955171",
     "status": "completed"
    },
    "tags": []
   },
   "source": [
    "Let's load the dataset:"
   ]
  },
  {
   "cell_type": "code",
   "execution_count": 108,
   "id": "3fc9d5bc",
   "metadata": {
    "execution": {
     "iopub.execute_input": "2022-11-25T03:21:48.636470Z",
     "iopub.status.busy": "2022-11-25T03:21:48.635980Z",
     "iopub.status.idle": "2022-11-25T03:21:49.175035Z",
     "shell.execute_reply": "2022-11-25T03:21:49.173922Z"
    },
    "papermill": {
     "duration": 1.080266,
     "end_time": "2022-11-25T03:21:49.177673",
     "exception": false,
     "start_time": "2022-11-25T03:21:48.097407",
     "status": "completed"
    },
    "tags": []
   },
   "outputs": [
    {
     "name": "stdout",
     "output_type": "stream",
     "text": [
      "Downloading data from https://storage.googleapis.com/tensorflow/tf-keras-datasets/mnist.npz\n",
      "11493376/11490434 [==============================] - 0s 0us/step\n",
      "11501568/11490434 [==============================] - 0s 0us/step\n"
     ]
    }
   ],
   "source": [
    "(X_train_full, y_train_full), (X_test, y_test) = tf.keras.datasets.mnist.load_data()"
   ]
  },
  {
   "cell_type": "markdown",
   "id": "d302c7a0",
   "metadata": {
    "papermill": {
     "duration": 0.592765,
     "end_time": "2022-11-25T03:21:50.289080",
     "exception": false,
     "start_time": "2022-11-25T03:21:49.696315",
     "status": "completed"
    },
    "tags": []
   },
   "source": [
    "Just like for the Fashion MNIST dataset, the MNIST training set contains 60,000 grayscale images, each 28x28 pixels:"
   ]
  },
  {
   "cell_type": "code",
   "execution_count": 109,
   "id": "700f0c12",
   "metadata": {
    "execution": {
     "iopub.execute_input": "2022-11-25T03:21:51.487958Z",
     "iopub.status.busy": "2022-11-25T03:21:51.487441Z",
     "iopub.status.idle": "2022-11-25T03:21:51.494619Z",
     "shell.execute_reply": "2022-11-25T03:21:51.493495Z"
    },
    "papermill": {
     "duration": 0.658292,
     "end_time": "2022-11-25T03:21:51.497438",
     "exception": false,
     "start_time": "2022-11-25T03:21:50.839146",
     "status": "completed"
    },
    "tags": []
   },
   "outputs": [
    {
     "data": {
      "text/plain": [
       "(60000, 28, 28)"
      ]
     },
     "execution_count": 109,
     "metadata": {},
     "output_type": "execute_result"
    }
   ],
   "source": [
    "X_train_full.shape"
   ]
  },
  {
   "cell_type": "markdown",
   "id": "7bae57d2",
   "metadata": {
    "papermill": {
     "duration": 0.515313,
     "end_time": "2022-11-25T03:21:52.528694",
     "exception": false,
     "start_time": "2022-11-25T03:21:52.013381",
     "status": "completed"
    },
    "tags": []
   },
   "source": [
    "Each pixel intensity is also represented as a byte (0 to 255):"
   ]
  },
  {
   "cell_type": "code",
   "execution_count": 110,
   "id": "c13b19c9",
   "metadata": {
    "execution": {
     "iopub.execute_input": "2022-11-25T03:21:53.650707Z",
     "iopub.status.busy": "2022-11-25T03:21:53.650236Z",
     "iopub.status.idle": "2022-11-25T03:21:53.657934Z",
     "shell.execute_reply": "2022-11-25T03:21:53.656731Z"
    },
    "papermill": {
     "duration": 0.526334,
     "end_time": "2022-11-25T03:21:53.660215",
     "exception": false,
     "start_time": "2022-11-25T03:21:53.133881",
     "status": "completed"
    },
    "tags": []
   },
   "outputs": [
    {
     "data": {
      "text/plain": [
       "dtype('uint8')"
      ]
     },
     "execution_count": 110,
     "metadata": {},
     "output_type": "execute_result"
    }
   ],
   "source": [
    "X_train_full.dtype"
   ]
  },
  {
   "cell_type": "markdown",
   "id": "93de4fef",
   "metadata": {
    "papermill": {
     "duration": 0.524798,
     "end_time": "2022-11-25T03:21:54.703086",
     "exception": false,
     "start_time": "2022-11-25T03:21:54.178288",
     "status": "completed"
    },
    "tags": []
   },
   "source": [
    "Let's split the full training set into a validation set and a (smaller) training set. We also scale the pixel intensities down to the 0-1 range and convert them to floats, by dividing by 255, just like we did for Fashion MNIST:"
   ]
  },
  {
   "cell_type": "code",
   "execution_count": 111,
   "id": "29ab326a",
   "metadata": {
    "execution": {
     "iopub.execute_input": "2022-11-25T03:21:55.826138Z",
     "iopub.status.busy": "2022-11-25T03:21:55.825671Z",
     "iopub.status.idle": "2022-11-25T03:21:56.051104Z",
     "shell.execute_reply": "2022-11-25T03:21:56.049879Z"
    },
    "papermill": {
     "duration": 0.749377,
     "end_time": "2022-11-25T03:21:56.053900",
     "exception": false,
     "start_time": "2022-11-25T03:21:55.304523",
     "status": "completed"
    },
    "tags": []
   },
   "outputs": [],
   "source": [
    "X_valid, X_train = X_train_full[:5000] / 255., X_train_full[5000:] / 255.\n",
    "y_valid, y_train = y_train_full[:5000], y_train_full[5000:]\n",
    "X_test = X_test / 255."
   ]
  },
  {
   "cell_type": "markdown",
   "id": "f06b22ae",
   "metadata": {
    "papermill": {
     "duration": 0.599711,
     "end_time": "2022-11-25T03:21:57.170257",
     "exception": false,
     "start_time": "2022-11-25T03:21:56.570546",
     "status": "completed"
    },
    "tags": []
   },
   "source": [
    "Let's plot an image using Matplotlib's `imshow()` function, with a `'binary'`\n",
    " color map:"
   ]
  },
  {
   "cell_type": "code",
   "execution_count": 112,
   "id": "355b4711",
   "metadata": {
    "execution": {
     "iopub.execute_input": "2022-11-25T03:21:58.209095Z",
     "iopub.status.busy": "2022-11-25T03:21:58.207932Z",
     "iopub.status.idle": "2022-11-25T03:21:58.329482Z",
     "shell.execute_reply": "2022-11-25T03:21:58.327746Z"
    },
    "papermill": {
     "duration": 0.648093,
     "end_time": "2022-11-25T03:21:58.333947",
     "exception": false,
     "start_time": "2022-11-25T03:21:57.685854",
     "status": "completed"
    },
    "tags": []
   },
   "outputs": [
    {
     "data": {
      "image/png": "[encoded data removed]",
      "text/plain": [
       "<Figure size 432x288 with 1 Axes>"
      ]
     },
     "metadata": {
      "needs_background": "light"
     },
     "output_type": "display_data"
    }
   ],
   "source": [
    "plt.imshow(X_train[0], cmap=\"binary\")\n",
    "plt.axis('off')\n",
    "plt.show()"
   ]
  },
  {
   "cell_type": "markdown",
   "id": "421f94e0",
   "metadata": {
    "papermill": {
     "duration": 0.609947,
     "end_time": "2022-11-25T03:21:59.501404",
     "exception": false,
     "start_time": "2022-11-25T03:21:58.891457",
     "status": "completed"
    },
    "tags": []
   },
   "source": [
    "The labels are the class IDs (represented as uint8), from 0 to 9. Conveniently, the class IDs correspond to the digits represented in the images, so we don't need a `class_names` array:"
   ]
  },
  {
   "cell_type": "code",
   "execution_count": 113,
   "id": "e790d9e7",
   "metadata": {
    "execution": {
     "iopub.execute_input": "2022-11-25T03:22:00.542326Z",
     "iopub.status.busy": "2022-11-25T03:22:00.541881Z",
     "iopub.status.idle": "2022-11-25T03:22:00.549889Z",
     "shell.execute_reply": "2022-11-25T03:22:00.548952Z"
    },
    "papermill": {
     "duration": 0.532441,
     "end_time": "2022-11-25T03:22:00.552318",
     "exception": false,
     "start_time": "2022-11-25T03:22:00.019877",
     "status": "completed"
    },
    "tags": []
   },
   "outputs": [
    {
     "data": {
      "text/plain": [
       "array([7, 3, 4, ..., 5, 6, 8], dtype=uint8)"
      ]
     },
     "execution_count": 113,
     "metadata": {},
     "output_type": "execute_result"
    }
   ],
   "source": [
    "y_train"
   ]
  },
  {
   "cell_type": "markdown",
   "id": "66391149",
   "metadata": {
    "papermill": {
     "duration": 0.601866,
     "end_time": "2022-11-25T03:22:01.672091",
     "exception": false,
     "start_time": "2022-11-25T03:22:01.070225",
     "status": "completed"
    },
    "tags": []
   },
   "source": [
    "The validation set contains 5,000 images, and the test set contains 10,000 images:"
   ]
  },
  {
   "cell_type": "code",
   "execution_count": 114,
   "id": "50a42568",
   "metadata": {
    "execution": {
     "iopub.execute_input": "2022-11-25T03:22:02.709546Z",
     "iopub.status.busy": "2022-11-25T03:22:02.709059Z",
     "iopub.status.idle": "2022-11-25T03:22:02.717251Z",
     "shell.execute_reply": "2022-11-25T03:22:02.716049Z"
    },
    "papermill": {
     "duration": 0.534547,
     "end_time": "2022-11-25T03:22:02.719757",
     "exception": false,
     "start_time": "2022-11-25T03:22:02.185210",
     "status": "completed"
    },
    "tags": []
   },
   "outputs": [
    {
     "data": {
      "text/plain": [
       "(5000, 28, 28)"
      ]
     },
     "execution_count": 114,
     "metadata": {},
     "output_type": "execute_result"
    }
   ],
   "source": [
    "X_valid.shape"
   ]
  },
  {
   "cell_type": "code",
   "execution_count": 115,
   "id": "c05652a3",
   "metadata": {
    "execution": {
     "iopub.execute_input": "2022-11-25T03:22:03.842057Z",
     "iopub.status.busy": "2022-11-25T03:22:03.841599Z",
     "iopub.status.idle": "2022-11-25T03:22:03.848740Z",
     "shell.execute_reply": "2022-11-25T03:22:03.847526Z"
    },
    "papermill": {
     "duration": 0.614934,
     "end_time": "2022-11-25T03:22:03.851032",
     "exception": false,
     "start_time": "2022-11-25T03:22:03.236098",
     "status": "completed"
    },
    "tags": []
   },
   "outputs": [
    {
     "data": {
      "text/plain": [
       "(10000, 28, 28)"
      ]
     },
     "execution_count": 115,
     "metadata": {},
     "output_type": "execute_result"
    }
   ],
   "source": [
    "X_test.shape"
   ]
  },
  {
   "cell_type": "markdown",
   "id": "daa63ed5",
   "metadata": {
    "papermill": {
     "duration": 0.520683,
     "end_time": "2022-11-25T03:22:04.892631",
     "exception": false,
     "start_time": "2022-11-25T03:22:04.371948",
     "status": "completed"
    },
    "tags": []
   },
   "source": [
    "Let's take a look at a sample of the images in the dataset:"
   ]
  },
  {
   "cell_type": "code",
   "execution_count": 116,
   "id": "cef78268",
   "metadata": {
    "execution": {
     "iopub.execute_input": "2022-11-25T03:22:06.020211Z",
     "iopub.status.busy": "2022-11-25T03:22:06.019401Z",
     "iopub.status.idle": "2022-11-25T03:22:07.354013Z",
     "shell.execute_reply": "2022-11-25T03:22:07.352859Z"
    },
    "papermill": {
     "duration": 1.860005,
     "end_time": "2022-11-25T03:22:07.356666",
     "exception": false,
     "start_time": "2022-11-25T03:22:05.496661",
     "status": "completed"
    },
    "tags": []
   },
   "outputs": [
    {
     "data": {
      "image/png": "[encoded data removed]",
      "text/plain": [
       "<Figure size 864x345.6 with 40 Axes>"
      ]
     },
     "metadata": {
      "needs_background": "light"
     },
     "output_type": "display_data"
    }
   ],
   "source": [
    "n_rows = 4\n",
    "n_cols = 10\n",
    "plt.figure(figsize=(n_cols * 1.2, n_rows * 1.2))\n",
    "for row in range(n_rows):\n",
    "    for col in range(n_cols):\n",
    "        index = n_cols * row + col\n",
    "        plt.subplot(n_rows, n_cols, index + 1)\n",
    "        plt.imshow(X_train[index], cmap=\"binary\", interpolation=\"nearest\")\n",
    "        plt.axis('off')\n",
    "        plt.title(y_train[index])\n",
    "plt.subplots_adjust(wspace=0.2, hspace=0.5)\n",
    "plt.show()"
   ]
  },
  {
   "cell_type": "markdown",
   "id": "2db19b82",
   "metadata": {
    "papermill": {
     "duration": 0.608872,
     "end_time": "2022-11-25T03:22:08.485188",
     "exception": false,
     "start_time": "2022-11-25T03:22:07.876316",
     "status": "completed"
    },
    "tags": []
   },
   "source": [
    "Let's build a simple dense network and find the optimal learning rate. We will need a callback to grow the learning rate at each iteration. It will also record the learning rate and the loss at each iteration:"
   ]
  },
  {
   "cell_type": "code",
   "execution_count": 117,
   "id": "95861b0d",
   "metadata": {
    "execution": {
     "iopub.execute_input": "2022-11-25T03:22:09.530512Z",
     "iopub.status.busy": "2022-11-25T03:22:09.530031Z",
     "iopub.status.idle": "2022-11-25T03:22:09.538491Z",
     "shell.execute_reply": "2022-11-25T03:22:09.537180Z"
    },
    "papermill": {
     "duration": 0.534087,
     "end_time": "2022-11-25T03:22:09.541224",
     "exception": false,
     "start_time": "2022-11-25T03:22:09.007137",
     "status": "completed"
    },
    "tags": []
   },
   "outputs": [],
   "source": [
    "K = tf.keras.backend\n",
    "\n",
    "class ExponentialLearningRate(tf.keras.callbacks.Callback):\n",
    "    def __init__(self, factor):\n",
    "        self.factor = factor\n",
    "        self.rates = []\n",
    "        self.losses = []\n",
    "    def on_batch_end(self, batch, logs):\n",
    "        self.rates.append(K.get_value(self.model.optimizer.learning_rate))\n",
    "        self.losses.append(logs[\"loss\"])\n",
    "        K.set_value(self.model.optimizer.learning_rate, self.model.optimizer.learning_rate * self.factor)"
   ]
  },
  {
   "cell_type": "code",
   "execution_count": 118,
   "id": "e634dbea",
   "metadata": {
    "execution": {
     "iopub.execute_input": "2022-11-25T03:22:10.697145Z",
     "iopub.status.busy": "2022-11-25T03:22:10.696182Z",
     "iopub.status.idle": "2022-11-25T03:22:10.715559Z",
     "shell.execute_reply": "2022-11-25T03:22:10.713844Z"
    },
    "papermill": {
     "duration": 0.640514,
     "end_time": "2022-11-25T03:22:10.718481",
     "exception": false,
     "start_time": "2022-11-25T03:22:10.077967",
     "status": "completed"
    },
    "tags": []
   },
   "outputs": [],
   "source": [
    "tf.keras.backend.clear_session()\n",
    "np.random.seed(42)\n",
    "tf.random.set_seed(42)"
   ]
  },
  {
   "cell_type": "code",
   "execution_count": 119,
   "id": "1508175f",
   "metadata": {
    "execution": {
     "iopub.execute_input": "2022-11-25T03:22:11.757057Z",
     "iopub.status.busy": "2022-11-25T03:22:11.756602Z",
     "iopub.status.idle": "2022-11-25T03:22:11.802114Z",
     "shell.execute_reply": "2022-11-25T03:22:11.801050Z"
    },
    "papermill": {
     "duration": 0.566981,
     "end_time": "2022-11-25T03:22:11.804900",
     "exception": false,
     "start_time": "2022-11-25T03:22:11.237919",
     "status": "completed"
    },
    "tags": []
   },
   "outputs": [],
   "source": [
    "model = tf.keras.Sequential([\n",
    "    tf.keras.layers.Flatten(input_shape=[28, 28]),\n",
    "    tf.keras.layers.Dense(300, activation=\"relu\"),\n",
    "    tf.keras.layers.Dense(100, activation=\"relu\"),\n",
    "    tf.keras.layers.Dense(10, activation=\"softmax\")\n",
    "])"
   ]
  },
  {
   "cell_type": "markdown",
   "id": "666bb60b",
   "metadata": {
    "papermill": {
     "duration": 0.51757,
     "end_time": "2022-11-25T03:22:12.926730",
     "exception": false,
     "start_time": "2022-11-25T03:22:12.409160",
     "status": "completed"
    },
    "tags": []
   },
   "source": [
    "We will start with a small learning rate of 1e-3, and grow it by 0.5% at each iteration:"
   ]
  },
  {
   "cell_type": "code",
   "execution_count": 120,
   "id": "8e3813ba",
   "metadata": {
    "execution": {
     "iopub.execute_input": "2022-11-25T03:22:13.959601Z",
     "iopub.status.busy": "2022-11-25T03:22:13.959144Z",
     "iopub.status.idle": "2022-11-25T03:22:13.972287Z",
     "shell.execute_reply": "2022-11-25T03:22:13.971152Z"
    },
    "papermill": {
     "duration": 0.532416,
     "end_time": "2022-11-25T03:22:13.974733",
     "exception": false,
     "start_time": "2022-11-25T03:22:13.442317",
     "status": "completed"
    },
    "tags": []
   },
   "outputs": [],
   "source": [
    "optimizer = tf.keras.optimizers.SGD(learning_rate=1e-3)\n",
    "model.compile(loss=\"sparse_categorical_crossentropy\", optimizer=optimizer,\n",
    "              metrics=[\"accuracy\"])\n",
    "expon_lr = ExponentialLearningRate(factor=1.005)"
   ]
  },
  {
   "cell_type": "markdown",
   "id": "c7f0a815",
   "metadata": {
    "papermill": {
     "duration": 0.511261,
     "end_time": "2022-11-25T03:22:15.088862",
     "exception": false,
     "start_time": "2022-11-25T03:22:14.577601",
     "status": "completed"
    },
    "tags": []
   },
   "source": [
    "Now let's train the model for just 1 epoch:"
   ]
  },
  {
   "cell_type": "code",
   "execution_count": 121,
   "id": "1b1965b1",
   "metadata": {
    "execution": {
     "iopub.execute_input": "2022-11-25T03:22:16.130907Z",
     "iopub.status.busy": "2022-11-25T03:22:16.129779Z",
     "iopub.status.idle": "2022-11-25T03:22:23.907953Z",
     "shell.execute_reply": "2022-11-25T03:22:23.906358Z"
    },
    "papermill": {
     "duration": 8.302588,
     "end_time": "2022-11-25T03:22:23.910994",
     "exception": false,
     "start_time": "2022-11-25T03:22:15.608406",
     "status": "completed"
    },
    "tags": []
   },
   "outputs": [
    {
     "name": "stdout",
     "output_type": "stream",
     "text": [
      "1719/1719 [==============================] - 7s 4ms/step - loss: nan - accuracy: 0.5733 - val_loss: nan - val_accuracy: 0.0958\n"
     ]
    }
   ],
   "source": [
    "history = model.fit(X_train, y_train, epochs=1,\n",
    "                    validation_data=(X_valid, y_valid),\n",
    "                    callbacks=[expon_lr])"
   ]
  },
  {
   "cell_type": "markdown",
   "id": "37d85e05",
   "metadata": {
    "papermill": {
     "duration": 0.526358,
     "end_time": "2022-11-25T03:22:25.069216",
     "exception": false,
     "start_time": "2022-11-25T03:22:24.542858",
     "status": "completed"
    },
    "tags": []
   },
   "source": [
    "We can now plot the loss as a functionof the learning rate:"
   ]
  },
  {
   "cell_type": "code",
   "execution_count": 122,
   "id": "d00dc8f2",
   "metadata": {
    "execution": {
     "iopub.execute_input": "2022-11-25T03:22:26.213146Z",
     "iopub.status.busy": "2022-11-25T03:22:26.212704Z",
     "iopub.status.idle": "2022-11-25T03:22:27.376434Z",
     "shell.execute_reply": "2022-11-25T03:22:27.375164Z"
    },
    "papermill": {
     "duration": 1.779522,
     "end_time": "2022-11-25T03:22:27.378951",
     "exception": false,
     "start_time": "2022-11-25T03:22:25.599429",
     "status": "completed"
    },
    "tags": []
   },
   "outputs": [
    {
     "data": {
      "text/plain": [
       "Text(0, 0.5, 'Loss')"
      ]
     },
     "execution_count": 122,
     "metadata": {},
     "output_type": "execute_result"
    },
    {
     "data": {
      "image/png": "[encoded data removed]",
      "text/plain": [
       "<Figure size 432x288 with 1 Axes>"
      ]
     },
     "metadata": {
      "needs_background": "light"
     },
     "output_type": "display_data"
    }
   ],
   "source": [
    "plt.plot(expon_lr.rates, expon_lr.losses)\n",
    "plt.gca().set_xscale('log')\n",
    "plt.hlines(min(expon_lr.losses), min(expon_lr.rates), max(expon_lr.rates))\n",
    "plt.axis([min(expon_lr.rates), max(expon_lr.rates), 0, expon_lr.losses[0]])\n",
    "plt.grid()\n",
    "plt.xlabel(\"Learning rate\")\n",
    "plt.ylabel(\"Loss\")"
   ]
  },
  {
   "cell_type": "markdown",
   "id": "b86801a9",
   "metadata": {
    "papermill": {
     "duration": 0.625141,
     "end_time": "2022-11-25T03:22:28.527558",
     "exception": false,
     "start_time": "2022-11-25T03:22:27.902417",
     "status": "completed"
    },
    "tags": []
   },
   "source": [
    "The loss starts shooting back up violently when the learning rate goes over 6e-1, so let's try using half of that, at 3e-1:"
   ]
  },
  {
   "cell_type": "code",
   "execution_count": 123,
   "id": "2e78a905",
   "metadata": {
    "execution": {
     "iopub.execute_input": "2022-11-25T03:22:29.591089Z",
     "iopub.status.busy": "2022-11-25T03:22:29.590279Z",
     "iopub.status.idle": "2022-11-25T03:22:29.600510Z",
     "shell.execute_reply": "2022-11-25T03:22:29.599590Z"
    },
    "papermill": {
     "duration": 0.546402,
     "end_time": "2022-11-25T03:22:29.603605",
     "exception": false,
     "start_time": "2022-11-25T03:22:29.057203",
     "status": "completed"
    },
    "tags": []
   },
   "outputs": [],
   "source": [
    "tf.keras.backend.clear_session()\n",
    "np.random.seed(42)\n",
    "tf.random.set_seed(42)"
   ]
  },
  {
   "cell_type": "code",
   "execution_count": 124,
   "id": "0387df6e",
   "metadata": {
    "execution": {
     "iopub.execute_input": "2022-11-25T03:22:30.748193Z",
     "iopub.status.busy": "2022-11-25T03:22:30.747404Z",
     "iopub.status.idle": "2022-11-25T03:22:30.790428Z",
     "shell.execute_reply": "2022-11-25T03:22:30.789465Z"
    },
    "papermill": {
     "duration": 0.662268,
     "end_time": "2022-11-25T03:22:30.793122",
     "exception": false,
     "start_time": "2022-11-25T03:22:30.130854",
     "status": "completed"
    },
    "tags": []
   },
   "outputs": [],
   "source": [
    "model = tf.keras.Sequential([\n",
    "    tf.keras.layers.Flatten(input_shape=[28, 28]),\n",
    "    tf.keras.layers.Dense(300, activation=\"relu\"),\n",
    "    tf.keras.layers.Dense(100, activation=\"relu\"),\n",
    "    tf.keras.layers.Dense(10, activation=\"softmax\")\n",
    "])"
   ]
  },
  {
   "cell_type": "code",
   "execution_count": 125,
   "id": "400663f9",
   "metadata": {
    "execution": {
     "iopub.execute_input": "2022-11-25T03:22:31.869876Z",
     "iopub.status.busy": "2022-11-25T03:22:31.868976Z",
     "iopub.status.idle": "2022-11-25T03:22:31.880016Z",
     "shell.execute_reply": "2022-11-25T03:22:31.878896Z"
    },
    "papermill": {
     "duration": 0.56298,
     "end_time": "2022-11-25T03:22:31.882563",
     "exception": false,
     "start_time": "2022-11-25T03:22:31.319583",
     "status": "completed"
    },
    "tags": []
   },
   "outputs": [],
   "source": [
    "optimizer = tf.keras.optimizers.SGD(learning_rate=3e-1)\n",
    "model.compile(loss=\"sparse_categorical_crossentropy\", optimizer=optimizer,\n",
    "              metrics=[\"accuracy\"])"
   ]
  },
  {
   "cell_type": "code",
   "execution_count": 126,
   "id": "c360ac96",
   "metadata": {
    "execution": {
     "iopub.execute_input": "2022-11-25T03:22:33.068060Z",
     "iopub.status.busy": "2022-11-25T03:22:33.067566Z",
     "iopub.status.idle": "2022-11-25T03:22:33.074671Z",
     "shell.execute_reply": "2022-11-25T03:22:33.073828Z"
    },
    "papermill": {
     "duration": 0.559973,
     "end_time": "2022-11-25T03:22:33.076925",
     "exception": false,
     "start_time": "2022-11-25T03:22:32.516952",
     "status": "completed"
    },
    "tags": []
   },
   "outputs": [
    {
     "data": {
      "text/plain": [
       "PosixPath('my_mnist_logs/run_001')"
      ]
     },
     "execution_count": 126,
     "metadata": {},
     "output_type": "execute_result"
    }
   ],
   "source": [
    "run_index = 1 # increment this at every run\n",
    "run_logdir = Path() / \"my_mnist_logs\" / \"run_{:03d}\".format(run_index)\n",
    "run_logdir"
   ]
  },
  {
   "cell_type": "code",
   "execution_count": 127,
   "id": "4a6b31dd",
   "metadata": {
    "execution": {
     "iopub.execute_input": "2022-11-25T03:22:34.172553Z",
     "iopub.status.busy": "2022-11-25T03:22:34.171300Z",
     "iopub.status.idle": "2022-11-25T03:25:09.892529Z",
     "shell.execute_reply": "2022-11-25T03:25:09.891539Z"
    },
    "papermill": {
     "duration": 156.478961,
     "end_time": "2022-11-25T03:25:10.109304",
     "exception": false,
     "start_time": "2022-11-25T03:22:33.630343",
     "status": "completed"
    },
    "tags": []
   },
   "outputs": [
    {
     "name": "stderr",
     "output_type": "stream",
     "text": [
      "2022-11-25 03:22:34.176362: I tensorflow/core/profiler/lib/profiler_session.cc:131] Profiler session initializing.\n",
      "2022-11-25 03:22:34.176895: I tensorflow/core/profiler/lib/profiler_session.cc:146] Profiler session started.\n",
      "2022-11-25 03:22:34.177165: I tensorflow/core/profiler/lib/profiler_session.cc:164] Profiler session tear down.\n"
     ]
    },
    {
     "name": "stdout",
     "output_type": "stream",
     "text": [
      "Epoch 1/100\n",
      "   1/1719 [..............................] - ETA: 10:56 - loss: 2.5649 - accuracy: 0.0625"
     ]
    },
    {
     "name": "stderr",
     "output_type": "stream",
     "text": [
      "2022-11-25 03:22:34.774646: I tensorflow/core/profiler/lib/profiler_session.cc:131] Profiler session initializing.\n",
      "2022-11-25 03:22:34.774807: I tensorflow/core/profiler/lib/profiler_session.cc:146] Profiler session started.\n"
     ]
    },
    {
     "name": "stdout",
     "output_type": "stream",
     "text": [
      "  53/1719 [..............................] - ETA: 24s - loss: 1.1789 - accuracy: 0.6309"
     ]
    },
    {
     "name": "stderr",
     "output_type": "stream",
     "text": [
      "2022-11-25 03:22:35.350616: I tensorflow/core/profiler/lib/profiler_session.cc:66] Profiler session collecting data.\n",
      "2022-11-25 03:22:35.355658: I tensorflow/core/profiler/lib/profiler_session.cc:164] Profiler session tear down.\n",
      "2022-11-25 03:22:35.357744: I tensorflow/core/profiler/rpc/client/save_profile.cc:136] Creating directory: my_mnist_logs/run_001/train/plugins/profile/2022_11_25_03_22_35\n",
      "\n",
      "2022-11-25 03:22:35.358666: I tensorflow/core/profiler/rpc/client/save_profile.cc:142] Dumped gzipped tool data for trace.json.gz to my_mnist_logs/run_001/train/plugins/profile/2022_11_25_03_22_35/909636ce4a93.trace.json.gz\n",
      "2022-11-25 03:22:35.361250: I tensorflow/core/profiler/rpc/client/save_profile.cc:136] Creating directory: my_mnist_logs/run_001/train/plugins/profile/2022_11_25_03_22_35\n",
      "\n",
      "2022-11-25 03:22:35.361656: I tensorflow/core/profiler/rpc/client/save_profile.cc:142] Dumped gzipped tool data for memory_profile.json.gz to my_mnist_logs/run_001/train/plugins/profile/2022_11_25_03_22_35/909636ce4a93.memory_profile.json.gz\n",
      "2022-11-25 03:22:35.362020: I tensorflow/core/profiler/rpc/client/capture_profile.cc:251] Creating directory: my_mnist_logs/run_001/train/plugins/profile/2022_11_25_03_22_35\n",
      "Dumped tool data for xplane.pb to my_mnist_logs/run_001/train/plugins/profile/2022_11_25_03_22_35/909636ce4a93.xplane.pb\n",
      "Dumped tool data for overview_page.pb to my_mnist_logs/run_001/train/plugins/profile/2022_11_25_03_22_35/909636ce4a93.overview_page.pb\n",
      "Dumped tool data for input_pipeline.pb to my_mnist_logs/run_001/train/plugins/profile/2022_11_25_03_22_35/909636ce4a93.input_pipeline.pb\n",
      "Dumped tool data for tensorflow_stats.pb to my_mnist_logs/run_001/train/plugins/profile/2022_11_25_03_22_35/909636ce4a93.tensorflow_stats.pb\n",
      "Dumped tool data for kernel_stats.pb to my_mnist_logs/run_001/train/plugins/profile/2022_11_25_03_22_35/909636ce4a93.kernel_stats.pb\n",
      "\n"
     ]
    },
    {
     "name": "stdout",
     "output_type": "stream",
     "text": [
      "1719/1719 [==============================] - 7s 4ms/step - loss: 0.2356 - accuracy: 0.9263 - val_loss: 0.0995 - val_accuracy: 0.9724\n",
      "Epoch 2/100\n",
      "1719/1719 [==============================] - 6s 3ms/step - loss: 0.0942 - accuracy: 0.9707 - val_loss: 0.0996 - val_accuracy: 0.9708\n",
      "Epoch 3/100\n",
      "1719/1719 [==============================] - 7s 4ms/step - loss: 0.0655 - accuracy: 0.9793 - val_loss: 0.0753 - val_accuracy: 0.9772\n",
      "Epoch 4/100\n",
      "1719/1719 [==============================] - 6s 3ms/step - loss: 0.0482 - accuracy: 0.9847 - val_loss: 0.0815 - val_accuracy: 0.9784\n",
      "Epoch 5/100\n",
      "1719/1719 [==============================] - 7s 4ms/step - loss: 0.0348 - accuracy: 0.9887 - val_loss: 0.0739 - val_accuracy: 0.9798\n",
      "Epoch 6/100\n",
      "1719/1719 [==============================] - 6s 4ms/step - loss: 0.0298 - accuracy: 0.9905 - val_loss: 0.0676 - val_accuracy: 0.9826\n",
      "Epoch 7/100\n",
      "1719/1719 [==============================] - 6s 4ms/step - loss: 0.0235 - accuracy: 0.9921 - val_loss: 0.0829 - val_accuracy: 0.9792\n",
      "Epoch 8/100\n",
      "1719/1719 [==============================] - 6s 4ms/step - loss: 0.0213 - accuracy: 0.9931 - val_loss: 0.0904 - val_accuracy: 0.9762\n",
      "Epoch 9/100\n",
      "1719/1719 [==============================] - 5s 3ms/step - loss: 0.0158 - accuracy: 0.9954 - val_loss: 0.0886 - val_accuracy: 0.9810\n",
      "Epoch 10/100\n",
      "1719/1719 [==============================] - 5s 3ms/step - loss: 0.0141 - accuracy: 0.9955 - val_loss: 0.0847 - val_accuracy: 0.9818\n",
      "Epoch 11/100\n",
      "1719/1719 [==============================] - 5s 3ms/step - loss: 0.0077 - accuracy: 0.9975 - val_loss: 0.0797 - val_accuracy: 0.9832\n",
      "Epoch 12/100\n",
      "1719/1719 [==============================] - 6s 3ms/step - loss: 0.0102 - accuracy: 0.9968 - val_loss: 0.0988 - val_accuracy: 0.9776\n",
      "Epoch 13/100\n",
      "1719/1719 [==============================] - 6s 3ms/step - loss: 0.0117 - accuracy: 0.9962 - val_loss: 0.1075 - val_accuracy: 0.9756\n",
      "Epoch 14/100\n",
      "1719/1719 [==============================] - 6s 3ms/step - loss: 0.0093 - accuracy: 0.9970 - val_loss: 0.1014 - val_accuracy: 0.9798\n",
      "Epoch 15/100\n",
      "1719/1719 [==============================] - 5s 3ms/step - loss: 0.0059 - accuracy: 0.9981 - val_loss: 0.0889 - val_accuracy: 0.9838\n",
      "Epoch 16/100\n",
      "1719/1719 [==============================] - 5s 3ms/step - loss: 0.0051 - accuracy: 0.9984 - val_loss: 0.0957 - val_accuracy: 0.9820\n",
      "Epoch 17/100\n",
      "1719/1719 [==============================] - 5s 3ms/step - loss: 0.0105 - accuracy: 0.9968 - val_loss: 0.1133 - val_accuracy: 0.9816\n",
      "Epoch 18/100\n",
      "1719/1719 [==============================] - 5s 3ms/step - loss: 0.0122 - accuracy: 0.9960 - val_loss: 0.0977 - val_accuracy: 0.9814\n",
      "Epoch 19/100\n",
      "1719/1719 [==============================] - 6s 4ms/step - loss: 0.0136 - accuracy: 0.9960 - val_loss: 0.0997 - val_accuracy: 0.9810\n",
      "Epoch 20/100\n",
      "1719/1719 [==============================] - 5s 3ms/step - loss: 0.0054 - accuracy: 0.9983 - val_loss: 0.0959 - val_accuracy: 0.9828\n",
      "Epoch 21/100\n",
      "1719/1719 [==============================] - 6s 3ms/step - loss: 0.0023 - accuracy: 0.9993 - val_loss: 0.0942 - val_accuracy: 0.9850\n",
      "Epoch 22/100\n",
      "1719/1719 [==============================] - 6s 3ms/step - loss: 0.0014 - accuracy: 0.9995 - val_loss: 0.1008 - val_accuracy: 0.9836\n",
      "Epoch 23/100\n",
      "1719/1719 [==============================] - 6s 3ms/step - loss: 1.9746e-04 - accuracy: 1.0000 - val_loss: 0.0980 - val_accuracy: 0.9860\n",
      "Epoch 24/100\n",
      "1719/1719 [==============================] - 6s 3ms/step - loss: 6.9733e-05 - accuracy: 1.0000 - val_loss: 0.0991 - val_accuracy: 0.9866\n",
      "Epoch 25/100\n",
      "1719/1719 [==============================] - 7s 4ms/step - loss: 5.3753e-05 - accuracy: 1.0000 - val_loss: 0.0997 - val_accuracy: 0.9868\n",
      "Epoch 26/100\n",
      "1719/1719 [==============================] - 6s 4ms/step - loss: 4.5411e-05 - accuracy: 1.0000 - val_loss: 0.1004 - val_accuracy: 0.9868\n"
     ]
    }
   ],
   "source": [
    "early_stopping_cb = tf.keras.callbacks.EarlyStopping(patience=20)\n",
    "checkpoint_cb = tf.keras.callbacks.ModelCheckpoint(\"my_mnist_model\", save_best_only=True)\n",
    "tensorboard_cb = tf.keras.callbacks.TensorBoard(run_logdir)\n",
    "\n",
    "history = model.fit(X_train, y_train, epochs=100,\n",
    "                    validation_data=(X_valid, y_valid),\n",
    "                    callbacks=[checkpoint_cb, early_stopping_cb, tensorboard_cb])"
   ]
  },
  {
   "cell_type": "code",
   "execution_count": 128,
   "id": "fff09f09",
   "metadata": {
    "execution": {
     "iopub.execute_input": "2022-11-25T03:25:11.628222Z",
     "iopub.status.busy": "2022-11-25T03:25:11.627389Z",
     "iopub.status.idle": "2022-11-25T03:25:12.797575Z",
     "shell.execute_reply": "2022-11-25T03:25:12.796370Z"
    },
    "papermill": {
     "duration": 1.884736,
     "end_time": "2022-11-25T03:25:12.800522",
     "exception": false,
     "start_time": "2022-11-25T03:25:10.915786",
     "status": "completed"
    },
    "tags": []
   },
   "outputs": [
    {
     "name": "stdout",
     "output_type": "stream",
     "text": [
      "313/313 [==============================] - 1s 2ms/step - loss: 0.0731 - accuracy: 0.9799\n"
     ]
    },
    {
     "data": {
      "text/plain": [
       "[0.07312726229429245, 0.9799000024795532]"
      ]
     },
     "execution_count": 128,
     "metadata": {},
     "output_type": "execute_result"
    }
   ],
   "source": [
    "model = tf.keras.models.load_model(\"my_mnist_model\") # rollback to best model\n",
    "model.evaluate(X_test, y_test)"
   ]
  },
  {
   "cell_type": "markdown",
   "id": "6a63714f",
   "metadata": {
    "papermill": {
     "duration": 0.711695,
     "end_time": "2022-11-25T03:25:14.323604",
     "exception": false,
     "start_time": "2022-11-25T03:25:13.611909",
     "status": "completed"
    },
    "tags": []
   },
   "source": [
    "We got over 98% accuracy. Finally, let's look at the learning curves using TensorBoard:"
   ]
  },
  {
   "cell_type": "code",
   "execution_count": 129,
   "id": "b39c1f21",
   "metadata": {
    "execution": {
     "iopub.execute_input": "2022-11-25T03:25:15.849622Z",
     "iopub.status.busy": "2022-11-25T03:25:15.849161Z",
     "iopub.status.idle": "2022-11-25T03:25:19.917080Z",
     "shell.execute_reply": "2022-11-25T03:25:19.915461Z"
    },
    "papermill": {
     "duration": 4.874679,
     "end_time": "2022-11-25T03:25:19.919788",
     "exception": false,
     "start_time": "2022-11-25T03:25:15.045109",
     "status": "completed"
    },
    "tags": []
   },
   "outputs": [
    {
     "data": {
      "text/html": [
       "\n",
       "      <iframe id=\"tensorboard-frame-ef1b154f94d3b9dd\" width=\"100%\" height=\"800\" frameborder=\"0\">\n",
       "      </iframe>\n",
       "      <script>\n",
       "        (function() {\n",
       "          const frame = document.getElementById(\"tensorboard-frame-ef1b154f94d3b9dd\");\n",
       "          const url = new URL(\"/\", window.location);\n",
       "          const port = 6008;\n",
       "          if (port) {\n",
       "            url.port = port;\n",
       "          }\n",
       "          frame.src = url;\n",
       "        })();\n",
       "      </script>\n",
       "    "
      ],
      "text/plain": [
       "<IPython.core.display.HTML object>"
      ]
     },
     "metadata": {},
     "output_type": "display_data"
    }
   ],
   "source": [
    "%tensorboard --logdir=./my_mnist_logs"
   ]
  },
  {
   "cell_type": "code",
   "execution_count": null,
   "id": "eb4465b1",
   "metadata": {
    "papermill": {
     "duration": 0.802874,
     "end_time": "2022-11-25T03:25:21.437783",
     "exception": false,
     "start_time": "2022-11-25T03:25:20.634909",
     "status": "completed"
    },
    "tags": []
   },
   "outputs": [],
   "source": []
  }
 ],
 "metadata": {
  "kernelspec": {
   "display_name": "Python 3",
   "language": "python",
   "name": "python3"
  },
  "language_info": {
   "codemirror_mode": {
    "name": "ipython",
    "version": 3
   },
   "file_extension": ".py",
   "mimetype": "text/x-python",
   "name": "python",
   "nbconvert_exporter": "python",
   "pygments_lexer": "ipython3",
   "version": "3.7.12"
  },
  "papermill": {
   "default_parameters": {},
   "duration": 3677.423745,
   "end_time": "2022-11-25T03:25:24.795592",
   "environment_variables": {},
   "exception": null,
   "input_path": "__notebook__.ipynb",
   "output_path": "__notebook__.ipynb",
   "parameters": {},
   "start_time": "2022-11-25T02:24:07.371847",
   "version": "2.3.4"
  }
 },
 "nbformat": 4,
 "nbformat_minor": 5
}
